{
 "cells": [
  {
   "cell_type": "markdown",
   "metadata": {},
   "source": [
    "# Évolution des Émissions des Transports Routiers : Analyse et Visualisation\n",
    "\n",
    "L'étude des facteurs d'émissions des différents modes de transport routier est cruciale pour comprendre l'impact environnemental des transports. Les données utilisées proviennent de l'ADEME (Agence de l'Environnement et de la Maîtrise de l'Énergie) et sont disponibles à l'adresse https://data.ademe.fr/data-fair/api/v1/datasets/etude-facteurs-d'emissions-des-differents-modes-de-transport-routier/data-files/ADEME%20-%20FE_Transports%20routiers_v2.csv. Ce dataset contient des informations détaillées sur les émissions de polluants atmosphériques de différents types de véhicules routiers, organisées par année, type de véhicule, type de carburant, conditions de roulage et niveaux d'émissions de différents polluants.\n",
    "\n",
    "L'objectif de cette analyse est de calculer la moyenne des émissions de CO, HC, NOx et particules par type de véhicule et par année, en distinguant les types de roulage. Cela nous permettra de comprendre l'évolution des émissions des transports routiers et d'identifier les domaines où des améliorations sont nécessaires.\n",
    "\n",
    "\n",
    "## Méthodologie\n",
    "\n",
    "La méthodologie utilisée consiste à importer les données dans un notebook Jupyter, puis à les analyser à l'aide de requêtes SQL avec DuckDB. Les données sont ensuite visualisées sous forme de graphiques interactifs avec Plotly Express. La requête SQL utilisée permet de calculer la moyenne des émissions de polluants par type de véhicule et par année, en distinguant les types de roulage. Les résultats sont ensuite triés par année, type de véhicule et type de roulage.\n",
    "\n",
    "\n",
    "## Analyse et Visualisation\n",
    "\n",
    "Les résultats de l'analyse sont présentés sous forme de graphiques qui montrent l'évolution des émissions moyennes par type de véhicule et contexte de roulage.\n",
    "\n",
    "\n",
    "## Résultats\n",
    "\n",
    "Les graphiques montrent que les émissions de polluants varient considérablement en fonction du type de véhicule, de l'année et des conditions de roulage. Les résultats détaillés sont présentés dans les graphiques interactifs.\n",
    "\n",
    "\n",
    "## Conclusion\n",
    "\n",
    "Cette analyse a permis de comprendre l'évolution des émissions des transports routiers et d'identifier les domaines où des améliorations sont nécessaires. Les résultats de cette étude peuvent être utilisés pour éclairer les décisions politiques et les choix technologiques visant à réduire l'impact environnemental des transports."
   ]
  },
  {
   "cell_type": "markdown",
   "metadata": {},
   "source": [
    "## 🔧 Configuration"
   ]
  },
  {
   "cell_type": "code",
   "execution_count": 1,
   "metadata": {
    "execution": {
     "iopub.execute_input": "2025-08-21T09:57:12.629619Z",
     "iopub.status.busy": "2025-08-21T09:57:12.629619Z",
     "iopub.status.idle": "2025-08-21T09:57:13.311361Z",
     "shell.execute_reply": "2025-08-21T09:57:13.311361Z"
    }
   },
   "outputs": [],
   "source": [
    "# Installation et imports\n",
    "import duckdb as ddb\n",
    "import pandas as pd\n",
    "import plotly.express as px\n",
    "import plotly.graph_objects as go"
   ]
  },
  {
   "cell_type": "markdown",
   "metadata": {},
   "source": [
    "## 🦆 Chargement du dataset avec Duckdb"
   ]
  },
  {
   "cell_type": "code",
   "execution_count": 2,
   "metadata": {
    "execution": {
     "iopub.execute_input": "2025-08-21T09:57:13.311361Z",
     "iopub.status.busy": "2025-08-21T09:57:13.311361Z",
     "iopub.status.idle": "2025-08-21T09:57:14.632441Z",
     "shell.execute_reply": "2025-08-21T09:57:14.632441Z"
    }
   },
   "outputs": [
    {
     "name": "stdout",
     "output_type": "stream",
     "text": [
      "✅ Données chargées avec succès\n"
     ]
    }
   ],
   "source": [
    "# Fonction de chargement complète (basée sur load_file_from_url_lite)\n",
    "def load_file_from_url_lite(url_dataset=\"\", loader=\"read_csv_auto\", options=\"\", nom_table=\"loaded_dataset\", safe_mode=False):\n",
    "    ddb.execute(\"install spatial\")\n",
    "    ddb.execute(\"load spatial\")\n",
    "    ddb.execute(\"INSTALL h3 FROM community\")\n",
    "    ddb.execute(\"LOAD h3\")\n",
    "    ddb.execute(\"install webbed from community;\")\n",
    "    ddb.execute(\"load webbed\")\n",
    "    ddb.execute(\"set force_download=True\")\n",
    "    ddb.execute(f\"drop table if exists {nom_table}\")   \n",
    "    \n",
    "    # Détection automatique du type de fichier\n",
    "    if 'csv' in url_dataset: \n",
    "        loader = \"read_csv_auto\"\n",
    "    elif 'tsv' in url_dataset: \n",
    "        loader = \"read_csv_auto\"\n",
    "    elif 'txt' in url_dataset: \n",
    "        loader = \"read_csv_auto\"\n",
    "    elif 'parquet' in url_dataset: \n",
    "        loader = \"read_parquet\"\n",
    "    elif 'json' in url_dataset: \n",
    "        loader = \"read_json_auto\"\n",
    "    elif 'xls' in url_dataset or 'xlsx' in url_dataset: \n",
    "        loader = \"st_read\"\n",
    "    elif 'shp' in url_dataset: \n",
    "        loader = \"st_read\"\n",
    "    elif 'geojson' in url_dataset: \n",
    "        loader = \"st_read\"\n",
    "    elif 'xml' in url_dataset: \n",
    "        loader = \"read_xml\"\n",
    "    elif 'html' in url_dataset: \n",
    "        loader = \"read_html\"\n",
    "    else: \n",
    "        raise ValueError(f\"Type de fichier non supporté pour {url_dataset}\")\n",
    "    \n",
    "    if options==\"\": \n",
    "        options = \"\" \n",
    "    if 'csv' in url_dataset and safe_mode==True: \n",
    "        options = \", all_varchar=1\" \n",
    "    if nom_table==\"\": \n",
    "        nom_table = \"loaded_dataset\"\n",
    "    \n",
    "    try:\n",
    "        status = ddb.sql(f\"\"\"\n",
    "            create or replace table {nom_table} as select *\n",
    "            from\n",
    "            {loader}(\"{url_dataset}\" {options})\n",
    "        \"\"\")\n",
    "        return status\n",
    "    except Exception as e:\n",
    "        return f\"Erreur au chargement du fichier : {str(e)}\"\n",
    "\n",
    "def run_query(sql):\n",
    "    return ddb.sql(sql.replace(\"`\",\" \")).to_df()\n",
    "\n",
    "# Chargement des données\n",
    "load_file_from_url_lite(\"https://data.ademe.fr/data-fair/api/v1/datasets/etude-facteurs-d'emissions-des-differents-modes-de-transport-routier/data-files/ADEME%20-%20FE_Transports%20routiers_v2.csv\", safe_mode=True)\n",
    "print(\"✅ Données chargées avec succès\")"
   ]
  },
  {
   "cell_type": "markdown",
   "metadata": {},
   "source": [
    "## 🔍 Analyse SQL\n",
    "\n",
    "Cette requête utilise des techniques SQL pour extraire et transformer les données de manière efficace."
   ]
  },
  {
   "cell_type": "code",
   "execution_count": 3,
   "metadata": {
    "execution": {
     "iopub.execute_input": "2025-08-21T09:57:14.664151Z",
     "iopub.status.busy": "2025-08-21T09:57:14.664151Z",
     "iopub.status.idle": "2025-08-21T09:57:14.697195Z",
     "shell.execute_reply": "2025-08-21T09:57:14.695918Z"
    }
   },
   "outputs": [
    {
     "name": "stdout",
     "output_type": "stream",
     "text": [
      "Résultats : 176 lignes\n"
     ]
    },
    {
     "data": {
      "text/html": [
       "<div>\n",
       "<style scoped>\n",
       "    .dataframe tbody tr th:only-of-type {\n",
       "        vertical-align: middle;\n",
       "    }\n",
       "\n",
       "    .dataframe tbody tr th {\n",
       "        vertical-align: top;\n",
       "    }\n",
       "\n",
       "    .dataframe thead th {\n",
       "        text-align: right;\n",
       "    }\n",
       "</style>\n",
       "<table border=\"1\" class=\"dataframe\">\n",
       "  <thead>\n",
       "    <tr style=\"text-align: right;\">\n",
       "      <th></th>\n",
       "      <th>Année</th>\n",
       "      <th>Véhicule</th>\n",
       "      <th>Roulage</th>\n",
       "      <th>avg_CO</th>\n",
       "      <th>avg_HC</th>\n",
       "      <th>avg_NOx</th>\n",
       "      <th>avg_particules</th>\n",
       "    </tr>\n",
       "  </thead>\n",
       "  <tbody>\n",
       "    <tr>\n",
       "      <th>0</th>\n",
       "      <td>2020</td>\n",
       "      <td>2RM</td>\n",
       "      <td>France</td>\n",
       "      <td>2.696</td>\n",
       "      <td>0.429</td>\n",
       "      <td>0.111</td>\n",
       "      <td>0.030</td>\n",
       "    </tr>\n",
       "    <tr>\n",
       "      <th>1</th>\n",
       "      <td>2020</td>\n",
       "      <td>2RM</td>\n",
       "      <td>Rural</td>\n",
       "      <td>3.438</td>\n",
       "      <td>0.400</td>\n",
       "      <td>0.123</td>\n",
       "      <td>0.029</td>\n",
       "    </tr>\n",
       "    <tr>\n",
       "      <th>2</th>\n",
       "      <td>2020</td>\n",
       "      <td>2RM</td>\n",
       "      <td>Urbain</td>\n",
       "      <td>1.572</td>\n",
       "      <td>0.458</td>\n",
       "      <td>0.090</td>\n",
       "      <td>0.031</td>\n",
       "    </tr>\n",
       "    <tr>\n",
       "      <th>3</th>\n",
       "      <td>2020</td>\n",
       "      <td>Autocar</td>\n",
       "      <td>France</td>\n",
       "      <td>1.315</td>\n",
       "      <td>0.092</td>\n",
       "      <td>3.502</td>\n",
       "      <td>0.055</td>\n",
       "    </tr>\n",
       "    <tr>\n",
       "      <th>4</th>\n",
       "      <td>2020</td>\n",
       "      <td>Autocar</td>\n",
       "      <td>Rural</td>\n",
       "      <td>0.984</td>\n",
       "      <td>0.072</td>\n",
       "      <td>2.534</td>\n",
       "      <td>0.043</td>\n",
       "    </tr>\n",
       "  </tbody>\n",
       "</table>\n",
       "</div>"
      ],
      "text/plain": [
       "  Année Véhicule Roulage  avg_CO  avg_HC  avg_NOx  avg_particules\n",
       "0  2020      2RM  France   2.696   0.429    0.111           0.030\n",
       "1  2020      2RM   Rural   3.438   0.400    0.123           0.029\n",
       "2  2020      2RM  Urbain   1.572   0.458    0.090           0.031\n",
       "3  2020  Autocar  France   1.315   0.092    3.502           0.055\n",
       "4  2020  Autocar   Rural   0.984   0.072    2.534           0.043"
      ]
     },
     "execution_count": 3,
     "metadata": {},
     "output_type": "execute_result"
    }
   ],
   "source": [
    "# Exécution de la requête\n",
    "df = run_query(\"\"\" SELECT \n",
    "  \"Année\", \n",
    "  \"Véhicule\", \n",
    "  \"Roulage\", \n",
    "  AVG(CAST(\"CO (g/km)\" AS DOUBLE)) AS avg_CO,\n",
    "  AVG(CAST(\"HC (g/km)\" AS DOUBLE)) AS avg_HC,\n",
    "  AVG(CAST(\"NOx (g/km)\" AS DOUBLE)) AS avg_NOx,\n",
    "  AVG(CAST(\"Particules (g/km)\" AS DOUBLE)) AS avg_particules\n",
    "FROM \n",
    "  loaded_dataset\n",
    "GROUP BY \n",
    "  \"Année\", \n",
    "  \"Véhicule\", \n",
    "  \"Roulage\"\n",
    "ORDER BY \n",
    "  \"Année\", \n",
    "  \"Véhicule\", \n",
    "  \"Roulage\" \"\"\")\n",
    "print(f\"Résultats : {len(df)} lignes\")\n",
    "df.head()"
   ]
  },
  {
   "cell_type": "markdown",
   "metadata": {},
   "source": [
    "## 📈 Visualisation\n",
    "\n",
    "La bibliothèque principale utilisée est Plotly Express, qui est une surcouche de Plotly, idéale pour créer des visualisations interactives complexes de manière simple et intuitive. Plotly Express est adaptée ici pour représenter l'évolution des émissions moyennes de polluants par type de véhicule et contexte de roulage, avec une grande interactivité et des options de personnalisation. Cela permet une lecture détaillée et comparative des données."
   ]
  },
  {
   "cell_type": "code",
   "execution_count": 4,
   "metadata": {
    "execution": {
     "iopub.execute_input": "2025-08-21T09:57:14.698710Z",
     "iopub.status.busy": "2025-08-21T09:57:14.698710Z",
     "iopub.status.idle": "2025-08-21T09:57:16.938342Z",
     "shell.execute_reply": "2025-08-21T09:57:16.938342Z"
    }
   },
   "outputs": [
    {
     "data": {
      "application/vnd.plotly.v1+json": {
       "config": {
        "plotlyServerURL": "https://plot.ly"
       },
       "data": [
        {
         "customdata": [
          [
           "France",
           "2RM"
          ],
          [
           "France",
           "2RM"
          ],
          [
           "France",
           "2RM"
          ],
          [
           "France",
           "2RM"
          ],
          [
           "France",
           "2RM"
          ],
          [
           "France",
           "2RM"
          ],
          [
           "France",
           "2RM"
          ],
          [
           "France",
           "2RM"
          ],
          [
           "France",
           "2RM"
          ],
          [
           "France",
           "2RM"
          ],
          [
           "France",
           "2RM"
          ]
         ],
         "hovertemplate": "<b>%{fullData.name}</b><br>Année : %{x}<br>Émissions : <b>%{y:.3f}</b> g/km<br>Roulage : %{customdata[0]}<extra></extra>",
         "legendgroup": "2RM",
         "line": {
          "color": "#636efa",
          "dash": "solid",
          "shape": "spline"
         },
         "marker": {
          "symbol": "circle"
         },
         "mode": "lines+markers",
         "name": "2RM",
         "orientation": "v",
         "showlegend": true,
         "type": "scatter",
         "x": [
          "2020",
          "2021",
          "2022",
          "2023",
          "2024",
          "2025",
          "2026",
          "2027",
          "2028",
          "2029",
          "2030"
         ],
         "xaxis": "x",
         "y": {
          "bdata": "xSCwcmiRBUDy0k1iEFgDQJHtfD81XgFAnu+nxks3/z+q8dJNYhD8P57vp8ZLN/k/eekmMQis9j8QWDm0yHb0P6abxCCwcvI/46WbxCCw8D9mZmZmZmbuPw==",
          "dtype": "f8"
         },
         "yaxis": "y"
        },
        {
         "customdata": [
          [
           "France",
           "2RM"
          ],
          [
           "France",
           "2RM"
          ],
          [
           "France",
           "2RM"
          ],
          [
           "France",
           "2RM"
          ],
          [
           "France",
           "2RM"
          ],
          [
           "France",
           "2RM"
          ],
          [
           "France",
           "2RM"
          ],
          [
           "France",
           "2RM"
          ],
          [
           "France",
           "2RM"
          ],
          [
           "France",
           "2RM"
          ],
          [
           "France",
           "2RM"
          ]
         ],
         "hovertemplate": "<b>%{fullData.name}</b><br>Année : %{x}<br>Émissions : <b>%{y:.3f}</b> g/km<br>Roulage : %{customdata[0]}<extra></extra>",
         "legendgroup": "2RM",
         "line": {
          "color": "#636efa",
          "dash": "solid",
          "shape": "spline"
         },
         "marker": {
          "symbol": "circle"
         },
         "mode": "lines+markers",
         "name": "2RM",
         "orientation": "v",
         "showlegend": false,
         "type": "scatter",
         "x": [
          "2020",
          "2021",
          "2022",
          "2023",
          "2024",
          "2025",
          "2026",
          "2027",
          "2028",
          "2029",
          "2030"
         ],
         "xaxis": "x",
         "y": {
          "bdata": "2/l+arx02z9I4XoUrkfZP7Kd76fGS9c/x0s3iUFg1T/b+X5qvHTTP5zEILByaNE/uB6F61G4zj81XrpJDALLPwIrhxbZzsc/y6FFtvP9xD83iUFg5dDCPw==",
          "dtype": "f8"
         },
         "yaxis": "y"
        },
        {
         "customdata": [
          [
           "France",
           "2RM"
          ],
          [
           "France",
           "2RM"
          ],
          [
           "France",
           "2RM"
          ],
          [
           "France",
           "2RM"
          ],
          [
           "France",
           "2RM"
          ],
          [
           "France",
           "2RM"
          ],
          [
           "France",
           "2RM"
          ],
          [
           "France",
           "2RM"
          ],
          [
           "France",
           "2RM"
          ],
          [
           "France",
           "2RM"
          ],
          [
           "France",
           "2RM"
          ]
         ],
         "hovertemplate": "<b>%{fullData.name}</b><br>Année : %{x}<br>Émissions : <b>%{y:.3f}</b> g/km<br>Roulage : %{customdata[0]}<extra></extra>",
         "legendgroup": "2RM",
         "line": {
          "color": "#636efa",
          "dash": "solid",
          "shape": "spline"
         },
         "marker": {
          "symbol": "circle"
         },
         "mode": "lines+markers",
         "name": "2RM",
         "orientation": "v",
         "showlegend": false,
         "type": "scatter",
         "x": [
          "2020",
          "2021",
          "2022",
          "2023",
          "2024",
          "2025",
          "2026",
          "2027",
          "2028",
          "2029",
          "2030"
         ],
         "xaxis": "x",
         "y": {
          "bdata": "0SLb+X5qvD9KDAIrhxa5PxKDwMqhRbY/g8DKoUW2sz+cxCCwcmixPwisHFpkO68/2c73U+Olqz9KDAIrhxapP2q8dJMYBKY/K4cW2c73oz/sUbgeheuhPw==",
          "dtype": "f8"
         },
         "yaxis": "y"
        },
        {
         "customdata": [
          [
           "France",
           "2RM"
          ],
          [
           "France",
           "2RM"
          ],
          [
           "France",
           "2RM"
          ],
          [
           "France",
           "2RM"
          ],
          [
           "France",
           "2RM"
          ],
          [
           "France",
           "2RM"
          ],
          [
           "France",
           "2RM"
          ],
          [
           "France",
           "2RM"
          ],
          [
           "France",
           "2RM"
          ],
          [
           "France",
           "2RM"
          ],
          [
           "France",
           "2RM"
          ]
         ],
         "hovertemplate": "<b>%{fullData.name}</b><br>Année : %{x}<br>Émissions : <b>%{y:.3f}</b> g/km<br>Roulage : %{customdata[0]}<extra></extra>",
         "legendgroup": "2RM",
         "line": {
          "color": "#636efa",
          "dash": "solid",
          "shape": "spline"
         },
         "marker": {
          "symbol": "circle"
         },
         "mode": "lines+markers",
         "name": "2RM",
         "orientation": "v",
         "showlegend": false,
         "type": "scatter",
         "x": [
          "2020",
          "2021",
          "2022",
          "2023",
          "2024",
          "2025",
          "2026",
          "2027",
          "2028",
          "2029",
          "2030"
         ],
         "xaxis": "x",
         "y": {
          "bdata": "uB6F61G4nj9YObTIdr6fP0w3iUFg5aA/nMQgsHJooT+cxCCwcmihP5zEILByaKE/nMQgsHJooT+cxCCwcmihP5zEILByaKE/nMQgsHJooT9MN4lBYOWgPw==",
          "dtype": "f8"
         },
         "yaxis": "y"
        },
        {
         "customdata": [
          [
           "Rural",
           "2RM"
          ],
          [
           "Rural",
           "2RM"
          ],
          [
           "Rural",
           "2RM"
          ],
          [
           "Rural",
           "2RM"
          ],
          [
           "Rural",
           "2RM"
          ],
          [
           "Rural",
           "2RM"
          ],
          [
           "Rural",
           "2RM"
          ],
          [
           "Rural",
           "2RM"
          ],
          [
           "Rural",
           "2RM"
          ],
          [
           "Rural",
           "2RM"
          ],
          [
           "Rural",
           "2RM"
          ]
         ],
         "hovertemplate": "<b>%{fullData.name}</b><br>Année : %{x}<br>Émissions : <b>%{y:.3f}</b> g/km<br>Roulage : %{customdata[0]}<extra></extra>",
         "legendgroup": "2RM",
         "line": {
          "color": "#636efa",
          "dash": "solid",
          "shape": "spline"
         },
         "marker": {
          "symbol": "circle"
         },
         "mode": "lines+markers",
         "name": "2RM",
         "orientation": "v",
         "showlegend": false,
         "type": "scatter",
         "x": [
          "2020",
          "2021",
          "2022",
          "2023",
          "2024",
          "2025",
          "2026",
          "2027",
          "2028",
          "2029",
          "2030"
         ],
         "xaxis": "x2",
         "y": {
          "bdata": "Gy/dJAaBC0CkcD0K16MIQOkmMQisHAZAd76fGi/dA0B3vp8aL90BQBSuR+F6FABAy6FFtvP9/D89CtejcD36P+58PzVeuvc/hetRuB6F9T/ZzvdT46XzPw==",
          "dtype": "f8"
         },
         "yaxis": "y2"
        },
        {
         "customdata": [
          [
           "Rural",
           "2RM"
          ],
          [
           "Rural",
           "2RM"
          ],
          [
           "Rural",
           "2RM"
          ],
          [
           "Rural",
           "2RM"
          ],
          [
           "Rural",
           "2RM"
          ],
          [
           "Rural",
           "2RM"
          ],
          [
           "Rural",
           "2RM"
          ],
          [
           "Rural",
           "2RM"
          ],
          [
           "Rural",
           "2RM"
          ],
          [
           "Rural",
           "2RM"
          ],
          [
           "Rural",
           "2RM"
          ]
         ],
         "hovertemplate": "<b>%{fullData.name}</b><br>Année : %{x}<br>Émissions : <b>%{y:.3f}</b> g/km<br>Roulage : %{customdata[0]}<extra></extra>",
         "legendgroup": "2RM",
         "line": {
          "color": "#636efa",
          "dash": "solid",
          "shape": "spline"
         },
         "marker": {
          "symbol": "circle"
         },
         "mode": "lines+markers",
         "name": "2RM",
         "orientation": "v",
         "showlegend": false,
         "type": "scatter",
         "x": [
          "2020",
          "2021",
          "2022",
          "2023",
          "2024",
          "2025",
          "2026",
          "2027",
          "2028",
          "2029",
          "2030"
         ],
         "xaxis": "x2",
         "y": {
          "bdata": "mpmZmZmZ2T9YObTIdr7XP2q8dJMYBNY/JzEIrBxa1D+PwvUoXI/SP05iEFg5tNA/GQRWDi2yzT89CtejcD3KP166SQwCK8c/z/dT46WbxD/jpZvEILDCPw==",
          "dtype": "f8"
         },
         "yaxis": "y2"
        },
        {
         "customdata": [
          [
           "Rural",
           "2RM"
          ],
          [
           "Rural",
           "2RM"
          ],
          [
           "Rural",
           "2RM"
          ],
          [
           "Rural",
           "2RM"
          ],
          [
           "Rural",
           "2RM"
          ],
          [
           "Rural",
           "2RM"
          ],
          [
           "Rural",
           "2RM"
          ],
          [
           "Rural",
           "2RM"
          ],
          [
           "Rural",
           "2RM"
          ],
          [
           "Rural",
           "2RM"
          ],
          [
           "Rural",
           "2RM"
          ]
         ],
         "hovertemplate": "<b>%{fullData.name}</b><br>Année : %{x}<br>Émissions : <b>%{y:.3f}</b> g/km<br>Roulage : %{customdata[0]}<extra></extra>",
         "legendgroup": "2RM",
         "line": {
          "color": "#636efa",
          "dash": "solid",
          "shape": "spline"
         },
         "marker": {
          "symbol": "circle"
         },
         "mode": "lines+markers",
         "name": "2RM",
         "orientation": "v",
         "showlegend": false,
         "type": "scatter",
         "x": [
          "2020",
          "2021",
          "2022",
          "2023",
          "2024",
          "2025",
          "2026",
          "2027",
          "2028",
          "2029",
          "2030"
         ],
         "xaxis": "x2",
         "y": {
          "bdata": "sHJoke18vz+BlUOLbOe7P6JFtvP91Lg/arx0kxgEtj+DwMqhRbazP0SLbOf7qbE/WDm0yHa+rz956SYxCKysP5qZmZmZmak/CtejcD0Kpz/LoUW28/2kPw==",
          "dtype": "f8"
         },
         "yaxis": "y2"
        },
        {
         "customdata": [
          [
           "Rural",
           "2RM"
          ],
          [
           "Rural",
           "2RM"
          ],
          [
           "Rural",
           "2RM"
          ],
          [
           "Rural",
           "2RM"
          ],
          [
           "Rural",
           "2RM"
          ],
          [
           "Rural",
           "2RM"
          ],
          [
           "Rural",
           "2RM"
          ],
          [
           "Rural",
           "2RM"
          ],
          [
           "Rural",
           "2RM"
          ],
          [
           "Rural",
           "2RM"
          ],
          [
           "Rural",
           "2RM"
          ]
         ],
         "hovertemplate": "<b>%{fullData.name}</b><br>Année : %{x}<br>Émissions : <b>%{y:.3f}</b> g/km<br>Roulage : %{customdata[0]}<extra></extra>",
         "legendgroup": "2RM",
         "line": {
          "color": "#636efa",
          "dash": "solid",
          "shape": "spline"
         },
         "marker": {
          "symbol": "circle"
         },
         "mode": "lines+markers",
         "name": "2RM",
         "orientation": "v",
         "showlegend": false,
         "type": "scatter",
         "x": [
          "2020",
          "2021",
          "2022",
          "2023",
          "2024",
          "2025",
          "2026",
          "2027",
          "2028",
          "2029",
          "2030"
         ],
         "xaxis": "x2",
         "y": {
          "bdata": "GQRWDi2ynT+4HoXrUbieP/yp8dJNYqA/TDeJQWDloD9MN4lBYOWgP5zEILByaKE/TDeJQWDloD9MN4lBYOWgP0w3iUFg5aA/TDeJQWDloD9MN4lBYOWgPw==",
          "dtype": "f8"
         },
         "yaxis": "y2"
        },
        {
         "customdata": [
          [
           "Urbain",
           "2RM"
          ],
          [
           "Urbain",
           "2RM"
          ],
          [
           "Urbain",
           "2RM"
          ],
          [
           "Urbain",
           "2RM"
          ],
          [
           "Urbain",
           "2RM"
          ],
          [
           "Urbain",
           "2RM"
          ],
          [
           "Urbain",
           "2RM"
          ],
          [
           "Urbain",
           "2RM"
          ],
          [
           "Urbain",
           "2RM"
          ],
          [
           "Urbain",
           "2RM"
          ],
          [
           "Urbain",
           "2RM"
          ]
         ],
         "hovertemplate": "<b>%{fullData.name}</b><br>Année : %{x}<br>Émissions : <b>%{y:.3f}</b> g/km<br>Roulage : %{customdata[0]}<extra></extra>",
         "legendgroup": "2RM",
         "line": {
          "color": "#636efa",
          "dash": "solid",
          "shape": "spline"
         },
         "marker": {
          "symbol": "circle"
         },
         "mode": "lines+markers",
         "name": "2RM",
         "orientation": "v",
         "showlegend": false,
         "type": "scatter",
         "x": [
          "2020",
          "2021",
          "2022",
          "2023",
          "2024",
          "2025",
          "2026",
          "2027",
          "2028",
          "2029",
          "2030"
         ],
         "xaxis": "x3",
         "y": {
          "bdata": "9P3UeOkm+T+kcD0K16P2P/yp8dJNYvQ/vHSTGARW8j8QWDm0yHbwP0a28/3UeO0/5/up8dJN6j+wcmiR7XznP8uhRbbz/eQ/N4lBYOXQ4j+gGi/dJAbhPw==",
          "dtype": "f8"
         },
         "yaxis": "y3"
        },
        {
         "customdata": [
          [
           "Urbain",
           "2RM"
          ],
          [
           "Urbain",
           "2RM"
          ],
          [
           "Urbain",
           "2RM"
          ],
          [
           "Urbain",
           "2RM"
          ],
          [
           "Urbain",
           "2RM"
          ],
          [
           "Urbain",
           "2RM"
          ],
          [
           "Urbain",
           "2RM"
          ],
          [
           "Urbain",
           "2RM"
          ],
          [
           "Urbain",
           "2RM"
          ],
          [
           "Urbain",
           "2RM"
          ],
          [
           "Urbain",
           "2RM"
          ]
         ],
         "hovertemplate": "<b>%{fullData.name}</b><br>Année : %{x}<br>Émissions : <b>%{y:.3f}</b> g/km<br>Roulage : %{customdata[0]}<extra></extra>",
         "legendgroup": "2RM",
         "line": {
          "color": "#636efa",
          "dash": "solid",
          "shape": "spline"
         },
         "marker": {
          "symbol": "circle"
         },
         "mode": "lines+markers",
         "name": "2RM",
         "orientation": "v",
         "showlegend": false,
         "type": "scatter",
         "x": [
          "2020",
          "2021",
          "2022",
          "2023",
          "2024",
          "2025",
          "2026",
          "2027",
          "2028",
          "2029",
          "2030"
         ],
         "xaxis": "x3",
         "y": {
          "bdata": "HVpkO99P3T83iUFg5dDaP1CNl24Sg9g/ZmZmZmZm1j8pXI/C9SjUP+xRuB6F69E/sHJoke18zz+F61G4HoXLP1YOLbKd78c/y6FFtvP9xD+PwvUoXI/CPw==",
          "dtype": "f8"
         },
         "yaxis": "y3"
        },
        {
         "customdata": [
          [
           "Urbain",
           "2RM"
          ],
          [
           "Urbain",
           "2RM"
          ],
          [
           "Urbain",
           "2RM"
          ],
          [
           "Urbain",
           "2RM"
          ],
          [
           "Urbain",
           "2RM"
          ],
          [
           "Urbain",
           "2RM"
          ],
          [
           "Urbain",
           "2RM"
          ],
          [
           "Urbain",
           "2RM"
          ],
          [
           "Urbain",
           "2RM"
          ],
          [
           "Urbain",
           "2RM"
          ],
          [
           "Urbain",
           "2RM"
          ]
         ],
         "hovertemplate": "<b>%{fullData.name}</b><br>Année : %{x}<br>Émissions : <b>%{y:.3f}</b> g/km<br>Roulage : %{customdata[0]}<extra></extra>",
         "legendgroup": "2RM",
         "line": {
          "color": "#636efa",
          "dash": "solid",
          "shape": "spline"
         },
         "marker": {
          "symbol": "circle"
         },
         "mode": "lines+markers",
         "name": "2RM",
         "orientation": "v",
         "showlegend": false,
         "type": "scatter",
         "x": [
          "2020",
          "2021",
          "2022",
          "2023",
          "2024",
          "2025",
          "2026",
          "2027",
          "2028",
          "2029",
          "2030"
         ],
         "xaxis": "x3",
         "y": {
          "bdata": "CtejcD0Ktz/TTWIQWDm0P0SLbOf7qbE/CKwcWmQ7rz/ZzvdT46WrP6rx0k1iEKg/Gy/dJAaBpT+LbOf7qfGiP0w3iUFg5aA/GQRWDi2ynT+amZmZmZmZPw==",
          "dtype": "f8"
         },
         "yaxis": "y3"
        },
        {
         "customdata": [
          [
           "Urbain",
           "2RM"
          ],
          [
           "Urbain",
           "2RM"
          ],
          [
           "Urbain",
           "2RM"
          ],
          [
           "Urbain",
           "2RM"
          ],
          [
           "Urbain",
           "2RM"
          ],
          [
           "Urbain",
           "2RM"
          ],
          [
           "Urbain",
           "2RM"
          ],
          [
           "Urbain",
           "2RM"
          ],
          [
           "Urbain",
           "2RM"
          ],
          [
           "Urbain",
           "2RM"
          ],
          [
           "Urbain",
           "2RM"
          ]
         ],
         "hovertemplate": "<b>%{fullData.name}</b><br>Année : %{x}<br>Émissions : <b>%{y:.3f}</b> g/km<br>Roulage : %{customdata[0]}<extra></extra>",
         "legendgroup": "2RM",
         "line": {
          "color": "#636efa",
          "dash": "solid",
          "shape": "spline"
         },
         "marker": {
          "symbol": "circle"
         },
         "mode": "lines+markers",
         "name": "2RM",
         "orientation": "v",
         "showlegend": false,
         "type": "scatter",
         "x": [
          "2020",
          "2021",
          "2022",
          "2023",
          "2024",
          "2025",
          "2026",
          "2027",
          "2028",
          "2029",
          "2030"
         ],
         "xaxis": "x3",
         "y": {
          "bdata": "WDm0yHa+nz/8qfHSTWKgP5zEILByaKE/7FG4HoXroT/sUbgeheuhP+xRuB6F66E/7FG4HoXroT/sUbgeheuhP+xRuB6F66E/nMQgsHJooT+cxCCwcmihPw==",
          "dtype": "f8"
         },
         "yaxis": "y3"
        },
        {
         "customdata": [
          [
           "France",
           "Autocar"
          ],
          [
           "France",
           "Autocar"
          ],
          [
           "France",
           "Autocar"
          ],
          [
           "France",
           "Autocar"
          ],
          [
           "France",
           "Autocar"
          ],
          [
           "France",
           "Autocar"
          ],
          [
           "France",
           "Autocar"
          ],
          [
           "France",
           "Autocar"
          ],
          [
           "France",
           "Autocar"
          ],
          [
           "France",
           "Autocar"
          ],
          [
           "France",
           "Autocar"
          ]
         ],
         "hovertemplate": "<b>%{fullData.name}</b><br>Année : %{x}<br>Émissions : <b>%{y:.3f}</b> g/km<br>Roulage : %{customdata[0]}<extra></extra>",
         "legendgroup": "Autocar",
         "line": {
          "color": "#EF553B",
          "dash": "solid",
          "shape": "spline"
         },
         "marker": {
          "symbol": "circle"
         },
         "mode": "lines+markers",
         "name": "Autocar",
         "orientation": "v",
         "showlegend": true,
         "type": "scatter",
         "x": [
          "2020",
          "2021",
          "2022",
          "2023",
          "2024",
          "2025",
          "2026",
          "2027",
          "2028",
          "2029",
          "2030"
         ],
         "xaxis": "x",
         "y": {
          "bdata": "CtejcD0K9T9U46WbxCDyPylcj8L1KPA/+FPjpZvE7D/wp8ZLN4npPw4tsp3vp+Y/qvHSTWIQ5D/D9Shcj8LhP7ByaJHtfN8/gZVDi2zn2z+iRbbz/dTYPw==",
          "dtype": "f8"
         },
         "yaxis": "y"
        },
        {
         "customdata": [
          [
           "France",
           "Autocar"
          ],
          [
           "France",
           "Autocar"
          ],
          [
           "France",
           "Autocar"
          ],
          [
           "France",
           "Autocar"
          ],
          [
           "France",
           "Autocar"
          ],
          [
           "France",
           "Autocar"
          ],
          [
           "France",
           "Autocar"
          ],
          [
           "France",
           "Autocar"
          ],
          [
           "France",
           "Autocar"
          ],
          [
           "France",
           "Autocar"
          ],
          [
           "France",
           "Autocar"
          ]
         ],
         "hovertemplate": "<b>%{fullData.name}</b><br>Année : %{x}<br>Émissions : <b>%{y:.3f}</b> g/km<br>Roulage : %{customdata[0]}<extra></extra>",
         "legendgroup": "Autocar",
         "line": {
          "color": "#EF553B",
          "dash": "solid",
          "shape": "spline"
         },
         "marker": {
          "symbol": "circle"
         },
         "mode": "lines+markers",
         "name": "Autocar",
         "orientation": "v",
         "showlegend": false,
         "type": "scatter",
         "x": [
          "2020",
          "2021",
          "2022",
          "2023",
          "2024",
          "2025",
          "2026",
          "2027",
          "2028",
          "2029",
          "2030"
         ],
         "xaxis": "x",
         "y": {
          "bdata": "WmQ730+Ntz8rhxbZzvezP6RwPQrXo7A/KVyPwvUorD9aZDvfT42nPyuHFtnO96M/TDeJQWDloD8ZBFYOLbKdP9nO91PjpZs/mpmZmZmZmT9aZDvfT42XPw==",
          "dtype": "f8"
         },
         "yaxis": "y"
        },
        {
         "customdata": [
          [
           "France",
           "Autocar"
          ],
          [
           "France",
           "Autocar"
          ],
          [
           "France",
           "Autocar"
          ],
          [
           "France",
           "Autocar"
          ],
          [
           "France",
           "Autocar"
          ],
          [
           "France",
           "Autocar"
          ],
          [
           "France",
           "Autocar"
          ],
          [
           "France",
           "Autocar"
          ],
          [
           "France",
           "Autocar"
          ],
          [
           "France",
           "Autocar"
          ],
          [
           "France",
           "Autocar"
          ]
         ],
         "hovertemplate": "<b>%{fullData.name}</b><br>Année : %{x}<br>Émissions : <b>%{y:.3f}</b> g/km<br>Roulage : %{customdata[0]}<extra></extra>",
         "legendgroup": "Autocar",
         "line": {
          "color": "#EF553B",
          "dash": "solid",
          "shape": "spline"
         },
         "marker": {
          "symbol": "circle"
         },
         "mode": "lines+markers",
         "name": "Autocar",
         "orientation": "v",
         "showlegend": false,
         "type": "scatter",
         "x": [
          "2020",
          "2021",
          "2022",
          "2023",
          "2024",
          "2025",
          "2026",
          "2027",
          "2028",
          "2029",
          "2030"
         ],
         "xaxis": "x",
         "y": {
          "bdata": "arx0kxgEDECamZmZmZkIQNejcD0K1wVA0SLb+X5qA0B9PzVeukkBQCGwcmiR7f4/LbKd76fG+z+0yHa+nxr5P+F6FK5H4fY/y6FFtvP99D9cj8L1KFzzPw==",
          "dtype": "f8"
         },
         "yaxis": "y"
        },
        {
         "customdata": [
          [
           "France",
           "Autocar"
          ],
          [
           "France",
           "Autocar"
          ],
          [
           "France",
           "Autocar"
          ],
          [
           "France",
           "Autocar"
          ],
          [
           "France",
           "Autocar"
          ],
          [
           "France",
           "Autocar"
          ],
          [
           "France",
           "Autocar"
          ],
          [
           "France",
           "Autocar"
          ],
          [
           "France",
           "Autocar"
          ],
          [
           "France",
           "Autocar"
          ],
          [
           "France",
           "Autocar"
          ]
         ],
         "hovertemplate": "<b>%{fullData.name}</b><br>Année : %{x}<br>Émissions : <b>%{y:.3f}</b> g/km<br>Roulage : %{customdata[0]}<extra></extra>",
         "legendgroup": "Autocar",
         "line": {
          "color": "#EF553B",
          "dash": "solid",
          "shape": "spline"
         },
         "marker": {
          "symbol": "circle"
         },
         "mode": "lines+markers",
         "name": "Autocar",
         "orientation": "v",
         "showlegend": false,
         "type": "scatter",
         "x": [
          "2020",
          "2021",
          "2022",
          "2023",
          "2024",
          "2025",
          "2026",
          "2027",
          "2028",
          "2029",
          "2030"
         ],
         "xaxis": "x",
         "y": {
          "bdata": "KVyPwvUorD+q8dJNYhCoP3sUrkfheqQ/7FG4HoXroT+4HoXrUbiePzm0yHa+n5o/WmQ730+Nlz97FK5H4XqUPzvfT42XbpI/nMQgsHJokT/8qfHSTWKQPw==",
          "dtype": "f8"
         },
         "yaxis": "y"
        },
        {
         "customdata": [
          [
           "Rural",
           "Autocar"
          ],
          [
           "Rural",
           "Autocar"
          ],
          [
           "Rural",
           "Autocar"
          ],
          [
           "Rural",
           "Autocar"
          ],
          [
           "Rural",
           "Autocar"
          ],
          [
           "Rural",
           "Autocar"
          ],
          [
           "Rural",
           "Autocar"
          ],
          [
           "Rural",
           "Autocar"
          ],
          [
           "Rural",
           "Autocar"
          ],
          [
           "Rural",
           "Autocar"
          ],
          [
           "Rural",
           "Autocar"
          ]
         ],
         "hovertemplate": "<b>%{fullData.name}</b><br>Année : %{x}<br>Émissions : <b>%{y:.3f}</b> g/km<br>Roulage : %{customdata[0]}<extra></extra>",
         "legendgroup": "Autocar",
         "line": {
          "color": "#EF553B",
          "dash": "solid",
          "shape": "spline"
         },
         "marker": {
          "symbol": "circle"
         },
         "mode": "lines+markers",
         "name": "Autocar",
         "orientation": "v",
         "showlegend": false,
         "type": "scatter",
         "x": [
          "2020",
          "2021",
          "2022",
          "2023",
          "2024",
          "2025",
          "2026",
          "2027",
          "2028",
          "2029",
          "2030"
         ],
         "xaxis": "x2",
         "y": {
          "bdata": "sHJoke187z/+1HjpJjHsP8l2vp8aL+k/O99PjZdu5j8rhxbZzvfjP+58PzVeuuE/sHJoke183z+BlUOLbOfbP6JFtvP91Ng/FK5H4XoU1j/ZzvdT46XTPw==",
          "dtype": "f8"
         },
         "yaxis": "y2"
        },
        {
         "customdata": [
          [
           "Rural",
           "Autocar"
          ],
          [
           "Rural",
           "Autocar"
          ],
          [
           "Rural",
           "Autocar"
          ],
          [
           "Rural",
           "Autocar"
          ],
          [
           "Rural",
           "Autocar"
          ],
          [
           "Rural",
           "Autocar"
          ],
          [
           "Rural",
           "Autocar"
          ],
          [
           "Rural",
           "Autocar"
          ],
          [
           "Rural",
           "Autocar"
          ],
          [
           "Rural",
           "Autocar"
          ],
          [
           "Rural",
           "Autocar"
          ]
         ],
         "hovertemplate": "<b>%{fullData.name}</b><br>Année : %{x}<br>Émissions : <b>%{y:.3f}</b> g/km<br>Roulage : %{customdata[0]}<extra></extra>",
         "legendgroup": "Autocar",
         "line": {
          "color": "#EF553B",
          "dash": "solid",
          "shape": "spline"
         },
         "marker": {
          "symbol": "circle"
         },
         "mode": "lines+markers",
         "name": "Autocar",
         "orientation": "v",
         "showlegend": false,
         "type": "scatter",
         "x": [
          "2020",
          "2021",
          "2022",
          "2023",
          "2024",
          "2025",
          "2026",
          "2027",
          "2028",
          "2029",
          "2030"
         ],
         "xaxis": "x2",
         "y": {
          "bdata": "O99PjZdusj+4HoXrUbiuP+kmMQisHKo/arx0kxgEpj8730+Nl26iP7gehetRuJ4/ObTIdr6fmj+6SQwCK4eWP3sUrkfhepQ/2/l+arx0kz8730+Nl26SPw==",
          "dtype": "f8"
         },
         "yaxis": "y2"
        },
        {
         "customdata": [
          [
           "Rural",
           "Autocar"
          ],
          [
           "Rural",
           "Autocar"
          ],
          [
           "Rural",
           "Autocar"
          ],
          [
           "Rural",
           "Autocar"
          ],
          [
           "Rural",
           "Autocar"
          ],
          [
           "Rural",
           "Autocar"
          ],
          [
           "Rural",
           "Autocar"
          ],
          [
           "Rural",
           "Autocar"
          ],
          [
           "Rural",
           "Autocar"
          ],
          [
           "Rural",
           "Autocar"
          ],
          [
           "Rural",
           "Autocar"
          ]
         ],
         "hovertemplate": "<b>%{fullData.name}</b><br>Année : %{x}<br>Émissions : <b>%{y:.3f}</b> g/km<br>Roulage : %{customdata[0]}<extra></extra>",
         "legendgroup": "Autocar",
         "line": {
          "color": "#EF553B",
          "dash": "solid",
          "shape": "spline"
         },
         "marker": {
          "symbol": "circle"
         },
         "mode": "lines+markers",
         "name": "Autocar",
         "orientation": "v",
         "showlegend": false,
         "type": "scatter",
         "x": [
          "2020",
          "2021",
          "2022",
          "2023",
          "2024",
          "2025",
          "2026",
          "2027",
          "2028",
          "2029",
          "2030"
         ],
         "xaxis": "x2",
         "y": {
          "bdata": "EoPAyqFFBEDD9Shcj8IBQLTIdr6fGv8/c2iR7Xw/+z8X2c73U+P3PzVeukkMAvU/j8L1KFyP8j/l0CLb+X7wP28Sg8DKoe0/YhBYObTI6j8nMQisHFroPw==",
          "dtype": "f8"
         },
         "yaxis": "y2"
        },
        {
         "customdata": [
          [
           "Rural",
           "Autocar"
          ],
          [
           "Rural",
           "Autocar"
          ],
          [
           "Rural",
           "Autocar"
          ],
          [
           "Rural",
           "Autocar"
          ],
          [
           "Rural",
           "Autocar"
          ],
          [
           "Rural",
           "Autocar"
          ],
          [
           "Rural",
           "Autocar"
          ],
          [
           "Rural",
           "Autocar"
          ],
          [
           "Rural",
           "Autocar"
          ],
          [
           "Rural",
           "Autocar"
          ],
          [
           "Rural",
           "Autocar"
          ]
         ],
         "hovertemplate": "<b>%{fullData.name}</b><br>Année : %{x}<br>Émissions : <b>%{y:.3f}</b> g/km<br>Roulage : %{customdata[0]}<extra></extra>",
         "legendgroup": "Autocar",
         "line": {
          "color": "#EF553B",
          "dash": "solid",
          "shape": "spline"
         },
         "marker": {
          "symbol": "circle"
         },
         "mode": "lines+markers",
         "name": "Autocar",
         "orientation": "v",
         "showlegend": false,
         "type": "scatter",
         "x": [
          "2020",
          "2021",
          "2022",
          "2023",
          "2024",
          "2025",
          "2026",
          "2027",
          "2028",
          "2029",
          "2030"
         ],
         "xaxis": "x2",
         "y": {
          "bdata": "arx0kxgEpj+LbOf7qfGiP/yp8dJNYqA/eekmMQisnD/6fmq8dJOYPxsv3SQGgZU/O99PjZdukj/8qfHSTWKQP7gehetRuI4/ObTIdr6fij/6fmq8dJOIPw==",
          "dtype": "f8"
         },
         "yaxis": "y2"
        },
        {
         "customdata": [
          [
           "Urbain",
           "Autocar"
          ],
          [
           "Urbain",
           "Autocar"
          ],
          [
           "Urbain",
           "Autocar"
          ],
          [
           "Urbain",
           "Autocar"
          ],
          [
           "Urbain",
           "Autocar"
          ],
          [
           "Urbain",
           "Autocar"
          ],
          [
           "Urbain",
           "Autocar"
          ],
          [
           "Urbain",
           "Autocar"
          ],
          [
           "Urbain",
           "Autocar"
          ],
          [
           "Urbain",
           "Autocar"
          ],
          [
           "Urbain",
           "Autocar"
          ]
         ],
         "hovertemplate": "<b>%{fullData.name}</b><br>Année : %{x}<br>Émissions : <b>%{y:.3f}</b> g/km<br>Roulage : %{customdata[0]}<extra></extra>",
         "legendgroup": "Autocar",
         "line": {
          "color": "#EF553B",
          "dash": "solid",
          "shape": "spline"
         },
         "marker": {
          "symbol": "circle"
         },
         "mode": "lines+markers",
         "name": "Autocar",
         "orientation": "v",
         "showlegend": false,
         "type": "scatter",
         "x": [
          "2020",
          "2021",
          "2022",
          "2023",
          "2024",
          "2025",
          "2026",
          "2027",
          "2028",
          "2029",
          "2030"
         ],
         "xaxis": "x3",
         "y": {
          "bdata": "exSuR+F6/D/b+X5qvHT5P+Olm8QgsPY/kxgEVg4t9D8X2c73U+PxP4PAyqFFtu8/1XjpJjEI7D/NzMzMzMzoP8HKoUW28+U/2/l+arx04z9I4XoUrkfhPw==",
          "dtype": "f8"
         },
         "yaxis": "y3"
        },
        {
         "customdata": [
          [
           "Urbain",
           "Autocar"
          ],
          [
           "Urbain",
           "Autocar"
          ],
          [
           "Urbain",
           "Autocar"
          ],
          [
           "Urbain",
           "Autocar"
          ],
          [
           "Urbain",
           "Autocar"
          ],
          [
           "Urbain",
           "Autocar"
          ],
          [
           "Urbain",
           "Autocar"
          ],
          [
           "Urbain",
           "Autocar"
          ],
          [
           "Urbain",
           "Autocar"
          ],
          [
           "Urbain",
           "Autocar"
          ],
          [
           "Urbain",
           "Autocar"
          ]
         ],
         "hovertemplate": "<b>%{fullData.name}</b><br>Année : %{x}<br>Émissions : <b>%{y:.3f}</b> g/km<br>Roulage : %{customdata[0]}<extra></extra>",
         "legendgroup": "Autocar",
         "line": {
          "color": "#EF553B",
          "dash": "solid",
          "shape": "spline"
         },
         "marker": {
          "symbol": "circle"
         },
         "mode": "lines+markers",
         "name": "Autocar",
         "orientation": "v",
         "showlegend": false,
         "type": "scatter",
         "x": [
          "2020",
          "2021",
          "2022",
          "2023",
          "2024",
          "2025",
          "2026",
          "2027",
          "2028",
          "2029",
          "2030"
         ],
         "xaxis": "x3",
         "y": {
          "bdata": "+FPjpZvEwD/RItv5fmq8PwIrhxbZzrc/K4cW2c73sz9MN4lBYOWwP3npJjEIrKw/qvHSTWIQqD/LoUW28/2kP9v5fmq8dKM/7FG4HoXroT+cxCCwcmihPw==",
          "dtype": "f8"
         },
         "yaxis": "y3"
        },
        {
         "customdata": [
          [
           "Urbain",
           "Autocar"
          ],
          [
           "Urbain",
           "Autocar"
          ],
          [
           "Urbain",
           "Autocar"
          ],
          [
           "Urbain",
           "Autocar"
          ],
          [
           "Urbain",
           "Autocar"
          ],
          [
           "Urbain",
           "Autocar"
          ],
          [
           "Urbain",
           "Autocar"
          ],
          [
           "Urbain",
           "Autocar"
          ],
          [
           "Urbain",
           "Autocar"
          ],
          [
           "Urbain",
           "Autocar"
          ],
          [
           "Urbain",
           "Autocar"
          ]
         ],
         "hovertemplate": "<b>%{fullData.name}</b><br>Année : %{x}<br>Émissions : <b>%{y:.3f}</b> g/km<br>Roulage : %{customdata[0]}<extra></extra>",
         "legendgroup": "Autocar",
         "line": {
          "color": "#EF553B",
          "dash": "solid",
          "shape": "spline"
         },
         "marker": {
          "symbol": "circle"
         },
         "mode": "lines+markers",
         "name": "Autocar",
         "orientation": "v",
         "showlegend": false,
         "type": "scatter",
         "x": [
          "2020",
          "2021",
          "2022",
          "2023",
          "2024",
          "2025",
          "2026",
          "2027",
          "2028",
          "2029",
          "2030"
         ],
         "xaxis": "x3",
         "y": {
          "bdata": "hetRuB4FFUCR7Xw/Nd4SQMHKoUW28xBA8KfGSzeJDkBaZDvfT40LQCuHFtnO9whAg8DKoUW2BkAtsp3vp8YEQFTjpZvEIANATmIQWDm0AUBGtvP91HgAQA==",
          "dtype": "f8"
         },
         "yaxis": "y3"
        },
        {
         "customdata": [
          [
           "Urbain",
           "Autocar"
          ],
          [
           "Urbain",
           "Autocar"
          ],
          [
           "Urbain",
           "Autocar"
          ],
          [
           "Urbain",
           "Autocar"
          ],
          [
           "Urbain",
           "Autocar"
          ],
          [
           "Urbain",
           "Autocar"
          ],
          [
           "Urbain",
           "Autocar"
          ],
          [
           "Urbain",
           "Autocar"
          ],
          [
           "Urbain",
           "Autocar"
          ],
          [
           "Urbain",
           "Autocar"
          ],
          [
           "Urbain",
           "Autocar"
          ]
         ],
         "hovertemplate": "<b>%{fullData.name}</b><br>Année : %{x}<br>Émissions : <b>%{y:.3f}</b> g/km<br>Roulage : %{customdata[0]}<extra></extra>",
         "legendgroup": "Autocar",
         "line": {
          "color": "#EF553B",
          "dash": "solid",
          "shape": "spline"
         },
         "marker": {
          "symbol": "circle"
         },
         "mode": "lines+markers",
         "name": "Autocar",
         "orientation": "v",
         "showlegend": false,
         "type": "scatter",
         "x": [
          "2020",
          "2021",
          "2022",
          "2023",
          "2024",
          "2025",
          "2026",
          "2027",
          "2028",
          "2029",
          "2030"
         ],
         "xaxis": "x3",
         "y": {
          "bdata": "i2zn+6nxsj/8qfHSTWKwPylcj8L1KKw/+n5qvHSTqD/LoUW28/2kPzvfT42XbqI//Knx0k1ioD956SYxCKycP5qZmZmZmZk/WmQ730+Nlz8bL90kBoGVPw==",
          "dtype": "f8"
         },
         "yaxis": "y3"
        },
        {
         "customdata": [
          [
           "Urbain",
           "Bus"
          ],
          [
           "Urbain",
           "Bus"
          ],
          [
           "Urbain",
           "Bus"
          ],
          [
           "Urbain",
           "Bus"
          ],
          [
           "Urbain",
           "Bus"
          ],
          [
           "Urbain",
           "Bus"
          ],
          [
           "Urbain",
           "Bus"
          ],
          [
           "Urbain",
           "Bus"
          ],
          [
           "Urbain",
           "Bus"
          ],
          [
           "Urbain",
           "Bus"
          ],
          [
           "Urbain",
           "Bus"
          ]
         ],
         "hovertemplate": "<b>%{fullData.name}</b><br>Année : %{x}<br>Émissions : <b>%{y:.3f}</b> g/km<br>Roulage : %{customdata[0]}<extra></extra>",
         "legendgroup": "Bus",
         "line": {
          "color": "#00cc96",
          "dash": "solid",
          "shape": "spline"
         },
         "marker": {
          "symbol": "circle"
         },
         "mode": "lines+markers",
         "name": "Bus",
         "orientation": "v",
         "showlegend": true,
         "type": "scatter",
         "x": [
          "2020",
          "2021",
          "2022",
          "2023",
          "2024",
          "2025",
          "2026",
          "2027",
          "2028",
          "2029",
          "2030"
         ],
         "xaxis": "x3",
         "y": {
          "bdata": "05SKsw+f+T9TKs4+fIb3P1Mqzj58hvU/pw102kCn8z/rUbgehevxP+81F5KmVPA/JXgwT9S/7T9QRm/LWh3rP8BY8oslv+g/ObTIdr6f5j8xT9S/EcrkPw==",
          "dtype": "f8"
         },
         "yaxis": "y3"
        },
        {
         "customdata": [
          [
           "Urbain",
           "Bus"
          ],
          [
           "Urbain",
           "Bus"
          ],
          [
           "Urbain",
           "Bus"
          ],
          [
           "Urbain",
           "Bus"
          ],
          [
           "Urbain",
           "Bus"
          ],
          [
           "Urbain",
           "Bus"
          ],
          [
           "Urbain",
           "Bus"
          ],
          [
           "Urbain",
           "Bus"
          ],
          [
           "Urbain",
           "Bus"
          ],
          [
           "Urbain",
           "Bus"
          ],
          [
           "Urbain",
           "Bus"
          ]
         ],
         "hovertemplate": "<b>%{fullData.name}</b><br>Année : %{x}<br>Émissions : <b>%{y:.3f}</b> g/km<br>Roulage : %{customdata[0]}<extra></extra>",
         "legendgroup": "Bus",
         "line": {
          "color": "#00cc96",
          "dash": "solid",
          "shape": "spline"
         },
         "marker": {
          "symbol": "circle"
         },
         "mode": "lines+markers",
         "name": "Bus",
         "orientation": "v",
         "showlegend": false,
         "type": "scatter",
         "x": [
          "2020",
          "2021",
          "2022",
          "2023",
          "2024",
          "2025",
          "2026",
          "2027",
          "2028",
          "2029",
          "2030"
         ],
         "xaxis": "x3",
         "y": {
          "bdata": "UI2XbhKDwD9D0pSKsw+/P3E9CtejcL0/R2/LWh0TvD//jVBGb8u6P2BzIWlKxbk/hTJ6W9bquD9TuB6F61G4PwMrhxbZzrc/lYqzD59htz8L16NwPQq3Pw==",
          "dtype": "f8"
         },
         "yaxis": "y3"
        },
        {
         "customdata": [
          [
           "Urbain",
           "Bus"
          ],
          [
           "Urbain",
           "Bus"
          ],
          [
           "Urbain",
           "Bus"
          ],
          [
           "Urbain",
           "Bus"
          ],
          [
           "Urbain",
           "Bus"
          ],
          [
           "Urbain",
           "Bus"
          ],
          [
           "Urbain",
           "Bus"
          ],
          [
           "Urbain",
           "Bus"
          ],
          [
           "Urbain",
           "Bus"
          ],
          [
           "Urbain",
           "Bus"
          ],
          [
           "Urbain",
           "Bus"
          ]
         ],
         "hovertemplate": "<b>%{fullData.name}</b><br>Année : %{x}<br>Émissions : <b>%{y:.3f}</b> g/km<br>Roulage : %{customdata[0]}<extra></extra>",
         "legendgroup": "Bus",
         "line": {
          "color": "#00cc96",
          "dash": "solid",
          "shape": "spline"
         },
         "marker": {
          "symbol": "circle"
         },
         "mode": "lines+markers",
         "name": "Bus",
         "orientation": "v",
         "showlegend": false,
         "type": "scatter",
         "x": [
          "2020",
          "2021",
          "2022",
          "2023",
          "2024",
          "2025",
          "2026",
          "2027",
          "2028",
          "2029",
          "2030"
         ],
         "xaxis": "x3",
         "y": {
          "bdata": "cyFpSsXZCEDrUbgehesFQGwuJE2pOANAlNHbslbHAECXtTomeDD9P8ARyuhtWfk/84slv1jy9T81XrpJDALzP3TaQKcNdPA/iIiIiIiI7D/bQKcNdNroPw==",
          "dtype": "f8"
         },
         "yaxis": "y3"
        },
        {
         "customdata": [
          [
           "Urbain",
           "Bus"
          ],
          [
           "Urbain",
           "Bus"
          ],
          [
           "Urbain",
           "Bus"
          ],
          [
           "Urbain",
           "Bus"
          ],
          [
           "Urbain",
           "Bus"
          ],
          [
           "Urbain",
           "Bus"
          ],
          [
           "Urbain",
           "Bus"
          ],
          [
           "Urbain",
           "Bus"
          ],
          [
           "Urbain",
           "Bus"
          ],
          [
           "Urbain",
           "Bus"
          ],
          [
           "Urbain",
           "Bus"
          ]
         ],
         "hovertemplate": "<b>%{fullData.name}</b><br>Année : %{x}<br>Émissions : <b>%{y:.3f}</b> g/km<br>Roulage : %{customdata[0]}<extra></extra>",
         "legendgroup": "Bus",
         "line": {
          "color": "#00cc96",
          "dash": "solid",
          "shape": "spline"
         },
         "marker": {
          "symbol": "circle"
         },
         "mode": "lines+markers",
         "name": "Bus",
         "orientation": "v",
         "showlegend": false,
         "type": "scatter",
         "x": [
          "2020",
          "2021",
          "2022",
          "2023",
          "2024",
          "2025",
          "2026",
          "2027",
          "2028",
          "2029",
          "2030"
         ],
         "xaxis": "x3",
         "y": {
          "bdata": "cMtaHRM8qD8bL90kBoGlP1FGb8taHaM/1uqY4ME8oT8ta3VM8GCeP08b6LSBTps/EOaJ+jdCmT9F/RuhjN6WPwbIveZC0pQ/2/l+arx0kz8730+Nl26SPw==",
          "dtype": "f8"
         },
         "yaxis": "y3"
        },
        {
         "customdata": [
          [
           "France",
           "PL"
          ],
          [
           "France",
           "PL"
          ],
          [
           "France",
           "PL"
          ],
          [
           "France",
           "PL"
          ],
          [
           "France",
           "PL"
          ],
          [
           "France",
           "PL"
          ],
          [
           "France",
           "PL"
          ],
          [
           "France",
           "PL"
          ],
          [
           "France",
           "PL"
          ],
          [
           "France",
           "PL"
          ],
          [
           "France",
           "PL"
          ]
         ],
         "hovertemplate": "<b>%{fullData.name}</b><br>Année : %{x}<br>Émissions : <b>%{y:.3f}</b> g/km<br>Roulage : %{customdata[0]}<extra></extra>",
         "legendgroup": "PL",
         "line": {
          "color": "#ab63fa",
          "dash": "solid",
          "shape": "spline"
         },
         "marker": {
          "symbol": "circle"
         },
         "mode": "lines+markers",
         "name": "PL",
         "orientation": "v",
         "showlegend": true,
         "type": "scatter",
         "x": [
          "2020",
          "2021",
          "2022",
          "2023",
          "2024",
          "2025",
          "2026",
          "2027",
          "2028",
          "2029",
          "2030"
         ],
         "xaxis": "x",
         "y": {
          "bdata": "Vg4tsp3v6z8GgZVDi2znP9ejcD0K1+M/oBov3SQG4T9t5/up8dLdPzm0yHa+n9o/qMZLN4lB2D8OLbKd76fWP28Sg8DKodU/H4XrUbge1T8hsHJoke3UPw==",
          "dtype": "f8"
         },
         "yaxis": "y"
        },
        {
         "customdata": [
          [
           "France",
           "PL"
          ],
          [
           "France",
           "PL"
          ],
          [
           "France",
           "PL"
          ],
          [
           "France",
           "PL"
          ],
          [
           "France",
           "PL"
          ],
          [
           "France",
           "PL"
          ],
          [
           "France",
           "PL"
          ],
          [
           "France",
           "PL"
          ],
          [
           "France",
           "PL"
          ],
          [
           "France",
           "PL"
          ],
          [
           "France",
           "PL"
          ]
         ],
         "hovertemplate": "<b>%{fullData.name}</b><br>Année : %{x}<br>Émissions : <b>%{y:.3f}</b> g/km<br>Roulage : %{customdata[0]}<extra></extra>",
         "legendgroup": "PL",
         "line": {
          "color": "#ab63fa",
          "dash": "solid",
          "shape": "spline"
         },
         "marker": {
          "symbol": "circle"
         },
         "mode": "lines+markers",
         "name": "PL",
         "orientation": "v",
         "showlegend": false,
         "type": "scatter",
         "x": [
          "2020",
          "2021",
          "2022",
          "2023",
          "2024",
          "2025",
          "2026",
          "2027",
          "2028",
          "2029",
          "2030"
         ],
         "xaxis": "x",
         "y": {
          "bdata": "y6FFtvP9pD97FK5H4XqkPxsv3SQGgaU/WmQ730+Npz+amZmZmZmpPylcj8L1KKw/uB6F61G4rj9MN4lBYOWwPzvfT42XbrI/K4cW2c73sz/D9Shcj8K1Pw==",
          "dtype": "f8"
         },
         "yaxis": "y"
        },
        {
         "customdata": [
          [
           "France",
           "PL"
          ],
          [
           "France",
           "PL"
          ],
          [
           "France",
           "PL"
          ],
          [
           "France",
           "PL"
          ],
          [
           "France",
           "PL"
          ],
          [
           "France",
           "PL"
          ],
          [
           "France",
           "PL"
          ],
          [
           "France",
           "PL"
          ],
          [
           "France",
           "PL"
          ],
          [
           "France",
           "PL"
          ],
          [
           "France",
           "PL"
          ]
         ],
         "hovertemplate": "<b>%{fullData.name}</b><br>Année : %{x}<br>Émissions : <b>%{y:.3f}</b> g/km<br>Roulage : %{customdata[0]}<extra></extra>",
         "legendgroup": "PL",
         "line": {
          "color": "#ab63fa",
          "dash": "solid",
          "shape": "spline"
         },
         "marker": {
          "symbol": "circle"
         },
         "mode": "lines+markers",
         "name": "PL",
         "orientation": "v",
         "showlegend": false,
         "type": "scatter",
         "x": [
          "2020",
          "2021",
          "2022",
          "2023",
          "2024",
          "2025",
          "2026",
          "2027",
          "2028",
          "2029",
          "2030"
         ],
         "xaxis": "x",
         "y": {
          "bdata": "hxbZzvdTAUDTTWIQWDn+P7bz/dR46fo/EFg5tMh2+D+4HoXrUbj2P9v5fmq8dPU/JQaBlUOL9D/ByqFFtvPzP8UgsHJokfM/hxbZzvdT8z/Jdr6fGi/zPw==",
          "dtype": "f8"
         },
         "yaxis": "y"
        },
        {
         "customdata": [
          [
           "France",
           "PL"
          ],
          [
           "France",
           "PL"
          ],
          [
           "France",
           "PL"
          ],
          [
           "France",
           "PL"
          ],
          [
           "France",
           "PL"
          ],
          [
           "France",
           "PL"
          ],
          [
           "France",
           "PL"
          ],
          [
           "France",
           "PL"
          ],
          [
           "France",
           "PL"
          ],
          [
           "France",
           "PL"
          ],
          [
           "France",
           "PL"
          ]
         ],
         "hovertemplate": "<b>%{fullData.name}</b><br>Année : %{x}<br>Émissions : <b>%{y:.3f}</b> g/km<br>Roulage : %{customdata[0]}<extra></extra>",
         "legendgroup": "PL",
         "line": {
          "color": "#ab63fa",
          "dash": "solid",
          "shape": "spline"
         },
         "marker": {
          "symbol": "circle"
         },
         "mode": "lines+markers",
         "name": "PL",
         "orientation": "v",
         "showlegend": false,
         "type": "scatter",
         "x": [
          "2020",
          "2021",
          "2022",
          "2023",
          "2024",
          "2025",
          "2026",
          "2027",
          "2028",
          "2029",
          "2030"
         ],
         "xaxis": "x",
         "y": {
          "bdata": "GQRWDi2ynT+amZmZmZmZP1pkO99PjZc/Gy/dJAaBlT/b+X5qvHSTPzvfT42XbpI/nMQgsHJokT/8qfHSTWKQP/yp8dJNYpA/uB6F61G4jj+4HoXrUbiOPw==",
          "dtype": "f8"
         },
         "yaxis": "y"
        },
        {
         "customdata": [
          [
           "Rural",
           "PL"
          ],
          [
           "Rural",
           "PL"
          ],
          [
           "Rural",
           "PL"
          ],
          [
           "Rural",
           "PL"
          ],
          [
           "Rural",
           "PL"
          ],
          [
           "Rural",
           "PL"
          ],
          [
           "Rural",
           "PL"
          ],
          [
           "Rural",
           "PL"
          ],
          [
           "Rural",
           "PL"
          ],
          [
           "Rural",
           "PL"
          ],
          [
           "Rural",
           "PL"
          ]
         ],
         "hovertemplate": "<b>%{fullData.name}</b><br>Année : %{x}<br>Émissions : <b>%{y:.3f}</b> g/km<br>Roulage : %{customdata[0]}<extra></extra>",
         "legendgroup": "PL",
         "line": {
          "color": "#ab63fa",
          "dash": "solid",
          "shape": "spline"
         },
         "marker": {
          "symbol": "circle"
         },
         "mode": "lines+markers",
         "name": "PL",
         "orientation": "v",
         "showlegend": false,
         "type": "scatter",
         "x": [
          "2020",
          "2021",
          "2022",
          "2023",
          "2024",
          "2025",
          "2026",
          "2027",
          "2028",
          "2029",
          "2030"
         ],
         "xaxis": "x2",
         "y": {
          "bdata": "qMZLN4lB6D/8qfHSTWLkP3Noke18P+E/bxKDwMqh3T9CYOXQItvZP7TIdr6fGtc/y6FFtvP91D8v3SQGgZXTP+Olm8QgsNI/kxgEVg4t0j+WQ4ts5/vRPw==",
          "dtype": "f8"
         },
         "yaxis": "y2"
        },
        {
         "customdata": [
          [
           "Rural",
           "PL"
          ],
          [
           "Rural",
           "PL"
          ],
          [
           "Rural",
           "PL"
          ],
          [
           "Rural",
           "PL"
          ],
          [
           "Rural",
           "PL"
          ],
          [
           "Rural",
           "PL"
          ],
          [
           "Rural",
           "PL"
          ],
          [
           "Rural",
           "PL"
          ],
          [
           "Rural",
           "PL"
          ],
          [
           "Rural",
           "PL"
          ],
          [
           "Rural",
           "PL"
          ]
         ],
         "hovertemplate": "<b>%{fullData.name}</b><br>Année : %{x}<br>Émissions : <b>%{y:.3f}</b> g/km<br>Roulage : %{customdata[0]}<extra></extra>",
         "legendgroup": "PL",
         "line": {
          "color": "#ab63fa",
          "dash": "solid",
          "shape": "spline"
         },
         "marker": {
          "symbol": "circle"
         },
         "mode": "lines+markers",
         "name": "PL",
         "orientation": "v",
         "showlegend": false,
         "type": "scatter",
         "x": [
          "2020",
          "2021",
          "2022",
          "2023",
          "2024",
          "2025",
          "2026",
          "2027",
          "2028",
          "2029",
          "2030"
         ],
         "xaxis": "x2",
         "y": {
          "bdata": "nMQgsHJooT9MN4lBYOWgP+xRuB6F66E/i2zn+6nxoj/LoUW28/2kPwrXo3A9Cqc/SgwCK4cWqT/ZzvdT46WrP2iR7Xw/Na4//Knx0k1isD9Ei2zn+6mxPw==",
          "dtype": "f8"
         },
         "yaxis": "y2"
        },
        {
         "customdata": [
          [
           "Rural",
           "PL"
          ],
          [
           "Rural",
           "PL"
          ],
          [
           "Rural",
           "PL"
          ],
          [
           "Rural",
           "PL"
          ],
          [
           "Rural",
           "PL"
          ],
          [
           "Rural",
           "PL"
          ],
          [
           "Rural",
           "PL"
          ],
          [
           "Rural",
           "PL"
          ],
          [
           "Rural",
           "PL"
          ],
          [
           "Rural",
           "PL"
          ],
          [
           "Rural",
           "PL"
          ]
         ],
         "hovertemplate": "<b>%{fullData.name}</b><br>Année : %{x}<br>Émissions : <b>%{y:.3f}</b> g/km<br>Roulage : %{customdata[0]}<extra></extra>",
         "legendgroup": "PL",
         "line": {
          "color": "#ab63fa",
          "dash": "solid",
          "shape": "spline"
         },
         "marker": {
          "symbol": "circle"
         },
         "mode": "lines+markers",
         "name": "PL",
         "orientation": "v",
         "showlegend": false,
         "type": "scatter",
         "x": [
          "2020",
          "2021",
          "2022",
          "2023",
          "2024",
          "2025",
          "2026",
          "2027",
          "2028",
          "2029",
          "2030"
         ],
         "xaxis": "x2",
         "y": {
          "bdata": "iUFg5dAi+T9xPQrXo3D1P7gehetRuPI/46WbxCCw8D/l0CLb+X7uP9Ei2/l+auw/i2zn+6nx6j+WQ4ts5/vpP8dLN4lBYOk/y6FFtvP96D+iRbbz/dToPw==",
          "dtype": "f8"
         },
         "yaxis": "y2"
        },
        {
         "customdata": [
          [
           "Rural",
           "PL"
          ],
          [
           "Rural",
           "PL"
          ],
          [
           "Rural",
           "PL"
          ],
          [
           "Rural",
           "PL"
          ],
          [
           "Rural",
           "PL"
          ],
          [
           "Rural",
           "PL"
          ],
          [
           "Rural",
           "PL"
          ],
          [
           "Rural",
           "PL"
          ],
          [
           "Rural",
           "PL"
          ],
          [
           "Rural",
           "PL"
          ],
          [
           "Rural",
           "PL"
          ]
         ],
         "hovertemplate": "<b>%{fullData.name}</b><br>Année : %{x}<br>Émissions : <b>%{y:.3f}</b> g/km<br>Roulage : %{customdata[0]}<extra></extra>",
         "legendgroup": "PL",
         "line": {
          "color": "#ab63fa",
          "dash": "solid",
          "shape": "spline"
         },
         "marker": {
          "symbol": "circle"
         },
         "mode": "lines+markers",
         "name": "PL",
         "orientation": "v",
         "showlegend": false,
         "type": "scatter",
         "x": [
          "2020",
          "2021",
          "2022",
          "2023",
          "2024",
          "2025",
          "2026",
          "2027",
          "2028",
          "2029",
          "2030"
         ],
         "xaxis": "x2",
         "y": {
          "bdata": "ObTIdr6fmj+6SQwCK4eWP3sUrkfhepQ/O99PjZdukj+cxCCwcmiRP7gehetRuI4/uB6F61G4jj956SYxCKyMPzm0yHa+n4o/ObTIdr6fij85tMh2vp+KPw==",
          "dtype": "f8"
         },
         "yaxis": "y2"
        },
        {
         "customdata": [
          [
           "Urbain",
           "PL"
          ],
          [
           "Urbain",
           "PL"
          ],
          [
           "Urbain",
           "PL"
          ],
          [
           "Urbain",
           "PL"
          ],
          [
           "Urbain",
           "PL"
          ],
          [
           "Urbain",
           "PL"
          ],
          [
           "Urbain",
           "PL"
          ],
          [
           "Urbain",
           "PL"
          ],
          [
           "Urbain",
           "PL"
          ],
          [
           "Urbain",
           "PL"
          ],
          [
           "Urbain",
           "PL"
          ]
         ],
         "hovertemplate": "<b>%{fullData.name}</b><br>Année : %{x}<br>Émissions : <b>%{y:.3f}</b> g/km<br>Roulage : %{customdata[0]}<extra></extra>",
         "legendgroup": "PL",
         "line": {
          "color": "#ab63fa",
          "dash": "solid",
          "shape": "spline"
         },
         "marker": {
          "symbol": "circle"
         },
         "mode": "lines+markers",
         "name": "PL",
         "orientation": "v",
         "showlegend": false,
         "type": "scatter",
         "x": [
          "2020",
          "2021",
          "2022",
          "2023",
          "2024",
          "2025",
          "2026",
          "2027",
          "2028",
          "2029",
          "2030"
         ],
         "xaxis": "x3",
         "y": {
          "bdata": "YhBYObTI8j/b+X5qvHTvPzm0yHa+n+o/4XoUrkfh5j+q8dJNYhDkP5ZDi2zn++E/ppvEILBy4D+28/3UeOneP28Sg8DKod0/y6FFtvP93D93vp8aL93cPw==",
          "dtype": "f8"
         },
         "yaxis": "y3"
        },
        {
         "customdata": [
          [
           "Urbain",
           "PL"
          ],
          [
           "Urbain",
           "PL"
          ],
          [
           "Urbain",
           "PL"
          ],
          [
           "Urbain",
           "PL"
          ],
          [
           "Urbain",
           "PL"
          ],
          [
           "Urbain",
           "PL"
          ],
          [
           "Urbain",
           "PL"
          ],
          [
           "Urbain",
           "PL"
          ],
          [
           "Urbain",
           "PL"
          ],
          [
           "Urbain",
           "PL"
          ],
          [
           "Urbain",
           "PL"
          ]
         ],
         "hovertemplate": "<b>%{fullData.name}</b><br>Année : %{x}<br>Émissions : <b>%{y:.3f}</b> g/km<br>Roulage : %{customdata[0]}<extra></extra>",
         "legendgroup": "PL",
         "line": {
          "color": "#ab63fa",
          "dash": "solid",
          "shape": "spline"
         },
         "marker": {
          "symbol": "circle"
         },
         "mode": "lines+markers",
         "name": "PL",
         "orientation": "v",
         "showlegend": false,
         "type": "scatter",
         "x": [
          "2020",
          "2021",
          "2022",
          "2023",
          "2024",
          "2025",
          "2026",
          "2027",
          "2028",
          "2029",
          "2030"
         ],
         "xaxis": "x3",
         "y": {
          "bdata": "uB6F61G4rj9oke18PzWuP1g5tMh2vq8/9P3UeOkmsT+LbOf7qfGyPyPb+X5qvLQ/YhBYObTItj9KDAIrhxa5PzEIrBxaZLs/GQRWDi2yvT9U46WbxCDAPw==",
          "dtype": "f8"
         },
         "yaxis": "y3"
        },
        {
         "customdata": [
          [
           "Urbain",
           "PL"
          ],
          [
           "Urbain",
           "PL"
          ],
          [
           "Urbain",
           "PL"
          ],
          [
           "Urbain",
           "PL"
          ],
          [
           "Urbain",
           "PL"
          ],
          [
           "Urbain",
           "PL"
          ],
          [
           "Urbain",
           "PL"
          ],
          [
           "Urbain",
           "PL"
          ],
          [
           "Urbain",
           "PL"
          ],
          [
           "Urbain",
           "PL"
          ],
          [
           "Urbain",
           "PL"
          ]
         ],
         "hovertemplate": "<b>%{fullData.name}</b><br>Année : %{x}<br>Émissions : <b>%{y:.3f}</b> g/km<br>Roulage : %{customdata[0]}<extra></extra>",
         "legendgroup": "PL",
         "line": {
          "color": "#ab63fa",
          "dash": "solid",
          "shape": "spline"
         },
         "marker": {
          "symbol": "circle"
         },
         "mode": "lines+markers",
         "name": "PL",
         "orientation": "v",
         "showlegend": false,
         "type": "scatter",
         "x": [
          "2020",
          "2021",
          "2022",
          "2023",
          "2024",
          "2025",
          "2026",
          "2027",
          "2028",
          "2029",
          "2030"
         ],
         "xaxis": "x3",
         "y": {
          "bdata": "8tJNYhBYDkBKDAIrhxYLQG8Sg8DKoQhAAiuHFtnOBkDl0CLb+X4FQCUGgZVDiwRAQmDl0CLbA0D8qfHSTWIDQN9PjZduEgNAd76fGi/dAkC4HoXrUbgCQA==",
          "dtype": "f8"
         },
         "yaxis": "y3"
        },
        {
         "customdata": [
          [
           "Urbain",
           "PL"
          ],
          [
           "Urbain",
           "PL"
          ],
          [
           "Urbain",
           "PL"
          ],
          [
           "Urbain",
           "PL"
          ],
          [
           "Urbain",
           "PL"
          ],
          [
           "Urbain",
           "PL"
          ],
          [
           "Urbain",
           "PL"
          ],
          [
           "Urbain",
           "PL"
          ],
          [
           "Urbain",
           "PL"
          ],
          [
           "Urbain",
           "PL"
          ],
          [
           "Urbain",
           "PL"
          ]
         ],
         "hovertemplate": "<b>%{fullData.name}</b><br>Année : %{x}<br>Émissions : <b>%{y:.3f}</b> g/km<br>Roulage : %{customdata[0]}<extra></extra>",
         "legendgroup": "PL",
         "line": {
          "color": "#ab63fa",
          "dash": "solid",
          "shape": "spline"
         },
         "marker": {
          "symbol": "circle"
         },
         "mode": "lines+markers",
         "name": "PL",
         "orientation": "v",
         "showlegend": false,
         "type": "scatter",
         "x": [
          "2020",
          "2021",
          "2022",
          "2023",
          "2024",
          "2025",
          "2026",
          "2027",
          "2028",
          "2029",
          "2030"
         ],
         "xaxis": "x3",
         "y": {
          "bdata": "K4cW2c73oz+cxCCwcmihP7gehetRuJ4/2c73U+Olmz+amZmZmZmZP/p+arx0k5g/WmQ730+Nlz+6SQwCK4eWPxsv3SQGgZU/Gy/dJAaBlT97FK5H4XqUPw==",
          "dtype": "f8"
         },
         "yaxis": "y3"
        },
        {
         "customdata": [
          [
           "France",
           "VUL"
          ],
          [
           "France",
           "VUL"
          ],
          [
           "France",
           "VUL"
          ],
          [
           "France",
           "VUL"
          ],
          [
           "France",
           "VUL"
          ],
          [
           "France",
           "VUL"
          ],
          [
           "France",
           "VUL"
          ],
          [
           "France",
           "VUL"
          ],
          [
           "France",
           "VUL"
          ],
          [
           "France",
           "VUL"
          ],
          [
           "France",
           "VUL"
          ]
         ],
         "hovertemplate": "<b>%{fullData.name}</b><br>Année : %{x}<br>Émissions : <b>%{y:.3f}</b> g/km<br>Roulage : %{customdata[0]}<extra></extra>",
         "legendgroup": "VUL",
         "line": {
          "color": "#FFA15A",
          "dash": "solid",
          "shape": "spline"
         },
         "marker": {
          "symbol": "circle"
         },
         "mode": "lines+markers",
         "name": "VUL",
         "orientation": "v",
         "showlegend": true,
         "type": "scatter",
         "x": [
          "2020",
          "2021",
          "2022",
          "2023",
          "2024",
          "2025",
          "2026",
          "2027",
          "2028",
          "2029",
          "2030"
         ],
         "xaxis": "x",
         "y": {
          "bdata": "j8L1KFyP0j+YbhKDwMrRP0oMAiuHFtE//Knx0k1i0D+wcmiR7XzPP7x0kxgEVs4/yXa+nxovzT8pXI/C9SjMP90kBoGVQ8s/ke18PzVeyj+amZmZmZnJPw==",
          "dtype": "f8"
         },
         "yaxis": "y"
        },
        {
         "customdata": [
          [
           "France",
           "VUL"
          ],
          [
           "France",
           "VUL"
          ],
          [
           "France",
           "VUL"
          ],
          [
           "France",
           "VUL"
          ],
          [
           "France",
           "VUL"
          ],
          [
           "France",
           "VUL"
          ],
          [
           "France",
           "VUL"
          ],
          [
           "France",
           "VUL"
          ],
          [
           "France",
           "VUL"
          ],
          [
           "France",
           "VUL"
          ],
          [
           "France",
           "VUL"
          ]
         ],
         "hovertemplate": "<b>%{fullData.name}</b><br>Année : %{x}<br>Émissions : <b>%{y:.3f}</b> g/km<br>Roulage : %{customdata[0]}<extra></extra>",
         "legendgroup": "VUL",
         "line": {
          "color": "#FFA15A",
          "dash": "solid",
          "shape": "spline"
         },
         "marker": {
          "symbol": "circle"
         },
         "mode": "lines+markers",
         "name": "VUL",
         "orientation": "v",
         "showlegend": false,
         "type": "scatter",
         "x": [
          "2020",
          "2021",
          "2022",
          "2023",
          "2024",
          "2025",
          "2026",
          "2027",
          "2028",
          "2029",
          "2030"
         ],
         "xaxis": "x",
         "y": {
          "bdata": "WmQ730+Nlz+6SQwCK4eWPxsv3SQGgZU/exSuR+F6lD97FK5H4XqUP9v5fmq8dJM/2/l+arx0kz/b+X5qvHSTP9v5fmq8dJM/2/l+arx0kz/b+X5qvHSTPw==",
          "dtype": "f8"
         },
         "yaxis": "y"
        },
        {
         "customdata": [
          [
           "France",
           "VUL"
          ],
          [
           "France",
           "VUL"
          ],
          [
           "France",
           "VUL"
          ],
          [
           "France",
           "VUL"
          ],
          [
           "France",
           "VUL"
          ],
          [
           "France",
           "VUL"
          ],
          [
           "France",
           "VUL"
          ],
          [
           "France",
           "VUL"
          ],
          [
           "France",
           "VUL"
          ],
          [
           "France",
           "VUL"
          ],
          [
           "France",
           "VUL"
          ]
         ],
         "hovertemplate": "<b>%{fullData.name}</b><br>Année : %{x}<br>Émissions : <b>%{y:.3f}</b> g/km<br>Roulage : %{customdata[0]}<extra></extra>",
         "legendgroup": "VUL",
         "line": {
          "color": "#FFA15A",
          "dash": "solid",
          "shape": "spline"
         },
         "marker": {
          "symbol": "circle"
         },
         "mode": "lines+markers",
         "name": "VUL",
         "orientation": "v",
         "showlegend": false,
         "type": "scatter",
         "x": [
          "2020",
          "2021",
          "2022",
          "2023",
          "2024",
          "2025",
          "2026",
          "2027",
          "2028",
          "2029",
          "2030"
         ],
         "xaxis": "x",
         "y": {
          "bdata": "+n5qvHST8D8ZBFYOLbLtP+XQItv5fuo/WmQ730+N5z93vp8aL93kPxBYObTIduI/fT81XrpJ4D956SYxCKzcP0jhehSuR9k/aJHtfD811j8v3SQGgZXTPw==",
          "dtype": "f8"
         },
         "yaxis": "y"
        },
        {
         "customdata": [
          [
           "France",
           "VUL"
          ],
          [
           "France",
           "VUL"
          ],
          [
           "France",
           "VUL"
          ],
          [
           "France",
           "VUL"
          ],
          [
           "France",
           "VUL"
          ],
          [
           "France",
           "VUL"
          ],
          [
           "France",
           "VUL"
          ],
          [
           "France",
           "VUL"
          ],
          [
           "France",
           "VUL"
          ],
          [
           "France",
           "VUL"
          ],
          [
           "France",
           "VUL"
          ]
         ],
         "hovertemplate": "<b>%{fullData.name}</b><br>Année : %{x}<br>Émissions : <b>%{y:.3f}</b> g/km<br>Roulage : %{customdata[0]}<extra></extra>",
         "legendgroup": "VUL",
         "line": {
          "color": "#FFA15A",
          "dash": "solid",
          "shape": "spline"
         },
         "marker": {
          "symbol": "circle"
         },
         "mode": "lines+markers",
         "name": "VUL",
         "orientation": "v",
         "showlegend": false,
         "type": "scatter",
         "x": [
          "2020",
          "2021",
          "2022",
          "2023",
          "2024",
          "2025",
          "2026",
          "2027",
          "2028",
          "2029",
          "2030"
         ],
         "xaxis": "x",
         "y": {
          "bdata": "ObTIdr6fij85tMh2vp+KPzm0yHa+n4o/eekmMQisjD+4HoXrUbiOP/yp8dJNYpA//Knx0k1ikD+cxCCwcmiRPzvfT42XbpI/2/l+arx0kz97FK5H4XqUPw==",
          "dtype": "f8"
         },
         "yaxis": "y"
        },
        {
         "customdata": [
          [
           "Rural",
           "VUL"
          ],
          [
           "Rural",
           "VUL"
          ],
          [
           "Rural",
           "VUL"
          ],
          [
           "Rural",
           "VUL"
          ],
          [
           "Rural",
           "VUL"
          ],
          [
           "Rural",
           "VUL"
          ],
          [
           "Rural",
           "VUL"
          ],
          [
           "Rural",
           "VUL"
          ],
          [
           "Rural",
           "VUL"
          ],
          [
           "Rural",
           "VUL"
          ],
          [
           "Rural",
           "VUL"
          ]
         ],
         "hovertemplate": "<b>%{fullData.name}</b><br>Année : %{x}<br>Émissions : <b>%{y:.3f}</b> g/km<br>Roulage : %{customdata[0]}<extra></extra>",
         "legendgroup": "VUL",
         "line": {
          "color": "#FFA15A",
          "dash": "solid",
          "shape": "spline"
         },
         "marker": {
          "symbol": "circle"
         },
         "mode": "lines+markers",
         "name": "VUL",
         "orientation": "v",
         "showlegend": false,
         "type": "scatter",
         "x": [
          "2020",
          "2021",
          "2022",
          "2023",
          "2024",
          "2025",
          "2026",
          "2027",
          "2028",
          "2029",
          "2030"
         ],
         "xaxis": "x2",
         "y": {
          "bdata": "okW28/3U0D9U46WbxCDQP2Dl0CLb+c4/bef7qfHSzT956SYxCKzMP9nO91Pjpcs/jZduEoPAyj9CYOXQItvJP0oMAiuHFsk/UrgehetRyD+uR+F6FK7HPw==",
          "dtype": "f8"
         },
         "yaxis": "y2"
        },
        {
         "customdata": [
          [
           "Rural",
           "VUL"
          ],
          [
           "Rural",
           "VUL"
          ],
          [
           "Rural",
           "VUL"
          ],
          [
           "Rural",
           "VUL"
          ],
          [
           "Rural",
           "VUL"
          ],
          [
           "Rural",
           "VUL"
          ],
          [
           "Rural",
           "VUL"
          ],
          [
           "Rural",
           "VUL"
          ],
          [
           "Rural",
           "VUL"
          ],
          [
           "Rural",
           "VUL"
          ],
          [
           "Rural",
           "VUL"
          ]
         ],
         "hovertemplate": "<b>%{fullData.name}</b><br>Année : %{x}<br>Émissions : <b>%{y:.3f}</b> g/km<br>Roulage : %{customdata[0]}<extra></extra>",
         "legendgroup": "VUL",
         "line": {
          "color": "#FFA15A",
          "dash": "solid",
          "shape": "spline"
         },
         "marker": {
          "symbol": "circle"
         },
         "mode": "lines+markers",
         "name": "VUL",
         "orientation": "v",
         "showlegend": false,
         "type": "scatter",
         "x": [
          "2020",
          "2021",
          "2022",
          "2023",
          "2024",
          "2025",
          "2026",
          "2027",
          "2028",
          "2029",
          "2030"
         ],
         "xaxis": "x2",
         "y": {
          "bdata": "Gy/dJAaBlT97FK5H4XqUP9v5fmq8dJM/2/l+arx0kz8730+Nl26SPzvfT42XbpI/nMQgsHJokT+cxCCwcmiRP5zEILByaJE/nMQgsHJokT+cxCCwcmiRPw==",
          "dtype": "f8"
         },
         "yaxis": "y2"
        },
        {
         "customdata": [
          [
           "Rural",
           "VUL"
          ],
          [
           "Rural",
           "VUL"
          ],
          [
           "Rural",
           "VUL"
          ],
          [
           "Rural",
           "VUL"
          ],
          [
           "Rural",
           "VUL"
          ],
          [
           "Rural",
           "VUL"
          ],
          [
           "Rural",
           "VUL"
          ],
          [
           "Rural",
           "VUL"
          ],
          [
           "Rural",
           "VUL"
          ],
          [
           "Rural",
           "VUL"
          ],
          [
           "Rural",
           "VUL"
          ]
         ],
         "hovertemplate": "<b>%{fullData.name}</b><br>Année : %{x}<br>Émissions : <b>%{y:.3f}</b> g/km<br>Roulage : %{customdata[0]}<extra></extra>",
         "legendgroup": "VUL",
         "line": {
          "color": "#FFA15A",
          "dash": "solid",
          "shape": "spline"
         },
         "marker": {
          "symbol": "circle"
         },
         "mode": "lines+markers",
         "name": "VUL",
         "orientation": "v",
         "showlegend": false,
         "type": "scatter",
         "x": [
          "2020",
          "2021",
          "2022",
          "2023",
          "2024",
          "2025",
          "2026",
          "2027",
          "2028",
          "2029",
          "2030"
         ],
         "xaxis": "x2",
         "y": {
          "bdata": "nMQgsHJo8T8zMzMzMzPvPwIrhxbZzus/TmIQWDm06D9CYOXQItvlP7Kd76fGS+M/y6FFtvP94D8X2c73U+PdPz0K16NwPdo/CtejcD0K1z/TTWIQWDnUPw==",
          "dtype": "f8"
         },
         "yaxis": "y2"
        },
        {
         "customdata": [
          [
           "Rural",
           "VUL"
          ],
          [
           "Rural",
           "VUL"
          ],
          [
           "Rural",
           "VUL"
          ],
          [
           "Rural",
           "VUL"
          ],
          [
           "Rural",
           "VUL"
          ],
          [
           "Rural",
           "VUL"
          ],
          [
           "Rural",
           "VUL"
          ],
          [
           "Rural",
           "VUL"
          ],
          [
           "Rural",
           "VUL"
          ],
          [
           "Rural",
           "VUL"
          ],
          [
           "Rural",
           "VUL"
          ]
         ],
         "hovertemplate": "<b>%{fullData.name}</b><br>Année : %{x}<br>Émissions : <b>%{y:.3f}</b> g/km<br>Roulage : %{customdata[0]}<extra></extra>",
         "legendgroup": "VUL",
         "line": {
          "color": "#FFA15A",
          "dash": "solid",
          "shape": "spline"
         },
         "marker": {
          "symbol": "circle"
         },
         "mode": "lines+markers",
         "name": "VUL",
         "orientation": "v",
         "showlegend": false,
         "type": "scatter",
         "x": [
          "2020",
          "2021",
          "2022",
          "2023",
          "2024",
          "2025",
          "2026",
          "2027",
          "2028",
          "2029",
          "2030"
         ],
         "xaxis": "x2",
         "y": {
          "bdata": "ObTIdr6fij956SYxCKyMP7gehetRuI4/nMQgsHJokT8730+Nl26SP9v5fmq8dJM/exSuR+F6lD+6SQwCK4eWP1pkO99PjZc/+n5qvHSTmD+amZmZmZmZPw==",
          "dtype": "f8"
         },
         "yaxis": "y2"
        },
        {
         "customdata": [
          [
           "Urbain",
           "VUL"
          ],
          [
           "Urbain",
           "VUL"
          ],
          [
           "Urbain",
           "VUL"
          ],
          [
           "Urbain",
           "VUL"
          ],
          [
           "Urbain",
           "VUL"
          ],
          [
           "Urbain",
           "VUL"
          ],
          [
           "Urbain",
           "VUL"
          ],
          [
           "Urbain",
           "VUL"
          ],
          [
           "Urbain",
           "VUL"
          ],
          [
           "Urbain",
           "VUL"
          ],
          [
           "Urbain",
           "VUL"
          ]
         ],
         "hovertemplate": "<b>%{fullData.name}</b><br>Année : %{x}<br>Émissions : <b>%{y:.3f}</b> g/km<br>Roulage : %{customdata[0]}<extra></extra>",
         "legendgroup": "VUL",
         "line": {
          "color": "#FFA15A",
          "dash": "solid",
          "shape": "spline"
         },
         "marker": {
          "symbol": "circle"
         },
         "mode": "lines+markers",
         "name": "VUL",
         "orientation": "v",
         "showlegend": false,
         "type": "scatter",
         "x": [
          "2020",
          "2021",
          "2022",
          "2023",
          "2024",
          "2025",
          "2026",
          "2027",
          "2028",
          "2029",
          "2030"
         ],
         "xaxis": "x3",
         "y": {
          "bdata": "BoGVQ4ts1z9mZmZmZmbWP3E9CtejcNU/JQaBlUOL1D/ZzvdT46XTPzeJQWDl0NI/PzVeukkM0j/y0k1iEFjRP05iEFg5tNA/qvHSTWIQ0D+0yHa+nxrPPw==",
          "dtype": "f8"
         },
         "yaxis": "y3"
        },
        {
         "customdata": [
          [
           "Urbain",
           "VUL"
          ],
          [
           "Urbain",
           "VUL"
          ],
          [
           "Urbain",
           "VUL"
          ],
          [
           "Urbain",
           "VUL"
          ],
          [
           "Urbain",
           "VUL"
          ],
          [
           "Urbain",
           "VUL"
          ],
          [
           "Urbain",
           "VUL"
          ],
          [
           "Urbain",
           "VUL"
          ],
          [
           "Urbain",
           "VUL"
          ],
          [
           "Urbain",
           "VUL"
          ],
          [
           "Urbain",
           "VUL"
          ]
         ],
         "hovertemplate": "<b>%{fullData.name}</b><br>Année : %{x}<br>Émissions : <b>%{y:.3f}</b> g/km<br>Roulage : %{customdata[0]}<extra></extra>",
         "legendgroup": "VUL",
         "line": {
          "color": "#FFA15A",
          "dash": "solid",
          "shape": "spline"
         },
         "marker": {
          "symbol": "circle"
         },
         "mode": "lines+markers",
         "name": "VUL",
         "orientation": "v",
         "showlegend": false,
         "type": "scatter",
         "x": [
          "2020",
          "2021",
          "2022",
          "2023",
          "2024",
          "2025",
          "2026",
          "2027",
          "2028",
          "2029",
          "2030"
         ],
         "xaxis": "x3",
         "y": {
          "bdata": "2c73U+Olmz85tMh2vp+aP5qZmZmZmZk/+n5qvHSTmD/6fmq8dJOYP1pkO99PjZc/WmQ730+Nlz9aZDvfT42XP1pkO99PjZc/WmQ730+Nlz9aZDvfT42XPw==",
          "dtype": "f8"
         },
         "yaxis": "y3"
        },
        {
         "customdata": [
          [
           "Urbain",
           "VUL"
          ],
          [
           "Urbain",
           "VUL"
          ],
          [
           "Urbain",
           "VUL"
          ],
          [
           "Urbain",
           "VUL"
          ],
          [
           "Urbain",
           "VUL"
          ],
          [
           "Urbain",
           "VUL"
          ],
          [
           "Urbain",
           "VUL"
          ],
          [
           "Urbain",
           "VUL"
          ],
          [
           "Urbain",
           "VUL"
          ],
          [
           "Urbain",
           "VUL"
          ],
          [
           "Urbain",
           "VUL"
          ]
         ],
         "hovertemplate": "<b>%{fullData.name}</b><br>Année : %{x}<br>Émissions : <b>%{y:.3f}</b> g/km<br>Roulage : %{customdata[0]}<extra></extra>",
         "legendgroup": "VUL",
         "line": {
          "color": "#FFA15A",
          "dash": "solid",
          "shape": "spline"
         },
         "marker": {
          "symbol": "circle"
         },
         "mode": "lines+markers",
         "name": "VUL",
         "orientation": "v",
         "showlegend": false,
         "type": "scatter",
         "x": [
          "2020",
          "2021",
          "2022",
          "2023",
          "2024",
          "2025",
          "2026",
          "2027",
          "2028",
          "2029",
          "2030"
         ],
         "xaxis": "x3",
         "y": {
          "bdata": "0SLb+X5q7D/wp8ZLN4npPwwCK4cW2eY//Knx0k1i5D/pJjEIrBziP39qvHSTGOA/JQaBlUOL3D/y0k1iEFjZPxBYObTIdtY/K4cW2c730z/ufD81XrrRPw==",
          "dtype": "f8"
         },
         "yaxis": "y3"
        },
        {
         "customdata": [
          [
           "Urbain",
           "VUL"
          ],
          [
           "Urbain",
           "VUL"
          ],
          [
           "Urbain",
           "VUL"
          ],
          [
           "Urbain",
           "VUL"
          ],
          [
           "Urbain",
           "VUL"
          ],
          [
           "Urbain",
           "VUL"
          ],
          [
           "Urbain",
           "VUL"
          ],
          [
           "Urbain",
           "VUL"
          ],
          [
           "Urbain",
           "VUL"
          ],
          [
           "Urbain",
           "VUL"
          ],
          [
           "Urbain",
           "VUL"
          ]
         ],
         "hovertemplate": "<b>%{fullData.name}</b><br>Année : %{x}<br>Émissions : <b>%{y:.3f}</b> g/km<br>Roulage : %{customdata[0]}<extra></extra>",
         "legendgroup": "VUL",
         "line": {
          "color": "#FFA15A",
          "dash": "solid",
          "shape": "spline"
         },
         "marker": {
          "symbol": "circle"
         },
         "mode": "lines+markers",
         "name": "VUL",
         "orientation": "v",
         "showlegend": false,
         "type": "scatter",
         "x": [
          "2020",
          "2021",
          "2022",
          "2023",
          "2024",
          "2025",
          "2026",
          "2027",
          "2028",
          "2029",
          "2030"
         ],
         "xaxis": "x3",
         "y": {
          "bdata": "ukkMAiuHhj97FK5H4XqEPzvfT42XboI//Knx0k1igD/8qfHSTWKAP3npJjEIrHw/eekmMQisfD956SYxCKx8P3npJjEIrHw/eekmMQisfD956SYxCKx8Pw==",
          "dtype": "f8"
         },
         "yaxis": "y3"
        },
        {
         "customdata": [
          [
           "France",
           "Voiture"
          ],
          [
           "France",
           "Voiture"
          ],
          [
           "France",
           "Voiture"
          ],
          [
           "France",
           "Voiture"
          ],
          [
           "France",
           "Voiture"
          ],
          [
           "France",
           "Voiture"
          ],
          [
           "France",
           "Voiture"
          ],
          [
           "France",
           "Voiture"
          ],
          [
           "France",
           "Voiture"
          ],
          [
           "France",
           "Voiture"
          ],
          [
           "France",
           "Voiture"
          ]
         ],
         "hovertemplate": "<b>%{fullData.name}</b><br>Année : %{x}<br>Émissions : <b>%{y:.3f}</b> g/km<br>Roulage : %{customdata[0]}<extra></extra>",
         "legendgroup": "Voiture",
         "line": {
          "color": "#19d3f3",
          "dash": "solid",
          "shape": "spline"
         },
         "marker": {
          "symbol": "circle"
         },
         "mode": "lines+markers",
         "name": "Voiture",
         "orientation": "v",
         "showlegend": true,
         "type": "scatter",
         "x": [
          "2020",
          "2021",
          "2022",
          "2023",
          "2024",
          "2025",
          "2026",
          "2027",
          "2028",
          "2029",
          "2030"
         ],
         "xaxis": "x",
         "y": {
          "bdata": "wBHK6G1Z8T8lBoGVQ4vwP/W2rNUxwe8/q6qqqqqq7j8YBFYOLbLtPz3DrgC51+w/uGWtjgke7D/obVmrY4LrPzVeukkMAus/yL3mQtKU6j+hjN6WtTrqPw==",
          "dtype": "f8"
         },
         "yaxis": "y"
        },
        {
         "customdata": [
          [
           "France",
           "Voiture"
          ],
          [
           "France",
           "Voiture"
          ],
          [
           "France",
           "Voiture"
          ],
          [
           "France",
           "Voiture"
          ],
          [
           "France",
           "Voiture"
          ],
          [
           "France",
           "Voiture"
          ],
          [
           "France",
           "Voiture"
          ],
          [
           "France",
           "Voiture"
          ],
          [
           "France",
           "Voiture"
          ],
          [
           "France",
           "Voiture"
          ],
          [
           "France",
           "Voiture"
          ]
         ],
         "hovertemplate": "<b>%{fullData.name}</b><br>Année : %{x}<br>Émissions : <b>%{y:.3f}</b> g/km<br>Roulage : %{customdata[0]}<extra></extra>",
         "legendgroup": "Voiture",
         "line": {
          "color": "#19d3f3",
          "dash": "solid",
          "shape": "spline"
         },
         "marker": {
          "symbol": "circle"
         },
         "mode": "lines+markers",
         "name": "Voiture",
         "orientation": "v",
         "showlegend": false,
         "type": "scatter",
         "x": [
          "2020",
          "2021",
          "2022",
          "2023",
          "2024",
          "2025",
          "2026",
          "2027",
          "2028",
          "2029",
          "2030"
         ],
         "xaxis": "x",
         "y": {
          "bdata": "qX8jlNHbwj8JZfS2rNXBP0w3iUFg5cA/N9BpA502wD8IrBxaZDu/P0t+seQXS74/UyrOPnyGvT89w64Aude8P+01F5KmVLw/gJVDi2znuz8T9W+EMnq7Pw==",
          "dtype": "f8"
         },
         "yaxis": "y"
        },
        {
         "customdata": [
          [
           "France",
           "Voiture"
          ],
          [
           "France",
           "Voiture"
          ],
          [
           "France",
           "Voiture"
          ],
          [
           "France",
           "Voiture"
          ],
          [
           "France",
           "Voiture"
          ],
          [
           "France",
           "Voiture"
          ],
          [
           "France",
           "Voiture"
          ],
          [
           "France",
           "Voiture"
          ],
          [
           "France",
           "Voiture"
          ],
          [
           "France",
           "Voiture"
          ],
          [
           "France",
           "Voiture"
          ]
         ],
         "hovertemplate": "<b>%{fullData.name}</b><br>Année : %{x}<br>Émissions : <b>%{y:.3f}</b> g/km<br>Roulage : %{customdata[0]}<extra></extra>",
         "legendgroup": "Voiture",
         "line": {
          "color": "#19d3f3",
          "dash": "solid",
          "shape": "spline"
         },
         "marker": {
          "symbol": "circle"
         },
         "mode": "lines+markers",
         "name": "Voiture",
         "orientation": "v",
         "showlegend": false,
         "type": "scatter",
         "x": [
          "2020",
          "2021",
          "2022",
          "2023",
          "2024",
          "2025",
          "2026",
          "2027",
          "2028",
          "2029",
          "2030"
         ],
         "xaxis": "x",
         "y": {
          "bdata": "jd6WtTom4D/4mgtJUyreP2BXgNxrLtw/sAC511xI2j+lm8QgsHLYP/EZdgXIvdY/5on6N0IZ1T8v3SQGgZXTP+kmMQisHNI/TmIQWDm00D+bC0lTKs7OPw==",
          "dtype": "f8"
         },
         "yaxis": "y"
        },
        {
         "customdata": [
          [
           "France",
           "Voiture"
          ],
          [
           "France",
           "Voiture"
          ],
          [
           "France",
           "Voiture"
          ],
          [
           "France",
           "Voiture"
          ],
          [
           "France",
           "Voiture"
          ],
          [
           "France",
           "Voiture"
          ],
          [
           "France",
           "Voiture"
          ],
          [
           "France",
           "Voiture"
          ],
          [
           "France",
           "Voiture"
          ],
          [
           "France",
           "Voiture"
          ],
          [
           "France",
           "Voiture"
          ]
         ],
         "hovertemplate": "<b>%{fullData.name}</b><br>Année : %{x}<br>Émissions : <b>%{y:.3f}</b> g/km<br>Roulage : %{customdata[0]}<extra></extra>",
         "legendgroup": "Voiture",
         "line": {
          "color": "#19d3f3",
          "dash": "solid",
          "shape": "spline"
         },
         "marker": {
          "symbol": "circle"
         },
         "mode": "lines+markers",
         "name": "Voiture",
         "orientation": "v",
         "showlegend": false,
         "type": "scatter",
         "x": [
          "2020",
          "2021",
          "2022",
          "2023",
          "2024",
          "2025",
          "2026",
          "2027",
          "2028",
          "2029",
          "2030"
         ],
         "xaxis": "x",
         "y": {
          "bdata": "JngwT9S/cT+kt2WtjgluP/t+arx0k2g/peLsw2fYZT/8qfHSTWJgP/yp8dJNYmA/TxvotIFOWz9PG+i0gU5bP08b6LSBTls/peLsw2fYVT+l4uzDZ9hVPw==",
          "dtype": "f8"
         },
         "yaxis": "y"
        },
        {
         "customdata": [
          [
           "Rural",
           "Voiture"
          ],
          [
           "Rural",
           "Voiture"
          ],
          [
           "Rural",
           "Voiture"
          ],
          [
           "Rural",
           "Voiture"
          ],
          [
           "Rural",
           "Voiture"
          ],
          [
           "Rural",
           "Voiture"
          ],
          [
           "Rural",
           "Voiture"
          ],
          [
           "Rural",
           "Voiture"
          ],
          [
           "Rural",
           "Voiture"
          ],
          [
           "Rural",
           "Voiture"
          ],
          [
           "Rural",
           "Voiture"
          ]
         ],
         "hovertemplate": "<b>%{fullData.name}</b><br>Année : %{x}<br>Émissions : <b>%{y:.3f}</b> g/km<br>Roulage : %{customdata[0]}<extra></extra>",
         "legendgroup": "Voiture",
         "line": {
          "color": "#19d3f3",
          "dash": "solid",
          "shape": "spline"
         },
         "marker": {
          "symbol": "circle"
         },
         "mode": "lines+markers",
         "name": "Voiture",
         "orientation": "v",
         "showlegend": false,
         "type": "scatter",
         "x": [
          "2020",
          "2021",
          "2022",
          "2023",
          "2024",
          "2025",
          "2026",
          "2027",
          "2028",
          "2029",
          "2030"
         ],
         "xaxis": "x2",
         "y": {
          "bdata": "8dJNYhBY8T97FK5H4XrwP03wYJ6of+8/dQXIveZC7j9l9Las1THtP3DLWh0TPOw/zYWkKRVn6z+4HoXrUbjqP4WkKRVnH+o/05SKsw+f6T9l9Las1THpPw==",
          "dtype": "f8"
         },
         "yaxis": "y2"
        },
        {
         "customdata": [
          [
           "Rural",
           "Voiture"
          ],
          [
           "Rural",
           "Voiture"
          ],
          [
           "Rural",
           "Voiture"
          ],
          [
           "Rural",
           "Voiture"
          ],
          [
           "Rural",
           "Voiture"
          ],
          [
           "Rural",
           "Voiture"
          ],
          [
           "Rural",
           "Voiture"
          ],
          [
           "Rural",
           "Voiture"
          ],
          [
           "Rural",
           "Voiture"
          ],
          [
           "Rural",
           "Voiture"
          ],
          [
           "Rural",
           "Voiture"
          ]
         ],
         "hovertemplate": "<b>%{fullData.name}</b><br>Année : %{x}<br>Émissions : <b>%{y:.3f}</b> g/km<br>Roulage : %{customdata[0]}<extra></extra>",
         "legendgroup": "Voiture",
         "line": {
          "color": "#19d3f3",
          "dash": "solid",
          "shape": "spline"
         },
         "marker": {
          "symbol": "circle"
         },
         "mode": "lines+markers",
         "name": "Voiture",
         "orientation": "v",
         "showlegend": false,
         "type": "scatter",
         "x": [
          "2020",
          "2021",
          "2022",
          "2023",
          "2024",
          "2025",
          "2026",
          "2027",
          "2028",
          "2029",
          "2030"
         ],
         "xaxis": "x2",
         "y": {
          "bdata": "7FG4HoXrwT+9LWt1TPDAP+Psw2fYFcA/ffgMuwLkvj8YBFYOLbK9Pz3DrgC517w/RW/LWh0TvD8T9W+EMnq7P8Rn2BUg97o/ObTIdr6fuj+vALnXXEi6Pw==",
          "dtype": "f8"
         },
         "yaxis": "y2"
        },
        {
         "customdata": [
          [
           "Rural",
           "Voiture"
          ],
          [
           "Rural",
           "Voiture"
          ],
          [
           "Rural",
           "Voiture"
          ],
          [
           "Rural",
           "Voiture"
          ],
          [
           "Rural",
           "Voiture"
          ],
          [
           "Rural",
           "Voiture"
          ],
          [
           "Rural",
           "Voiture"
          ],
          [
           "Rural",
           "Voiture"
          ],
          [
           "Rural",
           "Voiture"
          ],
          [
           "Rural",
           "Voiture"
          ],
          [
           "Rural",
           "Voiture"
          ]
         ],
         "hovertemplate": "<b>%{fullData.name}</b><br>Année : %{x}<br>Émissions : <b>%{y:.3f}</b> g/km<br>Roulage : %{customdata[0]}<extra></extra>",
         "legendgroup": "Voiture",
         "line": {
          "color": "#19d3f3",
          "dash": "solid",
          "shape": "spline"
         },
         "marker": {
          "symbol": "circle"
         },
         "mode": "lines+markers",
         "name": "Voiture",
         "orientation": "v",
         "showlegend": false,
         "type": "scatter",
         "x": [
          "2020",
          "2021",
          "2022",
          "2023",
          "2024",
          "2025",
          "2026",
          "2027",
          "2028",
          "2029",
          "2030"
         ],
         "xaxis": "x2",
         "y": {
          "bdata": "0LArQO413z+Qe82FpCndP2wuJE2pONs/ZMkvlvxi2T89Uf9GKKPXPzPBg3mi/tU/CR7ME/Vv1D+LbOf7qfHSP7es1THBg9E//dR46SYx0D9P1L8RyujNPw==",
          "dtype": "f8"
         },
         "yaxis": "y2"
        },
        {
         "customdata": [
          [
           "Rural",
           "Voiture"
          ],
          [
           "Rural",
           "Voiture"
          ],
          [
           "Rural",
           "Voiture"
          ],
          [
           "Rural",
           "Voiture"
          ],
          [
           "Rural",
           "Voiture"
          ],
          [
           "Rural",
           "Voiture"
          ],
          [
           "Rural",
           "Voiture"
          ],
          [
           "Rural",
           "Voiture"
          ],
          [
           "Rural",
           "Voiture"
          ],
          [
           "Rural",
           "Voiture"
          ],
          [
           "Rural",
           "Voiture"
          ]
         ],
         "hovertemplate": "<b>%{fullData.name}</b><br>Année : %{x}<br>Émissions : <b>%{y:.3f}</b> g/km<br>Roulage : %{customdata[0]}<extra></extra>",
         "legendgroup": "Voiture",
         "line": {
          "color": "#19d3f3",
          "dash": "solid",
          "shape": "spline"
         },
         "marker": {
          "symbol": "circle"
         },
         "mode": "lines+markers",
         "name": "Voiture",
         "orientation": "v",
         "showlegend": false,
         "type": "scatter",
         "x": [
          "2020",
          "2021",
          "2022",
          "2023",
          "2024",
          "2025",
          "2026",
          "2027",
          "2028",
          "2029",
          "2030"
         ],
         "xaxis": "x2",
         "y": {
          "bdata": "pLdlrY4Jbj+kt2WtjgluP/t+arx0k2g/peLsw2fYZT9RRm/LWh1jP08b6LSBTls/TxvotIFOWz9PG+i0gU5bP6Xi7MNn2FU/peLsw2fYVT/8qfHSTWJQPw==",
          "dtype": "f8"
         },
         "yaxis": "y2"
        },
        {
         "customdata": [
          [
           "Urbain",
           "Voiture"
          ],
          [
           "Urbain",
           "Voiture"
          ],
          [
           "Urbain",
           "Voiture"
          ],
          [
           "Urbain",
           "Voiture"
          ],
          [
           "Urbain",
           "Voiture"
          ],
          [
           "Urbain",
           "Voiture"
          ],
          [
           "Urbain",
           "Voiture"
          ],
          [
           "Urbain",
           "Voiture"
          ],
          [
           "Urbain",
           "Voiture"
          ],
          [
           "Urbain",
           "Voiture"
          ],
          [
           "Urbain",
           "Voiture"
          ]
         ],
         "hovertemplate": "<b>%{fullData.name}</b><br>Année : %{x}<br>Émissions : <b>%{y:.3f}</b> g/km<br>Roulage : %{customdata[0]}<extra></extra>",
         "legendgroup": "Voiture",
         "line": {
          "color": "#19d3f3",
          "dash": "solid",
          "shape": "spline"
         },
         "marker": {
          "symbol": "circle"
         },
         "mode": "lines+markers",
         "name": "Voiture",
         "orientation": "v",
         "showlegend": false,
         "type": "scatter",
         "x": [
          "2020",
          "2021",
          "2022",
          "2023",
          "2024",
          "2025",
          "2026",
          "2027",
          "2028",
          "2029",
          "2030"
         ],
         "xaxis": "x3",
         "y": {
          "bdata": "T9S/Ecro8T85baDTBjrxPxVnHz7DrvA/PQrXo3A98D/1tqzVMcHvP+3DZ9gVIO8/ZTvfT42X7j/ME/VvhDLuP0Fg5dAi2+0/mZmZmZmZ7T8ARyijt2XtPw==",
          "dtype": "f8"
         },
         "yaxis": "y3"
        },
        {
         "customdata": [
          [
           "Urbain",
           "Voiture"
          ],
          [
           "Urbain",
           "Voiture"
          ],
          [
           "Urbain",
           "Voiture"
          ],
          [
           "Urbain",
           "Voiture"
          ],
          [
           "Urbain",
           "Voiture"
          ],
          [
           "Urbain",
           "Voiture"
          ],
          [
           "Urbain",
           "Voiture"
          ],
          [
           "Urbain",
           "Voiture"
          ],
          [
           "Urbain",
           "Voiture"
          ],
          [
           "Urbain",
           "Voiture"
          ],
          [
           "Urbain",
           "Voiture"
          ]
         ],
         "hovertemplate": "<b>%{fullData.name}</b><br>Année : %{x}<br>Émissions : <b>%{y:.3f}</b> g/km<br>Roulage : %{customdata[0]}<extra></extra>",
         "legendgroup": "Voiture",
         "line": {
          "color": "#19d3f3",
          "dash": "solid",
          "shape": "spline"
         },
         "marker": {
          "symbol": "circle"
         },
         "mode": "lines+markers",
         "name": "Voiture",
         "orientation": "v",
         "showlegend": false,
         "type": "scatter",
         "x": [
          "2020",
          "2021",
          "2022",
          "2023",
          "2024",
          "2025",
          "2026",
          "2027",
          "2028",
          "2029",
          "2030"
         ],
         "xaxis": "x3",
         "y": {
          "bdata": "a7x0kxgExj+x5BdLfrHEPxHK6G1Zq8M/N4lBYOXQwj+xK0DuNRfCP3+x5BdLfsE/oBov3SQGwT+kcD0K16PAPxm9LWt1TMA/cfbhM+wKwD91TPBgnqi/Pw==",
          "dtype": "f8"
         },
         "yaxis": "y3"
        },
        {
         "customdata": [
          [
           "Urbain",
           "Voiture"
          ],
          [
           "Urbain",
           "Voiture"
          ],
          [
           "Urbain",
           "Voiture"
          ],
          [
           "Urbain",
           "Voiture"
          ],
          [
           "Urbain",
           "Voiture"
          ],
          [
           "Urbain",
           "Voiture"
          ],
          [
           "Urbain",
           "Voiture"
          ],
          [
           "Urbain",
           "Voiture"
          ],
          [
           "Urbain",
           "Voiture"
          ],
          [
           "Urbain",
           "Voiture"
          ],
          [
           "Urbain",
           "Voiture"
          ]
         ],
         "hovertemplate": "<b>%{fullData.name}</b><br>Année : %{x}<br>Émissions : <b>%{y:.3f}</b> g/km<br>Roulage : %{customdata[0]}<extra></extra>",
         "legendgroup": "Voiture",
         "line": {
          "color": "#19d3f3",
          "dash": "solid",
          "shape": "spline"
         },
         "marker": {
          "symbol": "circle"
         },
         "mode": "lines+markers",
         "name": "Voiture",
         "orientation": "v",
         "showlegend": false,
         "type": "scatter",
         "x": [
          "2020",
          "2021",
          "2022",
          "2023",
          "2024",
          "2025",
          "2026",
          "2027",
          "2028",
          "2029",
          "2030"
         ],
         "xaxis": "x3",
         "y": {
          "bdata": "h10Bcq+54D95ov6NUEbfP3Noke18P90/3SQGgZVD2z8rzj58hl3ZPwRWDi2yndc/UNS/Ecro1T+1OiZ4ME/UP8WSXyz5xdI/uddcSJpS0T+PCR7ME/XPPw==",
          "dtype": "f8"
         },
         "yaxis": "y3"
        },
        {
         "customdata": [
          [
           "Urbain",
           "Voiture"
          ],
          [
           "Urbain",
           "Voiture"
          ],
          [
           "Urbain",
           "Voiture"
          ],
          [
           "Urbain",
           "Voiture"
          ],
          [
           "Urbain",
           "Voiture"
          ],
          [
           "Urbain",
           "Voiture"
          ],
          [
           "Urbain",
           "Voiture"
          ],
          [
           "Urbain",
           "Voiture"
          ],
          [
           "Urbain",
           "Voiture"
          ],
          [
           "Urbain",
           "Voiture"
          ],
          [
           "Urbain",
           "Voiture"
          ]
         ],
         "hovertemplate": "<b>%{fullData.name}</b><br>Année : %{x}<br>Émissions : <b>%{y:.3f}</b> g/km<br>Roulage : %{customdata[0]}<extra></extra>",
         "legendgroup": "Voiture",
         "line": {
          "color": "#19d3f3",
          "dash": "solid",
          "shape": "spline"
         },
         "marker": {
          "symbol": "circle"
         },
         "mode": "lines+markers",
         "name": "Voiture",
         "orientation": "v",
         "showlegend": false,
         "type": "scatter",
         "x": [
          "2020",
          "2021",
          "2022",
          "2023",
          "2024",
          "2025",
          "2026",
          "2027",
          "2028",
          "2029",
          "2030"
         ],
         "xaxis": "x3",
         "y": {
          "bdata": "J3gwT9S/cT+jt2WtjgluP1Ab6LSBTms/peLsw2fYZT+l4uzDZ9hlP/yp8dJNYmA//Knx0k1iYD/8qfHSTWJgP08b6LSBTls/peLsw2fYVT+l4uzDZ9hVPw==",
          "dtype": "f8"
         },
         "yaxis": "y3"
        }
       ],
       "layout": {
        "annotations": [
         {
          "font": {},
          "showarrow": false,
          "text": "France",
          "x": 0.15999999999999998,
          "xanchor": "center",
          "xref": "paper",
          "y": 1.0,
          "yanchor": "bottom",
          "yref": "paper"
         },
         {
          "font": {},
          "showarrow": false,
          "text": "Rural",
          "x": 0.49999999999999994,
          "xanchor": "center",
          "xref": "paper",
          "y": 1.0,
          "yanchor": "bottom",
          "yref": "paper"
         },
         {
          "font": {},
          "showarrow": false,
          "text": "Urbain",
          "x": 0.8399999999999999,
          "xanchor": "center",
          "xref": "paper",
          "y": 1.0,
          "yanchor": "bottom",
          "yref": "paper"
         }
        ],
        "font": {
         "family": "Poppins",
         "size": 11
        },
        "height": 450,
        "legend": {
         "orientation": "h",
         "title": {
          "text": "Type&nbsp;véhicule"
         },
         "tracegroupgap": 0,
         "x": 0.5,
         "xanchor": "center",
         "y": -0.2,
         "yanchor": "bottom"
        },
        "margin": {
         "b": 60,
         "l": 40,
         "r": 20,
         "t": 60
        },
        "template": {
         "data": {
          "bar": [
           {
            "error_x": {
             "color": "#2a3f5f"
            },
            "error_y": {
             "color": "#2a3f5f"
            },
            "marker": {
             "line": {
              "color": "white",
              "width": 0.5
             },
             "pattern": {
              "fillmode": "overlay",
              "size": 10,
              "solidity": 0.2
             }
            },
            "type": "bar"
           }
          ],
          "barpolar": [
           {
            "marker": {
             "line": {
              "color": "white",
              "width": 0.5
             },
             "pattern": {
              "fillmode": "overlay",
              "size": 10,
              "solidity": 0.2
             }
            },
            "type": "barpolar"
           }
          ],
          "carpet": [
           {
            "aaxis": {
             "endlinecolor": "#2a3f5f",
             "gridcolor": "#C8D4E3",
             "linecolor": "#C8D4E3",
             "minorgridcolor": "#C8D4E3",
             "startlinecolor": "#2a3f5f"
            },
            "baxis": {
             "endlinecolor": "#2a3f5f",
             "gridcolor": "#C8D4E3",
             "linecolor": "#C8D4E3",
             "minorgridcolor": "#C8D4E3",
             "startlinecolor": "#2a3f5f"
            },
            "type": "carpet"
           }
          ],
          "choropleth": [
           {
            "colorbar": {
             "outlinewidth": 0,
             "ticks": ""
            },
            "type": "choropleth"
           }
          ],
          "contour": [
           {
            "colorbar": {
             "outlinewidth": 0,
             "ticks": ""
            },
            "colorscale": [
             [
              0.0,
              "#0d0887"
             ],
             [
              0.1111111111111111,
              "#46039f"
             ],
             [
              0.2222222222222222,
              "#7201a8"
             ],
             [
              0.3333333333333333,
              "#9c179e"
             ],
             [
              0.4444444444444444,
              "#bd3786"
             ],
             [
              0.5555555555555556,
              "#d8576b"
             ],
             [
              0.6666666666666666,
              "#ed7953"
             ],
             [
              0.7777777777777778,
              "#fb9f3a"
             ],
             [
              0.8888888888888888,
              "#fdca26"
             ],
             [
              1.0,
              "#f0f921"
             ]
            ],
            "type": "contour"
           }
          ],
          "contourcarpet": [
           {
            "colorbar": {
             "outlinewidth": 0,
             "ticks": ""
            },
            "type": "contourcarpet"
           }
          ],
          "heatmap": [
           {
            "colorbar": {
             "outlinewidth": 0,
             "ticks": ""
            },
            "colorscale": [
             [
              0.0,
              "#0d0887"
             ],
             [
              0.1111111111111111,
              "#46039f"
             ],
             [
              0.2222222222222222,
              "#7201a8"
             ],
             [
              0.3333333333333333,
              "#9c179e"
             ],
             [
              0.4444444444444444,
              "#bd3786"
             ],
             [
              0.5555555555555556,
              "#d8576b"
             ],
             [
              0.6666666666666666,
              "#ed7953"
             ],
             [
              0.7777777777777778,
              "#fb9f3a"
             ],
             [
              0.8888888888888888,
              "#fdca26"
             ],
             [
              1.0,
              "#f0f921"
             ]
            ],
            "type": "heatmap"
           }
          ],
          "histogram": [
           {
            "marker": {
             "pattern": {
              "fillmode": "overlay",
              "size": 10,
              "solidity": 0.2
             }
            },
            "type": "histogram"
           }
          ],
          "histogram2d": [
           {
            "colorbar": {
             "outlinewidth": 0,
             "ticks": ""
            },
            "colorscale": [
             [
              0.0,
              "#0d0887"
             ],
             [
              0.1111111111111111,
              "#46039f"
             ],
             [
              0.2222222222222222,
              "#7201a8"
             ],
             [
              0.3333333333333333,
              "#9c179e"
             ],
             [
              0.4444444444444444,
              "#bd3786"
             ],
             [
              0.5555555555555556,
              "#d8576b"
             ],
             [
              0.6666666666666666,
              "#ed7953"
             ],
             [
              0.7777777777777778,
              "#fb9f3a"
             ],
             [
              0.8888888888888888,
              "#fdca26"
             ],
             [
              1.0,
              "#f0f921"
             ]
            ],
            "type": "histogram2d"
           }
          ],
          "histogram2dcontour": [
           {
            "colorbar": {
             "outlinewidth": 0,
             "ticks": ""
            },
            "colorscale": [
             [
              0.0,
              "#0d0887"
             ],
             [
              0.1111111111111111,
              "#46039f"
             ],
             [
              0.2222222222222222,
              "#7201a8"
             ],
             [
              0.3333333333333333,
              "#9c179e"
             ],
             [
              0.4444444444444444,
              "#bd3786"
             ],
             [
              0.5555555555555556,
              "#d8576b"
             ],
             [
              0.6666666666666666,
              "#ed7953"
             ],
             [
              0.7777777777777778,
              "#fb9f3a"
             ],
             [
              0.8888888888888888,
              "#fdca26"
             ],
             [
              1.0,
              "#f0f921"
             ]
            ],
            "type": "histogram2dcontour"
           }
          ],
          "mesh3d": [
           {
            "colorbar": {
             "outlinewidth": 0,
             "ticks": ""
            },
            "type": "mesh3d"
           }
          ],
          "parcoords": [
           {
            "line": {
             "colorbar": {
              "outlinewidth": 0,
              "ticks": ""
             }
            },
            "type": "parcoords"
           }
          ],
          "pie": [
           {
            "automargin": true,
            "type": "pie"
           }
          ],
          "scatter": [
           {
            "fillpattern": {
             "fillmode": "overlay",
             "size": 10,
             "solidity": 0.2
            },
            "type": "scatter"
           }
          ],
          "scatter3d": [
           {
            "line": {
             "colorbar": {
              "outlinewidth": 0,
              "ticks": ""
             }
            },
            "marker": {
             "colorbar": {
              "outlinewidth": 0,
              "ticks": ""
             }
            },
            "type": "scatter3d"
           }
          ],
          "scattercarpet": [
           {
            "marker": {
             "colorbar": {
              "outlinewidth": 0,
              "ticks": ""
             }
            },
            "type": "scattercarpet"
           }
          ],
          "scattergeo": [
           {
            "marker": {
             "colorbar": {
              "outlinewidth": 0,
              "ticks": ""
             }
            },
            "type": "scattergeo"
           }
          ],
          "scattergl": [
           {
            "marker": {
             "colorbar": {
              "outlinewidth": 0,
              "ticks": ""
             }
            },
            "type": "scattergl"
           }
          ],
          "scattermap": [
           {
            "marker": {
             "colorbar": {
              "outlinewidth": 0,
              "ticks": ""
             }
            },
            "type": "scattermap"
           }
          ],
          "scattermapbox": [
           {
            "marker": {
             "colorbar": {
              "outlinewidth": 0,
              "ticks": ""
             }
            },
            "type": "scattermapbox"
           }
          ],
          "scatterpolar": [
           {
            "marker": {
             "colorbar": {
              "outlinewidth": 0,
              "ticks": ""
             }
            },
            "type": "scatterpolar"
           }
          ],
          "scatterpolargl": [
           {
            "marker": {
             "colorbar": {
              "outlinewidth": 0,
              "ticks": ""
             }
            },
            "type": "scatterpolargl"
           }
          ],
          "scatterternary": [
           {
            "marker": {
             "colorbar": {
              "outlinewidth": 0,
              "ticks": ""
             }
            },
            "type": "scatterternary"
           }
          ],
          "surface": [
           {
            "colorbar": {
             "outlinewidth": 0,
             "ticks": ""
            },
            "colorscale": [
             [
              0.0,
              "#0d0887"
             ],
             [
              0.1111111111111111,
              "#46039f"
             ],
             [
              0.2222222222222222,
              "#7201a8"
             ],
             [
              0.3333333333333333,
              "#9c179e"
             ],
             [
              0.4444444444444444,
              "#bd3786"
             ],
             [
              0.5555555555555556,
              "#d8576b"
             ],
             [
              0.6666666666666666,
              "#ed7953"
             ],
             [
              0.7777777777777778,
              "#fb9f3a"
             ],
             [
              0.8888888888888888,
              "#fdca26"
             ],
             [
              1.0,
              "#f0f921"
             ]
            ],
            "type": "surface"
           }
          ],
          "table": [
           {
            "cells": {
             "fill": {
              "color": "#EBF0F8"
             },
             "line": {
              "color": "white"
             }
            },
            "header": {
             "fill": {
              "color": "#C8D4E3"
             },
             "line": {
              "color": "white"
             }
            },
            "type": "table"
           }
          ]
         },
         "layout": {
          "annotationdefaults": {
           "arrowcolor": "#2a3f5f",
           "arrowhead": 0,
           "arrowwidth": 1
          },
          "autotypenumbers": "strict",
          "coloraxis": {
           "colorbar": {
            "outlinewidth": 0,
            "ticks": ""
           }
          },
          "colorscale": {
           "diverging": [
            [
             0,
             "#8e0152"
            ],
            [
             0.1,
             "#c51b7d"
            ],
            [
             0.2,
             "#de77ae"
            ],
            [
             0.3,
             "#f1b6da"
            ],
            [
             0.4,
             "#fde0ef"
            ],
            [
             0.5,
             "#f7f7f7"
            ],
            [
             0.6,
             "#e6f5d0"
            ],
            [
             0.7,
             "#b8e186"
            ],
            [
             0.8,
             "#7fbc41"
            ],
            [
             0.9,
             "#4d9221"
            ],
            [
             1,
             "#276419"
            ]
           ],
           "sequential": [
            [
             0.0,
             "#0d0887"
            ],
            [
             0.1111111111111111,
             "#46039f"
            ],
            [
             0.2222222222222222,
             "#7201a8"
            ],
            [
             0.3333333333333333,
             "#9c179e"
            ],
            [
             0.4444444444444444,
             "#bd3786"
            ],
            [
             0.5555555555555556,
             "#d8576b"
            ],
            [
             0.6666666666666666,
             "#ed7953"
            ],
            [
             0.7777777777777778,
             "#fb9f3a"
            ],
            [
             0.8888888888888888,
             "#fdca26"
            ],
            [
             1.0,
             "#f0f921"
            ]
           ],
           "sequentialminus": [
            [
             0.0,
             "#0d0887"
            ],
            [
             0.1111111111111111,
             "#46039f"
            ],
            [
             0.2222222222222222,
             "#7201a8"
            ],
            [
             0.3333333333333333,
             "#9c179e"
            ],
            [
             0.4444444444444444,
             "#bd3786"
            ],
            [
             0.5555555555555556,
             "#d8576b"
            ],
            [
             0.6666666666666666,
             "#ed7953"
            ],
            [
             0.7777777777777778,
             "#fb9f3a"
            ],
            [
             0.8888888888888888,
             "#fdca26"
            ],
            [
             1.0,
             "#f0f921"
            ]
           ]
          },
          "colorway": [
           "#636efa",
           "#EF553B",
           "#00cc96",
           "#ab63fa",
           "#FFA15A",
           "#19d3f3",
           "#FF6692",
           "#B6E880",
           "#FF97FF",
           "#FECB52"
          ],
          "font": {
           "color": "#2a3f5f"
          },
          "geo": {
           "bgcolor": "white",
           "lakecolor": "white",
           "landcolor": "white",
           "showlakes": true,
           "showland": true,
           "subunitcolor": "#C8D4E3"
          },
          "hoverlabel": {
           "align": "left"
          },
          "hovermode": "closest",
          "mapbox": {
           "style": "light"
          },
          "paper_bgcolor": "white",
          "plot_bgcolor": "white",
          "polar": {
           "angularaxis": {
            "gridcolor": "#EBF0F8",
            "linecolor": "#EBF0F8",
            "ticks": ""
           },
           "bgcolor": "white",
           "radialaxis": {
            "gridcolor": "#EBF0F8",
            "linecolor": "#EBF0F8",
            "ticks": ""
           }
          },
          "scene": {
           "xaxis": {
            "backgroundcolor": "white",
            "gridcolor": "#DFE8F3",
            "gridwidth": 2,
            "linecolor": "#EBF0F8",
            "showbackground": true,
            "ticks": "",
            "zerolinecolor": "#EBF0F8"
           },
           "yaxis": {
            "backgroundcolor": "white",
            "gridcolor": "#DFE8F3",
            "gridwidth": 2,
            "linecolor": "#EBF0F8",
            "showbackground": true,
            "ticks": "",
            "zerolinecolor": "#EBF0F8"
           },
           "zaxis": {
            "backgroundcolor": "white",
            "gridcolor": "#DFE8F3",
            "gridwidth": 2,
            "linecolor": "#EBF0F8",
            "showbackground": true,
            "ticks": "",
            "zerolinecolor": "#EBF0F8"
           }
          },
          "shapedefaults": {
           "line": {
            "color": "#2a3f5f"
           }
          },
          "ternary": {
           "aaxis": {
            "gridcolor": "#DFE8F3",
            "linecolor": "#A2B1C6",
            "ticks": ""
           },
           "baxis": {
            "gridcolor": "#DFE8F3",
            "linecolor": "#A2B1C6",
            "ticks": ""
           },
           "bgcolor": "white",
           "caxis": {
            "gridcolor": "#DFE8F3",
            "linecolor": "#A2B1C6",
            "ticks": ""
           }
          },
          "title": {
           "x": 0.05
          },
          "xaxis": {
           "automargin": true,
           "gridcolor": "#EBF0F8",
           "linecolor": "#EBF0F8",
           "ticks": "",
           "title": {
            "standoff": 15
           },
           "zerolinecolor": "#EBF0F8",
           "zerolinewidth": 2
          },
          "yaxis": {
           "automargin": true,
           "gridcolor": "#EBF0F8",
           "linecolor": "#EBF0F8",
           "ticks": "",
           "title": {
            "standoff": 15
           },
           "zerolinecolor": "#EBF0F8",
           "zerolinewidth": 2
          }
         }
        },
        "title": {
         "text": "Évolution des émissions moyennes par type véhicule et contexte de roulage"
        },
        "xaxis": {
         "anchor": "y",
         "domain": [
          0.0,
          0.31999999999999995
         ],
         "dtick": 1,
         "tick0": 2020,
         "tickmode": "linear",
         "title": {
          "text": ""
         }
        },
        "xaxis2": {
         "anchor": "y2",
         "domain": [
          0.33999999999999997,
          0.6599999999999999
         ],
         "dtick": 1,
         "matches": "x",
         "tick0": 2020,
         "tickmode": "linear",
         "title": {
          "text": ""
         }
        },
        "xaxis3": {
         "anchor": "y3",
         "domain": [
          0.6799999999999999,
          0.9999999999999999
         ],
         "dtick": 1,
         "matches": "x",
         "tick0": 2020,
         "tickmode": "linear",
         "title": {
          "text": ""
         }
        },
        "yaxis": {
         "anchor": "x",
         "domain": [
          0.0,
          1.0
         ],
         "title": {
          "text": "Émissions (g/km)"
         }
        },
        "yaxis2": {
         "anchor": "x2",
         "domain": [
          0.0,
          1.0
         ],
         "matches": "y",
         "showticklabels": false
        },
        "yaxis3": {
         "anchor": "x3",
         "domain": [
          0.0,
          1.0
         ],
         "matches": "y",
         "showticklabels": false
        }
       }
      }
     },
     "metadata": {},
     "output_type": "display_data"
    }
   ],
   "source": [
    "import pandas as pd\n",
    "import duckdb as ddb\n",
    "import plotly.express as px\n",
    "import pandas as pd\n",
    "\n",
    "fig = px.line(\n",
    "    df.sort_values(['Véhicule', 'Année']),\n",
    "    x='Année',\n",
    "    y=['avg_CO', 'avg_HC', 'avg_NOx', 'avg_particules'],\n",
    "    color='Véhicule',\n",
    "    facet_col='Roulage',\n",
    "    labels={\n",
    "        'value': 'Émissions (g/km)',\n",
    "        'variable': 'Polluant',\n",
    "        'Année': '',\n",
    "        'Véhicule': 'Type&nbsp;véhicule',\n",
    "        'Roulage': ''\n",
    "    },\n",
    "    title=\"Évolution des émissions moyennes par type véhicule et contexte de roulage\",\n",
    "    line_shape='spline',\n",
    "    markers=True,\n",
    "    hover_data={'Année': True, 'Roulage': True, 'Véhicule': True}\n",
    ")\n",
    "\n",
    "fig.update_traces(patch={'hovertemplate': (\n",
    "    '<b>%{fullData.name}</b><br>Année : %{x}<br>'\n",
    "    'Émissions : <b>%{y:.3f}</b> g/km<br>'\n",
    "    'Roulage : %{customdata[0]}<extra></extra>'\n",
    ")})\n",
    "\n",
    "fig.for_each_annotation(lambda a: a.update(text=a.text.split('=')[-1]))\n",
    "\n",
    "fig.update_layout(\n",
    "    template='plotly_white',\n",
    "    font=dict(family='Poppins', size=11),\n",
    "    height=450,\n",
    "    margin=dict(l=40, r=20, t=60, b=60),\n",
    "    legend=dict(orientation='h', yanchor='bottom', y=-.2, x=.5, xanchor='center')\n",
    ")\n",
    "\n",
    "for axis in fig.select_xaxes():\n",
    "    axis.update(tickmode='linear', tick0=2020, dtick=1)\n",
    "\n",
    "dataviz = fig\n",
    "dataviz"
   ]
  },
  {
   "cell_type": "markdown",
   "metadata": {},
   "source": [
    "---\n",
    "*Made with ❤️ and with [duckit.fr](https://duckit.fr) - [Ali Hmaou](https://www.linkedin.com/in/ali-hmaou-6b7b73146/)*"
   ]
  },
  {
   "cell_type": "code",
   "execution_count": 5,
   "metadata": {
    "execution": {
     "iopub.execute_input": "2025-08-21T09:57:16.938342Z",
     "iopub.status.busy": "2025-08-21T09:57:16.938342Z",
     "iopub.status.idle": "2025-08-21T09:57:21.009331Z",
     "shell.execute_reply": "2025-08-21T09:57:21.009331Z"
    }
   },
   "outputs": [
    {
     "name": "stdout",
     "output_type": "stream",
     "text": [
      "INFO: Variable 'dataviz' trouvée. Tentative d'exportation...\n",
      "--> Détecté : Plotly. Sauvegarde HTML et PNG.\n",
      "--> Sauvegarde HTML dans : published\\notebooks\\duckit_analysis_20250808_163609.html\n",
      "--> Tentative de sauvegarde PNG directe dans : published\\notebooks\\duckit_analysis_20250808_163609.png\n"
     ]
    },
    {
     "name": "stdout",
     "output_type": "stream",
     "text": [
      "--> Image Plotly sauvegardée avec succès.\n"
     ]
    }
   ],
   "source": [
    "\n",
    "# --- Variables injectées par le script ---\n",
    "FINAL_OBJECT_VARIABLE_NAME = 'dataviz'\n",
    "OUTPUT_IMAGE_NAME = 'published\\\\notebooks\\\\duckit_analysis_20250808_163609.png'\n",
    "OUTPUT_HTML_NAME = 'published\\\\notebooks\\\\duckit_analysis_20250808_163609.html'\n",
    "\n",
    "# ===================================================================\n",
    "# CELLULE INJECTÉE AUTOMATIQUEMENT (VERSION ROBUSTE)\n",
    "# ===================================================================\n",
    "import sys\n",
    "import os\n",
    "# On importe les modules nécessaires pour l'export au cas où\n",
    "try:\n",
    "    from bokeh.io import save as bokeh_save\n",
    "except ImportError:\n",
    "    bokeh_save = None\n",
    "\n",
    "try:\n",
    "    # On s'assure que le dossier de sortie existe\n",
    "    output_dir = os.path.dirname(OUTPUT_IMAGE_NAME)\n",
    "    if output_dir:\n",
    "        os.makedirs(output_dir, exist_ok=True)\n",
    "\n",
    "    # On utilise globals().get() pour une récupération plus sûre\n",
    "    final_object = globals().get(FINAL_OBJECT_VARIABLE_NAME)\n",
    "\n",
    "    if final_object is None:\n",
    "        # On lève une NameError pour être cohérent avec le code original\n",
    "        raise NameError(f\"name '{FINAL_OBJECT_VARIABLE_NAME}' is not defined\")\n",
    "\n",
    "    print(f\"INFO: Variable '{FINAL_OBJECT_VARIABLE_NAME}' trouvée. Tentative d'exportation...\")\n",
    "\n",
    "    object_type = str(type(final_object))\n",
    "\n",
    "    if 'plotly.graph_objs._figure.Figure' in object_type:\n",
    "        print(f\"--> Détecté : Plotly. Sauvegarde HTML et PNG.\")\n",
    "        # 1. Sauvegarde HTML pour l'interactivité\n",
    "        print(f\"--> Sauvegarde HTML dans : {OUTPUT_HTML_NAME}\")\n",
    "        final_object.write_html(OUTPUT_HTML_NAME, include_plotlyjs='cdn')\n",
    "        # 2. Sauvegarde PNG pour l'aperçu statique\n",
    "        try:\n",
    "            print(f\"--> Tentative de sauvegarde PNG directe dans : {OUTPUT_IMAGE_NAME}\")\n",
    "            final_object.write_image(OUTPUT_IMAGE_NAME, scale=3, width=1200, height=800)\n",
    "            print(f\"--> Image Plotly sauvegardée avec succès.\")\n",
    "        except Exception as e:\n",
    "            print(f\"AVERTISSEMENT: La sauvegarde directe en PNG a échoué (kaleido est-il installé?).\", file=sys.stderr)\n",
    "            print(f\"   Erreur: {e}\", file=sys.stderr)\n",
    "            print(f\"--> PLAN B: On va utiliser la capture d'écran du HTML à la place.\")\n",
    "            # On crée un fichier marqueur pour que le script de post-traitement prenne le relais\n",
    "            with open(f\"{OUTPUT_HTML_NAME}.needs_screenshot\", \"w\") as f:\n",
    "                f.write(\"plotly\")\n",
    "    elif 'folium.folium.Map' in object_type:\n",
    "        print(f\"--> Détecté : Folium. Sauvegarde HTML dans : {OUTPUT_HTML_NAME}\")\n",
    "        final_object.save(OUTPUT_HTML_NAME)\n",
    "        # On crée un fichier marqueur générique pour la capture d'écran\n",
    "        print(f\"--> Création du marqueur de capture d'écran.\")\n",
    "        with open(f\"{OUTPUT_HTML_NAME}.needs_screenshot\", \"w\") as f:\n",
    "            f.write(\"folium\")\n",
    "    elif 'altair.vegalite' in object_type and hasattr(final_object, 'save'):\n",
    "        print(f\"--> Détecté : Altair. Sauvegarde HTML dans : {OUTPUT_HTML_NAME}\")\n",
    "        final_object.save(OUTPUT_HTML_NAME)\n",
    "        # On crée un fichier marqueur générique pour la capture d'écran\n",
    "        print(f\"--> Création du marqueur de capture d'écran.\")\n",
    "        with open(f\"{OUTPUT_HTML_NAME}.needs_screenshot\", \"w\") as f:\n",
    "            f.write(\"altair\")\n",
    "    elif 'bokeh.plotting' in object_type and bokeh_save is not None:\n",
    "        print(f\"--> Détecté : Bokeh. Sauvegarde HTML dans : {OUTPUT_HTML_NAME}\")\n",
    "        bokeh_save(final_object, filename=OUTPUT_HTML_NAME, title=\"\")\n",
    "        # On crée un fichier marqueur générique pour la capture d'écran\n",
    "        print(f\"--> Création du marqueur de capture d'écran.\")\n",
    "        with open(f\"{OUTPUT_HTML_NAME}.needs_screenshot\", \"w\") as f:\n",
    "            f.write(\"bokeh\")\n",
    "    elif 'matplotlib.figure.Figure' in object_type:\n",
    "        print(f\"--> Détecté : Matplotlib. Sauvegarde dans : {OUTPUT_IMAGE_NAME}\")\n",
    "        final_object.savefig(OUTPUT_IMAGE_NAME, dpi=300, bbox_inches='tight')\n",
    "    else:\n",
    "        print(f\"AVERTISSEMENT: Type non supporté : {object_type}\", file=sys.stderr)\n",
    "except NameError:\n",
    "    print(f\"AVERTISSEMENT: Aucune variable '{FINAL_OBJECT_VARIABLE_NAME}' trouvée.\", file=sys.stderr)\n",
    "except Exception as e:\n",
    "    print(f\"ERREUR lors de l'exportation : {e}\", file=sys.stderr)\n"
   ]
  }
 ],
 "metadata": {
  "kernelspec": {
   "display_name": "Python 3",
   "language": "python",
   "name": "python3"
  },
  "language_info": {
   "codemirror_mode": {
    "name": "ipython",
    "version": 3
   },
   "file_extension": ".py",
   "mimetype": "text/x-python",
   "name": "python",
   "nbconvert_exporter": "python",
   "pygments_lexer": "ipython3",
   "version": "3.10.11"
  }
 },
 "nbformat": 4,
 "nbformat_minor": 4
}
