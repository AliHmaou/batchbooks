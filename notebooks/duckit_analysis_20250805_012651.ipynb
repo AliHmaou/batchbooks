{
  "cells": [
    {
      "cell_type": "markdown",
      "metadata": {},
      "source": [
        "# Analyse de la Répartition des Élus par Département et par Sexe en France\n",
        "\n",
        "\n",
        "Le contexte de cette analyse est la compréhension de la répartition géographique et démographique des élus en France. Le fichier source utilisé provient du Répertoire National des Élus, disponible sur le site data.gouv.fr à l'adresse https://static.data.gouv.fr/resources/repertoire-national-des-elus-1/20250613-142903/elus-maires-mai.csv. Ce répertoire contient des informations détaillées sur les élus, notamment leurs données personnelles, professionnelles et les détails de leurs mandats.\n",
        "\n",
        "\n",
        "L'objectif de cette analyse est d'explorer la répartition des élus par département et par sexe, afin de mettre en évidence les disparités géographiques et de genre parmi les élus français. Cette analyse permettra de comprendre comment les élus sont répartis à travers les différents départements de France et d'identifier les tendances en matière de représentation des femmes et des hommes dans la sphère politique locale.\n",
        "\n",
        "\n",
        "## Méthodologie\n",
        "\n",
        "\n",
        "La méthodologie utilisée pour cette analyse implique plusieurs étapes. Tout d'abord, les données sont chargées et traitées à l'aide de requêtes SQL pour extraire les informations nécessaires. Une requête spécifique a été générée pour compter le nombre d'élus par département et par sexe. Les données résultantes sont ensuite traitées et transformées pour être utilisées dans une visualisation géographique interactive. Cette visualisation utilise une carte de France divisée par départements, où chaque département est coloré en fonction du ratio de femmes élues. La visualisation est créée à l'aide de la bibliothèque Plotly Express et des données géographiques provenant d'un fichier GeoJSON."
      ]
    },
    {
      "cell_type": "markdown",
      "metadata": {},
      "source": [
        "## 🔧 Configuration"
      ]
    },
    {
      "cell_type": "code",
      "execution_count": 1,
      "metadata": {},
      "outputs": [],
      "source": [
        "# Installation et imports\n",
        "import duckdb as ddb\n",
        "import pandas as pd\n",
        "import plotly.express as px\n",
        "import plotly.graph_objects as go"
      ]
    },
    {
      "cell_type": "markdown",
      "metadata": {},
      "source": [
        "## 🦆 Chargement du dataset avec Duckdb"
      ]
    },
    {
      "cell_type": "code",
      "execution_count": 1,
      "metadata": {},
      "outputs": [],
      "source": [
        "# Fonction de chargement complète (basée sur load_file_from_url_lite)\n",
        "def load_file_from_url_lite(url_dataset=\"\", loader=\"read_csv_auto\", options=\"\", nom_table=\"loaded_dataset\", safe_mode=False):\n",
        "    ddb.execute(\"install spatial\")\n",
        "    ddb.execute(\"load spatial\")\n",
        "    ddb.execute(\"INSTALL h3 FROM community\")\n",
        "    ddb.execute(\"LOAD h3\")\n",
        "    ddb.execute(\"install webbed from community;\")\n",
        "    ddb.execute(\"load webbed\")\n",
        "    ddb.execute(\"set force_download=True\")\n",
        "    ddb.execute(f\"drop table if exists {nom_table}\")   \n",
        "    \n",
        "    # Détection automatique du type de fichier\n",
        "    if 'csv' in url_dataset: \n",
        "        loader = \"read_csv_auto\"\n",
        "    elif 'tsv' in url_dataset: \n",
        "        loader = \"read_csv_auto\"\n",
        "    elif 'txt' in url_dataset: \n",
        "        loader = \"read_csv_auto\"\n",
        "    elif 'parquet' in url_dataset: \n",
        "        loader = \"read_parquet\"\n",
        "    elif 'json' in url_dataset: \n",
        "        loader = \"read_json_auto\"\n",
        "    elif 'xls' in url_dataset or 'xlsx' in url_dataset: \n",
        "        loader = \"st_read\"\n",
        "    elif 'shp' in url_dataset: \n",
        "        loader = \"st_read\"\n",
        "    elif 'geojson' in url_dataset: \n",
        "        loader = \"st_read\"\n",
        "    elif 'xml' in url_dataset: \n",
        "        loader = \"read_xml\"\n",
        "    elif 'html' in url_dataset: \n",
        "        loader = \"read_html\"\n",
        "    else: \n",
        "        raise ValueError(f\"Type de fichier non supporté pour {url_dataset}\")\n",
        "    \n",
        "    if options==\"\": \n",
        "        options = \"\" \n",
        "    if 'csv' in url_dataset and safe_mode==True: \n",
        "        options = \", all_varchar=1\" \n",
        "    if nom_table==\"\": \n",
        "        nom_table = \"loaded_dataset\"\n",
        "    \n",
        "    try:\n",
        "        status = ddb.sql(f\"\"\"\n",
        "            create or replace table {nom_table} as select *\n",
        "            from\n",
        "            {loader}(\"{url_dataset}\" {options})\n",
        "        \"\"\")\n",
        "        return status\n",
        "    except Exception as e:\n",
        "        return f\"Erreur au chargement du fichier : {str(e)}\"\n",
        "\n",
        "def run_query(sql):\n",
        "    return ddb.sql(sql.replace(\"`\",\" \")).to_df()\n",
        "\n",
        "# Chargement des données\n",
        "load_file_from_url_lite(\"https://static.data.gouv.fr/resources/repertoire-national-des-elus-1/20250613-142903/elus-maires-mai.csv\", safe_mode=True)\n",
        "print(\"✅ Données chargées avec succès\")"
      ]
    },
    {
      "cell_type": "markdown",
      "metadata": {},
      "source": [
        "## 🔍 Analyse SQL\n",
        "\n",
        "Cette requête utilise des techniques SQL pour extraire et transformer les données de manière efficace."
      ]
    },
    {
      "cell_type": "code",
      "execution_count": 2,
      "metadata": {},
      "outputs": [],
      "source": [
        "# Exécution de la requête\n",
        "df = run_query(\"\"\" SELECT \n",
        " SUBSTR(\"Code du département\", 1, 2) AS code_dept,\n",
        " \"Code sexe\" AS sexe,\n",
        " COUNT(*) AS nb_elus\n",
        "FROM \n",
        " loaded_dataset\n",
        "GROUP BY \n",
        " 1, \"Code sexe\"\n",
        "ORDER BY \n",
        " code_dept, sexe \"\"\")\n",
        "print(f\"Résultats : {len(df)} lignes\")\n",
        "df.head()"
      ]
    },
    {
      "cell_type": "markdown",
      "metadata": {},
      "source": [
        "## 📈 Visualisation\n",
        "\n",
        "La bibliothèque principale utilisée est Plotly Express, qui est adaptée pour créer des visualisations interactives et attractives. Dans ce cas, elle est utilisée pour créer une carte choropleth interactive qui représente le ratio de femmes élues par département en France. Cela permet une exploration facile et intuitive des données géographiques."
      ]
    },
    {
      "cell_type": "code",
      "execution_count": 3,
      "metadata": {},
      "outputs": [],
      "source": [
        "import pandas as pd\n",
        "import duckdb as ddb\n",
        "import plotly.express as px\n",
        "import geopandas as gpd\n",
        "import pandas as pd\n",
        "import requests\n",
        "\n",
        "# Récupération du GeoJSON des départements français\n",
        "url_geo = \"https://france-geojson.gregoiredavid.fr/repo/departements.geojson\"\n",
        "gdf_depts = gpd.read_file(url_geo)\n",
        "\n",
        "# Préparation des données : pivot pour avoir le nombre d'élus par sexe par département\n",
        "df_pivot = df.pivot(index='code_dept', columns='sexe', values='nb_elus').reset_index()\n",
        "df_pivot['ratio_femmes_pct'] = (df_pivot['F'] / (df_pivot['F'] + df_pivot['M']) * 100).round(1)\n",
        "df_pivot['nb_elus_total'] = df_pivot['F'] + df_pivot['M']\n",
        "\n",
        "# Fusion avec les données géographiques\n",
        "gdf_depts['code'] = gdf_depts['code'].astype(str).str.zfill(2)\n",
        "df_pivot['code_dept'] = df_pivot['code_dept'].astype(str).str.zfill(2)\n",
        "gdf_merged = gdf_depts.merge(df_pivot, left_on='code', right_on='code_dept', how='inner')\n",
        "\n",
        "# Création de la carte interactive\n",
        "dataviz = px.choropleth_mapbox(\n",
        "    gdf_merged,\n",
        "    geojson=gdf_merged.geometry.__geo_interface__,\n",
        "    locations=gdf_merged.index,\n",
        "    color='ratio_femmes_pct',\n",
        "    color_continuous_scale='RdBu',\n",
        "    range_color=[gdf_merged['ratio_femmes_pct'].min(), gdf_merged['ratio_femmes_pct'].max()],\n",
        "    mapbox_style=\"carto-positron\",\n",
        "    zoom=4.5,\n",
        "    center={\"lat\": 46.5, \"lon\": 2.0},\n",
        "    opacity=0.7,\n",
        "    labels={'ratio_femmes_pct': 'Ratio femmes (%)'},\n",
        "    hover_data={\n",
        "        'nom': True,\n",
        "        'F': ':.0f',\n",
        "        'M': ':.0f',\n",
        "        'nb_elus_total': ':.0f',\n",
        "        'ratio_femmes_pct': ':.1f%'\n",
        "    },\n",
        "    title=\"Répartition des élus par département et par sexe - Ratio de femmes élues (%)\"\n",
        ")\n",
        "\n",
        "dataviz.update_layout(\n",
        "    margin=dict(l=20, r=20, t=40, b=20),\n",
        "    font_family=\"Arial\",\n",
        "    title_font_size=14,\n",
        "    title_x=0.5\n",
        ")\n",
        "\n",
        "# Inversion de l'échelle de couleurs pour mettre en évidence les femmes\n",
        "dataviz.update_traces(\n",
        "    colorbar=dict(\n",
        "        title='Ratio<br>femmes élues (%)',\n",
        "        ticksuffix='%',\n",
        "        len=0.7,\n",
        "        yanchor='middle',\n",
        "        y=0.5\n",
        "    )\n",
        ")\n",
        "dataviz"
      ]
    },
    {
      "cell_type": "markdown",
      "metadata": {},
      "source": [
        "---\n",
        "*Made with ❤️ and with [duckit.fr](https://duckit.fr) - [Ali Hmaou](https://www.linkedin.com/in/ali-hmaou-6b7b73146/)*"
      ]
    }
  ],
  "metadata": {
    "kernelspec": {
      "display_name": "Python 3",
      "language": "python",
      "name": "python3"
    },
    "language_info": {
      "codemirror_mode": {
        "name": "ipython",
        "version": 3
      },
      "file_extension": ".py",
      "mimetype": "text/x-python",
      "name": "python",
      "nbconvert_exporter": "python",
      "pygments_lexer": "ipython3",
      "version": "3.8.0"
    }
  },
  "nbformat": 4,
  "nbformat_minor": 4
}