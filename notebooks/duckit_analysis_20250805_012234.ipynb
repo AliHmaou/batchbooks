{
  "cells": [
    {
      "cell_type": "markdown",
      "metadata": {},
      "source": [
        "# Analyse de la Pyramide des Âges des Élus en France\n",
        "\n",
        "\n",
        "L'analyse présentée dans ce notebook vise à explorer la répartition des élus en France selon leur âge et leur sexe. Les données utilisées proviennent du Répertoire National des Élus, disponible sur le site data.gouv.fr à l'adresse https://static.data.gouv.fr/resources/repertoire-national-des-elus-1/20250613-142903/elus-maires-mai.csv. Ce fichier contient des informations détaillées sur les élus, notamment leurs données personnelles, professionnelles et les détails de leurs mandats.\n",
        "\n",
        "\n",
        "L'objectif de cette analyse est de générer une pyramide des âges par sexe et par tranche de 5 ans pour les élus. Cela permettra de visualiser la distribution des élus selon leur âge et leur sexe, offrant ainsi des insights précieux sur la représentation des différents groupes démographiques dans la sphère politique française.\n",
        "\n",
        "\n",
        "## Méthodologie\n",
        "\n",
        "\n",
        "La méthodologie utilisée dans cette analyse implique plusieurs étapes clés. Tout d'abord, les données sont chargées et nettoyées pour préparer l'analyse. Ensuite, l'âge de chaque élu est calculé en fonction de sa date de naissance, et les élus sont regroupés par tranche d'âge de 5 ans. Les données sont alors agrégées pour compter le nombre d'élus par tranche d'âge et par sexe. Enfin, les résultats sont visualisés sous forme de pyramide des âges à l'aide d'une bibliothèque de visualisation de données. Cette approche permet d'obtenir une représentation claire et intuitive de la distribution des élus selon leur âge et leur sexe."
      ]
    },
    {
      "cell_type": "markdown",
      "metadata": {},
      "source": [
        "## 🔧 Configuration"
      ]
    },
    {
      "cell_type": "code",
      "execution_count": 1,
      "metadata": {},
      "outputs": [],
      "source": [
        "# Installation et imports\n",
        "import duckdb as ddb\n",
        "import pandas as pd\n",
        "import plotly.express as px\n",
        "import plotly.graph_objects as go"
      ]
    },
    {
      "cell_type": "markdown",
      "metadata": {},
      "source": [
        "## 🦆 Chargement du dataset avec Duckdb"
      ]
    },
    {
      "cell_type": "code",
      "execution_count": 1,
      "metadata": {},
      "outputs": [],
      "source": [
        "# Fonction de chargement complète (basée sur load_file_from_url_lite)\n",
        "def load_file_from_url_lite(url_dataset=\"\", loader=\"read_csv_auto\", options=\"\", nom_table=\"loaded_dataset\", safe_mode=False):\n",
        "    ddb.execute(\"install spatial\")\n",
        "    ddb.execute(\"load spatial\")\n",
        "    ddb.execute(\"INSTALL h3 FROM community\")\n",
        "    ddb.execute(\"LOAD h3\")\n",
        "    ddb.execute(\"install webbed from community;\")\n",
        "    ddb.execute(\"load webbed\")\n",
        "    ddb.execute(\"set force_download=True\")\n",
        "    ddb.execute(f\"drop table if exists {nom_table}\")   \n",
        "    \n",
        "    # Détection automatique du type de fichier\n",
        "    if 'csv' in url_dataset: \n",
        "        loader = \"read_csv_auto\"\n",
        "    elif 'tsv' in url_dataset: \n",
        "        loader = \"read_csv_auto\"\n",
        "    elif 'txt' in url_dataset: \n",
        "        loader = \"read_csv_auto\"\n",
        "    elif 'parquet' in url_dataset: \n",
        "        loader = \"read_parquet\"\n",
        "    elif 'json' in url_dataset: \n",
        "        loader = \"read_json_auto\"\n",
        "    elif 'xls' in url_dataset or 'xlsx' in url_dataset: \n",
        "        loader = \"st_read\"\n",
        "    elif 'shp' in url_dataset: \n",
        "        loader = \"st_read\"\n",
        "    elif 'geojson' in url_dataset: \n",
        "        loader = \"st_read\"\n",
        "    elif 'xml' in url_dataset: \n",
        "        loader = \"read_xml\"\n",
        "    elif 'html' in url_dataset: \n",
        "        loader = \"read_html\"\n",
        "    else: \n",
        "        raise ValueError(f\"Type de fichier non supporté pour {url_dataset}\")\n",
        "    \n",
        "    if options==\"\": \n",
        "        options = \"\" \n",
        "    if 'csv' in url_dataset and safe_mode==True: \n",
        "        options = \", all_varchar=1\" \n",
        "    if nom_table==\"\": \n",
        "        nom_table = \"loaded_dataset\"\n",
        "    \n",
        "    try:\n",
        "        status = ddb.sql(f\"\"\"\n",
        "            create or replace table {nom_table} as select *\n",
        "            from\n",
        "            {loader}(\"{url_dataset}\" {options})\n",
        "        \"\"\")\n",
        "        return status\n",
        "    except Exception as e:\n",
        "        return f\"Erreur au chargement du fichier : {str(e)}\"\n",
        "\n",
        "def run_query(sql):\n",
        "    return ddb.sql(sql.replace(\"`\",\" \")).to_df()\n",
        "\n",
        "# Chargement des données\n",
        "load_file_from_url_lite(\"https://static.data.gouv.fr/resources/repertoire-national-des-elus-1/20250613-142903/elus-maires-mai.csv\", safe_mode=True)\n",
        "print(\"✅ Données chargées avec succès\")"
      ]
    },
    {
      "cell_type": "markdown",
      "metadata": {},
      "source": [
        "## 🔍 Analyse SQL\n",
        "\n",
        "Cette requête utilise des techniques SQL pour extraire et transformer les données de manière efficace."
      ]
    },
    {
      "cell_type": "code",
      "execution_count": 2,
      "metadata": {},
      "outputs": [],
      "source": [
        "# Exécution de la requête\n",
        "df = run_query(\"\"\" WITH age_calcul AS (\n",
        "  SELECT \n",
        "    \"Code sexe\" AS sexe,\n",
        "    CAST(SUBSTRING(\"Date de naissance\", 7, 4) AS INTEGER) AS annee_naissance,\n",
        "    FLOOR((2023 - CAST(SUBSTRING(\"Date de naissance\", 7, 4) AS INTEGER)) / 5) * 5 AS age_tranche\n",
        "  FROM loaded_dataset\n",
        "),\n",
        "pyramide AS (\n",
        "  SELECT \n",
        "    sexe,\n",
        "    age_tranche,\n",
        "    COUNT(*) AS nombre_elus\n",
        "  FROM age_calcul\n",
        "  GROUP BY ALL\n",
        ")\n",
        "SELECT \n",
        "  sexe,\n",
        "  age_tranche,\n",
        "  nombre_elus\n",
        "FROM pyramide\n",
        "ORDER BY sexe, age_tranche \"\"\")\n",
        "print(f\"Résultats : {len(df)} lignes\")\n",
        "df.head()"
      ]
    },
    {
      "cell_type": "markdown",
      "metadata": {},
      "source": [
        "## 📈 Visualisation\n",
        "\n",
        "La bibliothèque principale utilisée est Plotly, qui permet de créer des visualisations interactives et personnalisables. Cette technologie est adaptée pour représenter une pyramide des âges sous forme de diagramme à barres horizontales superposées, facilitant la comparaison entre les sexes. L'utilisation de Plotly permet une représentation dynamique et facile à lire."
      ]
    },
    {
      "cell_type": "code",
      "execution_count": 3,
      "metadata": {},
      "outputs": [],
      "source": [
        "import pandas as pd\n",
        "import duckdb as ddb\n",
        "import pandas as pd\n",
        "import plotly.graph_objects as go\n",
        "\n",
        "# Tranches de 5 ans, ordre croissant\n",
        "df[\"age_min\"] = (df[\"age_tranche\"] // 5) * 5\n",
        "grp = (\n",
        "    df.groupby([\"age_min\", \"sexe\"], as_index=False)[\"nombre_elus\"]\n",
        "      .sum()\n",
        "      .sort_values([\"age_min\", \"sexe\"])\n",
        ")\n",
        "\n",
        "labels = [f'{int(a)}-{int(a+4)} ans' for a in grp[\"age_min\"].unique()]\n",
        "f_values = grp[grp[\"sexe\"] == \"F\"].set_index(\"age_min\")[\"nombre_elus\"].reindex(grp[\"age_min\"].unique(), fill_value=0).values\n",
        "m_values = grp[grp[\"sexe\"] == \"M\"].set_index(\"age_min\")[\"nombre_elus\"].reindex(grp[\"age_min\"].unique(), fill_value=0).values\n",
        "\n",
        "dataviz = go.Figure()\n",
        "dataviz.add_trace(go.Bar(\n",
        "    y=labels,\n",
        "    x=-f_values,\n",
        "    name=\"Femmes\",\n",
        "    orientation=\"h\",\n",
        "    hovertemplate=\"%{x}<extra>Femmes</extra>\",\n",
        "    marker_color=\"#ff8599\"\n",
        "))\n",
        "dataviz.add_trace(go.Bar(\n",
        "    y=labels,\n",
        "    x=m_values,\n",
        "    name=\"Hommes\",\n",
        "    orientation=\"h\",\n",
        "    hovertemplate=\"%{x}<extra>Hommes</extra>\",\n",
        "    marker_color=\"#6ca0dc\"\n",
        "))\n",
        "\n",
        "dataviz.update_layout(\n",
        "    title=\"Pyramide des âges des élus par sexe - Politique publique élus\",\n",
        "    barmode=\"overlay\",\n",
        "    bargap=0.1,\n",
        "    xaxis=dict(\n",
        "        tickvals=[-5000, -2500, 0, 2500, 5000],\n",
        "        ticktext=[\"5 000\", \"2 500\", \"0\", \"2 500\", \"5 000\"],\n",
        "        title=\"Nombre d’élus\"\n",
        "    ),\n",
        "    yaxis=dict(title=\"\"),\n",
        "    legend=dict(orientation=\"h\", y=-0.15),\n",
        "    margin=dict(l=120, r=20, t=40, b=20),\n",
        "    font=dict(family=\"Arial, Helvetica, sans-serif\", size=11),\n",
        ")\n",
        "dataviz"
      ]
    },
    {
      "cell_type": "markdown",
      "metadata": {},
      "source": [
        "---\n",
        "*Made with ❤️ and with [duckit.fr](https://duckit.fr) - [Ali Hmaou](https://www.linkedin.com/in/ali-hmaou-6b7b73146/)*"
      ]
    }
  ],
  "metadata": {
    "kernelspec": {
      "display_name": "Python 3",
      "language": "python",
      "name": "python3"
    },
    "language_info": {
      "codemirror_mode": {
        "name": "ipython",
        "version": 3
      },
      "file_extension": ".py",
      "mimetype": "text/x-python",
      "name": "python",
      "nbconvert_exporter": "python",
      "pygments_lexer": "ipython3",
      "version": "3.8.0"
    }
  },
  "nbformat": 4,
  "nbformat_minor": 4
}