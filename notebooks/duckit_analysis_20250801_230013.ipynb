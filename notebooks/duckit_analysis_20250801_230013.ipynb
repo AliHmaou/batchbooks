{
  "cells": [
    {
      "cell_type": "markdown",
      "metadata": {},
      "source": [
        "# Cartographie des Musées de France : Une Exploration Géographique\n",
        "\n",
        "\n",
        "Le présent notebook explore la répartition géographique des musées en France en utilisant les données ouvertes fournies par le gouvernement français. Les données utilisées proviennent de l'URL suivante : https://data.culture.gouv.fr/api/explore/v2.1/catalog/datasets/liste-et-localisation-des-musees-de-france/exports/parquet?lang=fr&timezone=Europe%2FBerlin. Ce jeu de données contient des informations détaillées sur les musées de France, notamment leur localisation, leur appellation officielle, et d'autres détails administratifs. L'objectif de cette analyse est de préparer les données pour créer une carte choroplèthe représentant le nombre de musées par département français.\n",
        "\n",
        "\n",
        "Pour atteindre cet objectif, nous utiliserons les deux premiers caractères du code postal comme code département. Cela nous permettra d'agréger les données au niveau départemental et de visualiser la répartition des musées à travers la France. La carte choroplèthe sera créée en utilisant les bibliothèques Folium et Pandas, offrant ainsi une représentation visuelle claire et interactive de la densité des musées dans chaque département.\n",
        "\n",
        "\n",
        "## Méthodologie\n",
        "\n",
        "La méthodologie employée dans ce notebook consiste à importer les données, à les nettoyer et à les agréger au niveau départemental en utilisant le code postal. Nous utiliserons DuckDB pour exécuter une requête SQL qui extrait les deux premiers caractères du code postal et compte le nombre de musées par département. Les résultats seront ensuite utilisés pour créer une carte choroplèthe avec Folium, où chaque département sera coloré en fonction du nombre de musées qu'il contient. Cette approche nous permettra de visualiser efficacement la répartition géographique des musées en France."
      ]
    },
    {
      "cell_type": "markdown",
      "metadata": {},
      "source": [
        "## 🔧 Configuration"
      ]
    },
    {
      "cell_type": "code",
      "execution_count": 1,
      "metadata": {},
      "outputs": [],
      "source": [
        "# Installation et imports\n",
        "import duckdb as ddb\n",
        "import pandas as pd\n",
        "import plotly.express as px\n",
        "import plotly.graph_objects as go"
      ]
    },
    {
      "cell_type": "markdown",
      "metadata": {},
      "source": [
        "## 🦆 Chargement du dataset avec Duckdb"
      ]
    },
    {
      "cell_type": "code",
      "execution_count": 1,
      "metadata": {},
      "outputs": [],
      "source": [
        "# Fonction de chargement complète (basée sur load_file_from_url_lite)\n",
        "def load_file_from_url_lite(url_dataset=\"\", loader=\"read_csv_auto\", options=\"\", nom_table=\"loaded_dataset\", safe_mode=False):\n",
        "    ddb.execute(\"install spatial\")\n",
        "    ddb.execute(\"load spatial\")\n",
        "    ddb.execute(\"INSTALL h3 FROM community\")\n",
        "    ddb.execute(\"LOAD h3\")\n",
        "    ddb.execute(\"install webbed from community;\")\n",
        "    ddb.execute(\"load webbed\")\n",
        "    ddb.execute(\"set force_download=True\")\n",
        "    ddb.execute(f\"drop table if exists {nom_table}\")   \n",
        "    \n",
        "    # Détection automatique du type de fichier\n",
        "    if 'csv' in url_dataset: \n",
        "        loader = \"read_csv_auto\"\n",
        "    elif 'tsv' in url_dataset: \n",
        "        loader = \"read_csv_auto\"\n",
        "    elif 'txt' in url_dataset: \n",
        "        loader = \"read_csv_auto\"\n",
        "    elif 'parquet' in url_dataset: \n",
        "        loader = \"read_parquet\"\n",
        "    elif 'json' in url_dataset: \n",
        "        loader = \"read_json_auto\"\n",
        "    elif 'xls' in url_dataset or 'xlsx' in url_dataset: \n",
        "        loader = \"st_read\"\n",
        "    elif 'shp' in url_dataset: \n",
        "        loader = \"st_read\"\n",
        "    elif 'geojson' in url_dataset: \n",
        "        loader = \"st_read\"\n",
        "    elif 'xml' in url_dataset: \n",
        "        loader = \"read_xml\"\n",
        "    elif 'html' in url_dataset: \n",
        "        loader = \"read_html\"\n",
        "    else: \n",
        "        raise ValueError(f\"Type de fichier non supporté pour {url_dataset}\")\n",
        "    \n",
        "    if options==\"\": \n",
        "        options = \"\" \n",
        "    if 'csv' in url_dataset and safe_mode==True: \n",
        "        options = \", all_varchar=1\" \n",
        "    if nom_table==\"\": \n",
        "        nom_table = \"loaded_dataset\"\n",
        "    \n",
        "    try:\n",
        "        status = ddb.sql(f\"\"\"\n",
        "            create or replace table {nom_table} as select *\n",
        "            from\n",
        "            {loader}(\"{url_dataset}\" {options})\n",
        "        \"\"\")\n",
        "        return status\n",
        "    except Exception as e:\n",
        "        return f\"Erreur au chargement du fichier : {str(e)}\"\n",
        "\n",
        "def run_query(sql):\n",
        "    return ddb.sql(sql.replace(\"`\",\" \")).to_df()\n",
        "\n",
        "# Chargement des données\n",
        "load_file_from_url_lite(\"https://data.culture.gouv.fr/api/explore/v2.1/catalog/datasets/liste-et-localisation-des-musees-de-france/exports/parquet?lang=fr&timezone=Europe%2FBerlin\", safe_mode=True)\n",
        "print(\"✅ Données chargées avec succès\")"
      ]
    },
    {
      "cell_type": "markdown",
      "metadata": {},
      "source": [
        "## 🔍 Analyse SQL\n",
        "\n",
        "Cette requête utilise des techniques SQL pour extraire et transformer les données de manière efficace."
      ]
    },
    {
      "cell_type": "code",
      "execution_count": 2,
      "metadata": {},
      "outputs": [],
      "source": [
        "# Exécution de la requête\n",
        "df = run_query(\"\"\" SELECT \n",
        "  SUBSTRING(\"code_postal\", 1, 2) AS code_dept,\n",
        "  COUNT(*) AS nb_musees\n",
        "FROM \n",
        "  loaded_dataset\n",
        "GROUP BY \n",
        "  SUBSTRING(\"code_postal\", 1, 2)\n",
        "ORDER BY \n",
        "  code_dept \"\"\")\n",
        "print(f\"Résultats : {len(df)} lignes\")\n",
        "df.head()"
      ]
    },
    {
      "cell_type": "markdown",
      "metadata": {},
      "source": [
        "## 📈 Visualisation\n",
        "\n",
        "La bibliothèque principale utilisée est Folium, qui est une bibliothèque Python de visualisation de données géospatiales. Cette technologie est adaptée pour représenter des données géographiques, telles que les départements français, sur une carte interactive. Folium permet de créer des cartes choropleth avec des informations détaillées au survol ou au clic, ce qui est idéal pour visualiser des données régionales."
      ]
    },
    {
      "cell_type": "code",
      "execution_count": 3,
      "metadata": {},
      "outputs": [],
      "source": [
        "import pandas as pd\n",
        "import duckdb as ddb\n",
        "import folium\n",
        "import pandas as pd\n",
        "import requests\n",
        "import json\n",
        "\n",
        "# Récupération du fichier GeoJSON des départements\n",
        "geojson_url = \"https://france-geojson.gregoiredavid.fr/repo/departements.geojson\"\n",
        "geojson_data = requests.get(geojson_url).json()\n",
        "\n",
        "# Nettoyage du df pour correspondre aux codes départementaux du GeoJSON\n",
        "df['code_dept'] = df['code_dept'].astype(str).str.zfill(2)\n",
        "\n",
        "# Création de la carte centrée sur la France\n",
        "dataviz = folium.Map(location=[46.9, 2.2], tiles='CartoDB positron', zoom_start=6)\n",
        "\n",
        "# Ajout de la couche choropleth\n",
        "folium.Choropleth(\n",
        "    geo_data=geojson_data,\n",
        "    name='choropleth',\n",
        "    data=df,\n",
        "    columns=['code_dept', 'nb_musees'],\n",
        "    key_on='feature.properties.code',\n",
        "    fill_color='YlGnBu',\n",
        "    fill_opacity=0.7,\n",
        "    line_opacity=0.2,\n",
        "    line_color='white',\n",
        "    line_weight=1,\n",
        "    legend_name='Nombre de musées',\n",
        "    smooth_factor=0,\n",
        "    bins=[0, 5, 10, 15, 25, 50],\n",
        "    reset=True,\n",
        "    highlight=True\n",
        ").add_to(dataviz)\n",
        "\n",
        "# Ajout des infobulles détaillées\n",
        "for feature in geojson_data['features']:\n",
        "    dept_code = feature['properties']['code']\n",
        "    \n",
        "    if dept_code in df['code_dept'].values:\n",
        "        nb_musees = df[df['code_dept'] == dept_code]['nb_musees'].values[0]\n",
        "        dept_name = feature['properties']['nom']\n",
        "        \n",
        "        folium.Tooltip(\n",
        "            f\"<b>{dept_name} ({dept_code})</b><br>\"\n",
        "            f\"Musées : {nb_musees}\"\n",
        "        ).add_child(\n",
        "            folium.Popup(\n",
        "                f\"<h4>{dept_name} ({dept_code})</h4>\"\n",
        "                f\"<strong>Nombre de musées :</strong> {nb_musees}\",\n",
        "                max_width=300\n",
        "            )\n",
        "        ).add_to(\n",
        "            folium.GeoJson(\n",
        "                feature,\n",
        "                style_function=lambda x: {\n",
        "                    'fillOpacity': 0,\n",
        "                    'color': '#333333',\n",
        "                    'weight': 2,\n",
        "                    'fillColor': 'transparent'\n",
        "                }\n",
        "            ).add_to(dataviz)\n",
        "        )\n",
        "\n",
        "# Ajout du contrôle des couches\n",
        "folium.LayerControl(collapsed=False).add_to(dataviz)\n",
        "\n",
        "# Style personnalisé\n",
        "dataviz.get_root().html.add_child(folium.Element(\"\"\"\n",
        "    <style>\n",
        "        .legend {font-family: 'Helvetica Neue', Arial, sans-serif; font-size: 14px;}\n",
        "        .info h4 {margin: 0 0 5px; font-size: 16px; color: #333;}\n",
        "        .folium-tooltip {font-family: 'Segoe UI', Tahoma, Geneva, Verdana, sans-serif; font-size: 12px;}\n",
        "    </style>\n",
        "\"\"\"))\n",
        "dataviz"
      ]
    },
    {
      "cell_type": "markdown",
      "metadata": {},
      "source": [
        "---\n",
        "*Made with ❤️ and with [duckit.fr](https://duckit.fr) - [Ali Hmaou](https://www.linkedin.com/in/ali-hmaou-6b7b73146/)*"
      ]
    }
  ],
  "metadata": {
    "kernelspec": {
      "display_name": "Python 3",
      "language": "python",
      "name": "python3"
    },
    "language_info": {
      "codemirror_mode": {
        "name": "ipython",
        "version": 3
      },
      "file_extension": ".py",
      "mimetype": "text/x-python",
      "name": "python",
      "nbconvert_exporter": "python",
      "pygments_lexer": "ipython3",
      "version": "3.8.0"
    }
  },
  "nbformat": 4,
  "nbformat_minor": 4
}