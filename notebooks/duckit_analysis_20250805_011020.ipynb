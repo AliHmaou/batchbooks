{
  "cells": [
    {
      "cell_type": "markdown",
      "metadata": {},
      "source": [
        "# Analyse de la Répartition des Équipements Sportifs dans le Val-d'Oise\n",
        "\n",
        "Le département du Val-d'Oise, situé dans la région Île-de-France, dispose d'un patrimoine riche en équipements sportifs. L'analyse de ces équipements est essentielle pour comprendre les besoins et les disparités en matière d'infrastructures sportives au sein des communes. Les données utilisées proviennent du site data.iledefrance.fr, qui met à disposition le recensement des équipements sportifs dans le Val-d'Oise sous format CSV. L'URL source est : http://data.iledefrance.fr/explore/dataset/recensement_des_equipements_sportifs_dans_le_val-d_oise/download?format=csv.\n",
        "\n",
        "L'objectif de cette analyse est de compter le nombre d'équipements sportifs par commune en utilisant le code INSEE (\"new_code\"). Cela permettra d'avoir une vision claire de la répartition de ces équipements et d'identifier les communes qui en sont les mieux pourvues ou qui pourraient nécessiter un renforcement de leurs infrastructures sportives.\n",
        "\n",
        "\n",
        "## Méthodologie\n",
        "\n",
        "La méthodologie utilisée pour cette analyse repose sur une requête SQL exécutée via DuckDB, un outil d'analyse de données en colonnes. La requête a consisté à regrouper les équipements sportifs par leur code INSEE (\"new_code\"), à compter le nombre d'équipements pour chaque groupe, et à ordonner les résultats par code INSEE. Les résultats ont ensuite été utilisés pour créer une carte choropleth représentant la répartition des équipements sportifs par commune.\n",
        "\n",
        "\n",
        "Les données ont été enrichies avec des données géospatiales provenant d'un fichier GeoJSON contenant les contours des communes françaises. L'utilisation de bibliothèques telles que Pandas, Geopandas, et Plotly Express a permis de manipuler et de visualiser efficacement les données.\n",
        "\n",
        "\n",
        "Ainsi, cette analyse propose une visualisation claire et interactive de la répartition des équipements sportifs dans le Val-d'Oise, permettant une meilleure compréhension des disparités géographiques et facilitant la prise de décision pour les acteurs locaux."
      ]
    },
    {
      "cell_type": "markdown",
      "metadata": {},
      "source": [
        "## 🔧 Configuration"
      ]
    },
    {
      "cell_type": "code",
      "execution_count": 1,
      "metadata": {},
      "outputs": [],
      "source": [
        "# Installation et imports\n",
        "import duckdb as ddb\n",
        "import pandas as pd\n",
        "import plotly.express as px\n",
        "import plotly.graph_objects as go"
      ]
    },
    {
      "cell_type": "markdown",
      "metadata": {},
      "source": [
        "## 🦆 Chargement du dataset avec Duckdb"
      ]
    },
    {
      "cell_type": "code",
      "execution_count": 1,
      "metadata": {},
      "outputs": [],
      "source": [
        "# Fonction de chargement complète (basée sur load_file_from_url_lite)\n",
        "def load_file_from_url_lite(url_dataset=\"\", loader=\"read_csv_auto\", options=\"\", nom_table=\"loaded_dataset\", safe_mode=False):\n",
        "    ddb.execute(\"install spatial\")\n",
        "    ddb.execute(\"load spatial\")\n",
        "    ddb.execute(\"INSTALL h3 FROM community\")\n",
        "    ddb.execute(\"LOAD h3\")\n",
        "    ddb.execute(\"install webbed from community;\")\n",
        "    ddb.execute(\"load webbed\")\n",
        "    ddb.execute(\"set force_download=True\")\n",
        "    ddb.execute(f\"drop table if exists {nom_table}\")   \n",
        "    \n",
        "    # Détection automatique du type de fichier\n",
        "    if 'csv' in url_dataset: \n",
        "        loader = \"read_csv_auto\"\n",
        "    elif 'tsv' in url_dataset: \n",
        "        loader = \"read_csv_auto\"\n",
        "    elif 'txt' in url_dataset: \n",
        "        loader = \"read_csv_auto\"\n",
        "    elif 'parquet' in url_dataset: \n",
        "        loader = \"read_parquet\"\n",
        "    elif 'json' in url_dataset: \n",
        "        loader = \"read_json_auto\"\n",
        "    elif 'xls' in url_dataset or 'xlsx' in url_dataset: \n",
        "        loader = \"st_read\"\n",
        "    elif 'shp' in url_dataset: \n",
        "        loader = \"st_read\"\n",
        "    elif 'geojson' in url_dataset: \n",
        "        loader = \"st_read\"\n",
        "    elif 'xml' in url_dataset: \n",
        "        loader = \"read_xml\"\n",
        "    elif 'html' in url_dataset: \n",
        "        loader = \"read_html\"\n",
        "    else: \n",
        "        raise ValueError(f\"Type de fichier non supporté pour {url_dataset}\")\n",
        "    \n",
        "    if options==\"\": \n",
        "        options = \"\" \n",
        "    if 'csv' in url_dataset and safe_mode==True: \n",
        "        options = \", all_varchar=1\" \n",
        "    if nom_table==\"\": \n",
        "        nom_table = \"loaded_dataset\"\n",
        "    \n",
        "    try:\n",
        "        status = ddb.sql(f\"\"\"\n",
        "            create or replace table {nom_table} as select *\n",
        "            from\n",
        "            {loader}(\"{url_dataset}\" {options})\n",
        "        \"\"\")\n",
        "        return status\n",
        "    except Exception as e:\n",
        "        return f\"Erreur au chargement du fichier : {str(e)}\"\n",
        "\n",
        "def run_query(sql):\n",
        "    return ddb.sql(sql.replace(\"`\",\" \")).to_df()\n",
        "\n",
        "# Chargement des données\n",
        "load_file_from_url_lite(\"http://data.iledefrance.fr/explore/dataset/recensement_des_equipements_sportifs_dans_le_val-d_oise/download?format=csv\", safe_mode=True)\n",
        "print(\"✅ Données chargées avec succès\")"
      ]
    },
    {
      "cell_type": "markdown",
      "metadata": {},
      "source": [
        "## 🔍 Analyse SQL\n",
        "\n",
        "Cette requête utilise des techniques SQL pour extraire et transformer les données de manière efficace."
      ]
    },
    {
      "cell_type": "code",
      "execution_count": 2,
      "metadata": {},
      "outputs": [],
      "source": [
        "# Exécution de la requête\n",
        "df = run_query(\"\"\" SELECT \n",
        "  \"new_code\" AS code_insee,\n",
        "  COUNT(*) AS nombre_equipements\n",
        "FROM \n",
        "  loaded_dataset\n",
        "GROUP BY \n",
        "  \"new_code\"\n",
        "ORDER BY \n",
        "  \"new_code\" \"\"\")\n",
        "print(f\"Résultats : {len(df)} lignes\")\n",
        "df.head()"
      ]
    },
    {
      "cell_type": "markdown",
      "metadata": {},
      "source": [
        "## 📈 Visualisation\n",
        "\n",
        "La bibliothèque principale utilisée est Plotly Express, qui permet de créer des visualisations interactives et personnalisables. Cette technologie est adaptée car elle offre une grande flexibilité pour représenter des données géospatiales, comme ici une carte choroplèthe représentant la répartition des équipements sportifs par commune. Cela permet une exploration interactive des données."
      ]
    },
    {
      "cell_type": "code",
      "execution_count": 3,
      "metadata": {},
      "outputs": [],
      "source": [
        "import pandas as pd\n",
        "import duckdb as ddb\n",
        "import pandas as pd\n",
        "import geopandas as gpd\n",
        "import plotly.express as px\n",
        "import requests\n",
        "import io\n",
        "\n",
        "url_communes = 'https://france-geojson.gregoiredavid.fr/repo/communes.geojson'\n",
        "communes_geojson = requests.get(url_communes).content\n",
        "communes = gpd.read_file(io.BytesIO(communes_geojson))\n",
        "communes[\"code\"] = communes[\"code\"].astype(str)\n",
        "df[\"code_insee\"] = df[\"code_insee\"].astype(str)\n",
        "\n",
        "carto = communes.merge(df, left_on=\"code\", right_on=\"code_insee\")\n",
        "\n",
        "carto = carto[~carto[\"nombre_equipements\"].isna()]\n",
        "\n",
        "carto[\"geometry\"] = carto[\"geometry\"].simplify(0.01)\n",
        "\n",
        "fig = px.choropleth_mapbox(\n",
        "    carto,\n",
        "    geojson=carto.geometry,\n",
        "    locations=carto.index,\n",
        "    color=\"nombre_equipements\",\n",
        "    color_continuous_scale=\"YlGn\",\n",
        "    range_color=[carto[\"nombre_equipements\"].min(), carto[\"nombre_equipements\"].max()],\n",
        "    mapbox_style=\"carto-positron\",\n",
        "    center={\"lat\": carto.centroid.y.mean(), \"lon\": carto.centroid.x.mean()},\n",
        "    zoom=9.2,\n",
        "    hover_data={\"nom\": True, \"code\": True, \"nombre_equipements\": True},\n",
        "    labels={\"nombre_equipements\": \"Équipements\", \"nom\": \"Commune\", \"code\": \"Code INSEE\"},\n",
        "    width=900,\n",
        "    height=600\n",
        ")\n",
        "\n",
        "fig.update_layout(\n",
        "    title_text=\"Répartition des équipements sportifs par commune\",\n",
        "    title_font_size=17,\n",
        "    title_font_family=\"Segoe UI\",\n",
        "    margin=dict(l=0, r=0, t=35, b=0),\n",
        "    coloraxis_colorbar_title_text=\"Nb Équip.\"\n",
        ")\n",
        "\n",
        "dataviz = fig\n",
        "dataviz"
      ]
    },
    {
      "cell_type": "markdown",
      "metadata": {},
      "source": [
        "---\n",
        "*Made with ❤️ and with [duckit.fr](https://duckit.fr) - [Ali Hmaou](https://www.linkedin.com/in/ali-hmaou-6b7b73146/)*"
      ]
    }
  ],
  "metadata": {
    "kernelspec": {
      "display_name": "Python 3",
      "language": "python",
      "name": "python3"
    },
    "language_info": {
      "codemirror_mode": {
        "name": "ipython",
        "version": 3
      },
      "file_extension": ".py",
      "mimetype": "text/x-python",
      "name": "python",
      "nbconvert_exporter": "python",
      "pygments_lexer": "ipython3",
      "version": "3.8.0"
    }
  },
  "nbformat": 4,
  "nbformat_minor": 4
}