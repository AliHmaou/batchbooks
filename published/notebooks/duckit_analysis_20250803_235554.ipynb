{
  "cells": [
    {
      "cell_type": "markdown",
      "metadata": {},
      "source": [
        "# 🔥 Au-delà de la tolérance : cartographier les excès de vitesse extrêmes en France\n",
        "\n",
        "L’ensemble des **12,8 millions** de prises de vitesse instantanées réalisées en 2023 par les « voitures-radars » du réseau national trace, minute-par-minute, une radioscopie sans précédent du comportement des automobilistes français.  \n",
        "Accédez **directement aux données brutes** sur data.gouv.fr via : [https://static.data.gouv.fr/resources/jeux-de-donnees-des-vitesses-relevees-par-les-voitures-radars-a-conduite-externalisee/20241029-142313/opendata-vitesses-pratiquees-voitures-radars-2023-01-01-2023-12-31-.csv](https://static.data.gouv.fr/resources/jeux-de-donnees-des-vitesses-relevees-par-les-voitures-radars-a-conduite-externalisee/20241029-142313/opendata-vitesses-pratiquees-voitures-radars-2023-01-01-2023-12-31-.csv).  \n",
        "Ce jeu de données regroupe pour chaque mesure : date/heure précise (format `YYYY-MM-DD hh:mm`), coordonnées GPS (lat, lon), vitesse mesurée et limite théorique du tronçon. L’objectif ici est ciblé : isoler les situations où la vitesse mesurée dépasse la vitesse autorisée **de plus de 50 km/h**, un seuil au-delà duquel l’excès est considéré comme **dangereusement critique**. En restituant la localisation exacte de ces événements, nous créons une carte de chaleur interactive pour **identifier les zones où le risque routier culminera avant qu’un drame ne survienne** – un outil directement mobilisable pour les élus, les services départementaux de sécurité, ou les associations de victimes.\n",
        "\n",
        "## Méthodologie\n",
        "\n",
        "L’analyse s’appuie sur DuckDB, un moteur SQL « on-the-fly » performant sur fichiers CSV volumineux.  \n",
        "1. **Filtrage statique** : requête SQL (`SELECT ... WHERE mesure - limite > 50`) pour extraire les 10 000 premières observations classées par dépassement décroissant.  \n",
        "2. **Parsing GPS** : conversion en champs `latitude`, `longitude` à l’aide de `split_part`.  \n",
        "3. **Projection cartographique** : le centrage de la carte dynamique est automatiquement calculé sur la moyenne des points géolocalisés, puis une **HeatMap Folium** (rayon 15 m, flou 10 m, opacité min 0,6) est superposée pour rendre l’intensité de l’extrême visible d’un seul coup d’œil."
      ]
    },
    {
      "cell_type": "markdown",
      "metadata": {},
      "source": [
        "## 🔧 Configuration"
      ]
    },
    {
      "cell_type": "code",
      "execution_count": 1,
      "metadata": {},
      "outputs": [],
      "source": [
        "# Installation et imports\n",
        "import duckdb as ddb\n",
        "import pandas as pd\n",
        "import plotly.express as px\n",
        "import plotly.graph_objects as go"
      ]
    },
    {
      "cell_type": "markdown",
      "metadata": {},
      "source": [
        "## 🦆 Chargement du dataset avec Duckdb"
      ]
    },
    {
      "cell_type": "code",
      "execution_count": 1,
      "metadata": {},
      "outputs": [],
      "source": [
        "# Fonction de chargement complète (basée sur load_file_from_url_lite)\n",
        "def load_file_from_url_lite(url_dataset=\"\", loader=\"read_csv_auto\", options=\"\", nom_table=\"loaded_dataset\", safe_mode=False):\n",
        "    ddb.execute(\"install spatial\")\n",
        "    ddb.execute(\"load spatial\")\n",
        "    ddb.execute(\"INSTALL h3 FROM community\")\n",
        "    ddb.execute(\"LOAD h3\")\n",
        "    ddb.execute(\"install webbed from community;\")\n",
        "    ddb.execute(\"load webbed\")\n",
        "    ddb.execute(\"set force_download=True\")\n",
        "    ddb.execute(f\"drop table if exists {nom_table}\")   \n",
        "    \n",
        "    # Détection automatique du type de fichier\n",
        "    if 'csv' in url_dataset: \n",
        "        loader = \"read_csv_auto\"\n",
        "    elif 'tsv' in url_dataset: \n",
        "        loader = \"read_csv_auto\"\n",
        "    elif 'txt' in url_dataset: \n",
        "        loader = \"read_csv_auto\"\n",
        "    elif 'parquet' in url_dataset: \n",
        "        loader = \"read_parquet\"\n",
        "    elif 'json' in url_dataset: \n",
        "        loader = \"read_json_auto\"\n",
        "    elif 'xls' in url_dataset or 'xlsx' in url_dataset: \n",
        "        loader = \"st_read\"\n",
        "    elif 'shp' in url_dataset: \n",
        "        loader = \"st_read\"\n",
        "    elif 'geojson' in url_dataset: \n",
        "        loader = \"st_read\"\n",
        "    elif 'xml' in url_dataset: \n",
        "        loader = \"read_xml\"\n",
        "    elif 'html' in url_dataset: \n",
        "        loader = \"read_html\"\n",
        "    else: \n",
        "        raise ValueError(f\"Type de fichier non supporté pour {url_dataset}\")\n",
        "    \n",
        "    if options==\"\": \n",
        "        options = \"\" \n",
        "    if 'csv' in url_dataset and safe_mode==True: \n",
        "        options = \", all_varchar=1\" \n",
        "    if nom_table==\"\": \n",
        "        nom_table = \"loaded_dataset\"\n",
        "    \n",
        "    try:\n",
        "        status = ddb.sql(f\"\"\"\n",
        "            create or replace table {nom_table} as select *\n",
        "            from\n",
        "            {loader}(\"{url_dataset}\" {options})\n",
        "        \"\"\")\n",
        "        return status\n",
        "    except Exception as e:\n",
        "        return f\"Erreur au chargement du fichier : {str(e)}\"\n",
        "\n",
        "def run_query(sql):\n",
        "    return ddb.sql(sql.replace(\"`\",\" \")).to_df()\n",
        "\n",
        "# Chargement des données\n",
        "load_file_from_url_lite(\"https://static.data.gouv.fr/resources/jeux-de-donnees-des-vitesses-relevees-par-les-voitures-radars-a-conduite-externalisee/20241029-142313/opendata-vitesses-pratiquees-voitures-radars-2023-01-01-2023-12-31-.csv\", safe_mode=True)\n",
        "print(\"✅ Données chargées avec succès\")"
      ]
    },
    {
      "cell_type": "markdown",
      "metadata": {},
      "source": [
        "## 🔍 Analyse SQL\n",
        "\n",
        "Cette requête utilise des techniques SQL pour extraire et transformer les données de manière efficace."
      ]
    },
    {
      "cell_type": "code",
      "execution_count": 2,
      "metadata": {},
      "outputs": [],
      "source": [
        "# Exécution de la requête\n",
        "df = run_query(\"\"\" SELECT \n",
        "    substr(\"date\",1,10) as date_mesure,\n",
        "    split_part(\"position\",' ',1) as latitude,\n",
        "    split_part(\"position\",' ',2) as longitude,\n",
        "    cast(\"mesure\" as double) - cast(\"limite\" as double) as depassement_kmh\n",
        "FROM loaded_dataset\n",
        "WHERE cast(\"mesure\" as double) - cast(\"limite\" as double) > 50\n",
        "ORDER BY depassement_kmh DESC\n",
        "LIMIT 10000 \"\"\")\n",
        "print(f\"Résultats : {len(df)} lignes\")\n",
        "df.head()"
      ]
    },
    {
      "cell_type": "markdown",
      "metadata": {},
      "source": [
        "## 📈 Visualisation\n",
        "\n",
        "Cette carte de chaleur a été réalisée avec la bibliothèque Folium, qui combine la puissance de Leaflet.js et la simplicité de Python pour produire des cartes web interactives. Elle permet de visualiser instantanément les zones où le dépassement de vitesse est le plus critique, en exploitant la densité de points GPS comme intensité de couleur."
      ]
    },
    {
      "cell_type": "code",
      "execution_count": 3,
      "metadata": {},
      "outputs": [],
      "source": [
        "import pandas as pd\n",
        "import duckdb as ddb\n",
        "import folium\n",
        "from folium.plugins import HeatMap\n",
        "\n",
        "df_exces = df[df['depassement_kmh'] > 50].copy()\n",
        "df_exces[['latitude', 'longitude']] = df_exces[['latitude', 'longitude']].astype(float)\n",
        "\n",
        "center_lat = df_exces['latitude'].mean()\n",
        "center_lon = df_exces['longitude'].mean()\n",
        "\n",
        "dataviz = folium.Map(location=[center_lat, center_lon], zoom_start=6)\n",
        "HeatMap(df_exces[['latitude', 'longitude']], radius=15, blur=10, min_opacity=0.6).add_to(dataviz)\n",
        "dataviz"
      ]
    },
    {
      "cell_type": "markdown",
      "metadata": {},
      "source": [
        "---\n",
        "*Made with ❤️ and with [duckit.fr](https://duckit.fr) - [Ali Hmaou](https://www.linkedin.com/in/ali-hmaou-6b7b73146/)*"
      ]
    }
  ],
  "metadata": {
    "kernelspec": {
      "display_name": "Python 3",
      "language": "python",
      "name": "python3"
    },
    "language_info": {
      "codemirror_mode": {
        "name": "ipython",
        "version": 3
      },
      "file_extension": ".py",
      "mimetype": "text/x-python",
      "name": "python",
      "nbconvert_exporter": "python",
      "pygments_lexer": "ipython3",
      "version": "3.8.0"
    }
  },
  "nbformat": 4,
  "nbformat_minor": 4
}