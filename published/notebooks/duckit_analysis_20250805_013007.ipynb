{
  "cells": [
    {
      "cell_type": "markdown",
      "metadata": {},
      "source": [
        "# Analyse de la Répartition des Élus par Sexe et Catégorie Socio-Professionnelle\n",
        "\n",
        "L'analyse présentée dans ce notebook se base sur le Répertoire National des Élus publié par le gouvernement français, disponible à l'adresse https://static.data.gouv.fr/resources/repertoire-national-des-elus-1/20250613-142903/elus-maires-mai.csv. Ce jeu de données fournit des informations détaillées sur les élus en France, y compris leurs données personnelles, professionnelles et les détails de leurs mandats. L'objectif de cette analyse est de préparer les données pour un diagramme circulaire à deux niveaux représentant la répartition des élus par sexe et catégorie socio-professionnelle, afin de mieux comprendre la composition démographique et socio-professionnelle des élus en France.\n",
        "\n",
        "L'analyse de la répartition des élus par sexe et catégorie socio-professionnelle est cruciale pour comprendre les dynamiques de représentation au sein des instances politiques françaises. En examinant ces données, nous pouvons identifier les tendances et les disparités dans la représentation des différents groupes socio-professionnels et des sexes. Cela peut éclairer les discussions sur l'égalité des sexes et la diversité dans la sphère politique.\n",
        "\n",
        "\n",
        "## Méthodologie\n",
        "\n",
        "La méthodologie employée dans cette analyse consiste à charger le jeu de données dans une base de données DuckDB, puis à exécuter une requête SQL pour agréger les données par sexe et catégorie socio-professionnelle. Les données sont ensuite traitées en utilisant la bibliothèque Pandas pour préparer le diagramme circulaire à deux niveaux. La visualisation est créée en utilisant Plotly Express, avec une attention particulière portée à la sélection des catégories socio-professionnelles les plus représentées pour améliorer la lisibilité du diagramme. La requête SQL utilisée est : \n",
        " SELECT \"Code sexe\" AS sexe, \"Libellé de la catégorie socio-professionnelle\" AS csp_libelle, COUNT(*) AS nb_elus FROM loaded_dataset GROUP BY \"Code sexe\", \"Libellé de la catégorie socio-professionnelle\" ORDER BY nb_elus DESC.\n",
        "\n",
        "Les données sont ensuite visualisées sous forme de sunburst chart, permettant de représenter de manière claire et interactive la répartition des élus selon les critères choisis. \n",
        "\n",
        " \n",
        "## Visualisation des Données \n",
        "\n",
        "La visualisation est générée en utilisant le code Python basé sur les bibliothèques Plotly et Pandas.\n",
        "\n",
        "\n",
        "## Interprétation des Résultats \n",
        "\n",
        "L'analyse permet d'identifier les tendances dans la répartition des élus en fonction de leur sexe et de leur catégorie socio-professionnelle, et de mettre en évidence les catégories les plus représentées."
      ]
    },
    {
      "cell_type": "markdown",
      "metadata": {},
      "source": [
        "## 🔧 Configuration"
      ]
    },
    {
      "cell_type": "code",
      "execution_count": 1,
      "metadata": {},
      "outputs": [],
      "source": [
        "# Installation et imports\n",
        "import duckdb as ddb\n",
        "import pandas as pd\n",
        "import plotly.express as px\n",
        "import plotly.graph_objects as go"
      ]
    },
    {
      "cell_type": "markdown",
      "metadata": {},
      "source": [
        "## 🦆 Chargement du dataset avec Duckdb"
      ]
    },
    {
      "cell_type": "code",
      "execution_count": 1,
      "metadata": {},
      "outputs": [],
      "source": [
        "# Fonction de chargement complète (basée sur load_file_from_url_lite)\n",
        "def load_file_from_url_lite(url_dataset=\"\", loader=\"read_csv_auto\", options=\"\", nom_table=\"loaded_dataset\", safe_mode=False):\n",
        "    ddb.execute(\"install spatial\")\n",
        "    ddb.execute(\"load spatial\")\n",
        "    ddb.execute(\"INSTALL h3 FROM community\")\n",
        "    ddb.execute(\"LOAD h3\")\n",
        "    ddb.execute(\"install webbed from community;\")\n",
        "    ddb.execute(\"load webbed\")\n",
        "    ddb.execute(\"set force_download=True\")\n",
        "    ddb.execute(f\"drop table if exists {nom_table}\")   \n",
        "    \n",
        "    # Détection automatique du type de fichier\n",
        "    if 'csv' in url_dataset: \n",
        "        loader = \"read_csv_auto\"\n",
        "    elif 'tsv' in url_dataset: \n",
        "        loader = \"read_csv_auto\"\n",
        "    elif 'txt' in url_dataset: \n",
        "        loader = \"read_csv_auto\"\n",
        "    elif 'parquet' in url_dataset: \n",
        "        loader = \"read_parquet\"\n",
        "    elif 'json' in url_dataset: \n",
        "        loader = \"read_json_auto\"\n",
        "    elif 'xls' in url_dataset or 'xlsx' in url_dataset: \n",
        "        loader = \"st_read\"\n",
        "    elif 'shp' in url_dataset: \n",
        "        loader = \"st_read\"\n",
        "    elif 'geojson' in url_dataset: \n",
        "        loader = \"st_read\"\n",
        "    elif 'xml' in url_dataset: \n",
        "        loader = \"read_xml\"\n",
        "    elif 'html' in url_dataset: \n",
        "        loader = \"read_html\"\n",
        "    else: \n",
        "        raise ValueError(f\"Type de fichier non supporté pour {url_dataset}\")\n",
        "    \n",
        "    if options==\"\": \n",
        "        options = \"\" \n",
        "    if 'csv' in url_dataset and safe_mode==True: \n",
        "        options = \", all_varchar=1\" \n",
        "    if nom_table==\"\": \n",
        "        nom_table = \"loaded_dataset\"\n",
        "    \n",
        "    try:\n",
        "        status = ddb.sql(f\"\"\"\n",
        "            create or replace table {nom_table} as select *\n",
        "            from\n",
        "            {loader}(\"{url_dataset}\" {options})\n",
        "        \"\"\")\n",
        "        return status\n",
        "    except Exception as e:\n",
        "        return f\"Erreur au chargement du fichier : {str(e)}\"\n",
        "\n",
        "def run_query(sql):\n",
        "    return ddb.sql(sql.replace(\"`\",\" \")).to_df()\n",
        "\n",
        "# Chargement des données\n",
        "load_file_from_url_lite(\"https://static.data.gouv.fr/resources/repertoire-national-des-elus-1/20250613-142903/elus-maires-mai.csv\", safe_mode=True)\n",
        "print(\"✅ Données chargées avec succès\")"
      ]
    },
    {
      "cell_type": "markdown",
      "metadata": {},
      "source": [
        "## 🔍 Analyse SQL\n",
        "\n",
        "Cette requête utilise des techniques SQL pour extraire et transformer les données de manière efficace."
      ]
    },
    {
      "cell_type": "code",
      "execution_count": 2,
      "metadata": {},
      "outputs": [],
      "source": [
        "# Exécution de la requête\n",
        "df = run_query(\"\"\" SELECT \n",
        "  \"Code sexe\" AS sexe,\n",
        "  \"Libellé de la catégorie socio-professionnelle\" AS csp_libelle,\n",
        "  COUNT(*) AS nb_elus\n",
        "FROM \n",
        "  loaded_dataset\n",
        "GROUP BY \n",
        "  \"Code sexe\",\n",
        "  \"Libellé de la catégorie socio-professionnelle\"\n",
        "ORDER BY \n",
        "  nb_elus DESC \"\"\")\n",
        "print(f\"Résultats : {len(df)} lignes\")\n",
        "df.head()"
      ]
    },
    {
      "cell_type": "markdown",
      "metadata": {},
      "source": [
        "## 📈 Visualisation\n",
        "\n",
        "La bibliothèque principale utilisée est Plotly Express, qui est adaptée pour créer des visualisations interactives complexes telles que des diagrammes de sunburst. Ce type de représentation est idéal pour afficher la répartition des données selon plusieurs catégories hiérarchisées, ici le sexe et la catégorie socio-professionnelle des élus. Cela permet une exploration intuitive et détaillée des données."
      ]
    },
    {
      "cell_type": "code",
      "execution_count": 3,
      "metadata": {},
      "outputs": [],
      "source": [
        "import pandas as pd\n",
        "import duckdb as ddb\n",
        "import plotly.express as px\n",
        "\n",
        "# Préparation : conserver uniquement les CSP les plus fréquentes si trop catégories\n",
        "top_csp = df.groupby(\"csp_libelle\")[\"nb_elus\"].sum().nlargest(15).index\n",
        "df_plot = df[df[\"csp_libelle\"].isin(top_csp)].copy()\n",
        "\n",
        "dataviz = px.sunburst(\n",
        "    df_plot,\n",
        "    path=[\"sexe\", \"csp_libelle\"],\n",
        "    values=\"nb_elus\",\n",
        "    title=\"Répartition des élus par sexe et CSP - Politique publique élus\",\n",
        "    color=\"sexe\",\n",
        "    color_discrete_map={\"F\": \"#EF553B\", \"M\": \"#636EFA\"},\n",
        "    hover_data={\"nb_elus\": \":.0f\"},\n",
        ")\n",
        "\n",
        "dataviz.update_traces(textinfo=\"label+value+percent parent\")\n",
        "dataviz.update_layout(\n",
        "    font=dict(family=\"Roboto, sans-serif\", size=12),\n",
        "    margin=dict(l=20, r=20, t=40, b=20),\n",
        ")\n",
        "dataviz"
      ]
    },
    {
      "cell_type": "markdown",
      "metadata": {},
      "source": [
        "---\n",
        "*Made with ❤️ and with [duckit.fr](https://duckit.fr) - [Ali Hmaou](https://www.linkedin.com/in/ali-hmaou-6b7b73146/)*"
      ]
    }
  ],
  "metadata": {
    "kernelspec": {
      "display_name": "Python 3",
      "language": "python",
      "name": "python3"
    },
    "language_info": {
      "codemirror_mode": {
        "name": "ipython",
        "version": 3
      },
      "file_extension": ".py",
      "mimetype": "text/x-python",
      "name": "python",
      "nbconvert_exporter": "python",
      "pygments_lexer": "ipython3",
      "version": "3.8.0"
    }
  },
  "nbformat": 4,
  "nbformat_minor": 4
}