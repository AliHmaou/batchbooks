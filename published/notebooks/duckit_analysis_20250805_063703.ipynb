{
 "cells": [
  {
   "cell_type": "markdown",
   "metadata": {},
   "source": [
    "# Cartographie des Musées de France : Une Analyse de la Répartition Géographique\n",
    "\n",
    "\n",
    "La présente analyse se base sur le jeu de données \"Liste et Localisation des Musées de France\" disponible sur le site data.culture.gouv.fr à l'adresse https://data.culture.gouv.fr/api/explore/v2.1/catalog/datasets/liste-et-localisation-des-musees-de-france/exports/parquet?lang=fr&timezone=Europe%2FBerlin. Ce jeu de données fournit des informations détaillées sur les musées de France, notamment leur localisation, leur nom officiel, leur adresse, ainsi que leurs coordonnées géographiques.\n",
    "\n",
    "L'objectif de cette analyse est de regrouper les musées de France selon un buffer carré de 1 km, de compter le nombre de musées dans chaque carré, puis d'agréger ces carrés par enveloppe de polygones s'ils se croisent. Cette approche permet d'obtenir une vision plus précise de la répartition géographique des musées en France.\n",
    "\n",
    "\n",
    "## Méthodologie\n",
    "\n",
    "La méthodologie utilisée dans cette analyse consiste en plusieurs étapes. Tout d'abord, nous créons un buffer carré de 1 km autour de chaque musée en utilisant les coordonnées géographiques fournies dans le jeu de données. Ensuite, nous comptons le nombre de musées dans chaque buffer. Enfin, nous agrégeons les buffers qui se croisent pour former des polygones représentant les zones de forte concentration de musées. Cette approche est mise en œuvre à l'aide d'une requête SQL utilisant les fonctionnalités spatiales de DuckDB.\n",
    "\n",
    "Les résultats de cette analyse sont ensuite visualisés à l'aide d'une carte interactive créée avec Plotly Express, permettant de visualiser la répartition des musées en France de manière claire et intuitive. La carte représente les polygones obtenus après agrégation des buffers, avec une échelle de couleur indiquant le nombre de musées dans chaque zone."
   ]
  },
  {
   "cell_type": "markdown",
   "metadata": {},
   "source": [
    "## 🔧 Configuration"
   ]
  },
  {
   "cell_type": "code",
   "execution_count": 1,
   "metadata": {
    "execution": {
     "iopub.execute_input": "2025-08-21T09:55:44.435161Z",
     "iopub.status.busy": "2025-08-21T09:55:44.435161Z",
     "iopub.status.idle": "2025-08-21T09:55:45.026526Z",
     "shell.execute_reply": "2025-08-21T09:55:45.026526Z"
    }
   },
   "outputs": [],
   "source": [
    "# Installation et imports\n",
    "import duckdb as ddb\n",
    "import pandas as pd\n",
    "import plotly.express as px\n",
    "import plotly.graph_objects as go"
   ]
  },
  {
   "cell_type": "markdown",
   "metadata": {},
   "source": [
    "## 🦆 Chargement du dataset avec Duckdb"
   ]
  },
  {
   "cell_type": "code",
   "execution_count": 2,
   "metadata": {
    "execution": {
     "iopub.execute_input": "2025-08-21T09:55:45.026526Z",
     "iopub.status.busy": "2025-08-21T09:55:45.026526Z",
     "iopub.status.idle": "2025-08-21T09:55:47.408441Z",
     "shell.execute_reply": "2025-08-21T09:55:47.408441Z"
    }
   },
   "outputs": [
    {
     "name": "stdout",
     "output_type": "stream",
     "text": [
      "✅ Données chargées avec succès\n"
     ]
    }
   ],
   "source": [
    "# Fonction de chargement complète (basée sur load_file_from_url_lite)\n",
    "def load_file_from_url_lite(url_dataset=\"\", loader=\"read_csv_auto\", options=\"\", nom_table=\"loaded_dataset\", safe_mode=False):\n",
    "    ddb.execute(\"install spatial\")\n",
    "    ddb.execute(\"load spatial\")\n",
    "    ddb.execute(\"INSTALL h3 FROM community\")\n",
    "    ddb.execute(\"LOAD h3\")\n",
    "    ddb.execute(\"install webbed from community;\")\n",
    "    ddb.execute(\"load webbed\")\n",
    "    ddb.execute(\"set force_download=True\")\n",
    "    ddb.execute(f\"drop table if exists {nom_table}\")   \n",
    "    \n",
    "    # Détection automatique du type de fichier\n",
    "    if 'csv' in url_dataset: \n",
    "        loader = \"read_csv_auto\"\n",
    "    elif 'tsv' in url_dataset: \n",
    "        loader = \"read_csv_auto\"\n",
    "    elif 'txt' in url_dataset: \n",
    "        loader = \"read_csv_auto\"\n",
    "    elif 'parquet' in url_dataset: \n",
    "        loader = \"read_parquet\"\n",
    "    elif 'json' in url_dataset: \n",
    "        loader = \"read_json_auto\"\n",
    "    elif 'xls' in url_dataset or 'xlsx' in url_dataset: \n",
    "        loader = \"st_read\"\n",
    "    elif 'shp' in url_dataset: \n",
    "        loader = \"st_read\"\n",
    "    elif 'geojson' in url_dataset: \n",
    "        loader = \"st_read\"\n",
    "    elif 'xml' in url_dataset: \n",
    "        loader = \"read_xml\"\n",
    "    elif 'html' in url_dataset: \n",
    "        loader = \"read_html\"\n",
    "    else: \n",
    "        raise ValueError(f\"Type de fichier non supporté pour {url_dataset}\")\n",
    "    \n",
    "    if options==\"\": \n",
    "        options = \"\" \n",
    "    if 'csv' in url_dataset and safe_mode==True: \n",
    "        options = \", all_varchar=1\" \n",
    "    if nom_table==\"\": \n",
    "        nom_table = \"loaded_dataset\"\n",
    "    \n",
    "    try:\n",
    "        status = ddb.sql(f\"\"\"\n",
    "            create or replace table {nom_table} as select *\n",
    "            from\n",
    "            {loader}(\"{url_dataset}\" {options})\n",
    "        \"\"\")\n",
    "        return status\n",
    "    except Exception as e:\n",
    "        return f\"Erreur au chargement du fichier : {str(e)}\"\n",
    "\n",
    "def run_query(sql):\n",
    "    return ddb.sql(sql.replace(\"`\",\" \")).to_df()\n",
    "\n",
    "# Chargement des données\n",
    "load_file_from_url_lite(\"https://data.culture.gouv.fr/api/explore/v2.1/catalog/datasets/liste-et-localisation-des-musees-de-france/exports/parquet?lang=fr&timezone=Europe%2FBerlin\", safe_mode=True)\n",
    "print(\"✅ Données chargées avec succès\")"
   ]
  },
  {
   "cell_type": "markdown",
   "metadata": {},
   "source": [
    "## 🔍 Analyse SQL\n",
    "\n",
    "Cette requête utilise des techniques SQL pour extraire et transformer les données de manière efficace."
   ]
  },
  {
   "cell_type": "code",
   "execution_count": 3,
   "metadata": {
    "execution": {
     "iopub.execute_input": "2025-08-21T09:55:47.424556Z",
     "iopub.status.busy": "2025-08-21T09:55:47.424556Z",
     "iopub.status.idle": "2025-08-21T09:55:47.922172Z",
     "shell.execute_reply": "2025-08-21T09:55:47.922172Z"
    }
   },
   "outputs": [
    {
     "name": "stdout",
     "output_type": "stream",
     "text": [
      "Résultats : 487 lignes\n"
     ]
    },
    {
     "data": {
      "text/html": [
       "<div>\n",
       "<style scoped>\n",
       "    .dataframe tbody tr th:only-of-type {\n",
       "        vertical-align: middle;\n",
       "    }\n",
       "\n",
       "    .dataframe tbody tr th {\n",
       "        vertical-align: top;\n",
       "    }\n",
       "\n",
       "    .dataframe thead th {\n",
       "        text-align: right;\n",
       "    }\n",
       "</style>\n",
       "<table border=\"1\" class=\"dataframe\">\n",
       "  <thead>\n",
       "    <tr style=\"text-align: right;\">\n",
       "      <th></th>\n",
       "      <th>polygon_wkt</th>\n",
       "      <th>nb_musee</th>\n",
       "    </tr>\n",
       "  </thead>\n",
       "  <tbody>\n",
       "    <tr>\n",
       "      <th>0</th>\n",
       "      <td>POLYGON ((4.808042 45.72319, 4.828042 45.72319...</td>\n",
       "      <td>3.0</td>\n",
       "    </tr>\n",
       "    <tr>\n",
       "      <th>1</th>\n",
       "      <td>POLYGON ((7.741984 48.571229, 7.761984 48.5712...</td>\n",
       "      <td>3.0</td>\n",
       "    </tr>\n",
       "    <tr>\n",
       "      <th>2</th>\n",
       "      <td>POLYGON ((3.205208 43.328908000000006, 3.22520...</td>\n",
       "      <td>2.0</td>\n",
       "    </tr>\n",
       "    <tr>\n",
       "      <th>3</th>\n",
       "      <td>POLYGON ((4.061824 48.284239, 4.081824 48.2842...</td>\n",
       "      <td>2.0</td>\n",
       "    </tr>\n",
       "    <tr>\n",
       "      <th>4</th>\n",
       "      <td>POLYGON ((1.088932 49.437268, 1.108932 49.4372...</td>\n",
       "      <td>2.0</td>\n",
       "    </tr>\n",
       "  </tbody>\n",
       "</table>\n",
       "</div>"
      ],
      "text/plain": [
       "                                         polygon_wkt  nb_musee\n",
       "0  POLYGON ((4.808042 45.72319, 4.828042 45.72319...       3.0\n",
       "1  POLYGON ((7.741984 48.571229, 7.761984 48.5712...       3.0\n",
       "2  POLYGON ((3.205208 43.328908000000006, 3.22520...       2.0\n",
       "3  POLYGON ((4.061824 48.284239, 4.081824 48.2842...       2.0\n",
       "4  POLYGON ((1.088932 49.437268, 1.108932 49.4372...       2.0"
      ]
     },
     "execution_count": 3,
     "metadata": {},
     "output_type": "execute_result"
    }
   ],
   "source": [
    "# Exécution de la requête\n",
    "df = run_query(\"\"\" WITH \n",
    "-- Création d'un buffer carré de 1km autour de chaque musée\n",
    "musee_buffer AS (\n",
    "  SELECT \n",
    "    \"identifiant_museofile\",\n",
    "    ST_GeomFromText('POLYGON((' || \n",
    "      ST_X(\"geolocalisation\") - 0.01 || ' ' || ST_Y(\"geolocalisation\") - 0.01 || ', ' ||\n",
    "      ST_X(\"geolocalisation\") + 0.01 || ' ' || ST_Y(\"geolocalisation\") - 0.01 || ', ' ||\n",
    "      ST_X(\"geolocalisation\") + 0.01 || ' ' || ST_Y(\"geolocalisation\") + 0.01 || ', ' ||\n",
    "      ST_X(\"geolocalisation\") - 0.01 || ' ' || ST_Y(\"geolocalisation\") + 0.01 || ', ' ||\n",
    "      ST_X(\"geolocalisation\") - 0.01 || ' ' || ST_Y(\"geolocalisation\") - 0.01 || '))') AS buffer_geom\n",
    "  FROM loaded_dataset\n",
    "),\n",
    "-- Comptage du nombre de musées dans chaque buffer\n",
    "buffer_count AS (\n",
    "  SELECT \n",
    "    buffer_geom,\n",
    "    COUNT(\"identifiant_museofile\") AS nb_musee\n",
    "  FROM musee_buffer\n",
    "  GROUP BY buffer_geom\n",
    "),\n",
    "-- Agrégation des buffers qui se croisent\n",
    "buffer_union AS (\n",
    "  SELECT \n",
    "    ST_Union_Agg(buffer_geom) AS polygon,\n",
    "    SUM(nb_musee) AS nb_musee\n",
    "  FROM buffer_count bc1\n",
    "  WHERE EXISTS (\n",
    "    SELECT 1 \n",
    "    FROM buffer_count bc2 \n",
    "    WHERE bc1.buffer_geom != bc2.buffer_geom AND ST_Intersects(bc1.buffer_geom, bc2.buffer_geom)\n",
    "  )\n",
    "  GROUP BY ST_AsText(bc1.buffer_geom)\n",
    ")\n",
    "-- Sélection des résultats\n",
    "SELECT \n",
    "  ST_AsText(polygon) AS polygon_wkt,\n",
    "  nb_musee\n",
    "FROM buffer_union\n",
    "ORDER BY nb_musee DESC \"\"\")\n",
    "print(f\"Résultats : {len(df)} lignes\")\n",
    "df.head()"
   ]
  },
  {
   "cell_type": "markdown",
   "metadata": {},
   "source": [
    "## 📈 Visualisation\n",
    "\n",
    "La bibliothèque principale utilisée est Plotly Express, qui est une interface de haut niveau pour la visualisation de données avec Plotly. Cette technologie est adaptée car elle permet de créer des cartes interactives et personnalisables, idéales pour représenter des données géospatiales comme la répartition des musées sur un territoire. Le choix d'une carte choroplèthe permet de visualiser efficacement la densité de musées dans différentes zones."
   ]
  },
  {
   "cell_type": "code",
   "execution_count": 4,
   "metadata": {
    "execution": {
     "iopub.execute_input": "2025-08-21T09:55:47.922172Z",
     "iopub.status.busy": "2025-08-21T09:55:47.922172Z",
     "iopub.status.idle": "2025-08-21T09:55:50.650155Z",
     "shell.execute_reply": "2025-08-21T09:55:50.650155Z"
    }
   },
   "outputs": [
    {
     "name": "stderr",
     "output_type": "stream",
     "text": [
      "C:\\Users\\ami\\AppData\\Local\\Temp\\ipykernel_13112\\465449159.py:14: UserWarning: Geometry is in a geographic CRS. Results from 'centroid' are likely incorrect. Use 'GeoSeries.to_crs()' to re-project geometries to a projected CRS before this operation.\n",
      "\n",
      "  gdf[\"centroid_lon\"] = gdf.geometry.centroid.x\n",
      "C:\\Users\\ami\\AppData\\Local\\Temp\\ipykernel_13112\\465449159.py:15: UserWarning: Geometry is in a geographic CRS. Results from 'centroid' are likely incorrect. Use 'GeoSeries.to_crs()' to re-project geometries to a projected CRS before this operation.\n",
      "\n",
      "  gdf[\"centroid_lat\"] = gdf.geometry.centroid.y\n",
      "C:\\Users\\ami\\AppData\\Local\\Temp\\ipykernel_13112\\465449159.py:19: DeprecationWarning: *choropleth_mapbox* is deprecated! Use *choropleth_map* instead. Learn more at: https://plotly.com/python/mapbox-to-maplibre/\n",
      "  dataviz = px.choropleth_mapbox(\n"
     ]
    },
    {
     "data": {
      "application/vnd.plotly.v1+json": {
       "config": {
        "plotlyServerURL": "https://plot.ly"
       },
       "data": [
        {
         "coloraxis": "coloraxis",
         "customdata": {
          "bdata": "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",
          "dtype": "f8",
          "shape": "487, 3"
         },
         "geojson": {
          "bbox": [
           -61.547737,
           -20.897712000000002,
           55.461452,
           51.0552716042499
          ],
          "features": [
           {
            "bbox": [
             4.808042,
             45.72319,
             4.828042,
             45.74319
            ],
            "geometry": {
             "coordinates": [
              [
               [
                4.808042,
                45.72319
               ],
               [
                4.828042,
                45.72319
               ],
               [
                4.828042,
                45.74319
               ],
               [
                4.808042,
                45.74319
               ],
               [
                4.808042,
                45.72319
               ]
              ]
             ],
             "type": "Polygon"
            },
            "id": "0",
            "properties": {},
            "type": "Feature"
           },
           {
            "bbox": [
             7.741984,
             48.571229,
             7.761984,
             48.591229
            ],
            "geometry": {
             "coordinates": [
              [
               [
                7.741984,
                48.571229
               ],
               [
                7.761984,
                48.571229
               ],
               [
                7.761984,
                48.591229
               ],
               [
                7.741984,
                48.591229
               ],
               [
                7.741984,
                48.571229
               ]
              ]
             ],
             "type": "Polygon"
            },
            "id": "1",
            "properties": {},
            "type": "Feature"
           },
           {
            "bbox": [
             3.205208,
             43.328908000000006,
             3.225208,
             43.348908
            ],
            "geometry": {
             "coordinates": [
              [
               [
                3.205208,
                43.328908000000006
               ],
               [
                3.225208,
                43.328908000000006
               ],
               [
                3.225208,
                43.348908
               ],
               [
                3.205208,
                43.348908
               ],
               [
                3.205208,
                43.328908000000006
               ]
              ]
             ],
             "type": "Polygon"
            },
            "id": "2",
            "properties": {},
            "type": "Feature"
           },
           {
            "bbox": [
             4.061824,
             48.284239,
             4.081824,
             48.304238999999995
            ],
            "geometry": {
             "coordinates": [
              [
               [
                4.061824,
                48.284239
               ],
               [
                4.081824,
                48.284239
               ],
               [
                4.081824,
                48.304238999999995
               ],
               [
                4.061824,
                48.304238999999995
               ],
               [
                4.061824,
                48.284239
               ]
              ]
             ],
             "type": "Polygon"
            },
            "id": "3",
            "properties": {},
            "type": "Feature"
           },
           {
            "bbox": [
             1.088932,
             49.437268,
             1.108932,
             49.457268
            ],
            "geometry": {
             "coordinates": [
              [
               [
                1.088932,
                49.437268
               ],
               [
                1.108932,
                49.437268
               ],
               [
                1.108932,
                49.457268
               ],
               [
                1.088932,
                49.457268
               ],
               [
                1.088932,
                49.437268
               ]
              ]
             ],
             "type": "Polygon"
            },
            "id": "4",
            "properties": {},
            "type": "Feature"
           },
           {
            "bbox": [
             2.283754,
             48.85425,
             2.303754,
             48.874249999999996
            ],
            "geometry": {
             "coordinates": [
              [
               [
                2.283754,
                48.85425
               ],
               [
                2.303754,
                48.85425
               ],
               [
                2.303754,
                48.874249999999996
               ],
               [
                2.283754,
                48.874249999999996
               ],
               [
                2.283754,
                48.85425
               ]
              ]
             ],
             "type": "Polygon"
            },
            "id": "5",
            "properties": {},
            "type": "Feature"
           },
           {
            "bbox": [
             4.354203,
             48.946391000000006,
             4.374203,
             48.966391
            ],
            "geometry": {
             "coordinates": [
              [
               [
                4.354203,
                48.946391000000006
               ],
               [
                4.374203,
                48.946391000000006
               ],
               [
                4.374203,
                48.966391
               ],
               [
                4.354203,
                48.966391
               ],
               [
                4.354203,
                48.946391000000006
               ]
              ]
             ],
             "type": "Polygon"
            },
            "id": "6",
            "properties": {},
            "type": "Feature"
           },
           {
            "bbox": [
             5.357602,
             43.290172000000005,
             5.377602,
             43.310172
            ],
            "geometry": {
             "coordinates": [
              [
               [
                5.357602,
                43.290172000000005
               ],
               [
                5.377602,
                43.290172000000005
               ],
               [
                5.377602,
                43.310172
               ],
               [
                5.357602,
                43.310172
               ],
               [
                5.357602,
                43.290172000000005
               ]
              ]
             ],
             "type": "Polygon"
            },
            "id": "7",
            "properties": {},
            "type": "Feature"
           },
           {
            "bbox": [
             6.012095,
             47.226687000000005,
             6.032095,
             47.246687
            ],
            "geometry": {
             "coordinates": [
              [
               [
                6.012095,
                47.226687000000005
               ],
               [
                6.032095,
                47.226687000000005
               ],
               [
                6.032095,
                47.246687
               ],
               [
                6.012095,
                47.246687
               ],
               [
                6.012095,
                47.226687000000005
               ]
              ]
             ],
             "type": "Polygon"
            },
            "id": "8",
            "properties": {},
            "type": "Feature"
           },
           {
            "bbox": [
             2.231177,
             48.824945,
             2.251177,
             48.844944999999996
            ],
            "geometry": {
             "coordinates": [
              [
               [
                2.231177,
                48.824945
               ],
               [
                2.251177,
                48.824945
               ],
               [
                2.251177,
                48.844944999999996
               ],
               [
                2.231177,
                48.844944999999996
               ],
               [
                2.231177,
                48.824945
               ]
              ]
             ],
             "type": "Polygon"
            },
            "id": "9",
            "properties": {},
            "type": "Feature"
           },
           {
            "bbox": [
             4.07003,
             48.290638,
             4.09003,
             48.310638
            ],
            "geometry": {
             "coordinates": [
              [
               [
                4.07003,
                48.290638
               ],
               [
                4.09003,
                48.290638
               ],
               [
                4.09003,
                48.310638
               ],
               [
                4.07003,
                48.310638
               ],
               [
                4.07003,
                48.290638
               ]
              ]
             ],
             "type": "Polygon"
            },
            "id": "10",
            "properties": {},
            "type": "Feature"
           },
           {
            "bbox": [
             2.302885,
             48.848219,
             2.322885,
             48.868218999999996
            ],
            "geometry": {
             "coordinates": [
              [
               [
                2.302885,
                48.848219
               ],
               [
                2.322885,
                48.848219
               ],
               [
                2.322885,
                48.868218999999996
               ],
               [
                2.302885,
                48.868218999999996
               ],
               [
                2.302885,
                48.848219
               ]
              ]
             ],
             "type": "Polygon"
            },
            "id": "11",
            "properties": {},
            "type": "Feature"
           },
           {
            "bbox": [
             4.829393,
             47.01097,
             4.849393,
             47.030969999999996
            ],
            "geometry": {
             "coordinates": [
              [
               [
                4.829393,
                47.01097
               ],
               [
                4.849393,
                47.01097
               ],
               [
                4.849393,
                47.030969999999996
               ],
               [
                4.829393,
                47.030969999999996
               ],
               [
                4.829393,
                47.01097
               ]
              ]
             ],
             "type": "Polygon"
            },
            "id": "12",
            "properties": {},
            "type": "Feature"
           },
           {
            "bbox": [
             2.347046,
             48.855357000000005,
             2.367046,
             48.875357
            ],
            "geometry": {
             "coordinates": [
              [
               [
                2.347046,
                48.855357000000005
               ],
               [
                2.367046,
                48.855357000000005
               ],
               [
                2.367046,
                48.875357
               ],
               [
                2.347046,
                48.875357
               ],
               [
                2.347046,
                48.855357000000005
               ]
              ]
             ],
             "type": "Polygon"
            },
            "id": "13",
            "properties": {},
            "type": "Feature"
           },
           {
            "bbox": [
             0.677373,
             47.383692,
             0.697373,
             47.403692
            ],
            "geometry": {
             "coordinates": [
              [
               [
                0.677373,
                47.383692
               ],
               [
                0.697373,
                47.383692
               ],
               [
                0.697373,
                47.403692
               ],
               [
                0.677373,
                47.403692
               ],
               [
                0.677373,
                47.383692
               ]
              ]
             ],
             "type": "Polygon"
            },
            "id": "14",
            "properties": {},
            "type": "Feature"
           },
           {
            "bbox": [
             5.373313,
             43.285789,
             5.393313,
             43.305789
            ],
            "geometry": {
             "coordinates": [
              [
               [
                5.373313,
                43.285789
               ],
               [
                5.393313,
                43.285789
               ],
               [
                5.393313,
                43.305789
               ],
               [
                5.373313,
                43.305789
               ],
               [
                5.373313,
                43.285789
               ]
              ]
             ],
             "type": "Polygon"
            },
            "id": "15",
            "properties": {},
            "type": "Feature"
           },
           {
            "bbox": [
             7.478400000000001,
             43.756659,
             7.4984,
             43.776658999999995
            ],
            "geometry": {
             "coordinates": [
              [
               [
                7.478400000000001,
                43.756659
               ],
               [
                7.4984,
                43.756659
               ],
               [
                7.4984,
                43.776658999999995
               ],
               [
                7.478400000000001,
                43.776658999999995
               ],
               [
                7.478400000000001,
                43.756659
               ]
              ]
             ],
             "type": "Polygon"
            },
            "id": "16",
            "properties": {},
            "type": "Feature"
           },
           {
            "bbox": [
             4.263059,
             46.421434000000005,
             4.283059,
             46.441434
            ],
            "geometry": {
             "coordinates": [
              [
               [
                4.263059,
                46.421434000000005
               ],
               [
                4.283059,
                46.421434000000005
               ],
               [
                4.283059,
                46.441434
               ],
               [
                4.263059,
                46.441434
               ],
               [
                4.263059,
                46.421434000000005
               ]
              ]
             ],
             "type": "Polygon"
            },
            "id": "17",
            "properties": {},
            "type": "Feature"
           },
           {
            "bbox": [
             4.024043,
             49.247013,
             4.044042999999999,
             49.267013
            ],
            "geometry": {
             "coordinates": [
              [
               [
                4.024043,
                49.247013
               ],
               [
                4.044042999999999,
                49.247013
               ],
               [
                4.044042999999999,
                49.267013
               ],
               [
                4.024043,
                49.267013
               ],
               [
                4.024043,
                49.247013
               ]
              ]
             ],
             "type": "Polygon"
            },
            "id": "18",
            "properties": {},
            "type": "Feature"
           },
           {
            "bbox": [
             5.41464477906,
             43.511292915300004,
             5.43464477906,
             43.5312929153
            ],
            "geometry": {
             "coordinates": [
              [
               [
                5.41464477906,
                43.511292915300004
               ],
               [
                5.43464477906,
                43.511292915300004
               ],
               [
                5.43464477906,
                43.5312929153
               ],
               [
                5.41464477906,
                43.5312929153
               ],
               [
                5.41464477906,
                43.511292915300004
               ]
              ]
             ],
             "type": "Polygon"
            },
            "id": "19",
            "properties": {},
            "type": "Feature"
           },
           {
            "bbox": [
             5.436601,
             43.527816,
             5.456601,
             43.547816
            ],
            "geometry": {
             "coordinates": [
              [
               [
                5.436601,
                43.527816
               ],
               [
                5.456601,
                43.527816
               ],
               [
                5.456601,
                43.547816
               ],
               [
                5.436601,
                43.547816
               ],
               [
                5.436601,
                43.527816
               ]
              ]
             ],
             "type": "Polygon"
            },
            "id": "20",
            "properties": {},
            "type": "Feature"
           },
           {
            "bbox": [
             7.654814,
             48.922234,
             7.674814,
             48.942234
            ],
            "geometry": {
             "coordinates": [
              [
               [
                7.654814,
                48.922234
               ],
               [
                7.674814,
                48.922234
               ],
               [
                7.674814,
                48.942234
               ],
               [
                7.654814,
                48.942234
               ],
               [
                7.654814,
                48.922234
               ]
              ]
             ],
             "type": "Polygon"
            },
            "id": "21",
            "properties": {},
            "type": "Feature"
           },
           {
            "bbox": [
             1.322917,
             47.576566,
             1.342917,
             47.596565999999996
            ],
            "geometry": {
             "coordinates": [
              [
               [
                1.322917,
                47.576566
               ],
               [
                1.342917,
                47.576566
               ],
               [
                1.342917,
                47.596565999999996
               ],
               [
                1.322917,
                47.596565999999996
               ],
               [
                1.322917,
                47.576566
               ]
              ]
             ],
             "type": "Polygon"
            },
            "id": "22",
            "properties": {},
            "type": "Feature"
           },
           {
            "bbox": [
             7.2588,
             43.699220000000004,
             7.2788,
             43.71922
            ],
            "geometry": {
             "coordinates": [
              [
               [
                7.2588,
                43.699220000000004
               ],
               [
                7.2788,
                43.699220000000004
               ],
               [
                7.2788,
                43.71922
               ],
               [
                7.2588,
                43.71922
               ],
               [
                7.2588,
                43.699220000000004
               ]
              ]
             ],
             "type": "Polygon"
            },
            "id": "23",
            "properties": {},
            "type": "Feature"
           },
           {
            "bbox": [
             2.198286,
             48.832497000000004,
             2.218286,
             48.852497
            ],
            "geometry": {
             "coordinates": [
              [
               [
                2.198286,
                48.832497000000004
               ],
               [
                2.218286,
                48.832497000000004
               ],
               [
                2.218286,
                48.852497
               ],
               [
                2.198286,
                48.852497
               ],
               [
                2.198286,
                48.832497000000004
               ]
              ]
             ],
             "type": "Polygon"
            },
            "id": "24",
            "properties": {},
            "type": "Feature"
           },
           {
            "bbox": [
             6.726721,
             43.423569,
             6.746721,
             43.443569
            ],
            "geometry": {
             "coordinates": [
              [
               [
                6.726721,
                43.423569
               ],
               [
                6.746721,
                43.423569
               ],
               [
                6.746721,
                43.443569
               ],
               [
                6.726721,
                43.443569
               ],
               [
                6.726721,
                43.423569
               ]
              ]
             ],
             "type": "Polygon"
            },
            "id": "25",
            "properties": {},
            "type": "Feature"
           },
           {
            "bbox": [
             2.244521,
             50.739007,
             2.264521,
             50.759007
            ],
            "geometry": {
             "coordinates": [
              [
               [
                2.244521,
                50.739007
               ],
               [
                2.264521,
                50.739007
               ],
               [
                2.264521,
                50.759007
               ],
               [
                2.244521,
                50.759007
               ],
               [
                2.244521,
                50.739007
               ]
              ]
             ],
             "type": "Polygon"
            },
            "id": "26",
            "properties": {},
            "type": "Feature"
           },
           {
            "bbox": [
             7.088469,
             43.617369000000004,
             7.108469,
             43.637369
            ],
            "geometry": {
             "coordinates": [
              [
               [
                7.088469,
                43.617369000000004
               ],
               [
                7.108469,
                43.617369000000004
               ],
               [
                7.108469,
                43.637369
               ],
               [
                7.088469,
                43.637369
               ],
               [
                7.088469,
                43.617369000000004
               ]
              ]
             ],
             "type": "Polygon"
            },
            "id": "27",
            "properties": {},
            "type": "Feature"
           },
           {
            "bbox": [
             -1.161488,
             46.154822,
             -1.141488,
             46.174822
            ],
            "geometry": {
             "coordinates": [
              [
               [
                -1.161488,
                46.154822
               ],
               [
                -1.141488,
                46.154822
               ],
               [
                -1.141488,
                46.174822
               ],
               [
                -1.161488,
                46.174822
               ],
               [
                -1.161488,
                46.154822
               ]
              ]
             ],
             "type": "Polygon"
            },
            "id": "28",
            "properties": {},
            "type": "Feature"
           },
           {
            "bbox": [
             4.326985936365956,
             47.61578588114577,
             4.346985936365956,
             47.635785881145765
            ],
            "geometry": {
             "coordinates": [
              [
               [
                4.326985936365956,
                47.61578588114577
               ],
               [
                4.346985936365956,
                47.61578588114577
               ],
               [
                4.346985936365956,
                47.635785881145765
               ],
               [
                4.326985936365956,
                47.635785881145765
               ],
               [
                4.326985936365956,
                47.61578588114577
               ]
              ]
             ],
             "type": "Polygon"
            },
            "id": "29",
            "properties": {},
            "type": "Feature"
           },
           {
            "bbox": [
             2.351524,
             48.848257000000004,
             2.371524,
             48.868257
            ],
            "geometry": {
             "coordinates": [
              [
               [
                2.351524,
                48.848257000000004
               ],
               [
                2.371524,
                48.848257000000004
               ],
               [
                2.371524,
                48.868257
               ],
               [
                2.351524,
                48.868257
               ],
               [
                2.351524,
                48.848257000000004
               ]
              ]
             ],
             "type": "Polygon"
            },
            "id": "30",
            "properties": {},
            "type": "Feature"
           },
           {
            "bbox": [
             2.309773,
             48.830614000000004,
             2.329773,
             48.850614
            ],
            "geometry": {
             "coordinates": [
              [
               [
                2.309773,
                48.830614000000004
               ],
               [
                2.329773,
                48.830614000000004
               ],
               [
                2.329773,
                48.850614
               ],
               [
                2.309773,
                48.850614
               ],
               [
                2.309773,
                48.830614000000004
               ]
              ]
             ],
             "type": "Polygon"
            },
            "id": "31",
            "properties": {},
            "type": "Feature"
           },
           {
            "bbox": [
             4.056822,
             45.59543,
             4.076822,
             45.615429999999996
            ],
            "geometry": {
             "coordinates": [
              [
               [
                4.056822,
                45.59543
               ],
               [
                4.076822,
                45.59543
               ],
               [
                4.076822,
                45.615429999999996
               ],
               [
                4.056822,
                45.615429999999996
               ],
               [
                4.056822,
                45.59543
               ]
              ]
             ],
             "type": "Polygon"
            },
            "id": "32",
            "properties": {},
            "type": "Feature"
           },
           {
            "bbox": [
             7.74151,
             48.57097,
             7.76151,
             48.59097
            ],
            "geometry": {
             "coordinates": [
              [
               [
                7.74151,
                48.57097
               ],
               [
                7.76151,
                48.57097
               ],
               [
                7.76151,
                48.59097
               ],
               [
                7.74151,
                48.59097
               ],
               [
                7.74151,
                48.57097
               ]
              ]
             ],
             "type": "Polygon"
            },
            "id": "33",
            "properties": {},
            "type": "Feature"
           },
           {
            "bbox": [
             2.303763,
             48.85609,
             2.323763,
             48.87609
            ],
            "geometry": {
             "coordinates": [
              [
               [
                2.303763,
                48.85609
               ],
               [
                2.323763,
                48.85609
               ],
               [
                2.323763,
                48.87609
               ],
               [
                2.303763,
                48.87609
               ],
               [
                2.303763,
                48.85609
               ]
              ]
             ],
             "type": "Polygon"
            },
            "id": "34",
            "properties": {},
            "type": "Feature"
           },
           {
            "bbox": [
             -2.033727,
             48.640738,
             -2.013727,
             48.660737999999995
            ],
            "geometry": {
             "coordinates": [
              [
               [
                -2.033727,
                48.640738
               ],
               [
                -2.013727,
                48.640738
               ],
               [
                -2.013727,
                48.660737999999995
               ],
               [
                -2.033727,
                48.660737999999995
               ],
               [
                -2.033727,
                48.640738
               ]
              ]
             ],
             "type": "Polygon"
            },
            "id": "35",
            "properties": {},
            "type": "Feature"
           },
           {
            "bbox": [
             1.418998,
             43.590678000000004,
             1.438998,
             43.610678
            ],
            "geometry": {
             "coordinates": [
              [
               [
                1.418998,
                43.590678000000004
               ],
               [
                1.438998,
                43.590678000000004
               ],
               [
                1.438998,
                43.610678
               ],
               [
                1.418998,
                43.610678
               ],
               [
                1.418998,
                43.590678000000004
               ]
              ]
             ],
             "type": "Polygon"
            },
            "id": "36",
            "properties": {},
            "type": "Feature"
           },
           {
            "bbox": [
             4.030071,
             49.236527,
             4.050071,
             49.256527
            ],
            "geometry": {
             "coordinates": [
              [
               [
                4.030071,
                49.236527
               ],
               [
                4.050071,
                49.236527
               ],
               [
                4.050071,
                49.256527
               ],
               [
                4.030071,
                49.256527
               ],
               [
                4.030071,
                49.236527
               ]
              ]
             ],
             "type": "Polygon"
            },
            "id": "37",
            "properties": {},
            "type": "Feature"
           },
           {
            "bbox": [
             4.020921,
             49.243442,
             4.040921,
             49.263442
            ],
            "geometry": {
             "coordinates": [
              [
               [
                4.020921,
                49.243442
               ],
               [
                4.040921,
                49.243442
               ],
               [
                4.040921,
                49.263442
               ],
               [
                4.020921,
                49.263442
               ],
               [
                4.020921,
                49.243442
               ]
              ]
             ],
             "type": "Polygon"
            },
            "id": "38",
            "properties": {},
            "type": "Feature"
           },
           {
            "bbox": [
             7.268984299489203,
             43.691774652556006,
             7.288984299489202,
             43.711774652556
            ],
            "geometry": {
             "coordinates": [
              [
               [
                7.268984299489203,
                43.691774652556006
               ],
               [
                7.288984299489202,
                43.691774652556006
               ],
               [
                7.288984299489202,
                43.711774652556
               ],
               [
                7.268984299489203,
                43.711774652556
               ],
               [
                7.268984299489203,
                43.691774652556006
               ]
              ]
             ],
             "type": "Polygon"
            },
            "id": "39",
            "properties": {},
            "type": "Feature"
           },
           {
            "bbox": [
             -0.464107,
             46.311065,
             -0.444107,
             46.331064999999995
            ],
            "geometry": {
             "coordinates": [
              [
               [
                -0.464107,
                46.311065
               ],
               [
                -0.444107,
                46.311065
               ],
               [
                -0.444107,
                46.331064999999995
               ],
               [
                -0.464107,
                46.331064999999995
               ],
               [
                -0.464107,
                46.311065
               ]
              ]
             ],
             "type": "Polygon"
            },
            "id": "40",
            "properties": {},
            "type": "Feature"
           },
           {
            "bbox": [
             -2.035904669160417,
             48.62419813712232,
             -2.015904669160418,
             48.644198137122316
            ],
            "geometry": {
             "coordinates": [
              [
               [
                -2.035904669160417,
                48.62419813712232
               ],
               [
                -2.015904669160418,
                48.62419813712232
               ],
               [
                -2.015904669160418,
                48.644198137122316
               ],
               [
                -2.035904669160417,
                48.644198137122316
               ],
               [
                -2.035904669160417,
                48.62419813712232
               ]
              ]
             ],
             "type": "Polygon"
            },
            "id": "41",
            "properties": {},
            "type": "Feature"
           },
           {
            "bbox": [
             6.580031,
             48.005174000000004,
             6.600031,
             48.025174
            ],
            "geometry": {
             "coordinates": [
              [
               [
                6.580031,
                48.005174000000004
               ],
               [
                6.600031,
                48.005174000000004
               ],
               [
                6.600031,
                48.025174
               ],
               [
                6.580031,
                48.025174
               ],
               [
                6.580031,
                48.005174000000004
               ]
              ]
             ],
             "type": "Polygon"
            },
            "id": "42",
            "properties": {},
            "type": "Feature"
           },
           {
            "bbox": [
             2.316622,
             48.858053000000005,
             2.336622,
             48.878053
            ],
            "geometry": {
             "coordinates": [
              [
               [
                2.316622,
                48.858053000000005
               ],
               [
                2.336622,
                48.858053000000005
               ],
               [
                2.336622,
                48.878053
               ],
               [
                2.316622,
                48.878053
               ],
               [
                2.316622,
                48.858053000000005
               ]
              ]
             ],
             "type": "Polygon"
            },
            "id": "43",
            "properties": {},
            "type": "Feature"
           },
           {
            "bbox": [
             5.764717,
             46.892604,
             5.784717,
             46.912603999999995
            ],
            "geometry": {
             "coordinates": [
              [
               [
                5.764717,
                46.892604
               ],
               [
                5.784717,
                46.892604
               ],
               [
                5.784717,
                46.912603999999995
               ],
               [
                5.764717,
                46.912603999999995
               ],
               [
                5.764717,
                46.892604
               ]
              ]
             ],
             "type": "Polygon"
            },
            "id": "44",
            "properties": {},
            "type": "Feature"
           },
           {
            "bbox": [
             2.124053,
             48.794537000000005,
             2.144053,
             48.814537
            ],
            "geometry": {
             "coordinates": [
              [
               [
                2.124053,
                48.794537000000005
               ],
               [
                2.144053,
                48.794537000000005
               ],
               [
                2.144053,
                48.814537
               ],
               [
                2.124053,
                48.814537
               ],
               [
                2.124053,
                48.794537000000005
               ]
              ]
             ],
             "type": "Polygon"
            },
            "id": "45",
            "properties": {},
            "type": "Feature"
           },
           {
            "bbox": [
             5.722094,
             45.184026,
             5.742094,
             45.204026
            ],
            "geometry": {
             "coordinates": [
              [
               [
                5.722094,
                45.184026
               ],
               [
                5.742094,
                45.184026
               ],
               [
                5.742094,
                45.204026
               ],
               [
                5.722094,
                45.204026
               ],
               [
                5.722094,
                45.184026
               ]
              ]
             ],
             "type": "Polygon"
            },
            "id": "46",
            "properties": {},
            "type": "Feature"
           },
           {
            "bbox": [
             4.051950000000001,
             45.598241,
             4.07195,
             45.618241
            ],
            "geometry": {
             "coordinates": [
              [
               [
                4.051950000000001,
                45.598241
               ],
               [
                4.07195,
                45.598241
               ],
               [
                4.07195,
                45.618241
               ],
               [
                4.051950000000001,
                45.618241
               ],
               [
                4.051950000000001,
                45.598241
               ]
              ]
             ],
             "type": "Polygon"
            },
            "id": "47",
            "properties": {},
            "type": "Feature"
           },
           {
            "bbox": [
             0.220866734564192,
             49.41241758787357,
             0.240866734564192,
             49.432417587873566
            ],
            "geometry": {
             "coordinates": [
              [
               [
                0.220866734564192,
                49.41241758787357
               ],
               [
                0.240866734564192,
                49.41241758787357
               ],
               [
                0.240866734564192,
                49.432417587873566
               ],
               [
                0.220866734564192,
                49.432417587873566
               ],
               [
                0.220866734564192,
                49.41241758787357
               ]
              ]
             ],
             "type": "Polygon"
            },
            "id": "48",
            "properties": {},
            "type": "Feature"
           },
           {
            "bbox": [
             1.341385,
             44.007099000000004,
             1.361385,
             44.027099
            ],
            "geometry": {
             "coordinates": [
              [
               [
                1.341385,
                44.007099000000004
               ],
               [
                1.361385,
                44.007099000000004
               ],
               [
                1.361385,
                44.027099
               ],
               [
                1.341385,
                44.027099
               ],
               [
                1.341385,
                44.007099000000004
               ]
              ]
             ],
             "type": "Polygon"
            },
            "id": "49",
            "properties": {},
            "type": "Feature"
           },
           {
            "bbox": [
             -0.972724,
             45.924295,
             -0.952724,
             45.944295
            ],
            "geometry": {
             "coordinates": [
              [
               [
                -0.972724,
                45.924295
               ],
               [
                -0.952724,
                45.924295
               ],
               [
                -0.952724,
                45.944295
               ],
               [
                -0.972724,
                45.944295
               ],
               [
                -0.972724,
                45.924295
               ]
              ]
             ],
             "type": "Polygon"
            },
            "id": "50",
            "properties": {},
            "type": "Feature"
           },
           {
            "bbox": [
             7.640428,
             48.937444,
             7.660428,
             48.957443999999995
            ],
            "geometry": {
             "coordinates": [
              [
               [
                7.640428,
                48.937444
               ],
               [
                7.660428,
                48.937444
               ],
               [
                7.660428,
                48.957443999999995
               ],
               [
                7.640428,
                48.957443999999995
               ],
               [
                7.640428,
                48.937444
               ]
              ]
             ],
             "type": "Polygon"
            },
            "id": "51",
            "properties": {},
            "type": "Feature"
           },
           {
            "bbox": [
             5.382866,
             43.293412000000004,
             5.402866,
             43.313412
            ],
            "geometry": {
             "coordinates": [
              [
               [
                5.382866,
                43.293412000000004
               ],
               [
                5.402866,
                43.293412000000004
               ],
               [
                5.402866,
                43.313412
               ],
               [
                5.382866,
                43.313412
               ],
               [
                5.382866,
                43.293412000000004
               ]
              ]
             ],
             "type": "Polygon"
            },
            "id": "52",
            "properties": {},
            "type": "Feature"
           },
           {
            "bbox": [
             1.46687484194235,
             48.436902860976765,
             1.48687484194235,
             48.45690286097676
            ],
            "geometry": {
             "coordinates": [
              [
               [
                1.46687484194235,
                48.436902860976765
               ],
               [
                1.48687484194235,
                48.436902860976765
               ],
               [
                1.48687484194235,
                48.45690286097676
               ],
               [
                1.46687484194235,
                48.45690286097676
               ],
               [
                1.46687484194235,
                48.436902860976765
               ]
              ]
             ],
             "type": "Polygon"
            },
            "id": "53",
            "properties": {},
            "type": "Feature"
           },
           {
            "bbox": [
             7.26733,
             43.687686,
             7.28733,
             43.707685999999995
            ],
            "geometry": {
             "coordinates": [
              [
               [
                7.26733,
                43.687686
               ],
               [
                7.28733,
                43.687686
               ],
               [
                7.28733,
                43.707685999999995
               ],
               [
                7.26733,
                43.707685999999995
               ],
               [
                7.26733,
                43.687686
               ]
              ]
             ],
             "type": "Polygon"
            },
            "id": "54",
            "properties": {},
            "type": "Feature"
           },
           {
            "bbox": [
             3.106254,
             45.885037000000004,
             3.126254,
             45.905037
            ],
            "geometry": {
             "coordinates": [
              [
               [
                3.106254,
                45.885037000000004
               ],
               [
                3.126254,
                45.885037000000004
               ],
               [
                3.126254,
                45.905037
               ],
               [
                3.106254,
                45.905037
               ],
               [
                3.106254,
                45.885037000000004
               ]
              ]
             ],
             "type": "Polygon"
            },
            "id": "55",
            "properties": {},
            "type": "Feature"
           },
           {
            "bbox": [
             2.434912,
             44.922919,
             2.454912,
             44.942918999999996
            ],
            "geometry": {
             "coordinates": [
              [
               [
                2.434912,
                44.922919
               ],
               [
                2.454912,
                44.922919
               ],
               [
                2.454912,
                44.942918999999996
               ],
               [
                2.434912,
                44.942918999999996
               ],
               [
                2.434912,
                44.922919
               ]
              ]
             ],
             "type": "Polygon"
            },
            "id": "56",
            "properties": {},
            "type": "Feature"
           },
           {
            "bbox": [
             6.790857556367603,
             47.499529802783826,
             6.810857556367602,
             47.51952980278382
            ],
            "geometry": {
             "coordinates": [
              [
               [
                6.790857556367603,
                47.499529802783826
               ],
               [
                6.810857556367602,
                47.499529802783826
               ],
               [
                6.810857556367602,
                47.51952980278382
               ],
               [
                6.790857556367603,
                47.51952980278382
               ],
               [
                6.790857556367603,
                47.499529802783826
               ]
              ]
             ],
             "type": "Polygon"
            },
            "id": "57",
            "properties": {},
            "type": "Feature"
           },
           {
            "bbox": [
             2.386195,
             47.075951,
             2.406195,
             47.095951
            ],
            "geometry": {
             "coordinates": [
              [
               [
                2.386195,
                47.075951
               ],
               [
                2.406195,
                47.075951
               ],
               [
                2.406195,
                47.095951
               ],
               [
                2.386195,
                47.095951
               ],
               [
                2.386195,
                47.075951
               ]
              ]
             ],
             "type": "Polygon"
            },
            "id": "58",
            "properties": {},
            "type": "Feature"
           },
           {
            "bbox": [
             -0.587869,
             44.828651,
             -0.567869,
             44.848651
            ],
            "geometry": {
             "coordinates": [
              [
               [
                -0.587869,
                44.828651
               ],
               [
                -0.567869,
                44.828651
               ],
               [
                -0.567869,
                44.848651
               ],
               [
                -0.587869,
                44.848651
               ],
               [
                -0.587869,
                44.828651
               ]
              ]
             ],
             "type": "Polygon"
            },
            "id": "59",
            "properties": {},
            "type": "Feature"
           },
           {
            "bbox": [
             2.230474,
             43.597135,
             2.250474,
             43.617135
            ],
            "geometry": {
             "coordinates": [
              [
               [
                2.230474,
                43.597135
               ],
               [
                2.250474,
                43.597135
               ],
               [
                2.250474,
                43.617135
               ],
               [
                2.230474,
                43.617135
               ],
               [
                2.230474,
                43.597135
               ]
              ]
             ],
             "type": "Polygon"
            },
            "id": "60",
            "properties": {},
            "type": "Feature"
           },
           {
            "bbox": [
             0.67388,
             47.384637000000005,
             0.69388,
             47.404637
            ],
            "geometry": {
             "coordinates": [
              [
               [
                0.67388,
                47.384637000000005
               ],
               [
                0.69388,
                47.384637000000005
               ],
               [
                0.69388,
                47.404637
               ],
               [
                0.67388,
                47.404637
               ],
               [
                0.67388,
                47.384637000000005
               ]
              ]
             ],
             "type": "Polygon"
            },
            "id": "61",
            "properties": {},
            "type": "Feature"
           },
           {
            "bbox": [
             3.078299,
             45.764138,
             3.098299,
             45.784138
            ],
            "geometry": {
             "coordinates": [
              [
               [
                3.078299,
                45.764138
               ],
               [
                3.098299,
                45.764138
               ],
               [
                3.098299,
                45.784138
               ],
               [
                3.078299,
                45.784138
               ],
               [
                3.078299,
                45.764138
               ]
              ]
             ],
             "type": "Polygon"
            },
            "id": "62",
            "properties": {},
            "type": "Feature"
           },
           {
            "bbox": [
             7.726231,
             48.569654,
             7.746231,
             48.589653999999996
            ],
            "geometry": {
             "coordinates": [
              [
               [
                7.726231,
                48.569654
               ],
               [
                7.746231,
                48.569654
               ],
               [
                7.746231,
                48.589653999999996
               ],
               [
                7.726231,
                48.589653999999996
               ],
               [
                7.726231,
                48.569654
               ]
              ]
             ],
             "type": "Polygon"
            },
            "id": "63",
            "properties": {},
            "type": "Feature"
           },
           {
            "bbox": [
             3.219635,
             50.163470000000004,
             3.239635,
             50.18347
            ],
            "geometry": {
             "coordinates": [
              [
               [
                3.219635,
                50.163470000000004
               ],
               [
                3.239635,
                50.163470000000004
               ],
               [
                3.239635,
                50.18347
               ],
               [
                3.219635,
                50.18347
               ],
               [
                3.219635,
                50.163470000000004
               ]
              ]
             ],
             "type": "Polygon"
            },
            "id": "64",
            "properties": {},
            "type": "Feature"
           },
           {
            "bbox": [
             5.374175,
             43.248599,
             5.394175,
             43.268598999999995
            ],
            "geometry": {
             "coordinates": [
              [
               [
                5.374175,
                43.248599
               ],
               [
                5.394175,
                43.248599
               ],
               [
                5.394175,
                43.268598999999995
               ],
               [
                5.374175,
                43.268598999999995
               ],
               [
                5.374175,
                43.248599
               ]
              ]
             ],
             "type": "Polygon"
            },
            "id": "65",
            "properties": {},
            "type": "Feature"
           },
           {
            "bbox": [
             1.435904,
             43.590562,
             1.455904,
             43.610561999999994
            ],
            "geometry": {
             "coordinates": [
              [
               [
                1.435904,
                43.590562
               ],
               [
                1.455904,
                43.590562
               ],
               [
                1.455904,
                43.610561999999994
               ],
               [
                1.435904,
                43.610561999999994
               ],
               [
                1.435904,
                43.590562
               ]
              ]
             ],
             "type": "Polygon"
            },
            "id": "66",
            "properties": {},
            "type": "Feature"
           },
           {
            "bbox": [
             2.504901835766843,
             48.783109378143095,
             2.524901835766842,
             48.80310937814309
            ],
            "geometry": {
             "coordinates": [
              [
               [
                2.504901835766843,
                48.783109378143095
               ],
               [
                2.524901835766842,
                48.783109378143095
               ],
               [
                2.524901835766842,
                48.80310937814309
               ],
               [
                2.504901835766843,
                48.80310937814309
               ],
               [
                2.504901835766843,
                48.783109378143095
               ]
              ]
             ],
             "type": "Polygon"
            },
            "id": "67",
            "properties": {},
            "type": "Feature"
           },
           {
            "bbox": [
             4.070736,
             48.289643000000005,
             4.090736,
             48.309643
            ],
            "geometry": {
             "coordinates": [
              [
               [
                4.070736,
                48.289643000000005
               ],
               [
                4.090736,
                48.289643000000005
               ],
               [
                4.090736,
                48.309643
               ],
               [
                4.070736,
                48.309643
               ],
               [
                4.070736,
                48.289643000000005
               ]
              ]
             ],
             "type": "Polygon"
            },
            "id": "68",
            "properties": {},
            "type": "Feature"
           },
           {
            "bbox": [
             7.754645,
             48.572707,
             7.774645,
             48.592707
            ],
            "geometry": {
             "coordinates": [
              [
               [
                7.754645,
                48.572707
               ],
               [
                7.774645,
                48.572707
               ],
               [
                7.774645,
                48.592707
               ],
               [
                7.754645,
                48.592707
               ],
               [
                7.754645,
                48.572707
               ]
              ]
             ],
             "type": "Polygon"
            },
            "id": "69",
            "properties": {},
            "type": "Feature"
           },
           {
            "bbox": [
             5.086576,
             43.630227000000005,
             5.106576,
             43.650227
            ],
            "geometry": {
             "coordinates": [
              [
               [
                5.086576,
                43.630227000000005
               ],
               [
                5.106576,
                43.630227000000005
               ],
               [
                5.106576,
                43.650227
               ],
               [
                5.086576,
                43.650227
               ],
               [
                5.086576,
                43.630227000000005
               ]
              ]
             ],
             "type": "Polygon"
            },
            "id": "70",
            "properties": {},
            "type": "Feature"
           },
           {
            "bbox": [
             5.906266,
             45.553911,
             5.926266,
             45.573910999999995
            ],
            "geometry": {
             "coordinates": [
              [
               [
                5.906266,
                45.553911
               ],
               [
                5.926266,
                45.553911
               ],
               [
                5.926266,
                45.573910999999995
               ],
               [
                5.906266,
                45.573910999999995
               ],
               [
                5.906266,
                45.553911
               ]
              ]
             ],
             "type": "Polygon"
            },
            "id": "71",
            "properties": {},
            "type": "Feature"
           },
           {
            "bbox": [
             7.34872,
             48.063594,
             7.36872,
             48.083594
            ],
            "geometry": {
             "coordinates": [
              [
               [
                7.34872,
                48.063594
               ],
               [
                7.36872,
                48.063594
               ],
               [
                7.36872,
                48.083594
               ],
               [
                7.34872,
                48.083594
               ],
               [
                7.34872,
                48.063594
               ]
              ]
             ],
             "type": "Polygon"
            },
            "id": "72",
            "properties": {},
            "type": "Feature"
           },
           {
            "bbox": [
             0.150838,
             45.637813,
             0.170838,
             45.657813
            ],
            "geometry": {
             "coordinates": [
              [
               [
                0.150838,
                45.637813
               ],
               [
                0.170838,
                45.637813
               ],
               [
                0.170838,
                45.657813
               ],
               [
                0.150838,
                45.657813
               ],
               [
                0.150838,
                45.637813
               ]
              ]
             ],
             "type": "Polygon"
            },
            "id": "73",
            "properties": {},
            "type": "Feature"
           },
           {
            "bbox": [
             2.816358,
             49.407761,
             2.836358,
             49.427761
            ],
            "geometry": {
             "coordinates": [
              [
               [
                2.816358,
                49.407761
               ],
               [
                2.836358,
                49.407761
               ],
               [
                2.836358,
                49.427761
               ],
               [
                2.816358,
                49.427761
               ],
               [
                2.816358,
                49.407761
               ]
              ]
             ],
             "type": "Polygon"
            },
            "id": "74",
            "properties": {},
            "type": "Feature"
           },
           {
            "bbox": [
             5.028776000000001,
             43.827324000000004,
             5.048776,
             43.847324
            ],
            "geometry": {
             "coordinates": [
              [
               [
                5.028776000000001,
                43.827324000000004
               ],
               [
                5.048776,
                43.827324000000004
               ],
               [
                5.048776,
                43.847324
               ],
               [
                5.028776000000001,
                43.847324
               ],
               [
                5.028776000000001,
                43.827324000000004
               ]
              ]
             ],
             "type": "Polygon"
            },
            "id": "75",
            "properties": {},
            "type": "Feature"
           },
           {
            "bbox": [
             2.362174,
             51.027914,
             2.382174,
             51.047914
            ],
            "geometry": {
             "coordinates": [
              [
               [
                2.362174,
                51.027914
               ],
               [
                2.382174,
                51.027914
               ],
               [
                2.382174,
                51.047914
               ],
               [
                2.362174,
                51.047914
               ],
               [
                2.362174,
                51.027914
               ]
              ]
             ],
             "type": "Polygon"
            },
            "id": "76",
            "properties": {},
            "type": "Feature"
           },
           {
            "bbox": [
             4.060265,
             44.120014000000005,
             4.080265,
             44.140014
            ],
            "geometry": {
             "coordinates": [
              [
               [
                4.060265,
                44.120014000000005
               ],
               [
                4.080265,
                44.120014000000005
               ],
               [
                4.080265,
                44.140014
               ],
               [
                4.060265,
                44.140014
               ],
               [
                4.060265,
                44.120014000000005
               ]
              ]
             ],
             "type": "Polygon"
            },
            "id": "77",
            "properties": {},
            "type": "Feature"
           },
           {
            "bbox": [
             0.971446,
             47.400737,
             0.991446,
             47.420736999999995
            ],
            "geometry": {
             "coordinates": [
              [
               [
                0.971446,
                47.400737
               ],
               [
                0.991446,
                47.400737
               ],
               [
                0.991446,
                47.420736999999995
               ],
               [
                0.971446,
                47.420736999999995
               ],
               [
                0.971446,
                47.400737
               ]
              ]
             ],
             "type": "Polygon"
            },
            "id": "78",
            "properties": {},
            "type": "Feature"
           },
           {
            "bbox": [
             2.356232,
             48.844808,
             2.376232,
             48.864808
            ],
            "geometry": {
             "coordinates": [
              [
               [
                2.356232,
                48.844808
               ],
               [
                2.376232,
                48.844808
               ],
               [
                2.376232,
                48.864808
               ],
               [
                2.356232,
                48.864808
               ],
               [
                2.356232,
                48.844808
               ]
              ]
             ],
             "type": "Polygon"
            },
            "id": "79",
            "properties": {},
            "type": "Feature"
           },
           {
            "bbox": [
             7.285058,
             47.739441,
             7.305058,
             47.759440999999995
            ],
            "geometry": {
             "coordinates": [
              [
               [
                7.285058,
                47.739441
               ],
               [
                7.305058,
                47.739441
               ],
               [
                7.305058,
                47.759440999999995
               ],
               [
                7.285058,
                47.759440999999995
               ],
               [
                7.285058,
                47.739441
               ]
              ]
             ],
             "type": "Polygon"
            },
            "id": "80",
            "properties": {},
            "type": "Feature"
           },
           {
            "bbox": [
             2.323278,
             48.870899,
             2.343278,
             48.890899
            ],
            "geometry": {
             "coordinates": [
              [
               [
                2.323278,
                48.870899
               ],
               [
                2.343278,
                48.870899
               ],
               [
                2.343278,
                48.890899
               ],
               [
                2.323278,
                48.890899
               ],
               [
                2.323278,
                48.870899
               ]
              ]
             ],
             "type": "Polygon"
            },
            "id": "81",
            "properties": {},
            "type": "Feature"
           },
           {
            "bbox": [
             2.352856,
             48.846990000000005,
             2.372856,
             48.86699
            ],
            "geometry": {
             "coordinates": [
              [
               [
                2.352856,
                48.846990000000005
               ],
               [
                2.372856,
                48.846990000000005
               ],
               [
                2.372856,
                48.86699
               ],
               [
                2.352856,
                48.86699
               ],
               [
                2.352856,
                48.846990000000005
               ]
              ]
             ],
             "type": "Polygon"
            },
            "id": "82",
            "properties": {},
            "type": "Feature"
           },
           {
            "bbox": [
             7.251441,
             48.129072,
             7.271440999999999,
             48.149072
            ],
            "geometry": {
             "coordinates": [
              [
               [
                7.251441,
                48.129072
               ],
               [
                7.271440999999999,
                48.129072
               ],
               [
                7.271440999999999,
                48.149072
               ],
               [
                7.251441,
                48.149072
               ],
               [
                7.251441,
                48.129072
               ]
              ]
             ],
             "type": "Polygon"
            },
            "id": "83",
            "properties": {},
            "type": "Feature"
           },
           {
            "bbox": [
             1.438945,
             43.584189,
             1.458945,
             43.604189
            ],
            "geometry": {
             "coordinates": [
              [
               [
                1.438945,
                43.584189
               ],
               [
                1.458945,
                43.584189
               ],
               [
                1.458945,
                43.604189
               ],
               [
                1.438945,
                43.604189
               ],
               [
                1.438945,
                43.584189
               ]
              ]
             ],
             "type": "Polygon"
            },
            "id": "84",
            "properties": {},
            "type": "Feature"
           },
           {
            "bbox": [
             1.89861,
             47.891573,
             1.91861,
             47.911573
            ],
            "geometry": {
             "coordinates": [
              [
               [
                1.89861,
                47.891573
               ],
               [
                1.91861,
                47.891573
               ],
               [
                1.91861,
                47.911573
               ],
               [
                1.89861,
                47.911573
               ],
               [
                1.89861,
                47.891573
               ]
              ]
             ],
             "type": "Polygon"
            },
            "id": "85",
            "properties": {},
            "type": "Feature"
           },
           {
            "bbox": [
             -61.545944999999996,
             16.226415999999997,
             -61.525945,
             16.246416
            ],
            "geometry": {
             "coordinates": [
              [
               [
                -61.545944999999996,
                16.226415999999997
               ],
               [
                -61.525945,
                16.226415999999997
               ],
               [
                -61.525945,
                16.246416
               ],
               [
                -61.545944999999996,
                16.246416
               ],
               [
                -61.545944999999996,
                16.226415999999997
               ]
              ]
             ],
             "type": "Polygon"
            },
            "id": "86",
            "properties": {},
            "type": "Feature"
           },
           {
            "bbox": [
             4.793388,
             43.936985,
             4.813388,
             43.956984999999996
            ],
            "geometry": {
             "coordinates": [
              [
               [
                4.793388,
                43.936985
               ],
               [
                4.813388,
                43.936985
               ],
               [
                4.813388,
                43.956984999999996
               ],
               [
                4.793388,
                43.956984999999996
               ],
               [
                4.793388,
                43.936985
               ]
              ]
             ],
             "type": "Polygon"
            },
            "id": "87",
            "properties": {},
            "type": "Feature"
           },
           {
            "bbox": [
             2.1589,
             48.863334,
             2.1789,
             48.883334
            ],
            "geometry": {
             "coordinates": [
              [
               [
                2.1589,
                48.863334
               ],
               [
                2.1789,
                48.863334
               ],
               [
                2.1789,
                48.883334
               ],
               [
                2.1589,
                48.883334
               ],
               [
                2.1589,
                48.863334
               ]
              ]
             ],
             "type": "Polygon"
            },
            "id": "88",
            "properties": {},
            "type": "Feature"
           },
           {
            "bbox": [
             7.239470499489079,
             43.68467562501604,
             7.259470499489079,
             43.70467562501604
            ],
            "geometry": {
             "coordinates": [
              [
               [
                7.239470499489079,
                43.68467562501604
               ],
               [
                7.259470499489079,
                43.68467562501604
               ],
               [
                7.259470499489079,
                43.70467562501604
               ],
               [
                7.239470499489079,
                43.70467562501604
               ],
               [
                7.239470499489079,
                43.68467562501604
               ]
              ]
             ],
             "type": "Polygon"
            },
            "id": "89",
            "properties": {},
            "type": "Feature"
           },
           {
            "bbox": [
             2.989742,
             49.571852,
             3.009742,
             49.591851999999996
            ],
            "geometry": {
             "coordinates": [
              [
               [
                2.989742,
                49.571852
               ],
               [
                3.009742,
                49.571852
               ],
               [
                3.009742,
                49.591851999999996
               ],
               [
                2.989742,
                49.591851999999996
               ],
               [
                2.989742,
                49.571852
               ]
              ]
             ],
             "type": "Polygon"
            },
            "id": "90",
            "properties": {},
            "type": "Feature"
           },
           {
            "bbox": [
             1.4484,
             43.580964,
             1.4684,
             43.600964
            ],
            "geometry": {
             "coordinates": [
              [
               [
                1.4484,
                43.580964
               ],
               [
                1.4684,
                43.580964
               ],
               [
                1.4684,
                43.600964
               ],
               [
                1.4484,
                43.600964
               ],
               [
                1.4484,
                43.580964
               ]
              ]
             ],
             "type": "Polygon"
            },
            "id": "91",
            "properties": {},
            "type": "Feature"
           },
           {
            "bbox": [
             7.498676000000001,
             43.764945000000004,
             7.518676,
             43.784945
            ],
            "geometry": {
             "coordinates": [
              [
               [
                7.498676000000001,
                43.764945000000004
               ],
               [
                7.518676,
                43.764945000000004
               ],
               [
                7.518676,
                43.784945
               ],
               [
                7.498676000000001,
                43.784945
               ],
               [
                7.498676000000001,
                43.764945000000004
               ]
              ]
             ],
             "type": "Polygon"
            },
            "id": "92",
            "properties": {},
            "type": "Feature"
           },
           {
            "bbox": [
             -2.767726,
             47.646705000000004,
             -2.747726,
             47.666705
            ],
            "geometry": {
             "coordinates": [
              [
               [
                -2.767726,
                47.646705000000004
               ],
               [
                -2.747726,
                47.646705000000004
               ],
               [
                -2.747726,
                47.666705
               ],
               [
                -2.767726,
                47.666705
               ],
               [
                -2.767726,
                47.646705000000004
               ]
              ]
             ],
             "type": "Polygon"
            },
            "id": "93",
            "properties": {},
            "type": "Feature"
           },
           {
            "bbox": [
             1.508517,
             46.57847,
             1.528517,
             46.59847
            ],
            "geometry": {
             "coordinates": [
              [
               [
                1.508517,
                46.57847
               ],
               [
                1.528517,
                46.57847
               ],
               [
                1.528517,
                46.59847
               ],
               [
                1.508517,
                46.59847
               ],
               [
                1.508517,
                46.57847
               ]
              ]
             ],
             "type": "Polygon"
            },
            "id": "94",
            "properties": {},
            "type": "Feature"
           },
           {
            "bbox": [
             7.781481,
             48.802831000000005,
             7.801481,
             48.822831
            ],
            "geometry": {
             "coordinates": [
              [
               [
                7.781481,
                48.802831000000005
               ],
               [
                7.801481,
                48.802831000000005
               ],
               [
                7.801481,
                48.822831
               ],
               [
                7.781481,
                48.822831
               ],
               [
                7.781481,
                48.802831000000005
               ]
              ]
             ],
             "type": "Polygon"
            },
            "id": "95",
            "properties": {},
            "type": "Feature"
           },
           {
            "bbox": [
             2.686858,
             48.392815,
             2.706858,
             48.412814999999995
            ],
            "geometry": {
             "coordinates": [
              [
               [
                2.686858,
                48.392815
               ],
               [
                2.706858,
                48.392815
               ],
               [
                2.706858,
                48.412814999999995
               ],
               [
                2.686858,
                48.412814999999995
               ],
               [
                2.686858,
                48.392815
               ]
              ]
             ],
             "type": "Polygon"
            },
            "id": "96",
            "properties": {},
            "type": "Feature"
           },
           {
            "bbox": [
             3.466702,
             43.288047,
             3.486702,
             43.308046999999995
            ],
            "geometry": {
             "coordinates": [
              [
               [
                3.466702,
                43.288047
               ],
               [
                3.486702,
                43.288047
               ],
               [
                3.486702,
                43.308046999999995
               ],
               [
                3.466702,
                43.308046999999995
               ],
               [
                3.466702,
                43.288047
               ]
              ]
             ],
             "type": "Polygon"
            },
            "id": "97",
            "properties": {},
            "type": "Feature"
           },
           {
            "bbox": [
             2.349933,
             48.832168,
             2.369933,
             48.852168
            ],
            "geometry": {
             "coordinates": [
              [
               [
                2.349933,
                48.832168
               ],
               [
                2.369933,
                48.832168
               ],
               [
                2.369933,
                48.852168
               ],
               [
                2.349933,
                48.852168
               ],
               [
                2.349933,
                48.832168
               ]
              ]
             ],
             "type": "Polygon"
            },
            "id": "98",
            "properties": {},
            "type": "Feature"
           },
           {
            "bbox": [
             -0.565485,
             47.459659,
             -0.545485,
             47.479659
            ],
            "geometry": {
             "coordinates": [
              [
               [
                -0.565485,
                47.459659
               ],
               [
                -0.545485,
                47.459659
               ],
               [
                -0.545485,
                47.479659
               ],
               [
                -0.565485,
                47.479659
               ],
               [
                -0.565485,
                47.459659
               ]
              ]
             ],
             "type": "Polygon"
            },
            "id": "99",
            "properties": {},
            "type": "Feature"
           },
           {
            "bbox": [
             2.323457,
             48.832793,
             2.343457,
             48.852793
            ],
            "geometry": {
             "coordinates": [
              [
               [
                2.323457,
                48.832793
               ],
               [
                2.343457,
                48.832793
               ],
               [
                2.343457,
                48.852793
               ],
               [
                2.323457,
                48.852793
               ],
               [
                2.323457,
                48.832793
               ]
              ]
             ],
             "type": "Polygon"
            },
            "id": "100",
            "properties": {},
            "type": "Feature"
           },
           {
            "bbox": [
             2.566408,
             44.339201,
             2.586408,
             44.359201
            ],
            "geometry": {
             "coordinates": [
              [
               [
                2.566408,
                44.339201
               ],
               [
                2.586408,
                44.339201
               ],
               [
                2.586408,
                44.359201
               ],
               [
                2.566408,
                44.359201
               ],
               [
                2.566408,
                44.339201
               ]
              ]
             ],
             "type": "Polygon"
            },
            "id": "101",
            "properties": {},
            "type": "Feature"
           },
           {
            "bbox": [
             2.515362870676448,
             48.7974834934562,
             2.535362870676448,
             48.817483493456194
            ],
            "geometry": {
             "coordinates": [
              [
               [
                2.515362870676448,
                48.7974834934562
               ],
               [
                2.535362870676448,
                48.7974834934562
               ],
               [
                2.535362870676448,
                48.817483493456194
               ],
               [
                2.515362870676448,
                48.817483493456194
               ],
               [
                2.515362870676448,
                48.7974834934562
               ]
              ]
             ],
             "type": "Polygon"
            },
            "id": "102",
            "properties": {},
            "type": "Feature"
           },
           {
            "bbox": [
             3.097319,
             42.509619,
             3.117319,
             42.529619
            ],
            "geometry": {
             "coordinates": [
              [
               [
                3.097319,
                42.509619
               ],
               [
                3.117319,
                42.509619
               ],
               [
                3.117319,
                42.529619
               ],
               [
                3.097319,
                42.529619
               ],
               [
                3.097319,
                42.509619
               ]
              ]
             ],
             "type": "Polygon"
            },
            "id": "103",
            "properties": {},
            "type": "Feature"
           },
           {
            "bbox": [
             4.109117,
             46.440396,
             4.129117,
             46.460395999999996
            ],
            "geometry": {
             "coordinates": [
              [
               [
                4.109117,
                46.440396
               ],
               [
                4.129117,
                46.440396
               ],
               [
                4.129117,
                46.460395999999996
               ],
               [
                4.109117,
                46.460395999999996
               ],
               [
                4.109117,
                46.440396
               ]
              ]
             ],
             "type": "Polygon"
            },
            "id": "104",
            "properties": {},
            "type": "Feature"
           },
           {
            "bbox": [
             3.058387,
             50.611132000000005,
             3.078387,
             50.631132
            ],
            "geometry": {
             "coordinates": [
              [
               [
                3.058387,
                50.611132000000005
               ],
               [
                3.078387,
                50.611132000000005
               ],
               [
                3.078387,
                50.631132
               ],
               [
                3.058387,
                50.631132
               ],
               [
                3.058387,
                50.611132000000005
               ]
              ]
             ],
             "type": "Polygon"
            },
            "id": "105",
            "properties": {},
            "type": "Feature"
           },
           {
            "bbox": [
             7.745028,
             48.575747,
             7.765028,
             48.595746999999996
            ],
            "geometry": {
             "coordinates": [
              [
               [
                7.745028,
                48.575747
               ],
               [
                7.765028,
                48.575747
               ],
               [
                7.765028,
                48.595746999999996
               ],
               [
                7.745028,
                48.595746999999996
               ],
               [
                7.745028,
                48.575747
               ]
              ]
             ],
             "type": "Polygon"
            },
            "id": "106",
            "properties": {},
            "type": "Feature"
           },
           {
            "bbox": [
             -61.078675,
             14.59331,
             -61.058675,
             14.61331
            ],
            "geometry": {
             "coordinates": [
              [
               [
                -61.078675,
                14.59331
               ],
               [
                -61.058675,
                14.59331
               ],
               [
                -61.058675,
                14.61331
               ],
               [
                -61.078675,
                14.61331
               ],
               [
                -61.078675,
                14.59331
               ]
              ]
             ],
             "type": "Polygon"
            },
            "id": "107",
            "properties": {},
            "type": "Feature"
           },
           {
            "bbox": [
             3.870183,
             43.601112,
             3.890183,
             43.621112
            ],
            "geometry": {
             "coordinates": [
              [
               [
                3.870183,
                43.601112
               ],
               [
                3.890183,
                43.601112
               ],
               [
                3.890183,
                43.621112
               ],
               [
                3.870183,
                43.621112
               ],
               [
                3.870183,
                43.601112
               ]
              ]
             ],
             "type": "Polygon"
            },
            "id": "108",
            "properties": {},
            "type": "Feature"
           },
           {
            "bbox": [
             6.012938,
             47.230055,
             6.032938,
             47.250054999999996
            ],
            "geometry": {
             "coordinates": [
              [
               [
                6.012938,
                47.230055
               ],
               [
                6.032938,
                47.230055
               ],
               [
                6.032938,
                47.250054999999996
               ],
               [
                6.012938,
                47.250054999999996
               ],
               [
                6.012938,
                47.230055
               ]
              ]
             ],
             "type": "Polygon"
            },
            "id": "109",
            "properties": {},
            "type": "Feature"
           },
           {
            "bbox": [
             4.825797000000001,
             45.737037,
             4.845797,
             45.757037
            ],
            "geometry": {
             "coordinates": [
              [
               [
                4.825797000000001,
                45.737037
               ],
               [
                4.845797,
                45.737037
               ],
               [
                4.845797,
                45.757037
               ],
               [
                4.825797000000001,
                45.757037
               ],
               [
                4.825797000000001,
                45.737037
               ]
              ]
             ],
             "type": "Polygon"
            },
            "id": "110",
            "properties": {},
            "type": "Feature"
           },
           {
            "bbox": [
             2.247985000866964,
             48.888177159871574,
             2.267985000866963,
             48.90817715987157
            ],
            "geometry": {
             "coordinates": [
              [
               [
                2.247985000866964,
                48.888177159871574
               ],
               [
                2.267985000866963,
                48.888177159871574
               ],
               [
                2.267985000866963,
                48.90817715987157
               ],
               [
                2.247985000866964,
                48.90817715987157
               ],
               [
                2.247985000866964,
                48.888177159871574
               ]
              ]
             ],
             "type": "Polygon"
            },
            "id": "111",
            "properties": {},
            "type": "Feature"
           },
           {
            "bbox": [
             1.436935,
             43.586898000000005,
             1.456935,
             43.606898
            ],
            "geometry": {
             "coordinates": [
              [
               [
                1.436935,
                43.586898000000005
               ],
               [
                1.456935,
                43.586898000000005
               ],
               [
                1.456935,
                43.606898
               ],
               [
                1.436935,
                43.606898
               ],
               [
                1.436935,
                43.586898000000005
               ]
              ]
             ],
             "type": "Polygon"
            },
            "id": "112",
            "properties": {},
            "type": "Feature"
           },
           {
            "bbox": [
             2.077541,
             48.882495,
             2.097541,
             48.902494999999995
            ],
            "geometry": {
             "coordinates": [
              [
               [
                2.077541,
                48.882495
               ],
               [
                2.097541,
                48.882495
               ],
               [
                2.097541,
                48.902494999999995
               ],
               [
                2.077541,
                48.902494999999995
               ],
               [
                2.077541,
                48.882495
               ]
              ]
             ],
             "type": "Polygon"
            },
            "id": "113",
            "properties": {},
            "type": "Feature"
           },
           {
            "bbox": [
             4.843082,
             46.77105,
             4.863082,
             46.79105
            ],
            "geometry": {
             "coordinates": [
              [
               [
                4.843082,
                46.77105
               ],
               [
                4.863082,
                46.77105
               ],
               [
                4.863082,
                46.79105
               ],
               [
                4.843082,
                46.79105
               ],
               [
                4.843082,
                46.77105
               ]
              ]
             ],
             "type": "Polygon"
            },
            "id": "114",
            "properties": {},
            "type": "Feature"
           },
           {
            "bbox": [
             7.345464,
             48.069918,
             7.365463999999999,
             48.089918
            ],
            "geometry": {
             "coordinates": [
              [
               [
                7.345464,
                48.069918
               ],
               [
                7.365463999999999,
                48.069918
               ],
               [
                7.365463999999999,
                48.089918
               ],
               [
                7.345464,
                48.089918
               ],
               [
                7.345464,
                48.069918
               ]
              ]
             ],
             "type": "Polygon"
            },
            "id": "115",
            "properties": {},
            "type": "Feature"
           },
           {
            "bbox": [
             2.313672,
             48.849157000000005,
             2.333672,
             48.869157
            ],
            "geometry": {
             "coordinates": [
              [
               [
                2.313672,
                48.849157000000005
               ],
               [
                2.333672,
                48.849157000000005
               ],
               [
                2.333672,
                48.869157
               ],
               [
                2.313672,
                48.869157
               ],
               [
                2.313672,
                48.849157000000005
               ]
              ]
             ],
             "type": "Polygon"
            },
            "id": "116",
            "properties": {},
            "type": "Feature"
           },
           {
            "bbox": [
             5.716944536301466,
             45.185187535305104,
             5.736944536301466,
             45.2051875353051
            ],
            "geometry": {
             "coordinates": [
              [
               [
                5.716944536301466,
                45.185187535305104
               ],
               [
                5.736944536301466,
                45.185187535305104
               ],
               [
                5.736944536301466,
                45.2051875353051
               ],
               [
                5.716944536301466,
                45.2051875353051
               ],
               [
                5.716944536301466,
                45.185187535305104
               ]
              ]
             ],
             "type": "Polygon"
            },
            "id": "117",
            "properties": {},
            "type": "Feature"
           },
           {
            "bbox": [
             1.895193,
             47.890952,
             1.915193,
             47.910951999999995
            ],
            "geometry": {
             "coordinates": [
              [
               [
                1.895193,
                47.890952
               ],
               [
                1.915193,
                47.890952
               ],
               [
                1.915193,
                47.910951999999995
               ],
               [
                1.895193,
                47.910951999999995
               ],
               [
                1.895193,
                47.890952
               ]
              ]
             ],
             "type": "Polygon"
            },
            "id": "118",
            "properties": {},
            "type": "Feature"
           },
           {
            "bbox": [
             2.324383,
             48.867878000000005,
             2.344383,
             48.887878
            ],
            "geometry": {
             "coordinates": [
              [
               [
                2.324383,
                48.867878000000005
               ],
               [
                2.344383,
                48.867878000000005
               ],
               [
                2.344383,
                48.887878
               ],
               [
                2.324383,
                48.887878
               ],
               [
                2.324383,
                48.867878000000005
               ]
              ]
             ],
             "type": "Polygon"
            },
            "id": "119",
            "properties": {},
            "type": "Feature"
           },
           {
            "bbox": [
             -1.160024,
             46.149482,
             -1.140024,
             46.169481999999995
            ],
            "geometry": {
             "coordinates": [
              [
               [
                -1.160024,
                46.149482
               ],
               [
                -1.140024,
                46.149482
               ],
               [
                -1.140024,
                46.169481999999995
               ],
               [
                -1.160024,
                46.169481999999995
               ],
               [
                -1.160024,
                46.149482
               ]
              ]
             ],
             "type": "Polygon"
            },
            "id": "120",
            "properties": {},
            "type": "Feature"
           },
           {
            "bbox": [
             5.905578,
             45.682157000000004,
             5.925578,
             45.702157
            ],
            "geometry": {
             "coordinates": [
              [
               [
                5.905578,
                45.682157000000004
               ],
               [
                5.925578,
                45.682157000000004
               ],
               [
                5.925578,
                45.702157
               ],
               [
                5.905578,
                45.702157
               ],
               [
                5.905578,
                45.682157000000004
               ]
              ]
             ],
             "type": "Polygon"
            },
            "id": "121",
            "properties": {},
            "type": "Feature"
           },
           {
            "bbox": [
             -52.344359,
             4.928177,
             -52.324359,
             4.948176999999999
            ],
            "geometry": {
             "coordinates": [
              [
               [
                -52.344359,
                4.928177
               ],
               [
                -52.324359,
                4.928177
               ],
               [
                -52.324359,
                4.948176999999999
               ],
               [
                -52.344359,
                4.948176999999999
               ],
               [
                -52.344359,
                4.928177
               ]
              ]
             ],
             "type": "Polygon"
            },
            "id": "122",
            "properties": {},
            "type": "Feature"
           },
           {
            "bbox": [
             -1.483823,
             43.481093,
             -1.463823,
             43.501093
            ],
            "geometry": {
             "coordinates": [
              [
               [
                -1.483823,
                43.481093
               ],
               [
                -1.463823,
                43.481093
               ],
               [
                -1.463823,
                43.501093
               ],
               [
                -1.483823,
                43.501093
               ],
               [
                -1.483823,
                43.481093
               ]
              ]
             ],
             "type": "Polygon"
            },
            "id": "123",
            "properties": {},
            "type": "Feature"
           },
           {
            "bbox": [
             3.325798,
             46.550973,
             3.345798,
             46.570972999999995
            ],
            "geometry": {
             "coordinates": [
              [
               [
                3.325798,
                46.550973
               ],
               [
                3.345798,
                46.550973
               ],
               [
                3.345798,
                46.570972999999995
               ],
               [
                3.325798,
                46.570972999999995
               ],
               [
                3.325798,
                46.550973
               ]
              ]
             ],
             "type": "Polygon"
            },
            "id": "124",
            "properties": {},
            "type": "Feature"
           },
           {
            "bbox": [
             0.193755,
             48.00112,
             0.213755,
             48.021119999999996
            ],
            "geometry": {
             "coordinates": [
              [
               [
                0.193755,
                48.00112
               ],
               [
                0.213755,
                48.00112
               ],
               [
                0.213755,
                48.021119999999996
               ],
               [
                0.193755,
                48.021119999999996
               ],
               [
                0.193755,
                48.00112
               ]
              ]
             ],
             "type": "Polygon"
            },
            "id": "125",
            "properties": {},
            "type": "Feature"
           },
           {
            "bbox": [
             -2.253127,
             46.989718,
             -2.233127,
             47.009718
            ],
            "geometry": {
             "coordinates": [
              [
               [
                -2.253127,
                46.989718
               ],
               [
                -2.233127,
                46.989718
               ],
               [
                -2.233127,
                47.009718
               ],
               [
                -2.253127,
                47.009718
               ],
               [
                -2.253127,
                46.989718
               ]
              ]
             ],
             "type": "Polygon"
            },
            "id": "126",
            "properties": {},
            "type": "Feature"
           },
           {
            "bbox": [
             55.440251,
             -20.893698,
             55.460251,
             -20.873697999999997
            ],
            "geometry": {
             "coordinates": [
              [
               [
                55.440251,
                -20.893698
               ],
               [
                55.460251,
                -20.893698
               ],
               [
                55.460251,
                -20.873697999999997
               ],
               [
                55.440251,
                -20.873697999999997
               ],
               [
                55.440251,
                -20.893698
               ]
              ]
             ],
             "type": "Polygon"
            },
            "id": "127",
            "properties": {},
            "type": "Feature"
           },
           {
            "bbox": [
             -1.684922,
             48.095455,
             -1.664922,
             48.115455
            ],
            "geometry": {
             "coordinates": [
              [
               [
                -1.684922,
                48.095455
               ],
               [
                -1.664922,
                48.095455
               ],
               [
                -1.664922,
                48.115455
               ],
               [
                -1.684922,
                48.115455
               ],
               [
                -1.684922,
                48.095455
               ]
              ]
             ],
             "type": "Polygon"
            },
            "id": "128",
            "properties": {},
            "type": "Feature"
           },
           {
            "bbox": [
             2.302194,
             48.869693000000005,
             2.322194,
             48.889693
            ],
            "geometry": {
             "coordinates": [
              [
               [
                2.302194,
                48.869693000000005
               ],
               [
                2.322194,
                48.869693000000005
               ],
               [
                2.322194,
                48.889693
               ],
               [
                2.302194,
                48.889693
               ],
               [
                2.302194,
                48.869693000000005
               ]
              ]
             ],
             "type": "Polygon"
            },
            "id": "129",
            "properties": {},
            "type": "Feature"
           },
           {
            "bbox": [
             3.06827,
             45.783027000000004,
             3.08827,
             45.803027
            ],
            "geometry": {
             "coordinates": [
              [
               [
                3.06827,
                45.783027000000004
               ],
               [
                3.08827,
                45.783027000000004
               ],
               [
                3.08827,
                45.803027
               ],
               [
                3.06827,
                45.803027
               ],
               [
                3.06827,
                45.783027000000004
               ]
              ]
             ],
             "type": "Polygon"
            },
            "id": "130",
            "properties": {},
            "type": "Feature"
           },
           {
            "bbox": [
             -0.371223819411571,
             49.17615122825814,
             -0.351223819411571,
             49.19615122825814
            ],
            "geometry": {
             "coordinates": [
              [
               [
                -0.371223819411571,
                49.17615122825814
               ],
               [
                -0.351223819411571,
                49.17615122825814
               ],
               [
                -0.351223819411571,
                49.19615122825814
               ],
               [
                -0.371223819411571,
                49.19615122825814
               ],
               [
                -0.371223819411571,
                49.17615122825814
               ]
              ]
             ],
             "type": "Polygon"
            },
            "id": "131",
            "properties": {},
            "type": "Feature"
           },
           {
            "bbox": [
             2.286254288013502,
             49.88079127287645,
             2.306254288013501,
             49.90079127287645
            ],
            "geometry": {
             "coordinates": [
              [
               [
                2.286254288013502,
                49.88079127287645
               ],
               [
                2.306254288013501,
                49.88079127287645
               ],
               [
                2.306254288013501,
                49.90079127287645
               ],
               [
                2.286254288013502,
                49.90079127287645
               ],
               [
                2.286254288013502,
                49.88079127287645
               ]
              ]
             ],
             "type": "Polygon"
            },
            "id": "132",
            "properties": {},
            "type": "Feature"
           },
           {
            "bbox": [
             4.824752,
             45.754219,
             4.844752,
             45.774218999999995
            ],
            "geometry": {
             "coordinates": [
              [
               [
                4.824752,
                45.754219
               ],
               [
                4.844752,
                45.754219
               ],
               [
                4.844752,
                45.774218999999995
               ],
               [
                4.824752,
                45.774218999999995
               ],
               [
                4.824752,
                45.754219
               ]
              ]
             ],
             "type": "Polygon"
            },
            "id": "133",
            "properties": {},
            "type": "Feature"
           },
           {
            "bbox": [
             4.821633,
             45.743117000000005,
             4.841633,
             45.763117
            ],
            "geometry": {
             "coordinates": [
              [
               [
                4.821633,
                45.743117000000005
               ],
               [
                4.841633,
                45.743117000000005
               ],
               [
                4.841633,
                45.763117
               ],
               [
                4.821633,
                45.763117
               ],
               [
                4.821633,
                45.743117000000005
               ]
              ]
             ],
             "type": "Polygon"
            },
            "id": "134",
            "properties": {},
            "type": "Feature"
           },
           {
            "bbox": [
             7.221462,
             43.67784,
             7.241461999999999,
             43.69784
            ],
            "geometry": {
             "coordinates": [
              [
               [
                7.221462,
                43.67784
               ],
               [
                7.241461999999999,
                43.67784
               ],
               [
                7.241461999999999,
                43.69784
               ],
               [
                7.221462,
                43.69784
               ],
               [
                7.221462,
                43.67784
               ]
              ]
             ],
             "type": "Polygon"
            },
            "id": "135",
            "properties": {},
            "type": "Feature"
           },
           {
            "bbox": [
             5.763686,
             46.892412,
             5.783685999999999,
             46.912411999999996
            ],
            "geometry": {
             "coordinates": [
              [
               [
                5.763686,
                46.892412
               ],
               [
                5.783685999999999,
                46.892412
               ],
               [
                5.783685999999999,
                46.912411999999996
               ],
               [
                5.763686,
                46.912411999999996
               ],
               [
                5.763686,
                46.892412
               ]
              ]
             ],
             "type": "Polygon"
            },
            "id": "136",
            "properties": {},
            "type": "Feature"
           },
           {
            "bbox": [
             2.9219,
             49.920030000000004,
             2.9419,
             49.94003
            ],
            "geometry": {
             "coordinates": [
              [
               [
                2.9219,
                49.920030000000004
               ],
               [
                2.9419,
                49.920030000000004
               ],
               [
                2.9419,
                49.94003
               ],
               [
                2.9219,
                49.94003
               ],
               [
                2.9219,
                49.920030000000004
               ]
              ]
             ],
             "type": "Polygon"
            },
            "id": "137",
            "properties": {},
            "type": "Feature"
           },
           {
            "bbox": [
             -0.643096,
             45.735991,
             -0.623096,
             45.755990999999995
            ],
            "geometry": {
             "coordinates": [
              [
               [
                -0.643096,
                45.735991
               ],
               [
                -0.623096,
                45.735991
               ],
               [
                -0.623096,
                45.755990999999995
               ],
               [
                -0.643096,
                45.755990999999995
               ],
               [
                -0.643096,
                45.735991
               ]
              ]
             ],
             "type": "Polygon"
            },
            "id": "138",
            "properties": {},
            "type": "Feature"
           },
           {
            "bbox": [
             2.890461442325304,
             42.687731358540546,
             2.910461442325304,
             42.70773135854054
            ],
            "geometry": {
             "coordinates": [
              [
               [
                2.890461442325304,
                42.687731358540546
               ],
               [
                2.910461442325304,
                42.687731358540546
               ],
               [
                2.910461442325304,
                42.70773135854054
               ],
               [
                2.890461442325304,
                42.70773135854054
               ],
               [
                2.890461442325304,
                42.687731358540546
               ]
              ]
             ],
             "type": "Polygon"
            },
            "id": "139",
            "properties": {},
            "type": "Feature"
           },
           {
            "bbox": [
             -1.557096,
             47.209276,
             -1.537096,
             47.229276
            ],
            "geometry": {
             "coordinates": [
              [
               [
                -1.557096,
                47.209276
               ],
               [
                -1.537096,
                47.209276
               ],
               [
                -1.537096,
                47.229276
               ],
               [
                -1.557096,
                47.229276
               ],
               [
                -1.557096,
                47.209276
               ]
              ]
             ],
             "type": "Polygon"
            },
            "id": "140",
            "properties": {},
            "type": "Feature"
           },
           {
            "bbox": [
             2.314768,
             48.850294000000005,
             2.334768,
             48.870294
            ],
            "geometry": {
             "coordinates": [
              [
               [
                2.314768,
                48.850294000000005
               ],
               [
                2.334768,
                48.850294000000005
               ],
               [
                2.334768,
                48.870294
               ],
               [
                2.314768,
                48.870294
               ],
               [
                2.314768,
                48.850294000000005
               ]
              ]
             ],
             "type": "Polygon"
            },
            "id": "141",
            "properties": {},
            "type": "Feature"
           },
           {
            "bbox": [
             2.688781,
             48.396893,
             2.708781,
             48.416892999999995
            ],
            "geometry": {
             "coordinates": [
              [
               [
                2.688781,
                48.396893
               ],
               [
                2.708781,
                48.396893
               ],
               [
                2.708781,
                48.416892999999995
               ],
               [
                2.688781,
                48.416892999999995
               ],
               [
                2.688781,
                48.396893
               ]
              ]
             ],
             "type": "Polygon"
            },
            "id": "142",
            "properties": {},
            "type": "Feature"
           },
           {
            "bbox": [
             0.71395,
             45.176039,
             0.73395,
             45.196039
            ],
            "geometry": {
             "coordinates": [
              [
               [
                0.71395,
                45.176039
               ],
               [
                0.73395,
                45.176039
               ],
               [
                0.73395,
                45.196039
               ],
               [
                0.71395,
                45.196039
               ],
               [
                0.71395,
                45.176039
               ]
              ]
             ],
             "type": "Polygon"
            },
            "id": "143",
            "properties": {},
            "type": "Feature"
           },
           {
            "bbox": [
             4.34616,
             43.827904000000004,
             4.36616,
             43.847904
            ],
            "geometry": {
             "coordinates": [
              [
               [
                4.34616,
                43.827904000000004
               ],
               [
                4.36616,
                43.827904000000004
               ],
               [
                4.36616,
                43.847904
               ],
               [
                4.34616,
                43.847904
               ],
               [
                4.34616,
                43.827904000000004
               ]
              ]
             ],
             "type": "Polygon"
            },
            "id": "144",
            "properties": {},
            "type": "Feature"
           },
           {
            "bbox": [
             6.451588,
             43.526558,
             6.471588,
             43.546558
            ],
            "geometry": {
             "coordinates": [
              [
               [
                6.451588,
                43.526558
               ],
               [
                6.471588,
                43.526558
               ],
               [
                6.471588,
                43.546558
               ],
               [
                6.451588,
                43.546558
               ],
               [
                6.451588,
                43.526558
               ]
              ]
             ],
             "type": "Polygon"
            },
            "id": "145",
            "properties": {},
            "type": "Feature"
           },
           {
            "bbox": [
             5.015636000000001,
             47.312357,
             5.035636,
             47.332356999999995
            ],
            "geometry": {
             "coordinates": [
              [
               [
                5.015636000000001,
                47.312357
               ],
               [
                5.035636,
                47.312357
               ],
               [
                5.035636,
                47.332356999999995
               ],
               [
                5.015636000000001,
                47.332356999999995
               ],
               [
                5.015636000000001,
                47.312357
               ]
              ]
             ],
             "type": "Polygon"
            },
            "id": "146",
            "properties": {},
            "type": "Feature"
           },
           {
            "bbox": [
             2.330577,
             48.877709,
             2.350577,
             48.897709
            ],
            "geometry": {
             "coordinates": [
              [
               [
                2.330577,
                48.877709
               ],
               [
                2.350577,
                48.877709
               ],
               [
                2.350577,
                48.897709
               ],
               [
                2.330577,
                48.897709
               ],
               [
                2.330577,
                48.877709
               ]
              ]
             ],
             "type": "Polygon"
            },
            "id": "147",
            "properties": {},
            "type": "Feature"
           },
           {
            "bbox": [
             2.388383,
             47.074683,
             2.408383,
             47.094682999999996
            ],
            "geometry": {
             "coordinates": [
              [
               [
                2.388383,
                47.074683
               ],
               [
                2.408383,
                47.074683
               ],
               [
                2.408383,
                47.094682999999996
               ],
               [
                2.388383,
                47.094682999999996
               ],
               [
                2.388383,
                47.074683
               ]
              ]
             ],
             "type": "Polygon"
            },
            "id": "148",
            "properties": {},
            "type": "Feature"
           },
           {
            "bbox": [
             -61.54672708139108,
             16.228507302787936,
             -61.52672708139109,
             16.24850730278794
            ],
            "geometry": {
             "coordinates": [
              [
               [
                -61.54672708139108,
                16.228507302787936
               ],
               [
                -61.52672708139109,
                16.228507302787936
               ],
               [
                -61.52672708139109,
                16.24850730278794
               ],
               [
                -61.54672708139108,
                16.24850730278794
               ],
               [
                -61.54672708139108,
                16.228507302787936
               ]
              ]
             ],
             "type": "Polygon"
            },
            "id": "149",
            "properties": {},
            "type": "Feature"
           },
           {
            "bbox": [
             -1.640729,
             49.6329,
             -1.620729,
             49.652899999999995
            ],
            "geometry": {
             "coordinates": [
              [
               [
                -1.640729,
                49.6329
               ],
               [
                -1.620729,
                49.6329
               ],
               [
                -1.620729,
                49.652899999999995
               ],
               [
                -1.640729,
                49.652899999999995
               ],
               [
                -1.640729,
                49.6329
               ]
              ]
             ],
             "type": "Polygon"
            },
            "id": "150",
            "properties": {},
            "type": "Feature"
           },
           {
            "bbox": [
             6.453862,
             43.528282000000004,
             6.473862,
             43.548282
            ],
            "geometry": {
             "coordinates": [
              [
               [
                6.453862,
                43.528282000000004
               ],
               [
                6.473862,
                43.528282000000004
               ],
               [
                6.473862,
                43.548282
               ],
               [
                6.453862,
                43.548282
               ],
               [
                6.453862,
                43.528282000000004
               ]
              ]
             ],
             "type": "Polygon"
            },
            "id": "151",
            "properties": {},
            "type": "Feature"
           },
           {
            "bbox": [
             2.312709,
             48.837429,
             2.332709,
             48.857428999999996
            ],
            "geometry": {
             "coordinates": [
              [
               [
                2.312709,
                48.837429
               ],
               [
                2.332709,
                48.837429
               ],
               [
                2.332709,
                48.857428999999996
               ],
               [
                2.312709,
                48.857428999999996
               ],
               [
                2.312709,
                48.837429
               ]
              ]
             ],
             "type": "Polygon"
            },
            "id": "152",
            "properties": {},
            "type": "Feature"
           },
           {
            "bbox": [
             -1.084964,
             49.104654000000004,
             -1.064964,
             49.124654
            ],
            "geometry": {
             "coordinates": [
              [
               [
                -1.084964,
                49.104654000000004
               ],
               [
                -1.064964,
                49.104654000000004
               ],
               [
                -1.064964,
                49.124654
               ],
               [
                -1.084964,
                49.124654
               ],
               [
                -1.084964,
                49.104654000000004
               ]
              ]
             ],
             "type": "Polygon"
            },
            "id": "153",
            "properties": {},
            "type": "Feature"
           },
           {
            "bbox": [
             2.342176,
             48.833955,
             2.362176,
             48.853955
            ],
            "geometry": {
             "coordinates": [
              [
               [
                2.342176,
                48.833955
               ],
               [
                2.362176,
                48.833955
               ],
               [
                2.362176,
                48.853955
               ],
               [
                2.342176,
                48.853955
               ],
               [
                2.342176,
                48.833955
               ]
              ]
             ],
             "type": "Polygon"
            },
            "id": "154",
            "properties": {},
            "type": "Feature"
           },
           {
            "bbox": [
             4.823576,
             45.757177,
             4.843576,
             45.777176999999995
            ],
            "geometry": {
             "coordinates": [
              [
               [
                4.823576,
                45.757177
               ],
               [
                4.843576,
                45.757177
               ],
               [
                4.843576,
                45.777176999999995
               ],
               [
                4.823576,
                45.777176999999995
               ],
               [
                4.823576,
                45.757177
               ]
              ]
             ],
             "type": "Polygon"
            },
            "id": "155",
            "properties": {},
            "type": "Feature"
           },
           {
            "bbox": [
             0.710943,
             45.173285,
             0.730943,
             45.193284999999996
            ],
            "geometry": {
             "coordinates": [
              [
               [
                0.710943,
                45.173285
               ],
               [
                0.730943,
                45.173285
               ],
               [
                0.730943,
                45.193284999999996
               ],
               [
                0.710943,
                45.193284999999996
               ],
               [
                0.710943,
                45.173285
               ]
              ]
             ],
             "type": "Polygon"
            },
            "id": "156",
            "properties": {},
            "type": "Feature"
           },
           {
            "bbox": [
             -1.559389,
             47.206353,
             -1.539389,
             47.226352999999996
            ],
            "geometry": {
             "coordinates": [
              [
               [
                -1.559389,
                47.206353
               ],
               [
                -1.539389,
                47.206353
               ],
               [
                -1.539389,
                47.226352999999996
               ],
               [
                -1.559389,
                47.226352999999996
               ],
               [
                -1.559389,
                47.206353
               ]
              ]
             ],
             "type": "Polygon"
            },
            "id": "157",
            "properties": {},
            "type": "Feature"
           },
           {
            "bbox": [
             2.625235,
             48.524859,
             2.645235,
             48.544858999999995
            ],
            "geometry": {
             "coordinates": [
              [
               [
                2.625235,
                48.524859
               ],
               [
                2.645235,
                48.524859
               ],
               [
                2.645235,
                48.544858999999995
               ],
               [
                2.625235,
                48.544858999999995
               ],
               [
                2.625235,
                48.524859
               ]
              ]
             ],
             "type": "Polygon"
            },
            "id": "158",
            "properties": {},
            "type": "Feature"
           },
           {
            "bbox": [
             0.104474,
             49.478805,
             0.124474,
             49.498805
            ],
            "geometry": {
             "coordinates": [
              [
               [
                0.104474,
                49.478805
               ],
               [
                0.124474,
                49.478805
               ],
               [
                0.124474,
                49.498805
               ],
               [
                0.104474,
                49.498805
               ],
               [
                0.104474,
                49.478805
               ]
              ]
             ],
             "type": "Polygon"
            },
            "id": "159",
            "properties": {},
            "type": "Feature"
           },
           {
            "bbox": [
             3.458587,
             43.301837,
             3.478587,
             43.321836999999995
            ],
            "geometry": {
             "coordinates": [
              [
               [
                3.458587,
                43.301837
               ],
               [
                3.478587,
                43.301837
               ],
               [
                3.478587,
                43.321836999999995
               ],
               [
                3.458587,
                43.321836999999995
               ],
               [
                3.458587,
                43.301837
               ]
              ]
             ],
             "type": "Polygon"
            },
            "id": "160",
            "properties": {},
            "type": "Feature"
           },
           {
            "bbox": [
             1.321665,
             47.575598,
             1.341665,
             47.595597999999995
            ],
            "geometry": {
             "coordinates": [
              [
               [
                1.321665,
                47.575598
               ],
               [
                1.341665,
                47.575598
               ],
               [
                1.341665,
                47.595597999999995
               ],
               [
                1.321665,
                47.595597999999995
               ],
               [
                1.321665,
                47.575598
               ]
              ]
             ],
             "type": "Polygon"
            },
            "id": "161",
            "properties": {},
            "type": "Feature"
           },
           {
            "bbox": [
             0.141222680492968,
             45.64559977477438,
             0.161222680492968,
             45.66559977477438
            ],
            "geometry": {
             "coordinates": [
              [
               [
                0.141222680492968,
                45.64559977477438
               ],
               [
                0.161222680492968,
                45.64559977477438
               ],
               [
                0.161222680492968,
                45.66559977477438
               ],
               [
                0.141222680492968,
                45.66559977477438
               ],
               [
                0.141222680492968,
                45.64559977477438
               ]
              ]
             ],
             "type": "Polygon"
            },
            "id": "162",
            "properties": {},
            "type": "Feature"
           },
           {
            "bbox": [
             6.0168,
             47.225978000000005,
             6.0368,
             47.245978
            ],
            "geometry": {
             "coordinates": [
              [
               [
                6.0168,
                47.225978000000005
               ],
               [
                6.0368,
                47.225978000000005
               ],
               [
                6.0368,
                47.245978
               ],
               [
                6.0168,
                47.245978
               ],
               [
                6.0168,
                47.225978000000005
               ]
              ]
             ],
             "type": "Polygon"
            },
            "id": "163",
            "properties": {},
            "type": "Feature"
           },
           {
            "bbox": [
             3.869151,
             43.599524,
             3.889151,
             43.619524
            ],
            "geometry": {
             "coordinates": [
              [
               [
                3.869151,
                43.599524
               ],
               [
                3.889151,
                43.599524
               ],
               [
                3.889151,
                43.619524
               ],
               [
                3.869151,
                43.619524
               ],
               [
                3.869151,
                43.599524
               ]
              ]
             ],
             "type": "Polygon"
            },
            "id": "164",
            "properties": {},
            "type": "Feature"
           },
           {
            "bbox": [
             3.079905,
             42.514426,
             3.099905,
             42.534425999999996
            ],
            "geometry": {
             "coordinates": [
              [
               [
                3.079905,
                42.514426
               ],
               [
                3.099905,
                42.514426
               ],
               [
                3.099905,
                42.534425999999996
               ],
               [
                3.079905,
                42.534425999999996
               ],
               [
                3.079905,
                42.514426
               ]
              ]
             ],
             "type": "Polygon"
            },
            "id": "165",
            "properties": {},
            "type": "Feature"
           },
           {
            "bbox": [
             2.575103,
             49.197022000000004,
             2.595103,
             49.217022
            ],
            "geometry": {
             "coordinates": [
              [
               [
                2.575103,
                49.197022000000004
               ],
               [
                2.595103,
                49.197022000000004
               ],
               [
                2.595103,
                49.217022
               ],
               [
                2.575103,
                49.217022
               ],
               [
                2.575103,
                49.197022000000004
               ]
              ]
             ],
             "type": "Polygon"
            },
            "id": "166",
            "properties": {},
            "type": "Feature"
           },
           {
            "bbox": [
             7.740544327135451,
             48.5712366410149,
             7.760544327135451,
             48.591236641014895
            ],
            "geometry": {
             "coordinates": [
              [
               [
                7.740544327135451,
                48.5712366410149
               ],
               [
                7.760544327135451,
                48.5712366410149
               ],
               [
                7.760544327135451,
                48.591236641014895
               ],
               [
                7.740544327135451,
                48.591236641014895
               ],
               [
                7.740544327135451,
                48.5712366410149
               ]
              ]
             ],
             "type": "Polygon"
            },
            "id": "167",
            "properties": {},
            "type": "Feature"
           },
           {
            "bbox": [
             3.085067,
             45.024016,
             3.105067,
             45.044016
            ],
            "geometry": {
             "coordinates": [
              [
               [
                3.085067,
                45.024016
               ],
               [
                3.105067,
                45.024016
               ],
               [
                3.105067,
                45.044016
               ],
               [
                3.085067,
                45.044016
               ],
               [
                3.085067,
                45.024016
               ]
              ]
             ],
             "type": "Polygon"
            },
            "id": "168",
            "properties": {},
            "type": "Feature"
           },
           {
            "bbox": [
             4.827574,
             47.013618,
             4.847574,
             47.033618
            ],
            "geometry": {
             "coordinates": [
              [
               [
                4.827574,
                47.013618
               ],
               [
                4.847574,
                47.013618
               ],
               [
                4.847574,
                47.033618
               ],
               [
                4.827574,
                47.033618
               ],
               [
                4.827574,
                47.013618
               ]
              ]
             ],
             "type": "Polygon"
            },
            "id": "169",
            "properties": {},
            "type": "Feature"
           },
           {
            "bbox": [
             6.025236608719433,
             47.219338476615754,
             6.045236608719432,
             47.23933847661575
            ],
            "geometry": {
             "coordinates": [
              [
               [
                6.025236608719433,
                47.219338476615754
               ],
               [
                6.045236608719432,
                47.219338476615754
               ],
               [
                6.045236608719432,
                47.23933847661575
               ],
               [
                6.025236608719433,
                47.23933847661575
               ],
               [
                6.025236608719433,
                47.219338476615754
               ]
              ]
             ],
             "type": "Polygon"
            },
            "id": "170",
            "properties": {},
            "type": "Feature"
           },
           {
            "bbox": [
             4.030351,
             49.233111,
             4.050351,
             49.253111
            ],
            "geometry": {
             "coordinates": [
              [
               [
                4.030351,
                49.233111
               ],
               [
                4.050351,
                49.233111
               ],
               [
                4.050351,
                49.253111
               ],
               [
                4.030351,
                49.253111
               ],
               [
                4.030351,
                49.233111
               ]
              ]
             ],
             "type": "Polygon"
            },
            "id": "171",
            "properties": {},
            "type": "Feature"
           },
           {
            "bbox": [
             4.113021,
             46.441822,
             4.133020999999999,
             46.461822
            ],
            "geometry": {
             "coordinates": [
              [
               [
                4.113021,
                46.441822
               ],
               [
                4.133020999999999,
                46.441822
               ],
               [
                4.133020999999999,
                46.461822
               ],
               [
                4.113021,
                46.461822
               ],
               [
                4.113021,
                46.441822
               ]
              ]
             ],
             "type": "Polygon"
            },
            "id": "172",
            "properties": {},
            "type": "Feature"
           },
           {
            "bbox": [
             7.300303,
             47.72132,
             7.320303,
             47.741319999999995
            ],
            "geometry": {
             "coordinates": [
              [
               [
                7.300303,
                47.72132
               ],
               [
                7.320303,
                47.72132
               ],
               [
                7.320303,
                47.741319999999995
               ],
               [
                7.300303,
                47.741319999999995
               ],
               [
                7.300303,
                47.72132
               ]
              ]
             ],
             "type": "Polygon"
            },
            "id": "173",
            "properties": {},
            "type": "Feature"
           },
           {
            "bbox": [
             8.725937,
             41.91499,
             8.745937,
             41.93499
            ],
            "geometry": {
             "coordinates": [
              [
               [
                8.725937,
                41.91499
               ],
               [
                8.745937,
                41.91499
               ],
               [
                8.745937,
                41.93499
               ],
               [
                8.725937,
                41.93499
               ],
               [
                8.725937,
                41.91499
               ]
              ]
             ],
             "type": "Polygon"
            },
            "id": "174",
            "properties": {},
            "type": "Feature"
           },
           {
            "bbox": [
             4.352815,
             43.827616,
             4.372815,
             43.847615999999995
            ],
            "geometry": {
             "coordinates": [
              [
               [
                4.352815,
                43.827616
               ],
               [
                4.372815,
                43.827616
               ],
               [
                4.372815,
                43.847615999999995
               ],
               [
                4.352815,
                43.847615999999995
               ],
               [
                4.352815,
                43.827616
               ]
              ]
             ],
             "type": "Polygon"
            },
            "id": "175",
            "properties": {},
            "type": "Feature"
           },
           {
            "bbox": [
             0.349509,
             46.565749000000004,
             0.369509,
             46.585749
            ],
            "geometry": {
             "coordinates": [
              [
               [
                0.349509,
                46.565749000000004
               ],
               [
                0.369509,
                46.565749000000004
               ],
               [
                0.369509,
                46.585749
               ],
               [
                0.349509,
                46.585749
               ],
               [
                0.349509,
                46.565749000000004
               ]
              ]
             ],
             "type": "Polygon"
            },
            "id": "176",
            "properties": {},
            "type": "Feature"
           },
           {
            "bbox": [
             -61.059824,
             14.614376,
             -61.039824,
             14.634376
            ],
            "geometry": {
             "coordinates": [
              [
               [
                -61.059824,
                14.614376
               ],
               [
                -61.039824,
                14.614376
               ],
               [
                -61.039824,
                14.634376
               ],
               [
                -61.059824,
                14.634376
               ],
               [
                -61.059824,
                14.614376
               ]
              ]
             ],
             "type": "Polygon"
            },
            "id": "177",
            "properties": {},
            "type": "Feature"
           },
           {
            "bbox": [
             0.143699,
             43.055612,
             0.163699,
             43.075612
            ],
            "geometry": {
             "coordinates": [
              [
               [
                0.143699,
                43.055612
               ],
               [
                0.163699,
                43.055612
               ],
               [
                0.163699,
                43.075612
               ],
               [
                0.143699,
                43.075612
               ],
               [
                0.143699,
                43.055612
               ]
              ]
             ],
             "type": "Polygon"
            },
            "id": "178",
            "properties": {},
            "type": "Feature"
           },
           {
            "bbox": [
             2.882984,
             42.688013000000005,
             2.902984,
             42.708013
            ],
            "geometry": {
             "coordinates": [
              [
               [
                2.882984,
                42.688013000000005
               ],
               [
                2.902984,
                42.688013000000005
               ],
               [
                2.902984,
                42.708013
               ],
               [
                2.882984,
                42.708013
               ],
               [
                2.882984,
                42.688013000000005
               ]
              ]
             ],
             "type": "Polygon"
            },
            "id": "179",
            "properties": {},
            "type": "Feature"
           },
           {
            "bbox": [
             -4.112602,
             47.985125000000004,
             -4.092602,
             48.005125
            ],
            "geometry": {
             "coordinates": [
              [
               [
                -4.112602,
                47.985125000000004
               ],
               [
                -4.092602,
                47.985125000000004
               ],
               [
                -4.092602,
                48.005125
               ],
               [
                -4.112602,
                48.005125
               ],
               [
                -4.112602,
                47.985125000000004
               ]
              ]
             ],
             "type": "Polygon"
            },
            "id": "180",
            "properties": {},
            "type": "Feature"
           },
           {
            "bbox": [
             2.270805,
             48.845398,
             2.290805,
             48.865398
            ],
            "geometry": {
             "coordinates": [
              [
               [
                2.270805,
                48.845398
               ],
               [
                2.290805,
                48.845398
               ],
               [
                2.290805,
                48.865398
               ],
               [
                2.270805,
                48.865398
               ],
               [
                2.270805,
                48.845398
               ]
              ]
             ],
             "type": "Polygon"
            },
            "id": "181",
            "properties": {},
            "type": "Feature"
           },
           {
            "bbox": [
             1.071736,
             49.435232,
             1.091736,
             49.455231999999995
            ],
            "geometry": {
             "coordinates": [
              [
               [
                1.071736,
                49.435232
               ],
               [
                1.091736,
                49.435232
               ],
               [
                1.091736,
                49.455231999999995
               ],
               [
                1.071736,
                49.455231999999995
               ],
               [
                1.071736,
                49.435232
               ]
              ]
             ],
             "type": "Polygon"
            },
            "id": "182",
            "properties": {},
            "type": "Feature"
           },
           {
            "bbox": [
             2.575615,
             49.19653,
             2.595615,
             49.21653
            ],
            "geometry": {
             "coordinates": [
              [
               [
                2.575615,
                49.19653
               ],
               [
                2.595615,
                49.19653
               ],
               [
                2.595615,
                49.21653
               ],
               [
                2.575615,
                49.21653
               ],
               [
                2.575615,
                49.19653
               ]
              ]
             ],
             "type": "Polygon"
            },
            "id": "183",
            "properties": {},
            "type": "Feature"
           },
           {
            "bbox": [
             2.117681,
             48.784403000000005,
             2.137681,
             48.804403
            ],
            "geometry": {
             "coordinates": [
              [
               [
                2.117681,
                48.784403000000005
               ],
               [
                2.137681,
                48.784403000000005
               ],
               [
                2.137681,
                48.804403
               ],
               [
                2.117681,
                48.804403
               ],
               [
                2.117681,
                48.784403000000005
               ]
              ]
             ],
             "type": "Polygon"
            },
            "id": "184",
            "properties": {},
            "type": "Feature"
           },
           {
            "bbox": [
             -1.612814,
             48.827248000000004,
             -1.592814,
             48.847248
            ],
            "geometry": {
             "coordinates": [
              [
               [
                -1.612814,
                48.827248000000004
               ],
               [
                -1.592814,
                48.827248000000004
               ],
               [
                -1.592814,
                48.847248
               ],
               [
                -1.612814,
                48.847248
               ],
               [
                -1.612814,
                48.827248000000004
               ]
              ]
             ],
             "type": "Polygon"
            },
            "id": "185",
            "properties": {},
            "type": "Feature"
           },
           {
            "bbox": [
             -0.644076,
             45.733294,
             -0.624076,
             45.753294
            ],
            "geometry": {
             "coordinates": [
              [
               [
                -0.644076,
                45.733294
               ],
               [
                -0.624076,
                45.733294
               ],
               [
                -0.624076,
                45.753294
               ],
               [
                -0.644076,
                45.753294
               ],
               [
                -0.644076,
                45.733294
               ]
              ]
             ],
             "type": "Polygon"
            },
            "id": "186",
            "properties": {},
            "type": "Feature"
           },
           {
            "bbox": [
             4.710613,
             49.766034000000005,
             4.730613,
             49.786034
            ],
            "geometry": {
             "coordinates": [
              [
               [
                4.710613,
                49.766034000000005
               ],
               [
                4.730613,
                49.766034000000005
               ],
               [
                4.730613,
                49.786034
               ],
               [
                4.710613,
                49.786034
               ],
               [
                4.710613,
                49.766034000000005
               ]
              ]
             ],
             "type": "Polygon"
            },
            "id": "187",
            "properties": {},
            "type": "Feature"
           },
           {
            "bbox": [
             1.891945,
             43.884286,
             1.911945,
             43.904286
            ],
            "geometry": {
             "coordinates": [
              [
               [
                1.891945,
                43.884286
               ],
               [
                1.911945,
                43.884286
               ],
               [
                1.911945,
                43.904286
               ],
               [
                1.891945,
                43.904286
               ],
               [
                1.891945,
                43.884286
               ]
              ]
             ],
             "type": "Polygon"
            },
            "id": "188",
            "properties": {},
            "type": "Feature"
           },
           {
            "bbox": [
             5.357908,
             43.28647,
             5.377908,
             43.30647
            ],
            "geometry": {
             "coordinates": [
              [
               [
                5.357908,
                43.28647
               ],
               [
                5.377908,
                43.28647
               ],
               [
                5.377908,
                43.30647
               ],
               [
                5.357908,
                43.30647
               ],
               [
                5.357908,
                43.28647
               ]
              ]
             ],
             "type": "Polygon"
            },
            "id": "189",
            "properties": {},
            "type": "Feature"
           },
           {
            "bbox": [
             2.328699,
             48.847003,
             2.348699,
             48.867003
            ],
            "geometry": {
             "coordinates": [
              [
               [
                2.328699,
                48.847003
               ],
               [
                2.348699,
                48.847003
               ],
               [
                2.348699,
                48.867003
               ],
               [
                2.328699,
                48.867003
               ],
               [
                2.328699,
                48.847003
               ]
              ]
             ],
             "type": "Polygon"
            },
            "id": "190",
            "properties": {},
            "type": "Feature"
           },
           {
            "bbox": [
             3.056546,
             50.616639,
             3.076546,
             50.636638999999995
            ],
            "geometry": {
             "coordinates": [
              [
               [
                3.056546,
                50.616639
               ],
               [
                3.076546,
                50.616639
               ],
               [
                3.076546,
                50.636638999999995
               ],
               [
                3.056546,
                50.636638999999995
               ],
               [
                3.056546,
                50.616639
               ]
              ]
             ],
             "type": "Polygon"
            },
            "id": "191",
            "properties": {},
            "type": "Feature"
           },
           {
            "bbox": [
             1.083846,
             49.435543,
             1.103846,
             49.455543
            ],
            "geometry": {
             "coordinates": [
              [
               [
                1.083846,
                49.435543
               ],
               [
                1.103846,
                49.435543
               ],
               [
                1.103846,
                49.455543
               ],
               [
                1.083846,
                49.455543
               ],
               [
                1.083846,
                49.435543
               ]
              ]
             ],
             "type": "Polygon"
            },
            "id": "192",
            "properties": {},
            "type": "Feature"
           },
           {
            "bbox": [
             2.333088,
             48.864991,
             2.353088,
             48.884991
            ],
            "geometry": {
             "coordinates": [
              [
               [
                2.333088,
                48.864991
               ],
               [
                2.353088,
                48.864991
               ],
               [
                2.353088,
                48.884991
               ],
               [
                2.333088,
                48.884991
               ],
               [
                2.333088,
                48.864991
               ]
              ]
             ],
             "type": "Polygon"
            },
            "id": "193",
            "properties": {},
            "type": "Feature"
           },
           {
            "bbox": [
             2.342223540635518,
             48.85080432275963,
             2.362223540635517,
             48.870804322759625
            ],
            "geometry": {
             "coordinates": [
              [
               [
                2.342223540635518,
                48.85080432275963
               ],
               [
                2.362223540635517,
                48.85080432275963
               ],
               [
                2.362223540635517,
                48.870804322759625
               ],
               [
                2.342223540635518,
                48.870804322759625
               ],
               [
                2.342223540635518,
                48.85080432275963
               ]
              ]
             ],
             "type": "Polygon"
            },
            "id": "194",
            "properties": {},
            "type": "Feature"
           },
           {
            "bbox": [
             7.135213,
             43.656892,
             7.155213,
             43.676891999999995
            ],
            "geometry": {
             "coordinates": [
              [
               [
                7.135213,
                43.656892
               ],
               [
                7.155213,
                43.656892
               ],
               [
                7.155213,
                43.676891999999995
               ],
               [
                7.135213,
                43.676891999999995
               ],
               [
                7.135213,
                43.656892
               ]
              ]
             ],
             "type": "Polygon"
            },
            "id": "195",
            "properties": {},
            "type": "Feature"
           },
           {
            "bbox": [
             -1.598374,
             48.827510000000004,
             -1.578374,
             48.84751
            ],
            "geometry": {
             "coordinates": [
              [
               [
                -1.598374,
                48.827510000000004
               ],
               [
                -1.578374,
                48.827510000000004
               ],
               [
                -1.578374,
                48.84751
               ],
               [
                -1.598374,
                48.84751
               ],
               [
                -1.598374,
                48.827510000000004
               ]
              ]
             ],
             "type": "Polygon"
            },
            "id": "196",
            "properties": {},
            "type": "Feature"
           },
           {
            "bbox": [
             2.30598,
             48.845868,
             2.32598,
             48.865868
            ],
            "geometry": {
             "coordinates": [
              [
               [
                2.30598,
                48.845868
               ],
               [
                2.32598,
                48.845868
               ],
               [
                2.32598,
                48.865868
               ],
               [
                2.30598,
                48.865868
               ],
               [
                2.30598,
                48.845868
               ]
              ]
             ],
             "type": "Polygon"
            },
            "id": "197",
            "properties": {},
            "type": "Feature"
           },
           {
            "bbox": [
             2.873256,
             42.68945,
             2.893256,
             42.70945
            ],
            "geometry": {
             "coordinates": [
              [
               [
                2.873256,
                42.68945
               ],
               [
                2.893256,
                42.68945
               ],
               [
                2.893256,
                42.70945
               ],
               [
                2.873256,
                42.70945
               ],
               [
                2.873256,
                42.68945
               ]
              ]
             ],
             "type": "Polygon"
            },
            "id": "198",
            "properties": {},
            "type": "Feature"
           },
           {
            "bbox": [
             2.285968,
             49.880413000000004,
             2.305968,
             49.900413
            ],
            "geometry": {
             "coordinates": [
              [
               [
                2.285968,
                49.880413000000004
               ],
               [
                2.305968,
                49.880413000000004
               ],
               [
                2.305968,
                49.900413
               ],
               [
                2.285968,
                49.900413
               ],
               [
                2.285968,
                49.880413000000004
               ]
              ]
             ],
             "type": "Polygon"
            },
            "id": "199",
            "properties": {},
            "type": "Feature"
           },
           {
            "bbox": [
             2.027892,
             48.918429,
             2.047892,
             48.938429
            ],
            "geometry": {
             "coordinates": [
              [
               [
                2.027892,
                48.918429
               ],
               [
                2.047892,
                48.918429
               ],
               [
                2.047892,
                48.938429
               ],
               [
                2.027892,
                48.938429
               ],
               [
                2.027892,
                48.918429
               ]
              ]
             ],
             "type": "Polygon"
            },
            "id": "200",
            "properties": {},
            "type": "Feature"
           },
           {
            "bbox": [
             3.144223,
             46.976949000000005,
             3.164223,
             46.996949
            ],
            "geometry": {
             "coordinates": [
              [
               [
                3.144223,
                46.976949000000005
               ],
               [
                3.164223,
                46.976949000000005
               ],
               [
                3.164223,
                46.996949
               ],
               [
                3.144223,
                46.996949
               ],
               [
                3.144223,
                46.976949000000005
               ]
              ]
             ],
             "type": "Polygon"
            },
            "id": "201",
            "properties": {},
            "type": "Feature"
           },
           {
            "bbox": [
             7.269572,
             43.691924,
             7.289572,
             43.711923999999996
            ],
            "geometry": {
             "coordinates": [
              [
               [
                7.269572,
                43.691924
               ],
               [
                7.289572,
                43.691924
               ],
               [
                7.289572,
                43.711923999999996
               ],
               [
                7.269572,
                43.711923999999996
               ],
               [
                7.269572,
                43.691924
               ]
              ]
             ],
             "type": "Polygon"
            },
            "id": "202",
            "properties": {},
            "type": "Feature"
           },
           {
            "bbox": [
             2.302855,
             48.868849000000004,
             2.322855,
             48.888849
            ],
            "geometry": {
             "coordinates": [
              [
               [
                2.302855,
                48.868849000000004
               ],
               [
                2.322855,
                48.868849000000004
               ],
               [
                2.322855,
                48.888849
               ],
               [
                2.302855,
                48.888849
               ],
               [
                2.302855,
                48.868849000000004
               ]
              ]
             ],
             "type": "Polygon"
            },
            "id": "203",
            "properties": {},
            "type": "Feature"
           },
           {
            "bbox": [
             -61.075618999999996,
             14.596106,
             -61.055619,
             14.616106
            ],
            "geometry": {
             "coordinates": [
              [
               [
                -61.075618999999996,
                14.596106
               ],
               [
                -61.055619,
                14.596106
               ],
               [
                -61.055619,
                14.616106
               ],
               [
                -61.075618999999996,
                14.616106
               ],
               [
                -61.075618999999996,
                14.596106
               ]
              ]
             ],
             "type": "Polygon"
            },
            "id": "204",
            "properties": {},
            "type": "Feature"
           },
           {
            "bbox": [
             2.334553,
             48.840437,
             2.354553,
             48.860437
            ],
            "geometry": {
             "coordinates": [
              [
               [
                2.334553,
                48.840437
               ],
               [
                2.354553,
                48.840437
               ],
               [
                2.354553,
                48.860437
               ],
               [
                2.334553,
                48.860437
               ],
               [
                2.334553,
                48.840437
               ]
              ]
             ],
             "type": "Polygon"
            },
            "id": "205",
            "properties": {},
            "type": "Feature"
           },
           {
            "bbox": [
             3.554362,
             47.786936000000004,
             3.574362,
             47.806936
            ],
            "geometry": {
             "coordinates": [
              [
               [
                3.554362,
                47.786936000000004
               ],
               [
                3.574362,
                47.786936000000004
               ],
               [
                3.574362,
                47.806936
               ],
               [
                3.554362,
                47.806936
               ],
               [
                3.554362,
                47.786936000000004
               ]
              ]
             ],
             "type": "Polygon"
            },
            "id": "206",
            "properties": {},
            "type": "Feature"
           },
           {
            "bbox": [
             -0.382526,
             43.287209000000004,
             -0.362526,
             43.307209
            ],
            "geometry": {
             "coordinates": [
              [
               [
                -0.382526,
                43.287209000000004
               ],
               [
                -0.362526,
                43.287209000000004
               ],
               [
                -0.362526,
                43.307209
               ],
               [
                -0.382526,
                43.307209
               ],
               [
                -0.382526,
                43.287209000000004
               ]
              ]
             ],
             "type": "Polygon"
            },
            "id": "207",
            "properties": {},
            "type": "Feature"
           },
           {
            "bbox": [
             2.752702,
             44.511365000000005,
             2.772702,
             44.531365
            ],
            "geometry": {
             "coordinates": [
              [
               [
                2.752702,
                44.511365000000005
               ],
               [
                2.772702,
                44.511365000000005
               ],
               [
                2.772702,
                44.531365
               ],
               [
                2.752702,
                44.531365
               ],
               [
                2.752702,
                44.511365000000005
               ]
              ]
             ],
             "type": "Polygon"
            },
            "id": "208",
            "properties": {},
            "type": "Feature"
           },
           {
            "bbox": [
             4.366487,
             45.428944,
             4.386487,
             45.448944
            ],
            "geometry": {
             "coordinates": [
              [
               [
                4.366487,
                45.428944
               ],
               [
                4.386487,
                45.428944
               ],
               [
                4.386487,
                45.448944
               ],
               [
                4.366487,
                45.448944
               ],
               [
                4.366487,
                45.428944
               ]
              ]
             ],
             "type": "Polygon"
            },
            "id": "209",
            "properties": {},
            "type": "Feature"
           },
           {
            "bbox": [
             6.178467,
             48.685072000000005,
             6.198467,
             48.705072
            ],
            "geometry": {
             "coordinates": [
              [
               [
                6.178467,
                48.685072000000005
               ],
               [
                6.198467,
                48.685072000000005
               ],
               [
                6.198467,
                48.705072
               ],
               [
                6.178467,
                48.705072
               ],
               [
                6.178467,
                48.685072000000005
               ]
              ]
             ],
             "type": "Polygon"
            },
            "id": "210",
            "properties": {},
            "type": "Feature"
           },
           {
            "bbox": [
             1.760791,
             45.257654,
             1.780791,
             45.277654
            ],
            "geometry": {
             "coordinates": [
              [
               [
                1.760791,
                45.257654
               ],
               [
                1.780791,
                45.257654
               ],
               [
                1.780791,
                45.277654
               ],
               [
                1.760791,
                45.277654
               ],
               [
                1.760791,
                45.257654
               ]
              ]
             ],
             "type": "Polygon"
            },
            "id": "211",
            "properties": {},
            "type": "Feature"
           },
           {
            "bbox": [
             -1.482299,
             43.482108000000004,
             -1.462299,
             43.502108
            ],
            "geometry": {
             "coordinates": [
              [
               [
                -1.482299,
                43.482108000000004
               ],
               [
                -1.462299,
                43.482108000000004
               ],
               [
                -1.462299,
                43.502108
               ],
               [
                -1.482299,
                43.502108
               ],
               [
                -1.482299,
                43.482108000000004
               ]
              ]
             ],
             "type": "Polygon"
            },
            "id": "212",
            "properties": {},
            "type": "Feature"
           },
           {
            "bbox": [
             5.900861,
             43.133305,
             5.920861,
             43.153304999999996
            ],
            "geometry": {
             "coordinates": [
              [
               [
                5.900861,
                43.133305
               ],
               [
                5.920861,
                43.133305
               ],
               [
                5.920861,
                43.153304999999996
               ],
               [
                5.900861,
                43.153304999999996
               ],
               [
                5.900861,
                43.133305
               ]
              ]
             ],
             "type": "Polygon"
            },
            "id": "213",
            "properties": {},
            "type": "Feature"
           },
           {
            "bbox": [
             3.561975,
             47.790283,
             3.581975,
             47.810283
            ],
            "geometry": {
             "coordinates": [
              [
               [
                3.561975,
                47.790283
               ],
               [
                3.581975,
                47.790283
               ],
               [
                3.581975,
                47.810283
               ],
               [
                3.561975,
                47.810283
               ],
               [
                3.561975,
                47.790283
               ]
              ]
             ],
             "type": "Polygon"
            },
            "id": "214",
            "properties": {},
            "type": "Feature"
           },
           {
            "bbox": [
             2.327815659681779,
             48.850794598069065,
             2.347815659681778,
             48.87079459806906
            ],
            "geometry": {
             "coordinates": [
              [
               [
                2.327815659681779,
                48.850794598069065
               ],
               [
                2.347815659681778,
                48.850794598069065
               ],
               [
                2.347815659681778,
                48.87079459806906
               ],
               [
                2.327815659681779,
                48.87079459806906
               ],
               [
                2.327815659681779,
                48.850794598069065
               ]
              ]
             ],
             "type": "Polygon"
            },
            "id": "215",
            "properties": {},
            "type": "Feature"
           },
           {
            "bbox": [
             2.084936,
             48.887879000000005,
             2.104936,
             48.907879
            ],
            "geometry": {
             "coordinates": [
              [
               [
                2.084936,
                48.887879000000005
               ],
               [
                2.104936,
                48.887879000000005
               ],
               [
                2.104936,
                48.907879
               ],
               [
                2.084936,
                48.907879
               ],
               [
                2.084936,
                48.887879000000005
               ]
              ]
             ],
             "type": "Polygon"
            },
            "id": "216",
            "properties": {},
            "type": "Feature"
           },
           {
            "bbox": [
             4.60542,
             43.66679,
             4.62542,
             43.686789999999995
            ],
            "geometry": {
             "coordinates": [
              [
               [
                4.60542,
                43.66679
               ],
               [
                4.62542,
                43.66679
               ],
               [
                4.62542,
                43.686789999999995
               ],
               [
                4.60542,
                43.686789999999995
               ],
               [
                4.60542,
                43.66679
               ]
              ]
             ],
             "type": "Polygon"
            },
            "id": "217",
            "properties": {},
            "type": "Feature"
           },
           {
            "bbox": [
             6.169154,
             48.687316,
             6.189153999999999,
             48.707316
            ],
            "geometry": {
             "coordinates": [
              [
               [
                6.169154,
                48.687316
               ],
               [
                6.189153999999999,
                48.687316
               ],
               [
                6.189153999999999,
                48.707316
               ],
               [
                6.169154,
                48.707316
               ],
               [
                6.169154,
                48.687316
               ]
              ]
             ],
             "type": "Polygon"
            },
            "id": "218",
            "properties": {},
            "type": "Feature"
           },
           {
            "bbox": [
             1.32302,
             47.575122,
             1.34302,
             47.595121999999996
            ],
            "geometry": {
             "coordinates": [
              [
               [
                1.32302,
                47.575122
               ],
               [
                1.34302,
                47.575122
               ],
               [
                1.34302,
                47.595121999999996
               ],
               [
                1.32302,
                47.595121999999996
               ],
               [
                1.32302,
                47.575122
               ]
              ]
             ],
             "type": "Polygon"
            },
            "id": "219",
            "properties": {},
            "type": "Feature"
           },
           {
            "bbox": [
             5.368137,
             43.282383,
             5.388137,
             43.302383
            ],
            "geometry": {
             "coordinates": [
              [
               [
                5.368137,
                43.282383
               ],
               [
                5.388137,
                43.282383
               ],
               [
                5.388137,
                43.302383
               ],
               [
                5.368137,
                43.302383
               ],
               [
                5.368137,
                43.282383
               ]
              ]
             ],
             "type": "Polygon"
            },
            "id": "220",
            "properties": {},
            "type": "Feature"
           },
           {
            "bbox": [
             6.454818,
             43.527982,
             6.474818,
             43.547982
            ],
            "geometry": {
             "coordinates": [
              [
               [
                6.454818,
                43.527982
               ],
               [
                6.474818,
                43.527982
               ],
               [
                6.474818,
                43.547982
               ],
               [
                6.454818,
                43.547982
               ],
               [
                6.454818,
                43.527982
               ]
              ]
             ],
             "type": "Polygon"
            },
            "id": "221",
            "properties": {},
            "type": "Feature"
           },
           {
            "bbox": [
             5.027282,
             47.307559000000005,
             5.047282,
             47.327559
            ],
            "geometry": {
             "coordinates": [
              [
               [
                5.027282,
                47.307559000000005
               ],
               [
                5.047282,
                47.307559000000005
               ],
               [
                5.047282,
                47.327559
               ],
               [
                5.027282,
                47.327559
               ],
               [
                5.027282,
                47.307559000000005
               ]
              ]
             ],
             "type": "Polygon"
            },
            "id": "222",
            "properties": {},
            "type": "Feature"
           },
           {
            "bbox": [
             1.841871,
             50.946724,
             1.861871,
             50.966724
            ],
            "geometry": {
             "coordinates": [
              [
               [
                1.841871,
                50.946724
               ],
               [
                1.861871,
                50.946724
               ],
               [
                1.861871,
                50.966724
               ],
               [
                1.841871,
                50.966724
               ],
               [
                1.841871,
                50.946724
               ]
              ]
             ],
             "type": "Polygon"
            },
            "id": "223",
            "properties": {},
            "type": "Feature"
           },
           {
            "bbox": [
             1.084521,
             49.435148000000005,
             1.104521,
             49.455148
            ],
            "geometry": {
             "coordinates": [
              [
               [
                1.084521,
                49.435148000000005
               ],
               [
                1.104521,
                49.435148000000005
               ],
               [
                1.104521,
                49.455148
               ],
               [
                1.084521,
                49.455148
               ],
               [
                1.084521,
                49.435148000000005
               ]
              ]
             ],
             "type": "Polygon"
            },
            "id": "224",
            "properties": {},
            "type": "Feature"
           },
           {
            "bbox": [
             2.234319,
             48.793529,
             2.254319,
             48.813528999999996
            ],
            "geometry": {
             "coordinates": [
              [
               [
                2.234319,
                48.793529
               ],
               [
                2.254319,
                48.793529
               ],
               [
                2.254319,
                48.813528999999996
               ],
               [
                2.234319,
                48.813528999999996
               ],
               [
                2.234319,
                48.793529
               ]
              ]
             ],
             "type": "Polygon"
            },
            "id": "225",
            "properties": {},
            "type": "Feature"
           },
           {
            "bbox": [
             2.365518,
             51.027327,
             2.385518,
             51.047326999999996
            ],
            "geometry": {
             "coordinates": [
              [
               [
                2.365518,
                51.027327
               ],
               [
                2.385518,
                51.027327
               ],
               [
                2.385518,
                51.047326999999996
               ],
               [
                2.365518,
                51.047326999999996
               ],
               [
                2.365518,
                51.027327
               ]
              ]
             ],
             "type": "Polygon"
            },
            "id": "226",
            "properties": {},
            "type": "Feature"
           },
           {
            "bbox": [
             2.382284,
             47.071055,
             2.402284,
             47.091055
            ],
            "geometry": {
             "coordinates": [
              [
               [
                2.382284,
                47.071055
               ],
               [
                2.402284,
                47.071055
               ],
               [
                2.402284,
                47.091055
               ],
               [
                2.382284,
                47.091055
               ],
               [
                2.382284,
                47.071055
               ]
              ]
             ],
             "type": "Polygon"
            },
            "id": "227",
            "properties": {},
            "type": "Feature"
           },
           {
            "bbox": [
             -0.782148,
             48.05597,
             -0.762148,
             48.07597
            ],
            "geometry": {
             "coordinates": [
              [
               [
                -0.782148,
                48.05597
               ],
               [
                -0.762148,
                48.05597
               ],
               [
                -0.762148,
                48.07597
               ],
               [
                -0.782148,
                48.07597
               ],
               [
                -0.782148,
                48.05597
               ]
              ]
             ],
             "type": "Polygon"
            },
            "id": "228",
            "properties": {},
            "type": "Feature"
           },
           {
            "bbox": [
             5.364162,
             43.288168,
             5.384162,
             43.308167999999995
            ],
            "geometry": {
             "coordinates": [
              [
               [
                5.364162,
                43.288168
               ],
               [
                5.384162,
                43.288168
               ],
               [
                5.384162,
                43.308167999999995
               ],
               [
                5.364162,
                43.308167999999995
               ],
               [
                5.364162,
                43.288168
               ]
              ]
             ],
             "type": "Polygon"
            },
            "id": "229",
            "properties": {},
            "type": "Feature"
           },
           {
            "bbox": [
             1.505379,
             46.590503000000005,
             1.525379,
             46.610503
            ],
            "geometry": {
             "coordinates": [
              [
               [
                1.505379,
                46.590503000000005
               ],
               [
                1.525379,
                46.590503000000005
               ],
               [
                1.525379,
                46.610503
               ],
               [
                1.505379,
                46.610503
               ],
               [
                1.505379,
                46.590503000000005
               ]
              ]
             ],
             "type": "Polygon"
            },
            "id": "230",
            "properties": {},
            "type": "Feature"
           },
           {
            "bbox": [
             3.082979,
             45.024300000000004,
             3.102979,
             45.0443
            ],
            "geometry": {
             "coordinates": [
              [
               [
                3.082979,
                45.024300000000004
               ],
               [
                3.102979,
                45.024300000000004
               ],
               [
                3.102979,
                45.0443
               ],
               [
                3.082979,
                45.0443
               ],
               [
                3.082979,
                45.024300000000004
               ]
              ]
             ],
             "type": "Polygon"
            },
            "id": "231",
            "properties": {},
            "type": "Feature"
           },
           {
            "bbox": [
             0.975929,
             47.403925,
             0.995929,
             47.423925
            ],
            "geometry": {
             "coordinates": [
              [
               [
                0.975929,
                47.403925
               ],
               [
                0.995929,
                47.403925
               ],
               [
                0.995929,
                47.423925
               ],
               [
                0.975929,
                47.423925
               ],
               [
                0.975929,
                47.403925
               ]
              ]
             ],
             "type": "Polygon"
            },
            "id": "232",
            "properties": {},
            "type": "Feature"
           },
           {
            "bbox": [
             0.715967,
             49.515351,
             0.735967,
             49.535351
            ],
            "geometry": {
             "coordinates": [
              [
               [
                0.715967,
                49.515351
               ],
               [
                0.735967,
                49.515351
               ],
               [
                0.735967,
                49.535351
               ],
               [
                0.715967,
                49.535351
               ],
               [
                0.715967,
                49.515351
               ]
              ]
             ],
             "type": "Polygon"
            },
            "id": "233",
            "properties": {},
            "type": "Feature"
           },
           {
            "bbox": [
             -1.610543,
             48.828549,
             -1.590543,
             48.848549
            ],
            "geometry": {
             "coordinates": [
              [
               [
                -1.610543,
                48.828549
               ],
               [
                -1.590543,
                48.828549
               ],
               [
                -1.590543,
                48.848549
               ],
               [
                -1.610543,
                48.848549
               ],
               [
                -1.610543,
                48.828549
               ]
              ]
             ],
             "type": "Polygon"
            },
            "id": "234",
            "properties": {},
            "type": "Feature"
           },
           {
            "bbox": [
             2.17183,
             48.867678000000005,
             2.19183,
             48.887678
            ],
            "geometry": {
             "coordinates": [
              [
               [
                2.17183,
                48.867678000000005
               ],
               [
                2.19183,
                48.867678000000005
               ],
               [
                2.19183,
                48.887678
               ],
               [
                2.17183,
                48.887678
               ],
               [
                2.17183,
                48.867678000000005
               ]
              ]
             ],
             "type": "Polygon"
            },
            "id": "235",
            "properties": {},
            "type": "Feature"
           },
           {
            "bbox": [
             -0.556399,
             47.463467,
             -0.536399,
             47.483467
            ],
            "geometry": {
             "coordinates": [
              [
               [
                -0.556399,
                47.463467
               ],
               [
                -0.536399,
                47.463467
               ],
               [
                -0.536399,
                47.483467
               ],
               [
                -0.556399,
                47.483467
               ],
               [
                -0.556399,
                47.463467
               ]
              ]
             ],
             "type": "Polygon"
            },
            "id": "236",
            "properties": {},
            "type": "Feature"
           },
           {
            "bbox": [
             7.278686,
             43.688046,
             7.298686,
             43.708045999999996
            ],
            "geometry": {
             "coordinates": [
              [
               [
                7.278686,
                43.688046
               ],
               [
                7.298686,
                43.688046
               ],
               [
                7.298686,
                43.708045999999996
               ],
               [
                7.278686,
                43.708045999999996
               ],
               [
                7.278686,
                43.688046
               ]
              ]
             ],
             "type": "Polygon"
            },
            "id": "237",
            "properties": {},
            "type": "Feature"
           },
           {
            "bbox": [
             2.9257,
             49.92027,
             2.9457,
             49.94027
            ],
            "geometry": {
             "coordinates": [
              [
               [
                2.9257,
                49.92027
               ],
               [
                2.9457,
                49.92027
               ],
               [
                2.9457,
                49.94027
               ],
               [
                2.9257,
                49.94027
               ],
               [
                2.9257,
                49.92027
               ]
              ]
             ],
             "type": "Polygon"
            },
            "id": "238",
            "properties": {},
            "type": "Feature"
           },
           {
            "bbox": [
             -2.255756,
             46.98903,
             -2.235756,
             47.009029999999996
            ],
            "geometry": {
             "coordinates": [
              [
               [
                -2.255756,
                46.98903
               ],
               [
                -2.235756,
                46.98903
               ],
               [
                -2.235756,
                47.009029999999996
               ],
               [
                -2.255756,
                47.009029999999996
               ],
               [
                -2.255756,
                46.98903
               ]
              ]
             ],
             "type": "Polygon"
            },
            "id": "239",
            "properties": {},
            "type": "Feature"
           },
           {
            "bbox": [
             3.275398,
             49.839891,
             3.295398,
             49.859891
            ],
            "geometry": {
             "coordinates": [
              [
               [
                3.275398,
                49.839891
               ],
               [
                3.295398,
                49.839891
               ],
               [
                3.295398,
                49.859891
               ],
               [
                3.275398,
                49.859891
               ],
               [
                3.275398,
                49.839891
               ]
              ]
             ],
             "type": "Polygon"
            },
            "id": "240",
            "properties": {},
            "type": "Feature"
           },
           {
            "bbox": [
             5.429915,
             43.520846,
             5.449915,
             43.540845999999995
            ],
            "geometry": {
             "coordinates": [
              [
               [
                5.429915,
                43.520846
               ],
               [
                5.449915,
                43.520846
               ],
               [
                5.449915,
                43.540845999999995
               ],
               [
                5.429915,
                43.540845999999995
               ],
               [
                5.429915,
                43.520846
               ]
              ]
             ],
             "type": "Polygon"
            },
            "id": "241",
            "properties": {},
            "type": "Feature"
           },
           {
            "bbox": [
             5.725245,
             45.180041,
             5.745245,
             45.200041
            ],
            "geometry": {
             "coordinates": [
              [
               [
                5.725245,
                45.180041
               ],
               [
                5.745245,
                45.180041
               ],
               [
                5.745245,
                45.200041
               ],
               [
                5.725245,
                45.200041
               ],
               [
                5.725245,
                45.180041
               ]
              ]
             ],
             "type": "Polygon"
            },
            "id": "242",
            "properties": {},
            "type": "Feature"
           },
           {
            "bbox": [
             -0.255179949517658,
             44.90480330332367,
             -0.235179949517658,
             44.924803303323664
            ],
            "geometry": {
             "coordinates": [
              [
               [
                -0.255179949517658,
                44.90480330332367
               ],
               [
                -0.235179949517658,
                44.90480330332367
               ],
               [
                -0.235179949517658,
                44.924803303323664
               ],
               [
                -0.255179949517658,
                44.924803303323664
               ],
               [
                -0.255179949517658,
                44.90480330332367
               ]
              ]
             ],
             "type": "Polygon"
            },
            "id": "243",
            "properties": {},
            "type": "Feature"
           },
           {
            "bbox": [
             0.334434,
             46.571142,
             0.354434,
             46.591142
            ],
            "geometry": {
             "coordinates": [
              [
               [
                0.334434,
                46.571142
               ],
               [
                0.354434,
                46.571142
               ],
               [
                0.354434,
                46.591142
               ],
               [
                0.334434,
                46.591142
               ],
               [
                0.334434,
                46.571142
               ]
              ]
             ],
             "type": "Polygon"
            },
            "id": "244",
            "properties": {},
            "type": "Feature"
           },
           {
            "bbox": [
             2.533144,
             48.816701,
             2.553144,
             48.836701
            ],
            "geometry": {
             "coordinates": [
              [
               [
                2.533144,
                48.816701
               ],
               [
                2.553144,
                48.816701
               ],
               [
                2.553144,
                48.836701
               ],
               [
                2.533144,
                48.836701
               ],
               [
                2.533144,
                48.816701
               ]
              ]
             ],
             "type": "Polygon"
            },
            "id": "245",
            "properties": {},
            "type": "Feature"
           },
           {
            "bbox": [
             0.336104,
             46.570519000000004,
             0.356104,
             46.590519
            ],
            "geometry": {
             "coordinates": [
              [
               [
                0.336104,
                46.570519000000004
               ],
               [
                0.356104,
                46.570519000000004
               ],
               [
                0.356104,
                46.590519
               ],
               [
                0.336104,
                46.590519
               ],
               [
                0.336104,
                46.570519000000004
               ]
              ]
             ],
             "type": "Polygon"
            },
            "id": "246",
            "properties": {},
            "type": "Feature"
           },
           {
            "bbox": [
             2.697767,
             48.869644,
             2.717767,
             48.889644
            ],
            "geometry": {
             "coordinates": [
              [
               [
                2.697767,
                48.869644
               ],
               [
                2.717767,
                48.869644
               ],
               [
                2.717767,
                48.889644
               ],
               [
                2.697767,
                48.889644
               ],
               [
                2.697767,
                48.869644
               ]
              ]
             ],
             "type": "Polygon"
            },
            "id": "247",
            "properties": {},
            "type": "Feature"
           },
           {
            "bbox": [
             7.270128000000001,
             48.116069,
             7.290128,
             48.136069
            ],
            "geometry": {
             "coordinates": [
              [
               [
                7.270128000000001,
                48.116069
               ],
               [
                7.290128,
                48.116069
               ],
               [
                7.290128,
                48.136069
               ],
               [
                7.270128000000001,
                48.136069
               ],
               [
                7.270128000000001,
                48.116069
               ]
              ]
             ],
             "type": "Polygon"
            },
            "id": "248",
            "properties": {},
            "type": "Feature"
           },
           {
            "bbox": [
             4.817749,
             45.753856,
             4.837749,
             45.773855999999995
            ],
            "geometry": {
             "coordinates": [
              [
               [
                4.817749,
                45.753856
               ],
               [
                4.837749,
                45.753856
               ],
               [
                4.837749,
                45.773855999999995
               ],
               [
                4.817749,
                45.773855999999995
               ],
               [
                4.817749,
                45.753856
               ]
              ]
             ],
             "type": "Polygon"
            },
            "id": "249",
            "properties": {},
            "type": "Feature"
           },
           {
            "bbox": [
             4.356501000000001,
             48.945859,
             4.376501,
             48.965858999999995
            ],
            "geometry": {
             "coordinates": [
              [
               [
                4.356501000000001,
                48.945859
               ],
               [
                4.376501,
                48.945859
               ],
               [
                4.376501,
                48.965858999999995
               ],
               [
                4.356501000000001,
                48.965858999999995
               ],
               [
                4.356501000000001,
                48.945859
               ]
              ]
             ],
             "type": "Polygon"
            },
            "id": "250",
            "properties": {},
            "type": "Feature"
           },
           {
            "bbox": [
             2.346007,
             48.828805,
             2.366007,
             48.848805
            ],
            "geometry": {
             "coordinates": [
              [
               [
                2.346007,
                48.828805
               ],
               [
                2.366007,
                48.828805
               ],
               [
                2.366007,
                48.848805
               ],
               [
                2.346007,
                48.848805
               ],
               [
                2.346007,
                48.828805
               ]
              ]
             ],
             "type": "Polygon"
            },
            "id": "251",
            "properties": {},
            "type": "Feature"
           },
           {
            "bbox": [
             2.352644,
             48.8497,
             2.372644,
             48.869699999999995
            ],
            "geometry": {
             "coordinates": [
              [
               [
                2.352644,
                48.8497
               ],
               [
                2.372644,
                48.8497
               ],
               [
                2.372644,
                48.869699999999995
               ],
               [
                2.352644,
                48.869699999999995
               ],
               [
                2.352644,
                48.8497
               ]
              ]
             ],
             "type": "Polygon"
            },
            "id": "252",
            "properties": {},
            "type": "Feature"
           },
           {
            "bbox": [
             7.102317,
             43.610705,
             7.122317,
             43.630705
            ],
            "geometry": {
             "coordinates": [
              [
               [
                7.102317,
                43.610705
               ],
               [
                7.122317,
                43.610705
               ],
               [
                7.122317,
                43.630705
               ],
               [
                7.102317,
                43.630705
               ],
               [
                7.102317,
                43.610705
               ]
              ]
             ],
             "type": "Polygon"
            },
            "id": "253",
            "properties": {},
            "type": "Feature"
           },
           {
            "bbox": [
             5.027131,
             47.307415,
             5.047130999999999,
             47.327414999999995
            ],
            "geometry": {
             "coordinates": [
              [
               [
                5.027131,
                47.307415
               ],
               [
                5.047130999999999,
                47.307415
               ],
               [
                5.047130999999999,
                47.327414999999995
               ],
               [
                5.027131,
                47.327414999999995
               ],
               [
                5.027131,
                47.307415
               ]
              ]
             ],
             "type": "Polygon"
            },
            "id": "254",
            "properties": {},
            "type": "Feature"
           },
           {
            "bbox": [
             0.142569,
             45.6393,
             0.162569,
             45.659299999999995
            ],
            "geometry": {
             "coordinates": [
              [
               [
                0.142569,
                45.6393
               ],
               [
                0.162569,
                45.6393
               ],
               [
                0.162569,
                45.659299999999995
               ],
               [
                0.142569,
                45.659299999999995
               ],
               [
                0.142569,
                45.6393
               ]
              ]
             ],
             "type": "Polygon"
            },
            "id": "255",
            "properties": {},
            "type": "Feature"
           },
           {
            "bbox": [
             4.86462,
             45.514069,
             4.88462,
             45.534068999999995
            ],
            "geometry": {
             "coordinates": [
              [
               [
                4.86462,
                45.514069
               ],
               [
                4.88462,
                45.514069
               ],
               [
                4.88462,
                45.534068999999995
               ],
               [
                4.86462,
                45.534068999999995
               ],
               [
                4.86462,
                45.514069
               ]
              ]
             ],
             "type": "Polygon"
            },
            "id": "256",
            "properties": {},
            "type": "Feature"
           },
           {
            "bbox": [
             2.270339,
             48.863694,
             2.290339,
             48.883694
            ],
            "geometry": {
             "coordinates": [
              [
               [
                2.270339,
                48.863694
               ],
               [
                2.290339,
                48.863694
               ],
               [
                2.290339,
                48.883694
               ],
               [
                2.270339,
                48.883694
               ],
               [
                2.270339,
                48.863694
               ]
              ]
             ],
             "type": "Polygon"
            },
            "id": "257",
            "properties": {},
            "type": "Feature"
           },
           {
            "bbox": [
             5.439931,
             43.516201,
             5.459931,
             43.536201
            ],
            "geometry": {
             "coordinates": [
              [
               [
                5.439931,
                43.516201
               ],
               [
                5.459931,
                43.516201
               ],
               [
                5.459931,
                43.536201
               ],
               [
                5.439931,
                43.536201
               ],
               [
                5.439931,
                43.516201
               ]
              ]
             ],
             "type": "Polygon"
            },
            "id": "258",
            "properties": {},
            "type": "Feature"
           },
           {
            "bbox": [
             -0.972523,
             45.925666,
             -0.952523,
             45.945665999999996
            ],
            "geometry": {
             "coordinates": [
              [
               [
                -0.972523,
                45.925666
               ],
               [
                -0.952523,
                45.925666
               ],
               [
                -0.952523,
                45.945665999999996
               ],
               [
                -0.972523,
                45.945665999999996
               ],
               [
                -0.972523,
                45.925666
               ]
              ]
             ],
             "type": "Polygon"
            },
            "id": "259",
            "properties": {},
            "type": "Feature"
           },
           {
            "bbox": [
             5.741334,
             45.195613,
             5.761334,
             45.215613
            ],
            "geometry": {
             "coordinates": [
              [
               [
                5.741334,
                45.195613
               ],
               [
                5.761334,
                45.195613
               ],
               [
                5.761334,
                45.215613
               ],
               [
                5.741334,
                45.215613
               ],
               [
                5.741334,
                45.195613
               ]
              ]
             ],
             "type": "Polygon"
            },
            "id": "260",
            "properties": {},
            "type": "Feature"
           },
           {
            "bbox": [
             4.860694,
             45.513234000000004,
             4.880694,
             45.533234
            ],
            "geometry": {
             "coordinates": [
              [
               [
                4.860694,
                45.513234000000004
               ],
               [
                4.880694,
                45.513234000000004
               ],
               [
                4.880694,
                45.533234
               ],
               [
                4.860694,
                45.533234
               ],
               [
                4.860694,
                45.513234000000004
               ]
              ]
             ],
             "type": "Polygon"
            },
            "id": "261",
            "properties": {},
            "type": "Feature"
           },
           {
            "bbox": [
             6.857072,
             47.62757,
             6.877072,
             47.647569999999995
            ],
            "geometry": {
             "coordinates": [
              [
               [
                6.857072,
                47.62757
               ],
               [
                6.877072,
                47.62757
               ],
               [
                6.877072,
                47.647569999999995
               ],
               [
                6.857072,
                47.647569999999995
               ],
               [
                6.857072,
                47.62757
               ]
              ]
             ],
             "type": "Polygon"
            },
            "id": "262",
            "properties": {},
            "type": "Feature"
           },
           {
            "bbox": [
             2.38325,
             47.073735,
             2.40325,
             47.093734999999995
            ],
            "geometry": {
             "coordinates": [
              [
               [
                2.38325,
                47.073735
               ],
               [
                2.40325,
                47.073735
               ],
               [
                2.40325,
                47.093734999999995
               ],
               [
                2.38325,
                47.093734999999995
               ],
               [
                2.38325,
                47.073735
               ]
              ]
             ],
             "type": "Polygon"
            },
            "id": "263",
            "properties": {},
            "type": "Feature"
           },
           {
            "bbox": [
             2.20992,
             48.829010000000004,
             2.22992,
             48.84901
            ],
            "geometry": {
             "coordinates": [
              [
               [
                2.20992,
                48.829010000000004
               ],
               [
                2.22992,
                48.829010000000004
               ],
               [
                2.22992,
                48.84901
               ],
               [
                2.20992,
                48.84901
               ],
               [
                2.20992,
                48.829010000000004
               ]
              ]
             ],
             "type": "Polygon"
            },
            "id": "264",
            "properties": {},
            "type": "Feature"
           },
           {
            "bbox": [
             7.31789352526163,
             47.75161416701042,
             7.337893525261629,
             47.77161416701042
            ],
            "geometry": {
             "coordinates": [
              [
               [
                7.31789352526163,
                47.75161416701042
               ],
               [
                7.337893525261629,
                47.75161416701042
               ],
               [
                7.337893525261629,
                47.77161416701042
               ],
               [
                7.31789352526163,
                47.77161416701042
               ],
               [
                7.31789352526163,
                47.75161416701042
               ]
              ]
             ],
             "type": "Polygon"
            },
            "id": "265",
            "properties": {},
            "type": "Feature"
           },
           {
            "bbox": [
             2.28843234195393,
             48.854603220958786,
             2.30843234195393,
             48.87460322095878
            ],
            "geometry": {
             "coordinates": [
              [
               [
                2.28843234195393,
                48.854603220958786
               ],
               [
                2.30843234195393,
                48.854603220958786
               ],
               [
                2.30843234195393,
                48.87460322095878
               ],
               [
                2.28843234195393,
                48.87460322095878
               ],
               [
                2.28843234195393,
                48.854603220958786
               ]
              ]
             ],
             "type": "Polygon"
            },
            "id": "266",
            "properties": {},
            "type": "Feature"
           },
           {
            "bbox": [
             -1.097574,
             49.106174,
             -1.077574,
             49.126174
            ],
            "geometry": {
             "coordinates": [
              [
               [
                -1.097574,
                49.106174
               ],
               [
                -1.077574,
                49.106174
               ],
               [
                -1.077574,
                49.126174
               ],
               [
                -1.097574,
                49.126174
               ],
               [
                -1.097574,
                49.106174
               ]
              ]
             ],
             "type": "Polygon"
            },
            "id": "267",
            "properties": {},
            "type": "Feature"
           },
           {
            "bbox": [
             1.885761,
             43.887983000000006,
             1.905761,
             43.907983
            ],
            "geometry": {
             "coordinates": [
              [
               [
                1.885761,
                43.887983000000006
               ],
               [
                1.905761,
                43.887983000000006
               ],
               [
                1.905761,
                43.907983
               ],
               [
                1.885761,
                43.907983
               ],
               [
                1.885761,
                43.887983000000006
               ]
              ]
             ],
             "type": "Polygon"
            },
            "id": "268",
            "properties": {},
            "type": "Feature"
           },
           {
            "bbox": [
             6.436595,
             48.16326,
             6.456595,
             48.18326
            ],
            "geometry": {
             "coordinates": [
              [
               [
                6.436595,
                48.16326
               ],
               [
                6.456595,
                48.16326
               ],
               [
                6.456595,
                48.18326
               ],
               [
                6.436595,
                48.18326
               ],
               [
                6.436595,
                48.16326
               ]
              ]
             ],
             "type": "Polygon"
            },
            "id": "269",
            "properties": {},
            "type": "Feature"
           },
           {
            "bbox": [
             4.842921,
             45.774864,
             4.862921,
             45.794864
            ],
            "geometry": {
             "coordinates": [
              [
               [
                4.842921,
                45.774864
               ],
               [
                4.862921,
                45.774864
               ],
               [
                4.862921,
                45.794864
               ],
               [
                4.842921,
                45.794864
               ],
               [
                4.842921,
                45.774864
               ]
              ]
             ],
             "type": "Polygon"
            },
            "id": "270",
            "properties": {},
            "type": "Feature"
           },
           {
            "bbox": [
             2.292463,
             49.882882,
             2.312463,
             49.902882
            ],
            "geometry": {
             "coordinates": [
              [
               [
                2.292463,
                49.882882
               ],
               [
                2.312463,
                49.882882
               ],
               [
                2.312463,
                49.902882
               ],
               [
                2.292463,
                49.902882
               ],
               [
                2.292463,
                49.882882
               ]
              ]
             ],
             "type": "Polygon"
            },
            "id": "271",
            "properties": {},
            "type": "Feature"
           },
           {
            "bbox": [
             -1.161157,
             46.151435,
             -1.141157,
             46.171434999999995
            ],
            "geometry": {
             "coordinates": [
              [
               [
                -1.161157,
                46.151435
               ],
               [
                -1.141157,
                46.151435
               ],
               [
                -1.141157,
                46.171434999999995
               ],
               [
                -1.161157,
                46.171434999999995
               ],
               [
                -1.161157,
                46.151435
               ]
              ]
             ],
             "type": "Polygon"
            },
            "id": "272",
            "properties": {},
            "type": "Feature"
           },
           {
            "bbox": [
             5.265048,
             46.86264,
             5.285048,
             46.882639999999995
            ],
            "geometry": {
             "coordinates": [
              [
               [
                5.265048,
                46.86264
               ],
               [
                5.285048,
                46.86264
               ],
               [
                5.285048,
                46.882639999999995
               ],
               [
                5.265048,
                46.882639999999995
               ],
               [
                5.265048,
                46.86264
               ]
              ]
             ],
             "type": "Polygon"
            },
            "id": "273",
            "properties": {},
            "type": "Feature"
           },
           {
            "bbox": [
             4.349619000000001,
             43.828204,
             4.369619,
             43.848203999999996
            ],
            "geometry": {
             "coordinates": [
              [
               [
                4.349619000000001,
                43.828204
               ],
               [
                4.369619,
                43.828204
               ],
               [
                4.369619,
                43.848203999999996
               ],
               [
                4.349619000000001,
                43.848203999999996
               ],
               [
                4.349619000000001,
                43.828204
               ]
              ]
             ],
             "type": "Polygon"
            },
            "id": "274",
            "properties": {},
            "type": "Feature"
           },
           {
            "bbox": [
             4.291812,
             46.937996000000005,
             4.311812,
             46.957996
            ],
            "geometry": {
             "coordinates": [
              [
               [
                4.291812,
                46.937996000000005
               ],
               [
                4.311812,
                46.937996000000005
               ],
               [
                4.311812,
                46.957996
               ],
               [
                4.291812,
                46.957996
               ],
               [
                4.291812,
                46.937996000000005
               ]
              ]
             ],
             "type": "Polygon"
            },
            "id": "275",
            "properties": {},
            "type": "Feature"
           },
           {
            "bbox": [
             5.413327,
             43.523792,
             5.433326999999999,
             43.543791999999996
            ],
            "geometry": {
             "coordinates": [
              [
               [
                5.413327,
                43.523792
               ],
               [
                5.433326999999999,
                43.523792
               ],
               [
                5.433326999999999,
                43.543791999999996
               ],
               [
                5.413327,
                43.543791999999996
               ],
               [
                5.413327,
                43.523792
               ]
              ]
             ],
             "type": "Polygon"
            },
            "id": "276",
            "properties": {},
            "type": "Feature"
           },
           {
            "bbox": [
             7.347746,
             48.066747,
             7.367746,
             48.086746999999995
            ],
            "geometry": {
             "coordinates": [
              [
               [
                7.347746,
                48.066747
               ],
               [
                7.367746,
                48.066747
               ],
               [
                7.367746,
                48.086746999999995
               ],
               [
                7.347746,
                48.086746999999995
               ],
               [
                7.347746,
                48.066747
               ]
              ]
             ],
             "type": "Polygon"
            },
            "id": "277",
            "properties": {},
            "type": "Feature"
           },
           {
            "bbox": [
             -0.590085,
             44.838154,
             -0.570085,
             44.858154
            ],
            "geometry": {
             "coordinates": [
              [
               [
                -0.590085,
                44.838154
               ],
               [
                -0.570085,
                44.838154
               ],
               [
                -0.570085,
                44.858154
               ],
               [
                -0.590085,
                44.858154
               ],
               [
                -0.590085,
                44.838154
               ]
              ]
             ],
             "type": "Polygon"
            },
            "id": "278",
            "properties": {},
            "type": "Feature"
           },
           {
            "bbox": [
             7.335379580548643,
             47.73501942419962,
             7.355379580548642,
             47.75501942419962
            ],
            "geometry": {
             "coordinates": [
              [
               [
                7.335379580548643,
                47.73501942419962
               ],
               [
                7.355379580548642,
                47.73501942419962
               ],
               [
                7.355379580548642,
                47.75501942419962
               ],
               [
                7.335379580548643,
                47.75501942419962
               ],
               [
                7.335379580548643,
                47.73501942419962
               ]
              ]
             ],
             "type": "Polygon"
            },
            "id": "279",
            "properties": {},
            "type": "Feature"
           },
           {
            "bbox": [
             1.242114,
             45.822531000000005,
             1.262114,
             45.842531
            ],
            "geometry": {
             "coordinates": [
              [
               [
                1.242114,
                45.822531000000005
               ],
               [
                1.262114,
                45.822531000000005
               ],
               [
                1.262114,
                45.842531
               ],
               [
                1.242114,
                45.842531
               ],
               [
                1.242114,
                45.822531000000005
               ]
              ]
             ],
             "type": "Polygon"
            },
            "id": "280",
            "properties": {},
            "type": "Feature"
           },
           {
            "bbox": [
             4.845727,
             46.770045,
             4.865727,
             46.790045
            ],
            "geometry": {
             "coordinates": [
              [
               [
                4.845727,
                46.770045
               ],
               [
                4.865727,
                46.770045
               ],
               [
                4.865727,
                46.790045
               ],
               [
                4.845727,
                46.790045
               ],
               [
                4.845727,
                46.770045
               ]
              ]
             ],
             "type": "Polygon"
            },
            "id": "281",
            "properties": {},
            "type": "Feature"
           },
           {
            "bbox": [
             2.431947,
             44.915394,
             2.451947,
             44.935393999999995
            ],
            "geometry": {
             "coordinates": [
              [
               [
                2.431947,
                44.915394
               ],
               [
                2.451947,
                44.915394
               ],
               [
                2.451947,
                44.935393999999995
               ],
               [
                2.431947,
                44.935393999999995
               ],
               [
                2.431947,
                44.915394
               ]
              ]
             ],
             "type": "Polygon"
            },
            "id": "282",
            "properties": {},
            "type": "Feature"
           },
           {
            "bbox": [
             4.35081,
             43.822001,
             4.37081,
             43.842000999999996
            ],
            "geometry": {
             "coordinates": [
              [
               [
                4.35081,
                43.822001
               ],
               [
                4.37081,
                43.822001
               ],
               [
                4.37081,
                43.842000999999996
               ],
               [
                4.35081,
                43.842000999999996
               ],
               [
                4.35081,
                43.822001
               ]
              ]
             ],
             "type": "Polygon"
            },
            "id": "283",
            "properties": {},
            "type": "Feature"
           },
           {
            "bbox": [
             1.850013,
             50.940474,
             1.870013,
             50.960474
            ],
            "geometry": {
             "coordinates": [
              [
               [
                1.850013,
                50.940474
               ],
               [
                1.870013,
                50.940474
               ],
               [
                1.870013,
                50.960474
               ],
               [
                1.850013,
                50.960474
               ],
               [
                1.850013,
                50.940474
               ]
              ]
             ],
             "type": "Polygon"
            },
            "id": "284",
            "properties": {},
            "type": "Feature"
           },
           {
            "bbox": [
             1.076748,
             49.433051,
             1.096748,
             49.453050999999995
            ],
            "geometry": {
             "coordinates": [
              [
               [
                1.076748,
                49.433051
               ],
               [
                1.096748,
                49.433051
               ],
               [
                1.096748,
                49.453050999999995
               ],
               [
                1.076748,
                49.453050999999995
               ],
               [
                1.076748,
                49.433051
               ]
              ]
             ],
             "type": "Polygon"
            },
            "id": "285",
            "properties": {},
            "type": "Feature"
           },
           {
            "bbox": [
             -2.767556,
             47.647693000000004,
             -2.747556,
             47.667693
            ],
            "geometry": {
             "coordinates": [
              [
               [
                -2.767556,
                47.647693000000004
               ],
               [
                -2.747556,
                47.647693000000004
               ],
               [
                -2.747556,
                47.667693
               ],
               [
                -2.767556,
                47.667693
               ],
               [
                -2.767556,
                47.647693000000004
               ]
              ]
             ],
             "type": "Polygon"
            },
            "id": "286",
            "properties": {},
            "type": "Feature"
           },
           {
            "bbox": [
             2.217488,
             48.831354000000005,
             2.237488,
             48.851354
            ],
            "geometry": {
             "coordinates": [
              [
               [
                2.217488,
                48.831354000000005
               ],
               [
                2.237488,
                48.831354000000005
               ],
               [
                2.237488,
                48.851354
               ],
               [
                2.217488,
                48.851354
               ],
               [
                2.217488,
                48.831354000000005
               ]
              ]
             ],
             "type": "Polygon"
            },
            "id": "287",
            "properties": {},
            "type": "Feature"
           },
           {
            "bbox": [
             2.686157,
             48.255518,
             2.706157,
             48.275518
            ],
            "geometry": {
             "coordinates": [
              [
               [
                2.686157,
                48.255518
               ],
               [
                2.706157,
                48.255518
               ],
               [
                2.706157,
                48.275518
               ],
               [
                2.686157,
                48.275518
               ],
               [
                2.686157,
                48.255518
               ]
              ]
             ],
             "type": "Polygon"
            },
            "id": "288",
            "properties": {},
            "type": "Feature"
           },
           {
            "bbox": [
             7.266769,
             43.710041000000004,
             7.286769,
             43.730041
            ],
            "geometry": {
             "coordinates": [
              [
               [
                7.266769,
                43.710041000000004
               ],
               [
                7.286769,
                43.710041000000004
               ],
               [
                7.286769,
                43.730041
               ],
               [
                7.266769,
                43.730041
               ],
               [
                7.266769,
                43.710041000000004
               ]
              ]
             ],
             "type": "Polygon"
            },
            "id": "289",
            "properties": {},
            "type": "Feature"
           },
           {
            "bbox": [
             2.702931,
             48.857372000000005,
             2.722931,
             48.877372
            ],
            "geometry": {
             "coordinates": [
              [
               [
                2.702931,
                48.857372000000005
               ],
               [
                2.722931,
                48.857372000000005
               ],
               [
                2.722931,
                48.877372
               ],
               [
                2.702931,
                48.877372
               ],
               [
                2.702931,
                48.857372000000005
               ]
              ]
             ],
             "type": "Polygon"
            },
            "id": "290",
            "properties": {},
            "type": "Feature"
           },
           {
            "bbox": [
             4.290179,
             46.945328,
             4.310179,
             46.965328
            ],
            "geometry": {
             "coordinates": [
              [
               [
                4.290179,
                46.945328
               ],
               [
                4.310179,
                46.945328
               ],
               [
                4.310179,
                46.965328
               ],
               [
                4.290179,
                46.965328
               ],
               [
                4.290179,
                46.945328
               ]
              ]
             ],
             "type": "Polygon"
            },
            "id": "291",
            "properties": {},
            "type": "Feature"
           },
           {
            "bbox": [
             3.200533,
             43.331429,
             3.220533,
             43.351428999999996
            ],
            "geometry": {
             "coordinates": [
              [
               [
                3.200533,
                43.331429
               ],
               [
                3.220533,
                43.331429
               ],
               [
                3.220533,
                43.351428999999996
               ],
               [
                3.200533,
                43.351428999999996
               ],
               [
                3.200533,
                43.331429
               ]
              ]
             ],
             "type": "Polygon"
            },
            "id": "292",
            "properties": {},
            "type": "Feature"
           },
           {
            "bbox": [
             2.648972,
             48.526398,
             2.668972,
             48.546397999999996
            ],
            "geometry": {
             "coordinates": [
              [
               [
                2.648972,
                48.526398
               ],
               [
                2.668972,
                48.526398
               ],
               [
                2.668972,
                48.546397999999996
               ],
               [
                2.648972,
                48.546397999999996
               ],
               [
                2.648972,
                48.526398
               ]
              ]
             ],
             "type": "Polygon"
            },
            "id": "293",
            "properties": {},
            "type": "Feature"
           },
           {
            "bbox": [
             -0.642055,
             45.736235,
             -0.622055,
             45.756235
            ],
            "geometry": {
             "coordinates": [
              [
               [
                -0.642055,
                45.736235
               ],
               [
                -0.622055,
                45.736235
               ],
               [
                -0.622055,
                45.756235
               ],
               [
                -0.642055,
                45.756235
               ],
               [
                -0.642055,
                45.736235
               ]
              ]
             ],
             "type": "Polygon"
            },
            "id": "294",
            "properties": {},
            "type": "Feature"
           },
           {
            "bbox": [
             2.224894,
             48.796412000000004,
             2.244894,
             48.816412
            ],
            "geometry": {
             "coordinates": [
              [
               [
                2.224894,
                48.796412000000004
               ],
               [
                2.244894,
                48.796412000000004
               ],
               [
                2.244894,
                48.816412
               ],
               [
                2.224894,
                48.816412
               ],
               [
                2.224894,
                48.796412000000004
               ]
              ]
             ],
             "type": "Polygon"
            },
            "id": "295",
            "properties": {},
            "type": "Feature"
           },
           {
            "bbox": [
             2.229888,
             43.594813,
             2.249888,
             43.614813
            ],
            "geometry": {
             "coordinates": [
              [
               [
                2.229888,
                43.594813
               ],
               [
                2.249888,
                43.594813
               ],
               [
                2.249888,
                43.614813
               ],
               [
                2.229888,
                43.614813
               ],
               [
                2.229888,
                43.594813
               ]
              ]
             ],
             "type": "Polygon"
            },
            "id": "296",
            "properties": {},
            "type": "Feature"
           },
           {
            "bbox": [
             8.728487,
             41.912406000000004,
             8.748486999999999,
             41.932406
            ],
            "geometry": {
             "coordinates": [
              [
               [
                8.728487,
                41.912406000000004
               ],
               [
                8.748486999999999,
                41.912406000000004
               ],
               [
                8.748486999999999,
                41.932406
               ],
               [
                8.728487,
                41.932406
               ],
               [
                8.728487,
                41.912406000000004
               ]
              ]
             ],
             "type": "Polygon"
            },
            "id": "297",
            "properties": {},
            "type": "Feature"
           },
           {
            "bbox": [
             4.711238,
             49.763836000000005,
             4.731237999999999,
             49.783836
            ],
            "geometry": {
             "coordinates": [
              [
               [
                4.711238,
                49.763836000000005
               ],
               [
                4.731237999999999,
                49.763836000000005
               ],
               [
                4.731237999999999,
                49.783836
               ],
               [
                4.711238,
                49.783836
               ],
               [
                4.711238,
                49.763836000000005
               ]
              ]
             ],
             "type": "Polygon"
            },
            "id": "298",
            "properties": {},
            "type": "Feature"
           },
           {
            "bbox": [
             2.811526,
             49.407414,
             2.831526,
             49.427414
            ],
            "geometry": {
             "coordinates": [
              [
               [
                2.811526,
                49.407414
               ],
               [
                2.831526,
                49.407414
               ],
               [
                2.831526,
                49.427414
               ],
               [
                2.811526,
                49.427414
               ],
               [
                2.811526,
                49.407414
               ]
              ]
             ],
             "type": "Polygon"
            },
            "id": "299",
            "properties": {},
            "type": "Feature"
           },
           {
            "bbox": [
             1.607147476929312,
             50.71353547258894,
             1.627147476929312,
             50.73353547258893
            ],
            "geometry": {
             "coordinates": [
              [
               [
                1.607147476929312,
                50.71353547258894
               ],
               [
                1.627147476929312,
                50.71353547258894
               ],
               [
                1.627147476929312,
                50.73353547258893
               ],
               [
                1.607147476929312,
                50.73353547258893
               ],
               [
                1.607147476929312,
                50.71353547258894
               ]
              ]
             ],
             "type": "Polygon"
            },
            "id": "300",
            "properties": {},
            "type": "Feature"
           },
           {
            "bbox": [
             0.102815,
             49.476857,
             0.122815,
             49.496857
            ],
            "geometry": {
             "coordinates": [
              [
               [
                0.102815,
                49.476857
               ],
               [
                0.122815,
                49.476857
               ],
               [
                0.122815,
                49.496857
               ],
               [
                0.102815,
                49.496857
               ],
               [
                0.102815,
                49.476857
               ]
              ]
             ],
             "type": "Polygon"
            },
            "id": "301",
            "properties": {},
            "type": "Feature"
           },
           {
            "bbox": [
             0.098231,
             49.477552,
             0.118231,
             49.497552
            ],
            "geometry": {
             "coordinates": [
              [
               [
                0.098231,
                49.477552
               ],
               [
                0.118231,
                49.477552
               ],
               [
                0.118231,
                49.497552
               ],
               [
                0.098231,
                49.497552
               ],
               [
                0.098231,
                49.477552
               ]
              ]
             ],
             "type": "Polygon"
            },
            "id": "302",
            "properties": {},
            "type": "Feature"
           },
           {
            "bbox": [
             4.796317,
             43.941088,
             4.816317,
             43.961088
            ],
            "geometry": {
             "coordinates": [
              [
               [
                4.796317,
                43.941088
               ],
               [
                4.816317,
                43.941088
               ],
               [
                4.816317,
                43.961088
               ],
               [
                4.796317,
                43.961088
               ],
               [
                4.796317,
                43.941088
               ]
              ]
             ],
             "type": "Polygon"
            },
            "id": "303",
            "properties": {},
            "type": "Feature"
           },
           {
            "bbox": [
             6.172435,
             48.683507,
             6.192435,
             48.703506999999995
            ],
            "geometry": {
             "coordinates": [
              [
               [
                6.172435,
                48.683507
               ],
               [
                6.192435,
                48.683507
               ],
               [
                6.192435,
                48.703506999999995
               ],
               [
                6.172435,
                48.703506999999995
               ],
               [
                6.172435,
                48.683507
               ]
              ]
             ],
             "type": "Polygon"
            },
            "id": "304",
            "properties": {},
            "type": "Feature"
           },
           {
            "bbox": [
             -0.374384,
             43.287254000000004,
             -0.354384,
             43.307254
            ],
            "geometry": {
             "coordinates": [
              [
               [
                -0.374384,
                43.287254000000004
               ],
               [
                -0.354384,
                43.287254000000004
               ],
               [
                -0.354384,
                43.307254
               ],
               [
                -0.374384,
                43.307254
               ],
               [
                -0.374384,
                43.287254000000004
               ]
              ]
             ],
             "type": "Polygon"
            },
            "id": "305",
            "properties": {},
            "type": "Feature"
           },
           {
            "bbox": [
             4.353712139325677,
             43.82798099757179,
             4.373712139325677,
             43.84798099757179
            ],
            "geometry": {
             "coordinates": [
              [
               [
                4.353712139325677,
                43.82798099757179
               ],
               [
                4.373712139325677,
                43.82798099757179
               ],
               [
                4.373712139325677,
                43.84798099757179
               ],
               [
                4.353712139325677,
                43.84798099757179
               ],
               [
                4.353712139325677,
                43.82798099757179
               ]
              ]
             ],
             "type": "Polygon"
            },
            "id": "306",
            "properties": {},
            "type": "Feature"
           },
           {
            "bbox": [
             2.307700895922452,
             48.83156094062689,
             2.327700895922451,
             48.85156094062689
            ],
            "geometry": {
             "coordinates": [
              [
               [
                2.307700895922452,
                48.83156094062689
               ],
               [
                2.327700895922451,
                48.83156094062689
               ],
               [
                2.327700895922451,
                48.85156094062689
               ],
               [
                2.307700895922452,
                48.85156094062689
               ],
               [
                2.307700895922452,
                48.83156094062689
               ]
              ]
             ],
             "type": "Polygon"
            },
            "id": "307",
            "properties": {},
            "type": "Feature"
           },
           {
            "bbox": [
             -0.464351,
             46.311168,
             -0.444351,
             46.331168
            ],
            "geometry": {
             "coordinates": [
              [
               [
                -0.464351,
                46.311168
               ],
               [
                -0.444351,
                46.311168
               ],
               [
                -0.444351,
                46.331168
               ],
               [
                -0.464351,
                46.331168
               ],
               [
                -0.464351,
                46.311168
               ]
              ]
             ],
             "type": "Polygon"
            },
            "id": "308",
            "properties": {},
            "type": "Feature"
           },
           {
            "bbox": [
             3.870685,
             43.601350000000004,
             3.890685,
             43.62135
            ],
            "geometry": {
             "coordinates": [
              [
               [
                3.870685,
                43.601350000000004
               ],
               [
                3.890685,
                43.601350000000004
               ],
               [
                3.890685,
                43.62135
               ],
               [
                3.870685,
                43.62135
               ],
               [
                3.870685,
                43.601350000000004
               ]
              ]
             ],
             "type": "Polygon"
            },
            "id": "309",
            "properties": {},
            "type": "Feature"
           },
           {
            "bbox": [
             3.556248,
             47.785393,
             3.576248,
             47.805392999999995
            ],
            "geometry": {
             "coordinates": [
              [
               [
                3.556248,
                47.785393
               ],
               [
                3.576248,
                47.785393
               ],
               [
                3.576248,
                47.805392999999995
               ],
               [
                3.556248,
                47.805392999999995
               ],
               [
                3.556248,
                47.785393
               ]
              ]
             ],
             "type": "Polygon"
            },
            "id": "310",
            "properties": {},
            "type": "Feature"
           },
           {
            "bbox": [
             7.114074,
             43.566824000000004,
             7.134074,
             43.586824
            ],
            "geometry": {
             "coordinates": [
              [
               [
                7.114074,
                43.566824000000004
               ],
               [
                7.134074,
                43.566824000000004
               ],
               [
                7.134074,
                43.586824
               ],
               [
                7.114074,
                43.586824
               ],
               [
                7.114074,
                43.566824000000004
               ]
              ]
             ],
             "type": "Polygon"
            },
            "id": "311",
            "properties": {},
            "type": "Feature"
           },
           {
            "bbox": [
             6.912,
             43.648385000000005,
             6.932,
             43.668385
            ],
            "geometry": {
             "coordinates": [
              [
               [
                6.912,
                43.648385000000005
               ],
               [
                6.932,
                43.648385000000005
               ],
               [
                6.932,
                43.668385
               ],
               [
                6.912,
                43.668385
               ],
               [
                6.912,
                43.648385000000005
               ]
              ]
             ],
             "type": "Polygon"
            },
            "id": "312",
            "properties": {},
            "type": "Feature"
           },
           {
            "bbox": [
             4.609843000000001,
             44.151992,
             4.629843,
             44.171991999999996
            ],
            "geometry": {
             "coordinates": [
              [
               [
                4.609843000000001,
                44.151992
               ],
               [
                4.629843,
                44.151992
               ],
               [
                4.629843,
                44.171991999999996
               ],
               [
                4.609843000000001,
                44.171991999999996
               ],
               [
                4.609843000000001,
                44.151992
               ]
              ]
             ],
             "type": "Polygon"
            },
            "id": "313",
            "properties": {},
            "type": "Feature"
           },
           {
            "bbox": [
             55.441452000000005,
             -20.897712000000002,
             55.461452,
             -20.877712
            ],
            "geometry": {
             "coordinates": [
              [
               [
                55.441452000000005,
                -20.897712000000002
               ],
               [
                55.461452,
                -20.897712000000002
               ],
               [
                55.461452,
                -20.877712
               ],
               [
                55.441452000000005,
                -20.877712
               ],
               [
                55.441452000000005,
                -20.897712000000002
               ]
              ]
             ],
             "type": "Polygon"
            },
            "id": "314",
            "properties": {},
            "type": "Feature"
           },
           {
            "bbox": [
             2.297689,
             48.873045000000005,
             2.317689,
             48.893045
            ],
            "geometry": {
             "coordinates": [
              [
               [
                2.297689,
                48.873045000000005
               ],
               [
                2.317689,
                48.873045000000005
               ],
               [
                2.317689,
                48.893045
               ],
               [
                2.297689,
                48.893045
               ],
               [
                2.297689,
                48.873045000000005
               ]
              ]
             ],
             "type": "Polygon"
            },
            "id": "315",
            "properties": {},
            "type": "Feature"
           },
           {
            "bbox": [
             7.205461000000001,
             43.668077000000004,
             7.225461,
             43.688077
            ],
            "geometry": {
             "coordinates": [
              [
               [
                7.205461000000001,
                43.668077000000004
               ],
               [
                7.225461,
                43.668077000000004
               ],
               [
                7.225461,
                43.688077
               ],
               [
                7.205461000000001,
                43.688077
               ],
               [
                7.205461000000001,
                43.668077000000004
               ]
              ]
             ],
             "type": "Polygon"
            },
            "id": "316",
            "properties": {},
            "type": "Feature"
           },
           {
            "bbox": [
             0.139932,
             45.643356000000004,
             0.159932,
             45.663356
            ],
            "geometry": {
             "coordinates": [
              [
               [
                0.139932,
                45.643356000000004
               ],
               [
                0.159932,
                45.643356000000004
               ],
               [
                0.159932,
                45.663356
               ],
               [
                0.139932,
                45.663356
               ],
               [
                0.139932,
                45.643356000000004
               ]
              ]
             ],
             "type": "Polygon"
            },
            "id": "317",
            "properties": {},
            "type": "Feature"
           },
           {
            "bbox": [
             1.476763,
             48.437624,
             1.496763,
             48.457623999999996
            ],
            "geometry": {
             "coordinates": [
              [
               [
                1.476763,
                48.437624
               ],
               [
                1.496763,
                48.437624
               ],
               [
                1.496763,
                48.457623999999996
               ],
               [
                1.476763,
                48.457623999999996
               ],
               [
                1.476763,
                48.437624
               ]
              ]
             ],
             "type": "Polygon"
            },
            "id": "318",
            "properties": {},
            "type": "Feature"
           },
           {
            "bbox": [
             6.912508,
             43.647615,
             6.932507999999999,
             43.667615
            ],
            "geometry": {
             "coordinates": [
              [
               [
                6.912508,
                43.647615
               ],
               [
                6.932507999999999,
                43.647615
               ],
               [
                6.932507999999999,
                43.667615
               ],
               [
                6.912508,
                43.667615
               ],
               [
                6.912508,
                43.647615
               ]
              ]
             ],
             "type": "Polygon"
            },
            "id": "319",
            "properties": {},
            "type": "Feature"
           },
           {
            "bbox": [
             5.917245,
             43.115971,
             5.937245,
             43.135971
            ],
            "geometry": {
             "coordinates": [
              [
               [
                5.917245,
                43.115971
               ],
               [
                5.937245,
                43.115971
               ],
               [
                5.937245,
                43.135971
               ],
               [
                5.917245,
                43.135971
               ],
               [
                5.917245,
                43.115971
               ]
              ]
             ],
             "type": "Polygon"
            },
            "id": "320",
            "properties": {},
            "type": "Feature"
           },
           {
            "bbox": [
             -0.585205,
             44.825543,
             -0.565205,
             44.845543
            ],
            "geometry": {
             "coordinates": [
              [
               [
                -0.585205,
                44.825543
               ],
               [
                -0.565205,
                44.825543
               ],
               [
                -0.565205,
                44.845543
               ],
               [
                -0.585205,
                44.845543
               ],
               [
                -0.585205,
                44.825543
               ]
              ]
             ],
             "type": "Polygon"
            },
            "id": "321",
            "properties": {},
            "type": "Feature"
           },
           {
            "bbox": [
             5.725163,
             45.178059000000005,
             5.745163,
             45.198059
            ],
            "geometry": {
             "coordinates": [
              [
               [
                5.725163,
                45.178059000000005
               ],
               [
                5.745163,
                45.178059000000005
               ],
               [
                5.745163,
                45.198059
               ],
               [
                5.725163,
                45.198059
               ],
               [
                5.725163,
                45.178059000000005
               ]
              ]
             ],
             "type": "Polygon"
            },
            "id": "322",
            "properties": {},
            "type": "Feature"
           },
           {
            "bbox": [
             2.120624,
             48.798966,
             2.140624,
             48.818965999999996
            ],
            "geometry": {
             "coordinates": [
              [
               [
                2.120624,
                48.798966
               ],
               [
                2.140624,
                48.798966
               ],
               [
                2.140624,
                48.818965999999996
               ],
               [
                2.120624,
                48.818965999999996
               ],
               [
                2.120624,
                48.798966
               ]
              ]
             ],
             "type": "Polygon"
            },
            "id": "323",
            "properties": {},
            "type": "Feature"
           },
           {
            "bbox": [
             0.137001,
             43.041963,
             0.157001,
             43.061963
            ],
            "geometry": {
             "coordinates": [
              [
               [
                0.137001,
                43.041963
               ],
               [
                0.157001,
                43.041963
               ],
               [
                0.157001,
                43.061963
               ],
               [
                0.137001,
                43.061963
               ],
               [
                0.137001,
                43.041963
               ]
              ]
             ],
             "type": "Polygon"
            },
            "id": "324",
            "properties": {},
            "type": "Feature"
           },
           {
            "bbox": [
             5.909306,
             45.557896,
             5.929306,
             45.577895999999996
            ],
            "geometry": {
             "coordinates": [
              [
               [
                5.909306,
                45.557896
               ],
               [
                5.929306,
                45.557896
               ],
               [
                5.929306,
                45.577895999999996
               ],
               [
                5.909306,
                45.577895999999996
               ],
               [
                5.909306,
                45.557896
               ]
              ]
             ],
             "type": "Polygon"
            },
            "id": "325",
            "properties": {},
            "type": "Feature"
           },
           {
            "bbox": [
             2.089887,
             49.038396,
             2.109887,
             49.058395999999995
            ],
            "geometry": {
             "coordinates": [
              [
               [
                2.089887,
                49.038396
               ],
               [
                2.109887,
                49.038396
               ],
               [
                2.109887,
                49.058395999999995
               ],
               [
                2.089887,
                49.058395999999995
               ],
               [
                2.089887,
                49.038396
               ]
              ]
             ],
             "type": "Polygon"
            },
            "id": "326",
            "properties": {},
            "type": "Feature"
           },
           {
            "bbox": [
             6.845466,
             47.632439000000005,
             6.865466,
             47.652439
            ],
            "geometry": {
             "coordinates": [
              [
               [
                6.845466,
                47.632439000000005
               ],
               [
                6.865466,
                47.632439000000005
               ],
               [
                6.865466,
                47.652439
               ],
               [
                6.845466,
                47.652439
               ],
               [
                6.845466,
                47.632439000000005
               ]
              ]
             ],
             "type": "Polygon"
            },
            "id": "327",
            "properties": {},
            "type": "Feature"
           },
           {
            "bbox": [
             2.271997,
             48.861845,
             2.291997,
             48.881845
            ],
            "geometry": {
             "coordinates": [
              [
               [
                2.271997,
                48.861845
               ],
               [
                2.291997,
                48.861845
               ],
               [
                2.291997,
                48.881845
               ],
               [
                2.271997,
                48.881845
               ],
               [
                2.271997,
                48.861845
               ]
              ]
             ],
             "type": "Polygon"
            },
            "id": "328",
            "properties": {},
            "type": "Feature"
           },
           {
            "bbox": [
             1.433132,
             43.592258,
             1.453132,
             43.612258
            ],
            "geometry": {
             "coordinates": [
              [
               [
                1.433132,
                43.592258
               ],
               [
                1.453132,
                43.592258
               ],
               [
                1.453132,
                43.612258
               ],
               [
                1.433132,
                43.612258
               ],
               [
                1.433132,
                43.592258
               ]
              ]
             ],
             "type": "Polygon"
            },
            "id": "329",
            "properties": {},
            "type": "Feature"
           },
           {
            "bbox": [
             0.1877,
             47.998953,
             0.2077,
             48.018952999999996
            ],
            "geometry": {
             "coordinates": [
              [
               [
                0.1877,
                47.998953
               ],
               [
                0.2077,
                47.998953
               ],
               [
                0.2077,
                48.018952999999996
               ],
               [
                0.1877,
                48.018952999999996
               ],
               [
                0.1877,
                47.998953
               ]
              ]
             ],
             "type": "Polygon"
            },
            "id": "330",
            "properties": {},
            "type": "Feature"
           },
           {
            "bbox": [
             2.024599,
             44.599472,
             2.044599,
             44.619471999999995
            ],
            "geometry": {
             "coordinates": [
              [
               [
                2.024599,
                44.599472
               ],
               [
                2.044599,
                44.599472
               ],
               [
                2.044599,
                44.619471999999995
               ],
               [
                2.024599,
                44.619471999999995
               ],
               [
                2.024599,
                44.599472
               ]
              ]
             ],
             "type": "Polygon"
            },
            "id": "331",
            "properties": {},
            "type": "Feature"
           },
           {
            "bbox": [
             6.583289000000001,
             48.006142000000004,
             6.603289,
             48.026142
            ],
            "geometry": {
             "coordinates": [
              [
               [
                6.583289000000001,
                48.006142000000004
               ],
               [
                6.603289,
                48.006142000000004
               ],
               [
                6.603289,
                48.026142
               ],
               [
                6.583289000000001,
                48.026142
               ],
               [
                6.583289000000001,
                48.006142000000004
               ]
              ]
             ],
             "type": "Polygon"
            },
            "id": "332",
            "properties": {},
            "type": "Feature"
           },
           {
            "bbox": [
             4.269872,
             46.422412,
             4.289872,
             46.442412
            ],
            "geometry": {
             "coordinates": [
              [
               [
                4.269872,
                46.422412
               ],
               [
                4.289872,
                46.422412
               ],
               [
                4.289872,
                46.442412
               ],
               [
                4.269872,
                46.442412
               ],
               [
                4.269872,
                46.422412
               ]
              ]
             ],
             "type": "Polygon"
            },
            "id": "333",
            "properties": {},
            "type": "Feature"
           },
           {
            "bbox": [
             2.988444,
             49.571666,
             3.008444,
             49.591666
            ],
            "geometry": {
             "coordinates": [
              [
               [
                2.988444,
                49.571666
               ],
               [
                3.008444,
                49.571666
               ],
               [
                3.008444,
                49.591666
               ],
               [
                2.988444,
                49.591666
               ],
               [
                2.988444,
                49.571666
               ]
              ]
             ],
             "type": "Polygon"
            },
            "id": "334",
            "properties": {},
            "type": "Feature"
           },
           {
            "bbox": [
             5.323286,
             47.855268,
             5.343286,
             47.875268
            ],
            "geometry": {
             "coordinates": [
              [
               [
                5.323286,
                47.855268
               ],
               [
                5.343286,
                47.855268
               ],
               [
                5.343286,
                47.875268
               ],
               [
                5.323286,
                47.875268
               ],
               [
                5.323286,
                47.855268
               ]
              ]
             ],
             "type": "Polygon"
            },
            "id": "335",
            "properties": {},
            "type": "Feature"
           },
           {
            "bbox": [
             3.868349,
             43.600788,
             3.888349,
             43.620788
            ],
            "geometry": {
             "coordinates": [
              [
               [
                3.868349,
                43.600788
               ],
               [
                3.888349,
                43.600788
               ],
               [
                3.888349,
                43.620788
               ],
               [
                3.868349,
                43.620788
               ],
               [
                3.868349,
                43.600788
               ]
              ]
             ],
             "type": "Polygon"
            },
            "id": "336",
            "properties": {},
            "type": "Feature"
           },
           {
            "bbox": [
             -0.382151129201345,
             49.17130160203962,
             -0.362151129201345,
             49.191301602039616
            ],
            "geometry": {
             "coordinates": [
              [
               [
                -0.382151129201345,
                49.17130160203962
               ],
               [
                -0.362151129201345,
                49.17130160203962
               ],
               [
                -0.362151129201345,
                49.191301602039616
               ],
               [
                -0.382151129201345,
                49.191301602039616
               ],
               [
                -0.382151129201345,
                49.17130160203962
               ]
              ]
             ],
             "type": "Polygon"
            },
            "id": "337",
            "properties": {},
            "type": "Feature"
           },
           {
            "bbox": [
             4.292971,
             46.939043000000005,
             4.312971,
             46.959043
            ],
            "geometry": {
             "coordinates": [
              [
               [
                4.292971,
                46.939043000000005
               ],
               [
                4.312971,
                46.939043000000005
               ],
               [
                4.312971,
                46.959043
               ],
               [
                4.292971,
                46.959043
               ],
               [
                4.292971,
                46.939043000000005
               ]
              ]
             ],
             "type": "Polygon"
            },
            "id": "338",
            "properties": {},
            "type": "Feature"
           },
           {
            "bbox": [
             4.326901,
             47.614491,
             4.346901,
             47.634491
            ],
            "geometry": {
             "coordinates": [
              [
               [
                4.326901,
                47.614491
               ],
               [
                4.346901,
                47.614491
               ],
               [
                4.346901,
                47.634491
               ],
               [
                4.326901,
                47.634491
               ],
               [
                4.326901,
                47.614491
               ]
              ]
             ],
             "type": "Polygon"
            },
            "id": "339",
            "properties": {},
            "type": "Feature"
           },
           {
            "bbox": [
             5.226521,
             46.186549,
             5.246521,
             46.206548999999995
            ],
            "geometry": {
             "coordinates": [
              [
               [
                5.226521,
                46.186549
               ],
               [
                5.246521,
                46.186549
               ],
               [
                5.246521,
                46.206548999999995
               ],
               [
                5.226521,
                46.206548999999995
               ],
               [
                5.226521,
                46.186549
               ]
              ]
             ],
             "type": "Polygon"
            },
            "id": "340",
            "properties": {},
            "type": "Feature"
           },
           {
            "bbox": [
             5.721922,
             45.187780000000004,
             5.741922,
             45.20778
            ],
            "geometry": {
             "coordinates": [
              [
               [
                5.721922,
                45.187780000000004
               ],
               [
                5.741922,
                45.187780000000004
               ],
               [
                5.741922,
                45.20778
               ],
               [
                5.721922,
                45.20778
               ],
               [
                5.721922,
                45.187780000000004
               ]
              ]
             ],
             "type": "Polygon"
            },
            "id": "341",
            "properties": {},
            "type": "Feature"
           },
           {
            "bbox": [
             5.321753,
             47.856417,
             5.341753,
             47.876417
            ],
            "geometry": {
             "coordinates": [
              [
               [
                5.321753,
                47.856417
               ],
               [
                5.341753,
                47.856417
               ],
               [
                5.341753,
                47.876417
               ],
               [
                5.321753,
                47.876417
               ],
               [
                5.321753,
                47.856417
               ]
              ]
             ],
             "type": "Polygon"
            },
            "id": "342",
            "properties": {},
            "type": "Feature"
           },
           {
            "bbox": [
             5.437546,
             43.521366,
             5.457546,
             43.541366
            ],
            "geometry": {
             "coordinates": [
              [
               [
                5.437546,
                43.521366
               ],
               [
                5.457546,
                43.521366
               ],
               [
                5.457546,
                43.541366
               ],
               [
                5.437546,
                43.541366
               ],
               [
                5.437546,
                43.521366
               ]
              ]
             ],
             "type": "Polygon"
            },
            "id": "343",
            "properties": {},
            "type": "Feature"
           },
           {
            "bbox": [
             5.209217000000001,
             46.186543,
             5.229217,
             46.206542999999996
            ],
            "geometry": {
             "coordinates": [
              [
               [
                5.209217000000001,
                46.186543
               ],
               [
                5.229217,
                46.186543
               ],
               [
                5.229217,
                46.206542999999996
               ],
               [
                5.209217000000001,
                46.206542999999996
               ],
               [
                5.209217000000001,
                46.186543
               ]
              ]
             ],
             "type": "Polygon"
            },
            "id": "344",
            "properties": {},
            "type": "Feature"
           },
           {
            "bbox": [
             2.388494,
             47.071774000000005,
             2.408494,
             47.091774
            ],
            "geometry": {
             "coordinates": [
              [
               [
                2.388494,
                47.071774000000005
               ],
               [
                2.408494,
                47.071774000000005
               ],
               [
                2.408494,
                47.091774
               ],
               [
                2.388494,
                47.091774
               ],
               [
                2.388494,
                47.071774000000005
               ]
              ]
             ],
             "type": "Polygon"
            },
            "id": "345",
            "properties": {},
            "type": "Feature"
           },
           {
            "bbox": [
             5.379874,
             43.240815000000005,
             5.399874,
             43.260815
            ],
            "geometry": {
             "coordinates": [
              [
               [
                5.379874,
                43.240815000000005
               ],
               [
                5.399874,
                43.240815000000005
               ],
               [
                5.399874,
                43.260815
               ],
               [
                5.379874,
                43.260815
               ],
               [
                5.379874,
                43.240815000000005
               ]
              ]
             ],
             "type": "Polygon"
            },
            "id": "346",
            "properties": {},
            "type": "Feature"
           },
           {
            "bbox": [
             7.328434000000001,
             47.736642,
             7.348434,
             47.756642
            ],
            "geometry": {
             "coordinates": [
              [
               [
                7.328434000000001,
                47.736642
               ],
               [
                7.348434,
                47.736642
               ],
               [
                7.348434,
                47.756642
               ],
               [
                7.328434000000001,
                47.756642
               ],
               [
                7.328434000000001,
                47.736642
               ]
              ]
             ],
             "type": "Polygon"
            },
            "id": "347",
            "properties": {},
            "type": "Feature"
           },
           {
            "bbox": [
             4.821075,
             43.779218,
             4.841075,
             43.799217999999996
            ],
            "geometry": {
             "coordinates": [
              [
               [
                4.821075,
                43.779218
               ],
               [
                4.841075,
                43.779218
               ],
               [
                4.841075,
                43.799217999999996
               ],
               [
                4.821075,
                43.799217999999996
               ],
               [
                4.821075,
                43.779218
               ]
              ]
             ],
             "type": "Polygon"
            },
            "id": "348",
            "properties": {},
            "type": "Feature"
           },
           {
            "bbox": [
             -4.111962999999999,
             47.986188,
             -4.091963,
             48.006187999999995
            ],
            "geometry": {
             "coordinates": [
              [
               [
                -4.111962999999999,
                47.986188
               ],
               [
                -4.091963,
                47.986188
               ],
               [
                -4.091963,
                48.006187999999995
               ],
               [
                -4.111962999999999,
                48.006187999999995
               ],
               [
                -4.111962999999999,
                47.986188
               ]
              ]
             ],
             "type": "Polygon"
            },
            "id": "349",
            "properties": {},
            "type": "Feature"
           },
           {
            "bbox": [
             4.784938,
             43.733732,
             4.804938,
             43.753732
            ],
            "geometry": {
             "coordinates": [
              [
               [
                4.784938,
                43.733732
               ],
               [
                4.804938,
                43.733732
               ],
               [
                4.804938,
                43.753732
               ],
               [
                4.784938,
                43.753732
               ],
               [
                4.784938,
                43.733732
               ]
              ]
             ],
             "type": "Polygon"
            },
            "id": "350",
            "properties": {},
            "type": "Feature"
           },
           {
            "bbox": [
             5.032189,
             47.310958,
             5.052188999999999,
             47.330957999999995
            ],
            "geometry": {
             "coordinates": [
              [
               [
                5.032189,
                47.310958
               ],
               [
                5.052188999999999,
                47.310958
               ],
               [
                5.052188999999999,
                47.330957999999995
               ],
               [
                5.032189,
                47.330957999999995
               ],
               [
                5.032189,
                47.310958
               ]
              ]
             ],
             "type": "Polygon"
            },
            "id": "351",
            "properties": {},
            "type": "Feature"
           },
           {
            "bbox": [
             2.331091,
             48.830814000000004,
             2.351091,
             48.850814
            ],
            "geometry": {
             "coordinates": [
              [
               [
                2.331091,
                48.830814000000004
               ],
               [
                2.351091,
                48.830814000000004
               ],
               [
                2.351091,
                48.850814
               ],
               [
                2.331091,
                48.850814
               ],
               [
                2.331091,
                48.830814000000004
               ]
              ]
             ],
             "type": "Polygon"
            },
            "id": "352",
            "properties": {},
            "type": "Feature"
           },
           {
            "bbox": [
             -0.589686,
             44.828956000000005,
             -0.569686,
             44.848956
            ],
            "geometry": {
             "coordinates": [
              [
               [
                -0.589686,
                44.828956000000005
               ],
               [
                -0.569686,
                44.828956000000005
               ],
               [
                -0.569686,
                44.848956
               ],
               [
                -0.589686,
                44.848956
               ],
               [
                -0.589686,
                44.828956000000005
               ]
              ]
             ],
             "type": "Polygon"
            },
            "id": "353",
            "properties": {},
            "type": "Feature"
           },
           {
            "bbox": [
             6.156351,
             48.670494000000005,
             6.176351,
             48.690494
            ],
            "geometry": {
             "coordinates": [
              [
               [
                6.156351,
                48.670494000000005
               ],
               [
                6.176351,
                48.670494000000005
               ],
               [
                6.176351,
                48.690494
               ],
               [
                6.156351,
                48.690494
               ],
               [
                6.156351,
                48.670494000000005
               ]
              ]
             ],
             "type": "Polygon"
            },
            "id": "354",
            "properties": {},
            "type": "Feature"
           },
           {
            "bbox": [
             -0.38218715643821,
             49.170590097599046,
             -0.36218715643821,
             49.19059009759904
            ],
            "geometry": {
             "coordinates": [
              [
               [
                -0.38218715643821,
                49.170590097599046
               ],
               [
                -0.36218715643821,
                49.170590097599046
               ],
               [
                -0.36218715643821,
                49.19059009759904
               ],
               [
                -0.38218715643821,
                49.19059009759904
               ],
               [
                -0.38218715643821,
                49.170590097599046
               ]
              ]
             ],
             "type": "Polygon"
            },
            "id": "355",
            "properties": {},
            "type": "Feature"
           },
           {
            "bbox": [
             3.145037,
             46.97629,
             3.165037,
             46.996289999999995
            ],
            "geometry": {
             "coordinates": [
              [
               [
                3.145037,
                46.97629
               ],
               [
                3.165037,
                46.97629
               ],
               [
                3.165037,
                46.996289999999995
               ],
               [
                3.145037,
                46.996289999999995
               ],
               [
                3.145037,
                46.97629
               ]
              ]
             ],
             "type": "Polygon"
            },
            "id": "356",
            "properties": {},
            "type": "Feature"
           },
           {
            "bbox": [
             -0.589413,
             44.828056000000004,
             -0.569413,
             44.848056
            ],
            "geometry": {
             "coordinates": [
              [
               [
                -0.589413,
                44.828056000000004
               ],
               [
                -0.569413,
                44.828056000000004
               ],
               [
                -0.569413,
                44.848056
               ],
               [
                -0.589413,
                44.848056
               ],
               [
                -0.589413,
                44.828056000000004
               ]
              ]
             ],
             "type": "Polygon"
            },
            "id": "357",
            "properties": {},
            "type": "Feature"
           },
           {
            "bbox": [
             2.81998916710261,
             49.408172668861056,
             2.83998916710261,
             49.42817266886105
            ],
            "geometry": {
             "coordinates": [
              [
               [
                2.81998916710261,
                49.408172668861056
               ],
               [
                2.83998916710261,
                49.408172668861056
               ],
               [
                2.83998916710261,
                49.42817266886105
               ],
               [
                2.81998916710261,
                49.42817266886105
               ],
               [
                2.81998916710261,
                49.408172668861056
               ]
              ]
             ],
             "type": "Polygon"
            },
            "id": "358",
            "properties": {},
            "type": "Feature"
           },
           {
            "bbox": [
             2.641583,
             48.536480000000005,
             2.661583,
             48.55648
            ],
            "geometry": {
             "coordinates": [
              [
               [
                2.641583,
                48.536480000000005
               ],
               [
                2.661583,
                48.536480000000005
               ],
               [
                2.661583,
                48.55648
               ],
               [
                2.641583,
                48.55648
               ],
               [
                2.641583,
                48.536480000000005
               ]
              ]
             ],
             "type": "Polygon"
            },
            "id": "359",
            "properties": {},
            "type": "Feature"
           },
           {
            "bbox": [
             3.05294,
             50.631053,
             3.07294,
             50.651053
            ],
            "geometry": {
             "coordinates": [
              [
               [
                3.05294,
                50.631053
               ],
               [
                3.07294,
                50.631053
               ],
               [
                3.07294,
                50.651053
               ],
               [
                3.05294,
                50.651053
               ],
               [
                3.05294,
                50.631053
               ]
              ]
             ],
             "type": "Polygon"
            },
            "id": "360",
            "properties": {},
            "type": "Feature"
           },
           {
            "bbox": [
             4.062849,
             48.28473,
             4.082849,
             48.30473
            ],
            "geometry": {
             "coordinates": [
              [
               [
                4.062849,
                48.28473
               ],
               [
                4.082849,
                48.28473
               ],
               [
                4.082849,
                48.30473
               ],
               [
                4.062849,
                48.30473
               ],
               [
                4.062849,
                48.28473
               ]
              ]
             ],
             "type": "Polygon"
            },
            "id": "361",
            "properties": {},
            "type": "Feature"
           },
           {
            "bbox": [
             5.437432,
             43.520857,
             5.457432,
             43.540856999999995
            ],
            "geometry": {
             "coordinates": [
              [
               [
                5.437432,
                43.520857
               ],
               [
                5.457432,
                43.520857
               ],
               [
                5.457432,
                43.540856999999995
               ],
               [
                5.437432,
                43.540856999999995
               ],
               [
                5.437432,
                43.520857
               ]
              ]
             ],
             "type": "Polygon"
            },
            "id": "362",
            "properties": {},
            "type": "Feature"
           },
           {
            "bbox": [
             7.328271,
             47.735774,
             7.348271,
             47.755773999999995
            ],
            "geometry": {
             "coordinates": [
              [
               [
                7.328271,
                47.735774
               ],
               [
                7.348271,
                47.735774
               ],
               [
                7.348271,
                47.755773999999995
               ],
               [
                7.328271,
                47.755773999999995
               ],
               [
                7.328271,
                47.735774
               ]
              ]
             ],
             "type": "Polygon"
            },
            "id": "363",
            "properties": {},
            "type": "Feature"
           },
           {
            "bbox": [
             4.289216000000001,
             46.935723,
             4.309216,
             46.955723
            ],
            "geometry": {
             "coordinates": [
              [
               [
                4.289216000000001,
                46.935723
               ],
               [
                4.309216,
                46.935723
               ],
               [
                4.309216,
                46.955723
               ],
               [
                4.289216000000001,
                46.955723
               ],
               [
                4.289216000000001,
                46.935723
               ]
              ]
             ],
             "type": "Polygon"
            },
            "id": "364",
            "properties": {},
            "type": "Feature"
           },
           {
            "bbox": [
             5.905600925206359,
             45.67863382600499,
             5.925600925206359,
             45.698633826004986
            ],
            "geometry": {
             "coordinates": [
              [
               [
                5.905600925206359,
                45.67863382600499
               ],
               [
                5.925600925206359,
                45.67863382600499
               ],
               [
                5.925600925206359,
                45.698633826004986
               ],
               [
                5.905600925206359,
                45.698633826004986
               ],
               [
                5.905600925206359,
                45.67863382600499
               ]
              ]
             ],
             "type": "Polygon"
            },
            "id": "365",
            "properties": {},
            "type": "Feature"
           },
           {
            "bbox": [
             2.034648,
             48.917970000000004,
             2.054648,
             48.93797
            ],
            "geometry": {
             "coordinates": [
              [
               [
                2.034648,
                48.917970000000004
               ],
               [
                2.054648,
                48.917970000000004
               ],
               [
                2.054648,
                48.93797
               ],
               [
                2.034648,
                48.93797
               ],
               [
                2.034648,
                48.917970000000004
               ]
              ]
             ],
             "type": "Polygon"
            },
            "id": "366",
            "properties": {},
            "type": "Feature"
           },
           {
            "bbox": [
             -1.485169330670194,
             43.48364187649409,
             -1.465169330670194,
             43.503641876494086
            ],
            "geometry": {
             "coordinates": [
              [
               [
                -1.485169330670194,
                43.48364187649409
               ],
               [
                -1.465169330670194,
                43.48364187649409
               ],
               [
                -1.465169330670194,
                43.503641876494086
               ],
               [
                -1.485169330670194,
                43.503641876494086
               ],
               [
                -1.485169330670194,
                43.48364187649409
               ]
              ]
             ],
             "type": "Polygon"
            },
            "id": "367",
            "properties": {},
            "type": "Feature"
           },
           {
            "bbox": [
             4.070982,
             44.119352,
             4.090982,
             44.139351999999995
            ],
            "geometry": {
             "coordinates": [
              [
               [
                4.070982,
                44.119352
               ],
               [
                4.090982,
                44.119352
               ],
               [
                4.090982,
                44.139351999999995
               ],
               [
                4.070982,
                44.139351999999995
               ],
               [
                4.070982,
                44.119352
               ]
              ]
             ],
             "type": "Polygon"
            },
            "id": "368",
            "properties": {},
            "type": "Feature"
           },
           {
            "bbox": [
             -0.892284,
             47.048385,
             -0.872284,
             47.068385
            ],
            "geometry": {
             "coordinates": [
              [
               [
                -0.892284,
                47.048385
               ],
               [
                -0.872284,
                47.048385
               ],
               [
                -0.872284,
                47.068385
               ],
               [
                -0.892284,
                47.068385
               ],
               [
                -0.892284,
                47.048385
               ]
              ]
             ],
             "type": "Polygon"
            },
            "id": "369",
            "properties": {},
            "type": "Feature"
           },
           {
            "bbox": [
             3.0769,
             45.764229,
             3.0969,
             45.784228999999996
            ],
            "geometry": {
             "coordinates": [
              [
               [
                3.0769,
                45.764229
               ],
               [
                3.0969,
                45.764229
               ],
               [
                3.0969,
                45.784228999999996
               ],
               [
                3.0769,
                45.784228999999996
               ],
               [
                3.0769,
                45.764229
               ]
              ]
             ],
             "type": "Polygon"
            },
            "id": "370",
            "properties": {},
            "type": "Feature"
           },
           {
            "bbox": [
             -0.582137,
             44.838186,
             -0.562137,
             44.858185999999996
            ],
            "geometry": {
             "coordinates": [
              [
               [
                -0.582137,
                44.838186
               ],
               [
                -0.562137,
                44.838186
               ],
               [
                -0.562137,
                44.858185999999996
               ],
               [
                -0.582137,
                44.858185999999996
               ],
               [
                -0.582137,
                44.838186
               ]
              ]
             ],
             "type": "Polygon"
            },
            "id": "371",
            "properties": {},
            "type": "Feature"
           },
           {
            "bbox": [
             1.08396,
             49.43499,
             1.10396,
             49.454989999999995
            ],
            "geometry": {
             "coordinates": [
              [
               [
                1.08396,
                49.43499
               ],
               [
                1.10396,
                49.43499
               ],
               [
                1.10396,
                49.454989999999995
               ],
               [
                1.08396,
                49.454989999999995
               ],
               [
                1.08396,
                49.43499
               ]
              ]
             ],
             "type": "Polygon"
            },
            "id": "372",
            "properties": {},
            "type": "Feature"
           },
           {
            "bbox": [
             1.091667,
             49.431397000000004,
             1.111667,
             49.451397
            ],
            "geometry": {
             "coordinates": [
              [
               [
                1.091667,
                49.431397000000004
               ],
               [
                1.111667,
                49.431397000000004
               ],
               [
                1.111667,
                49.451397
               ],
               [
                1.091667,
                49.451397
               ],
               [
                1.091667,
                49.431397000000004
               ]
              ]
             ],
             "type": "Polygon"
            },
            "id": "373",
            "properties": {},
            "type": "Feature"
           },
           {
            "bbox": [
             2.241197,
             50.738349,
             2.261197,
             50.758348999999995
            ],
            "geometry": {
             "coordinates": [
              [
               [
                2.241197,
                50.738349
               ],
               [
                2.261197,
                50.738349
               ],
               [
                2.261197,
                50.758348999999995
               ],
               [
                2.241197,
                50.758348999999995
               ],
               [
                2.241197,
                50.738349
               ]
              ]
             ],
             "type": "Polygon"
            },
            "id": "374",
            "properties": {},
            "type": "Feature"
           },
           {
            "bbox": [
             -0.384378,
             43.284699,
             -0.364378,
             43.304699
            ],
            "geometry": {
             "coordinates": [
              [
               [
                -0.384378,
                43.284699
               ],
               [
                -0.364378,
                43.284699
               ],
               [
                -0.364378,
                43.304699
               ],
               [
                -0.384378,
                43.304699
               ],
               [
                -0.384378,
                43.284699
               ]
              ]
             ],
             "type": "Polygon"
            },
            "id": "375",
            "properties": {},
            "type": "Feature"
           },
           {
            "bbox": [
             4.863158839477465,
             45.51955632679911,
             4.883158839477464,
             45.53955632679911
            ],
            "geometry": {
             "coordinates": [
              [
               [
                4.863158839477465,
                45.51955632679911
               ],
               [
                4.883158839477464,
                45.51955632679911
               ],
               [
                4.883158839477464,
                45.53955632679911
               ],
               [
                4.863158839477465,
                45.53955632679911
               ],
               [
                4.863158839477465,
                45.51955632679911
               ]
              ]
             ],
             "type": "Polygon"
            },
            "id": "376",
            "properties": {},
            "type": "Feature"
           },
           {
            "bbox": [
             -1.684981,
             48.099837,
             -1.664981,
             48.119837
            ],
            "geometry": {
             "coordinates": [
              [
               [
                -1.684981,
                48.099837
               ],
               [
                -1.664981,
                48.099837
               ],
               [
                -1.664981,
                48.119837
               ],
               [
                -1.684981,
                48.119837
               ],
               [
                -1.684981,
                48.099837
               ]
              ]
             ],
             "type": "Polygon"
            },
            "id": "377",
            "properties": {},
            "type": "Feature"
           },
           {
            "bbox": [
             8.72795,
             41.907701,
             8.74795,
             41.927701
            ],
            "geometry": {
             "coordinates": [
              [
               [
                8.72795,
                41.907701
               ],
               [
                8.74795,
                41.907701
               ],
               [
                8.74795,
                41.927701
               ],
               [
                8.72795,
                41.927701
               ],
               [
                8.72795,
                41.907701
               ]
              ]
             ],
             "type": "Polygon"
            },
            "id": "378",
            "properties": {},
            "type": "Feature"
           },
           {
            "bbox": [
             5.351071769324869,
             43.28690491040561,
             5.371071769324868,
             43.306904910405606
            ],
            "geometry": {
             "coordinates": [
              [
               [
                5.351071769324869,
                43.28690491040561
               ],
               [
                5.371071769324868,
                43.28690491040561
               ],
               [
                5.371071769324868,
                43.306904910405606
               ],
               [
                5.351071769324869,
                43.306904910405606
               ],
               [
                5.351071769324869,
                43.28690491040561
               ]
              ]
             ],
             "type": "Polygon"
            },
            "id": "379",
            "properties": {},
            "type": "Feature"
           },
           {
            "bbox": [
             6.726489013507805,
             43.42347344413099,
             6.746489013507804,
             43.44347344413099
            ],
            "geometry": {
             "coordinates": [
              [
               [
                6.726489013507805,
                43.42347344413099
               ],
               [
                6.746489013507804,
                43.42347344413099
               ],
               [
                6.746489013507804,
                43.44347344413099
               ],
               [
                6.726489013507805,
                43.44347344413099
               ],
               [
                6.726489013507805,
                43.42347344413099
               ]
              ]
             ],
             "type": "Polygon"
            },
            "id": "380",
            "properties": {},
            "type": "Feature"
           },
           {
            "bbox": [
             5.094363,
             43.63095,
             5.114363,
             43.650949999999995
            ],
            "geometry": {
             "coordinates": [
              [
               [
                5.094363,
                43.63095
               ],
               [
                5.114363,
                43.63095
               ],
               [
                5.114363,
                43.650949999999995
               ],
               [
                5.094363,
                43.650949999999995
               ],
               [
                5.094363,
                43.63095
               ]
              ]
             ],
             "type": "Polygon"
            },
            "id": "381",
            "properties": {},
            "type": "Feature"
           },
           {
            "bbox": [
             2.704321,
             48.250312,
             2.724321,
             48.270312
            ],
            "geometry": {
             "coordinates": [
              [
               [
                2.704321,
                48.250312
               ],
               [
                2.724321,
                48.250312
               ],
               [
                2.724321,
                48.270312
               ],
               [
                2.704321,
                48.270312
               ],
               [
                2.704321,
                48.250312
               ]
              ]
             ],
             "type": "Polygon"
            },
            "id": "382",
            "properties": {},
            "type": "Feature"
           },
           {
            "bbox": [
             -52.33837,
             4.93156,
             -52.31837,
             4.95156
            ],
            "geometry": {
             "coordinates": [
              [
               [
                -52.33837,
                4.93156
               ],
               [
                -52.31837,
                4.93156
               ],
               [
                -52.31837,
                4.95156
               ],
               [
                -52.33837,
                4.95156
               ],
               [
                -52.33837,
                4.93156
               ]
              ]
             ],
             "type": "Polygon"
            },
            "id": "383",
            "properties": {},
            "type": "Feature"
           },
           {
            "bbox": [
             7.302824,
             47.722372,
             7.322824,
             47.742371999999996
            ],
            "geometry": {
             "coordinates": [
              [
               [
                7.302824,
                47.722372
               ],
               [
                7.322824,
                47.722372
               ],
               [
                7.322824,
                47.742371999999996
               ],
               [
                7.302824,
                47.742371999999996
               ],
               [
                7.302824,
                47.722372
               ]
              ]
             ],
             "type": "Polygon"
            },
            "id": "384",
            "properties": {},
            "type": "Feature"
           },
           {
            "bbox": [
             1.34188,
             44.007091,
             1.36188,
             44.027091
            ],
            "geometry": {
             "coordinates": [
              [
               [
                1.34188,
                44.007091
               ],
               [
                1.36188,
                44.007091
               ],
               [
                1.36188,
                44.027091
               ],
               [
                1.34188,
                44.027091
               ],
               [
                1.34188,
                44.007091
               ]
              ]
             ],
             "type": "Polygon"
            },
            "id": "385",
            "properties": {},
            "type": "Feature"
           },
           {
            "bbox": [
             4.822266,
             43.778801,
             4.842266,
             43.798801
            ],
            "geometry": {
             "coordinates": [
              [
               [
                4.822266,
                43.778801
               ],
               [
                4.842266,
                43.778801
               ],
               [
                4.842266,
                43.798801
               ],
               [
                4.822266,
                43.798801
               ],
               [
                4.822266,
                43.778801
               ]
              ]
             ],
             "type": "Polygon"
            },
            "id": "386",
            "properties": {},
            "type": "Feature"
           },
           {
            "bbox": [
             4.821492,
             45.750912,
             4.841492,
             45.770911999999996
            ],
            "geometry": {
             "coordinates": [
              [
               [
                4.821492,
                45.750912
               ],
               [
                4.841492,
                45.750912
               ],
               [
                4.841492,
                45.770911999999996
               ],
               [
                4.821492,
                45.770911999999996
               ],
               [
                4.821492,
                45.750912
               ]
              ]
             ],
             "type": "Polygon"
            },
            "id": "387",
            "properties": {},
            "type": "Feature"
           },
           {
            "bbox": [
             5.718083,
             45.181481000000005,
             5.738083,
             45.201481
            ],
            "geometry": {
             "coordinates": [
              [
               [
                5.718083,
                45.181481000000005
               ],
               [
                5.738083,
                45.181481000000005
               ],
               [
                5.738083,
                45.201481
               ],
               [
                5.718083,
                45.201481
               ],
               [
                5.718083,
                45.181481000000005
               ]
              ]
             ],
             "type": "Polygon"
            },
            "id": "388",
            "properties": {},
            "type": "Feature"
           },
           {
            "bbox": [
             7.739714,
             48.570579,
             7.759714,
             48.590579
            ],
            "geometry": {
             "coordinates": [
              [
               [
                7.739714,
                48.570579
               ],
               [
                7.759714,
                48.570579
               ],
               [
                7.759714,
                48.590579
               ],
               [
                7.739714,
                48.590579
               ],
               [
                7.739714,
                48.570579
               ]
              ]
             ],
             "type": "Polygon"
            },
            "id": "389",
            "properties": {},
            "type": "Feature"
           },
           {
            "bbox": [
             0.338113,
             46.570584000000004,
             0.358113,
             46.590584
            ],
            "geometry": {
             "coordinates": [
              [
               [
                0.338113,
                46.570584000000004
               ],
               [
                0.358113,
                46.570584000000004
               ],
               [
                0.358113,
                46.590584
               ],
               [
                0.338113,
                46.590584
               ],
               [
                0.338113,
                46.570584000000004
               ]
              ]
             ],
             "type": "Polygon"
            },
            "id": "390",
            "properties": {},
            "type": "Feature"
           },
           {
            "bbox": [
             2.30883,
             48.833017000000005,
             2.32883,
             48.853017
            ],
            "geometry": {
             "coordinates": [
              [
               [
                2.30883,
                48.833017000000005
               ],
               [
                2.32883,
                48.833017000000005
               ],
               [
                2.32883,
                48.853017
               ],
               [
                2.30883,
                48.853017
               ],
               [
                2.30883,
                48.833017000000005
               ]
              ]
             ],
             "type": "Polygon"
            },
            "id": "391",
            "properties": {},
            "type": "Feature"
           },
           {
            "bbox": [
             4.617903,
             43.669186,
             4.637903,
             43.689186
            ],
            "geometry": {
             "coordinates": [
              [
               [
                4.617903,
                43.669186
               ],
               [
                4.637903,
                43.669186
               ],
               [
                4.637903,
                43.689186
               ],
               [
                4.617903,
                43.689186
               ],
               [
                4.617903,
                43.669186
               ]
              ]
             ],
             "type": "Polygon"
            },
            "id": "392",
            "properties": {},
            "type": "Feature"
           },
           {
            "bbox": [
             1.741522,
             45.250441,
             1.761522,
             45.270441
            ],
            "geometry": {
             "coordinates": [
              [
               [
                1.741522,
                45.250441
               ],
               [
                1.761522,
                45.250441
               ],
               [
                1.761522,
                45.270441
               ],
               [
                1.741522,
                45.270441
               ],
               [
                1.741522,
                45.250441
               ]
              ]
             ],
             "type": "Polygon"
            },
            "id": "393",
            "properties": {},
            "type": "Feature"
           },
           {
            "bbox": [
             2.28771,
             48.851511,
             2.30771,
             48.871511
            ],
            "geometry": {
             "coordinates": [
              [
               [
                2.28771,
                48.851511
               ],
               [
                2.30771,
                48.851511
               ],
               [
                2.30771,
                48.871511
               ],
               [
                2.28771,
                48.871511
               ],
               [
                2.28771,
                48.851511
               ]
              ]
             ],
             "type": "Polygon"
            },
            "id": "394",
            "properties": {},
            "type": "Feature"
           },
           {
            "bbox": [
             5.384121,
             43.295143,
             5.404121,
             43.315143
            ],
            "geometry": {
             "coordinates": [
              [
               [
                5.384121,
                43.295143
               ],
               [
                5.404121,
                43.295143
               ],
               [
                5.404121,
                43.315143
               ],
               [
                5.384121,
                43.315143
               ],
               [
                5.384121,
                43.295143
               ]
              ]
             ],
             "type": "Polygon"
            },
            "id": "395",
            "properties": {},
            "type": "Feature"
           },
           {
            "bbox": [
             2.5579787878647,
             44.34313045450826,
             2.5779787878647,
             44.36313045450826
            ],
            "geometry": {
             "coordinates": [
              [
               [
                2.5579787878647,
                44.34313045450826
               ],
               [
                2.5779787878647,
                44.34313045450826
               ],
               [
                2.5779787878647,
                44.36313045450826
               ],
               [
                2.5579787878647,
                44.36313045450826
               ],
               [
                2.5579787878647,
                44.34313045450826
               ]
              ]
             ],
             "type": "Polygon"
            },
            "id": "396",
            "properties": {},
            "type": "Feature"
           },
           {
            "bbox": [
             5.384041457684138,
             43.294718637876635,
             5.404041457684137,
             43.31471863787663
            ],
            "geometry": {
             "coordinates": [
              [
               [
                5.384041457684138,
                43.294718637876635
               ],
               [
                5.404041457684137,
                43.294718637876635
               ],
               [
                5.404041457684137,
                43.31471863787663
               ],
               [
                5.384041457684138,
                43.31471863787663
               ],
               [
                5.384041457684138,
                43.294718637876635
               ]
              ]
             ],
             "type": "Polygon"
            },
            "id": "397",
            "properties": {},
            "type": "Feature"
           },
           {
            "bbox": [
             -5.138812,
             48.448998,
             -5.118812,
             48.468998
            ],
            "geometry": {
             "coordinates": [
              [
               [
                -5.138812,
                48.448998
               ],
               [
                -5.118812,
                48.448998
               ],
               [
                -5.118812,
                48.468998
               ],
               [
                -5.138812,
                48.468998
               ],
               [
                -5.138812,
                48.448998
               ]
              ]
             ],
             "type": "Polygon"
            },
            "id": "398",
            "properties": {},
            "type": "Feature"
           },
           {
            "bbox": [
             2.089776,
             49.040929,
             2.109776,
             49.060928999999994
            ],
            "geometry": {
             "coordinates": [
              [
               [
                2.089776,
                49.040929
               ],
               [
                2.109776,
                49.040929
               ],
               [
                2.109776,
                49.060928999999994
               ],
               [
                2.089776,
                49.060928999999994
               ],
               [
                2.089776,
                49.040929
               ]
              ]
             ],
             "type": "Polygon"
            },
            "id": "399",
            "properties": {},
            "type": "Feature"
           },
           {
            "bbox": [
             2.330376,
             48.820264,
             2.350376,
             48.840264
            ],
            "geometry": {
             "coordinates": [
              [
               [
                2.330376,
                48.820264
               ],
               [
                2.350376,
                48.820264
               ],
               [
                2.350376,
                48.840264
               ],
               [
                2.330376,
                48.840264
               ],
               [
                2.330376,
                48.820264
               ]
              ]
             ],
             "type": "Polygon"
            },
            "id": "400",
            "properties": {},
            "type": "Feature"
           },
           {
            "bbox": [
             1.480983,
             48.431822000000004,
             1.500983,
             48.451822
            ],
            "geometry": {
             "coordinates": [
              [
               [
                1.480983,
                48.431822000000004
               ],
               [
                1.500983,
                48.431822000000004
               ],
               [
                1.500983,
                48.451822
               ],
               [
                1.480983,
                48.451822
               ],
               [
                1.480983,
                48.431822000000004
               ]
              ]
             ],
             "type": "Polygon"
            },
            "id": "401",
            "properties": {},
            "type": "Feature"
           },
           {
            "bbox": [
             4.785333,
             43.734256,
             4.805333,
             43.754256
            ],
            "geometry": {
             "coordinates": [
              [
               [
                4.785333,
                43.734256
               ],
               [
                4.805333,
                43.734256
               ],
               [
                4.805333,
                43.754256
               ],
               [
                4.785333,
                43.754256
               ],
               [
                4.785333,
                43.734256
               ]
              ]
             ],
             "type": "Polygon"
            },
            "id": "402",
            "properties": {},
            "type": "Feature"
           },
           {
            "bbox": [
             -5.120775,
             48.450549,
             -5.100775,
             48.470549
            ],
            "geometry": {
             "coordinates": [
              [
               [
                -5.120775,
                48.450549
               ],
               [
                -5.100775,
                48.450549
               ],
               [
                -5.100775,
                48.470549
               ],
               [
                -5.120775,
                48.470549
               ],
               [
                -5.120775,
                48.450549
               ]
              ]
             ],
             "type": "Polygon"
            },
            "id": "403",
            "properties": {},
            "type": "Feature"
           },
           {
            "bbox": [
             2.821490934564087,
             49.40943864456635,
             2.841490934564086,
             49.429438644566346
            ],
            "geometry": {
             "coordinates": [
              [
               [
                2.821490934564087,
                49.40943864456635
               ],
               [
                2.841490934564086,
                49.40943864456635
               ],
               [
                2.841490934564086,
                49.429438644566346
               ],
               [
                2.821490934564087,
                49.429438644566346
               ],
               [
                2.821490934564087,
                49.40943864456635
               ]
              ]
             ],
             "type": "Polygon"
            },
            "id": "404",
            "properties": {},
            "type": "Feature"
           },
           {
            "bbox": [
             -1.635439,
             49.628452,
             -1.615439,
             49.648452
            ],
            "geometry": {
             "coordinates": [
              [
               [
                -1.635439,
                49.628452
               ],
               [
                -1.615439,
                49.628452
               ],
               [
                -1.615439,
                49.648452
               ],
               [
                -1.635439,
                49.648452
               ],
               [
                -1.635439,
                49.628452
               ]
              ]
             ],
             "type": "Polygon"
            },
            "id": "405",
            "properties": {},
            "type": "Feature"
           },
           {
            "bbox": [
             4.611051,
             44.154822,
             4.631050999999999,
             44.174822
            ],
            "geometry": {
             "coordinates": [
              [
               [
                4.611051,
                44.154822
               ],
               [
                4.631050999999999,
                44.154822
               ],
               [
                4.631050999999999,
                44.174822
               ],
               [
                4.611051,
                44.174822
               ],
               [
                4.611051,
                44.154822
               ]
              ]
             ],
             "type": "Polygon"
            },
            "id": "406",
            "properties": {},
            "type": "Feature"
           },
           {
            "bbox": [
             -1.574652,
             47.202385,
             -1.554652,
             47.222384999999996
            ],
            "geometry": {
             "coordinates": [
              [
               [
                -1.574652,
                47.202385
               ],
               [
                -1.554652,
                47.202385
               ],
               [
                -1.554652,
                47.222384999999996
               ],
               [
                -1.574652,
                47.222384999999996
               ],
               [
                -1.574652,
                47.202385
               ]
              ]
             ],
             "type": "Polygon"
            },
            "id": "407",
            "properties": {},
            "type": "Feature"
           },
           {
            "bbox": [
             6.205554,
             48.655792000000005,
             6.225554,
             48.675792
            ],
            "geometry": {
             "coordinates": [
              [
               [
                6.205554,
                48.655792000000005
               ],
               [
                6.225554,
                48.655792000000005
               ],
               [
                6.225554,
                48.675792
               ],
               [
                6.205554,
                48.675792
               ],
               [
                6.205554,
                48.655792000000005
               ]
              ]
             ],
             "type": "Polygon"
            },
            "id": "408",
            "properties": {},
            "type": "Feature"
           },
           {
            "bbox": [
             5.251603,
             46.872980000000005,
             5.271603,
             46.89298
            ],
            "geometry": {
             "coordinates": [
              [
               [
                5.251603,
                46.872980000000005
               ],
               [
                5.271603,
                46.872980000000005
               ],
               [
                5.271603,
                46.89298
               ],
               [
                5.251603,
                46.89298
               ],
               [
                5.251603,
                46.872980000000005
               ]
              ]
             ],
             "type": "Polygon"
            },
            "id": "409",
            "properties": {},
            "type": "Feature"
           },
           {
            "bbox": [
             2.271879,
             48.852323000000005,
             2.291879,
             48.872323
            ],
            "geometry": {
             "coordinates": [
              [
               [
                2.271879,
                48.852323000000005
               ],
               [
                2.291879,
                48.852323000000005
               ],
               [
                2.291879,
                48.872323
               ],
               [
                2.271879,
                48.872323
               ],
               [
                2.271879,
                48.852323000000005
               ]
              ]
             ],
             "type": "Polygon"
            },
            "id": "410",
            "properties": {},
            "type": "Feature"
           },
           {
            "bbox": [
             2.236847,
             48.834261000000005,
             2.256847,
             48.854261
            ],
            "geometry": {
             "coordinates": [
              [
               [
                2.236847,
                48.834261000000005
               ],
               [
                2.256847,
                48.834261000000005
               ],
               [
                2.256847,
                48.854261
               ],
               [
                2.236847,
                48.854261
               ],
               [
                2.236847,
                48.834261000000005
               ]
              ]
             ],
             "type": "Polygon"
            },
            "id": "411",
            "properties": {},
            "type": "Feature"
           },
           {
            "bbox": [
             1.88408,
             43.88944,
             1.90408,
             43.90944
            ],
            "geometry": {
             "coordinates": [
              [
               [
                1.88408,
                43.88944
               ],
               [
                1.90408,
                43.88944
               ],
               [
                1.90408,
                43.90944
               ],
               [
                1.88408,
                43.90944
               ],
               [
                1.88408,
                43.88944
               ]
              ]
             ],
             "type": "Polygon"
            },
            "id": "412",
            "properties": {},
            "type": "Feature"
           },
           {
            "bbox": [
             7.493564,
             43.766334,
             7.513564,
             43.786334
            ],
            "geometry": {
             "coordinates": [
              [
               [
                7.493564,
                43.766334
               ],
               [
                7.513564,
                43.766334
               ],
               [
                7.513564,
                43.786334
               ],
               [
                7.493564,
                43.786334
               ],
               [
                7.493564,
                43.766334
               ]
              ]
             ],
             "type": "Polygon"
            },
            "id": "413",
            "properties": {},
            "type": "Feature"
           },
           {
            "bbox": [
             4.863538,
             45.516967,
             4.883538,
             45.536967
            ],
            "geometry": {
             "coordinates": [
              [
               [
                4.863538,
                45.516967
               ],
               [
                4.883538,
                45.516967
               ],
               [
                4.883538,
                45.536967
               ],
               [
                4.863538,
                45.536967
               ],
               [
                4.863538,
                45.516967
               ]
              ]
             ],
             "type": "Polygon"
            },
            "id": "414",
            "properties": {},
            "type": "Feature"
           },
           {
            "bbox": [
             3.221397169508298,
             50.16317988093964,
             3.241397169508298,
             50.18317988093963
            ],
            "geometry": {
             "coordinates": [
              [
               [
                3.221397169508298,
                50.16317988093964
               ],
               [
                3.241397169508298,
                50.16317988093964
               ],
               [
                3.241397169508298,
                50.18317988093963
               ],
               [
                3.221397169508298,
                50.18317988093963
               ],
               [
                3.221397169508298,
                50.16317988093964
               ]
              ]
             ],
             "type": "Polygon"
            },
            "id": "415",
            "properties": {},
            "type": "Feature"
           },
           {
            "bbox": [
             2.261279,
             48.890998,
             2.281279,
             48.910998
            ],
            "geometry": {
             "coordinates": [
              [
               [
                2.261279,
                48.890998
               ],
               [
                2.281279,
                48.890998
               ],
               [
                2.281279,
                48.910998
               ],
               [
                2.261279,
                48.910998
               ],
               [
                2.261279,
                48.890998
               ]
              ]
             ],
             "type": "Polygon"
            },
            "id": "416",
            "properties": {},
            "type": "Feature"
           },
           {
            "bbox": [
             0.092188,
             49.474796000000005,
             0.112188,
             49.494796
            ],
            "geometry": {
             "coordinates": [
              [
               [
                0.092188,
                49.474796000000005
               ],
               [
                0.112188,
                49.474796000000005
               ],
               [
                0.112188,
                49.494796
               ],
               [
                0.092188,
                49.494796
               ],
               [
                0.092188,
                49.474796000000005
               ]
              ]
             ],
             "type": "Polygon"
            },
            "id": "417",
            "properties": {},
            "type": "Feature"
           },
           {
            "bbox": [
             6.787684,
             47.499957,
             6.807684,
             47.519957
            ],
            "geometry": {
             "coordinates": [
              [
               [
                6.787684,
                47.499957
               ],
               [
                6.807684,
                47.499957
               ],
               [
                6.807684,
                47.519957
               ],
               [
                6.787684,
                47.519957
               ],
               [
                6.787684,
                47.499957
               ]
              ]
             ],
             "type": "Polygon"
            },
            "id": "418",
            "properties": {},
            "type": "Feature"
           },
           {
            "bbox": [
             0.71058,
             49.514671,
             0.73058,
             49.534670999999996
            ],
            "geometry": {
             "coordinates": [
              [
               [
                0.71058,
                49.514671
               ],
               [
                0.73058,
                49.514671
               ],
               [
                0.73058,
                49.534670999999996
               ],
               [
                0.71058,
                49.534670999999996
               ],
               [
                0.71058,
                49.514671
               ]
              ]
             ],
             "type": "Polygon"
            },
            "id": "419",
            "properties": {},
            "type": "Feature"
           },
           {
            "bbox": [
             -61.547737,
             16.227697,
             -61.527737,
             16.247697000000002
            ],
            "geometry": {
             "coordinates": [
              [
               [
                -61.547737,
                16.227697
               ],
               [
                -61.527737,
                16.227697
               ],
               [
                -61.527737,
                16.247697000000002
               ],
               [
                -61.547737,
                16.247697000000002
               ],
               [
                -61.547737,
                16.227697
               ]
              ]
             ],
             "type": "Polygon"
            },
            "id": "420",
            "properties": {},
            "type": "Feature"
           },
           {
            "bbox": [
             4.068036,
             48.288985000000004,
             4.088036,
             48.308985
            ],
            "geometry": {
             "coordinates": [
              [
               [
                4.068036,
                48.288985000000004
               ],
               [
                4.088036,
                48.288985000000004
               ],
               [
                4.088036,
                48.308985
               ],
               [
                4.068036,
                48.308985
               ],
               [
                4.068036,
                48.288985000000004
               ]
              ]
             ],
             "type": "Polygon"
            },
            "id": "421",
            "properties": {},
            "type": "Feature"
           },
           {
            "bbox": [
             5.028553,
             43.826842,
             5.048553,
             43.846841999999995
            ],
            "geometry": {
             "coordinates": [
              [
               [
                5.028553,
                43.826842
               ],
               [
                5.048553,
                43.826842
               ],
               [
                5.048553,
                43.846841999999995
               ],
               [
                5.028553,
                43.846841999999995
               ],
               [
                5.028553,
                43.826842
               ]
              ]
             ],
             "type": "Polygon"
            },
            "id": "422",
            "properties": {},
            "type": "Feature"
           },
           {
            "bbox": [
             4.786403,
             43.955433,
             4.806403,
             43.975432999999995
            ],
            "geometry": {
             "coordinates": [
              [
               [
                4.786403,
                43.955433
               ],
               [
                4.806403,
                43.955433
               ],
               [
                4.806403,
                43.975432999999995
               ],
               [
                4.786403,
                43.975432999999995
               ],
               [
                4.786403,
                43.955433
               ]
              ]
             ],
             "type": "Polygon"
            },
            "id": "423",
            "properties": {},
            "type": "Feature"
           },
           {
            "bbox": [
             -1.161552,
             46.151969,
             -1.141552,
             46.171969
            ],
            "geometry": {
             "coordinates": [
              [
               [
                -1.161552,
                46.151969
               ],
               [
                -1.141552,
                46.151969
               ],
               [
                -1.141552,
                46.171969
               ],
               [
                -1.161552,
                46.171969
               ],
               [
                -1.161552,
                46.151969
               ]
              ]
             ],
             "type": "Polygon"
            },
            "id": "424",
            "properties": {},
            "type": "Feature"
           },
           {
            "bbox": [
             2.581845,
             48.86766,
             2.601845,
             48.88766
            ],
            "geometry": {
             "coordinates": [
              [
               [
                2.581845,
                48.86766
               ],
               [
                2.601845,
                48.86766
               ],
               [
                2.601845,
                48.88766
               ],
               [
                2.581845,
                48.88766
               ],
               [
                2.581845,
                48.86766
               ]
              ]
             ],
             "type": "Polygon"
            },
            "id": "425",
            "properties": {},
            "type": "Feature"
           },
           {
            "bbox": [
             4.82153,
             45.74342,
             4.84153,
             45.763419999999996
            ],
            "geometry": {
             "coordinates": [
              [
               [
                4.82153,
                45.74342
               ],
               [
                4.84153,
                45.74342
               ],
               [
                4.84153,
                45.763419999999996
               ],
               [
                4.82153,
                45.763419999999996
               ],
               [
                4.82153,
                45.74342
               ]
              ]
             ],
             "type": "Polygon"
            },
            "id": "426",
            "properties": {},
            "type": "Feature"
           },
           {
            "bbox": [
             2.325679,
             48.844434,
             2.345679,
             48.864433999999996
            ],
            "geometry": {
             "coordinates": [
              [
               [
                2.325679,
                48.844434
               ],
               [
                2.345679,
                48.844434
               ],
               [
                2.345679,
                48.864433999999996
               ],
               [
                2.325679,
                48.864433999999996
               ],
               [
                2.325679,
                48.844434
               ]
              ]
             ],
             "type": "Polygon"
            },
            "id": "427",
            "properties": {},
            "type": "Feature"
           },
           {
            "bbox": [
             -0.78221,
             48.058652,
             -0.76221,
             48.078652
            ],
            "geometry": {
             "coordinates": [
              [
               [
                -0.78221,
                48.058652
               ],
               [
                -0.76221,
                48.058652
               ],
               [
                -0.76221,
                48.078652
               ],
               [
                -0.78221,
                48.078652
               ],
               [
                -0.78221,
                48.058652
               ]
              ]
             ],
             "type": "Polygon"
            },
            "id": "428",
            "properties": {},
            "type": "Feature"
           },
           {
            "bbox": [
             2.31192,
             48.8735,
             2.33192,
             48.893499999999996
            ],
            "geometry": {
             "coordinates": [
              [
               [
                2.31192,
                48.8735
               ],
               [
                2.33192,
                48.8735
               ],
               [
                2.33192,
                48.893499999999996
               ],
               [
                2.31192,
                48.893499999999996
               ],
               [
                2.31192,
                48.8735
               ]
              ]
             ],
             "type": "Polygon"
            },
            "id": "429",
            "properties": {},
            "type": "Feature"
           },
           {
            "bbox": [
             -0.637956,
             45.731605,
             -0.617956,
             45.751605
            ],
            "geometry": {
             "coordinates": [
              [
               [
                -0.637956,
                45.731605
               ],
               [
                -0.617956,
                45.731605
               ],
               [
                -0.617956,
                45.751605
               ],
               [
                -0.637956,
                45.751605
               ],
               [
                -0.637956,
                45.731605
               ]
              ]
             ],
             "type": "Polygon"
            },
            "id": "430",
            "properties": {},
            "type": "Feature"
           },
           {
            "bbox": [
             2.32167,
             48.835748,
             2.34167,
             48.855748
            ],
            "geometry": {
             "coordinates": [
              [
               [
                2.32167,
                48.835748
               ],
               [
                2.34167,
                48.835748
               ],
               [
                2.34167,
                48.855748
               ],
               [
                2.32167,
                48.855748
               ],
               [
                2.32167,
                48.835748
               ]
              ]
             ],
             "type": "Polygon"
            },
            "id": "431",
            "properties": {},
            "type": "Feature"
           },
           {
            "bbox": [
             2.345608,
             48.850950000000005,
             2.365608,
             48.87095
            ],
            "geometry": {
             "coordinates": [
              [
               [
                2.345608,
                48.850950000000005
               ],
               [
                2.365608,
                48.850950000000005
               ],
               [
                2.365608,
                48.87095
               ],
               [
                2.345608,
                48.87095
               ],
               [
                2.345608,
                48.850950000000005
               ]
              ]
             ],
             "type": "Polygon"
            },
            "id": "432",
            "properties": {},
            "type": "Feature"
           },
           {
            "bbox": [
             -0.567052,
             47.467759,
             -0.547052,
             47.487759
            ],
            "geometry": {
             "coordinates": [
              [
               [
                -0.567052,
                47.467759
               ],
               [
                -0.547052,
                47.467759
               ],
               [
                -0.547052,
                47.487759
               ],
               [
                -0.567052,
                47.487759
               ],
               [
                -0.567052,
                47.467759
               ]
              ]
             ],
             "type": "Polygon"
            },
            "id": "433",
            "properties": {},
            "type": "Feature"
           },
           {
            "bbox": [
             5.127331,
             48.102482,
             5.147330999999999,
             48.122482
            ],
            "geometry": {
             "coordinates": [
              [
               [
                5.127331,
                48.102482
               ],
               [
                5.147330999999999,
                48.102482
               ],
               [
                5.147330999999999,
                48.122482
               ],
               [
                5.127331,
                48.122482
               ],
               [
                5.127331,
                48.102482
               ]
              ]
             ],
             "type": "Polygon"
            },
            "id": "434",
            "properties": {},
            "type": "Feature"
           },
           {
            "bbox": [
             1.899578,
             47.897734,
             1.919578,
             47.917733999999996
            ],
            "geometry": {
             "coordinates": [
              [
               [
                1.899578,
                47.897734
               ],
               [
                1.919578,
                47.897734
               ],
               [
                1.919578,
                47.917733999999996
               ],
               [
                1.899578,
                47.917733999999996
               ],
               [
                1.899578,
                47.897734
               ]
              ]
             ],
             "type": "Polygon"
            },
            "id": "435",
            "properties": {},
            "type": "Feature"
           },
           {
            "bbox": [
             0.676457,
             47.38627,
             0.696457,
             47.40627
            ],
            "geometry": {
             "coordinates": [
              [
               [
                0.676457,
                47.38627
               ],
               [
                0.696457,
                47.38627
               ],
               [
                0.696457,
                47.40627
               ],
               [
                0.676457,
                47.40627
               ],
               [
                0.676457,
                47.38627
               ]
              ]
             ],
             "type": "Polygon"
            },
            "id": "436",
            "properties": {},
            "type": "Feature"
           },
           {
            "bbox": [
             7.740484,
             48.569075000000005,
             7.760484,
             48.589075
            ],
            "geometry": {
             "coordinates": [
              [
               [
                7.740484,
                48.569075000000005
               ],
               [
                7.760484,
                48.569075000000005
               ],
               [
                7.760484,
                48.589075
               ],
               [
                7.740484,
                48.589075
               ],
               [
                7.740484,
                48.569075000000005
               ]
              ]
             ],
             "type": "Polygon"
            },
            "id": "437",
            "properties": {},
            "type": "Feature"
           },
           {
            "bbox": [
             5.027862,
             43.826985,
             5.047861999999999,
             43.846985
            ],
            "geometry": {
             "coordinates": [
              [
               [
                5.027862,
                43.826985
               ],
               [
                5.047861999999999,
                43.826985
               ],
               [
                5.047861999999999,
                43.846985
               ],
               [
                5.027862,
                43.846985
               ],
               [
                5.027862,
                43.826985
               ]
              ]
             ],
             "type": "Polygon"
            },
            "id": "438",
            "properties": {},
            "type": "Feature"
           },
           {
            "bbox": [
             4.377485,
             45.421538000000005,
             4.397485,
             45.441538
            ],
            "geometry": {
             "coordinates": [
              [
               [
                4.377485,
                45.421538000000005
               ],
               [
                4.397485,
                45.421538000000005
               ],
               [
                4.397485,
                45.441538
               ],
               [
                4.377485,
                45.441538
               ],
               [
                4.377485,
                45.421538000000005
               ]
              ]
             ],
             "type": "Polygon"
            },
            "id": "439",
            "properties": {},
            "type": "Feature"
           },
           {
            "bbox": [
             0.984671,
             47.118196000000005,
             1.004671,
             47.138196
            ],
            "geometry": {
             "coordinates": [
              [
               [
                0.984671,
                47.118196000000005
               ],
               [
                1.004671,
                47.118196000000005
               ],
               [
                1.004671,
                47.138196
               ],
               [
                0.984671,
                47.138196
               ],
               [
                0.984671,
                47.118196000000005
               ]
              ]
             ],
             "type": "Polygon"
            },
            "id": "440",
            "properties": {},
            "type": "Feature"
           },
           {
            "bbox": [
             7.779527,
             48.804611,
             7.799526999999999,
             48.824611
            ],
            "geometry": {
             "coordinates": [
              [
               [
                7.779527,
                48.804611
               ],
               [
                7.799526999999999,
                48.804611
               ],
               [
                7.799526999999999,
                48.824611
               ],
               [
                7.779527,
                48.824611
               ],
               [
                7.779527,
                48.804611
               ]
              ]
             ],
             "type": "Polygon"
            },
            "id": "441",
            "properties": {},
            "type": "Feature"
           },
           {
            "bbox": [
             6.911091,
             43.646739000000004,
             6.931090999999999,
             43.666739
            ],
            "geometry": {
             "coordinates": [
              [
               [
                6.911091,
                43.646739000000004
               ],
               [
                6.931090999999999,
                43.646739000000004
               ],
               [
                6.931090999999999,
                43.666739
               ],
               [
                6.911091,
                43.666739
               ],
               [
                6.911091,
                43.646739000000004
               ]
              ]
             ],
             "type": "Polygon"
            },
            "id": "442",
            "properties": {},
            "type": "Feature"
           },
           {
            "bbox": [
             5.033978,
             47.31122,
             5.053978,
             47.331219999999995
            ],
            "geometry": {
             "coordinates": [
              [
               [
                5.033978,
                47.31122
               ],
               [
                5.053978,
                47.31122
               ],
               [
                5.053978,
                47.331219999999995
               ],
               [
                5.033978,
                47.331219999999995
               ],
               [
                5.033978,
                47.31122
               ]
              ]
             ],
             "type": "Polygon"
            },
            "id": "443",
            "properties": {},
            "type": "Feature"
           },
           {
            "bbox": [
             5.024107,
             47.311873,
             5.044107,
             47.331872999999995
            ],
            "geometry": {
             "coordinates": [
              [
               [
                5.024107,
                47.311873
               ],
               [
                5.044107,
                47.311873
               ],
               [
                5.044107,
                47.331872999999995
               ],
               [
                5.024107,
                47.331872999999995
               ],
               [
                5.024107,
                47.311873
               ]
              ]
             ],
             "type": "Polygon"
            },
            "id": "444",
            "properties": {},
            "type": "Feature"
           },
           {
            "bbox": [
             0.327972,
             46.570602,
             0.347972,
             46.590602
            ],
            "geometry": {
             "coordinates": [
              [
               [
                0.327972,
                46.570602
               ],
               [
                0.347972,
                46.570602
               ],
               [
                0.347972,
                46.590602
               ],
               [
                0.327972,
                46.590602
               ],
               [
                0.327972,
                46.570602
               ]
              ]
             ],
             "type": "Polygon"
            },
            "id": "445",
            "properties": {},
            "type": "Feature"
           },
           {
            "bbox": [
             0.223625,
             49.409863,
             0.243625,
             49.429863
            ],
            "geometry": {
             "coordinates": [
              [
               [
                0.223625,
                49.409863
               ],
               [
                0.243625,
                49.409863
               ],
               [
                0.243625,
                49.429863
               ],
               [
                0.223625,
                49.429863
               ],
               [
                0.223625,
                49.409863
               ]
              ]
             ],
             "type": "Polygon"
            },
            "id": "446",
            "properties": {},
            "type": "Feature"
           },
           {
            "bbox": [
             -1.165429,
             46.150752000000004,
             -1.145429,
             46.170752
            ],
            "geometry": {
             "coordinates": [
              [
               [
                -1.165429,
                46.150752000000004
               ],
               [
                -1.145429,
                46.150752000000004
               ],
               [
                -1.145429,
                46.170752
               ],
               [
                -1.165429,
                46.170752
               ],
               [
                -1.165429,
                46.150752000000004
               ]
              ]
             ],
             "type": "Polygon"
            },
            "id": "447",
            "properties": {},
            "type": "Feature"
           },
           {
            "bbox": [
             -0.255068,
             44.904487,
             -0.235068,
             44.924487
            ],
            "geometry": {
             "coordinates": [
              [
               [
                -0.255068,
                44.904487
               ],
               [
                -0.235068,
                44.904487
               ],
               [
                -0.235068,
                44.924487
               ],
               [
                -0.255068,
                44.924487
               ],
               [
                -0.255068,
                44.904487
               ]
              ]
             ],
             "type": "Polygon"
            },
            "id": "448",
            "properties": {},
            "type": "Feature"
           },
           {
            "bbox": [
             -1.626324,
             49.620736,
             -1.606324,
             49.640736
            ],
            "geometry": {
             "coordinates": [
              [
               [
                -1.626324,
                49.620736
               ],
               [
                -1.606324,
                49.620736
               ],
               [
                -1.606324,
                49.640736
               ],
               [
                -1.626324,
                49.640736
               ],
               [
                -1.626324,
                49.620736
               ]
              ]
             ],
             "type": "Polygon"
            },
            "id": "449",
            "properties": {},
            "type": "Feature"
           },
           {
            "bbox": [
             0.136227,
             43.053744,
             0.156227,
             43.073744
            ],
            "geometry": {
             "coordinates": [
              [
               [
                0.136227,
                43.053744
               ],
               [
                0.156227,
                43.053744
               ],
               [
                0.156227,
                43.073744
               ],
               [
                0.136227,
                43.073744
               ],
               [
                0.136227,
                43.053744
               ]
              ]
             ],
             "type": "Polygon"
            },
            "id": "450",
            "properties": {},
            "type": "Feature"
           },
           {
            "bbox": [
             3.106508,
             45.883874,
             3.126508,
             45.903873999999995
            ],
            "geometry": {
             "coordinates": [
              [
               [
                3.106508,
                45.883874
               ],
               [
                3.126508,
                45.883874
               ],
               [
                3.126508,
                45.903873999999995
               ],
               [
                3.106508,
                45.903873999999995
               ],
               [
                3.106508,
                45.883874
               ]
              ]
             ],
             "type": "Polygon"
            },
            "id": "451",
            "properties": {},
            "type": "Feature"
           },
           {
            "bbox": [
             7.146541,
             43.657649,
             7.166541,
             43.677648999999995
            ],
            "geometry": {
             "coordinates": [
              [
               [
                7.146541,
                43.657649
               ],
               [
                7.166541,
                43.657649
               ],
               [
                7.166541,
                43.677648999999995
               ],
               [
                7.146541,
                43.677648999999995
               ],
               [
                7.146541,
                43.657649
               ]
              ]
             ],
             "type": "Polygon"
            },
            "id": "452",
            "properties": {},
            "type": "Feature"
           },
           {
            "bbox": [
             6.198769,
             48.656588,
             6.218769,
             48.676587999999995
            ],
            "geometry": {
             "coordinates": [
              [
               [
                6.198769,
                48.656588
               ],
               [
                6.218769,
                48.656588
               ],
               [
                6.218769,
                48.676587999999995
               ],
               [
                6.198769,
                48.676587999999995
               ],
               [
                6.198769,
                48.656588
               ]
              ]
             ],
             "type": "Polygon"
            },
            "id": "453",
            "properties": {},
            "type": "Feature"
           },
           {
            "bbox": [
             2.593374,
             48.866820000000004,
             2.613374,
             48.88682
            ],
            "geometry": {
             "coordinates": [
              [
               [
                2.593374,
                48.866820000000004
               ],
               [
                2.613374,
                48.866820000000004
               ],
               [
                2.613374,
                48.88682
               ],
               [
                2.593374,
                48.88682
               ],
               [
                2.593374,
                48.866820000000004
               ]
              ]
             ],
             "type": "Polygon"
            },
            "id": "454",
            "properties": {},
            "type": "Feature"
           },
           {
            "bbox": [
             1.431776,
             43.598897,
             1.451776,
             43.618897
            ],
            "geometry": {
             "coordinates": [
              [
               [
                1.431776,
                43.598897
               ],
               [
                1.451776,
                43.598897
               ],
               [
                1.451776,
                43.618897
               ],
               [
                1.431776,
                43.618897
               ],
               [
                1.431776,
                43.598897
               ]
              ]
             ],
             "type": "Polygon"
            },
            "id": "455",
            "properties": {},
            "type": "Feature"
           },
           {
            "bbox": [
             1.606349,
             50.715617,
             1.626349,
             50.735617
            ],
            "geometry": {
             "coordinates": [
              [
               [
                1.606349,
                50.715617
               ],
               [
                1.626349,
                50.715617
               ],
               [
                1.626349,
                50.735617
               ],
               [
                1.606349,
                50.735617
               ],
               [
                1.606349,
                50.715617
               ]
              ]
             ],
             "type": "Polygon"
            },
            "id": "456",
            "properties": {},
            "type": "Feature"
           },
           {
            "bbox": [
             6.435992000000001,
             48.173628,
             6.455992,
             48.193628
            ],
            "geometry": {
             "coordinates": [
              [
               [
                6.435992000000001,
                48.173628
               ],
               [
                6.455992,
                48.173628
               ],
               [
                6.455992,
                48.193628
               ],
               [
                6.435992000000001,
                48.193628
               ],
               [
                6.435992000000001,
                48.173628
               ]
              ]
             ],
             "type": "Polygon"
            },
            "id": "457",
            "properties": {},
            "type": "Feature"
           },
           {
            "bbox": [
             0.70269,
             45.169999000000004,
             0.72269,
             45.189999
            ],
            "geometry": {
             "coordinates": [
              [
               [
                0.70269,
                45.169999000000004
               ],
               [
                0.72269,
                45.169999000000004
               ],
               [
                0.72269,
                45.189999
               ],
               [
                0.70269,
                45.189999
               ],
               [
                0.70269,
                45.169999000000004
               ]
              ]
             ],
             "type": "Polygon"
            },
            "id": "458",
            "properties": {},
            "type": "Feature"
           },
           {
            "bbox": [
             5.921994000000001,
             43.121242,
             5.941994,
             43.141242
            ],
            "geometry": {
             "coordinates": [
              [
               [
                5.921994000000001,
                43.121242
               ],
               [
                5.941994,
                43.121242
               ],
               [
                5.941994,
                43.141242
               ],
               [
                5.921994000000001,
                43.141242
               ],
               [
                5.921994000000001,
                43.121242
               ]
              ]
             ],
             "type": "Polygon"
            },
            "id": "459",
            "properties": {},
            "type": "Feature"
           },
           {
            "bbox": [
             5.125234,
             48.100756000000004,
             5.145233999999999,
             48.120756
            ],
            "geometry": {
             "coordinates": [
              [
               [
                5.125234,
                48.100756000000004
               ],
               [
                5.145233999999999,
                48.100756000000004
               ],
               [
                5.145233999999999,
                48.120756
               ],
               [
                5.125234,
                48.120756
               ],
               [
                5.125234,
                48.100756000000004
               ]
              ]
             ],
             "type": "Polygon"
            },
            "id": "460",
            "properties": {},
            "type": "Feature"
           },
           {
            "bbox": [
             0.684004,
             47.384698,
             0.704004,
             47.404697999999996
            ],
            "geometry": {
             "coordinates": [
              [
               [
                0.684004,
                47.384698
               ],
               [
                0.704004,
                47.384698
               ],
               [
                0.704004,
                47.404697999999996
               ],
               [
                0.684004,
                47.404697999999996
               ],
               [
                0.684004,
                47.384698
               ]
              ]
             ],
             "type": "Polygon"
            },
            "id": "461",
            "properties": {},
            "type": "Feature"
           },
           {
            "bbox": [
             4.81004,
             45.750529,
             4.830039999999999,
             45.770528999999996
            ],
            "geometry": {
             "coordinates": [
              [
               [
                4.81004,
                45.750529
               ],
               [
                4.830039999999999,
                45.750529
               ],
               [
                4.830039999999999,
                45.770528999999996
               ],
               [
                4.81004,
                45.770528999999996
               ],
               [
                4.81004,
                45.750529
               ]
              ]
             ],
             "type": "Polygon"
            },
            "id": "462",
            "properties": {},
            "type": "Feature"
           },
           {
            "bbox": [
             7.117959,
             43.570973,
             7.137959,
             43.590973
            ],
            "geometry": {
             "coordinates": [
              [
               [
                7.117959,
                43.570973
               ],
               [
                7.137959,
                43.570973
               ],
               [
                7.137959,
                43.590973
               ],
               [
                7.117959,
                43.590973
               ],
               [
                7.117959,
                43.570973
               ]
              ]
             ],
             "type": "Polygon"
            },
            "id": "463",
            "properties": {},
            "type": "Feature"
           },
           {
            "bbox": [
             1.255445,
             45.818784,
             1.275445,
             45.838784
            ],
            "geometry": {
             "coordinates": [
              [
               [
                1.255445,
                45.818784
               ],
               [
                1.275445,
                45.818784
               ],
               [
                1.275445,
                45.838784
               ],
               [
                1.255445,
                45.838784
               ],
               [
                1.255445,
                45.818784
               ]
              ]
             ],
             "type": "Polygon"
            },
            "id": "464",
            "properties": {},
            "type": "Feature"
           },
           {
            "bbox": [
             5.92011,
             45.542732,
             5.94011,
             45.562732
            ],
            "geometry": {
             "coordinates": [
              [
               [
                5.92011,
                45.542732
               ],
               [
                5.94011,
                45.542732
               ],
               [
                5.94011,
                45.562732
               ],
               [
                5.92011,
                45.562732
               ],
               [
                5.92011,
                45.542732
               ]
              ]
             ],
             "type": "Polygon"
            },
            "id": "465",
            "properties": {},
            "type": "Feature"
           },
           {
            "bbox": [
             5.032873,
             47.311356,
             5.052873,
             47.331356
            ],
            "geometry": {
             "coordinates": [
              [
               [
                5.032873,
                47.311356
               ],
               [
                5.052873,
                47.311356
               ],
               [
                5.052873,
                47.331356
               ],
               [
                5.032873,
                47.331356
               ],
               [
                5.032873,
                47.311356
               ]
              ]
             ],
             "type": "Polygon"
            },
            "id": "466",
            "properties": {},
            "type": "Feature"
           },
           {
            "bbox": [
             3.321218,
             46.55707,
             3.341218,
             46.57707
            ],
            "geometry": {
             "coordinates": [
              [
               [
                3.321218,
                46.55707
               ],
               [
                3.341218,
                46.55707
               ],
               [
                3.341218,
                46.57707
               ],
               [
                3.321218,
                46.57707
               ],
               [
                3.321218,
                46.55707
               ]
              ]
             ],
             "type": "Polygon"
            },
            "id": "467",
            "properties": {},
            "type": "Feature"
           },
           {
            "bbox": [
             7.265115000000001,
             43.709221,
             7.285115,
             43.729220999999995
            ],
            "geometry": {
             "coordinates": [
              [
               [
                7.265115000000001,
                43.709221
               ],
               [
                7.285115,
                43.709221
               ],
               [
                7.285115,
                43.729220999999995
               ],
               [
                7.265115000000001,
                43.729220999999995
               ],
               [
                7.265115000000001,
                43.709221
               ]
              ]
             ],
             "type": "Polygon"
            },
            "id": "468",
            "properties": {},
            "type": "Feature"
           },
           {
            "bbox": [
             3.278944,
             49.835950000000004,
             3.298944,
             49.85595
            ],
            "geometry": {
             "coordinates": [
              [
               [
                3.278944,
                49.835950000000004
               ],
               [
                3.298944,
                49.835950000000004
               ],
               [
                3.298944,
                49.85595
               ],
               [
                3.278944,
                49.85595
               ],
               [
                3.278944,
                49.835950000000004
               ]
              ]
             ],
             "type": "Polygon"
            },
            "id": "469",
            "properties": {},
            "type": "Feature"
           },
           {
            "bbox": [
             5.233955,
             46.199952,
             5.253955,
             46.219952
            ],
            "geometry": {
             "coordinates": [
              [
               [
                5.233955,
                46.199952
               ],
               [
                5.253955,
                46.199952
               ],
               [
                5.253955,
                46.219952
               ],
               [
                5.233955,
                46.219952
               ],
               [
                5.233955,
                46.199952
               ]
              ]
             ],
             "type": "Polygon"
            },
            "id": "470",
            "properties": {},
            "type": "Feature"
           },
           {
            "bbox": [
             7.249251,
             43.685672000000004,
             7.269251,
             43.705672
            ],
            "geometry": {
             "coordinates": [
              [
               [
                7.249251,
                43.685672000000004
               ],
               [
                7.269251,
                43.685672000000004
               ],
               [
                7.269251,
                43.705672
               ],
               [
                7.249251,
                43.705672
               ],
               [
                7.249251,
                43.685672000000004
               ]
              ]
             ],
             "type": "Polygon"
            },
            "id": "471",
            "properties": {},
            "type": "Feature"
           },
           {
            "bbox": [
             -0.39384002681657,
             49.187511338694854,
             -0.37384002681657,
             49.20751133869485
            ],
            "geometry": {
             "coordinates": [
              [
               [
                -0.39384002681657,
                49.187511338694854
               ],
               [
                -0.37384002681657,
                49.187511338694854
               ],
               [
                -0.37384002681657,
                49.20751133869485
               ],
               [
                -0.39384002681657,
                49.20751133869485
               ],
               [
                -0.39384002681657,
                49.187511338694854
               ]
              ]
             ],
             "type": "Polygon"
            },
            "id": "472",
            "properties": {},
            "type": "Feature"
           },
           {
            "bbox": [
             0.987457,
             47.116829,
             1.007457,
             47.136829
            ],
            "geometry": {
             "coordinates": [
              [
               [
                0.987457,
                47.116829
               ],
               [
                1.007457,
                47.116829
               ],
               [
                1.007457,
                47.136829
               ],
               [
                0.987457,
                47.136829
               ],
               [
                0.987457,
                47.116829
               ]
              ]
             ],
             "type": "Polygon"
            },
            "id": "473",
            "properties": {},
            "type": "Feature"
           },
           {
            "bbox": [
             2.287248499625773,
             48.85613680546336,
             2.307248499625773,
             48.876136805463354
            ],
            "geometry": {
             "coordinates": [
              [
               [
                2.287248499625773,
                48.85613680546336
               ],
               [
                2.307248499625773,
                48.85613680546336
               ],
               [
                2.307248499625773,
                48.876136805463354
               ],
               [
                2.287248499625773,
                48.876136805463354
               ],
               [
                2.287248499625773,
                48.85613680546336
               ]
              ]
             ],
             "type": "Polygon"
            },
            "id": "474",
            "properties": {},
            "type": "Feature"
           },
           {
            "bbox": [
             2.568079,
             44.339287,
             2.588079,
             44.359286999999995
            ],
            "geometry": {
             "coordinates": [
              [
               [
                2.568079,
                44.339287
               ],
               [
                2.588079,
                44.339287
               ],
               [
                2.588079,
                44.359286999999995
               ],
               [
                2.568079,
                44.359286999999995
               ],
               [
                2.568079,
                44.339287
               ]
              ]
             ],
             "type": "Polygon"
            },
            "id": "475",
            "properties": {},
            "type": "Feature"
           },
           {
            "bbox": [
             4.793397000000001,
             43.936695,
             4.813397,
             43.956694999999996
            ],
            "geometry": {
             "coordinates": [
              [
               [
                4.793397000000001,
                43.936695
               ],
               [
                4.813397,
                43.936695
               ],
               [
                4.813397,
                43.956694999999996
               ],
               [
                4.793397000000001,
                43.956694999999996
               ],
               [
                4.793397000000001,
                43.936695
               ]
              ]
             ],
             "type": "Polygon"
            },
            "id": "476",
            "properties": {},
            "type": "Feature"
           },
           {
            "bbox": [
             2.750423,
             44.510841,
             2.770423,
             44.530840999999995
            ],
            "geometry": {
             "coordinates": [
              [
               [
                2.750423,
                44.510841
               ],
               [
                2.770423,
                44.510841
               ],
               [
                2.770423,
                44.530840999999995
               ],
               [
                2.750423,
                44.530840999999995
               ],
               [
                2.750423,
                44.510841
               ]
              ]
             ],
             "type": "Polygon"
            },
            "id": "477",
            "properties": {},
            "type": "Feature"
           },
           {
            "bbox": [
             -0.561841,
             47.461767,
             -0.541841,
             47.481767
            ],
            "geometry": {
             "coordinates": [
              [
               [
                -0.561841,
                47.461767
               ],
               [
                -0.541841,
                47.461767
               ],
               [
                -0.541841,
                47.481767
               ],
               [
                -0.561841,
                47.481767
               ],
               [
                -0.561841,
                47.461767
               ]
              ]
             ],
             "type": "Polygon"
            },
            "id": "478",
            "properties": {},
            "type": "Feature"
           },
           {
            "bbox": [
             0.674809,
             47.385094,
             0.694809,
             47.405094
            ],
            "geometry": {
             "coordinates": [
              [
               [
                0.674809,
                47.385094
               ],
               [
                0.694809,
                47.385094
               ],
               [
                0.694809,
                47.405094
               ],
               [
                0.674809,
                47.405094
               ],
               [
                0.674809,
                47.385094
               ]
              ]
             ],
             "type": "Polygon"
            },
            "id": "479",
            "properties": {},
            "type": "Feature"
           },
           {
            "bbox": [
             2.006469,
             44.603443,
             2.026469,
             44.623442999999995
            ],
            "geometry": {
             "coordinates": [
              [
               [
                2.006469,
                44.603443
               ],
               [
                2.026469,
                44.603443
               ],
               [
                2.026469,
                44.623442999999995
               ],
               [
                2.006469,
                44.623442999999995
               ],
               [
                2.006469,
                44.603443
               ]
              ]
             ],
             "type": "Polygon"
            },
            "id": "480",
            "properties": {},
            "type": "Feature"
           },
           {
            "bbox": [
             2.348608,
             48.851491,
             2.368608,
             48.871491
            ],
            "geometry": {
             "coordinates": [
              [
               [
                2.348608,
                48.851491
               ],
               [
                2.368608,
                48.851491
               ],
               [
                2.368608,
                48.871491
               ],
               [
                2.348608,
                48.871491
               ],
               [
                2.348608,
                48.851491
               ]
              ]
             ],
             "type": "Polygon"
            },
            "id": "481",
            "properties": {},
            "type": "Feature"
           },
           {
            "bbox": [
             -1.576123,
             47.201788,
             -1.556123,
             47.221788
            ],
            "geometry": {
             "coordinates": [
              [
               [
                -1.576123,
                47.201788
               ],
               [
                -1.556123,
                47.201788
               ],
               [
                -1.556123,
                47.221788
               ],
               [
                -1.576123,
                47.221788
               ],
               [
                -1.576123,
                47.201788
               ]
              ]
             ],
             "type": "Polygon"
            },
            "id": "482",
            "properties": {},
            "type": "Feature"
           },
           {
            "bbox": [
             2.3233,
             48.853218000000005,
             2.3433,
             48.873218
            ],
            "geometry": {
             "coordinates": [
              [
               [
                2.3233,
                48.853218000000005
               ],
               [
                2.3433,
                48.853218000000005
               ],
               [
                2.3433,
                48.873218
               ],
               [
                2.3233,
                48.873218
               ],
               [
                2.3233,
                48.853218000000005
               ]
              ]
             ],
             "type": "Polygon"
            },
            "id": "483",
            "properties": {},
            "type": "Feature"
           },
           {
            "bbox": [
             4.607175830175759,
             43.662753063626816,
             4.627175830175759,
             43.68275306362681
            ],
            "geometry": {
             "coordinates": [
              [
               [
                4.607175830175759,
                43.662753063626816
               ],
               [
                4.627175830175759,
                43.662753063626816
               ],
               [
                4.627175830175759,
                43.68275306362681
               ],
               [
                4.607175830175759,
                43.68275306362681
               ],
               [
                4.607175830175759,
                43.662753063626816
               ]
              ]
             ],
             "type": "Polygon"
            },
            "id": "484",
            "properties": {},
            "type": "Feature"
           },
           {
            "bbox": [
             -0.907677,
             47.059473000000004,
             -0.887677,
             47.079473
            ],
            "geometry": {
             "coordinates": [
              [
               [
                -0.907677,
                47.059473000000004
               ],
               [
                -0.887677,
                47.059473000000004
               ],
               [
                -0.887677,
                47.079473
               ],
               [
                -0.907677,
                47.079473
               ],
               [
                -0.907677,
                47.059473000000004
               ]
              ]
             ],
             "type": "Polygon"
            },
            "id": "485",
            "properties": {},
            "type": "Feature"
           },
           {
            "bbox": [
             2.373243784876889,
             51.03527160424991,
             2.393243784876889,
             51.0552716042499
            ],
            "geometry": {
             "coordinates": [
              [
               [
                2.373243784876889,
                51.03527160424991
               ],
               [
                2.393243784876889,
                51.03527160424991
               ],
               [
                2.393243784876889,
                51.0552716042499
               ],
               [
                2.373243784876889,
                51.0552716042499
               ],
               [
                2.373243784876889,
                51.03527160424991
               ]
              ]
             ],
             "type": "Polygon"
            },
            "id": "486",
            "properties": {},
            "type": "Feature"
           }
          ],
          "type": "FeatureCollection"
         },
         "hovertemplate": "index=%{location}<br>Nombre de musées=%{z}<extra></extra>",
         "locations": {
          "bdata": "AAABAAIAAwAEAAUABgAHAAgACQAKAAsADAANAA4ADwAQABEAEgATABQAFQAWABcAGAAZABoAGwAcAB0AHgAfACAAIQAiACMAJAAlACYAJwAoACkAKgArACwALQAuAC8AMAAxADIAMwA0ADUANgA3ADgAOQA6ADsAPAA9AD4APwBAAEEAQgBDAEQARQBGAEcASABJAEoASwBMAE0ATgBPAFAAUQBSAFMAVABVAFYAVwBYAFkAWgBbAFwAXQBeAF8AYABhAGIAYwBkAGUAZgBnAGgAaQBqAGsAbABtAG4AbwBwAHEAcgBzAHQAdQB2AHcAeAB5AHoAewB8AH0AfgB/AIAAgQCCAIMAhACFAIYAhwCIAIkAigCLAIwAjQCOAI8AkACRAJIAkwCUAJUAlgCXAJgAmQCaAJsAnACdAJ4AnwCgAKEAogCjAKQApQCmAKcAqACpAKoAqwCsAK0ArgCvALAAsQCyALMAtAC1ALYAtwC4ALkAugC7ALwAvQC+AL8AwADBAMIAwwDEAMUAxgDHAMgAyQDKAMsAzADNAM4AzwDQANEA0gDTANQA1QDWANcA2ADZANoA2wDcAN0A3gDfAOAA4QDiAOMA5ADlAOYA5wDoAOkA6gDrAOwA7QDuAO8A8ADxAPIA8wD0APUA9gD3APgA+QD6APsA/AD9AP4A/wAAAQEBAgEDAQQBBQEGAQcBCAEJAQoBCwEMAQ0BDgEPARABEQESARMBFAEVARYBFwEYARkBGgEbARwBHQEeAR8BIAEhASIBIwEkASUBJgEnASgBKQEqASsBLAEtAS4BLwEwATEBMgEzATQBNQE2ATcBOAE5AToBOwE8AT0BPgE/AUABQQFCAUMBRAFFAUYBRwFIAUkBSgFLAUwBTQFOAU8BUAFRAVIBUwFUAVUBVgFXAVgBWQFaAVsBXAFdAV4BXwFgAWEBYgFjAWQBZQFmAWcBaAFpAWoBawFsAW0BbgFvAXABcQFyAXMBdAF1AXYBdwF4AXkBegF7AXwBfQF+AX8BgAGBAYIBgwGEAYUBhgGHAYgBiQGKAYsBjAGNAY4BjwGQAZEBkgGTAZQBlQGWAZcBmAGZAZoBmwGcAZ0BngGfAaABoQGiAaMBpAGlAaYBpwGoAakBqgGrAawBrQGuAa8BsAGxAbIBswG0AbUBtgG3AbgBuQG6AbsBvAG9Ab4BvwHAAcEBwgHDAcQBxQHGAccByAHJAcoBywHMAc0BzgHPAdAB0QHSAdMB1AHVAdYB1wHYAdkB2gHbAdwB3QHeAd8B4AHhAeIB4wHkAeUB5gE=",
          "dtype": "i2"
         },
         "marker": {
          "opacity": 0.65
         },
         "name": "",
         "subplot": "mapbox",
         "type": "choroplethmapbox",
         "z": {
          "bdata": "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",
          "dtype": "f8"
         }
        }
       ],
       "layout": {
        "coloraxis": {
         "colorbar": {
          "title": {
           "text": "Nombre de musées"
          }
         },
         "colorscale": [
          [
           0,
           "#deebf7"
          ],
          [
           0.3333333333333333,
           "#9ecae1"
          ],
          [
           0.6666666666666666,
           "#4292c6"
          ],
          [
           1,
           "#08519c"
          ]
         ]
        },
        "legend": {
         "tracegroupgap": 0
        },
        "mapbox": {
         "center": {
          "lat": 46.5,
          "lon": 2.5
         },
         "domain": {
          "x": [
           0.0,
           1.0
          ],
          "y": [
           0.0,
           1.0
          ]
         },
         "style": "carto-positron",
         "zoom": 4.8
        },
        "margin": {
         "b": 20,
         "l": 20,
         "r": 20,
         "t": 40
        },
        "template": {
         "data": {
          "bar": [
           {
            "error_x": {
             "color": "#2a3f5f"
            },
            "error_y": {
             "color": "#2a3f5f"
            },
            "marker": {
             "line": {
              "color": "#E5ECF6",
              "width": 0.5
             },
             "pattern": {
              "fillmode": "overlay",
              "size": 10,
              "solidity": 0.2
             }
            },
            "type": "bar"
           }
          ],
          "barpolar": [
           {
            "marker": {
             "line": {
              "color": "#E5ECF6",
              "width": 0.5
             },
             "pattern": {
              "fillmode": "overlay",
              "size": 10,
              "solidity": 0.2
             }
            },
            "type": "barpolar"
           }
          ],
          "carpet": [
           {
            "aaxis": {
             "endlinecolor": "#2a3f5f",
             "gridcolor": "white",
             "linecolor": "white",
             "minorgridcolor": "white",
             "startlinecolor": "#2a3f5f"
            },
            "baxis": {
             "endlinecolor": "#2a3f5f",
             "gridcolor": "white",
             "linecolor": "white",
             "minorgridcolor": "white",
             "startlinecolor": "#2a3f5f"
            },
            "type": "carpet"
           }
          ],
          "choropleth": [
           {
            "colorbar": {
             "outlinewidth": 0,
             "ticks": ""
            },
            "type": "choropleth"
           }
          ],
          "contour": [
           {
            "colorbar": {
             "outlinewidth": 0,
             "ticks": ""
            },
            "colorscale": [
             [
              0.0,
              "#0d0887"
             ],
             [
              0.1111111111111111,
              "#46039f"
             ],
             [
              0.2222222222222222,
              "#7201a8"
             ],
             [
              0.3333333333333333,
              "#9c179e"
             ],
             [
              0.4444444444444444,
              "#bd3786"
             ],
             [
              0.5555555555555556,
              "#d8576b"
             ],
             [
              0.6666666666666666,
              "#ed7953"
             ],
             [
              0.7777777777777778,
              "#fb9f3a"
             ],
             [
              0.8888888888888888,
              "#fdca26"
             ],
             [
              1.0,
              "#f0f921"
             ]
            ],
            "type": "contour"
           }
          ],
          "contourcarpet": [
           {
            "colorbar": {
             "outlinewidth": 0,
             "ticks": ""
            },
            "type": "contourcarpet"
           }
          ],
          "heatmap": [
           {
            "colorbar": {
             "outlinewidth": 0,
             "ticks": ""
            },
            "colorscale": [
             [
              0.0,
              "#0d0887"
             ],
             [
              0.1111111111111111,
              "#46039f"
             ],
             [
              0.2222222222222222,
              "#7201a8"
             ],
             [
              0.3333333333333333,
              "#9c179e"
             ],
             [
              0.4444444444444444,
              "#bd3786"
             ],
             [
              0.5555555555555556,
              "#d8576b"
             ],
             [
              0.6666666666666666,
              "#ed7953"
             ],
             [
              0.7777777777777778,
              "#fb9f3a"
             ],
             [
              0.8888888888888888,
              "#fdca26"
             ],
             [
              1.0,
              "#f0f921"
             ]
            ],
            "type": "heatmap"
           }
          ],
          "histogram": [
           {
            "marker": {
             "pattern": {
              "fillmode": "overlay",
              "size": 10,
              "solidity": 0.2
             }
            },
            "type": "histogram"
           }
          ],
          "histogram2d": [
           {
            "colorbar": {
             "outlinewidth": 0,
             "ticks": ""
            },
            "colorscale": [
             [
              0.0,
              "#0d0887"
             ],
             [
              0.1111111111111111,
              "#46039f"
             ],
             [
              0.2222222222222222,
              "#7201a8"
             ],
             [
              0.3333333333333333,
              "#9c179e"
             ],
             [
              0.4444444444444444,
              "#bd3786"
             ],
             [
              0.5555555555555556,
              "#d8576b"
             ],
             [
              0.6666666666666666,
              "#ed7953"
             ],
             [
              0.7777777777777778,
              "#fb9f3a"
             ],
             [
              0.8888888888888888,
              "#fdca26"
             ],
             [
              1.0,
              "#f0f921"
             ]
            ],
            "type": "histogram2d"
           }
          ],
          "histogram2dcontour": [
           {
            "colorbar": {
             "outlinewidth": 0,
             "ticks": ""
            },
            "colorscale": [
             [
              0.0,
              "#0d0887"
             ],
             [
              0.1111111111111111,
              "#46039f"
             ],
             [
              0.2222222222222222,
              "#7201a8"
             ],
             [
              0.3333333333333333,
              "#9c179e"
             ],
             [
              0.4444444444444444,
              "#bd3786"
             ],
             [
              0.5555555555555556,
              "#d8576b"
             ],
             [
              0.6666666666666666,
              "#ed7953"
             ],
             [
              0.7777777777777778,
              "#fb9f3a"
             ],
             [
              0.8888888888888888,
              "#fdca26"
             ],
             [
              1.0,
              "#f0f921"
             ]
            ],
            "type": "histogram2dcontour"
           }
          ],
          "mesh3d": [
           {
            "colorbar": {
             "outlinewidth": 0,
             "ticks": ""
            },
            "type": "mesh3d"
           }
          ],
          "parcoords": [
           {
            "line": {
             "colorbar": {
              "outlinewidth": 0,
              "ticks": ""
             }
            },
            "type": "parcoords"
           }
          ],
          "pie": [
           {
            "automargin": true,
            "type": "pie"
           }
          ],
          "scatter": [
           {
            "fillpattern": {
             "fillmode": "overlay",
             "size": 10,
             "solidity": 0.2
            },
            "type": "scatter"
           }
          ],
          "scatter3d": [
           {
            "line": {
             "colorbar": {
              "outlinewidth": 0,
              "ticks": ""
             }
            },
            "marker": {
             "colorbar": {
              "outlinewidth": 0,
              "ticks": ""
             }
            },
            "type": "scatter3d"
           }
          ],
          "scattercarpet": [
           {
            "marker": {
             "colorbar": {
              "outlinewidth": 0,
              "ticks": ""
             }
            },
            "type": "scattercarpet"
           }
          ],
          "scattergeo": [
           {
            "marker": {
             "colorbar": {
              "outlinewidth": 0,
              "ticks": ""
             }
            },
            "type": "scattergeo"
           }
          ],
          "scattergl": [
           {
            "marker": {
             "colorbar": {
              "outlinewidth": 0,
              "ticks": ""
             }
            },
            "type": "scattergl"
           }
          ],
          "scattermap": [
           {
            "marker": {
             "colorbar": {
              "outlinewidth": 0,
              "ticks": ""
             }
            },
            "type": "scattermap"
           }
          ],
          "scattermapbox": [
           {
            "marker": {
             "colorbar": {
              "outlinewidth": 0,
              "ticks": ""
             }
            },
            "type": "scattermapbox"
           }
          ],
          "scatterpolar": [
           {
            "marker": {
             "colorbar": {
              "outlinewidth": 0,
              "ticks": ""
             }
            },
            "type": "scatterpolar"
           }
          ],
          "scatterpolargl": [
           {
            "marker": {
             "colorbar": {
              "outlinewidth": 0,
              "ticks": ""
             }
            },
            "type": "scatterpolargl"
           }
          ],
          "scatterternary": [
           {
            "marker": {
             "colorbar": {
              "outlinewidth": 0,
              "ticks": ""
             }
            },
            "type": "scatterternary"
           }
          ],
          "surface": [
           {
            "colorbar": {
             "outlinewidth": 0,
             "ticks": ""
            },
            "colorscale": [
             [
              0.0,
              "#0d0887"
             ],
             [
              0.1111111111111111,
              "#46039f"
             ],
             [
              0.2222222222222222,
              "#7201a8"
             ],
             [
              0.3333333333333333,
              "#9c179e"
             ],
             [
              0.4444444444444444,
              "#bd3786"
             ],
             [
              0.5555555555555556,
              "#d8576b"
             ],
             [
              0.6666666666666666,
              "#ed7953"
             ],
             [
              0.7777777777777778,
              "#fb9f3a"
             ],
             [
              0.8888888888888888,
              "#fdca26"
             ],
             [
              1.0,
              "#f0f921"
             ]
            ],
            "type": "surface"
           }
          ],
          "table": [
           {
            "cells": {
             "fill": {
              "color": "#EBF0F8"
             },
             "line": {
              "color": "white"
             }
            },
            "header": {
             "fill": {
              "color": "#C8D4E3"
             },
             "line": {
              "color": "white"
             }
            },
            "type": "table"
           }
          ]
         },
         "layout": {
          "annotationdefaults": {
           "arrowcolor": "#2a3f5f",
           "arrowhead": 0,
           "arrowwidth": 1
          },
          "autotypenumbers": "strict",
          "coloraxis": {
           "colorbar": {
            "outlinewidth": 0,
            "ticks": ""
           }
          },
          "colorscale": {
           "diverging": [
            [
             0,
             "#8e0152"
            ],
            [
             0.1,
             "#c51b7d"
            ],
            [
             0.2,
             "#de77ae"
            ],
            [
             0.3,
             "#f1b6da"
            ],
            [
             0.4,
             "#fde0ef"
            ],
            [
             0.5,
             "#f7f7f7"
            ],
            [
             0.6,
             "#e6f5d0"
            ],
            [
             0.7,
             "#b8e186"
            ],
            [
             0.8,
             "#7fbc41"
            ],
            [
             0.9,
             "#4d9221"
            ],
            [
             1,
             "#276419"
            ]
           ],
           "sequential": [
            [
             0.0,
             "#0d0887"
            ],
            [
             0.1111111111111111,
             "#46039f"
            ],
            [
             0.2222222222222222,
             "#7201a8"
            ],
            [
             0.3333333333333333,
             "#9c179e"
            ],
            [
             0.4444444444444444,
             "#bd3786"
            ],
            [
             0.5555555555555556,
             "#d8576b"
            ],
            [
             0.6666666666666666,
             "#ed7953"
            ],
            [
             0.7777777777777778,
             "#fb9f3a"
            ],
            [
             0.8888888888888888,
             "#fdca26"
            ],
            [
             1.0,
             "#f0f921"
            ]
           ],
           "sequentialminus": [
            [
             0.0,
             "#0d0887"
            ],
            [
             0.1111111111111111,
             "#46039f"
            ],
            [
             0.2222222222222222,
             "#7201a8"
            ],
            [
             0.3333333333333333,
             "#9c179e"
            ],
            [
             0.4444444444444444,
             "#bd3786"
            ],
            [
             0.5555555555555556,
             "#d8576b"
            ],
            [
             0.6666666666666666,
             "#ed7953"
            ],
            [
             0.7777777777777778,
             "#fb9f3a"
            ],
            [
             0.8888888888888888,
             "#fdca26"
            ],
            [
             1.0,
             "#f0f921"
            ]
           ]
          },
          "colorway": [
           "#636efa",
           "#EF553B",
           "#00cc96",
           "#ab63fa",
           "#FFA15A",
           "#19d3f3",
           "#FF6692",
           "#B6E880",
           "#FF97FF",
           "#FECB52"
          ],
          "font": {
           "color": "#2a3f5f"
          },
          "geo": {
           "bgcolor": "white",
           "lakecolor": "white",
           "landcolor": "#E5ECF6",
           "showlakes": true,
           "showland": true,
           "subunitcolor": "white"
          },
          "hoverlabel": {
           "align": "left"
          },
          "hovermode": "closest",
          "mapbox": {
           "style": "light"
          },
          "paper_bgcolor": "white",
          "plot_bgcolor": "#E5ECF6",
          "polar": {
           "angularaxis": {
            "gridcolor": "white",
            "linecolor": "white",
            "ticks": ""
           },
           "bgcolor": "#E5ECF6",
           "radialaxis": {
            "gridcolor": "white",
            "linecolor": "white",
            "ticks": ""
           }
          },
          "scene": {
           "xaxis": {
            "backgroundcolor": "#E5ECF6",
            "gridcolor": "white",
            "gridwidth": 2,
            "linecolor": "white",
            "showbackground": true,
            "ticks": "",
            "zerolinecolor": "white"
           },
           "yaxis": {
            "backgroundcolor": "#E5ECF6",
            "gridcolor": "white",
            "gridwidth": 2,
            "linecolor": "white",
            "showbackground": true,
            "ticks": "",
            "zerolinecolor": "white"
           },
           "zaxis": {
            "backgroundcolor": "#E5ECF6",
            "gridcolor": "white",
            "gridwidth": 2,
            "linecolor": "white",
            "showbackground": true,
            "ticks": "",
            "zerolinecolor": "white"
           }
          },
          "shapedefaults": {
           "line": {
            "color": "#2a3f5f"
           }
          },
          "ternary": {
           "aaxis": {
            "gridcolor": "white",
            "linecolor": "white",
            "ticks": ""
           },
           "baxis": {
            "gridcolor": "white",
            "linecolor": "white",
            "ticks": ""
           },
           "bgcolor": "#E5ECF6",
           "caxis": {
            "gridcolor": "white",
            "linecolor": "white",
            "ticks": ""
           }
          },
          "title": {
           "x": 0.05
          },
          "xaxis": {
           "automargin": true,
           "gridcolor": "white",
           "linecolor": "white",
           "ticks": "",
           "title": {
            "standoff": 15
           },
           "zerolinecolor": "white",
           "zerolinewidth": 2
          },
          "yaxis": {
           "automargin": true,
           "gridcolor": "white",
           "linecolor": "white",
           "ticks": "",
           "title": {
            "standoff": 15
           },
           "zerolinecolor": "white",
           "zerolinewidth": 2
          }
         }
        },
        "title": {
         "text": "Cartographie des musées - Répartition par buffer carré de 1 km"
        }
       }
      }
     },
     "metadata": {},
     "output_type": "display_data"
    }
   ],
   "source": [
    "import pandas as pd\n",
    "import duckdb as ddb\n",
    "import pandas as pd\n",
    "import geopandas as gpd\n",
    "import plotly.express as px\n",
    "import shapely.wkt\n",
    "\n",
    "gdf = gpd.GeoDataFrame(\n",
    "    df,\n",
    "    geometry=df[\"polygon_wkt\"].apply(shapely.wkt.loads),\n",
    "    crs=4326\n",
    ")\n",
    "\n",
    "gdf[\"centroid_lon\"] = gdf.geometry.centroid.x\n",
    "gdf[\"centroid_lat\"] = gdf.geometry.centroid.y\n",
    "\n",
    "colorscale = [(0, \"#deebf7\"), (1/3, \"#9ecae1\"), (2/3, \"#4292c6\"), (1, \"#08519c\")]\n",
    "\n",
    "dataviz = px.choropleth_mapbox(\n",
    "    gdf,\n",
    "    geojson=gdf.geometry.__geo_interface__,\n",
    "    locations=gdf.index,\n",
    "    color=\"nb_musee\",\n",
    "    color_continuous_scale=colorscale,\n",
    "    mapbox_style=\"carto-positron\",\n",
    "    zoom=4.8,\n",
    "    center={\"lat\": 46.5, \"lon\": 2.5},\n",
    "    opacity=0.65,\n",
    "    hover_data={\"nb_musee\": True, \"centroid_lon\": False, \"centroid_lat\": False},\n",
    "    labels={\"nb_musee\": \"Nombre de musées\"},\n",
    "    title=\"Cartographie des musées - Répartition par buffer carré de 1 km\"\n",
    ")\n",
    "dataviz.update_layout(margin=dict(l=20, r=20, t=40, b=20))\n",
    "dataviz"
   ]
  },
  {
   "cell_type": "markdown",
   "metadata": {},
   "source": [
    "---\n",
    "*Made with ❤️ and with [duckit.fr](https://duckit.fr) - [Ali Hmaou](https://www.linkedin.com/in/ali-hmaou-6b7b73146/)*"
   ]
  },
  {
   "cell_type": "code",
   "execution_count": 5,
   "metadata": {
    "execution": {
     "iopub.execute_input": "2025-08-21T09:55:50.650155Z",
     "iopub.status.busy": "2025-08-21T09:55:50.650155Z",
     "iopub.status.idle": "2025-08-21T09:55:59.437944Z",
     "shell.execute_reply": "2025-08-21T09:55:59.437944Z"
    }
   },
   "outputs": [
    {
     "name": "stdout",
     "output_type": "stream",
     "text": [
      "INFO: Variable 'dataviz' trouvée. Tentative d'exportation...\n",
      "--> Détecté : Plotly. Sauvegarde HTML et PNG.\n",
      "--> Sauvegarde HTML dans : published\\notebooks\\duckit_analysis_20250805_063703.html\n",
      "--> Tentative de sauvegarde PNG directe dans : published\\notebooks\\duckit_analysis_20250805_063703.png\n"
     ]
    },
    {
     "name": "stdout",
     "output_type": "stream",
     "text": [
      "--> Image Plotly sauvegardée avec succès.\n"
     ]
    }
   ],
   "source": [
    "\n",
    "# --- Variables injectées par le script ---\n",
    "FINAL_OBJECT_VARIABLE_NAME = 'dataviz'\n",
    "OUTPUT_IMAGE_NAME = 'published\\\\notebooks\\\\duckit_analysis_20250805_063703.png'\n",
    "OUTPUT_HTML_NAME = 'published\\\\notebooks\\\\duckit_analysis_20250805_063703.html'\n",
    "\n",
    "# ===================================================================\n",
    "# CELLULE INJECTÉE AUTOMATIQUEMENT (VERSION ROBUSTE)\n",
    "# ===================================================================\n",
    "import sys\n",
    "import os\n",
    "# On importe les modules nécessaires pour l'export au cas où\n",
    "try:\n",
    "    from bokeh.io import save as bokeh_save\n",
    "except ImportError:\n",
    "    bokeh_save = None\n",
    "\n",
    "try:\n",
    "    # On s'assure que le dossier de sortie existe\n",
    "    output_dir = os.path.dirname(OUTPUT_IMAGE_NAME)\n",
    "    if output_dir:\n",
    "        os.makedirs(output_dir, exist_ok=True)\n",
    "\n",
    "    # On utilise globals().get() pour une récupération plus sûre\n",
    "    final_object = globals().get(FINAL_OBJECT_VARIABLE_NAME)\n",
    "\n",
    "    if final_object is None:\n",
    "        # On lève une NameError pour être cohérent avec le code original\n",
    "        raise NameError(f\"name '{FINAL_OBJECT_VARIABLE_NAME}' is not defined\")\n",
    "\n",
    "    print(f\"INFO: Variable '{FINAL_OBJECT_VARIABLE_NAME}' trouvée. Tentative d'exportation...\")\n",
    "\n",
    "    object_type = str(type(final_object))\n",
    "\n",
    "    if 'plotly.graph_objs._figure.Figure' in object_type:\n",
    "        print(f\"--> Détecté : Plotly. Sauvegarde HTML et PNG.\")\n",
    "        # 1. Sauvegarde HTML pour l'interactivité\n",
    "        print(f\"--> Sauvegarde HTML dans : {OUTPUT_HTML_NAME}\")\n",
    "        final_object.write_html(OUTPUT_HTML_NAME, include_plotlyjs='cdn')\n",
    "        # 2. Sauvegarde PNG pour l'aperçu statique\n",
    "        try:\n",
    "            print(f\"--> Tentative de sauvegarde PNG directe dans : {OUTPUT_IMAGE_NAME}\")\n",
    "            final_object.write_image(OUTPUT_IMAGE_NAME, scale=3, width=1200, height=800)\n",
    "            print(f\"--> Image Plotly sauvegardée avec succès.\")\n",
    "        except Exception as e:\n",
    "            print(f\"AVERTISSEMENT: La sauvegarde directe en PNG a échoué (kaleido est-il installé?).\", file=sys.stderr)\n",
    "            print(f\"   Erreur: {e}\", file=sys.stderr)\n",
    "            print(f\"--> PLAN B: On va utiliser la capture d'écran du HTML à la place.\")\n",
    "            # On crée un fichier marqueur pour que le script de post-traitement prenne le relais\n",
    "            with open(f\"{OUTPUT_HTML_NAME}.needs_screenshot\", \"w\") as f:\n",
    "                f.write(\"plotly\")\n",
    "    elif 'folium.folium.Map' in object_type:\n",
    "        print(f\"--> Détecté : Folium. Sauvegarde HTML dans : {OUTPUT_HTML_NAME}\")\n",
    "        final_object.save(OUTPUT_HTML_NAME)\n",
    "        # On crée un fichier marqueur générique pour la capture d'écran\n",
    "        print(f\"--> Création du marqueur de capture d'écran.\")\n",
    "        with open(f\"{OUTPUT_HTML_NAME}.needs_screenshot\", \"w\") as f:\n",
    "            f.write(\"folium\")\n",
    "    elif 'altair.vegalite' in object_type and hasattr(final_object, 'save'):\n",
    "        print(f\"--> Détecté : Altair. Sauvegarde HTML dans : {OUTPUT_HTML_NAME}\")\n",
    "        final_object.save(OUTPUT_HTML_NAME)\n",
    "        # On crée un fichier marqueur générique pour la capture d'écran\n",
    "        print(f\"--> Création du marqueur de capture d'écran.\")\n",
    "        with open(f\"{OUTPUT_HTML_NAME}.needs_screenshot\", \"w\") as f:\n",
    "            f.write(\"altair\")\n",
    "    elif 'bokeh.plotting' in object_type and bokeh_save is not None:\n",
    "        print(f\"--> Détecté : Bokeh. Sauvegarde HTML dans : {OUTPUT_HTML_NAME}\")\n",
    "        bokeh_save(final_object, filename=OUTPUT_HTML_NAME, title=\"\")\n",
    "        # On crée un fichier marqueur générique pour la capture d'écran\n",
    "        print(f\"--> Création du marqueur de capture d'écran.\")\n",
    "        with open(f\"{OUTPUT_HTML_NAME}.needs_screenshot\", \"w\") as f:\n",
    "            f.write(\"bokeh\")\n",
    "    elif 'matplotlib.figure.Figure' in object_type:\n",
    "        print(f\"--> Détecté : Matplotlib. Sauvegarde dans : {OUTPUT_IMAGE_NAME}\")\n",
    "        final_object.savefig(OUTPUT_IMAGE_NAME, dpi=300, bbox_inches='tight')\n",
    "    else:\n",
    "        print(f\"AVERTISSEMENT: Type non supporté : {object_type}\", file=sys.stderr)\n",
    "except NameError:\n",
    "    print(f\"AVERTISSEMENT: Aucune variable '{FINAL_OBJECT_VARIABLE_NAME}' trouvée.\", file=sys.stderr)\n",
    "except Exception as e:\n",
    "    print(f\"ERREUR lors de l'exportation : {e}\", file=sys.stderr)\n"
   ]
  }
 ],
 "metadata": {
  "kernelspec": {
   "display_name": "Python 3",
   "language": "python",
   "name": "python3"
  },
  "language_info": {
   "codemirror_mode": {
    "name": "ipython",
    "version": 3
   },
   "file_extension": ".py",
   "mimetype": "text/x-python",
   "name": "python",
   "nbconvert_exporter": "python",
   "pygments_lexer": "ipython3",
   "version": "3.10.11"
  }
 },
 "nbformat": 4,
 "nbformat_minor": 4
}
