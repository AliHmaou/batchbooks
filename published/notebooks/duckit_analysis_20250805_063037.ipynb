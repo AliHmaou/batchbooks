{
 "cells": [
  {
   "cell_type": "markdown",
   "metadata": {},
   "source": [
    "# Cartographie des Musées de France : Une Analyse Géospatiale\n",
    "\n",
    "\n",
    "Le présent notebook explore les données relatives aux musées de France, disponibles sur le site data.culture.gouv.fr. Le jeu de données utilisé provient de l'URL suivante : https://data.culture.gouv.fr/api/explore/v2.1/catalog/datasets/liste-et-localisation-des-musees-de-france/exports/parquet?lang=fr&timezone=Europe%2FBerlin. Ce dataset fournit des informations détaillées sur les musées, notamment leur localisation géographique, leur nom officiel, leur adresse, ainsi que d'autres informations pertinentes.\n",
    "\n",
    "\n",
    "L'objectif principal de cette analyse est de préparer les données pour créer une carte représentant les musées regroupés selon un buffer carré de 1 km. Cette visualisation permettra d'identifier les zones géographiques avec une forte concentration de musées, offrant ainsi une perspective intéressante sur la répartition de ces institutions culturelles en France.\n",
    "\n",
    "\n",
    "## Méthodologie\n",
    "\n",
    "\n",
    "La méthodologie employée dans cette analyse consiste à créer une grille de 1 km x 1 km et à associer les musées à cette grille en fonction de leurs coordonnées géographiques. Les données sont ensuite regroupées par cellule de la grille, permettant de compter le nombre de musées dans chaque zone. Cette approche permet une visualisation efficace de la répartition géographique des musées. La requête SQL générée utilise les fonctions spatiales de DuckDB pour réaliser ces opérations.\n",
    "\n",
    "\n",
    "Les résultats de l'analyse sont ensuite visualisés à l'aide de Plotly Express, qui permet de créer une carte choroplèthe représentant la densité de musées dans chaque zone de la grille. Cette visualisation interactive offre une vue d'ensemble claire et détaillée de la répartition des musées en France."
   ]
  },
  {
   "cell_type": "markdown",
   "metadata": {},
   "source": [
    "## 🔧 Configuration"
   ]
  },
  {
   "cell_type": "code",
   "execution_count": 1,
   "metadata": {
    "execution": {
     "iopub.execute_input": "2025-08-21T09:55:03.621957Z",
     "iopub.status.busy": "2025-08-21T09:55:03.621957Z",
     "iopub.status.idle": "2025-08-21T09:55:04.194161Z",
     "shell.execute_reply": "2025-08-21T09:55:04.194161Z"
    }
   },
   "outputs": [],
   "source": [
    "# Installation et imports\n",
    "import duckdb as ddb\n",
    "import pandas as pd\n",
    "import plotly.express as px\n",
    "import plotly.graph_objects as go"
   ]
  },
  {
   "cell_type": "markdown",
   "metadata": {},
   "source": [
    "## 🦆 Chargement du dataset avec Duckdb"
   ]
  },
  {
   "cell_type": "code",
   "execution_count": 2,
   "metadata": {
    "execution": {
     "iopub.execute_input": "2025-08-21T09:55:04.194161Z",
     "iopub.status.busy": "2025-08-21T09:55:04.194161Z",
     "iopub.status.idle": "2025-08-21T09:55:06.753961Z",
     "shell.execute_reply": "2025-08-21T09:55:06.753961Z"
    }
   },
   "outputs": [
    {
     "name": "stdout",
     "output_type": "stream",
     "text": [
      "✅ Données chargées avec succès\n"
     ]
    }
   ],
   "source": [
    "# Fonction de chargement complète (basée sur load_file_from_url_lite)\n",
    "def load_file_from_url_lite(url_dataset=\"\", loader=\"read_csv_auto\", options=\"\", nom_table=\"loaded_dataset\", safe_mode=False):\n",
    "    ddb.execute(\"install spatial\")\n",
    "    ddb.execute(\"load spatial\")\n",
    "    ddb.execute(\"INSTALL h3 FROM community\")\n",
    "    ddb.execute(\"LOAD h3\")\n",
    "    ddb.execute(\"install webbed from community;\")\n",
    "    ddb.execute(\"load webbed\")\n",
    "    ddb.execute(\"set force_download=True\")\n",
    "    ddb.execute(f\"drop table if exists {nom_table}\")   \n",
    "    \n",
    "    # Détection automatique du type de fichier\n",
    "    if 'csv' in url_dataset: \n",
    "        loader = \"read_csv_auto\"\n",
    "    elif 'tsv' in url_dataset: \n",
    "        loader = \"read_csv_auto\"\n",
    "    elif 'txt' in url_dataset: \n",
    "        loader = \"read_csv_auto\"\n",
    "    elif 'parquet' in url_dataset: \n",
    "        loader = \"read_parquet\"\n",
    "    elif 'json' in url_dataset: \n",
    "        loader = \"read_json_auto\"\n",
    "    elif 'xls' in url_dataset or 'xlsx' in url_dataset: \n",
    "        loader = \"st_read\"\n",
    "    elif 'shp' in url_dataset: \n",
    "        loader = \"st_read\"\n",
    "    elif 'geojson' in url_dataset: \n",
    "        loader = \"st_read\"\n",
    "    elif 'xml' in url_dataset: \n",
    "        loader = \"read_xml\"\n",
    "    elif 'html' in url_dataset: \n",
    "        loader = \"read_html\"\n",
    "    else: \n",
    "        raise ValueError(f\"Type de fichier non supporté pour {url_dataset}\")\n",
    "    \n",
    "    if options==\"\": \n",
    "        options = \"\" \n",
    "    if 'csv' in url_dataset and safe_mode==True: \n",
    "        options = \", all_varchar=1\" \n",
    "    if nom_table==\"\": \n",
    "        nom_table = \"loaded_dataset\"\n",
    "    \n",
    "    try:\n",
    "        status = ddb.sql(f\"\"\"\n",
    "            create or replace table {nom_table} as select *\n",
    "            from\n",
    "            {loader}(\"{url_dataset}\" {options})\n",
    "        \"\"\")\n",
    "        return status\n",
    "    except Exception as e:\n",
    "        return f\"Erreur au chargement du fichier : {str(e)}\"\n",
    "\n",
    "def run_query(sql):\n",
    "    return ddb.sql(sql.replace(\"`\",\" \")).to_df()\n",
    "\n",
    "# Chargement des données\n",
    "load_file_from_url_lite(\"https://data.culture.gouv.fr/api/explore/v2.1/catalog/datasets/liste-et-localisation-des-musees-de-france/exports/parquet?lang=fr&timezone=Europe%2FBerlin\", safe_mode=True)\n",
    "print(\"✅ Données chargées avec succès\")"
   ]
  },
  {
   "cell_type": "markdown",
   "metadata": {},
   "source": [
    "## 🔍 Analyse SQL\n",
    "\n",
    "Cette requête utilise des techniques SQL pour extraire et transformer les données de manière efficace."
   ]
  },
  {
   "cell_type": "code",
   "execution_count": 3,
   "metadata": {
    "execution": {
     "iopub.execute_input": "2025-08-21T09:55:06.770103Z",
     "iopub.status.busy": "2025-08-21T09:55:06.770103Z",
     "iopub.status.idle": "2025-08-21T09:55:06.802094Z",
     "shell.execute_reply": "2025-08-21T09:55:06.802094Z"
    }
   },
   "outputs": [
    {
     "name": "stdout",
     "output_type": "stream",
     "text": [
      "Résultats : 1036 lignes\n"
     ]
    },
    {
     "data": {
      "text/html": [
       "<div>\n",
       "<style scoped>\n",
       "    .dataframe tbody tr th:only-of-type {\n",
       "        vertical-align: middle;\n",
       "    }\n",
       "\n",
       "    .dataframe tbody tr th {\n",
       "        vertical-align: top;\n",
       "    }\n",
       "\n",
       "    .dataframe thead th {\n",
       "        text-align: right;\n",
       "    }\n",
       "</style>\n",
       "<table border=\"1\" class=\"dataframe\">\n",
       "  <thead>\n",
       "    <tr style=\"text-align: right;\">\n",
       "      <th></th>\n",
       "      <th>grid_lon</th>\n",
       "      <th>grid_lat</th>\n",
       "      <th>count_museums</th>\n",
       "      <th>geom</th>\n",
       "    </tr>\n",
       "  </thead>\n",
       "  <tbody>\n",
       "    <tr>\n",
       "      <th>0</th>\n",
       "      <td>-61.65</td>\n",
       "      <td>15.85</td>\n",
       "      <td>1</td>\n",
       "      <td>POINT (-61.646677 15.850088)</td>\n",
       "    </tr>\n",
       "    <tr>\n",
       "      <th>1</th>\n",
       "      <td>-61.54</td>\n",
       "      <td>16.23</td>\n",
       "      <td>3</td>\n",
       "      <td>POLYGON ((-61.537737 16.236416, -61.535945 16....</td>\n",
       "    </tr>\n",
       "    <tr>\n",
       "      <th>2</th>\n",
       "      <td>-61.30</td>\n",
       "      <td>15.87</td>\n",
       "      <td>1</td>\n",
       "      <td>POINT (-61.298004 15.876666)</td>\n",
       "    </tr>\n",
       "    <tr>\n",
       "      <th>3</th>\n",
       "      <td>-61.18</td>\n",
       "      <td>14.74</td>\n",
       "      <td>1</td>\n",
       "      <td>POINT (-61.175994 14.743103)</td>\n",
       "    </tr>\n",
       "    <tr>\n",
       "      <th>4</th>\n",
       "      <td>-61.08</td>\n",
       "      <td>14.64</td>\n",
       "      <td>1</td>\n",
       "      <td>POINT (-61.070648 14.649226)</td>\n",
       "    </tr>\n",
       "  </tbody>\n",
       "</table>\n",
       "</div>"
      ],
      "text/plain": [
       "   grid_lon  grid_lat  count_museums  \\\n",
       "0    -61.65     15.85              1   \n",
       "1    -61.54     16.23              3   \n",
       "2    -61.30     15.87              1   \n",
       "3    -61.18     14.74              1   \n",
       "4    -61.08     14.64              1   \n",
       "\n",
       "                                                geom  \n",
       "0                       POINT (-61.646677 15.850088)  \n",
       "1  POLYGON ((-61.537737 16.236416, -61.535945 16....  \n",
       "2                       POINT (-61.298004 15.876666)  \n",
       "3                       POINT (-61.175994 14.743103)  \n",
       "4                       POINT (-61.070648 14.649226)  "
      ]
     },
     "execution_count": 3,
     "metadata": {},
     "output_type": "execute_result"
    }
   ],
   "source": [
    "# Exécution de la requête\n",
    "df = run_query(\"\"\" WITH \n",
    "-- Créer une grille de 1km x 1km et associer les musées à cette grille\n",
    "grid AS (\n",
    "  SELECT \n",
    "    CAST(longitude AS DOUBLE) AS lon, \n",
    "    CAST(latitude AS DOUBLE) AS lat,\n",
    "    FLOOR(lon * 100) / 100 AS grid_lon,\n",
    "    FLOOR(lat * 100) / 100 AS grid_lat\n",
    "  FROM loaded_dataset\n",
    "  WHERE longitude IS NOT NULL AND latitude IS NOT NULL\n",
    ")\n",
    "-- Regrouper les musées par cellule de la grille\n",
    "SELECT \n",
    "  grid_lon, \n",
    "  grid_lat, \n",
    "  COUNT(*) AS count_museums,\n",
    "  ST_AsText(ST_Envelope(ST_Union_Agg(ST_GeomFromText('POINT(' || lon || ' ' || lat || ')')))) AS geom\n",
    "FROM grid\n",
    "GROUP BY grid_lon, grid_lat\n",
    "ORDER BY grid_lon, grid_lat \"\"\")\n",
    "print(f\"Résultats : {len(df)} lignes\")\n",
    "df.head()"
   ]
  },
  {
   "cell_type": "markdown",
   "metadata": {},
   "source": [
    "## 📈 Visualisation\n",
    "\n",
    "La bibliothèque principale utilisée est Plotly Express, qui est adaptée pour créer des visualisations interactives de données géospatiales. Le choix d'une carte de densité (density mapbox) permet de représenter efficacement la répartition des musées sur une carte du monde. Cela permet une exploration interactive des données."
   ]
  },
  {
   "cell_type": "code",
   "execution_count": 4,
   "metadata": {
    "execution": {
     "iopub.execute_input": "2025-08-21T09:55:06.802094Z",
     "iopub.status.busy": "2025-08-21T09:55:06.802094Z",
     "iopub.status.idle": "2025-08-21T09:55:08.674534Z",
     "shell.execute_reply": "2025-08-21T09:55:08.674534Z"
    }
   },
   "outputs": [
    {
     "name": "stderr",
     "output_type": "stream",
     "text": [
      "C:\\Users\\ami\\AppData\\Local\\Temp\\ipykernel_1716\\17635644.py:11: DeprecationWarning: *density_mapbox* is deprecated! Use *density_map* instead. Learn more at: https://plotly.com/python/mapbox-to-maplibre/\n",
      "  dataviz = px.density_mapbox(\n"
     ]
    },
    {
     "data": {
      "application/vnd.plotly.v1+json": {
       "config": {
        "plotlyServerURL": "https://plot.ly"
       },
       "data": [
        {
         "coloraxis": "coloraxis",
         "customdata": [
          [
           -61.65,
           15.85,
           "1"
          ],
          [
           -61.54,
           16.23,
           "3"
          ],
          [
           -61.3,
           15.87,
           "1"
          ],
          [
           -61.18,
           14.74,
           "1"
          ],
          [
           -61.08,
           14.64,
           "1"
          ],
          [
           -61.07,
           14.6,
           "2"
          ],
          [
           -61.05,
           14.62,
           "1"
          ],
          [
           -61.03,
           14.53,
           "1"
          ],
          [
           -60.91,
           14.46,
           "1"
          ],
          [
           -56.18,
           46.77,
           "1"
          ],
          [
           -52.66,
           5.16,
           "1"
          ],
          [
           -52.34,
           4.93,
           "1"
          ],
          [
           -52.33,
           4.94,
           "1"
          ],
          [
           -5.13,
           48.45,
           "1"
          ],
          [
           -5.12,
           48.46,
           "1"
          ],
          [
           -4.49,
           48.38,
           "1"
          ],
          [
           -4.34,
           48.09,
           "1"
          ],
          [
           -4.27,
           48.29,
           "1"
          ],
          [
           -4.23,
           47.86,
           "1"
          ],
          [
           -4.23,
           48.24,
           "1"
          ],
          [
           -4.11,
           47.99,
           "2"
          ],
          [
           -4.01,
           48.41,
           "1"
          ],
          [
           -3.92,
           47.87,
           "1"
          ],
          [
           -3.83,
           48.57,
           "1"
          ],
          [
           -3.75,
           47.85,
           "1"
          ],
          [
           -3.5,
           48.03,
           "1"
          ],
          [
           -3.44,
           47.63,
           "1"
          ],
          [
           -3.37,
           47.7,
           "1"
          ],
          [
           -3.26,
           47.82,
           "1"
          ],
          [
           -3.08,
           47.58,
           "1"
          ],
          [
           -3.02,
           47.87,
           "1"
          ],
          [
           -3.0,
           47.7,
           "1"
          ],
          [
           -2.77,
           48.51,
           "1"
          ],
          [
           -2.76,
           47.65,
           "2"
          ],
          [
           -2.52,
           48.46,
           "1"
          ],
          [
           -2.48,
           47.27,
           "1"
          ],
          [
           -2.44,
           47.8,
           "1"
          ],
          [
           -2.43,
           47.32,
           "1"
          ],
          [
           -2.25,
           46.99,
           "2"
          ],
          [
           -2.24,
           46.96,
           "1"
          ],
          [
           -2.22,
           47.37,
           "1"
          ],
          [
           -2.2,
           47.27,
           "1"
          ],
          [
           -2.11,
           46.87,
           "1"
          ],
          [
           -2.06,
           48.45,
           "1"
          ],
          [
           -2.03,
           48.63,
           "1"
          ],
          [
           -2.03,
           48.65,
           "1"
          ],
          [
           -1.96,
           46.75,
           "1"
          ],
          [
           -1.96,
           47.04,
           "1"
          ],
          [
           -1.96,
           48.14,
           "1"
          ],
          [
           -1.91,
           46.77,
           "1"
          ],
          [
           -1.78,
           46.49,
           "1"
          ],
          [
           -1.77,
           47.47,
           "1"
          ],
          [
           -1.68,
           48.1,
           "2"
          ],
          [
           -1.67,
           48.07,
           "1"
          ],
          [
           -1.66,
           49.64,
           "1"
          ],
          [
           -1.65,
           49.42,
           "1"
          ],
          [
           -1.64,
           49.64,
           "1"
          ],
          [
           -1.63,
           49.63,
           "1"
          ],
          [
           -1.62,
           49.63,
           "1"
          ],
          [
           -1.61,
           43.42,
           "1"
          ],
          [
           -1.61,
           48.83,
           "2"
          ],
          [
           -1.59,
           48.83,
           "1"
          ],
          [
           -1.57,
           47.21,
           "2"
          ],
          [
           -1.55,
           47.21,
           "2"
          ],
          [
           -1.54,
           49.38,
           "1"
          ],
          [
           -1.5,
           46.85,
           "1"
          ],
          [
           -1.48,
           43.49,
           "3"
          ],
          [
           -1.48,
           49.5,
           "1"
          ],
          [
           -1.45,
           49.04,
           "1"
          ],
          [
           -1.43,
           46.66,
           "1"
          ],
          [
           -1.42,
           43.36,
           "1"
          ],
          [
           -1.38,
           47.72,
           "1"
          ],
          [
           -1.37,
           46.2,
           "1"
          ],
          [
           -1.37,
           48.68,
           "1"
          ],
          [
           -1.33,
           47.13,
           "1"
          ],
          [
           -1.32,
           46.97,
           "1"
          ],
          [
           -1.32,
           49.41,
           "1"
          ],
          [
           -1.31,
           45.94,
           "1"
          ],
          [
           -1.3,
           46.67,
           "1"
          ],
          [
           -1.27,
           49.58,
           "1"
          ],
          [
           -1.23,
           48.84,
           "1"
          ],
          [
           -1.22,
           48.12,
           "1"
          ],
          [
           -1.19,
           44.38,
           "1"
          ],
          [
           -1.18,
           46.01,
           "1"
          ],
          [
           -1.17,
           48.08,
           "1"
          ],
          [
           -1.16,
           46.15,
           "1"
          ],
          [
           -1.16,
           46.16,
           "4"
          ],
          [
           -1.15,
           44.63,
           "1"
          ],
          [
           -1.13,
           43.52,
           "1"
          ],
          [
           -1.12,
           46.25,
           "1"
          ],
          [
           -1.1,
           45.98,
           "1"
          ],
          [
           -1.09,
           49.11,
           "1"
          ],
          [
           -1.08,
           44.48,
           "1"
          ],
          [
           -1.08,
           49.11,
           "1"
          ],
          [
           -1.06,
           43.71,
           "1"
          ],
          [
           -1.06,
           47.79,
           "1"
          ],
          [
           -1.04,
           48.77,
           "1"
          ],
          [
           -1.0,
           46.3,
           "1"
          ],
          [
           -0.98,
           49.03,
           "1"
          ],
          [
           -0.97,
           45.93,
           "2"
          ],
          [
           -0.94,
           48.29,
           "1"
          ],
          [
           -0.94,
           49.19,
           "1"
          ],
          [
           -0.91,
           47.94,
           "1"
          ],
          [
           -0.91,
           49.22,
           "1"
          ],
          [
           -0.9,
           47.06,
           "1"
          ],
          [
           -0.89,
           47.05,
           "1"
          ],
          [
           -0.89,
           48.83,
           "1"
          ],
          [
           -0.88,
           49.24,
           "1"
          ],
          [
           -0.85,
           46.67,
           "1"
          ],
          [
           -0.84,
           43.71,
           "1"
          ],
          [
           -0.81,
           46.46,
           "1"
          ],
          [
           -0.81,
           48.58,
           "1"
          ],
          [
           -0.78,
           48.06,
           "2"
          ],
          [
           -0.75,
           44.14,
           "1"
          ],
          [
           -0.71,
           47.82,
           "1"
          ],
          [
           -0.71,
           49.27,
           "1"
          ],
          [
           -0.67,
           45.12,
           "1"
          ],
          [
           -0.64,
           45.74,
           "3"
          ],
          [
           -0.64,
           46.55,
           "1"
          ],
          [
           -0.64,
           47.3,
           "1"
          ],
          [
           -0.64,
           48.4,
           "1"
          ],
          [
           -0.63,
           45.74,
           "1"
          ],
          [
           -0.63,
           48.3,
           "1"
          ],
          [
           -0.63,
           49.33,
           "1"
          ],
          [
           -0.62,
           49.17,
           "1"
          ],
          [
           -0.61,
           43.18,
           "1"
          ],
          [
           -0.59,
           44.84,
           "1"
          ],
          [
           -0.59,
           48.89,
           "1"
          ],
          [
           -0.58,
           43.75,
           "1"
          ],
          [
           -0.58,
           44.83,
           "4"
          ],
          [
           -0.58,
           44.84,
           "1"
          ],
          [
           -0.56,
           45.03,
           "1"
          ],
          [
           -0.56,
           47.46,
           "1"
          ],
          [
           -0.56,
           47.47,
           "2"
          ],
          [
           -0.55,
           44.8,
           "1"
          ],
          [
           -0.55,
           47.47,
           "1"
          ],
          [
           -0.53,
           44.26,
           "1"
          ],
          [
           -0.53,
           45.94,
           "1"
          ],
          [
           -0.52,
           43.64,
           "1"
          ],
          [
           -0.52,
           48.76,
           "1"
          ],
          [
           -0.51,
           46.32,
           "1"
          ],
          [
           -0.5,
           43.89,
           "1"
          ],
          [
           -0.5,
           46.84,
           "1"
          ],
          [
           -0.5,
           47.45,
           "1"
          ],
          [
           -0.5,
           48.25,
           "1"
          ],
          [
           -0.46,
           46.32,
           "2"
          ],
          [
           -0.44,
           49.1,
           "1"
          ],
          [
           -0.43,
           43.1,
           "1"
          ],
          [
           -0.39,
           49.19,
           "1"
          ],
          [
           -0.38,
           43.29,
           "2"
          ],
          [
           -0.38,
           44.45,
           "1"
          ],
          [
           -0.38,
           49.18,
           "2"
          ],
          [
           -0.37,
           43.29,
           "1"
          ],
          [
           -0.37,
           49.18,
           "1"
          ],
          [
           -0.36,
           48.59,
           "1"
          ],
          [
           -0.35,
           49.16,
           "1"
          ],
          [
           -0.33,
           45.69,
           "1"
          ],
          [
           -0.31,
           43.51,
           "1"
          ],
          [
           -0.25,
           44.91,
           "2"
          ],
          [
           -0.25,
           46.65,
           "1"
          ],
          [
           -0.22,
           46.97,
           "1"
          ],
          [
           -0.22,
           47.44,
           "1"
          ],
          [
           -0.16,
           44.89,
           "1"
          ],
          [
           -0.12,
           47.53,
           "1"
          ],
          [
           -0.09,
           47.81,
           "1"
          ],
          [
           -0.08,
           44.74,
           "1"
          ],
          [
           -0.08,
           47.25,
           "1"
          ],
          [
           -0.07,
           46.37,
           "1"
          ],
          [
           -0.05,
           43.09,
           "1"
          ],
          [
           -0.05,
           44.58,
           "1"
          ],
          [
           -0.04,
           49.01,
           "1"
          ],
          [
           -0.01,
           42.87,
           "1"
          ],
          [
           0.01,
           49.32,
           "1"
          ],
          [
           0.05,
           44.94,
           "1"
          ],
          [
           0.05,
           47.18,
           "1"
          ],
          [
           0.07,
           43.23,
           "1"
          ],
          [
           0.07,
           47.0,
           "1"
          ],
          [
           0.08,
           48.43,
           "1"
          ],
          [
           0.08,
           49.37,
           "1"
          ],
          [
           0.1,
           43.86,
           "1"
          ],
          [
           0.1,
           49.26,
           "1"
          ],
          [
           0.1,
           49.48,
           "2"
          ],
          [
           0.11,
           49.48,
           "2"
          ],
          [
           0.12,
           47.2,
           "1"
          ],
          [
           0.14,
           43.05,
           "1"
          ],
          [
           0.14,
           43.06,
           "1"
          ],
          [
           0.14,
           45.65,
           "1"
          ],
          [
           0.15,
           43.06,
           "1"
          ],
          [
           0.15,
           45.64,
           "1"
          ],
          [
           0.15,
           45.65,
           "1"
          ],
          [
           0.15,
           47.43,
           "1"
          ],
          [
           0.16,
           43.52,
           "1"
          ],
          [
           0.16,
           44.49,
           "1"
          ],
          [
           0.16,
           45.64,
           "1"
          ],
          [
           0.16,
           49.5,
           "1"
          ],
          [
           0.17,
           47.14,
           "1"
          ],
          [
           0.17,
           48.6,
           "1"
          ],
          [
           0.19,
           48.0,
           "1"
          ],
          [
           0.19,
           49.07,
           "1"
          ],
          [
           0.19,
           49.5,
           "1"
          ],
          [
           0.2,
           47.98,
           "1"
          ],
          [
           0.2,
           48.01,
           "1"
          ],
          [
           0.21,
           49.14,
           "1"
          ],
          [
           0.23,
           47.16,
           "1"
          ],
          [
           0.23,
           49.41,
           "1"
          ],
          [
           0.23,
           49.42,
           "1"
          ],
          [
           0.25,
           44.05,
           "1"
          ],
          [
           0.28,
           43.11,
           "1"
          ],
          [
           0.29,
           46.14,
           "1"
          ],
          [
           0.31,
           47.44,
           "1"
          ],
          [
           0.32,
           47.01,
           "1"
          ],
          [
           0.33,
           44.13,
           "1"
          ],
          [
           0.33,
           46.58,
           "1"
          ],
          [
           0.34,
           46.58,
           "3"
          ],
          [
           0.35,
           46.57,
           "1"
          ],
          [
           0.36,
           45.03,
           "1"
          ],
          [
           0.36,
           49.76,
           "1"
          ],
          [
           0.37,
           43.96,
           "1"
          ],
          [
           0.4,
           43.51,
           "1"
          ],
          [
           0.4,
           49.02,
           "1"
          ],
          [
           0.41,
           47.69,
           "1"
          ],
          [
           0.48,
           44.84,
           "1"
          ],
          [
           0.51,
           49.35,
           "1"
          ],
          [
           0.53,
           46.81,
           "2"
          ],
          [
           0.53,
           49.51,
           "1"
          ],
          [
           0.54,
           47.24,
           "1"
          ],
          [
           0.54,
           48.52,
           "1"
          ],
          [
           0.56,
           44.85,
           "1"
          ],
          [
           0.57,
           43.02,
           "1"
          ],
          [
           0.58,
           43.64,
           "1"
          ],
          [
           0.58,
           45.32,
           "1"
          ],
          [
           0.59,
           42.78,
           "1"
          ],
          [
           0.59,
           49.08,
           "1"
          ],
          [
           0.61,
           44.2,
           "1"
          ],
          [
           0.62,
           48.76,
           "1"
          ],
          [
           0.63,
           43.93,
           "1"
          ],
          [
           0.64,
           45.36,
           "1"
          ],
          [
           0.64,
           46.57,
           "1"
          ],
          [
           0.65,
           48.32,
           "1"
          ],
          [
           0.66,
           45.52,
           "1"
          ],
          [
           0.67,
           49.51,
           "1"
          ],
          [
           0.68,
           47.39,
           "4"
          ],
          [
           0.69,
           46.97,
           "1"
          ],
          [
           0.69,
           47.39,
           "1"
          ],
          [
           0.7,
           44.4,
           "1"
          ],
          [
           0.71,
           45.17,
           "1"
          ],
          [
           0.72,
           43.1,
           "1"
          ],
          [
           0.72,
           45.18,
           "2"
          ],
          [
           0.72,
           46.4,
           "1"
          ],
          [
           0.72,
           49.52,
           "2"
          ],
          [
           0.74,
           47.92,
           "1"
          ],
          [
           0.75,
           49.49,
           "1"
          ],
          [
           0.75,
           49.61,
           "1"
          ],
          [
           0.8,
           46.92,
           "1"
          ],
          [
           0.8,
           48.32,
           "1"
          ],
          [
           0.81,
           44.77,
           "1"
          ],
          [
           0.82,
           45.82,
           "1"
          ],
          [
           0.86,
           46.78,
           "1"
          ],
          [
           0.87,
           46.42,
           "1"
          ],
          [
           0.88,
           43.21,
           "1"
          ],
          [
           0.89,
           44.07,
           "1"
          ],
          [
           0.93,
           48.95,
           "1"
          ],
          [
           0.95,
           49.54,
           "1"
          ],
          [
           0.98,
           47.41,
           "2"
          ],
          [
           0.99,
           47.12,
           "2"
          ],
          [
           1.0,
           49.28,
           "1"
          ],
          [
           1.01,
           43.19,
           "1"
          ],
          [
           1.01,
           44.59,
           "1"
          ],
          [
           1.01,
           44.93,
           "1"
          ],
          [
           1.02,
           49.38,
           "1"
          ],
          [
           1.03,
           49.43,
           "1"
          ],
          [
           1.04,
           47.79,
           "1"
          ],
          [
           1.04,
           49.49,
           "1"
          ],
          [
           1.06,
           46.62,
           "1"
          ],
          [
           1.06,
           46.85,
           "1"
          ],
          [
           1.06,
           47.79,
           "1"
          ],
          [
           1.07,
           49.54,
           "1"
          ],
          [
           1.07,
           49.92,
           "1"
          ],
          [
           1.08,
           43.61,
           "1"
          ],
          [
           1.08,
           44.1,
           "1"
          ],
          [
           1.08,
           49.44,
           "2"
          ],
          [
           1.09,
           49.44,
           "5"
          ],
          [
           1.1,
           49.44,
           "1"
          ],
          [
           1.14,
           43.0,
           "1"
          ],
          [
           1.15,
           49.02,
           "1"
          ],
          [
           1.16,
           45.06,
           "1"
          ],
          [
           1.16,
           49.21,
           "1"
          ],
          [
           1.21,
           44.8,
           "1"
          ],
          [
           1.21,
           49.87,
           "1"
          ],
          [
           1.23,
           44.89,
           "1"
          ],
          [
           1.24,
           48.29,
           "1"
          ],
          [
           1.25,
           45.83,
           "1"
          ],
          [
           1.26,
           45.82,
           "1"
          ],
          [
           1.27,
           46.13,
           "1"
          ],
          [
           1.28,
           44.47,
           "1"
          ],
          [
           1.29,
           43.82,
           "1"
          ],
          [
           1.29,
           49.46,
           "1"
          ],
          [
           1.3,
           47.32,
           "1"
          ],
          [
           1.32,
           48.07,
           "1"
          ],
          [
           1.33,
           47.58,
           "3"
          ],
          [
           1.35,
           44.01,
           "2"
          ],
          [
           1.36,
           43.07,
           "1"
          ],
          [
           1.36,
           48.73,
           "1"
          ],
          [
           1.38,
           45.64,
           "1"
          ],
          [
           1.38,
           48.18,
           "1"
          ],
          [
           1.38,
           48.9,
           "1"
          ],
          [
           1.41,
           50.04,
           "1"
          ],
          [
           1.42,
           43.6,
           "1"
          ],
          [
           1.42,
           49.24,
           "1"
          ],
          [
           1.43,
           44.44,
           "1"
          ],
          [
           1.43,
           49.73,
           "1"
          ],
          [
           1.44,
           43.59,
           "2"
          ],
          [
           1.44,
           43.6,
           "3"
          ],
          [
           1.45,
           43.59,
           "1"
          ],
          [
           1.47,
           44.89,
           "1"
          ],
          [
           1.47,
           48.44,
           "1"
          ],
          [
           1.48,
           48.44,
           "1"
          ],
          [
           1.48,
           49.09,
           "1"
          ],
          [
           1.49,
           48.44,
           "1"
          ],
          [
           1.5,
           47.69,
           "1"
          ],
          [
           1.51,
           46.58,
           "1"
          ],
          [
           1.51,
           46.6,
           "1"
          ],
          [
           1.51,
           47.07,
           "1"
          ],
          [
           1.53,
           45.15,
           "1"
          ],
          [
           1.56,
           44.64,
           "1"
          ],
          [
           1.56,
           50.4,
           "1"
          ],
          [
           1.6,
           42.96,
           "1"
          ],
          [
           1.6,
           44.93,
           "1"
          ],
          [
           1.6,
           50.51,
           "1"
          ],
          [
           1.61,
           44.79,
           "1"
          ],
          [
           1.61,
           50.72,
           "2"
          ],
          [
           1.63,
           42.94,
           "1"
          ],
          [
           1.63,
           47.77,
           "1"
          ],
          [
           1.63,
           50.51,
           "1"
          ],
          [
           1.65,
           44.5,
           "1"
          ],
          [
           1.69,
           44.53,
           "1"
          ],
          [
           1.69,
           46.81,
           "1"
          ],
          [
           1.69,
           47.82,
           "1"
          ],
          [
           1.7,
           44.95,
           "1"
          ],
          [
           1.71,
           48.99,
           "1"
          ],
          [
           1.72,
           43.82,
           "1"
          ],
          [
           1.74,
           47.35,
           "1"
          ],
          [
           1.75,
           44.15,
           "1"
          ],
          [
           1.75,
           45.26,
           "1"
          ],
          [
           1.76,
           50.46,
           "1"
          ],
          [
           1.77,
           45.26,
           "1"
          ],
          [
           1.8,
           48.77,
           "1"
          ],
          [
           1.81,
           43.85,
           "1"
          ],
          [
           1.82,
           43.69,
           "1"
          ],
          [
           1.82,
           48.64,
           "1"
          ],
          [
           1.83,
           42.87,
           "1"
          ],
          [
           1.83,
           50.1,
           "1"
          ],
          [
           1.83,
           50.61,
           "1"
          ],
          [
           1.83,
           50.66,
           "1"
          ],
          [
           1.84,
           42.92,
           "1"
          ],
          [
           1.84,
           48.9,
           "1"
          ],
          [
           1.84,
           49.1,
           "1"
          ],
          [
           1.85,
           50.95,
           "1"
          ],
          [
           1.86,
           50.95,
           "1"
          ],
          [
           1.87,
           46.16,
           "1"
          ],
          [
           1.87,
           48.08,
           "1"
          ],
          [
           1.87,
           48.41,
           "1"
          ],
          [
           1.88,
           43.86,
           "1"
          ],
          [
           1.88,
           49.26,
           "1"
          ],
          [
           1.89,
           43.89,
           "2"
          ],
          [
           1.89,
           44.01,
           "1"
          ],
          [
           1.9,
           43.89,
           "1"
          ],
          [
           1.9,
           47.9,
           "3"
          ],
          [
           1.94,
           44.06,
           "1"
          ],
          [
           1.94,
           45.4,
           "1"
          ],
          [
           1.94,
           50.13,
           "1"
          ],
          [
           1.95,
           43.31,
           "1"
          ],
          [
           1.98,
           46.58,
           "1"
          ],
          [
           1.99,
           46.94,
           "1"
          ],
          [
           1.99,
           48.95,
           "1"
          ],
          [
           1.99,
           49.37,
           "1"
          ],
          [
           2.0,
           42.43,
           "1"
          ],
          [
           2.01,
           44.61,
           "1"
          ],
          [
           2.01,
           48.52,
           "1"
          ],
          [
           2.01,
           48.74,
           "1"
          ],
          [
           2.03,
           44.35,
           "1"
          ],
          [
           2.03,
           44.6,
           "1"
          ],
          [
           2.03,
           48.92,
           "1"
          ],
          [
           2.04,
           48.78,
           "1"
          ],
          [
           2.04,
           48.92,
           "1"
          ],
          [
           2.06,
           47.22,
           "1"
          ],
          [
           2.06,
           48.7,
           "1"
          ],
          [
           2.08,
           48.89,
           "1"
          ],
          [
           2.08,
           49.43,
           "1"
          ],
          [
           2.09,
           48.89,
           "1"
          ],
          [
           2.09,
           48.99,
           "1"
          ],
          [
           2.09,
           49.04,
           "1"
          ],
          [
           2.09,
           49.05,
           "1"
          ],
          [
           2.1,
           48.85,
           "1"
          ],
          [
           2.11,
           43.24,
           "1"
          ],
          [
           2.12,
           48.79,
           "1"
          ],
          [
           2.13,
           48.8,
           "2"
          ],
          [
           2.13,
           49.23,
           "1"
          ],
          [
           2.14,
           43.92,
           "1"
          ],
          [
           2.15,
           48.76,
           "1"
          ],
          [
           2.15,
           50.99,
           "1"
          ],
          [
           2.16,
           45.95,
           "1"
          ],
          [
           2.16,
           48.43,
           "1"
          ],
          [
           2.16,
           48.87,
           "1"
          ],
          [
           2.17,
           49.07,
           "1"
          ],
          [
           2.18,
           48.87,
           "1"
          ],
          [
           2.19,
           46.56,
           "1"
          ],
          [
           2.2,
           48.81,
           "1"
          ],
          [
           2.2,
           48.84,
           "1"
          ],
          [
           2.21,
           43.05,
           "1"
          ],
          [
           2.21,
           47.14,
           "1"
          ],
          [
           2.21,
           47.86,
           "1"
          ],
          [
           2.21,
           48.83,
           "1"
          ],
          [
           2.21,
           49.11,
           "1"
          ],
          [
           2.22,
           48.76,
           "1"
          ],
          [
           2.22,
           48.84,
           "1"
          ],
          [
           2.22,
           48.86,
           "1"
          ],
          [
           2.23,
           43.6,
           "1"
          ],
          [
           2.23,
           48.8,
           "1"
          ],
          [
           2.24,
           43.6,
           "1"
          ],
          [
           2.24,
           48.8,
           "1"
          ],
          [
           2.24,
           48.83,
           "2"
          ],
          [
           2.24,
           48.84,
           "1"
          ],
          [
           2.24,
           48.94,
           "1"
          ],
          [
           2.25,
           48.17,
           "1"
          ],
          [
           2.25,
           48.89,
           "1"
          ],
          [
           2.25,
           48.92,
           "1"
          ],
          [
           2.25,
           50.74,
           "2"
          ],
          [
           2.26,
           44.55,
           "1"
          ],
          [
           2.27,
           48.82,
           "1"
          ],
          [
           2.27,
           48.9,
           "1"
          ],
          [
           2.28,
           48.85,
           "1"
          ],
          [
           2.28,
           48.86,
           "1"
          ],
          [
           2.28,
           48.87,
           "2"
          ],
          [
           2.29,
           48.77,
           "1"
          ],
          [
           2.29,
           48.86,
           "5"
          ],
          [
           2.29,
           49.89,
           "2"
          ],
          [
           2.3,
           45.54,
           "1"
          ],
          [
           2.3,
           48.88,
           "1"
          ],
          [
           2.3,
           49.89,
           "1"
          ],
          [
           2.31,
           48.84,
           "3"
          ],
          [
           2.31,
           48.85,
           "3"
          ],
          [
           2.31,
           48.86,
           "1"
          ],
          [
           2.31,
           48.87,
           "2"
          ],
          [
           2.31,
           49.62,
           "1"
          ],
          [
           2.32,
           48.75,
           "1"
          ],
          [
           2.32,
           48.84,
           "1"
          ],
          [
           2.32,
           48.85,
           "1"
          ],
          [
           2.32,
           48.86,
           "2"
          ],
          [
           2.32,
           48.88,
           "1"
          ],
          [
           2.32,
           48.98,
           "1"
          ],
          [
           2.33,
           48.84,
           "2"
          ],
          [
           2.33,
           48.85,
           "2"
          ],
          [
           2.33,
           48.86,
           "2"
          ],
          [
           2.33,
           48.87,
           "1"
          ],
          [
           2.33,
           48.88,
           "1"
          ],
          [
           2.33,
           48.91,
           "1"
          ],
          [
           2.33,
           50.38,
           "1"
          ],
          [
           2.34,
           48.83,
           "1"
          ],
          [
           2.34,
           48.84,
           "1"
          ],
          [
           2.34,
           48.85,
           "1"
          ],
          [
           2.34,
           48.87,
           "1"
          ],
          [
           2.34,
           48.88,
           "1"
          ],
          [
           2.34,
           50.15,
           "1"
          ],
          [
           2.35,
           43.21,
           "1"
          ],
          [
           2.35,
           48.83,
           "1"
          ],
          [
           2.35,
           48.84,
           "2"
          ],
          [
           2.35,
           48.86,
           "4"
          ],
          [
           2.35,
           48.93,
           "1"
          ],
          [
           2.36,
           48.85,
           "4"
          ],
          [
           2.37,
           43.33,
           "1"
          ],
          [
           2.37,
           49.01,
           "1"
          ],
          [
           2.37,
           51.03,
           "2"
          ],
          [
           2.38,
           48.29,
           "1"
          ],
          [
           2.38,
           48.79,
           "1"
          ],
          [
           2.38,
           51.04,
           "1"
          ],
          [
           2.39,
           47.08,
           "5"
          ],
          [
           2.39,
           48.83,
           "1"
          ],
          [
           2.39,
           48.88,
           "1"
          ],
          [
           2.42,
           48.81,
           "1"
          ],
          [
           2.43,
           48.94,
           "1"
          ],
          [
           2.43,
           50.96,
           "1"
          ],
          [
           2.44,
           43.66,
           "1"
          ],
          [
           2.44,
           44.92,
           "1"
          ],
          [
           2.44,
           44.93,
           "1"
          ],
          [
           2.46,
           48.86,
           "1"
          ],
          [
           2.47,
           49.26,
           "1"
          ],
          [
           2.48,
           44.43,
           "1"
          ],
          [
           2.48,
           48.84,
           "1"
          ],
          [
           2.48,
           49.19,
           "1"
          ],
          [
           2.48,
           50.79,
           "1"
          ],
          [
           2.5,
           46.72,
           "1"
          ],
          [
           2.5,
           48.7,
           "1"
          ],
          [
           2.5,
           49.04,
           "1"
          ],
          [
           2.51,
           48.79,
           "1"
          ],
          [
           2.51,
           48.83,
           "1"
          ],
          [
           2.52,
           48.8,
           "1"
          ],
          [
           2.53,
           48.68,
           "1"
          ],
          [
           2.53,
           50.72,
           "1"
          ],
          [
           2.54,
           48.82,
           "1"
          ],
          [
           2.56,
           44.35,
           "1"
          ],
          [
           2.57,
           44.34,
           "2"
          ],
          [
           2.57,
           48.59,
           "1"
          ],
          [
           2.58,
           44.2,
           "1"
          ],
          [
           2.58,
           49.2,
           "2"
          ],
          [
           2.59,
           48.87,
           "1"
          ],
          [
           2.6,
           46.34,
           "1"
          ],
          [
           2.6,
           48.44,
           "1"
          ],
          [
           2.6,
           48.87,
           "1"
          ],
          [
           2.63,
           43.47,
           "1"
          ],
          [
           2.63,
           47.68,
           "1"
          ],
          [
           2.63,
           48.53,
           "1"
          ],
          [
           2.64,
           50.53,
           "1"
          ],
          [
           2.65,
           48.53,
           "1"
          ],
          [
           2.65,
           48.54,
           "1"
          ],
          [
           2.66,
           46.28,
           "1"
          ],
          [
           2.69,
           48.26,
           "1"
          ],
          [
           2.69,
           48.4,
           "2"
          ],
          [
           2.7,
           48.87,
           "1"
          ],
          [
           2.71,
           48.26,
           "1"
          ],
          [
           2.71,
           48.86,
           "1"
          ],
          [
           2.73,
           47.99,
           "1"
          ],
          [
           2.73,
           50.74,
           "1"
          ],
          [
           2.74,
           42.48,
           "1"
          ],
          [
           2.74,
           42.81,
           "1"
          ],
          [
           2.74,
           43.35,
           "1"
          ],
          [
           2.74,
           48.43,
           "1"
          ],
          [
           2.76,
           43.48,
           "1"
          ],
          [
           2.76,
           44.52,
           "2"
          ],
          [
           2.77,
           50.29,
           "1"
          ],
          [
           2.81,
           48.37,
           "1"
          ],
          [
           2.82,
           46.61,
           "1"
          ],
          [
           2.82,
           49.41,
           "3"
          ],
          [
           2.83,
           49.41,
           "1"
          ],
          [
           2.84,
           47.82,
           "1"
          ],
          [
           2.85,
           50.6,
           "1"
          ],
          [
           2.87,
           48.93,
           "1"
          ],
          [
           2.88,
           42.69,
           "1"
          ],
          [
           2.88,
           49.23,
           "1"
          ],
          [
           2.89,
           42.69,
           "1"
          ],
          [
           2.89,
           42.72,
           "1"
          ],
          [
           2.9,
           42.69,
           "1"
          ],
          [
           2.9,
           46.1,
           "1"
          ],
          [
           2.9,
           48.85,
           "1"
          ],
          [
           2.9,
           48.95,
           "1"
          ],
          [
           2.9,
           50.45,
           "1"
          ],
          [
           2.92,
           45.59,
           "1"
          ],
          [
           2.92,
           47.41,
           "1"
          ],
          [
           2.93,
           49.93,
           "2"
          ],
          [
           2.94,
           42.7,
           "1"
          ],
          [
           2.94,
           43.26,
           "1"
          ],
          [
           2.94,
           47.28,
           "1"
          ],
          [
           2.97,
           43.02,
           "1"
          ],
          [
           2.99,
           43.97,
           "1"
          ],
          [
           2.99,
           49.58,
           "2"
          ],
          [
           3.0,
           43.18,
           "1"
          ],
          [
           3.01,
           47.17,
           "1"
          ],
          [
           3.02,
           43.17,
           "1"
          ],
          [
           3.03,
           45.87,
           "1"
          ],
          [
           3.06,
           50.62,
           "2"
          ],
          [
           3.06,
           50.64,
           "1"
          ],
          [
           3.07,
           45.79,
           "1"
          ],
          [
           3.07,
           47.52,
           "1"
          ],
          [
           3.07,
           47.64,
           "1"
          ],
          [
           3.07,
           50.37,
           "1"
          ],
          [
           3.08,
           42.52,
           "1"
          ],
          [
           3.08,
           44.09,
           "1"
          ],
          [
           3.08,
           45.77,
           "2"
          ],
          [
           3.08,
           48.81,
           "1"
          ],
          [
           3.08,
           49.25,
           "1"
          ],
          [
           3.09,
           45.03,
           "2"
          ],
          [
           3.09,
           45.89,
           "1"
          ],
          [
           3.1,
           42.51,
           "1"
          ],
          [
           3.11,
           43.59,
           "1"
          ],
          [
           3.11,
           45.89,
           "2"
          ],
          [
           3.14,
           50.63,
           "1"
          ],
          [
           3.15,
           46.98,
           "2"
          ],
          [
           3.15,
           49.51,
           "1"
          ],
          [
           3.16,
           50.33,
           "1"
          ],
          [
           3.16,
           50.69,
           "1"
          ],
          [
           3.16,
           50.72,
           "1"
          ],
          [
           3.18,
           48.9,
           "1"
          ],
          [
           3.19,
           46.1,
           "1"
          ],
          [
           3.19,
           46.53,
           "1"
          ],
          [
           3.19,
           47.61,
           "1"
          ],
          [
           3.2,
           47.78,
           "1"
          ],
          [
           3.21,
           43.33,
           "2"
          ],
          [
           3.21,
           43.34,
           "1"
          ],
          [
           3.21,
           49.61,
           "1"
          ],
          [
           3.22,
           45.0,
           "1"
          ],
          [
           3.22,
           50.17,
           "1"
          ],
          [
           3.23,
           50.17,
           "1"
          ],
          [
           3.28,
           48.19,
           "1"
          ],
          [
           3.28,
           49.84,
           "2"
          ],
          [
           3.28,
           50.4,
           "1"
          ],
          [
           3.29,
           48.08,
           "1"
          ],
          [
           3.29,
           48.56,
           "1"
          ],
          [
           3.31,
           43.73,
           "1"
          ],
          [
           3.31,
           49.65,
           "1"
          ],
          [
           3.31,
           50.28,
           "1"
          ],
          [
           3.32,
           49.38,
           "1"
          ],
          [
           3.33,
           46.56,
           "2"
          ],
          [
           3.34,
           50.32,
           "1"
          ],
          [
           3.36,
           49.66,
           "1"
          ],
          [
           3.38,
           45.82,
           "1"
          ],
          [
           3.38,
           47.35,
           "1"
          ],
          [
           3.4,
           45.14,
           "1"
          ],
          [
           3.4,
           49.04,
           "1"
          ],
          [
           3.4,
           50.32,
           "1"
          ],
          [
           3.41,
           46.12,
           "1"
          ],
          [
           3.41,
           50.12,
           "1"
          ],
          [
           3.42,
           43.46,
           "1"
          ],
          [
           3.42,
           50.44,
           "1"
          ],
          [
           3.43,
           45.27,
           "1"
          ],
          [
           3.46,
           43.31,
           "1"
          ],
          [
           3.46,
           46.88,
           "1"
          ],
          [
           3.47,
           43.29,
           "1"
          ],
          [
           3.49,
           44.51,
           "1"
          ],
          [
           3.5,
           48.49,
           "1"
          ],
          [
           3.5,
           50.37,
           "1"
          ],
          [
           3.52,
           47.46,
           "1"
          ],
          [
           3.53,
           50.35,
           "1"
          ],
          [
           3.54,
           45.06,
           "1"
          ],
          [
           3.54,
           45.85,
           "1"
          ],
          [
           3.54,
           50.1,
           "1"
          ],
          [
           3.56,
           47.79,
           "2"
          ],
          [
           3.57,
           47.8,
           "1"
          ],
          [
           3.6,
           43.98,
           "1"
          ],
          [
           3.62,
           49.56,
           "1"
          ],
          [
           3.62,
           49.9,
           "1"
          ],
          [
           3.66,
           43.44,
           "1"
          ],
          [
           3.69,
           43.39,
           "1"
          ],
          [
           3.72,
           45.41,
           "1"
          ],
          [
           3.72,
           45.47,
           "1"
          ],
          [
           3.73,
           43.6,
           "1"
          ],
          [
           3.74,
           44.36,
           "1"
          ],
          [
           3.74,
           46.46,
           "1"
          ],
          [
           3.74,
           47.46,
           "1"
          ],
          [
           3.75,
           43.44,
           "1"
          ],
          [
           3.76,
           46.62,
           "1"
          ],
          [
           3.77,
           50.28,
           "1"
          ],
          [
           3.8,
           43.73,
           "1"
          ],
          [
           3.87,
           43.6,
           "1"
          ],
          [
           3.87,
           43.61,
           "1"
          ],
          [
           3.88,
           43.61,
           "2"
          ],
          [
           3.88,
           44.1,
           "1"
          ],
          [
           3.88,
           45.03,
           "1"
          ],
          [
           3.89,
           46.1,
           "1"
          ],
          [
           3.9,
           43.56,
           "1"
          ],
          [
           3.9,
           47.48,
           "1"
          ],
          [
           3.9,
           49.83,
           "1"
          ],
          [
           3.92,
           50.12,
           "1"
          ],
          [
           3.93,
           47.06,
           "2"
          ],
          [
           3.94,
           45.39,
           "1"
          ],
          [
           3.96,
           47.72,
           "1"
          ],
          [
           3.96,
           49.04,
           "1"
          ],
          [
           3.96,
           50.28,
           "1"
          ],
          [
           3.97,
           47.85,
           "1"
          ],
          [
           4.01,
           45.41,
           "1"
          ],
          [
           4.01,
           45.83,
           "1"
          ],
          [
           4.02,
           49.11,
           "1"
          ],
          [
           4.02,
           49.89,
           "1"
          ],
          [
           4.02,
           50.16,
           "1"
          ],
          [
           4.03,
           45.2,
           "1"
          ],
          [
           4.03,
           49.25,
           "2"
          ],
          [
           4.04,
           46.27,
           "1"
          ],
          [
           4.04,
           49.24,
           "2"
          ],
          [
           4.04,
           50.01,
           "1"
          ],
          [
           4.06,
           45.6,
           "2"
          ],
          [
           4.06,
           46.03,
           "1"
          ],
          [
           4.06,
           46.93,
           "1"
          ],
          [
           4.07,
           44.13,
           "1"
          ],
          [
           4.07,
           45.72,
           "1"
          ],
          [
           4.07,
           48.29,
           "4"
          ],
          [
           4.08,
           44.12,
           "1"
          ],
          [
           4.08,
           48.29,
           "1"
          ],
          [
           4.08,
           48.3,
           "2"
          ],
          [
           4.08,
           49.92,
           "1"
          ],
          [
           4.1,
           45.83,
           "1"
          ],
          [
           4.11,
           46.45,
           "1"
          ],
          [
           4.12,
           46.45,
           "1"
          ],
          [
           4.13,
           43.67,
           "1"
          ],
          [
           4.13,
           44.4,
           "1"
          ],
          [
           4.13,
           49.92,
           "1"
          ],
          [
           4.17,
           46.16,
           "2"
          ],
          [
           4.21,
           45.74,
           "1"
          ],
          [
           4.22,
           47.27,
           "1"
          ],
          [
           4.24,
           45.5,
           "1"
          ],
          [
           4.26,
           47.64,
           "1"
          ],
          [
           4.27,
           46.43,
           "2"
          ],
          [
           4.29,
           46.94,
           "1"
          ],
          [
           4.3,
           46.94,
           "2"
          ],
          [
           4.3,
           46.95,
           "1"
          ],
          [
           4.31,
           46.03,
           "1"
          ],
          [
           4.33,
           45.97,
           "1"
          ],
          [
           4.33,
           47.49,
           "1"
          ],
          [
           4.33,
           47.62,
           "2"
          ],
          [
           4.35,
           43.83,
           "2"
          ],
          [
           4.36,
           43.83,
           "3"
          ],
          [
           4.36,
           48.95,
           "3"
          ],
          [
           4.36,
           49.5,
           "1"
          ],
          [
           4.37,
           45.43,
           "1"
          ],
          [
           4.37,
           45.46,
           "1"
          ],
          [
           4.38,
           45.43,
           "1"
          ],
          [
           4.38,
           46.7,
           "1"
          ],
          [
           4.39,
           45.63,
           "1"
          ],
          [
           4.42,
           43.45,
           "1"
          ],
          [
           4.42,
           44.01,
           "1"
          ],
          [
           4.42,
           44.31,
           "1"
          ],
          [
           4.42,
           46.8,
           "1"
          ],
          [
           4.43,
           43.67,
           "1"
          ],
          [
           4.46,
           47.53,
           "1"
          ],
          [
           4.49,
           47.97,
           "1"
          ],
          [
           4.52,
           48.38,
           "1"
          ],
          [
           4.57,
           47.86,
           "1"
          ],
          [
           4.58,
           46.15,
           "1"
          ],
          [
           4.59,
           44.56,
           "1"
          ],
          [
           4.59,
           44.73,
           "1"
          ],
          [
           4.61,
           43.67,
           "2"
          ],
          [
           4.61,
           44.16,
           "1"
          ],
          [
           4.62,
           43.67,
           "1"
          ],
          [
           4.62,
           44.16,
           "1"
          ],
          [
           4.64,
           43.8,
           "1"
          ],
          [
           4.65,
           44.25,
           "1"
          ],
          [
           4.65,
           46.43,
           "1"
          ],
          [
           4.66,
           45.24,
           "1"
          ],
          [
           4.67,
           43.54,
           "1"
          ],
          [
           4.7,
           48.23,
           "1"
          ],
          [
           4.72,
           45.99,
           "1"
          ],
          [
           4.72,
           49.77,
           "2"
          ],
          [
           4.73,
           46.18,
           "1"
          ],
          [
           4.73,
           46.29,
           "1"
          ],
          [
           4.75,
           44.55,
           "1"
          ],
          [
           4.76,
           44.34,
           "1"
          ],
          [
           4.76,
           45.31,
           "1"
          ],
          [
           4.78,
           43.83,
           "1"
          ],
          [
           4.79,
           43.74,
           "2"
          ],
          [
           4.79,
           43.96,
           "1"
          ],
          [
           4.79,
           45.79,
           "1"
          ],
          [
           4.8,
           43.94,
           "2"
          ],
          [
           4.8,
           43.95,
           "1"
          ],
          [
           4.8,
           44.13,
           "1"
          ],
          [
           4.81,
           45.73,
           "3"
          ],
          [
           4.82,
           45.76,
           "2"
          ],
          [
           4.82,
           50.13,
           "1"
          ],
          [
           4.83,
           43.78,
           "2"
          ],
          [
           4.83,
           45.06,
           "1"
          ],
          [
           4.83,
           45.74,
           "1"
          ],
          [
           4.83,
           45.75,
           "2"
          ],
          [
           4.83,
           45.76,
           "3"
          ],
          [
           4.83,
           45.84,
           "1"
          ],
          [
           4.83,
           46.3,
           "2"
          ],
          [
           4.83,
           47.02,
           "3"
          ],
          [
           4.85,
           44.88,
           "1"
          ],
          [
           4.85,
           45.78,
           "1"
          ],
          [
           4.85,
           46.78,
           "2"
          ],
          [
           4.87,
           44.43,
           "1"
          ],
          [
           4.87,
           45.52,
           "4"
          ],
          [
           4.88,
           44.93,
           "1"
          ],
          [
           4.89,
           47.18,
           "1"
          ],
          [
           4.89,
           49.09,
           "1"
          ],
          [
           4.91,
           46.56,
           "2"
          ],
          [
           4.91,
           49.69,
           "1"
          ],
          [
           4.93,
           46.43,
           "1"
          ],
          [
           4.94,
           48.63,
           "1"
          ],
          [
           4.95,
           47.13,
           "1"
          ],
          [
           4.96,
           47.24,
           "1"
          ],
          [
           4.97,
           49.68,
           "1"
          ],
          [
           4.98,
           44.38,
           "1"
          ],
          [
           4.98,
           46.28,
           "1"
          ],
          [
           4.99,
           43.5,
           "1"
          ],
          [
           5.02,
           46.89,
           "1"
          ],
          [
           5.02,
           47.32,
           "1"
          ],
          [
           5.03,
           43.83,
           "3"
          ],
          [
           5.03,
           47.31,
           "2"
          ],
          [
           5.03,
           47.32,
           "1"
          ],
          [
           5.03,
           49.22,
           "1"
          ],
          [
           5.04,
           44.05,
           "1"
          ],
          [
           5.04,
           47.32,
           "3"
          ],
          [
           5.05,
           43.4,
           "1"
          ],
          [
           5.05,
           43.91,
           "1"
          ],
          [
           5.05,
           45.04,
           "1"
          ],
          [
           5.05,
           45.07,
           "1"
          ],
          [
           5.06,
           46.5,
           "1"
          ],
          [
           5.07,
           43.55,
           "1"
          ],
          [
           5.07,
           44.24,
           "1"
          ],
          [
           5.07,
           49.6,
           "1"
          ],
          [
           5.09,
           43.64,
           "1"
          ],
          [
           5.1,
           43.64,
           "1"
          ],
          [
           5.12,
           43.92,
           "1"
          ],
          [
           5.12,
           44.05,
           "1"
          ],
          [
           5.12,
           46.09,
           "1"
          ],
          [
           5.13,
           48.11,
           "2"
          ],
          [
           5.15,
           48.77,
           "1"
          ],
          [
           5.17,
           45.9,
           "1"
          ],
          [
           5.18,
           49.48,
           "1"
          ],
          [
           5.21,
           46.19,
           "1"
          ],
          [
           5.23,
           46.19,
           "1"
          ],
          [
           5.24,
           46.2,
           "1"
          ],
          [
           5.26,
           43.65,
           "1"
          ],
          [
           5.26,
           45.39,
           "1"
          ],
          [
           5.26,
           46.88,
           "1"
          ],
          [
           5.27,
           45.58,
           "1"
          ],
          [
           5.27,
           46.87,
           "1"
          ],
          [
           5.29,
           43.62,
           "1"
          ],
          [
           5.29,
           45.79,
           "1"
          ],
          [
           5.33,
           47.86,
           "2"
          ],
          [
           5.34,
           48.02,
           "1"
          ],
          [
           5.34,
           49.52,
           "1"
          ],
          [
           5.35,
           44.86,
           "1"
          ],
          [
           5.36,
           43.29,
           "2"
          ],
          [
           5.36,
           43.3,
           "2"
          ],
          [
           5.36,
           43.76,
           "1"
          ],
          [
           5.36,
           44.75,
           "1"
          ],
          [
           5.37,
           43.29,
           "2"
          ],
          [
           5.38,
           43.25,
           "2"
          ],
          [
           5.38,
           43.29,
           "1"
          ],
          [
           5.38,
           47.19,
           "1"
          ],
          [
           5.38,
           49.16,
           "1"
          ],
          [
           5.39,
           43.3,
           "3"
          ],
          [
           5.39,
           43.87,
           "1"
          ],
          [
           5.4,
           44.09,
           "1"
          ],
          [
           5.41,
           43.49,
           "1"
          ],
          [
           5.42,
           43.52,
           "1"
          ],
          [
           5.42,
           43.53,
           "1"
          ],
          [
           5.43,
           43.53,
           "1"
          ],
          [
           5.44,
           43.52,
           "1"
          ],
          [
           5.44,
           43.53,
           "3"
          ],
          [
           5.44,
           43.77,
           "1"
          ],
          [
           5.45,
           45.78,
           "1"
          ],
          [
           5.48,
           47.08,
           "1"
          ],
          [
           5.5,
           48.82,
           "1"
          ],
          [
           5.51,
           45.42,
           "1"
          ],
          [
           5.51,
           47.61,
           "1"
          ],
          [
           5.54,
           43.21,
           "1"
          ],
          [
           5.54,
           48.88,
           "1"
          ],
          [
           5.55,
           43.29,
           "1"
          ],
          [
           5.55,
           46.21,
           "1"
          ],
          [
           5.55,
           46.67,
           "1"
          ],
          [
           5.57,
           45.35,
           "1"
          ],
          [
           5.57,
           46.68,
           "1"
          ],
          [
           5.58,
           48.76,
           "1"
          ],
          [
           5.59,
           47.44,
           "1"
          ],
          [
           5.6,
           43.17,
           "1"
          ],
          [
           5.6,
           45.58,
           "1"
          ],
          [
           5.6,
           46.15,
           "1"
          ],
          [
           5.64,
           46.26,
           "1"
          ],
          [
           5.64,
           46.7,
           "1"
          ],
          [
           5.65,
           43.93,
           "1"
          ],
          [
           5.66,
           45.05,
           "1"
          ],
          [
           5.66,
           48.6,
           "1"
          ],
          [
           5.67,
           43.38,
           "1"
          ],
          [
           5.69,
           45.14,
           "1"
          ],
          [
           5.7,
           46.83,
           "1"
          ],
          [
           5.72,
           45.19,
           "2"
          ],
          [
           5.72,
           45.93,
           "1"
          ],
          [
           5.72,
           46.43,
           "1"
          ],
          [
           5.73,
           45.18,
           "1"
          ],
          [
           5.73,
           45.19,
           "3"
          ],
          [
           5.73,
           47.94,
           "1"
          ],
          [
           5.75,
           45.2,
           "1"
          ],
          [
           5.76,
           43.93,
           "1"
          ],
          [
           5.76,
           49.51,
           "1"
          ],
          [
           5.77,
           43.96,
           "1"
          ],
          [
           5.77,
           45.08,
           "1"
          ],
          [
           5.77,
           46.9,
           "2"
          ],
          [
           5.78,
           44.9,
           "1"
          ],
          [
           5.81,
           45.34,
           "1"
          ],
          [
           5.83,
           45.95,
           "1"
          ],
          [
           5.86,
           46.38,
           "1"
          ],
          [
           5.87,
           45.57,
           "1"
          ],
          [
           5.87,
           46.93,
           "1"
          ],
          [
           5.89,
           48.67,
           "1"
          ],
          [
           5.9,
           46.74,
           "1"
          ],
          [
           5.91,
           43.14,
           "1"
          ],
          [
           5.91,
           45.56,
           "2"
          ],
          [
           5.91,
           45.68,
           "1"
          ],
          [
           5.91,
           45.69,
           "1"
          ],
          [
           5.92,
           43.12,
           "1"
          ],
          [
           5.93,
           43.13,
           "1"
          ],
          [
           5.93,
           45.55,
           "1"
          ],
          [
           5.94,
           44.19,
           "1"
          ],
          [
           5.94,
           45.86,
           "1"
          ],
          [
           6.02,
           46.52,
           "1"
          ],
          [
           6.02,
           47.23,
           "3"
          ],
          [
           6.02,
           47.24,
           "1"
          ],
          [
           6.02,
           49.11,
           "1"
          ],
          [
           6.02,
           49.32,
           "1"
          ],
          [
           6.03,
           43.18,
           "1"
          ],
          [
           6.03,
           47.22,
           "1"
          ],
          [
           6.04,
           43.7,
           "1"
          ],
          [
           6.04,
           45.14,
           "1"
          ],
          [
           6.04,
           45.89,
           "1"
          ],
          [
           6.05,
           48.9,
           "1"
          ],
          [
           6.06,
           43.4,
           "1"
          ],
          [
           6.06,
           45.08,
           "1"
          ],
          [
           6.07,
           45.39,
           "1"
          ],
          [
           6.08,
           43.81,
           "1"
          ],
          [
           6.08,
           44.56,
           "1"
          ],
          [
           6.12,
           45.89,
           "1"
          ],
          [
           6.13,
           43.11,
           "1"
          ],
          [
           6.13,
           48.3,
           "1"
          ],
          [
           6.14,
           47.1,
           "1"
          ],
          [
           6.15,
           47.62,
           "1"
          ],
          [
           6.16,
           48.68,
           "1"
          ],
          [
           6.16,
           49.35,
           "1"
          ],
          [
           6.17,
           48.69,
           "1"
          ],
          [
           6.17,
           49.12,
           "1"
          ],
          [
           6.18,
           47.24,
           "1"
          ],
          [
           6.18,
           48.69,
           "2"
          ],
          [
           6.2,
           48.66,
           "1"
          ],
          [
           6.21,
           48.66,
           "1"
          ],
          [
           6.22,
           43.84,
           "1"
          ],
          [
           6.23,
           44.09,
           "1"
          ],
          [
           6.24,
           43.77,
           "1"
          ],
          [
           6.32,
           45.88,
           "1"
          ],
          [
           6.34,
           43.15,
           "1"
          ],
          [
           6.35,
           46.9,
           "1"
          ],
          [
           6.38,
           47.81,
           "1"
          ],
          [
           6.39,
           45.67,
           "1"
          ],
          [
           6.4,
           47.9,
           "1"
          ],
          [
           6.44,
           48.17,
           "1"
          ],
          [
           6.44,
           48.18,
           "1"
          ],
          [
           6.45,
           47.96,
           "1"
          ],
          [
           6.46,
           43.53,
           "3"
          ],
          [
           6.48,
           46.37,
           "1"
          ],
          [
           6.49,
           43.52,
           "1"
          ],
          [
           6.5,
           48.58,
           "1"
          ],
          [
           6.53,
           45.48,
           "1"
          ],
          [
           6.53,
           48.78,
           "1"
          ],
          [
           6.59,
           48.01,
           "2"
          ],
          [
           6.6,
           48.78,
           "1"
          ],
          [
           6.63,
           43.27,
           "1"
          ],
          [
           6.65,
           44.38,
           "1"
          ],
          [
           6.65,
           45.55,
           "1"
          ],
          [
           6.72,
           43.47,
           "1"
          ],
          [
           6.73,
           43.43,
           "2"
          ],
          [
           6.73,
           47.83,
           "1"
          ],
          [
           6.73,
           48.44,
           "1"
          ],
          [
           6.76,
           43.42,
           "1"
          ],
          [
           6.76,
           45.59,
           "1"
          ],
          [
           6.79,
           47.5,
           "1"
          ],
          [
           6.8,
           47.5,
           "1"
          ],
          [
           6.84,
           49.2,
           "1"
          ],
          [
           6.85,
           47.64,
           "1"
          ],
          [
           6.86,
           47.63,
           "1"
          ],
          [
           6.87,
           45.92,
           "1"
          ],
          [
           6.91,
           43.97,
           "1"
          ],
          [
           6.92,
           43.65,
           "3"
          ],
          [
           6.92,
           47.48,
           "1"
          ],
          [
           6.92,
           47.72,
           "1"
          ],
          [
           6.94,
           48.29,
           "1"
          ],
          [
           7.01,
           43.55,
           "1"
          ],
          [
           7.01,
           43.57,
           "1"
          ],
          [
           7.04,
           43.52,
           "1"
          ],
          [
           7.05,
           43.57,
           "2"
          ],
          [
           7.05,
           48.73,
           "1"
          ],
          [
           7.07,
           49.1,
           "1"
          ],
          [
           7.09,
           43.62,
           "1"
          ],
          [
           7.1,
           47.81,
           "1"
          ],
          [
           7.11,
           43.62,
           "1"
          ],
          [
           7.12,
           43.57,
           "1"
          ],
          [
           7.12,
           43.58,
           "1"
          ],
          [
           7.14,
           43.66,
           "1"
          ],
          [
           7.15,
           43.66,
           "1"
          ],
          [
           7.17,
           47.8,
           "1"
          ],
          [
           7.19,
           43.7,
           "1"
          ],
          [
           7.21,
           43.67,
           "1"
          ],
          [
           7.21,
           47.9,
           "1"
          ],
          [
           7.21,
           48.41,
           "1"
          ],
          [
           7.23,
           43.68,
           "1"
          ],
          [
           7.23,
           43.74,
           "1"
          ],
          [
           7.23,
           47.62,
           "1"
          ],
          [
           7.24,
           43.69,
           "1"
          ],
          [
           7.25,
           43.69,
           "1"
          ],
          [
           7.25,
           48.76,
           "1"
          ],
          [
           7.26,
           43.7,
           "1"
          ],
          [
           7.26,
           48.13,
           "1"
          ],
          [
           7.27,
           43.69,
           "1"
          ],
          [
           7.27,
           43.7,
           "2"
          ],
          [
           7.27,
           43.71,
           "1"
          ],
          [
           7.27,
           43.72,
           "1"
          ],
          [
           7.28,
           43.69,
           "1"
          ],
          [
           7.28,
           48.12,
           "1"
          ],
          [
           7.29,
           47.74,
           "1"
          ],
          [
           7.29,
           48.16,
           "1"
          ],
          [
           7.3,
           47.5,
           "1"
          ],
          [
           7.3,
           47.87,
           "1"
          ],
          [
           7.31,
           43.7,
           "1"
          ],
          [
           7.31,
           47.73,
           "2"
          ],
          [
           7.32,
           47.76,
           "1"
          ],
          [
           7.33,
           47.74,
           "2"
          ],
          [
           7.34,
           47.74,
           "1"
          ],
          [
           7.35,
           48.07,
           "3"
          ],
          [
           7.35,
           48.96,
           "1"
          ],
          [
           7.36,
           48.74,
           "1"
          ],
          [
           7.36,
           48.92,
           "1"
          ],
          [
           7.39,
           47.49,
           "1"
          ],
          [
           7.39,
           47.74,
           "1"
          ],
          [
           7.45,
           48.41,
           "1"
          ],
          [
           7.48,
           43.76,
           "1"
          ],
          [
           7.48,
           48.82,
           "1"
          ],
          [
           7.49,
           48.54,
           "1"
          ],
          [
           7.5,
           43.77,
           "2"
          ],
          [
           7.52,
           48.01,
           "1"
          ],
          [
           7.54,
           48.04,
           "1"
          ],
          [
           7.58,
           47.59,
           "1"
          ],
          [
           7.59,
           44.08,
           "1"
          ],
          [
           7.61,
           48.84,
           "1"
          ],
          [
           7.65,
           48.94,
           "1"
          ],
          [
           7.66,
           48.93,
           "1"
          ],
          [
           7.73,
           48.57,
           "1"
          ],
          [
           7.74,
           48.58,
           "1"
          ],
          [
           7.74,
           48.93,
           "1"
          ],
          [
           7.75,
           48.57,
           "1"
          ],
          [
           7.75,
           48.58,
           "6"
          ],
          [
           7.76,
           48.58,
           "1"
          ],
          [
           7.78,
           48.81,
           "1"
          ],
          [
           7.79,
           48.81,
           "1"
          ],
          [
           7.91,
           48.9,
           "1"
          ],
          [
           7.94,
           49.03,
           "1"
          ],
          [
           8.73,
           41.91,
           "1"
          ],
          [
           8.73,
           41.92,
           "2"
          ],
          [
           8.97,
           41.62,
           "1"
          ],
          [
           9.12,
           41.7,
           "1"
          ],
          [
           9.14,
           42.3,
           "1"
          ],
          [
           9.3,
           42.43,
           "1"
          ],
          [
           9.44,
           42.54,
           "1"
          ],
          [
           9.45,
           42.69,
           "1"
          ],
          [
           9.51,
           42.11,
           "1"
          ],
          [
           45.28,
           -12.78,
           "1"
          ],
          [
           48.98,
           2.44,
           "1"
          ],
          [
           55.26,
           -21.06,
           "1"
          ],
          [
           55.29,
           -21.21,
           "1"
          ],
          [
           55.41,
           -21.27,
           "1"
          ],
          [
           55.45,
           -20.89,
           "2"
          ]
         ],
         "hovertemplate": "Nb musées=%{z}<br>Latitude=%{customdata[1]}<br>Longitude=%{customdata[0]}<extra></extra>",
         "lat": {
          "bdata": "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",
          "dtype": "f8"
         },
         "lon": {
          "bdata": "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",
          "dtype": "f8"
         },
         "name": "",
         "radius": 7,
         "subplot": "mapbox",
         "type": "densitymapbox",
         "z": {
          "bdata": "AQMBAQECAQEBAQEBAQEBAQEBAQECAQEBAQEBAQEBAQEBAgEBAQECAQEBAQEBAQEBAQEBAQIBAQEBAQEBAgECAgEBAwEBAQEBAQEBAQEBAQEBAQEBAQEEAQEBAQEBAQEBAQEBAgEBAQEBAQEBAQEBAQIBAQEBAwEBAQEBAQEBAQEBBAEBAQIBAQEBAQEBAQEBAQIBAQECAQIBAQEBAQECAQEBAQEBAQEBAQEBAQEBAQEBAQEBAQICAQEBAQEBAQEBAQEBAQEBAQEBAQEBAQEBAQEBAQEBAwEBAQEBAQEBAQIBAQEBAQEBAQEBAQEBAQEBAQQBAQEBAQIBAgEBAQEBAQEBAQEBAQECAgEBAQEBAQEBAQEBAQEBAQIFAQEBAQEBAQEBAQEBAQEBAQEDAgEBAQEBAQEBAQECAwEBAQEBAQEBAQEBAQEBAQEBAgEBAQEBAQEBAQEBAQEBAQEBAQEBAQEBAQEBAQEBAQEBAQIBAQMBAQEBAQEBAQEBAQEBAQEBAQEBAQEBAQEBAQEBAgEBAQEBAQEBAQEBAQEBAQEBAQEBAQEBAQIBAQEBAQIBAQEBAQIBBQIBAQEDAwECAQEBAQIBAQICAgEBAQEBAQEBAQEBAQIEAQQBAQIBAQEFAQEBAQEBAQEBAQEBAQEBAQEBAQEBAQEBAgEBAgEBAQEBAQEBAQEBAQIBAQEBAQEBAQEBAgEBAQMBAQEBAQEBAQEBAQEBAQECAQEBAQECAQEBAQIBAQEBAQEBAgEBAgEBAQIBAgEBAQEBAQEBAQIBAQEBAQECAQEBAQEBAQIBAQEBAQEBAQEBAQEBAQEBAQEBAQEBAQIBAQEBAQEBAQEBAQEBAQEBAQECAQEBAQEBAQIBAQEBAQEBAQEBAQIBAgECAQEBAQQBAQIBAQEBAQEBAgEBAQECAQIBAQEBAgIDAwEBAQEBAQEBAQEBAQEBAQEBAQIBAQEBAQEBAQEBAgEBAQEBAQIBAQIBAQMCAQIBAQIDAQIDAQECAQQBAQECAQEBAQEBAQEBAQEDAgEBAQMBAQEBAQEBAQEBAQEBAgEBAQEBAQEBAQEBAQECAQEBAgIBAQICAQEBAwEBAQEBAQEDAQEBAQEBAQEBAQEBAQEBAQEBAQEBAQEBAQECAQEBAwEBAQEBAQIBAQEBAQEBAQECAQEBAQEBAQEDAQEBAQEBAQEBAQEBAQEBAQEBAQEBAQEBAgEBAQEBAQEBAQEBAQEBAwEBAQEBAgEBAQEBAgEBAQEBAQEBAQEBAwEBAQEBAQIBAQEBAQEBAQEBAQEBAQEBAQEBAQEBAQIBAQEBAQEBAQECAQIBAwEBAQEBAQEBAQIBAQEBAQEBAQEBAQYBAQEBAQECAQEBAQEBAQEBAQEBAg==",
          "dtype": "i1"
         }
        }
       ],
       "layout": {
        "coloraxis": {
         "colorbar": {
          "title": {
           "text": "Nb musées"
          }
         },
         "colorscale": [
          [
           0.0,
           "#440154"
          ],
          [
           0.1111111111111111,
           "#482878"
          ],
          [
           0.2222222222222222,
           "#3e4989"
          ],
          [
           0.3333333333333333,
           "#31688e"
          ],
          [
           0.4444444444444444,
           "#26828e"
          ],
          [
           0.5555555555555556,
           "#1f9e89"
          ],
          [
           0.6666666666666666,
           "#35b779"
          ],
          [
           0.7777777777777778,
           "#6ece58"
          ],
          [
           0.8888888888888888,
           "#b5de2b"
          ],
          [
           1.0,
           "#fde725"
          ]
         ]
        },
        "font": {
         "family": "Roboto"
        },
        "legend": {
         "tracegroupgap": 0
        },
        "mapbox": {
         "center": {
          "lat": 46.00393822393823,
          "lon": 2.395781853281853
         },
         "domain": {
          "x": [
           0.0,
           1.0
          ],
          "y": [
           0.0,
           1.0
          ]
         },
         "style": "carto-positron",
         "zoom": 1.5
        },
        "margin": {
         "b": 20,
         "l": 20,
         "r": 20,
         "t": 20
        },
        "template": {
         "data": {
          "bar": [
           {
            "error_x": {
             "color": "#2a3f5f"
            },
            "error_y": {
             "color": "#2a3f5f"
            },
            "marker": {
             "line": {
              "color": "#E5ECF6",
              "width": 0.5
             },
             "pattern": {
              "fillmode": "overlay",
              "size": 10,
              "solidity": 0.2
             }
            },
            "type": "bar"
           }
          ],
          "barpolar": [
           {
            "marker": {
             "line": {
              "color": "#E5ECF6",
              "width": 0.5
             },
             "pattern": {
              "fillmode": "overlay",
              "size": 10,
              "solidity": 0.2
             }
            },
            "type": "barpolar"
           }
          ],
          "carpet": [
           {
            "aaxis": {
             "endlinecolor": "#2a3f5f",
             "gridcolor": "white",
             "linecolor": "white",
             "minorgridcolor": "white",
             "startlinecolor": "#2a3f5f"
            },
            "baxis": {
             "endlinecolor": "#2a3f5f",
             "gridcolor": "white",
             "linecolor": "white",
             "minorgridcolor": "white",
             "startlinecolor": "#2a3f5f"
            },
            "type": "carpet"
           }
          ],
          "choropleth": [
           {
            "colorbar": {
             "outlinewidth": 0,
             "ticks": ""
            },
            "type": "choropleth"
           }
          ],
          "contour": [
           {
            "colorbar": {
             "outlinewidth": 0,
             "ticks": ""
            },
            "colorscale": [
             [
              0.0,
              "#0d0887"
             ],
             [
              0.1111111111111111,
              "#46039f"
             ],
             [
              0.2222222222222222,
              "#7201a8"
             ],
             [
              0.3333333333333333,
              "#9c179e"
             ],
             [
              0.4444444444444444,
              "#bd3786"
             ],
             [
              0.5555555555555556,
              "#d8576b"
             ],
             [
              0.6666666666666666,
              "#ed7953"
             ],
             [
              0.7777777777777778,
              "#fb9f3a"
             ],
             [
              0.8888888888888888,
              "#fdca26"
             ],
             [
              1.0,
              "#f0f921"
             ]
            ],
            "type": "contour"
           }
          ],
          "contourcarpet": [
           {
            "colorbar": {
             "outlinewidth": 0,
             "ticks": ""
            },
            "type": "contourcarpet"
           }
          ],
          "heatmap": [
           {
            "colorbar": {
             "outlinewidth": 0,
             "ticks": ""
            },
            "colorscale": [
             [
              0.0,
              "#0d0887"
             ],
             [
              0.1111111111111111,
              "#46039f"
             ],
             [
              0.2222222222222222,
              "#7201a8"
             ],
             [
              0.3333333333333333,
              "#9c179e"
             ],
             [
              0.4444444444444444,
              "#bd3786"
             ],
             [
              0.5555555555555556,
              "#d8576b"
             ],
             [
              0.6666666666666666,
              "#ed7953"
             ],
             [
              0.7777777777777778,
              "#fb9f3a"
             ],
             [
              0.8888888888888888,
              "#fdca26"
             ],
             [
              1.0,
              "#f0f921"
             ]
            ],
            "type": "heatmap"
           }
          ],
          "histogram": [
           {
            "marker": {
             "pattern": {
              "fillmode": "overlay",
              "size": 10,
              "solidity": 0.2
             }
            },
            "type": "histogram"
           }
          ],
          "histogram2d": [
           {
            "colorbar": {
             "outlinewidth": 0,
             "ticks": ""
            },
            "colorscale": [
             [
              0.0,
              "#0d0887"
             ],
             [
              0.1111111111111111,
              "#46039f"
             ],
             [
              0.2222222222222222,
              "#7201a8"
             ],
             [
              0.3333333333333333,
              "#9c179e"
             ],
             [
              0.4444444444444444,
              "#bd3786"
             ],
             [
              0.5555555555555556,
              "#d8576b"
             ],
             [
              0.6666666666666666,
              "#ed7953"
             ],
             [
              0.7777777777777778,
              "#fb9f3a"
             ],
             [
              0.8888888888888888,
              "#fdca26"
             ],
             [
              1.0,
              "#f0f921"
             ]
            ],
            "type": "histogram2d"
           }
          ],
          "histogram2dcontour": [
           {
            "colorbar": {
             "outlinewidth": 0,
             "ticks": ""
            },
            "colorscale": [
             [
              0.0,
              "#0d0887"
             ],
             [
              0.1111111111111111,
              "#46039f"
             ],
             [
              0.2222222222222222,
              "#7201a8"
             ],
             [
              0.3333333333333333,
              "#9c179e"
             ],
             [
              0.4444444444444444,
              "#bd3786"
             ],
             [
              0.5555555555555556,
              "#d8576b"
             ],
             [
              0.6666666666666666,
              "#ed7953"
             ],
             [
              0.7777777777777778,
              "#fb9f3a"
             ],
             [
              0.8888888888888888,
              "#fdca26"
             ],
             [
              1.0,
              "#f0f921"
             ]
            ],
            "type": "histogram2dcontour"
           }
          ],
          "mesh3d": [
           {
            "colorbar": {
             "outlinewidth": 0,
             "ticks": ""
            },
            "type": "mesh3d"
           }
          ],
          "parcoords": [
           {
            "line": {
             "colorbar": {
              "outlinewidth": 0,
              "ticks": ""
             }
            },
            "type": "parcoords"
           }
          ],
          "pie": [
           {
            "automargin": true,
            "type": "pie"
           }
          ],
          "scatter": [
           {
            "fillpattern": {
             "fillmode": "overlay",
             "size": 10,
             "solidity": 0.2
            },
            "type": "scatter"
           }
          ],
          "scatter3d": [
           {
            "line": {
             "colorbar": {
              "outlinewidth": 0,
              "ticks": ""
             }
            },
            "marker": {
             "colorbar": {
              "outlinewidth": 0,
              "ticks": ""
             }
            },
            "type": "scatter3d"
           }
          ],
          "scattercarpet": [
           {
            "marker": {
             "colorbar": {
              "outlinewidth": 0,
              "ticks": ""
             }
            },
            "type": "scattercarpet"
           }
          ],
          "scattergeo": [
           {
            "marker": {
             "colorbar": {
              "outlinewidth": 0,
              "ticks": ""
             }
            },
            "type": "scattergeo"
           }
          ],
          "scattergl": [
           {
            "marker": {
             "colorbar": {
              "outlinewidth": 0,
              "ticks": ""
             }
            },
            "type": "scattergl"
           }
          ],
          "scattermap": [
           {
            "marker": {
             "colorbar": {
              "outlinewidth": 0,
              "ticks": ""
             }
            },
            "type": "scattermap"
           }
          ],
          "scattermapbox": [
           {
            "marker": {
             "colorbar": {
              "outlinewidth": 0,
              "ticks": ""
             }
            },
            "type": "scattermapbox"
           }
          ],
          "scatterpolar": [
           {
            "marker": {
             "colorbar": {
              "outlinewidth": 0,
              "ticks": ""
             }
            },
            "type": "scatterpolar"
           }
          ],
          "scatterpolargl": [
           {
            "marker": {
             "colorbar": {
              "outlinewidth": 0,
              "ticks": ""
             }
            },
            "type": "scatterpolargl"
           }
          ],
          "scatterternary": [
           {
            "marker": {
             "colorbar": {
              "outlinewidth": 0,
              "ticks": ""
             }
            },
            "type": "scatterternary"
           }
          ],
          "surface": [
           {
            "colorbar": {
             "outlinewidth": 0,
             "ticks": ""
            },
            "colorscale": [
             [
              0.0,
              "#0d0887"
             ],
             [
              0.1111111111111111,
              "#46039f"
             ],
             [
              0.2222222222222222,
              "#7201a8"
             ],
             [
              0.3333333333333333,
              "#9c179e"
             ],
             [
              0.4444444444444444,
              "#bd3786"
             ],
             [
              0.5555555555555556,
              "#d8576b"
             ],
             [
              0.6666666666666666,
              "#ed7953"
             ],
             [
              0.7777777777777778,
              "#fb9f3a"
             ],
             [
              0.8888888888888888,
              "#fdca26"
             ],
             [
              1.0,
              "#f0f921"
             ]
            ],
            "type": "surface"
           }
          ],
          "table": [
           {
            "cells": {
             "fill": {
              "color": "#EBF0F8"
             },
             "line": {
              "color": "white"
             }
            },
            "header": {
             "fill": {
              "color": "#C8D4E3"
             },
             "line": {
              "color": "white"
             }
            },
            "type": "table"
           }
          ]
         },
         "layout": {
          "annotationdefaults": {
           "arrowcolor": "#2a3f5f",
           "arrowhead": 0,
           "arrowwidth": 1
          },
          "autotypenumbers": "strict",
          "coloraxis": {
           "colorbar": {
            "outlinewidth": 0,
            "ticks": ""
           }
          },
          "colorscale": {
           "diverging": [
            [
             0,
             "#8e0152"
            ],
            [
             0.1,
             "#c51b7d"
            ],
            [
             0.2,
             "#de77ae"
            ],
            [
             0.3,
             "#f1b6da"
            ],
            [
             0.4,
             "#fde0ef"
            ],
            [
             0.5,
             "#f7f7f7"
            ],
            [
             0.6,
             "#e6f5d0"
            ],
            [
             0.7,
             "#b8e186"
            ],
            [
             0.8,
             "#7fbc41"
            ],
            [
             0.9,
             "#4d9221"
            ],
            [
             1,
             "#276419"
            ]
           ],
           "sequential": [
            [
             0.0,
             "#0d0887"
            ],
            [
             0.1111111111111111,
             "#46039f"
            ],
            [
             0.2222222222222222,
             "#7201a8"
            ],
            [
             0.3333333333333333,
             "#9c179e"
            ],
            [
             0.4444444444444444,
             "#bd3786"
            ],
            [
             0.5555555555555556,
             "#d8576b"
            ],
            [
             0.6666666666666666,
             "#ed7953"
            ],
            [
             0.7777777777777778,
             "#fb9f3a"
            ],
            [
             0.8888888888888888,
             "#fdca26"
            ],
            [
             1.0,
             "#f0f921"
            ]
           ],
           "sequentialminus": [
            [
             0.0,
             "#0d0887"
            ],
            [
             0.1111111111111111,
             "#46039f"
            ],
            [
             0.2222222222222222,
             "#7201a8"
            ],
            [
             0.3333333333333333,
             "#9c179e"
            ],
            [
             0.4444444444444444,
             "#bd3786"
            ],
            [
             0.5555555555555556,
             "#d8576b"
            ],
            [
             0.6666666666666666,
             "#ed7953"
            ],
            [
             0.7777777777777778,
             "#fb9f3a"
            ],
            [
             0.8888888888888888,
             "#fdca26"
            ],
            [
             1.0,
             "#f0f921"
            ]
           ]
          },
          "colorway": [
           "#636efa",
           "#EF553B",
           "#00cc96",
           "#ab63fa",
           "#FFA15A",
           "#19d3f3",
           "#FF6692",
           "#B6E880",
           "#FF97FF",
           "#FECB52"
          ],
          "font": {
           "color": "#2a3f5f"
          },
          "geo": {
           "bgcolor": "white",
           "lakecolor": "white",
           "landcolor": "#E5ECF6",
           "showlakes": true,
           "showland": true,
           "subunitcolor": "white"
          },
          "hoverlabel": {
           "align": "left"
          },
          "hovermode": "closest",
          "mapbox": {
           "style": "light"
          },
          "paper_bgcolor": "white",
          "plot_bgcolor": "#E5ECF6",
          "polar": {
           "angularaxis": {
            "gridcolor": "white",
            "linecolor": "white",
            "ticks": ""
           },
           "bgcolor": "#E5ECF6",
           "radialaxis": {
            "gridcolor": "white",
            "linecolor": "white",
            "ticks": ""
           }
          },
          "scene": {
           "xaxis": {
            "backgroundcolor": "#E5ECF6",
            "gridcolor": "white",
            "gridwidth": 2,
            "linecolor": "white",
            "showbackground": true,
            "ticks": "",
            "zerolinecolor": "white"
           },
           "yaxis": {
            "backgroundcolor": "#E5ECF6",
            "gridcolor": "white",
            "gridwidth": 2,
            "linecolor": "white",
            "showbackground": true,
            "ticks": "",
            "zerolinecolor": "white"
           },
           "zaxis": {
            "backgroundcolor": "#E5ECF6",
            "gridcolor": "white",
            "gridwidth": 2,
            "linecolor": "white",
            "showbackground": true,
            "ticks": "",
            "zerolinecolor": "white"
           }
          },
          "shapedefaults": {
           "line": {
            "color": "#2a3f5f"
           }
          },
          "ternary": {
           "aaxis": {
            "gridcolor": "white",
            "linecolor": "white",
            "ticks": ""
           },
           "baxis": {
            "gridcolor": "white",
            "linecolor": "white",
            "ticks": ""
           },
           "bgcolor": "#E5ECF6",
           "caxis": {
            "gridcolor": "white",
            "linecolor": "white",
            "ticks": ""
           }
          },
          "title": {
           "x": 0.05
          },
          "xaxis": {
           "automargin": true,
           "gridcolor": "white",
           "linecolor": "white",
           "ticks": "",
           "title": {
            "standoff": 15
           },
           "zerolinecolor": "white",
           "zerolinewidth": 2
          },
          "yaxis": {
           "automargin": true,
           "gridcolor": "white",
           "linecolor": "white",
           "ticks": "",
           "title": {
            "standoff": 15
           },
           "zerolinecolor": "white",
           "zerolinewidth": 2
          }
         }
        }
       }
      }
     },
     "metadata": {},
     "output_type": "display_data"
    }
   ],
   "source": [
    "import pandas as pd\n",
    "import duckdb as ddb\n",
    "import pandas as pd\n",
    "import plotly.express as px\n",
    "\n",
    "# Préparation\n",
    "gdf = df.rename(columns={\"grid_lon\": \"lon\", \"grid_lat\": \"lat\"})\n",
    "gdf[\"taille\"] = gdf[\"count_museums\"].astype(str)\n",
    "\n",
    "# Carte choroplèthe\n",
    "dataviz = px.density_mapbox(\n",
    "    gdf,\n",
    "    lat=\"lat\",\n",
    "    lon=\"lon\",\n",
    "    z=\"count_museums\",\n",
    "    radius=7,\n",
    "    zoom=1.5,\n",
    "    mapbox_style=\"carto-positron\",\n",
    "    color_continuous_scale=\"Viridis\",\n",
    "    hover_data={\n",
    "        \"lon\": True,\n",
    "        \"lat\": True,\n",
    "        \"count_museums\": True,\n",
    "        \"taille\": False\n",
    "    },\n",
    "    labels={\"count_museums\": \"Nb musées\", \"lon\": \"Longitude\", \"lat\": \"Latitude\"},\n",
    ")\n",
    "\n",
    "dataviz.update_layout(\n",
    "    margin=dict(l=20, r=20, t=20, b=20),\n",
    "    font=dict(family=\"Roboto\"),\n",
    "    coloraxis_colorbar_title=\"Nb musées\"\n",
    ")\n",
    "dataviz"
   ]
  },
  {
   "cell_type": "markdown",
   "metadata": {},
   "source": [
    "---\n",
    "*Made with ❤️ and with [duckit.fr](https://duckit.fr) - [Ali Hmaou](https://www.linkedin.com/in/ali-hmaou-6b7b73146/)*"
   ]
  },
  {
   "cell_type": "code",
   "execution_count": 5,
   "metadata": {
    "execution": {
     "iopub.execute_input": "2025-08-21T09:55:08.674534Z",
     "iopub.status.busy": "2025-08-21T09:55:08.674534Z",
     "iopub.status.idle": "2025-08-21T09:55:16.229851Z",
     "shell.execute_reply": "2025-08-21T09:55:16.229851Z"
    }
   },
   "outputs": [
    {
     "name": "stdout",
     "output_type": "stream",
     "text": [
      "INFO: Variable 'dataviz' trouvée. Tentative d'exportation...\n",
      "--> Détecté : Plotly. Sauvegarde HTML et PNG.\n",
      "--> Sauvegarde HTML dans : published\\notebooks\\duckit_analysis_20250805_063037.html\n",
      "--> Tentative de sauvegarde PNG directe dans : published\\notebooks\\duckit_analysis_20250805_063037.png\n"
     ]
    },
    {
     "name": "stdout",
     "output_type": "stream",
     "text": [
      "--> Image Plotly sauvegardée avec succès.\n"
     ]
    }
   ],
   "source": [
    "\n",
    "# --- Variables injectées par le script ---\n",
    "FINAL_OBJECT_VARIABLE_NAME = 'dataviz'\n",
    "OUTPUT_IMAGE_NAME = 'published\\\\notebooks\\\\duckit_analysis_20250805_063037.png'\n",
    "OUTPUT_HTML_NAME = 'published\\\\notebooks\\\\duckit_analysis_20250805_063037.html'\n",
    "\n",
    "# ===================================================================\n",
    "# CELLULE INJECTÉE AUTOMATIQUEMENT (VERSION ROBUSTE)\n",
    "# ===================================================================\n",
    "import sys\n",
    "import os\n",
    "# On importe les modules nécessaires pour l'export au cas où\n",
    "try:\n",
    "    from bokeh.io import save as bokeh_save\n",
    "except ImportError:\n",
    "    bokeh_save = None\n",
    "\n",
    "try:\n",
    "    # On s'assure que le dossier de sortie existe\n",
    "    output_dir = os.path.dirname(OUTPUT_IMAGE_NAME)\n",
    "    if output_dir:\n",
    "        os.makedirs(output_dir, exist_ok=True)\n",
    "\n",
    "    # On utilise globals().get() pour une récupération plus sûre\n",
    "    final_object = globals().get(FINAL_OBJECT_VARIABLE_NAME)\n",
    "\n",
    "    if final_object is None:\n",
    "        # On lève une NameError pour être cohérent avec le code original\n",
    "        raise NameError(f\"name '{FINAL_OBJECT_VARIABLE_NAME}' is not defined\")\n",
    "\n",
    "    print(f\"INFO: Variable '{FINAL_OBJECT_VARIABLE_NAME}' trouvée. Tentative d'exportation...\")\n",
    "\n",
    "    object_type = str(type(final_object))\n",
    "\n",
    "    if 'plotly.graph_objs._figure.Figure' in object_type:\n",
    "        print(f\"--> Détecté : Plotly. Sauvegarde HTML et PNG.\")\n",
    "        # 1. Sauvegarde HTML pour l'interactivité\n",
    "        print(f\"--> Sauvegarde HTML dans : {OUTPUT_HTML_NAME}\")\n",
    "        final_object.write_html(OUTPUT_HTML_NAME, include_plotlyjs='cdn')\n",
    "        # 2. Sauvegarde PNG pour l'aperçu statique\n",
    "        try:\n",
    "            print(f\"--> Tentative de sauvegarde PNG directe dans : {OUTPUT_IMAGE_NAME}\")\n",
    "            final_object.write_image(OUTPUT_IMAGE_NAME, scale=3, width=1200, height=800)\n",
    "            print(f\"--> Image Plotly sauvegardée avec succès.\")\n",
    "        except Exception as e:\n",
    "            print(f\"AVERTISSEMENT: La sauvegarde directe en PNG a échoué (kaleido est-il installé?).\", file=sys.stderr)\n",
    "            print(f\"   Erreur: {e}\", file=sys.stderr)\n",
    "            print(f\"--> PLAN B: On va utiliser la capture d'écran du HTML à la place.\")\n",
    "            # On crée un fichier marqueur pour que le script de post-traitement prenne le relais\n",
    "            with open(f\"{OUTPUT_HTML_NAME}.needs_screenshot\", \"w\") as f:\n",
    "                f.write(\"plotly\")\n",
    "    elif 'folium.folium.Map' in object_type:\n",
    "        print(f\"--> Détecté : Folium. Sauvegarde HTML dans : {OUTPUT_HTML_NAME}\")\n",
    "        final_object.save(OUTPUT_HTML_NAME)\n",
    "        # On crée un fichier marqueur générique pour la capture d'écran\n",
    "        print(f\"--> Création du marqueur de capture d'écran.\")\n",
    "        with open(f\"{OUTPUT_HTML_NAME}.needs_screenshot\", \"w\") as f:\n",
    "            f.write(\"folium\")\n",
    "    elif 'altair.vegalite' in object_type and hasattr(final_object, 'save'):\n",
    "        print(f\"--> Détecté : Altair. Sauvegarde HTML dans : {OUTPUT_HTML_NAME}\")\n",
    "        final_object.save(OUTPUT_HTML_NAME)\n",
    "        # On crée un fichier marqueur générique pour la capture d'écran\n",
    "        print(f\"--> Création du marqueur de capture d'écran.\")\n",
    "        with open(f\"{OUTPUT_HTML_NAME}.needs_screenshot\", \"w\") as f:\n",
    "            f.write(\"altair\")\n",
    "    elif 'bokeh.plotting' in object_type and bokeh_save is not None:\n",
    "        print(f\"--> Détecté : Bokeh. Sauvegarde HTML dans : {OUTPUT_HTML_NAME}\")\n",
    "        bokeh_save(final_object, filename=OUTPUT_HTML_NAME, title=\"\")\n",
    "        # On crée un fichier marqueur générique pour la capture d'écran\n",
    "        print(f\"--> Création du marqueur de capture d'écran.\")\n",
    "        with open(f\"{OUTPUT_HTML_NAME}.needs_screenshot\", \"w\") as f:\n",
    "            f.write(\"bokeh\")\n",
    "    elif 'matplotlib.figure.Figure' in object_type:\n",
    "        print(f\"--> Détecté : Matplotlib. Sauvegarde dans : {OUTPUT_IMAGE_NAME}\")\n",
    "        final_object.savefig(OUTPUT_IMAGE_NAME, dpi=300, bbox_inches='tight')\n",
    "    else:\n",
    "        print(f\"AVERTISSEMENT: Type non supporté : {object_type}\", file=sys.stderr)\n",
    "except NameError:\n",
    "    print(f\"AVERTISSEMENT: Aucune variable '{FINAL_OBJECT_VARIABLE_NAME}' trouvée.\", file=sys.stderr)\n",
    "except Exception as e:\n",
    "    print(f\"ERREUR lors de l'exportation : {e}\", file=sys.stderr)\n"
   ]
  }
 ],
 "metadata": {
  "kernelspec": {
   "display_name": "Python 3",
   "language": "python",
   "name": "python3"
  },
  "language_info": {
   "codemirror_mode": {
    "name": "ipython",
    "version": 3
   },
   "file_extension": ".py",
   "mimetype": "text/x-python",
   "name": "python",
   "nbconvert_exporter": "python",
   "pygments_lexer": "ipython3",
   "version": "3.10.11"
  }
 },
 "nbformat": 4,
 "nbformat_minor": 4
}
