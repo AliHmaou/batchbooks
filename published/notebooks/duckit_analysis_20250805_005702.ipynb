{
  "cells": [
    {
      "cell_type": "markdown",
      "metadata": {},
      "source": [
        "# Analyse des Propriétés de l'État : Une Carte Choropleth pour Comprendre la Répartition Départementale\n",
        "\n",
        "\n",
        "L'analyse présentée dans ce notebook se concentre sur les données relatives aux biens immobiliers appartenant à l'État français, issues du dataset \"Inventaire Immobilier de l'État\" disponible sur le site data.economie.gouv.fr. Ce dataset fournit des informations détaillées sur la localisation, le type, la fonction et le ministère dont dépendent ces biens immobiliers. L'objectif principal est de préparer les données pour créer une carte choropleth qui illustre la répartition des propriétés de l'État au niveau départemental.\n",
        "\n",
        "\n",
        "L'utilisation de ces données permet non seulement de comprendre la répartition géographique des biens immobiliers de l'État mais aussi d'analyser leur diversité en termes de type, de fonction et de dépendance ministérielle. La source des données, https://data.economie.gouv.fr/api/explore/v2.1/catalog/datasets/inventaire-immobilier-de-letat/exports/csv?use_labels=true, offre un aperçu exhaustif de l'inventaire immobilier de l'État, permettant ainsi des analyses approfondies sur la base de critères variés.\n",
        "\n",
        "\n",
        "## Méthodologie\n",
        "\n",
        "\n",
        "La méthodologie adoptée pour cette analyse implique plusieurs étapes clés. Premièrement, les données sont extraites du dataset \"Inventaire Immobilier de l'État\" et chargées dans un dataframe pour traitement. Ensuite, une requête SQL est exécutée via DuckDB pour agréger les données par département, en calculant le nombre total de propriétés, le nombre de propriétés uniques et le nombre de ministères différents représentés dans chaque département. Les résultats sont ensuite utilisés pour créer une carte choropleth à l'aide de Plotly Express, en superposant les données agrégées avec un GeoJSON représentant les départements français.\n",
        "\n",
        "\n",
        "Les données sont ainsi visualisées de manière à mettre en évidence les disparités régionales dans la répartition des propriétés de l'État, facilitant l'identification des départements avec une forte concentration de biens immobiliers et permettant une analyse plus fine de la diversité de ces biens en fonction de différents critères."
      ]
    },
    {
      "cell_type": "markdown",
      "metadata": {},
      "source": [
        "## 🔧 Configuration"
      ]
    },
    {
      "cell_type": "code",
      "execution_count": 1,
      "metadata": {},
      "outputs": [],
      "source": [
        "# Installation et imports\n",
        "import duckdb as ddb\n",
        "import pandas as pd\n",
        "import plotly.express as px\n",
        "import plotly.graph_objects as go"
      ]
    },
    {
      "cell_type": "markdown",
      "metadata": {},
      "source": [
        "## 🦆 Chargement du dataset avec Duckdb"
      ]
    },
    {
      "cell_type": "code",
      "execution_count": 1,
      "metadata": {},
      "outputs": [],
      "source": [
        "# Fonction de chargement complète (basée sur load_file_from_url_lite)\n",
        "def load_file_from_url_lite(url_dataset=\"\", loader=\"read_csv_auto\", options=\"\", nom_table=\"loaded_dataset\", safe_mode=False):\n",
        "    ddb.execute(\"install spatial\")\n",
        "    ddb.execute(\"load spatial\")\n",
        "    ddb.execute(\"INSTALL h3 FROM community\")\n",
        "    ddb.execute(\"LOAD h3\")\n",
        "    ddb.execute(\"install webbed from community;\")\n",
        "    ddb.execute(\"load webbed\")\n",
        "    ddb.execute(\"set force_download=True\")\n",
        "    ddb.execute(f\"drop table if exists {nom_table}\")   \n",
        "    \n",
        "    # Détection automatique du type de fichier\n",
        "    if 'csv' in url_dataset: \n",
        "        loader = \"read_csv_auto\"\n",
        "    elif 'tsv' in url_dataset: \n",
        "        loader = \"read_csv_auto\"\n",
        "    elif 'txt' in url_dataset: \n",
        "        loader = \"read_csv_auto\"\n",
        "    elif 'parquet' in url_dataset: \n",
        "        loader = \"read_parquet\"\n",
        "    elif 'json' in url_dataset: \n",
        "        loader = \"read_json_auto\"\n",
        "    elif 'xls' in url_dataset or 'xlsx' in url_dataset: \n",
        "        loader = \"st_read\"\n",
        "    elif 'shp' in url_dataset: \n",
        "        loader = \"st_read\"\n",
        "    elif 'geojson' in url_dataset: \n",
        "        loader = \"st_read\"\n",
        "    elif 'xml' in url_dataset: \n",
        "        loader = \"read_xml\"\n",
        "    elif 'html' in url_dataset: \n",
        "        loader = \"read_html\"\n",
        "    else: \n",
        "        raise ValueError(f\"Type de fichier non supporté pour {url_dataset}\")\n",
        "    \n",
        "    if options==\"\": \n",
        "        options = \"\" \n",
        "    if 'csv' in url_dataset and safe_mode==True: \n",
        "        options = \", all_varchar=1\" \n",
        "    if nom_table==\"\": \n",
        "        nom_table = \"loaded_dataset\"\n",
        "    \n",
        "    try:\n",
        "        status = ddb.sql(f\"\"\"\n",
        "            create or replace table {nom_table} as select *\n",
        "            from\n",
        "            {loader}(\"{url_dataset}\" {options})\n",
        "        \"\"\")\n",
        "        return status\n",
        "    except Exception as e:\n",
        "        return f\"Erreur au chargement du fichier : {str(e)}\"\n",
        "\n",
        "def run_query(sql):\n",
        "    return ddb.sql(sql.replace(\"`\",\" \")).to_df()\n",
        "\n",
        "# Chargement des données\n",
        "load_file_from_url_lite(\"https://data.economie.gouv.fr/api/explore/v2.1/catalog/datasets/inventaire-immobilier-de-letat/exports/csv?use_labels=true\", safe_mode=True)\n",
        "print(\"✅ Données chargées avec succès\")"
      ]
    },
    {
      "cell_type": "markdown",
      "metadata": {},
      "source": [
        "## 🔍 Analyse SQL\n",
        "\n",
        "Cette requête utilise des techniques SQL pour extraire et transformer les données de manière efficace."
      ]
    },
    {
      "cell_type": "code",
      "execution_count": 2,
      "metadata": {},
      "outputs": [],
      "source": [
        "# Exécution de la requête\n",
        "df = run_query(\"\"\" SELECT \n",
        "  lpad(\"dept\", 2, '0') AS code_dept,\n",
        "  COUNT(*) AS nb_proprietes,\n",
        "  COUNT(DISTINCT \"id\") AS nb_proprietes_uniques,\n",
        "  COUNT(DISTINCT \"ministere\") AS nb_ministeres\n",
        "FROM \n",
        "  loaded_dataset\n",
        "GROUP BY \n",
        "  \"dept\"\n",
        "ORDER BY \n",
        "  code_dept \"\"\")\n",
        "print(f\"Résultats : {len(df)} lignes\")\n",
        "df.head()"
      ]
    },
    {
      "cell_type": "markdown",
      "metadata": {},
      "source": [
        "## 📈 Visualisation\n",
        "\n",
        "La bibliothèque principale utilisée pour cette datavisualisation est Plotly Express, qui est idéale pour créer des cartes interactives et des représentations graphiques complexes de manière simple et efficace. Le choix d'une carte choropleth est pertinent pour représenter des données géographiques, telles que le nombre de propriétés de l'État par département en France. Cela permet une visualisation claire et intuitive des données."
      ]
    },
    {
      "cell_type": "code",
      "execution_count": 3,
      "metadata": {},
      "outputs": [],
      "source": [
        "import pandas as pd\n",
        "import duckdb as ddb\n",
        "import plotly.express as px\n",
        "import pandas as pd\n",
        "import requests\n",
        "import json\n",
        "\n",
        "# Récupération du geojson des départements français\n",
        "url = \"https://france-geojson.gregoiredavid.fr/repo/departements.geojson\"\n",
        "response = requests.get(url)\n",
        "geojson = response.json()\n",
        "\n",
        "# Mise en forme du code_dept en 2 chiffres\n",
        "df['code_dept'] = df['code_dept'].astype(str).str.zfill(2)\n",
        "\n",
        "# Création de la carte choropleth\n",
        "dataviz = px.choropleth_mapbox(\n",
        "    df,\n",
        "    geojson=geojson,\n",
        "    locations='code_dept',\n",
        "    featureidkey=\"properties.code\",\n",
        "    color='nb_proprietes',\n",
        "    color_continuous_scale=\"Blues\",\n",
        "    range_color=[df['nb_proprietes'].min(), df['nb_proprietes'].max()],\n",
        "    mapbox_style=\"carto-positron\",\n",
        "    zoom=4.5,\n",
        "    center={\"lat\": 46.5, \"lon\": 2.5},\n",
        "    opacity=0.7,\n",
        "    labels={'nb_proprietes': \"Nombre de propriétés\"},\n",
        "    hover_data={\n",
        "        'code_dept': True,\n",
        "        'nb_proprietes': True,\n",
        "        'nb_proprietes_uniques': True,\n",
        "        'nb_ministeres': True\n",
        "    }\n",
        ")\n",
        "\n",
        "# Mise en page finale\n",
        "dataviz.update_layout(\n",
        "    margin=dict(l=0, r=0, t=50, b=0),\n",
        "    title={\n",
        "        'text': \"Carte des propriétés de l'État par département\",\n",
        "        'x': 0.5,\n",
        "        'xanchor': 'center',\n",
        "        'font': dict(size=16, family=\"Segoe UI\")\n",
        "    },\n",
        "    coloraxis_colorbar_title_text=\"Nb propriétés\",\n",
        "    coloraxis_colorbar_len=0.8\n",
        ")\n",
        "dataviz"
      ]
    },
    {
      "cell_type": "markdown",
      "metadata": {},
      "source": [
        "---\n",
        "*Made with ❤️ and with [duckit.fr](https://duckit.fr) - [Ali Hmaou](https://www.linkedin.com/in/ali-hmaou-6b7b73146/)*"
      ]
    }
  ],
  "metadata": {
    "kernelspec": {
      "display_name": "Python 3",
      "language": "python",
      "name": "python3"
    },
    "language_info": {
      "codemirror_mode": {
        "name": "ipython",
        "version": 3
      },
      "file_extension": ".py",
      "mimetype": "text/x-python",
      "name": "python",
      "nbconvert_exporter": "python",
      "pygments_lexer": "ipython3",
      "version": "3.8.0"
    }
  },
  "nbformat": 4,
  "nbformat_minor": 4
}