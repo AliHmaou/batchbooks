{
  "cells": [
    {
      "cell_type": "markdown",
      "metadata": {},
      "source": [
        "# Cartographie Interactive des Lignes de Métro en Île-de-France\n",
        "\n",
        "\n",
        "Le jeu de données utilisé pour cette analyse provient du site [data.iledefrance-mobilites.fr](https://data.iledefrance-mobilites.fr/api/explore/v2.1/catalog/datasets/traces-du-reseau-ferre-idf/exports/csv?lang=fr&timezone=Europe%2FBerlin&use_labels=true&delimiter=%3B), qui fournit les tracés du réseau ferré en Île-de-France. Ce dataset contient des informations géolocalisées sur les lignes de train, de RER, de métro et de tramway, y compris les exploitants, les dates de mise en service et d'autres détails techniques.\n",
        "\n",
        "L'objectif de cette analyse est de préparer les données pour créer une carte interactive des lignes de métro en Île-de-France, en incluant les couleurs web associées à chaque ligne. Cela permettra une visualisation claire et attrayante des lignes de métro dans la région.\n",
        "\n",
        "\n",
        "## Méthodologie\n",
        "\n",
        "La méthodologie utilisée pour cette analyse implique plusieurs étapes clés. Tout d'abord, nous avons sélectionné les données pertinentes en utilisant une requête SQL pour extraire les informations nécessaires sur les lignes de métro. Ensuite, nous avons converti les géométries des lignes en objets Shapely pour faciliter leur utilisation dans la création de la carte interactive. Finalement, nous avons utilisé la bibliothèque Folium pour créer la carte, en ajoutant les lignes de métro avec leurs couleurs respectives et en incluant une légende et un titre pour améliorer la lisibilité de la visualisation.\n",
        "\n",
        "\n",
        "Nous avons utilisé une requête SQL pour sélectionner les données pertinentes, en nous concentrant sur les lignes de métro et en extrayant les informations sur leur géométrie et leurs couleurs web. Les données ont ensuite été traitées et visualisées à l'aide de bibliothèques Python telles que DuckDB, Pandas et Folium."
      ]
    },
    {
      "cell_type": "markdown",
      "metadata": {},
      "source": [
        "## 🔧 Configuration"
      ]
    },
    {
      "cell_type": "code",
      "execution_count": 1,
      "metadata": {},
      "outputs": [],
      "source": [
        "# Installation et imports\n",
        "import duckdb as ddb\n",
        "import pandas as pd\n",
        "import plotly.express as px\n",
        "import plotly.graph_objects as go"
      ]
    },
    {
      "cell_type": "markdown",
      "metadata": {},
      "source": [
        "## 🦆 Chargement du dataset avec Duckdb"
      ]
    },
    {
      "cell_type": "code",
      "execution_count": 1,
      "metadata": {},
      "outputs": [],
      "source": [
        "# Fonction de chargement complète (basée sur load_file_from_url_lite)\n",
        "def load_file_from_url_lite(url_dataset=\"\", loader=\"read_csv_auto\", options=\"\", nom_table=\"loaded_dataset\", safe_mode=False):\n",
        "    ddb.execute(\"install spatial\")\n",
        "    ddb.execute(\"load spatial\")\n",
        "    ddb.execute(\"INSTALL h3 FROM community\")\n",
        "    ddb.execute(\"LOAD h3\")\n",
        "    ddb.execute(\"install webbed from community;\")\n",
        "    ddb.execute(\"load webbed\")\n",
        "    ddb.execute(\"set force_download=True\")\n",
        "    ddb.execute(f\"drop table if exists {nom_table}\")   \n",
        "    \n",
        "    # Détection automatique du type de fichier\n",
        "    if 'csv' in url_dataset: \n",
        "        loader = \"read_csv_auto\"\n",
        "    elif 'tsv' in url_dataset: \n",
        "        loader = \"read_csv_auto\"\n",
        "    elif 'txt' in url_dataset: \n",
        "        loader = \"read_csv_auto\"\n",
        "    elif 'parquet' in url_dataset: \n",
        "        loader = \"read_parquet\"\n",
        "    elif 'json' in url_dataset: \n",
        "        loader = \"read_json_auto\"\n",
        "    elif 'xls' in url_dataset or 'xlsx' in url_dataset: \n",
        "        loader = \"st_read\"\n",
        "    elif 'shp' in url_dataset: \n",
        "        loader = \"st_read\"\n",
        "    elif 'geojson' in url_dataset: \n",
        "        loader = \"st_read\"\n",
        "    elif 'xml' in url_dataset: \n",
        "        loader = \"read_xml\"\n",
        "    elif 'html' in url_dataset: \n",
        "        loader = \"read_html\"\n",
        "    else: \n",
        "        raise ValueError(f\"Type de fichier non supporté pour {url_dataset}\")\n",
        "    \n",
        "    if options==\"\": \n",
        "        options = \"\" \n",
        "    if 'csv' in url_dataset and safe_mode==True: \n",
        "        options = \", all_varchar=1\" \n",
        "    if nom_table==\"\": \n",
        "        nom_table = \"loaded_dataset\"\n",
        "    \n",
        "    try:\n",
        "        status = ddb.sql(f\"\"\"\n",
        "            create or replace table {nom_table} as select *\n",
        "            from\n",
        "            {loader}(\"{url_dataset}\" {options})\n",
        "        \"\"\")\n",
        "        return status\n",
        "    except Exception as e:\n",
        "        return f\"Erreur au chargement du fichier : {str(e)}\"\n",
        "\n",
        "def run_query(sql):\n",
        "    return ddb.sql(sql.replace(\"`\",\" \")).to_df()\n",
        "\n",
        "# Chargement des données\n",
        "load_file_from_url_lite(\"https://data.iledefrance-mobilites.fr/api/explore/v2.1/catalog/datasets/traces-du-reseau-ferre-idf/exports/csv?lang=fr&timezone=Europe%2FBerlin&use_labels=true&delimiter=%3B\", safe_mode=True)\n",
        "print(\"✅ Données chargées avec succès\")"
      ]
    },
    {
      "cell_type": "markdown",
      "metadata": {},
      "source": [
        "## 🔍 Analyse SQL\n",
        "\n",
        "Cette requête utilise des techniques SQL pour extraire et transformer les données de manière efficace."
      ]
    },
    {
      "cell_type": "code",
      "execution_count": 2,
      "metadata": {},
      "outputs": [],
      "source": [
        "# Exécution de la requête\n",
        "df = run_query(\"\"\" SELECT \n",
        "  ST_AsText(ST_GeomFromGeoJSON(\"Geo Shape\")) AS geom_wkt,\n",
        "  \"mode\",\n",
        "  \"ColourWeb_hexa\" AS couleur_web\n",
        "FROM \n",
        "  loaded_dataset\n",
        "WHERE \n",
        "  \"mode\" = 'METRO' \"\"\")\n",
        "print(f\"Résultats : {len(df)} lignes\")\n",
        "df.head()"
      ]
    },
    {
      "cell_type": "markdown",
      "metadata": {},
      "source": [
        "## 📈 Visualisation\n",
        "\n",
        "La bibliothèque principale utilisée est Folium, qui est une surcouche Python pour Leaflet.js, permettant de créer des cartes interactives. Folium est adaptée pour visualiser des données géospatiales, comme les lignes de métro, sur une carte interactive. Cela permet une représentation visuelle claire et dynamique des données."
      ]
    },
    {
      "cell_type": "code",
      "execution_count": 3,
      "metadata": {},
      "outputs": [],
      "source": [
        "import pandas as pd\n",
        "import duckdb as ddb\n",
        "import folium\n",
        "from shapely import wkt\n",
        "import pandas as pd\n",
        "\n",
        "# Assurez-vous que df contient déjà les colonnes geom_wkt, couleur_web et mode\n",
        "# Conversion des géométries WKT en objets Shapely\n",
        "gdf = df.copy()\n",
        "gdf['geometry'] = gdf['geom_wkt'].apply(wkt.loads)\n",
        "\n",
        "# Création de la carte centrée sur Paris\n",
        "m = folium.Map(\n",
        "    location=[48.8566, 2.3522],\n",
        "    zoom_start=12,\n",
        "    tiles='cartodbpositron',\n",
        "    attr='© OpenStreetMap contributors © CARTO'\n",
        ")\n",
        "\n",
        "group = folium.FeatureGroup(name='Lignes de métro', overlay=True, control=True)\n",
        "\n",
        "# Ajout des lignes colorées\n",
        "for _, row in gdf.iterrows():\n",
        "    color = '#' + row['couleur_web'].lstrip('#')\n",
        "    line = folium.PolyLine(\n",
        "        locations=[[lat, lon] for lon, lat in wkt.loads(row['geom_wkt']).coords],\n",
        "        color=color,\n",
        "        weight=5,\n",
        "        opacity=0.8,\n",
        "        tooltip=f\"Mode : {row['mode']}<br>Couleur : {color}\"\n",
        "    )\n",
        "    line.add_to(group)\n",
        "group.add_to(m)\n",
        "\n",
        "# Légende HTML\n",
        "legend_code = '''\n",
        "<div style=\"\n",
        "    position: fixed; \n",
        "    bottom: 20px; left: 20px; width: 220px; height: 50px; \n",
        "    background-color: white; z-index: 900; border:2px solid grey;\n",
        "    padding: 8px;\n",
        "    font-family: 'Roboto', sans-serif;\n",
        "    font-size: 14px;\n",
        "\">\n",
        "<b>Légende :</b><br>\n",
        "Lignes de métro<br>\n",
        "(Modes et couleurs issues des données)\n",
        "</div>\n",
        "'''\n",
        "m.get_root().html.add_child(folium.Element(legend_code))\n",
        "\n",
        "# Titre HTML\n",
        "title_code = '''\n",
        "<div style=\"\n",
        "    position: fixed; \n",
        "    top: 10px; left: 50%; transform: translateX(-50%);\n",
        "    background-color: rgba(255,255,255,0.9); z-index: 900; border:2px solid grey;\n",
        "    padding: 8px 16px;\n",
        "    font-family: 'Roboto', sans-serif;\n",
        "    font-size: 18px;\n",
        "    font-weight: bold;\n",
        "\">\n",
        "Carte interactive des lignes de métro d'Île-de-France\n",
        "</div>\n",
        "'''\n",
        "m.get_root().html.add_child(folium.Element(title_code))\n",
        "\n",
        "folium.LayerControl(collapsed=False).add_to(m)\n",
        "\n",
        "# Variable globale pour publication\n",
        "dataviz = m\n",
        "dataviz"
      ]
    },
    {
      "cell_type": "markdown",
      "metadata": {},
      "source": [
        "---\n",
        "*Made with ❤️ and with [duckit.fr](https://duckit.fr) - [Ali Hmaou](https://www.linkedin.com/in/ali-hmaou-6b7b73146/)*"
      ]
    }
  ],
  "metadata": {
    "kernelspec": {
      "display_name": "Python 3",
      "language": "python",
      "name": "python3"
    },
    "language_info": {
      "codemirror_mode": {
        "name": "ipython",
        "version": 3
      },
      "file_extension": ".py",
      "mimetype": "text/x-python",
      "name": "python",
      "nbconvert_exporter": "python",
      "pygments_lexer": "ipython3",
      "version": "3.8.0"
    }
  },
  "nbformat": 4,
  "nbformat_minor": 4
}