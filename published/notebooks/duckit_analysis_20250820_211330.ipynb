{
 "cells": [
  {
   "cell_type": "markdown",
   "metadata": {},
   "source": [
    "# Analyse Climatique : Évolution de la Température Moyenne Cumulative par Année\n",
    "\n",
    "L'objectif de cette analyse est d'explorer les données météorologiques quotidiennes relevées dans différentes stations en France pour calculer la somme cumulative de la température moyenne journalière pour chaque année. Les données utilisées proviennent du fichier `Q_34_latest-2024-2025_RR-T-Vent.csv.gz` disponible sur le site [data.gouv.fr](https://object.files.data.gouv.fr/meteofrance/data/synchro_ftp/BASE/QUOT/Q_34_latest-2024-2025_RR-T-Vent.csv.gz). Ce fichier contient des relevés météorologiques quotidiens, notamment les températures minimales, maximales et moyennes, ainsi que les précipitations et la vitesse du vent.\n",
    "\n",
    "L'analyse se concentre sur la température moyenne journalière et vise à moyenner ces valeurs sur toutes les stations pour chaque jour de l'année, puis à calculer la somme cumulative de ces moyennes pour obtenir une représentation de l'évolution de la température moyenne cumulative par année. Cela permettra d'identifier les tendances et les variations dans les températures moyennes au fil des ans.\n",
    "\n",
    "\n",
    "## Méthodologie\n",
    "\n",
    "La méthodologie utilisée dans cette analyse implique plusieurs étapes. Tout d'abord, les données sont chargées et traitées à l'aide de requêtes SQL pour extraire les informations nécessaires. Une première requête calcule la moyenne de la température moyenne journalière (`TM`) pour chaque jour de l'année en moyennant sur toutes les stations. Ensuite, une seconde requête calcule la somme cumulative de ces moyennes pour chaque année. Les résultats sont ensuite visualisés à l'aide de graphiques linéaires pour représenter l'évolution de la température moyenne cumulative par année.\n",
    "\n",
    "\n",
    " \n",
    "\n",
    "Les résultats de cette analyse sont présentés sous forme de graphique linéaire interactif, permettant de visualiser l'évolution de la température moyenne cumulative pour chaque année et de comparer les tendances entre les différentes années."
   ]
  },
  {
   "cell_type": "markdown",
   "metadata": {},
   "source": [
    "## 🔧 Configuration"
   ]
  },
  {
   "cell_type": "code",
   "execution_count": 1,
   "metadata": {
    "execution": {
     "iopub.execute_input": "2025-08-21T09:58:36.927424Z",
     "iopub.status.busy": "2025-08-21T09:58:36.927424Z",
     "iopub.status.idle": "2025-08-21T09:58:37.516658Z",
     "shell.execute_reply": "2025-08-21T09:58:37.516658Z"
    }
   },
   "outputs": [],
   "source": [
    "# Installation et imports\n",
    "import duckdb as ddb\n",
    "import pandas as pd\n",
    "import plotly.express as px\n",
    "import plotly.graph_objects as go"
   ]
  },
  {
   "cell_type": "markdown",
   "metadata": {},
   "source": [
    "## 🦆 Chargement du dataset avec Duckdb"
   ]
  },
  {
   "cell_type": "code",
   "execution_count": 2,
   "metadata": {
    "execution": {
     "iopub.execute_input": "2025-08-21T09:58:37.516658Z",
     "iopub.status.busy": "2025-08-21T09:58:37.516658Z",
     "iopub.status.idle": "2025-08-21T09:58:39.595778Z",
     "shell.execute_reply": "2025-08-21T09:58:39.595449Z"
    }
   },
   "outputs": [
    {
     "name": "stdout",
     "output_type": "stream",
     "text": [
      "✅ Données chargées avec succès\n"
     ]
    }
   ],
   "source": [
    "# Fonction de chargement complète (basée sur load_file_from_url_lite)\n",
    "def load_file_from_url_lite(url_dataset=\"\", loader=\"read_csv_auto\", options=\"\", nom_table=\"loaded_dataset\", safe_mode=False):\n",
    "    ddb.execute(\"install spatial\")\n",
    "    ddb.execute(\"load spatial\")\n",
    "    ddb.execute(\"INSTALL h3 FROM community\")\n",
    "    ddb.execute(\"LOAD h3\")\n",
    "    ddb.execute(\"install webbed from community;\")\n",
    "    ddb.execute(\"load webbed\")\n",
    "    ddb.execute(\"set force_download=True\")\n",
    "    ddb.execute(f\"drop table if exists {nom_table}\")   \n",
    "    \n",
    "    # Détection automatique du type de fichier\n",
    "    if 'csv' in url_dataset: \n",
    "        loader = \"read_csv_auto\"\n",
    "    elif 'tsv' in url_dataset: \n",
    "        loader = \"read_csv_auto\"\n",
    "    elif 'txt' in url_dataset: \n",
    "        loader = \"read_csv_auto\"\n",
    "    elif 'parquet' in url_dataset: \n",
    "        loader = \"read_parquet\"\n",
    "    elif 'json' in url_dataset: \n",
    "        loader = \"read_json_auto\"\n",
    "    elif 'xls' in url_dataset or 'xlsx' in url_dataset: \n",
    "        loader = \"st_read\"\n",
    "    elif 'shp' in url_dataset: \n",
    "        loader = \"st_read\"\n",
    "    elif 'geojson' in url_dataset: \n",
    "        loader = \"st_read\"\n",
    "    elif 'xml' in url_dataset: \n",
    "        loader = \"read_xml\"\n",
    "    elif 'html' in url_dataset: \n",
    "        loader = \"read_html\"\n",
    "    else: \n",
    "        raise ValueError(f\"Type de fichier non supporté pour {url_dataset}\")\n",
    "    \n",
    "    if options==\"\": \n",
    "        options = \"\" \n",
    "    if 'csv' in url_dataset and safe_mode==True: \n",
    "        options = \", all_varchar=1\" \n",
    "    if nom_table==\"\": \n",
    "        nom_table = \"loaded_dataset\"\n",
    "    \n",
    "    try:\n",
    "        status = ddb.sql(f\"\"\"\n",
    "            create or replace table {nom_table} as select *\n",
    "            from\n",
    "            {loader}(\"{url_dataset}\" {options})\n",
    "        \"\"\")\n",
    "        return status\n",
    "    except Exception as e:\n",
    "        return f\"Erreur au chargement du fichier : {str(e)}\"\n",
    "\n",
    "def run_query(sql):\n",
    "    return ddb.sql(sql.replace(\"`\",\" \")).to_df()\n",
    "\n",
    "# Chargement des données\n",
    "load_file_from_url_lite(\"https://object.files.data.gouv.fr/meteofrance/data/synchro_ftp/BASE/QUOT/Q_34_latest-2024-2025_RR-T-Vent.csv.gz\", safe_mode=True)\n",
    "print(\"✅ Données chargées avec succès\")"
   ]
  },
  {
   "cell_type": "markdown",
   "metadata": {},
   "source": [
    "## 🔍 Analyse SQL\n",
    "\n",
    "Cette requête utilise des techniques SQL pour extraire et transformer les données de manière efficace."
   ]
  },
  {
   "cell_type": "code",
   "execution_count": 3,
   "metadata": {
    "execution": {
     "iopub.execute_input": "2025-08-21T09:58:39.627150Z",
     "iopub.status.busy": "2025-08-21T09:58:39.626618Z",
     "iopub.status.idle": "2025-08-21T09:58:39.659021Z",
     "shell.execute_reply": "2025-08-21T09:58:39.659021Z"
    }
   },
   "outputs": [
    {
     "name": "stdout",
     "output_type": "stream",
     "text": [
      "Résultats : 597 lignes\n"
     ]
    },
    {
     "data": {
      "text/html": [
       "<div>\n",
       "<style scoped>\n",
       "    .dataframe tbody tr th:only-of-type {\n",
       "        vertical-align: middle;\n",
       "    }\n",
       "\n",
       "    .dataframe tbody tr th {\n",
       "        vertical-align: top;\n",
       "    }\n",
       "\n",
       "    .dataframe thead th {\n",
       "        text-align: right;\n",
       "    }\n",
       "</style>\n",
       "<table border=\"1\" class=\"dataframe\">\n",
       "  <thead>\n",
       "    <tr style=\"text-align: right;\">\n",
       "      <th></th>\n",
       "      <th>year</th>\n",
       "      <th>month</th>\n",
       "      <th>day</th>\n",
       "      <th>cumulative_tm</th>\n",
       "    </tr>\n",
       "  </thead>\n",
       "  <tbody>\n",
       "    <tr>\n",
       "      <th>0</th>\n",
       "      <td>2024</td>\n",
       "      <td>01</td>\n",
       "      <td>01</td>\n",
       "      <td>7.317857</td>\n",
       "    </tr>\n",
       "    <tr>\n",
       "      <th>1</th>\n",
       "      <td>2024</td>\n",
       "      <td>01</td>\n",
       "      <td>02</td>\n",
       "      <td>14.139286</td>\n",
       "    </tr>\n",
       "    <tr>\n",
       "      <th>2</th>\n",
       "      <td>2024</td>\n",
       "      <td>01</td>\n",
       "      <td>03</td>\n",
       "      <td>24.760714</td>\n",
       "    </tr>\n",
       "    <tr>\n",
       "      <th>3</th>\n",
       "      <td>2024</td>\n",
       "      <td>01</td>\n",
       "      <td>04</td>\n",
       "      <td>35.657143</td>\n",
       "    </tr>\n",
       "    <tr>\n",
       "      <th>4</th>\n",
       "      <td>2024</td>\n",
       "      <td>01</td>\n",
       "      <td>05</td>\n",
       "      <td>44.707143</td>\n",
       "    </tr>\n",
       "  </tbody>\n",
       "</table>\n",
       "</div>"
      ],
      "text/plain": [
       "   year month day  cumulative_tm\n",
       "0  2024    01  01       7.317857\n",
       "1  2024    01  02      14.139286\n",
       "2  2024    01  03      24.760714\n",
       "3  2024    01  04      35.657143\n",
       "4  2024    01  05      44.707143"
      ]
     },
     "execution_count": 3,
     "metadata": {},
     "output_type": "execute_result"
    }
   ],
   "source": [
    "# Exécution de la requête\n",
    "df = run_query(\"\"\" WITH daily_avg_tm AS (\n",
    "  SELECT \n",
    "    SUBSTRING(CAST(\"AAAAMMJJ\" AS VARCHAR), 1, 4) AS year,\n",
    "    SUBSTRING(CAST(\"AAAAMMJJ\" AS VARCHAR), 5, 2) AS month,\n",
    "    SUBSTRING(CAST(\"AAAAMMJJ\" AS VARCHAR), 7, 2) AS day,\n",
    "    AVG(CAST(\"TM\" AS DOUBLE)) AS avg_tm\n",
    "  FROM loaded_dataset\n",
    "  GROUP BY \"AAAAMMJJ\"\n",
    "),\n",
    "cumulative_sum AS (\n",
    "  SELECT \n",
    "    year, \n",
    "    month, \n",
    "    day, \n",
    "    avg_tm,\n",
    "    SUM(avg_tm) OVER (PARTITION BY year ORDER BY month, day) AS cumulative_tm\n",
    "  FROM daily_avg_tm\n",
    ")\n",
    "SELECT \n",
    "  year, \n",
    "  month, \n",
    "  day, \n",
    "  cumulative_tm\n",
    "FROM cumulative_sum\n",
    "ORDER BY year, month, day \"\"\")\n",
    "print(f\"Résultats : {len(df)} lignes\")\n",
    "df.head()"
   ]
  },
  {
   "cell_type": "markdown",
   "metadata": {},
   "source": [
    "## 📈 Visualisation\n",
    "\n",
    "La bibliothèque principale utilisée pour cette visualisation de données est Plotly Express, qui est une surcouche de Plotly. Cette technologie est adaptée pour représenter des données temporelles multivariées, comme ici l'évolution de la température moyenne cumulative par année, avec une grande interactivité. Plotly Express permet une représentation claire et interactive des données avec une personnalisation avancée."
   ]
  },
  {
   "cell_type": "code",
   "execution_count": 4,
   "metadata": {
    "execution": {
     "iopub.execute_input": "2025-08-21T09:58:39.659021Z",
     "iopub.status.busy": "2025-08-21T09:58:39.659021Z",
     "iopub.status.idle": "2025-08-21T09:58:41.758058Z",
     "shell.execute_reply": "2025-08-21T09:58:41.757055Z"
    }
   },
   "outputs": [
    {
     "data": {
      "application/vnd.plotly.v1+json": {
       "config": {
        "plotlyServerURL": "https://plot.ly"
       },
       "data": [
        {
         "customdata": [
          [
           "2024-01-01T00:00:00"
          ],
          [
           "2024-01-02T00:00:00"
          ],
          [
           "2024-01-03T00:00:00"
          ],
          [
           "2024-01-04T00:00:00"
          ],
          [
           "2024-01-05T00:00:00"
          ],
          [
           "2024-01-06T00:00:00"
          ],
          [
           "2024-01-07T00:00:00"
          ],
          [
           "2024-01-08T00:00:00"
          ],
          [
           "2024-01-09T00:00:00"
          ],
          [
           "2024-01-10T00:00:00"
          ],
          [
           "2024-01-11T00:00:00"
          ],
          [
           "2024-01-12T00:00:00"
          ],
          [
           "2024-01-13T00:00:00"
          ],
          [
           "2024-01-14T00:00:00"
          ],
          [
           "2024-01-15T00:00:00"
          ],
          [
           "2024-01-16T00:00:00"
          ],
          [
           "2024-01-17T00:00:00"
          ],
          [
           "2024-01-18T00:00:00"
          ],
          [
           "2024-01-19T00:00:00"
          ],
          [
           "2024-01-20T00:00:00"
          ],
          [
           "2024-01-21T00:00:00"
          ],
          [
           "2024-01-22T00:00:00"
          ],
          [
           "2024-01-23T00:00:00"
          ],
          [
           "2024-01-24T00:00:00"
          ],
          [
           "2024-01-25T00:00:00"
          ],
          [
           "2024-01-26T00:00:00"
          ],
          [
           "2024-01-27T00:00:00"
          ],
          [
           "2024-01-28T00:00:00"
          ],
          [
           "2024-01-29T00:00:00"
          ],
          [
           "2024-01-30T00:00:00"
          ],
          [
           "2024-01-31T00:00:00"
          ],
          [
           "2024-02-01T00:00:00"
          ],
          [
           "2024-02-02T00:00:00"
          ],
          [
           "2024-02-03T00:00:00"
          ],
          [
           "2024-02-04T00:00:00"
          ],
          [
           "2024-02-05T00:00:00"
          ],
          [
           "2024-02-06T00:00:00"
          ],
          [
           "2024-02-07T00:00:00"
          ],
          [
           "2024-02-08T00:00:00"
          ],
          [
           "2024-02-09T00:00:00"
          ],
          [
           "2024-02-10T00:00:00"
          ],
          [
           "2024-02-11T00:00:00"
          ],
          [
           "2024-02-12T00:00:00"
          ],
          [
           "2024-02-13T00:00:00"
          ],
          [
           "2024-02-14T00:00:00"
          ],
          [
           "2024-02-15T00:00:00"
          ],
          [
           "2024-02-16T00:00:00"
          ],
          [
           "2024-02-17T00:00:00"
          ],
          [
           "2024-02-18T00:00:00"
          ],
          [
           "2024-02-19T00:00:00"
          ],
          [
           "2024-02-20T00:00:00"
          ],
          [
           "2024-02-21T00:00:00"
          ],
          [
           "2024-02-22T00:00:00"
          ],
          [
           "2024-02-23T00:00:00"
          ],
          [
           "2024-02-24T00:00:00"
          ],
          [
           "2024-02-25T00:00:00"
          ],
          [
           "2024-02-26T00:00:00"
          ],
          [
           "2024-02-27T00:00:00"
          ],
          [
           "2024-02-28T00:00:00"
          ],
          [
           "2024-02-29T00:00:00"
          ],
          [
           "2024-03-01T00:00:00"
          ],
          [
           "2024-03-02T00:00:00"
          ],
          [
           "2024-03-03T00:00:00"
          ],
          [
           "2024-03-04T00:00:00"
          ],
          [
           "2024-03-05T00:00:00"
          ],
          [
           "2024-03-06T00:00:00"
          ],
          [
           "2024-03-07T00:00:00"
          ],
          [
           "2024-03-08T00:00:00"
          ],
          [
           "2024-03-09T00:00:00"
          ],
          [
           "2024-03-10T00:00:00"
          ],
          [
           "2024-03-11T00:00:00"
          ],
          [
           "2024-03-12T00:00:00"
          ],
          [
           "2024-03-13T00:00:00"
          ],
          [
           "2024-03-14T00:00:00"
          ],
          [
           "2024-03-15T00:00:00"
          ],
          [
           "2024-03-16T00:00:00"
          ],
          [
           "2024-03-17T00:00:00"
          ],
          [
           "2024-03-18T00:00:00"
          ],
          [
           "2024-03-19T00:00:00"
          ],
          [
           "2024-03-20T00:00:00"
          ],
          [
           "2024-03-21T00:00:00"
          ],
          [
           "2024-03-22T00:00:00"
          ],
          [
           "2024-03-23T00:00:00"
          ],
          [
           "2024-03-24T00:00:00"
          ],
          [
           "2024-03-25T00:00:00"
          ],
          [
           "2024-03-26T00:00:00"
          ],
          [
           "2024-03-27T00:00:00"
          ],
          [
           "2024-03-28T00:00:00"
          ],
          [
           "2024-03-29T00:00:00"
          ],
          [
           "2024-03-30T00:00:00"
          ],
          [
           "2024-03-31T00:00:00"
          ],
          [
           "2024-04-01T00:00:00"
          ],
          [
           "2024-04-02T00:00:00"
          ],
          [
           "2024-04-03T00:00:00"
          ],
          [
           "2024-04-04T00:00:00"
          ],
          [
           "2024-04-05T00:00:00"
          ],
          [
           "2024-04-06T00:00:00"
          ],
          [
           "2024-04-07T00:00:00"
          ],
          [
           "2024-04-08T00:00:00"
          ],
          [
           "2024-04-09T00:00:00"
          ],
          [
           "2024-04-10T00:00:00"
          ],
          [
           "2024-04-11T00:00:00"
          ],
          [
           "2024-04-12T00:00:00"
          ],
          [
           "2024-04-13T00:00:00"
          ],
          [
           "2024-04-14T00:00:00"
          ],
          [
           "2024-04-15T00:00:00"
          ],
          [
           "2024-04-16T00:00:00"
          ],
          [
           "2024-04-17T00:00:00"
          ],
          [
           "2024-04-18T00:00:00"
          ],
          [
           "2024-04-19T00:00:00"
          ],
          [
           "2024-04-20T00:00:00"
          ],
          [
           "2024-04-21T00:00:00"
          ],
          [
           "2024-04-22T00:00:00"
          ],
          [
           "2024-04-23T00:00:00"
          ],
          [
           "2024-04-24T00:00:00"
          ],
          [
           "2024-04-25T00:00:00"
          ],
          [
           "2024-04-26T00:00:00"
          ],
          [
           "2024-04-27T00:00:00"
          ],
          [
           "2024-04-28T00:00:00"
          ],
          [
           "2024-04-29T00:00:00"
          ],
          [
           "2024-04-30T00:00:00"
          ],
          [
           "2024-05-01T00:00:00"
          ],
          [
           "2024-05-02T00:00:00"
          ],
          [
           "2024-05-03T00:00:00"
          ],
          [
           "2024-05-04T00:00:00"
          ],
          [
           "2024-05-05T00:00:00"
          ],
          [
           "2024-05-06T00:00:00"
          ],
          [
           "2024-05-07T00:00:00"
          ],
          [
           "2024-05-08T00:00:00"
          ],
          [
           "2024-05-09T00:00:00"
          ],
          [
           "2024-05-10T00:00:00"
          ],
          [
           "2024-05-11T00:00:00"
          ],
          [
           "2024-05-12T00:00:00"
          ],
          [
           "2024-05-13T00:00:00"
          ],
          [
           "2024-05-14T00:00:00"
          ],
          [
           "2024-05-15T00:00:00"
          ],
          [
           "2024-05-16T00:00:00"
          ],
          [
           "2024-05-17T00:00:00"
          ],
          [
           "2024-05-18T00:00:00"
          ],
          [
           "2024-05-19T00:00:00"
          ],
          [
           "2024-05-20T00:00:00"
          ],
          [
           "2024-05-21T00:00:00"
          ],
          [
           "2024-05-22T00:00:00"
          ],
          [
           "2024-05-23T00:00:00"
          ],
          [
           "2024-05-24T00:00:00"
          ],
          [
           "2024-05-25T00:00:00"
          ],
          [
           "2024-05-26T00:00:00"
          ],
          [
           "2024-05-27T00:00:00"
          ],
          [
           "2024-05-28T00:00:00"
          ],
          [
           "2024-05-29T00:00:00"
          ],
          [
           "2024-05-30T00:00:00"
          ],
          [
           "2024-05-31T00:00:00"
          ],
          [
           "2024-06-01T00:00:00"
          ],
          [
           "2024-06-02T00:00:00"
          ],
          [
           "2024-06-03T00:00:00"
          ],
          [
           "2024-06-04T00:00:00"
          ],
          [
           "2024-06-05T00:00:00"
          ],
          [
           "2024-06-06T00:00:00"
          ],
          [
           "2024-06-07T00:00:00"
          ],
          [
           "2024-06-08T00:00:00"
          ],
          [
           "2024-06-09T00:00:00"
          ],
          [
           "2024-06-10T00:00:00"
          ],
          [
           "2024-06-11T00:00:00"
          ],
          [
           "2024-06-12T00:00:00"
          ],
          [
           "2024-06-13T00:00:00"
          ],
          [
           "2024-06-14T00:00:00"
          ],
          [
           "2024-06-15T00:00:00"
          ],
          [
           "2024-06-16T00:00:00"
          ],
          [
           "2024-06-17T00:00:00"
          ],
          [
           "2024-06-18T00:00:00"
          ],
          [
           "2024-06-19T00:00:00"
          ],
          [
           "2024-06-20T00:00:00"
          ],
          [
           "2024-06-21T00:00:00"
          ],
          [
           "2024-06-22T00:00:00"
          ],
          [
           "2024-06-23T00:00:00"
          ],
          [
           "2024-06-24T00:00:00"
          ],
          [
           "2024-06-25T00:00:00"
          ],
          [
           "2024-06-26T00:00:00"
          ],
          [
           "2024-06-27T00:00:00"
          ],
          [
           "2024-06-28T00:00:00"
          ],
          [
           "2024-06-29T00:00:00"
          ],
          [
           "2024-06-30T00:00:00"
          ],
          [
           "2024-07-01T00:00:00"
          ],
          [
           "2024-07-02T00:00:00"
          ],
          [
           "2024-07-03T00:00:00"
          ],
          [
           "2024-07-04T00:00:00"
          ],
          [
           "2024-07-05T00:00:00"
          ],
          [
           "2024-07-06T00:00:00"
          ],
          [
           "2024-07-07T00:00:00"
          ],
          [
           "2024-07-08T00:00:00"
          ],
          [
           "2024-07-09T00:00:00"
          ],
          [
           "2024-07-10T00:00:00"
          ],
          [
           "2024-07-11T00:00:00"
          ],
          [
           "2024-07-12T00:00:00"
          ],
          [
           "2024-07-13T00:00:00"
          ],
          [
           "2024-07-14T00:00:00"
          ],
          [
           "2024-07-15T00:00:00"
          ],
          [
           "2024-07-16T00:00:00"
          ],
          [
           "2024-07-17T00:00:00"
          ],
          [
           "2024-07-18T00:00:00"
          ],
          [
           "2024-07-19T00:00:00"
          ],
          [
           "2024-07-20T00:00:00"
          ],
          [
           "2024-07-21T00:00:00"
          ],
          [
           "2024-07-22T00:00:00"
          ],
          [
           "2024-07-23T00:00:00"
          ],
          [
           "2024-07-24T00:00:00"
          ],
          [
           "2024-07-25T00:00:00"
          ],
          [
           "2024-07-26T00:00:00"
          ],
          [
           "2024-07-27T00:00:00"
          ],
          [
           "2024-07-28T00:00:00"
          ],
          [
           "2024-07-29T00:00:00"
          ],
          [
           "2024-07-30T00:00:00"
          ],
          [
           "2024-07-31T00:00:00"
          ],
          [
           "2024-08-01T00:00:00"
          ],
          [
           "2024-08-02T00:00:00"
          ],
          [
           "2024-08-03T00:00:00"
          ],
          [
           "2024-08-04T00:00:00"
          ],
          [
           "2024-08-05T00:00:00"
          ],
          [
           "2024-08-06T00:00:00"
          ],
          [
           "2024-08-07T00:00:00"
          ],
          [
           "2024-08-08T00:00:00"
          ],
          [
           "2024-08-09T00:00:00"
          ],
          [
           "2024-08-10T00:00:00"
          ],
          [
           "2024-08-11T00:00:00"
          ],
          [
           "2024-08-12T00:00:00"
          ],
          [
           "2024-08-13T00:00:00"
          ],
          [
           "2024-08-14T00:00:00"
          ],
          [
           "2024-08-15T00:00:00"
          ],
          [
           "2024-08-16T00:00:00"
          ],
          [
           "2024-08-17T00:00:00"
          ],
          [
           "2024-08-18T00:00:00"
          ],
          [
           "2024-08-19T00:00:00"
          ],
          [
           "2024-08-20T00:00:00"
          ],
          [
           "2024-08-21T00:00:00"
          ],
          [
           "2024-08-22T00:00:00"
          ],
          [
           "2024-08-23T00:00:00"
          ],
          [
           "2024-08-24T00:00:00"
          ],
          [
           "2024-08-25T00:00:00"
          ],
          [
           "2024-08-26T00:00:00"
          ],
          [
           "2024-08-27T00:00:00"
          ],
          [
           "2024-08-28T00:00:00"
          ],
          [
           "2024-08-29T00:00:00"
          ],
          [
           "2024-08-30T00:00:00"
          ],
          [
           "2024-08-31T00:00:00"
          ],
          [
           "2024-09-01T00:00:00"
          ],
          [
           "2024-09-02T00:00:00"
          ],
          [
           "2024-09-03T00:00:00"
          ],
          [
           "2024-09-04T00:00:00"
          ],
          [
           "2024-09-05T00:00:00"
          ],
          [
           "2024-09-06T00:00:00"
          ],
          [
           "2024-09-07T00:00:00"
          ],
          [
           "2024-09-08T00:00:00"
          ],
          [
           "2024-09-09T00:00:00"
          ],
          [
           "2024-09-10T00:00:00"
          ],
          [
           "2024-09-11T00:00:00"
          ],
          [
           "2024-09-12T00:00:00"
          ],
          [
           "2024-09-13T00:00:00"
          ],
          [
           "2024-09-14T00:00:00"
          ],
          [
           "2024-09-15T00:00:00"
          ],
          [
           "2024-09-16T00:00:00"
          ],
          [
           "2024-09-17T00:00:00"
          ],
          [
           "2024-09-18T00:00:00"
          ],
          [
           "2024-09-19T00:00:00"
          ],
          [
           "2024-09-20T00:00:00"
          ],
          [
           "2024-09-21T00:00:00"
          ],
          [
           "2024-09-22T00:00:00"
          ],
          [
           "2024-09-23T00:00:00"
          ],
          [
           "2024-09-24T00:00:00"
          ],
          [
           "2024-09-25T00:00:00"
          ],
          [
           "2024-09-26T00:00:00"
          ],
          [
           "2024-09-27T00:00:00"
          ],
          [
           "2024-09-28T00:00:00"
          ],
          [
           "2024-09-29T00:00:00"
          ],
          [
           "2024-09-30T00:00:00"
          ],
          [
           "2024-10-01T00:00:00"
          ],
          [
           "2024-10-02T00:00:00"
          ],
          [
           "2024-10-03T00:00:00"
          ],
          [
           "2024-10-04T00:00:00"
          ],
          [
           "2024-10-05T00:00:00"
          ],
          [
           "2024-10-06T00:00:00"
          ],
          [
           "2024-10-07T00:00:00"
          ],
          [
           "2024-10-08T00:00:00"
          ],
          [
           "2024-10-09T00:00:00"
          ],
          [
           "2024-10-10T00:00:00"
          ],
          [
           "2024-10-11T00:00:00"
          ],
          [
           "2024-10-12T00:00:00"
          ],
          [
           "2024-10-13T00:00:00"
          ],
          [
           "2024-10-14T00:00:00"
          ],
          [
           "2024-10-15T00:00:00"
          ],
          [
           "2024-10-16T00:00:00"
          ],
          [
           "2024-10-17T00:00:00"
          ],
          [
           "2024-10-18T00:00:00"
          ],
          [
           "2024-10-19T00:00:00"
          ],
          [
           "2024-10-20T00:00:00"
          ],
          [
           "2024-10-21T00:00:00"
          ],
          [
           "2024-10-22T00:00:00"
          ],
          [
           "2024-10-23T00:00:00"
          ],
          [
           "2024-10-24T00:00:00"
          ],
          [
           "2024-10-25T00:00:00"
          ],
          [
           "2024-10-26T00:00:00"
          ],
          [
           "2024-10-27T00:00:00"
          ],
          [
           "2024-10-28T00:00:00"
          ],
          [
           "2024-10-29T00:00:00"
          ],
          [
           "2024-10-30T00:00:00"
          ],
          [
           "2024-10-31T00:00:00"
          ],
          [
           "2024-11-01T00:00:00"
          ],
          [
           "2024-11-02T00:00:00"
          ],
          [
           "2024-11-03T00:00:00"
          ],
          [
           "2024-11-04T00:00:00"
          ],
          [
           "2024-11-05T00:00:00"
          ],
          [
           "2024-11-06T00:00:00"
          ],
          [
           "2024-11-07T00:00:00"
          ],
          [
           "2024-11-08T00:00:00"
          ],
          [
           "2024-11-09T00:00:00"
          ],
          [
           "2024-11-10T00:00:00"
          ],
          [
           "2024-11-11T00:00:00"
          ],
          [
           "2024-11-12T00:00:00"
          ],
          [
           "2024-11-13T00:00:00"
          ],
          [
           "2024-11-14T00:00:00"
          ],
          [
           "2024-11-15T00:00:00"
          ],
          [
           "2024-11-16T00:00:00"
          ],
          [
           "2024-11-17T00:00:00"
          ],
          [
           "2024-11-18T00:00:00"
          ],
          [
           "2024-11-19T00:00:00"
          ],
          [
           "2024-11-20T00:00:00"
          ],
          [
           "2024-11-21T00:00:00"
          ],
          [
           "2024-11-22T00:00:00"
          ],
          [
           "2024-11-23T00:00:00"
          ],
          [
           "2024-11-24T00:00:00"
          ],
          [
           "2024-11-25T00:00:00"
          ],
          [
           "2024-11-26T00:00:00"
          ],
          [
           "2024-11-27T00:00:00"
          ],
          [
           "2024-11-28T00:00:00"
          ],
          [
           "2024-11-29T00:00:00"
          ],
          [
           "2024-11-30T00:00:00"
          ],
          [
           "2024-12-01T00:00:00"
          ],
          [
           "2024-12-02T00:00:00"
          ],
          [
           "2024-12-03T00:00:00"
          ],
          [
           "2024-12-04T00:00:00"
          ],
          [
           "2024-12-05T00:00:00"
          ],
          [
           "2024-12-06T00:00:00"
          ],
          [
           "2024-12-07T00:00:00"
          ],
          [
           "2024-12-08T00:00:00"
          ],
          [
           "2024-12-09T00:00:00"
          ],
          [
           "2024-12-10T00:00:00"
          ],
          [
           "2024-12-11T00:00:00"
          ],
          [
           "2024-12-12T00:00:00"
          ],
          [
           "2024-12-13T00:00:00"
          ],
          [
           "2024-12-14T00:00:00"
          ],
          [
           "2024-12-15T00:00:00"
          ],
          [
           "2024-12-16T00:00:00"
          ],
          [
           "2024-12-17T00:00:00"
          ],
          [
           "2024-12-18T00:00:00"
          ],
          [
           "2024-12-19T00:00:00"
          ],
          [
           "2024-12-20T00:00:00"
          ],
          [
           "2024-12-21T00:00:00"
          ],
          [
           "2024-12-22T00:00:00"
          ],
          [
           "2024-12-23T00:00:00"
          ],
          [
           "2024-12-24T00:00:00"
          ],
          [
           "2024-12-25T00:00:00"
          ],
          [
           "2024-12-26T00:00:00"
          ],
          [
           "2024-12-27T00:00:00"
          ],
          [
           "2024-12-28T00:00:00"
          ],
          [
           "2024-12-29T00:00:00"
          ],
          [
           "2024-12-30T00:00:00"
          ],
          [
           "2024-12-31T00:00:00"
          ]
         ],
         "hovertemplate": "Année=2024<br>Jour de l'année=%{x}<br>Température Moyenne Cumulative (°C)=%{y:.2f°C}<br>date=%{customdata[0]}<extra></extra>",
         "legendgroup": "2024",
         "line": {
          "color": "rgb(229, 134, 6)",
          "dash": "solid"
         },
         "marker": {
          "symbol": "circle"
         },
         "mode": "lines",
         "name": "2024",
         "orientation": "v",
         "showlegend": true,
         "type": "scatter",
         "x": {
          "bdata": "AQAAAAIAAAADAAAABAAAAAUAAAAGAAAABwAAAAgAAAAJAAAACgAAAAsAAAAMAAAADQAAAA4AAAAPAAAAEAAAABEAAAASAAAAEwAAABQAAAAVAAAAFgAAABcAAAAYAAAAGQAAABoAAAAbAAAAHAAAAB0AAAAeAAAAHwAAACAAAAAhAAAAIgAAACMAAAAkAAAAJQAAACYAAAAnAAAAKAAAACkAAAAqAAAAKwAAACwAAAAtAAAALgAAAC8AAAAwAAAAMQAAADIAAAAzAAAANAAAADUAAAA2AAAANwAAADgAAAA5AAAAOgAAADsAAAA8AAAAPQAAAD4AAAA/AAAAQAAAAEEAAABCAAAAQwAAAEQAAABFAAAARgAAAEcAAABIAAAASQAAAEoAAABLAAAATAAAAE0AAABOAAAATwAAAFAAAABRAAAAUgAAAFMAAABUAAAAVQAAAFYAAABXAAAAWAAAAFkAAABaAAAAWwAAAFwAAABdAAAAXgAAAF8AAABgAAAAYQAAAGIAAABjAAAAZAAAAGUAAABmAAAAZwAAAGgAAABpAAAAagAAAGsAAABsAAAAbQAAAG4AAABvAAAAcAAAAHEAAAByAAAAcwAAAHQAAAB1AAAAdgAAAHcAAAB4AAAAeQAAAHoAAAB7AAAAfAAAAH0AAAB+AAAAfwAAAIAAAACBAAAAggAAAIMAAACEAAAAhQAAAIYAAACHAAAAiAAAAIkAAACKAAAAiwAAAIwAAACNAAAAjgAAAI8AAACQAAAAkQAAAJIAAACTAAAAlAAAAJUAAACWAAAAlwAAAJgAAACZAAAAmgAAAJsAAACcAAAAnQAAAJ4AAACfAAAAoAAAAKEAAACiAAAAowAAAKQAAAClAAAApgAAAKcAAACoAAAAqQAAAKoAAACrAAAArAAAAK0AAACuAAAArwAAALAAAACxAAAAsgAAALMAAAC0AAAAtQAAALYAAAC3AAAAuAAAALkAAAC6AAAAuwAAALwAAAC9AAAAvgAAAL8AAADAAAAAwQAAAMIAAADDAAAAxAAAAMUAAADGAAAAxwAAAMgAAADJAAAAygAAAMsAAADMAAAAzQAAAM4AAADPAAAA0AAAANEAAADSAAAA0wAAANQAAADVAAAA1gAAANcAAADYAAAA2QAAANoAAADbAAAA3AAAAN0AAADeAAAA3wAAAOAAAADhAAAA4gAAAOMAAADkAAAA5QAAAOYAAADnAAAA6AAAAOkAAADqAAAA6wAAAOwAAADtAAAA7gAAAO8AAADwAAAA8QAAAPIAAADzAAAA9AAAAPUAAAD2AAAA9wAAAPgAAAD5AAAA+gAAAPsAAAD8AAAA/QAAAP4AAAD/AAAAAAEAAAEBAAACAQAAAwEAAAQBAAAFAQAABgEAAAcBAAAIAQAACQEAAAoBAAALAQAADAEAAA0BAAAOAQAADwEAABABAAARAQAAEgEAABMBAAAUAQAAFQEAABYBAAAXAQAAGAEAABkBAAAaAQAAGwEAABwBAAAdAQAAHgEAAB8BAAAgAQAAIQEAACIBAAAjAQAAJAEAACUBAAAmAQAAJwEAACgBAAApAQAAKgEAACsBAAAsAQAALQEAAC4BAAAvAQAAMAEAADEBAAAyAQAAMwEAADQBAAA1AQAANgEAADcBAAA4AQAAOQEAADoBAAA7AQAAPAEAAD0BAAA+AQAAPwEAAEABAABBAQAAQgEAAEMBAABEAQAARQEAAEYBAABHAQAASAEAAEkBAABKAQAASwEAAEwBAABNAQAATgEAAE8BAABQAQAAUQEAAFIBAABTAQAAVAEAAFUBAABWAQAAVwEAAFgBAABZAQAAWgEAAFsBAABcAQAAXQEAAF4BAABfAQAAYAEAAGEBAABiAQAAYwEAAGQBAABlAQAAZgEAAGcBAABoAQAAaQEAAGoBAABrAQAAbAEAAG0BAABuAQAA",
          "dtype": "i4"
         },
         "xaxis": "x",
         "y": {
          "bdata": "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",
          "dtype": "f8"
         },
         "yaxis": "y"
        },
        {
         "customdata": [
          [
           "2025-01-01T00:00:00"
          ],
          [
           "2025-01-02T00:00:00"
          ],
          [
           "2025-01-03T00:00:00"
          ],
          [
           "2025-01-04T00:00:00"
          ],
          [
           "2025-01-05T00:00:00"
          ],
          [
           "2025-01-06T00:00:00"
          ],
          [
           "2025-01-07T00:00:00"
          ],
          [
           "2025-01-08T00:00:00"
          ],
          [
           "2025-01-09T00:00:00"
          ],
          [
           "2025-01-10T00:00:00"
          ],
          [
           "2025-01-11T00:00:00"
          ],
          [
           "2025-01-12T00:00:00"
          ],
          [
           "2025-01-13T00:00:00"
          ],
          [
           "2025-01-14T00:00:00"
          ],
          [
           "2025-01-15T00:00:00"
          ],
          [
           "2025-01-16T00:00:00"
          ],
          [
           "2025-01-17T00:00:00"
          ],
          [
           "2025-01-18T00:00:00"
          ],
          [
           "2025-01-19T00:00:00"
          ],
          [
           "2025-01-20T00:00:00"
          ],
          [
           "2025-01-21T00:00:00"
          ],
          [
           "2025-01-22T00:00:00"
          ],
          [
           "2025-01-23T00:00:00"
          ],
          [
           "2025-01-24T00:00:00"
          ],
          [
           "2025-01-25T00:00:00"
          ],
          [
           "2025-01-26T00:00:00"
          ],
          [
           "2025-01-27T00:00:00"
          ],
          [
           "2025-01-28T00:00:00"
          ],
          [
           "2025-01-29T00:00:00"
          ],
          [
           "2025-01-30T00:00:00"
          ],
          [
           "2025-01-31T00:00:00"
          ],
          [
           "2025-02-01T00:00:00"
          ],
          [
           "2025-02-02T00:00:00"
          ],
          [
           "2025-02-03T00:00:00"
          ],
          [
           "2025-02-04T00:00:00"
          ],
          [
           "2025-02-05T00:00:00"
          ],
          [
           "2025-02-06T00:00:00"
          ],
          [
           "2025-02-07T00:00:00"
          ],
          [
           "2025-02-08T00:00:00"
          ],
          [
           "2025-02-09T00:00:00"
          ],
          [
           "2025-02-10T00:00:00"
          ],
          [
           "2025-02-11T00:00:00"
          ],
          [
           "2025-02-12T00:00:00"
          ],
          [
           "2025-02-13T00:00:00"
          ],
          [
           "2025-02-14T00:00:00"
          ],
          [
           "2025-02-15T00:00:00"
          ],
          [
           "2025-02-16T00:00:00"
          ],
          [
           "2025-02-17T00:00:00"
          ],
          [
           "2025-02-18T00:00:00"
          ],
          [
           "2025-02-19T00:00:00"
          ],
          [
           "2025-02-20T00:00:00"
          ],
          [
           "2025-02-21T00:00:00"
          ],
          [
           "2025-02-22T00:00:00"
          ],
          [
           "2025-02-23T00:00:00"
          ],
          [
           "2025-02-24T00:00:00"
          ],
          [
           "2025-02-25T00:00:00"
          ],
          [
           "2025-02-26T00:00:00"
          ],
          [
           "2025-02-27T00:00:00"
          ],
          [
           "2025-02-28T00:00:00"
          ],
          [
           "2025-03-01T00:00:00"
          ],
          [
           "2025-03-02T00:00:00"
          ],
          [
           "2025-03-03T00:00:00"
          ],
          [
           "2025-03-04T00:00:00"
          ],
          [
           "2025-03-05T00:00:00"
          ],
          [
           "2025-03-06T00:00:00"
          ],
          [
           "2025-03-07T00:00:00"
          ],
          [
           "2025-03-08T00:00:00"
          ],
          [
           "2025-03-09T00:00:00"
          ],
          [
           "2025-03-10T00:00:00"
          ],
          [
           "2025-03-11T00:00:00"
          ],
          [
           "2025-03-12T00:00:00"
          ],
          [
           "2025-03-13T00:00:00"
          ],
          [
           "2025-03-14T00:00:00"
          ],
          [
           "2025-03-15T00:00:00"
          ],
          [
           "2025-03-16T00:00:00"
          ],
          [
           "2025-03-17T00:00:00"
          ],
          [
           "2025-03-18T00:00:00"
          ],
          [
           "2025-03-19T00:00:00"
          ],
          [
           "2025-03-20T00:00:00"
          ],
          [
           "2025-03-21T00:00:00"
          ],
          [
           "2025-03-22T00:00:00"
          ],
          [
           "2025-03-23T00:00:00"
          ],
          [
           "2025-03-24T00:00:00"
          ],
          [
           "2025-03-25T00:00:00"
          ],
          [
           "2025-03-26T00:00:00"
          ],
          [
           "2025-03-27T00:00:00"
          ],
          [
           "2025-03-28T00:00:00"
          ],
          [
           "2025-03-29T00:00:00"
          ],
          [
           "2025-03-30T00:00:00"
          ],
          [
           "2025-03-31T00:00:00"
          ],
          [
           "2025-04-01T00:00:00"
          ],
          [
           "2025-04-02T00:00:00"
          ],
          [
           "2025-04-03T00:00:00"
          ],
          [
           "2025-04-04T00:00:00"
          ],
          [
           "2025-04-05T00:00:00"
          ],
          [
           "2025-04-06T00:00:00"
          ],
          [
           "2025-04-07T00:00:00"
          ],
          [
           "2025-04-08T00:00:00"
          ],
          [
           "2025-04-09T00:00:00"
          ],
          [
           "2025-04-10T00:00:00"
          ],
          [
           "2025-04-11T00:00:00"
          ],
          [
           "2025-04-12T00:00:00"
          ],
          [
           "2025-04-13T00:00:00"
          ],
          [
           "2025-04-14T00:00:00"
          ],
          [
           "2025-04-15T00:00:00"
          ],
          [
           "2025-04-16T00:00:00"
          ],
          [
           "2025-04-17T00:00:00"
          ],
          [
           "2025-04-18T00:00:00"
          ],
          [
           "2025-04-19T00:00:00"
          ],
          [
           "2025-04-20T00:00:00"
          ],
          [
           "2025-04-21T00:00:00"
          ],
          [
           "2025-04-22T00:00:00"
          ],
          [
           "2025-04-23T00:00:00"
          ],
          [
           "2025-04-24T00:00:00"
          ],
          [
           "2025-04-25T00:00:00"
          ],
          [
           "2025-04-26T00:00:00"
          ],
          [
           "2025-04-27T00:00:00"
          ],
          [
           "2025-04-28T00:00:00"
          ],
          [
           "2025-04-29T00:00:00"
          ],
          [
           "2025-04-30T00:00:00"
          ],
          [
           "2025-05-01T00:00:00"
          ],
          [
           "2025-05-02T00:00:00"
          ],
          [
           "2025-05-03T00:00:00"
          ],
          [
           "2025-05-04T00:00:00"
          ],
          [
           "2025-05-05T00:00:00"
          ],
          [
           "2025-05-06T00:00:00"
          ],
          [
           "2025-05-07T00:00:00"
          ],
          [
           "2025-05-08T00:00:00"
          ],
          [
           "2025-05-09T00:00:00"
          ],
          [
           "2025-05-10T00:00:00"
          ],
          [
           "2025-05-11T00:00:00"
          ],
          [
           "2025-05-12T00:00:00"
          ],
          [
           "2025-05-13T00:00:00"
          ],
          [
           "2025-05-14T00:00:00"
          ],
          [
           "2025-05-15T00:00:00"
          ],
          [
           "2025-05-16T00:00:00"
          ],
          [
           "2025-05-17T00:00:00"
          ],
          [
           "2025-05-18T00:00:00"
          ],
          [
           "2025-05-19T00:00:00"
          ],
          [
           "2025-05-20T00:00:00"
          ],
          [
           "2025-05-21T00:00:00"
          ],
          [
           "2025-05-22T00:00:00"
          ],
          [
           "2025-05-23T00:00:00"
          ],
          [
           "2025-05-24T00:00:00"
          ],
          [
           "2025-05-25T00:00:00"
          ],
          [
           "2025-05-26T00:00:00"
          ],
          [
           "2025-05-27T00:00:00"
          ],
          [
           "2025-05-28T00:00:00"
          ],
          [
           "2025-05-29T00:00:00"
          ],
          [
           "2025-05-30T00:00:00"
          ],
          [
           "2025-05-31T00:00:00"
          ],
          [
           "2025-06-01T00:00:00"
          ],
          [
           "2025-06-02T00:00:00"
          ],
          [
           "2025-06-03T00:00:00"
          ],
          [
           "2025-06-04T00:00:00"
          ],
          [
           "2025-06-05T00:00:00"
          ],
          [
           "2025-06-06T00:00:00"
          ],
          [
           "2025-06-07T00:00:00"
          ],
          [
           "2025-06-08T00:00:00"
          ],
          [
           "2025-06-09T00:00:00"
          ],
          [
           "2025-06-10T00:00:00"
          ],
          [
           "2025-06-11T00:00:00"
          ],
          [
           "2025-06-12T00:00:00"
          ],
          [
           "2025-06-13T00:00:00"
          ],
          [
           "2025-06-14T00:00:00"
          ],
          [
           "2025-06-15T00:00:00"
          ],
          [
           "2025-06-16T00:00:00"
          ],
          [
           "2025-06-17T00:00:00"
          ],
          [
           "2025-06-18T00:00:00"
          ],
          [
           "2025-06-19T00:00:00"
          ],
          [
           "2025-06-20T00:00:00"
          ],
          [
           "2025-06-21T00:00:00"
          ],
          [
           "2025-06-22T00:00:00"
          ],
          [
           "2025-06-23T00:00:00"
          ],
          [
           "2025-06-24T00:00:00"
          ],
          [
           "2025-06-25T00:00:00"
          ],
          [
           "2025-06-26T00:00:00"
          ],
          [
           "2025-06-27T00:00:00"
          ],
          [
           "2025-06-28T00:00:00"
          ],
          [
           "2025-06-29T00:00:00"
          ],
          [
           "2025-06-30T00:00:00"
          ],
          [
           "2025-07-01T00:00:00"
          ],
          [
           "2025-07-02T00:00:00"
          ],
          [
           "2025-07-03T00:00:00"
          ],
          [
           "2025-07-04T00:00:00"
          ],
          [
           "2025-07-05T00:00:00"
          ],
          [
           "2025-07-06T00:00:00"
          ],
          [
           "2025-07-07T00:00:00"
          ],
          [
           "2025-07-08T00:00:00"
          ],
          [
           "2025-07-09T00:00:00"
          ],
          [
           "2025-07-10T00:00:00"
          ],
          [
           "2025-07-11T00:00:00"
          ],
          [
           "2025-07-12T00:00:00"
          ],
          [
           "2025-07-13T00:00:00"
          ],
          [
           "2025-07-14T00:00:00"
          ],
          [
           "2025-07-15T00:00:00"
          ],
          [
           "2025-07-16T00:00:00"
          ],
          [
           "2025-07-17T00:00:00"
          ],
          [
           "2025-07-18T00:00:00"
          ],
          [
           "2025-07-19T00:00:00"
          ],
          [
           "2025-07-20T00:00:00"
          ],
          [
           "2025-07-21T00:00:00"
          ],
          [
           "2025-07-22T00:00:00"
          ],
          [
           "2025-07-23T00:00:00"
          ],
          [
           "2025-07-24T00:00:00"
          ],
          [
           "2025-07-25T00:00:00"
          ],
          [
           "2025-07-26T00:00:00"
          ],
          [
           "2025-07-27T00:00:00"
          ],
          [
           "2025-07-28T00:00:00"
          ],
          [
           "2025-07-29T00:00:00"
          ],
          [
           "2025-07-30T00:00:00"
          ],
          [
           "2025-07-31T00:00:00"
          ],
          [
           "2025-08-01T00:00:00"
          ],
          [
           "2025-08-02T00:00:00"
          ],
          [
           "2025-08-03T00:00:00"
          ],
          [
           "2025-08-04T00:00:00"
          ],
          [
           "2025-08-05T00:00:00"
          ],
          [
           "2025-08-06T00:00:00"
          ],
          [
           "2025-08-07T00:00:00"
          ],
          [
           "2025-08-08T00:00:00"
          ],
          [
           "2025-08-09T00:00:00"
          ],
          [
           "2025-08-10T00:00:00"
          ],
          [
           "2025-08-11T00:00:00"
          ],
          [
           "2025-08-12T00:00:00"
          ],
          [
           "2025-08-13T00:00:00"
          ],
          [
           "2025-08-14T00:00:00"
          ],
          [
           "2025-08-15T00:00:00"
          ],
          [
           "2025-08-16T00:00:00"
          ],
          [
           "2025-08-17T00:00:00"
          ],
          [
           "2025-08-18T00:00:00"
          ],
          [
           "2025-08-19T00:00:00"
          ]
         ],
         "hovertemplate": "Année=2025<br>Jour de l'année=%{x}<br>Température Moyenne Cumulative (°C)=%{y:.2f°C}<br>date=%{customdata[0]}<extra></extra>",
         "legendgroup": "2025",
         "line": {
          "color": "rgb(93, 105, 177)",
          "dash": "solid"
         },
         "marker": {
          "symbol": "circle"
         },
         "mode": "lines",
         "name": "2025",
         "orientation": "v",
         "showlegend": true,
         "type": "scatter",
         "x": {
          "bdata": "AQAAAAIAAAADAAAABAAAAAUAAAAGAAAABwAAAAgAAAAJAAAACgAAAAsAAAAMAAAADQAAAA4AAAAPAAAAEAAAABEAAAASAAAAEwAAABQAAAAVAAAAFgAAABcAAAAYAAAAGQAAABoAAAAbAAAAHAAAAB0AAAAeAAAAHwAAACAAAAAhAAAAIgAAACMAAAAkAAAAJQAAACYAAAAnAAAAKAAAACkAAAAqAAAAKwAAACwAAAAtAAAALgAAAC8AAAAwAAAAMQAAADIAAAAzAAAANAAAADUAAAA2AAAANwAAADgAAAA5AAAAOgAAADsAAAA8AAAAPQAAAD4AAAA/AAAAQAAAAEEAAABCAAAAQwAAAEQAAABFAAAARgAAAEcAAABIAAAASQAAAEoAAABLAAAATAAAAE0AAABOAAAATwAAAFAAAABRAAAAUgAAAFMAAABUAAAAVQAAAFYAAABXAAAAWAAAAFkAAABaAAAAWwAAAFwAAABdAAAAXgAAAF8AAABgAAAAYQAAAGIAAABjAAAAZAAAAGUAAABmAAAAZwAAAGgAAABpAAAAagAAAGsAAABsAAAAbQAAAG4AAABvAAAAcAAAAHEAAAByAAAAcwAAAHQAAAB1AAAAdgAAAHcAAAB4AAAAeQAAAHoAAAB7AAAAfAAAAH0AAAB+AAAAfwAAAIAAAACBAAAAggAAAIMAAACEAAAAhQAAAIYAAACHAAAAiAAAAIkAAACKAAAAiwAAAIwAAACNAAAAjgAAAI8AAACQAAAAkQAAAJIAAACTAAAAlAAAAJUAAACWAAAAlwAAAJgAAACZAAAAmgAAAJsAAACcAAAAnQAAAJ4AAACfAAAAoAAAAKEAAACiAAAAowAAAKQAAAClAAAApgAAAKcAAACoAAAAqQAAAKoAAACrAAAArAAAAK0AAACuAAAArwAAALAAAACxAAAAsgAAALMAAAC0AAAAtQAAALYAAAC3AAAAuAAAALkAAAC6AAAAuwAAALwAAAC9AAAAvgAAAL8AAADAAAAAwQAAAMIAAADDAAAAxAAAAMUAAADGAAAAxwAAAMgAAADJAAAAygAAAMsAAADMAAAAzQAAAM4AAADPAAAA0AAAANEAAADSAAAA0wAAANQAAADVAAAA1gAAANcAAADYAAAA2QAAANoAAADbAAAA3AAAAN0AAADeAAAA3wAAAOAAAADhAAAA4gAAAOMAAADkAAAA5QAAAOYAAADnAAAA",
          "dtype": "i4"
         },
         "xaxis": "x",
         "y": {
          "bdata": "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",
          "dtype": "f8"
         },
         "yaxis": "y"
        }
       ],
       "layout": {
        "font": {
         "family": "Raleway",
         "size": 12
        },
        "height": 600,
        "legend": {
         "title": {
          "text": "Année"
         },
         "tracegroupgap": 0
        },
        "margin": {
         "b": 20,
         "l": 20,
         "r": 20,
         "t": 60
        },
        "template": {
         "data": {
          "bar": [
           {
            "error_x": {
             "color": "#2a3f5f"
            },
            "error_y": {
             "color": "#2a3f5f"
            },
            "marker": {
             "line": {
              "color": "#E5ECF6",
              "width": 0.5
             },
             "pattern": {
              "fillmode": "overlay",
              "size": 10,
              "solidity": 0.2
             }
            },
            "type": "bar"
           }
          ],
          "barpolar": [
           {
            "marker": {
             "line": {
              "color": "#E5ECF6",
              "width": 0.5
             },
             "pattern": {
              "fillmode": "overlay",
              "size": 10,
              "solidity": 0.2
             }
            },
            "type": "barpolar"
           }
          ],
          "carpet": [
           {
            "aaxis": {
             "endlinecolor": "#2a3f5f",
             "gridcolor": "white",
             "linecolor": "white",
             "minorgridcolor": "white",
             "startlinecolor": "#2a3f5f"
            },
            "baxis": {
             "endlinecolor": "#2a3f5f",
             "gridcolor": "white",
             "linecolor": "white",
             "minorgridcolor": "white",
             "startlinecolor": "#2a3f5f"
            },
            "type": "carpet"
           }
          ],
          "choropleth": [
           {
            "colorbar": {
             "outlinewidth": 0,
             "ticks": ""
            },
            "type": "choropleth"
           }
          ],
          "contour": [
           {
            "colorbar": {
             "outlinewidth": 0,
             "ticks": ""
            },
            "colorscale": [
             [
              0.0,
              "#0d0887"
             ],
             [
              0.1111111111111111,
              "#46039f"
             ],
             [
              0.2222222222222222,
              "#7201a8"
             ],
             [
              0.3333333333333333,
              "#9c179e"
             ],
             [
              0.4444444444444444,
              "#bd3786"
             ],
             [
              0.5555555555555556,
              "#d8576b"
             ],
             [
              0.6666666666666666,
              "#ed7953"
             ],
             [
              0.7777777777777778,
              "#fb9f3a"
             ],
             [
              0.8888888888888888,
              "#fdca26"
             ],
             [
              1.0,
              "#f0f921"
             ]
            ],
            "type": "contour"
           }
          ],
          "contourcarpet": [
           {
            "colorbar": {
             "outlinewidth": 0,
             "ticks": ""
            },
            "type": "contourcarpet"
           }
          ],
          "heatmap": [
           {
            "colorbar": {
             "outlinewidth": 0,
             "ticks": ""
            },
            "colorscale": [
             [
              0.0,
              "#0d0887"
             ],
             [
              0.1111111111111111,
              "#46039f"
             ],
             [
              0.2222222222222222,
              "#7201a8"
             ],
             [
              0.3333333333333333,
              "#9c179e"
             ],
             [
              0.4444444444444444,
              "#bd3786"
             ],
             [
              0.5555555555555556,
              "#d8576b"
             ],
             [
              0.6666666666666666,
              "#ed7953"
             ],
             [
              0.7777777777777778,
              "#fb9f3a"
             ],
             [
              0.8888888888888888,
              "#fdca26"
             ],
             [
              1.0,
              "#f0f921"
             ]
            ],
            "type": "heatmap"
           }
          ],
          "histogram": [
           {
            "marker": {
             "pattern": {
              "fillmode": "overlay",
              "size": 10,
              "solidity": 0.2
             }
            },
            "type": "histogram"
           }
          ],
          "histogram2d": [
           {
            "colorbar": {
             "outlinewidth": 0,
             "ticks": ""
            },
            "colorscale": [
             [
              0.0,
              "#0d0887"
             ],
             [
              0.1111111111111111,
              "#46039f"
             ],
             [
              0.2222222222222222,
              "#7201a8"
             ],
             [
              0.3333333333333333,
              "#9c179e"
             ],
             [
              0.4444444444444444,
              "#bd3786"
             ],
             [
              0.5555555555555556,
              "#d8576b"
             ],
             [
              0.6666666666666666,
              "#ed7953"
             ],
             [
              0.7777777777777778,
              "#fb9f3a"
             ],
             [
              0.8888888888888888,
              "#fdca26"
             ],
             [
              1.0,
              "#f0f921"
             ]
            ],
            "type": "histogram2d"
           }
          ],
          "histogram2dcontour": [
           {
            "colorbar": {
             "outlinewidth": 0,
             "ticks": ""
            },
            "colorscale": [
             [
              0.0,
              "#0d0887"
             ],
             [
              0.1111111111111111,
              "#46039f"
             ],
             [
              0.2222222222222222,
              "#7201a8"
             ],
             [
              0.3333333333333333,
              "#9c179e"
             ],
             [
              0.4444444444444444,
              "#bd3786"
             ],
             [
              0.5555555555555556,
              "#d8576b"
             ],
             [
              0.6666666666666666,
              "#ed7953"
             ],
             [
              0.7777777777777778,
              "#fb9f3a"
             ],
             [
              0.8888888888888888,
              "#fdca26"
             ],
             [
              1.0,
              "#f0f921"
             ]
            ],
            "type": "histogram2dcontour"
           }
          ],
          "mesh3d": [
           {
            "colorbar": {
             "outlinewidth": 0,
             "ticks": ""
            },
            "type": "mesh3d"
           }
          ],
          "parcoords": [
           {
            "line": {
             "colorbar": {
              "outlinewidth": 0,
              "ticks": ""
             }
            },
            "type": "parcoords"
           }
          ],
          "pie": [
           {
            "automargin": true,
            "type": "pie"
           }
          ],
          "scatter": [
           {
            "fillpattern": {
             "fillmode": "overlay",
             "size": 10,
             "solidity": 0.2
            },
            "type": "scatter"
           }
          ],
          "scatter3d": [
           {
            "line": {
             "colorbar": {
              "outlinewidth": 0,
              "ticks": ""
             }
            },
            "marker": {
             "colorbar": {
              "outlinewidth": 0,
              "ticks": ""
             }
            },
            "type": "scatter3d"
           }
          ],
          "scattercarpet": [
           {
            "marker": {
             "colorbar": {
              "outlinewidth": 0,
              "ticks": ""
             }
            },
            "type": "scattercarpet"
           }
          ],
          "scattergeo": [
           {
            "marker": {
             "colorbar": {
              "outlinewidth": 0,
              "ticks": ""
             }
            },
            "type": "scattergeo"
           }
          ],
          "scattergl": [
           {
            "marker": {
             "colorbar": {
              "outlinewidth": 0,
              "ticks": ""
             }
            },
            "type": "scattergl"
           }
          ],
          "scattermap": [
           {
            "marker": {
             "colorbar": {
              "outlinewidth": 0,
              "ticks": ""
             }
            },
            "type": "scattermap"
           }
          ],
          "scattermapbox": [
           {
            "marker": {
             "colorbar": {
              "outlinewidth": 0,
              "ticks": ""
             }
            },
            "type": "scattermapbox"
           }
          ],
          "scatterpolar": [
           {
            "marker": {
             "colorbar": {
              "outlinewidth": 0,
              "ticks": ""
             }
            },
            "type": "scatterpolar"
           }
          ],
          "scatterpolargl": [
           {
            "marker": {
             "colorbar": {
              "outlinewidth": 0,
              "ticks": ""
             }
            },
            "type": "scatterpolargl"
           }
          ],
          "scatterternary": [
           {
            "marker": {
             "colorbar": {
              "outlinewidth": 0,
              "ticks": ""
             }
            },
            "type": "scatterternary"
           }
          ],
          "surface": [
           {
            "colorbar": {
             "outlinewidth": 0,
             "ticks": ""
            },
            "colorscale": [
             [
              0.0,
              "#0d0887"
             ],
             [
              0.1111111111111111,
              "#46039f"
             ],
             [
              0.2222222222222222,
              "#7201a8"
             ],
             [
              0.3333333333333333,
              "#9c179e"
             ],
             [
              0.4444444444444444,
              "#bd3786"
             ],
             [
              0.5555555555555556,
              "#d8576b"
             ],
             [
              0.6666666666666666,
              "#ed7953"
             ],
             [
              0.7777777777777778,
              "#fb9f3a"
             ],
             [
              0.8888888888888888,
              "#fdca26"
             ],
             [
              1.0,
              "#f0f921"
             ]
            ],
            "type": "surface"
           }
          ],
          "table": [
           {
            "cells": {
             "fill": {
              "color": "#EBF0F8"
             },
             "line": {
              "color": "white"
             }
            },
            "header": {
             "fill": {
              "color": "#C8D4E3"
             },
             "line": {
              "color": "white"
             }
            },
            "type": "table"
           }
          ]
         },
         "layout": {
          "annotationdefaults": {
           "arrowcolor": "#2a3f5f",
           "arrowhead": 0,
           "arrowwidth": 1
          },
          "autotypenumbers": "strict",
          "coloraxis": {
           "colorbar": {
            "outlinewidth": 0,
            "ticks": ""
           }
          },
          "colorscale": {
           "diverging": [
            [
             0,
             "#8e0152"
            ],
            [
             0.1,
             "#c51b7d"
            ],
            [
             0.2,
             "#de77ae"
            ],
            [
             0.3,
             "#f1b6da"
            ],
            [
             0.4,
             "#fde0ef"
            ],
            [
             0.5,
             "#f7f7f7"
            ],
            [
             0.6,
             "#e6f5d0"
            ],
            [
             0.7,
             "#b8e186"
            ],
            [
             0.8,
             "#7fbc41"
            ],
            [
             0.9,
             "#4d9221"
            ],
            [
             1,
             "#276419"
            ]
           ],
           "sequential": [
            [
             0.0,
             "#0d0887"
            ],
            [
             0.1111111111111111,
             "#46039f"
            ],
            [
             0.2222222222222222,
             "#7201a8"
            ],
            [
             0.3333333333333333,
             "#9c179e"
            ],
            [
             0.4444444444444444,
             "#bd3786"
            ],
            [
             0.5555555555555556,
             "#d8576b"
            ],
            [
             0.6666666666666666,
             "#ed7953"
            ],
            [
             0.7777777777777778,
             "#fb9f3a"
            ],
            [
             0.8888888888888888,
             "#fdca26"
            ],
            [
             1.0,
             "#f0f921"
            ]
           ],
           "sequentialminus": [
            [
             0.0,
             "#0d0887"
            ],
            [
             0.1111111111111111,
             "#46039f"
            ],
            [
             0.2222222222222222,
             "#7201a8"
            ],
            [
             0.3333333333333333,
             "#9c179e"
            ],
            [
             0.4444444444444444,
             "#bd3786"
            ],
            [
             0.5555555555555556,
             "#d8576b"
            ],
            [
             0.6666666666666666,
             "#ed7953"
            ],
            [
             0.7777777777777778,
             "#fb9f3a"
            ],
            [
             0.8888888888888888,
             "#fdca26"
            ],
            [
             1.0,
             "#f0f921"
            ]
           ]
          },
          "colorway": [
           "#636efa",
           "#EF553B",
           "#00cc96",
           "#ab63fa",
           "#FFA15A",
           "#19d3f3",
           "#FF6692",
           "#B6E880",
           "#FF97FF",
           "#FECB52"
          ],
          "font": {
           "color": "#2a3f5f"
          },
          "geo": {
           "bgcolor": "white",
           "lakecolor": "white",
           "landcolor": "#E5ECF6",
           "showlakes": true,
           "showland": true,
           "subunitcolor": "white"
          },
          "hoverlabel": {
           "align": "left"
          },
          "hovermode": "closest",
          "mapbox": {
           "style": "light"
          },
          "paper_bgcolor": "white",
          "plot_bgcolor": "#E5ECF6",
          "polar": {
           "angularaxis": {
            "gridcolor": "white",
            "linecolor": "white",
            "ticks": ""
           },
           "bgcolor": "#E5ECF6",
           "radialaxis": {
            "gridcolor": "white",
            "linecolor": "white",
            "ticks": ""
           }
          },
          "scene": {
           "xaxis": {
            "backgroundcolor": "#E5ECF6",
            "gridcolor": "white",
            "gridwidth": 2,
            "linecolor": "white",
            "showbackground": true,
            "ticks": "",
            "zerolinecolor": "white"
           },
           "yaxis": {
            "backgroundcolor": "#E5ECF6",
            "gridcolor": "white",
            "gridwidth": 2,
            "linecolor": "white",
            "showbackground": true,
            "ticks": "",
            "zerolinecolor": "white"
           },
           "zaxis": {
            "backgroundcolor": "#E5ECF6",
            "gridcolor": "white",
            "gridwidth": 2,
            "linecolor": "white",
            "showbackground": true,
            "ticks": "",
            "zerolinecolor": "white"
           }
          },
          "shapedefaults": {
           "line": {
            "color": "#2a3f5f"
           }
          },
          "ternary": {
           "aaxis": {
            "gridcolor": "white",
            "linecolor": "white",
            "ticks": ""
           },
           "baxis": {
            "gridcolor": "white",
            "linecolor": "white",
            "ticks": ""
           },
           "bgcolor": "#E5ECF6",
           "caxis": {
            "gridcolor": "white",
            "linecolor": "white",
            "ticks": ""
           }
          },
          "title": {
           "x": 0.05
          },
          "xaxis": {
           "automargin": true,
           "gridcolor": "white",
           "linecolor": "white",
           "ticks": "",
           "title": {
            "standoff": 15
           },
           "zerolinecolor": "white",
           "zerolinewidth": 2
          },
          "yaxis": {
           "automargin": true,
           "gridcolor": "white",
           "linecolor": "white",
           "ticks": "",
           "title": {
            "standoff": 15
           },
           "zerolinecolor": "white",
           "zerolinewidth": 2
          }
         }
        },
        "title": {
         "text": "Évolution de la Température Moyenne Cumulative par Année - Analyse Climatique"
        },
        "xaxis": {
         "anchor": "y",
         "domain": [
          0.0,
          1.0
         ],
         "dtick": 30,
         "range": [
          1,
          366
         ],
         "title": {
          "text": "Jour de l'année"
         }
        },
        "yaxis": {
         "anchor": "x",
         "domain": [
          0.0,
          1.0
         ],
         "title": {
          "text": "Température Moyenne Cumulative (°C)"
         }
        }
       }
      }
     },
     "metadata": {},
     "output_type": "display_data"
    }
   ],
   "source": [
    "import pandas as pd\n",
    "import duckdb as ddb\n",
    "import pandas as pd\n",
    "import plotly.express as px\n",
    "import datetime\n",
    "\n",
    "df['date'] = pd.to_datetime(df[['year', 'month', 'day']].astype(str).agg('-'.join, axis=1), format='%Y-%m-%d')\n",
    "df['dayofyear'] = df['date'].dt.dayofyear\n",
    "df['year'] = df['year'].astype(int)\n",
    "\n",
    "dataviz = px.line(df,\n",
    "                  x='dayofyear',\n",
    "                  y='cumulative_tm',\n",
    "                  color=df['year'].astype(str),\n",
    "                  labels={'dayofyear': 'Jour de l\\'année',\n",
    "                          'cumulative_tm': 'Température Moyenne Cumulative (°C)',\n",
    "                          'color': 'Année'},\n",
    "                  title='Évolution de la Température Moyenne Cumulative par Année - Analyse Climatique',\n",
    "                  hover_data={'date': True, 'cumulative_tm': ':.2f°C'},\n",
    "                  color_discrete_sequence=px.colors.qualitative.Vivid)\n",
    "\n",
    "dataviz.update_layout(height=600,\n",
    "                      font=dict(family=\"Raleway\", size=12),\n",
    "                      margin=dict(l=20, r=20, t=60, b=20))\n",
    "dataviz.update_xaxes(range=[1, 366], dtick=30)\n",
    "dataviz"
   ]
  },
  {
   "cell_type": "markdown",
   "metadata": {},
   "source": [
    "---\n",
    "*Made with ❤️ and with [duckit.fr](https://duckit.fr) - [Ali Hmaou](https://www.linkedin.com/in/ali-hmaou-6b7b73146/)*"
   ]
  },
  {
   "cell_type": "code",
   "execution_count": 5,
   "metadata": {
    "execution": {
     "iopub.execute_input": "2025-08-21T09:58:41.761631Z",
     "iopub.status.busy": "2025-08-21T09:58:41.761631Z",
     "iopub.status.idle": "2025-08-21T09:58:46.157743Z",
     "shell.execute_reply": "2025-08-21T09:58:46.156297Z"
    }
   },
   "outputs": [
    {
     "name": "stdout",
     "output_type": "stream",
     "text": [
      "INFO: Variable 'dataviz' trouvée. Tentative d'exportation...\n",
      "--> Détecté : Plotly. Sauvegarde HTML et PNG.\n",
      "--> Sauvegarde HTML dans : published\\notebooks\\duckit_analysis_20250820_211330.html\n",
      "--> Tentative de sauvegarde PNG directe dans : published\\notebooks\\duckit_analysis_20250820_211330.png\n"
     ]
    },
    {
     "name": "stdout",
     "output_type": "stream",
     "text": [
      "--> Image Plotly sauvegardée avec succès.\n"
     ]
    }
   ],
   "source": [
    "\n",
    "# --- Variables injectées par le script ---\n",
    "FINAL_OBJECT_VARIABLE_NAME = 'dataviz'\n",
    "OUTPUT_IMAGE_NAME = 'published\\\\notebooks\\\\duckit_analysis_20250820_211330.png'\n",
    "OUTPUT_HTML_NAME = 'published\\\\notebooks\\\\duckit_analysis_20250820_211330.html'\n",
    "\n",
    "# ===================================================================\n",
    "# CELLULE INJECTÉE AUTOMATIQUEMENT (VERSION ROBUSTE)\n",
    "# ===================================================================\n",
    "import sys\n",
    "import os\n",
    "# On importe les modules nécessaires pour l'export au cas où\n",
    "try:\n",
    "    from bokeh.io import save as bokeh_save\n",
    "except ImportError:\n",
    "    bokeh_save = None\n",
    "\n",
    "try:\n",
    "    # On s'assure que le dossier de sortie existe\n",
    "    output_dir = os.path.dirname(OUTPUT_IMAGE_NAME)\n",
    "    if output_dir:\n",
    "        os.makedirs(output_dir, exist_ok=True)\n",
    "\n",
    "    # On utilise globals().get() pour une récupération plus sûre\n",
    "    final_object = globals().get(FINAL_OBJECT_VARIABLE_NAME)\n",
    "\n",
    "    if final_object is None:\n",
    "        # On lève une NameError pour être cohérent avec le code original\n",
    "        raise NameError(f\"name '{FINAL_OBJECT_VARIABLE_NAME}' is not defined\")\n",
    "\n",
    "    print(f\"INFO: Variable '{FINAL_OBJECT_VARIABLE_NAME}' trouvée. Tentative d'exportation...\")\n",
    "\n",
    "    object_type = str(type(final_object))\n",
    "\n",
    "    if 'plotly.graph_objs._figure.Figure' in object_type:\n",
    "        print(f\"--> Détecté : Plotly. Sauvegarde HTML et PNG.\")\n",
    "        # 1. Sauvegarde HTML pour l'interactivité\n",
    "        print(f\"--> Sauvegarde HTML dans : {OUTPUT_HTML_NAME}\")\n",
    "        final_object.write_html(OUTPUT_HTML_NAME, include_plotlyjs='cdn')\n",
    "        # 2. Sauvegarde PNG pour l'aperçu statique\n",
    "        try:\n",
    "            print(f\"--> Tentative de sauvegarde PNG directe dans : {OUTPUT_IMAGE_NAME}\")\n",
    "            final_object.write_image(OUTPUT_IMAGE_NAME, scale=3, width=1200, height=800)\n",
    "            print(f\"--> Image Plotly sauvegardée avec succès.\")\n",
    "        except Exception as e:\n",
    "            print(f\"AVERTISSEMENT: La sauvegarde directe en PNG a échoué (kaleido est-il installé?).\", file=sys.stderr)\n",
    "            print(f\"   Erreur: {e}\", file=sys.stderr)\n",
    "            print(f\"--> PLAN B: On va utiliser la capture d'écran du HTML à la place.\")\n",
    "            # On crée un fichier marqueur pour que le script de post-traitement prenne le relais\n",
    "            with open(f\"{OUTPUT_HTML_NAME}.needs_screenshot\", \"w\") as f:\n",
    "                f.write(\"plotly\")\n",
    "    elif 'folium.folium.Map' in object_type:\n",
    "        print(f\"--> Détecté : Folium. Sauvegarde HTML dans : {OUTPUT_HTML_NAME}\")\n",
    "        final_object.save(OUTPUT_HTML_NAME)\n",
    "        # On crée un fichier marqueur générique pour la capture d'écran\n",
    "        print(f\"--> Création du marqueur de capture d'écran.\")\n",
    "        with open(f\"{OUTPUT_HTML_NAME}.needs_screenshot\", \"w\") as f:\n",
    "            f.write(\"folium\")\n",
    "    elif 'altair.vegalite' in object_type and hasattr(final_object, 'save'):\n",
    "        print(f\"--> Détecté : Altair. Sauvegarde HTML dans : {OUTPUT_HTML_NAME}\")\n",
    "        final_object.save(OUTPUT_HTML_NAME)\n",
    "        # On crée un fichier marqueur générique pour la capture d'écran\n",
    "        print(f\"--> Création du marqueur de capture d'écran.\")\n",
    "        with open(f\"{OUTPUT_HTML_NAME}.needs_screenshot\", \"w\") as f:\n",
    "            f.write(\"altair\")\n",
    "    elif 'bokeh.plotting' in object_type and bokeh_save is not None:\n",
    "        print(f\"--> Détecté : Bokeh. Sauvegarde HTML dans : {OUTPUT_HTML_NAME}\")\n",
    "        bokeh_save(final_object, filename=OUTPUT_HTML_NAME, title=\"\")\n",
    "        # On crée un fichier marqueur générique pour la capture d'écran\n",
    "        print(f\"--> Création du marqueur de capture d'écran.\")\n",
    "        with open(f\"{OUTPUT_HTML_NAME}.needs_screenshot\", \"w\") as f:\n",
    "            f.write(\"bokeh\")\n",
    "    elif 'matplotlib.figure.Figure' in object_type:\n",
    "        print(f\"--> Détecté : Matplotlib. Sauvegarde dans : {OUTPUT_IMAGE_NAME}\")\n",
    "        final_object.savefig(OUTPUT_IMAGE_NAME, dpi=300, bbox_inches='tight')\n",
    "    else:\n",
    "        print(f\"AVERTISSEMENT: Type non supporté : {object_type}\", file=sys.stderr)\n",
    "except NameError:\n",
    "    print(f\"AVERTISSEMENT: Aucune variable '{FINAL_OBJECT_VARIABLE_NAME}' trouvée.\", file=sys.stderr)\n",
    "except Exception as e:\n",
    "    print(f\"ERREUR lors de l'exportation : {e}\", file=sys.stderr)\n"
   ]
  }
 ],
 "metadata": {
  "kernelspec": {
   "display_name": "Python 3",
   "language": "python",
   "name": "python3"
  },
  "language_info": {
   "codemirror_mode": {
    "name": "ipython",
    "version": 3
   },
   "file_extension": ".py",
   "mimetype": "text/x-python",
   "name": "python",
   "nbconvert_exporter": "python",
   "pygments_lexer": "ipython3",
   "version": "3.10.11"
  }
 },
 "nbformat": 4,
 "nbformat_minor": 4
}
