{
  "cells": [
    {
      "cell_type": "markdown",
      "metadata": {},
      "source": [
        "# Analyse des températures maximales journalières : une plongée dans les données météorologiques françaises\n",
        "\n",
        "\n",
        "L'analyse présentée dans ce notebook s'appuie sur un jeu de données météorologiques quotidiennes pour diverses stations en France, disponible à l'adresse suivante : https://object.files.data.gouv.fr/meteofrance/data/synchro_ftp/BASE/QUOT/Q_95_latest-2024-2025_RR-T-Vent.csv.gz. Ce fichier contient des informations précieuses sur les précipitations, les températures, les vents, et d'autres paramètres météorologiques. L'objectif principal de cette analyse est de préparer les données pour examiner les températures maximales journalières, calculer la moyenne glissante sur 30 jours, et identifier les anomalies par comparaison avec cette moyenne glissante, puis de lisser ces anomalies sur 7 jours.\n",
        "\n",
        "\n",
        "L'étude des températures maximales journalières et de leurs anomalies est cruciale pour comprendre les modèles climatiques et météorologiques en France. En analysant ces données, nous pouvons mettre en lumière les tendances et les variations significatives dans les températures, contribuant ainsi à une meilleure compréhension du climat et à une prise de décision éclairée dans divers domaines tels que l'agriculture, l'urbanisme et la gestion des ressources.\n",
        "\n",
        "\n",
        "## Méthodologie\n",
        "\n",
        "La méthodologie employée pour cette analyse implique plusieurs étapes clés. Tout d'abord, les données sont chargées et préparées à l'aide de requêtes SQL dans DuckDB, permettant un traitement efficace et rapide des grandes quantités de données. Les températures moyennes journalières sont calculées et utilisées pour déterminer la moyenne glissante sur 30 jours. Ensuite, les anomalies sont identifiées en comparant les températures journalières avec cette moyenne glissante. Enfin, ces anomalies sont lissées sur 7 jours pour atténuer les fluctuations quotidiennes et mettre en évidence les tendances sous-jacentes. Les résultats sont ensuite visualisés à l'aide de Plotly pour une représentation graphique claire et interactive des données et des analyses effectuées."
      ]
    },
    {
      "cell_type": "markdown",
      "metadata": {},
      "source": [
        "## 🔧 Configuration"
      ]
    },
    {
      "cell_type": "code",
      "execution_count": 1,
      "metadata": {},
      "outputs": [],
      "source": [
        "# Installation et imports\n",
        "import duckdb as ddb\n",
        "import pandas as pd\n",
        "import plotly.express as px\n",
        "import plotly.graph_objects as go"
      ]
    },
    {
      "cell_type": "markdown",
      "metadata": {},
      "source": [
        "## 🦆 Chargement du dataset avec Duckdb"
      ]
    },
    {
      "cell_type": "code",
      "execution_count": 1,
      "metadata": {},
      "outputs": [],
      "source": [
        "# Fonction de chargement complète (basée sur load_file_from_url_lite)\n",
        "def load_file_from_url_lite(url_dataset=\"\", loader=\"read_csv_auto\", options=\"\", nom_table=\"loaded_dataset\", safe_mode=False):\n",
        "    ddb.execute(\"install spatial\")\n",
        "    ddb.execute(\"load spatial\")\n",
        "    ddb.execute(\"INSTALL h3 FROM community\")\n",
        "    ddb.execute(\"LOAD h3\")\n",
        "    ddb.execute(\"install webbed from community;\")\n",
        "    ddb.execute(\"load webbed\")\n",
        "    ddb.execute(\"set force_download=True\")\n",
        "    ddb.execute(f\"drop table if exists {nom_table}\")   \n",
        "    \n",
        "    # Détection automatique du type de fichier\n",
        "    if 'csv' in url_dataset: \n",
        "        loader = \"read_csv_auto\"\n",
        "    elif 'tsv' in url_dataset: \n",
        "        loader = \"read_csv_auto\"\n",
        "    elif 'txt' in url_dataset: \n",
        "        loader = \"read_csv_auto\"\n",
        "    elif 'parquet' in url_dataset: \n",
        "        loader = \"read_parquet\"\n",
        "    elif 'json' in url_dataset: \n",
        "        loader = \"read_json_auto\"\n",
        "    elif 'xls' in url_dataset or 'xlsx' in url_dataset: \n",
        "        loader = \"st_read\"\n",
        "    elif 'shp' in url_dataset: \n",
        "        loader = \"st_read\"\n",
        "    elif 'geojson' in url_dataset: \n",
        "        loader = \"st_read\"\n",
        "    elif 'xml' in url_dataset: \n",
        "        loader = \"read_xml\"\n",
        "    elif 'html' in url_dataset: \n",
        "        loader = \"read_html\"\n",
        "    else: \n",
        "        raise ValueError(f\"Type de fichier non supporté pour {url_dataset}\")\n",
        "    \n",
        "    if options==\"\": \n",
        "        options = \"\" \n",
        "    if 'csv' in url_dataset and safe_mode==True: \n",
        "        options = \", all_varchar=1\" \n",
        "    if nom_table==\"\": \n",
        "        nom_table = \"loaded_dataset\"\n",
        "    \n",
        "    try:\n",
        "        status = ddb.sql(f\"\"\"\n",
        "            create or replace table {nom_table} as select *\n",
        "            from\n",
        "            {loader}(\"{url_dataset}\" {options})\n",
        "        \"\"\")\n",
        "        return status\n",
        "    except Exception as e:\n",
        "        return f\"Erreur au chargement du fichier : {str(e)}\"\n",
        "\n",
        "def run_query(sql):\n",
        "    return ddb.sql(sql.replace(\"`\",\" \")).to_df()\n",
        "\n",
        "# Chargement des données\n",
        "load_file_from_url_lite(\"https://object.files.data.gouv.fr/meteofrance/data/synchro_ftp/BASE/QUOT/Q_95_latest-2024-2025_RR-T-Vent.csv.gz\", safe_mode=True)\n",
        "print(\"✅ Données chargées avec succès\")"
      ]
    },
    {
      "cell_type": "markdown",
      "metadata": {},
      "source": [
        "## 🔍 Analyse SQL\n",
        "\n",
        "Cette requête utilise des techniques SQL pour extraire et transformer les données de manière efficace."
      ]
    },
    {
      "cell_type": "code",
      "execution_count": 2,
      "metadata": {},
      "outputs": [],
      "source": [
        "# Exécution de la requête\n",
        "df = run_query(\"\"\" WITH \n",
        "daily_avg AS (\n",
        "  SELECT \n",
        "    CAST(SUBSTRING(\"AAAAMMJJ\", 1, 4) AS INTEGER) AS year,\n",
        "    CAST(SUBSTRING(\"AAAAMMJJ\", 5, 2) AS INTEGER) AS month,\n",
        "    CAST(SUBSTRING(\"AAAAMMJJ\", 7, 2) AS INTEGER) AS day,\n",
        "    CAST(\"TM\" AS DOUBLE) AS \"TM\",\n",
        "    \"AAAAMMJJ\"\n",
        "  FROM \n",
        "    loaded_dataset\n",
        "),\n",
        "avg_tm AS (\n",
        "  SELECT \n",
        "    \"AAAAMMJJ\",\n",
        "    AVG(\"TM\") AS avg_tm_day\n",
        "  FROM \n",
        "    daily_avg\n",
        "  GROUP BY \n",
        "    \"AAAAMMJJ\"\n",
        "),\n",
        "moving_avg AS (\n",
        "  SELECT \n",
        "    \"AAAAMMJJ\",\n",
        "    avg_tm_day,\n",
        "    AVG(avg_tm_day) OVER (ORDER BY \"AAAAMMJJ\" ROWS BETWEEN 29 PRECEDING AND CURRENT ROW) AS moving_avg_30_days\n",
        "  FROM \n",
        "    avg_tm\n",
        "),\n",
        "anomalies AS (\n",
        "  SELECT \n",
        "    \"AAAAMMJJ\",\n",
        "    avg_tm_day,\n",
        "    moving_avg_30_days,\n",
        "    avg_tm_day - moving_avg_30_days AS anomaly\n",
        "  FROM \n",
        "    moving_avg\n",
        ")\n",
        "SELECT \n",
        "  \"AAAAMMJJ\",\n",
        "  avg_tm_day,\n",
        "  moving_avg_30_days,\n",
        "  anomaly,\n",
        "  AVG(anomaly) OVER (ORDER BY \"AAAAMMJJ\" ROWS BETWEEN 3 PRECEDING AND 3 FOLLOWING) AS smoothed_anomaly_7_days\n",
        "FROM \n",
        "  anomalies\n",
        "ORDER BY \n",
        "  \"AAAAMMJJ\" \"\"\")\n",
        "print(f\"Résultats : {len(df)} lignes\")\n",
        "df.head()"
      ]
    },
    {
      "cell_type": "markdown",
      "metadata": {},
      "source": [
        "## 📈 Visualisation\n",
        "\n",
        "La bibliothèque principale utilisée est Plotly, qui est idéale pour créer des visualisations interactives et personnalisables. Plotly est adaptée pour représenter des données temporelles complexes avec plusieurs courbes et des info-bulles détaillées. Elle permet une représentation claire et dynamique des données de température journalière et de leurs anomalies."
      ]
    },
    {
      "cell_type": "code",
      "execution_count": 3,
      "metadata": {},
      "outputs": [],
      "source": [
        "import pandas as pd\n",
        "import duckdb as ddb\n",
        "import pandas as pd\n",
        "import plotly.graph_objects as go\n",
        "import plotly.express as px\n",
        "\n",
        "df['AAAAMMJJ'] = pd.to_datetime(df['AAAAMMJJ'], format='%Y%m%d')\n",
        "\n",
        "dataviz = go.Figure()\n",
        "\n",
        "dataviz.add_trace(go.Scatter(x=df['AAAAMMJJ'], y=df['avg_tm_day'],\n",
        "                             mode='lines',\n",
        "                             name='Température journalière',\n",
        "                             line=dict(color='lightgrey'), hovertemplate='%{y:.2f}°C<br>%{x|%Y-%m-%d}<extra></extra>'))\n",
        "\n",
        "dataviz.add_trace(go.Scatter(x=df['AAAAMMJJ'], y=df['moving_avg_30_days'],\n",
        "                             mode='lines',\n",
        "                             name='Moyenne glissante 30 jours',\n",
        "                             line=dict(color='red'), hovertemplate='%{y:.2f}°C<br>%{x|%Y-%m-%d}<extra></extra>'))\n",
        "\n",
        "dataviz.add_trace(go.Scatter(x=df['AAAAMMJJ'], y=df['smoothed_anomaly_7_days'],\n",
        "                             mode='lines',\n",
        "                             name='Anomalie lissée 7 jours',\n",
        "                             line=dict(color='teal', dash='dot'), hovertemplate='%{y:.2f}°C<br>%{x|%Y-%m-%d}<extra></extra>'))\n",
        "\n",
        "dataviz.update_layout(\n",
        "    height=500,\n",
        "    margin=dict(l=20, r=20, t=60, b=20),\n",
        "    hovermode='x unified',\n",
        "    font=dict(family='Source Sans Pro', size=12),\n",
        "    title=dict(text=\"Analyse des températures maximales journalières et anomalies\", x=0.5),\n",
        "    xaxis_title=\"Date\",\n",
        "    yaxis_title=\"Température (°C)\",\n",
        "    legend=dict(orientation=\"h\", yanchor=\"bottom\", y=1.02, xanchor=\"right\", x=1)\n",
        ")\n",
        "dataviz"
      ]
    },
    {
      "cell_type": "markdown",
      "metadata": {},
      "source": [
        "---\n",
        "*Made with ❤️ and with [duckit.fr](https://duckit.fr) - [Ali Hmaou](https://www.linkedin.com/in/ali-hmaou-6b7b73146/)*"
      ]
    }
  ],
  "metadata": {
    "kernelspec": {
      "display_name": "Python 3",
      "language": "python",
      "name": "python3"
    },
    "language_info": {
      "codemirror_mode": {
        "name": "ipython",
        "version": 3
      },
      "file_extension": ".py",
      "mimetype": "text/x-python",
      "name": "python",
      "nbconvert_exporter": "python",
      "pygments_lexer": "ipython3",
      "version": "3.8.0"
    }
  },
  "nbformat": 4,
  "nbformat_minor": 4
}