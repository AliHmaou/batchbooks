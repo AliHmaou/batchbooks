{
  "cells": [
    {
      "cell_type": "markdown",
      "metadata": {},
      "source": [
        "# Cartographie de la Température Moyenne des Postes Météo en France\n",
        "\n",
        "\n",
        "Le présent notebook est consacré à l'analyse et à la visualisation des données météorologiques issues de divers postes de mesure en France. Les données utilisées proviennent du fichier `Q_64_previous-1950-2023_RR-T-Vent.csv.gz`, disponible à l'adresse https://object.files.data.gouv.fr/meteofrance/data/synchro_ftp/BASE/QUOT/Q_64_previous-1950-2023_RR-T-Vent.csv.gz. Ce fichier contient des informations météorologiques recueillies à partir de divers postes de mesure, notamment la température, les précipitations, et la vitesse du vent.\n",
        "\n",
        "\n",
        "L'objectif de cette analyse est de préparer les données pour une carte représentant les postes de mesure avec leur température moyenne respective. Cette visualisation permettra d'appréhender la répartition géographique des températures moyennes en France.\n",
        "\n",
        "\n",
        "## Méthodologie\n",
        "\n",
        "La méthodologie employée pour cette analyse comporte plusieurs étapes clés. Tout d'abord, les données sont chargées et nettoyées. Ensuite, une requête SQL est exécutée via DuckDB pour agréger les données par poste de mesure et calculer la moyenne de la température moyenne (`TM`) pour chaque année. Les résultats sont ensuite utilisés pour créer une visualisation interactive sous forme de carte utilisant la bibliothèque Folium. Les postes de mesure sont représentés par des cercles dont la couleur est fonction de la température moyenne enregistrée.\n",
        "\n",
        "\n",
        "Les données sont ainsi analysées et représentées de manière à offrir une vue d'ensemble claire et intuitive de la répartition des températures moyennes en France. Cette visualisation facilite l'identification des tendances et des disparités régionales en matière de température."
      ]
    },
    {
      "cell_type": "markdown",
      "metadata": {},
      "source": [
        "## 🔧 Configuration"
      ]
    },
    {
      "cell_type": "code",
      "execution_count": 1,
      "metadata": {},
      "outputs": [],
      "source": [
        "# Installation et imports\n",
        "import duckdb as ddb\n",
        "import pandas as pd\n",
        "import plotly.express as px\n",
        "import plotly.graph_objects as go"
      ]
    },
    {
      "cell_type": "markdown",
      "metadata": {},
      "source": [
        "## 🦆 Chargement du dataset avec Duckdb"
      ]
    },
    {
      "cell_type": "code",
      "execution_count": 1,
      "metadata": {},
      "outputs": [],
      "source": [
        "# Fonction de chargement complète (basée sur load_file_from_url_lite)\n",
        "def load_file_from_url_lite(url_dataset=\"\", loader=\"read_csv_auto\", options=\"\", nom_table=\"loaded_dataset\", safe_mode=False):\n",
        "    ddb.execute(\"install spatial\")\n",
        "    ddb.execute(\"load spatial\")\n",
        "    ddb.execute(\"INSTALL h3 FROM community\")\n",
        "    ddb.execute(\"LOAD h3\")\n",
        "    ddb.execute(\"set force_download=True\")\n",
        "    ddb.execute(f\"drop table if exists {nom_table}\")   \n",
        "    \n",
        "    # Détection automatique du type de fichier\n",
        "    if 'csv' in url_dataset: \n",
        "        loader = \"read_csv_auto\"\n",
        "    elif 'tsv' in url_dataset: \n",
        "        loader = \"read_csv_auto\"\n",
        "    elif 'txt' in url_dataset: \n",
        "        loader = \"read_csv_auto\"\n",
        "    elif 'parquet' in url_dataset: \n",
        "        loader = \"read_parquet\"\n",
        "    elif 'json' in url_dataset: \n",
        "        loader = \"read_json_auto\"\n",
        "    elif 'xls' in url_dataset or 'xlsx' in url_dataset: \n",
        "        loader = \"st_read\"\n",
        "    elif 'shp' in url_dataset: \n",
        "        loader = \"st_read\"\n",
        "    elif 'geojson' in url_dataset: \n",
        "        loader = \"st_read\"\n",
        "    else: \n",
        "        raise ValueError(f\"Type de fichier non supporté pour {url_dataset}\")\n",
        "    \n",
        "    if options==\"\": \n",
        "        options = \"\" \n",
        "    if 'csv' in url_dataset and safe_mode==True: \n",
        "        options = \", all_varchar=1\" \n",
        "    if nom_table==\"\": \n",
        "        nom_table = \"loaded_dataset\"\n",
        "    \n",
        "    try:\n",
        "        status = ddb.sql(f\"\"\"\n",
        "            create or replace table {nom_table} as select *\n",
        "            from\n",
        "            {loader}(\"{url_dataset}\" {options})\n",
        "        \"\"\")\n",
        "        return status\n",
        "    except Exception as e:\n",
        "        return f\"Erreur au chargement du fichier : {str(e)}\"\n",
        "\n",
        "def run_query(sql):\n",
        "    return ddb.sql(sql.replace(\"`\",\" \")).to_df()\n",
        "\n",
        "# Chargement des données\n",
        "load_file_from_url_lite(\"https://object.files.data.gouv.fr/meteofrance/data/synchro_ftp/BASE/QUOT/Q_64_previous-1950-2023_RR-T-Vent.csv.gz\", safe_mode=True)\n",
        "print(\"✅ Données chargées avec succès\")"
      ]
    },
    {
      "cell_type": "markdown",
      "metadata": {},
      "source": [
        "## 🔍 Analyse SQL\n",
        "\n",
        "Cette requête utilise des techniques SQL pour extraire et transformer les données de manière efficace."
      ]
    },
    {
      "cell_type": "code",
      "execution_count": 2,
      "metadata": {},
      "outputs": [],
      "source": [
        "# Exécution de la requête\n",
        "df = run_query(\"\"\" SELECT \n",
        "  CAST(SUBSTRING(\"AAAAMMJJ\", 1, 4) AS INTEGER) AS year,\n",
        "  \"NUM_POSTE\",\n",
        "  CAST(\"LON\" AS DOUBLE) AS longitude,\n",
        "  CAST(\"LAT\" AS DOUBLE) AS latitude,\n",
        "  AVG(CAST(\"TM\" AS DOUBLE)) AS avg_TM\n",
        "FROM \n",
        "  loaded_dataset\n",
        "WHERE \n",
        "  \"TM\" IS NOT NULL\n",
        "GROUP BY \n",
        "  \"NUM_POSTE\", \"LON\", \"LAT\", CAST(SUBSTRING(\"AAAAMMJJ\", 1, 4) AS INTEGER)\n",
        "ORDER BY \n",
        "  year \"\"\")\n",
        "print(f\"Résultats : {len(df)} lignes\")\n",
        "df.head()"
      ]
    },
    {
      "cell_type": "markdown",
      "metadata": {},
      "source": [
        "## 📈 Visualisation\n",
        "\n",
        "La bibliothèque principale utilisée est Folium, qui est une surcouche de Leaflet.js permettant de créer des cartes interactives. Cette technologie est adaptée pour représenter des données géolocalisées avec des marqueurs et des informations associées, comme c'est le cas ici avec les températures moyennes par poste. Folium permet de créer une visualisation interactive et intuitive."
      ]
    },
    {
      "cell_type": "code",
      "execution_count": 3,
      "metadata": {},
      "outputs": [],
      "source": [
        "import pandas as pd\n",
        "import duckdb as ddb\n",
        "import folium\n",
        "import branca.colormap as cm\n",
        "\n",
        "color_scale = cm.LinearColormap(colors=['dodgerblue', 'orangered'],\n",
        "                                 index=[df['avg_TM'].min(), df['avg_TM'].max()],\n",
        "                                 vmin=df['avg_TM'].min(), vmax=df['avg_TM'].max(),\n",
        "                                 caption='Température moyenne (°C)')\n",
        "\n",
        "# ordre croissant pour superposer les plus froid en-dessous\n",
        "coords = df[['latitude', 'longitude', 'NUM_POSTE', 'avg_TM']].sort_values('avg_TM')\n",
        "\n",
        "m = folium.Map(location=[coords.latitude.mean(), coords.longitude.mean()],\n",
        "               tiles='CartoDB positron', zoom_start=8)\n",
        "\n",
        "for _, row in coords.iterrows():\n",
        "    folium.CircleMarker(\n",
        "        location=[row.latitude, row.longitude],\n",
        "        radius=6,\n",
        "        color='black',\n",
        "        weight=0.5,\n",
        "        fillColor=color_scale(row.avg_TM),\n",
        "        fillOpacity=0.85,\n",
        "        popup=None,\n",
        "        tooltip=f\"<b>Poste&nbsp;n°{int(row.NUM_POSTE)}</b><br>{row.avg_TM:.2f}°C\"\n",
        "    ).add_to(m)\n",
        "\n",
        "color_scale.add_to(m)\n",
        "\n",
        "dataviz = m\n",
        "dataviz.show()"
      ]
    },
    {
      "cell_type": "markdown",
      "metadata": {},
      "source": [
        "---\n",
        "*Made with ❤️ and with [duckit.fr](https://duckit.fr) - [Ali Hmaou](https://www.linkedin.com/in/ali-hmaou-6b7b73146/)*"
      ]
    }
  ],
  "metadata": {
    "kernelspec": {
      "display_name": "Python 3",
      "language": "python",
      "name": "python3"
    },
    "language_info": {
      "codemirror_mode": {
        "name": "ipython",
        "version": 3
      },
      "file_extension": ".py",
      "mimetype": "text/x-python",
      "name": "python",
      "nbconvert_exporter": "python",
      "pygments_lexer": "ipython3",
      "version": "3.8.0"
    }
  },
  "nbformat": 4,
  "nbformat_minor": 4
}