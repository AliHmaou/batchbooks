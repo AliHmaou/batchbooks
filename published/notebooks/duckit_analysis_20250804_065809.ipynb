{
 "cells": [
  {
   "cell_type": "markdown",
   "metadata": {},
   "source": [
    "# Cartographie des Précipitations du 9 Octobre 2024\n",
    "\n",
    "\n",
    "L'objectif de cette analyse est de préparer les données pour une carte du volume de précipitation par poste pour le 9 octobre 2024. Le fichier de données utilisé provient du site data.gouv.fr et contient des données météorologiques journalières relevées à partir de différents postes météorologiques. L'URL source est : https://object.files.data.gouv.fr/meteofrance/data/synchro_ftp/BASE/QUOT/Q_95_latest-2024-2025_RR-T-Vent.csv.gz. Ce fichier est particulièrement utile pour analyser les tendances climatiques et cartographier les données météorologiques.\n",
    "\n",
    "\n",
    "Les données incluent diverses mesures telles que les précipitations, les températures minimales et maximales, la vitesse du vent, etc. Pour cette analyse, nous nous concentrerons sur les précipitations relevées le 9 octobre 2024. Nous utiliserons les champs `NUM_POSTE`, `LAT`, `LON`, et `RR` pour créer une carte représentant le volume de précipitation par poste.\n",
    "\n",
    "\n",
    "## Méthodologie\n",
    "\n",
    "\n",
    "La méthodologie utilisée pour cette analyse comporte plusieurs étapes. Tout d'abord, nous avons sélectionné les données pertinentes en utilisant une requête SQL pour filtrer les données du 9 octobre 2024 et ne garder que celles de bonne qualité (`QRR = '1'`). Les données ont ensuite été traitées et visualisées à l'aide de bibliothèques Python telles que `duckdb`, `pandas`, `plotly`, et `geopandas`. La visualisation finale est une carte interactive représentant le volume de précipitation par poste.\n",
    "\n",
    "\n",
    "La carte est créée en utilisant `plotly.express` et `geopandas` pour superposer les données de précipitation sur une carte du département 95. Les précipitations sont représentées par des cercles dont la taille et la couleur varient en fonction du volume de précipitation. Cette visualisation permet une compréhension facile et intuitive de la distribution des précipitations dans la région."
   ]
  },
  {
   "cell_type": "markdown",
   "metadata": {},
   "source": [
    "## 🔧 Configuration"
   ]
  },
  {
   "cell_type": "code",
   "execution_count": 1,
   "metadata": {
    "execution": {
     "iopub.execute_input": "2025-08-21T09:54:37.861546Z",
     "iopub.status.busy": "2025-08-21T09:54:37.860553Z",
     "iopub.status.idle": "2025-08-21T09:54:38.437375Z",
     "shell.execute_reply": "2025-08-21T09:54:38.437375Z"
    }
   },
   "outputs": [],
   "source": [
    "# Installation et imports\n",
    "import duckdb as ddb\n",
    "import pandas as pd\n",
    "import plotly.express as px\n",
    "import plotly.graph_objects as go"
   ]
  },
  {
   "cell_type": "markdown",
   "metadata": {},
   "source": [
    "## 🦆 Chargement du dataset avec Duckdb"
   ]
  },
  {
   "cell_type": "code",
   "execution_count": 2,
   "metadata": {
    "execution": {
     "iopub.execute_input": "2025-08-21T09:54:38.437375Z",
     "iopub.status.busy": "2025-08-21T09:54:38.437375Z",
     "iopub.status.idle": "2025-08-21T09:54:40.261514Z",
     "shell.execute_reply": "2025-08-21T09:54:40.261514Z"
    }
   },
   "outputs": [
    {
     "name": "stdout",
     "output_type": "stream",
     "text": [
      "✅ Données chargées avec succès\n"
     ]
    }
   ],
   "source": [
    "# Fonction de chargement complète (basée sur load_file_from_url_lite)\n",
    "def load_file_from_url_lite(url_dataset=\"\", loader=\"read_csv_auto\", options=\"\", nom_table=\"loaded_dataset\", safe_mode=False):\n",
    "    ddb.execute(\"install spatial\")\n",
    "    ddb.execute(\"load spatial\")\n",
    "    ddb.execute(\"INSTALL h3 FROM community\")\n",
    "    ddb.execute(\"LOAD h3\")\n",
    "    ddb.execute(\"install webbed from community;\")\n",
    "    ddb.execute(\"load webbed\")\n",
    "    ddb.execute(\"set force_download=True\")\n",
    "    ddb.execute(f\"drop table if exists {nom_table}\")   \n",
    "    \n",
    "    # Détection automatique du type de fichier\n",
    "    if 'csv' in url_dataset: \n",
    "        loader = \"read_csv_auto\"\n",
    "    elif 'tsv' in url_dataset: \n",
    "        loader = \"read_csv_auto\"\n",
    "    elif 'txt' in url_dataset: \n",
    "        loader = \"read_csv_auto\"\n",
    "    elif 'parquet' in url_dataset: \n",
    "        loader = \"read_parquet\"\n",
    "    elif 'json' in url_dataset: \n",
    "        loader = \"read_json_auto\"\n",
    "    elif 'xls' in url_dataset or 'xlsx' in url_dataset: \n",
    "        loader = \"st_read\"\n",
    "    elif 'shp' in url_dataset: \n",
    "        loader = \"st_read\"\n",
    "    elif 'geojson' in url_dataset: \n",
    "        loader = \"st_read\"\n",
    "    elif 'xml' in url_dataset: \n",
    "        loader = \"read_xml\"\n",
    "    elif 'html' in url_dataset: \n",
    "        loader = \"read_html\"\n",
    "    else: \n",
    "        raise ValueError(f\"Type de fichier non supporté pour {url_dataset}\")\n",
    "    \n",
    "    if options==\"\": \n",
    "        options = \"\" \n",
    "    if 'csv' in url_dataset and safe_mode==True: \n",
    "        options = \", all_varchar=1\" \n",
    "    if nom_table==\"\": \n",
    "        nom_table = \"loaded_dataset\"\n",
    "    \n",
    "    try:\n",
    "        status = ddb.sql(f\"\"\"\n",
    "            create or replace table {nom_table} as select *\n",
    "            from\n",
    "            {loader}(\"{url_dataset}\" {options})\n",
    "        \"\"\")\n",
    "        return status\n",
    "    except Exception as e:\n",
    "        return f\"Erreur au chargement du fichier : {str(e)}\"\n",
    "\n",
    "def run_query(sql):\n",
    "    return ddb.sql(sql.replace(\"`\",\" \")).to_df()\n",
    "\n",
    "# Chargement des données\n",
    "load_file_from_url_lite(\"https://object.files.data.gouv.fr/meteofrance/data/synchro_ftp/BASE/QUOT/Q_95_latest-2024-2025_RR-T-Vent.csv.gz\", safe_mode=True)\n",
    "print(\"✅ Données chargées avec succès\")"
   ]
  },
  {
   "cell_type": "markdown",
   "metadata": {},
   "source": [
    "## 🔍 Analyse SQL\n",
    "\n",
    "Cette requête utilise des techniques SQL pour extraire et transformer les données de manière efficace."
   ]
  },
  {
   "cell_type": "code",
   "execution_count": 3,
   "metadata": {
    "execution": {
     "iopub.execute_input": "2025-08-21T09:54:40.277512Z",
     "iopub.status.busy": "2025-08-21T09:54:40.277512Z",
     "iopub.status.idle": "2025-08-21T09:54:40.309331Z",
     "shell.execute_reply": "2025-08-21T09:54:40.309331Z"
    }
   },
   "outputs": [
    {
     "name": "stdout",
     "output_type": "stream",
     "text": [
      "Résultats : 6 lignes\n"
     ]
    },
    {
     "data": {
      "text/html": [
       "<div>\n",
       "<style scoped>\n",
       "    .dataframe tbody tr th:only-of-type {\n",
       "        vertical-align: middle;\n",
       "    }\n",
       "\n",
       "    .dataframe tbody tr th {\n",
       "        vertical-align: top;\n",
       "    }\n",
       "\n",
       "    .dataframe thead th {\n",
       "        text-align: right;\n",
       "    }\n",
       "</style>\n",
       "<table border=\"1\" class=\"dataframe\">\n",
       "  <thead>\n",
       "    <tr style=\"text-align: right;\">\n",
       "      <th></th>\n",
       "      <th>NUM_POSTE</th>\n",
       "      <th>precipitation_volume</th>\n",
       "      <th>LAT</th>\n",
       "      <th>LON</th>\n",
       "    </tr>\n",
       "  </thead>\n",
       "  <tbody>\n",
       "    <tr>\n",
       "      <th>0</th>\n",
       "      <td>95078001</td>\n",
       "      <td>48.8</td>\n",
       "      <td>49.090333</td>\n",
       "      <td>2.028500</td>\n",
       "    </tr>\n",
       "    <tr>\n",
       "      <th>1</th>\n",
       "      <td>95088001</td>\n",
       "      <td>69.6</td>\n",
       "      <td>48.967333</td>\n",
       "      <td>2.427667</td>\n",
       "    </tr>\n",
       "    <tr>\n",
       "      <th>2</th>\n",
       "      <td>95492001</td>\n",
       "      <td>71.2</td>\n",
       "      <td>49.040333</td>\n",
       "      <td>2.406667</td>\n",
       "    </tr>\n",
       "    <tr>\n",
       "      <th>3</th>\n",
       "      <td>95527001</td>\n",
       "      <td>69.8</td>\n",
       "      <td>49.015167</td>\n",
       "      <td>2.534333</td>\n",
       "    </tr>\n",
       "    <tr>\n",
       "      <th>4</th>\n",
       "      <td>95580001</td>\n",
       "      <td>71.0</td>\n",
       "      <td>49.085667</td>\n",
       "      <td>2.550667</td>\n",
       "    </tr>\n",
       "  </tbody>\n",
       "</table>\n",
       "</div>"
      ],
      "text/plain": [
       "  NUM_POSTE  precipitation_volume        LAT       LON\n",
       "0  95078001                  48.8  49.090333  2.028500\n",
       "1  95088001                  69.6  48.967333  2.427667\n",
       "2  95492001                  71.2  49.040333  2.406667\n",
       "3  95527001                  69.8  49.015167  2.534333\n",
       "4  95580001                  71.0  49.085667  2.550667"
      ]
     },
     "execution_count": 3,
     "metadata": {},
     "output_type": "execute_result"
    }
   ],
   "source": [
    "# Exécution de la requête\n",
    "df = run_query(\"\"\" SELECT \n",
    "  \"NUM_POSTE\",\n",
    "  CAST(\"RR\" AS DOUBLE) AS precipitation_volume,\n",
    "  \"LAT\",\n",
    "  \"LON\"\n",
    "FROM \n",
    "  loaded_dataset\n",
    "WHERE \n",
    "  CAST(\"AAAAMMJJ\" AS VARCHAR) = '20241009'\n",
    "  AND \"QRR\" = '1'  -- On ne garde que les données de précipitation de bonne qualité\n",
    "ORDER BY \n",
    "  \"NUM_POSTE\" \"\"\")\n",
    "print(f\"Résultats : {len(df)} lignes\")\n",
    "df.head()"
   ]
  },
  {
   "cell_type": "markdown",
   "metadata": {},
   "source": [
    "## 📈 Visualisation\n",
    "\n",
    "La bibliothèque principale utilisée est Plotly, qui permet de créer des visualisations interactives et personnalisables. Cette technologie est adaptée pour représenter des données géospatiales, comme dans ce cas, où des données de précipitation sont superposées à une carte. Plotly offre une grande flexibilité pour créer des cartes interactives avec des informations détaillées."
   ]
  },
  {
   "cell_type": "code",
   "execution_count": 4,
   "metadata": {
    "execution": {
     "iopub.execute_input": "2025-08-21T09:54:40.309331Z",
     "iopub.status.busy": "2025-08-21T09:54:40.309331Z",
     "iopub.status.idle": "2025-08-21T09:54:47.249343Z",
     "shell.execute_reply": "2025-08-21T09:54:47.249343Z"
    }
   },
   "outputs": [
    {
     "name": "stderr",
     "output_type": "stream",
     "text": [
      "C:\\Users\\ami\\AppData\\Local\\Temp\\ipykernel_15656\\2626121031.py:16: DeprecationWarning: *choropleth_mapbox* is deprecated! Use *choropleth_map* instead. Learn more at: https://plotly.com/python/mapbox-to-maplibre/\n",
      "  fig = px.choropleth_mapbox(\n"
     ]
    },
    {
     "name": "stderr",
     "output_type": "stream",
     "text": [
      "C:\\Users\\ami\\AppData\\Local\\Temp\\ipykernel_15656\\2626121031.py:28: DeprecationWarning:\n",
      "\n",
      "*scattermapbox* is deprecated! Use *scattermap* instead. Learn more at: https://plotly.com/python/mapbox-to-maplibre/\n",
      "\n"
     ]
    },
    {
     "data": {
      "application/vnd.plotly.v1+json": {
       "config": {
        "plotlyServerURL": "https://plot.ly"
       },
       "data": [
        {
         "colorscale": [
          [
           0.0,
           "#f0f0f0"
          ],
          [
           1.0,
           "#f0f0f0"
          ]
         ],
         "geojson": {
          "bbox": [
           1.608798807603,
           48.908679329899,
           2.5905283926735,
           49.232197221792
          ],
          "features": [
           {
            "bbox": [
             1.608798807603,
             48.908679329899,
             2.5905283926735,
             49.232197221792
            ],
            "geometry": {
             "coordinates": [
              [
               [
                1.7043588288241,
                49.232197221792
               ],
               [
                1.729662120604,
                49.22919730317
               ],
               [
                1.7341091784733,
                49.221277890399
               ],
               [
                1.7336823766846,
                49.210958623685
               ],
               [
                1.7230394537953,
                49.20967924589
               ],
               [
                1.7155761288215,
                49.203118037941
               ],
               [
                1.7258249045161,
                49.195712707137
               ],
               [
                1.7374357068856,
                49.194603115202
               ],
               [
                1.7421415990654,
                49.180151725276
               ],
               [
                1.7551705903258,
                49.174545969477
               ],
               [
                1.7775554860529,
                49.184104883007
               ],
               [
                1.7909791787819,
                49.179854330047
               ],
               [
                1.7954740881562,
                49.18526277584
               ],
               [
                1.8143979645085,
                49.176162362964
               ],
               [
                1.8265758315348,
                49.179516758866
               ],
               [
                1.8370818782543,
                49.171698986367
               ],
               [
                1.8455433838221,
                49.169896687357
               ],
               [
                1.877042152092,
                49.171448857663
               ],
               [
                1.8852348791181,
                49.162636028533
               ],
               [
                1.894536229716,
                49.166040538631
               ],
               [
                1.931476176782,
                49.17416772145
               ],
               [
                1.9480171420872,
                49.170749195544
               ],
               [
                1.9607171629873,
                49.173517298241
               ],
               [
                1.9734431640564,
                49.18389441504
               ],
               [
                1.996823915181,
                49.176453415327
               ],
               [
                2.0045021739488,
                49.177609556506
               ],
               [
                2.0217858750717,
                49.188671770161
               ],
               [
                2.0380917348167,
                49.192136044555
               ],
               [
                2.066842351201,
                49.202860855132
               ],
               [
                2.0808850919985,
                49.209773929407
               ],
               [
                2.0915398506152,
                49.204360444701
               ],
               [
                2.0968798927064,
                49.189757147704
               ],
               [
                2.1133369040576,
                49.186543761789
               ],
               [
                2.1327402600127,
                49.191379169415
               ],
               [
                2.1645707336419,
                49.179671393215
               ],
               [
                2.157743439339,
                49.172599185593
               ],
               [
                2.1642743368285,
                49.166004802028
               ],
               [
                2.1819527991076,
                49.173675958457
               ],
               [
                2.204958905762,
                49.174316445929
               ],
               [
                2.2186458815721,
                49.180685270888
               ],
               [
                2.2354095182703,
                49.167035850124
               ],
               [
                2.2163546658105,
                49.154378017348
               ],
               [
                2.2230049777895,
                49.151869445673
               ],
               [
                2.2524813607229,
                49.152881479913
               ],
               [
                2.2622091200851,
                49.158297463054
               ],
               [
                2.2695453788487,
                49.156306628677
               ],
               [
                2.2862682227562,
                49.160277559835
               ],
               [
                2.2888064839605,
                49.170710377425
               ],
               [
                2.2994229533516,
                49.17583535835
               ],
               [
                2.3011998615285,
                49.183887047533
               ],
               [
                2.3109304401404,
                49.186404768181
               ],
               [
                2.3222626753655,
                49.180859736345
               ],
               [
                2.3462625342946,
                49.161815854345
               ],
               [
                2.3592998527471,
                49.147343950086
               ],
               [
                2.370937678429,
                49.159173609651
               ],
               [
                2.383003341928,
                49.155913004846
               ],
               [
                2.3912847262891,
                49.1493504084
               ],
               [
                2.4153544805398,
                49.151762413963
               ],
               [
                2.4409039786288,
                49.14580411257
               ],
               [
                2.4354018020913,
                49.133939040206
               ],
               [
                2.4615068862157,
                49.135936921998
               ],
               [
                2.4817070713716,
                49.126919463544
               ],
               [
                2.4992321189629,
                49.122269747269
               ],
               [
                2.5020961933805,
                49.118887475459
               ],
               [
                2.4899295573932,
                49.106359373937
               ],
               [
                2.5310585957685,
                49.099597191318
               ],
               [
                2.5329944482474,
                49.119245162084
               ],
               [
                2.5408087122315,
                49.122242313794
               ],
               [
                2.5561550654469,
                49.118627938332
               ],
               [
                2.5520149054273,
                49.113947081753
               ],
               [
                2.5581755098966,
                49.098381756011
               ],
               [
                2.5786858654184,
                49.091952842127
               ],
               [
                2.5833038141204,
                49.080706309944
               ],
               [
                2.5905283926735,
                49.079653961607
               ],
               [
                2.5715472662178,
                49.059825274601
               ],
               [
                2.5741880306468,
                49.054149235821
               ],
               [
                2.5847224172596,
                49.052600876728
               ],
               [
                2.5882844530991,
                49.046956449876
               ],
               [
                2.573590385495,
                49.043134042541
               ],
               [
                2.5662405882259,
                49.030110020073
               ],
               [
                2.5476478248421,
                49.023448531806
               ],
               [
                2.5350135962143,
                49.023809402045
               ],
               [
                2.5378177402082,
                49.016609544367
               ],
               [
                2.5490471496408,
                49.014720763277
               ],
               [
                2.5530565519414,
                49.009816202999
               ],
               [
                2.5477767707755,
                49.004873251062
               ],
               [
                2.5322372193717,
                49.005223735412
               ],
               [
                2.5183558101117,
                48.9894603436
               ],
               [
                2.514763879623,
                48.982255621303
               ],
               [
                2.5004037138928,
                48.97770409094
               ],
               [
                2.4960054328348,
                48.972719183153
               ],
               [
                2.4673269472292,
                48.964338344645
               ],
               [
                2.4594885661379,
                48.955049018342
               ],
               [
                2.427263253996,
                48.959221267075
               ],
               [
                2.4073892851778,
                48.956124752826
               ],
               [
                2.3943172032158,
                48.962558403369
               ],
               [
                2.3845399502938,
                48.970995811739
               ],
               [
                2.3664463375656,
                48.974178481395
               ],
               [
                2.3536647251325,
                48.965815537603
               ],
               [
                2.3277204556376,
                48.959659512979
               ],
               [
                2.3061147975372,
                48.96262002844
               ],
               [
                2.2989606605183,
                48.966304083093
               ],
               [
                2.2882536989787,
                48.958347222268
               ],
               [
                2.2909694895753,
                48.950965864655
               ],
               [
                2.2687285425666,
                48.946575058002
               ],
               [
                2.231140371461,
                48.927732507513
               ],
               [
                2.2005910092695,
                48.908679329899
               ],
               [
                2.2037015884478,
                48.914390956152
               ],
               [
                2.1989282039477,
                48.935252831528
               ],
               [
                2.2060210022656,
                48.94051776568
               ],
               [
                2.205861118488,
                48.949738062716
               ],
               [
                2.1735533368231,
                48.953158232311
               ],
               [
                2.1782956060357,
                48.964137829678
               ],
               [
                2.1732779441741,
                48.975633867858
               ],
               [
                2.1549353971038,
                48.985726242203
               ],
               [
                2.1269716643348,
                48.989140165715
               ],
               [
                2.1207126382788,
                48.993300321431
               ],
               [
                2.127121298296,
                49.009679391237
               ],
               [
                2.1212540749308,
                49.018332284915
               ],
               [
                2.1102443408749,
                49.008729959034
               ],
               [
                2.0849108992224,
                49.014674188012
               ],
               [
                2.0754526810069,
                49.002257622875
               ],
               [
                2.0644261289366,
                49.008208904929
               ],
               [
                2.0498584568979,
                49.003200683684
               ],
               [
                2.0247730275828,
                48.998756705331
               ],
               [
                2.0144337197287,
                49.00106609648
               ],
               [
                1.9918871076265,
                49.021006179043
               ],
               [
                1.974053010825,
                49.019426174588
               ],
               [
                1.9549423612736,
                49.024533707311
               ],
               [
                1.9378008717251,
                49.021772717877
               ],
               [
                1.9085198609511,
                49.048019307838
               ],
               [
                1.8832054260904,
                49.033529797441
               ],
               [
                1.8818941990409,
                49.019542051399
               ],
               [
                1.8691165460014,
                49.01823441815
               ],
               [
                1.8520019385024,
                49.035204042747
               ],
               [
                1.8606119952712,
                49.046346047943
               ],
               [
                1.8654659990427,
                49.05747165429
               ],
               [
                1.8417831494014,
                49.064654564598
               ],
               [
                1.8406440398067,
                49.069332222477
               ],
               [
                1.8239435408566,
                49.076360256056
               ],
               [
                1.7965480580586,
                49.072232211602
               ],
               [
                1.7998422239972,
                49.064555011994
               ],
               [
                1.7941625055309,
                49.058508218145
               ],
               [
                1.7777603243167,
                49.05658172354
               ],
               [
                1.7596223758831,
                49.063324634192
               ],
               [
                1.7502240292765,
                49.05410421169
               ],
               [
                1.7511782974558,
                49.048223015203
               ],
               [
                1.7356433379106,
                49.048684595888
               ],
               [
                1.7234517354795,
                49.044974719281
               ],
               [
                1.7171010524139,
                49.04903025476
               ],
               [
                1.6949167927313,
                49.056327234914
               ],
               [
                1.6971091015472,
                49.065962446366
               ],
               [
                1.6736890350523,
                49.078154769223
               ],
               [
                1.6602322098294,
                49.081089987836
               ],
               [
                1.6429103427093,
                49.081251769387
               ],
               [
                1.6292577222733,
                49.078286632616
               ],
               [
                1.6141564760593,
                49.071448021972
               ],
               [
                1.608798807603,
                49.077894185227
               ],
               [
                1.6233233619235,
                49.086078404348
               ],
               [
                1.6175344667245,
                49.093996514155
               ],
               [
                1.6470910019222,
                49.124713530921
               ],
               [
                1.655781502711,
                49.130164014177
               ],
               [
                1.6539225302112,
                49.145440634177
               ],
               [
                1.6643792614171,
                49.153368483471
               ],
               [
                1.6670168601861,
                49.178613559023
               ],
               [
                1.6769552220057,
                49.202542812736
               ],
               [
                1.6757423007191,
                49.21186711807
               ],
               [
                1.7040643483737,
                49.229320472612
               ],
               [
                1.7043588288241,
                49.232197221792
               ]
              ]
             ],
             "type": "Polygon"
            },
            "id": "90",
            "properties": {},
            "type": "Feature"
           }
          ],
          "type": "FeatureCollection"
         },
         "hovertemplate": "index=%{location}<extra></extra>",
         "locations": {
          "bdata": "Wg==",
          "dtype": "i1"
         },
         "marker": {
          "opacity": 0.4
         },
         "name": "",
         "showlegend": true,
         "showscale": false,
         "subplot": "mapbox",
         "type": "choroplethmapbox",
         "z": [
          1
         ]
        },
        {
         "hovertemplate": "%{text}<extra></extra>",
         "lat": {
          "bdata": "8l8gCJCLSEC5q1eR0XtIQIv5uaEphUhAPX0E/vCBSEBYrOEi94pIQNPAj2rYjUhA",
          "dtype": "f8"
         },
         "lon": {
          "bdata": "7nw/NV46AEChoBSt3GsDQEPmyqDaQANAeGNBYVBGBEA25J8ZxGcEQOjc7XppSv0/",
          "dtype": "f8"
         },
         "marker": {
          "color": {
           "bdata": "ZmZmZmZmSEBmZmZmZmZRQM3MzMzMzFFAMzMzMzNzUUAAAAAAAMBRQGZmZmZmZkZA",
           "dtype": "f8"
          },
          "colorbar": {
           "len": 0.7,
           "thickness": 15,
           "title": {
            "text": "Précip.<br>(mm)"
           },
           "x": 0.98,
           "y": 0.5
          },
          "colorscale": [
           [
            0.0,
            "rgb(247,251,255)"
           ],
           [
            0.125,
            "rgb(222,235,247)"
           ],
           [
            0.25,
            "rgb(198,219,239)"
           ],
           [
            0.375,
            "rgb(158,202,225)"
           ],
           [
            0.5,
            "rgb(107,174,214)"
           ],
           [
            0.625,
            "rgb(66,146,198)"
           ],
           [
            0.75,
            "rgb(33,113,181)"
           ],
           [
            0.875,
            "rgb(8,81,156)"
           ],
           [
            1.0,
            "rgb(8,48,107)"
           ]
          ],
          "showscale": true,
          "size": {
           "bdata": "hetRuB6FI0DXo3A9CtcrQHwUrkfheixA7FG4HoXrK0BnZmZmZmYsQOtRuB6F6yFA",
           "dtype": "f8"
          }
         },
         "mode": "markers",
         "showlegend": false,
         "text": [
          "Poste 95078001<br>48.8 mm",
          "Poste 95088001<br>69.6 mm",
          "Poste 95492001<br>71.2 mm",
          "Poste 95527001<br>69.8 mm",
          "Poste 95580001<br>71.0 mm",
          "Poste 95690001<br>44.8 mm"
         ],
         "type": "scattermapbox"
        }
       ],
       "layout": {
        "annotations": [
         {
          "font": {
           "color": "gray",
           "size": 11
          },
          "showarrow": false,
          "text": "Source : données station météo IDF le 9/10/24",
          "x": 1,
          "xanchor": "right",
          "y": -0.02
         }
        ],
        "height": 700,
        "legend": {
         "tracegroupgap": 0
        },
        "mapbox": {
         "center": {
          "lat": 49.0,
          "lon": 2.15
         },
         "domain": {
          "x": [
           0.0,
           1.0
          ],
          "y": [
           0.0,
           1.0
          ]
         },
         "style": "carto-positron",
         "zoom": 9.2
        },
        "margin": {
         "b": 0,
         "l": 0,
         "r": 0,
         "t": 50
        },
        "template": {
         "data": {
          "bar": [
           {
            "error_x": {
             "color": "#2a3f5f"
            },
            "error_y": {
             "color": "#2a3f5f"
            },
            "marker": {
             "line": {
              "color": "#E5ECF6",
              "width": 0.5
             },
             "pattern": {
              "fillmode": "overlay",
              "size": 10,
              "solidity": 0.2
             }
            },
            "type": "bar"
           }
          ],
          "barpolar": [
           {
            "marker": {
             "line": {
              "color": "#E5ECF6",
              "width": 0.5
             },
             "pattern": {
              "fillmode": "overlay",
              "size": 10,
              "solidity": 0.2
             }
            },
            "type": "barpolar"
           }
          ],
          "carpet": [
           {
            "aaxis": {
             "endlinecolor": "#2a3f5f",
             "gridcolor": "white",
             "linecolor": "white",
             "minorgridcolor": "white",
             "startlinecolor": "#2a3f5f"
            },
            "baxis": {
             "endlinecolor": "#2a3f5f",
             "gridcolor": "white",
             "linecolor": "white",
             "minorgridcolor": "white",
             "startlinecolor": "#2a3f5f"
            },
            "type": "carpet"
           }
          ],
          "choropleth": [
           {
            "colorbar": {
             "outlinewidth": 0,
             "ticks": ""
            },
            "type": "choropleth"
           }
          ],
          "contour": [
           {
            "colorbar": {
             "outlinewidth": 0,
             "ticks": ""
            },
            "colorscale": [
             [
              0.0,
              "#0d0887"
             ],
             [
              0.1111111111111111,
              "#46039f"
             ],
             [
              0.2222222222222222,
              "#7201a8"
             ],
             [
              0.3333333333333333,
              "#9c179e"
             ],
             [
              0.4444444444444444,
              "#bd3786"
             ],
             [
              0.5555555555555556,
              "#d8576b"
             ],
             [
              0.6666666666666666,
              "#ed7953"
             ],
             [
              0.7777777777777778,
              "#fb9f3a"
             ],
             [
              0.8888888888888888,
              "#fdca26"
             ],
             [
              1.0,
              "#f0f921"
             ]
            ],
            "type": "contour"
           }
          ],
          "contourcarpet": [
           {
            "colorbar": {
             "outlinewidth": 0,
             "ticks": ""
            },
            "type": "contourcarpet"
           }
          ],
          "heatmap": [
           {
            "colorbar": {
             "outlinewidth": 0,
             "ticks": ""
            },
            "colorscale": [
             [
              0.0,
              "#0d0887"
             ],
             [
              0.1111111111111111,
              "#46039f"
             ],
             [
              0.2222222222222222,
              "#7201a8"
             ],
             [
              0.3333333333333333,
              "#9c179e"
             ],
             [
              0.4444444444444444,
              "#bd3786"
             ],
             [
              0.5555555555555556,
              "#d8576b"
             ],
             [
              0.6666666666666666,
              "#ed7953"
             ],
             [
              0.7777777777777778,
              "#fb9f3a"
             ],
             [
              0.8888888888888888,
              "#fdca26"
             ],
             [
              1.0,
              "#f0f921"
             ]
            ],
            "type": "heatmap"
           }
          ],
          "histogram": [
           {
            "marker": {
             "pattern": {
              "fillmode": "overlay",
              "size": 10,
              "solidity": 0.2
             }
            },
            "type": "histogram"
           }
          ],
          "histogram2d": [
           {
            "colorbar": {
             "outlinewidth": 0,
             "ticks": ""
            },
            "colorscale": [
             [
              0.0,
              "#0d0887"
             ],
             [
              0.1111111111111111,
              "#46039f"
             ],
             [
              0.2222222222222222,
              "#7201a8"
             ],
             [
              0.3333333333333333,
              "#9c179e"
             ],
             [
              0.4444444444444444,
              "#bd3786"
             ],
             [
              0.5555555555555556,
              "#d8576b"
             ],
             [
              0.6666666666666666,
              "#ed7953"
             ],
             [
              0.7777777777777778,
              "#fb9f3a"
             ],
             [
              0.8888888888888888,
              "#fdca26"
             ],
             [
              1.0,
              "#f0f921"
             ]
            ],
            "type": "histogram2d"
           }
          ],
          "histogram2dcontour": [
           {
            "colorbar": {
             "outlinewidth": 0,
             "ticks": ""
            },
            "colorscale": [
             [
              0.0,
              "#0d0887"
             ],
             [
              0.1111111111111111,
              "#46039f"
             ],
             [
              0.2222222222222222,
              "#7201a8"
             ],
             [
              0.3333333333333333,
              "#9c179e"
             ],
             [
              0.4444444444444444,
              "#bd3786"
             ],
             [
              0.5555555555555556,
              "#d8576b"
             ],
             [
              0.6666666666666666,
              "#ed7953"
             ],
             [
              0.7777777777777778,
              "#fb9f3a"
             ],
             [
              0.8888888888888888,
              "#fdca26"
             ],
             [
              1.0,
              "#f0f921"
             ]
            ],
            "type": "histogram2dcontour"
           }
          ],
          "mesh3d": [
           {
            "colorbar": {
             "outlinewidth": 0,
             "ticks": ""
            },
            "type": "mesh3d"
           }
          ],
          "parcoords": [
           {
            "line": {
             "colorbar": {
              "outlinewidth": 0,
              "ticks": ""
             }
            },
            "type": "parcoords"
           }
          ],
          "pie": [
           {
            "automargin": true,
            "type": "pie"
           }
          ],
          "scatter": [
           {
            "fillpattern": {
             "fillmode": "overlay",
             "size": 10,
             "solidity": 0.2
            },
            "type": "scatter"
           }
          ],
          "scatter3d": [
           {
            "line": {
             "colorbar": {
              "outlinewidth": 0,
              "ticks": ""
             }
            },
            "marker": {
             "colorbar": {
              "outlinewidth": 0,
              "ticks": ""
             }
            },
            "type": "scatter3d"
           }
          ],
          "scattercarpet": [
           {
            "marker": {
             "colorbar": {
              "outlinewidth": 0,
              "ticks": ""
             }
            },
            "type": "scattercarpet"
           }
          ],
          "scattergeo": [
           {
            "marker": {
             "colorbar": {
              "outlinewidth": 0,
              "ticks": ""
             }
            },
            "type": "scattergeo"
           }
          ],
          "scattergl": [
           {
            "marker": {
             "colorbar": {
              "outlinewidth": 0,
              "ticks": ""
             }
            },
            "type": "scattergl"
           }
          ],
          "scattermap": [
           {
            "marker": {
             "colorbar": {
              "outlinewidth": 0,
              "ticks": ""
             }
            },
            "type": "scattermap"
           }
          ],
          "scattermapbox": [
           {
            "marker": {
             "colorbar": {
              "outlinewidth": 0,
              "ticks": ""
             }
            },
            "type": "scattermapbox"
           }
          ],
          "scatterpolar": [
           {
            "marker": {
             "colorbar": {
              "outlinewidth": 0,
              "ticks": ""
             }
            },
            "type": "scatterpolar"
           }
          ],
          "scatterpolargl": [
           {
            "marker": {
             "colorbar": {
              "outlinewidth": 0,
              "ticks": ""
             }
            },
            "type": "scatterpolargl"
           }
          ],
          "scatterternary": [
           {
            "marker": {
             "colorbar": {
              "outlinewidth": 0,
              "ticks": ""
             }
            },
            "type": "scatterternary"
           }
          ],
          "surface": [
           {
            "colorbar": {
             "outlinewidth": 0,
             "ticks": ""
            },
            "colorscale": [
             [
              0.0,
              "#0d0887"
             ],
             [
              0.1111111111111111,
              "#46039f"
             ],
             [
              0.2222222222222222,
              "#7201a8"
             ],
             [
              0.3333333333333333,
              "#9c179e"
             ],
             [
              0.4444444444444444,
              "#bd3786"
             ],
             [
              0.5555555555555556,
              "#d8576b"
             ],
             [
              0.6666666666666666,
              "#ed7953"
             ],
             [
              0.7777777777777778,
              "#fb9f3a"
             ],
             [
              0.8888888888888888,
              "#fdca26"
             ],
             [
              1.0,
              "#f0f921"
             ]
            ],
            "type": "surface"
           }
          ],
          "table": [
           {
            "cells": {
             "fill": {
              "color": "#EBF0F8"
             },
             "line": {
              "color": "white"
             }
            },
            "header": {
             "fill": {
              "color": "#C8D4E3"
             },
             "line": {
              "color": "white"
             }
            },
            "type": "table"
           }
          ]
         },
         "layout": {
          "annotationdefaults": {
           "arrowcolor": "#2a3f5f",
           "arrowhead": 0,
           "arrowwidth": 1
          },
          "autotypenumbers": "strict",
          "coloraxis": {
           "colorbar": {
            "outlinewidth": 0,
            "ticks": ""
           }
          },
          "colorscale": {
           "diverging": [
            [
             0,
             "#8e0152"
            ],
            [
             0.1,
             "#c51b7d"
            ],
            [
             0.2,
             "#de77ae"
            ],
            [
             0.3,
             "#f1b6da"
            ],
            [
             0.4,
             "#fde0ef"
            ],
            [
             0.5,
             "#f7f7f7"
            ],
            [
             0.6,
             "#e6f5d0"
            ],
            [
             0.7,
             "#b8e186"
            ],
            [
             0.8,
             "#7fbc41"
            ],
            [
             0.9,
             "#4d9221"
            ],
            [
             1,
             "#276419"
            ]
           ],
           "sequential": [
            [
             0.0,
             "#0d0887"
            ],
            [
             0.1111111111111111,
             "#46039f"
            ],
            [
             0.2222222222222222,
             "#7201a8"
            ],
            [
             0.3333333333333333,
             "#9c179e"
            ],
            [
             0.4444444444444444,
             "#bd3786"
            ],
            [
             0.5555555555555556,
             "#d8576b"
            ],
            [
             0.6666666666666666,
             "#ed7953"
            ],
            [
             0.7777777777777778,
             "#fb9f3a"
            ],
            [
             0.8888888888888888,
             "#fdca26"
            ],
            [
             1.0,
             "#f0f921"
            ]
           ],
           "sequentialminus": [
            [
             0.0,
             "#0d0887"
            ],
            [
             0.1111111111111111,
             "#46039f"
            ],
            [
             0.2222222222222222,
             "#7201a8"
            ],
            [
             0.3333333333333333,
             "#9c179e"
            ],
            [
             0.4444444444444444,
             "#bd3786"
            ],
            [
             0.5555555555555556,
             "#d8576b"
            ],
            [
             0.6666666666666666,
             "#ed7953"
            ],
            [
             0.7777777777777778,
             "#fb9f3a"
            ],
            [
             0.8888888888888888,
             "#fdca26"
            ],
            [
             1.0,
             "#f0f921"
            ]
           ]
          },
          "colorway": [
           "#636efa",
           "#EF553B",
           "#00cc96",
           "#ab63fa",
           "#FFA15A",
           "#19d3f3",
           "#FF6692",
           "#B6E880",
           "#FF97FF",
           "#FECB52"
          ],
          "font": {
           "color": "#2a3f5f"
          },
          "geo": {
           "bgcolor": "white",
           "lakecolor": "white",
           "landcolor": "#E5ECF6",
           "showlakes": true,
           "showland": true,
           "subunitcolor": "white"
          },
          "hoverlabel": {
           "align": "left"
          },
          "hovermode": "closest",
          "mapbox": {
           "style": "light"
          },
          "paper_bgcolor": "white",
          "plot_bgcolor": "#E5ECF6",
          "polar": {
           "angularaxis": {
            "gridcolor": "white",
            "linecolor": "white",
            "ticks": ""
           },
           "bgcolor": "#E5ECF6",
           "radialaxis": {
            "gridcolor": "white",
            "linecolor": "white",
            "ticks": ""
           }
          },
          "scene": {
           "xaxis": {
            "backgroundcolor": "#E5ECF6",
            "gridcolor": "white",
            "gridwidth": 2,
            "linecolor": "white",
            "showbackground": true,
            "ticks": "",
            "zerolinecolor": "white"
           },
           "yaxis": {
            "backgroundcolor": "#E5ECF6",
            "gridcolor": "white",
            "gridwidth": 2,
            "linecolor": "white",
            "showbackground": true,
            "ticks": "",
            "zerolinecolor": "white"
           },
           "zaxis": {
            "backgroundcolor": "#E5ECF6",
            "gridcolor": "white",
            "gridwidth": 2,
            "linecolor": "white",
            "showbackground": true,
            "ticks": "",
            "zerolinecolor": "white"
           }
          },
          "shapedefaults": {
           "line": {
            "color": "#2a3f5f"
           }
          },
          "ternary": {
           "aaxis": {
            "gridcolor": "white",
            "linecolor": "white",
            "ticks": ""
           },
           "baxis": {
            "gridcolor": "white",
            "linecolor": "white",
            "ticks": ""
           },
           "bgcolor": "#E5ECF6",
           "caxis": {
            "gridcolor": "white",
            "linecolor": "white",
            "ticks": ""
           }
          },
          "title": {
           "x": 0.05
          },
          "xaxis": {
           "automargin": true,
           "gridcolor": "white",
           "linecolor": "white",
           "ticks": "",
           "title": {
            "standoff": 15
           },
           "zerolinecolor": "white",
           "zerolinewidth": 2
          },
          "yaxis": {
           "automargin": true,
           "gridcolor": "white",
           "linecolor": "white",
           "ticks": "",
           "title": {
            "standoff": 15
           },
           "zerolinecolor": "white",
           "zerolinewidth": 2
          }
         }
        },
        "title": {
         "font": {
          "family": "DejaVu Sans",
          "size": 16
         },
         "text": "Volume de précipitation par poste le 9 octobre 2024",
         "x": 0.5
        }
       }
      }
     },
     "metadata": {},
     "output_type": "display_data"
    }
   ],
   "source": [
    "import pandas as pd\n",
    "import duckdb as ddb\n",
    "import plotly.express as px\n",
    "import plotly.graph_objects as go\n",
    "import geopandas as gpd\n",
    "import pandas as pd\n",
    "\n",
    "df['LAT'] = df['LAT'].astype(float)\n",
    "df['LON'] = df['LON'].astype(float)\n",
    "\n",
    "url = 'https://france-geojson.gregoiredavid.fr/repo/departements.geojson'\n",
    "deps = gpd.read_file(url)\n",
    "deps = deps.to_crs(4326)\n",
    "dep95 = deps[deps['code'] == '95']\n",
    "\n",
    "fig = px.choropleth_mapbox(\n",
    "    dep95,\n",
    "    geojson=dep95.geometry,\n",
    "    locations=dep95.index,\n",
    "    color_discrete_sequence=['#f0f0f0'],\n",
    "    opacity=0.4,\n",
    "    center=dict(lat=49.0, lon=2.15),\n",
    "    zoom=9.2,\n",
    "    mapbox_style='carto-positron',\n",
    ")\n",
    "\n",
    "fig.add_trace(\n",
    "    go.Scattermapbox(\n",
    "        lat=df['LAT'],\n",
    "        lon=df['LON'],\n",
    "        mode='markers',\n",
    "        marker=dict(\n",
    "            size=df['precipitation_volume'] * 0.2,\n",
    "            color=df['precipitation_volume'],\n",
    "            colorscale='Blues',\n",
    "            showscale=True,\n",
    "            colorbar=dict(\n",
    "                title=\"Précip.<br>(mm)\",\n",
    "                thickness=15,\n",
    "                x=0.98,\n",
    "                y=0.5,\n",
    "                len=0.7\n",
    "            )\n",
    "        ),\n",
    "        text=[f\"Poste {n}<br>{v} mm\" for n, v in zip(df['NUM_POSTE'], df['precipitation_volume'])],\n",
    "        hovertemplate=\"%{text}<extra></extra>\",\n",
    "        showlegend=False,\n",
    "    )\n",
    ")\n",
    "\n",
    "fig.update_layout(\n",
    "    title=dict(\n",
    "        text=\"Volume de précipitation par poste le 9 octobre 2024\",\n",
    "        x=0.5,\n",
    "        font=dict(size=16, family='DejaVu Sans')\n",
    "    ),\n",
    "    annotations=[\n",
    "        dict(\n",
    "            text=\"Source : données station météo IDF le 9/10/24\",\n",
    "            x=1,\n",
    "            y=-0.02,\n",
    "            showarrow=False,\n",
    "            font=dict(size=11, color=\"gray\"),\n",
    "            xanchor='right'\n",
    "        )\n",
    "    ],\n",
    "    margin=dict(l=0, r=0, t=50, b=0),\n",
    "    height=700,\n",
    ")\n",
    "\n",
    "dataviz = fig\n",
    "dataviz"
   ]
  },
  {
   "cell_type": "markdown",
   "metadata": {},
   "source": [
    "---\n",
    "*Made with ❤️ and with [duckit.fr](https://duckit.fr) - [Ali Hmaou](https://www.linkedin.com/in/ali-hmaou-6b7b73146/)*"
   ]
  },
  {
   "cell_type": "code",
   "execution_count": 5,
   "metadata": {
    "execution": {
     "iopub.execute_input": "2025-08-21T09:54:47.249343Z",
     "iopub.status.busy": "2025-08-21T09:54:47.249343Z",
     "iopub.status.idle": "2025-08-21T09:54:55.791588Z",
     "shell.execute_reply": "2025-08-21T09:54:55.791588Z"
    }
   },
   "outputs": [
    {
     "name": "stdout",
     "output_type": "stream",
     "text": [
      "INFO: Variable 'dataviz' trouvée. Tentative d'exportation...\n",
      "--> Détecté : Plotly. Sauvegarde HTML et PNG.\n",
      "--> Sauvegarde HTML dans : published\\notebooks\\duckit_analysis_20250804_065809.html\n",
      "--> Tentative de sauvegarde PNG directe dans : published\\notebooks\\duckit_analysis_20250804_065809.png\n"
     ]
    },
    {
     "name": "stdout",
     "output_type": "stream",
     "text": [
      "--> Image Plotly sauvegardée avec succès.\n"
     ]
    }
   ],
   "source": [
    "\n",
    "# --- Variables injectées par le script ---\n",
    "FINAL_OBJECT_VARIABLE_NAME = 'dataviz'\n",
    "OUTPUT_IMAGE_NAME = 'published\\\\notebooks\\\\duckit_analysis_20250804_065809.png'\n",
    "OUTPUT_HTML_NAME = 'published\\\\notebooks\\\\duckit_analysis_20250804_065809.html'\n",
    "\n",
    "# ===================================================================\n",
    "# CELLULE INJECTÉE AUTOMATIQUEMENT (VERSION ROBUSTE)\n",
    "# ===================================================================\n",
    "import sys\n",
    "import os\n",
    "# On importe les modules nécessaires pour l'export au cas où\n",
    "try:\n",
    "    from bokeh.io import save as bokeh_save\n",
    "except ImportError:\n",
    "    bokeh_save = None\n",
    "\n",
    "try:\n",
    "    # On s'assure que le dossier de sortie existe\n",
    "    output_dir = os.path.dirname(OUTPUT_IMAGE_NAME)\n",
    "    if output_dir:\n",
    "        os.makedirs(output_dir, exist_ok=True)\n",
    "\n",
    "    # On utilise globals().get() pour une récupération plus sûre\n",
    "    final_object = globals().get(FINAL_OBJECT_VARIABLE_NAME)\n",
    "\n",
    "    if final_object is None:\n",
    "        # On lève une NameError pour être cohérent avec le code original\n",
    "        raise NameError(f\"name '{FINAL_OBJECT_VARIABLE_NAME}' is not defined\")\n",
    "\n",
    "    print(f\"INFO: Variable '{FINAL_OBJECT_VARIABLE_NAME}' trouvée. Tentative d'exportation...\")\n",
    "\n",
    "    object_type = str(type(final_object))\n",
    "\n",
    "    if 'plotly.graph_objs._figure.Figure' in object_type:\n",
    "        print(f\"--> Détecté : Plotly. Sauvegarde HTML et PNG.\")\n",
    "        # 1. Sauvegarde HTML pour l'interactivité\n",
    "        print(f\"--> Sauvegarde HTML dans : {OUTPUT_HTML_NAME}\")\n",
    "        final_object.write_html(OUTPUT_HTML_NAME, include_plotlyjs='cdn')\n",
    "        # 2. Sauvegarde PNG pour l'aperçu statique\n",
    "        try:\n",
    "            print(f\"--> Tentative de sauvegarde PNG directe dans : {OUTPUT_IMAGE_NAME}\")\n",
    "            final_object.write_image(OUTPUT_IMAGE_NAME, scale=3, width=1200, height=800)\n",
    "            print(f\"--> Image Plotly sauvegardée avec succès.\")\n",
    "        except Exception as e:\n",
    "            print(f\"AVERTISSEMENT: La sauvegarde directe en PNG a échoué (kaleido est-il installé?).\", file=sys.stderr)\n",
    "            print(f\"   Erreur: {e}\", file=sys.stderr)\n",
    "            print(f\"--> PLAN B: On va utiliser la capture d'écran du HTML à la place.\")\n",
    "            # On crée un fichier marqueur pour que le script de post-traitement prenne le relais\n",
    "            with open(f\"{OUTPUT_HTML_NAME}.needs_screenshot\", \"w\") as f:\n",
    "                f.write(\"plotly\")\n",
    "    elif 'folium.folium.Map' in object_type:\n",
    "        print(f\"--> Détecté : Folium. Sauvegarde HTML dans : {OUTPUT_HTML_NAME}\")\n",
    "        final_object.save(OUTPUT_HTML_NAME)\n",
    "        # On crée un fichier marqueur générique pour la capture d'écran\n",
    "        print(f\"--> Création du marqueur de capture d'écran.\")\n",
    "        with open(f\"{OUTPUT_HTML_NAME}.needs_screenshot\", \"w\") as f:\n",
    "            f.write(\"folium\")\n",
    "    elif 'altair.vegalite' in object_type and hasattr(final_object, 'save'):\n",
    "        print(f\"--> Détecté : Altair. Sauvegarde HTML dans : {OUTPUT_HTML_NAME}\")\n",
    "        final_object.save(OUTPUT_HTML_NAME)\n",
    "        # On crée un fichier marqueur générique pour la capture d'écran\n",
    "        print(f\"--> Création du marqueur de capture d'écran.\")\n",
    "        with open(f\"{OUTPUT_HTML_NAME}.needs_screenshot\", \"w\") as f:\n",
    "            f.write(\"altair\")\n",
    "    elif 'bokeh.plotting' in object_type and bokeh_save is not None:\n",
    "        print(f\"--> Détecté : Bokeh. Sauvegarde HTML dans : {OUTPUT_HTML_NAME}\")\n",
    "        bokeh_save(final_object, filename=OUTPUT_HTML_NAME, title=\"\")\n",
    "        # On crée un fichier marqueur générique pour la capture d'écran\n",
    "        print(f\"--> Création du marqueur de capture d'écran.\")\n",
    "        with open(f\"{OUTPUT_HTML_NAME}.needs_screenshot\", \"w\") as f:\n",
    "            f.write(\"bokeh\")\n",
    "    elif 'matplotlib.figure.Figure' in object_type:\n",
    "        print(f\"--> Détecté : Matplotlib. Sauvegarde dans : {OUTPUT_IMAGE_NAME}\")\n",
    "        final_object.savefig(OUTPUT_IMAGE_NAME, dpi=300, bbox_inches='tight')\n",
    "    else:\n",
    "        print(f\"AVERTISSEMENT: Type non supporté : {object_type}\", file=sys.stderr)\n",
    "except NameError:\n",
    "    print(f\"AVERTISSEMENT: Aucune variable '{FINAL_OBJECT_VARIABLE_NAME}' trouvée.\", file=sys.stderr)\n",
    "except Exception as e:\n",
    "    print(f\"ERREUR lors de l'exportation : {e}\", file=sys.stderr)\n"
   ]
  }
 ],
 "metadata": {
  "kernelspec": {
   "display_name": "Python 3",
   "language": "python",
   "name": "python3"
  },
  "language_info": {
   "codemirror_mode": {
    "name": "ipython",
    "version": 3
   },
   "file_extension": ".py",
   "mimetype": "text/x-python",
   "name": "python",
   "nbconvert_exporter": "python",
   "pygments_lexer": "ipython3",
   "version": "3.10.11"
  }
 },
 "nbformat": 4,
 "nbformat_minor": 4
}
