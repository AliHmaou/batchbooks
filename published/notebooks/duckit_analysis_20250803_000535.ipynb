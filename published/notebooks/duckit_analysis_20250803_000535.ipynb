{
  "cells": [
    {
      "cell_type": "markdown",
      "metadata": {},
      "source": [
        "# Analyse Multidimensionnelle des Chansons de Rap : Complexité, Politique et Vulgarité\n",
        "\n",
        "L'analyse présentée dans ce notebook se concentre sur les chansons de rap issues du top 50 français, en explorant leur complexité lexicale, leur message politique et leur niveau de vulgarité. Les données utilisées proviennent d'un fichier Parquet disponible sur Hugging Face, à l'adresse https://huggingface.co/spaces/alihmaou/parolesparolesparoles/resolve/main/genius_top_50_fr_rap_pop_rock_analyzed.parquet, qui contient des informations détaillées sur les chansons, notamment leur titre, artiste, année de sortie, complexité lexicale, thèmes principaux et tonalité émotionnelle.\n",
        "\n",
        "L'objectif de cette analyse est de créer un diagramme à trois axes pour visualiser les chansons de rap en fonction de l'artiste, de leur complexité lexicale, de leur message politique et de leur niveau de vulgarité. Pour cela, nous allons agréger les valeurs textuelles en valeurs numériques et calculer la moyenne par artiste, afin de comparer les différents artistes de rap sur ces critères.\n",
        "\n",
        "## Méthodologie\n",
        "\n",
        "La méthodologie utilisée dans cette analyse consiste en plusieurs étapes. Tout d'abord, nous avons sélectionné les données relatives aux chansons de rap et avons transformé les niveaux textuels de complexité lexicale et de message politique en valeurs numériques. Ensuite, nous avons calculé la moyenne de ces valeurs, ainsi que de la vulgarité, pour chaque artiste. Les données ont été regroupées par artiste et triées pour faciliter la visualisation. Nous avons utilisé la bibliothèque Plotly pour créer un diagramme à trois axes interactif, permettant de visualiser les relations entre la complexité lexicale, le message politique et la vulgarité pour les différents artistes de rap.\n",
        "\n",
        "Cette démarche permet d'obtenir une vue d'ensemble de la manière dont les artistes de rap abordent les thèmes complexes, les messages politiques et la vulgarité dans leurs chansons, et de comparer leurs approches respectives de manière visuelle et interactive."
      ]
    },
    {
      "cell_type": "markdown",
      "metadata": {},
      "source": [
        "## 🔧 Configuration"
      ]
    },
    {
      "cell_type": "code",
      "execution_count": 1,
      "metadata": {},
      "outputs": [],
      "source": [
        "# Installation et imports\n",
        "import duckdb as ddb\n",
        "import pandas as pd\n",
        "import plotly.express as px\n",
        "import plotly.graph_objects as go"
      ]
    },
    {
      "cell_type": "markdown",
      "metadata": {},
      "source": [
        "## 🦆 Chargement du dataset avec Duckdb"
      ]
    },
    {
      "cell_type": "code",
      "execution_count": 1,
      "metadata": {},
      "outputs": [],
      "source": [
        "# Fonction de chargement complète (basée sur load_file_from_url_lite)\n",
        "def load_file_from_url_lite(url_dataset=\"\", loader=\"read_csv_auto\", options=\"\", nom_table=\"loaded_dataset\", safe_mode=False):\n",
        "    ddb.execute(\"install spatial\")\n",
        "    ddb.execute(\"load spatial\")\n",
        "    ddb.execute(\"INSTALL h3 FROM community\")\n",
        "    ddb.execute(\"LOAD h3\")\n",
        "    ddb.execute(\"install webbed from community;\")\n",
        "    ddb.execute(\"load webbed\")\n",
        "    ddb.execute(\"set force_download=True\")\n",
        "    ddb.execute(f\"drop table if exists {nom_table}\")   \n",
        "    \n",
        "    # Détection automatique du type de fichier\n",
        "    if 'csv' in url_dataset: \n",
        "        loader = \"read_csv_auto\"\n",
        "    elif 'tsv' in url_dataset: \n",
        "        loader = \"read_csv_auto\"\n",
        "    elif 'txt' in url_dataset: \n",
        "        loader = \"read_csv_auto\"\n",
        "    elif 'parquet' in url_dataset: \n",
        "        loader = \"read_parquet\"\n",
        "    elif 'json' in url_dataset: \n",
        "        loader = \"read_json_auto\"\n",
        "    elif 'xls' in url_dataset or 'xlsx' in url_dataset: \n",
        "        loader = \"st_read\"\n",
        "    elif 'shp' in url_dataset: \n",
        "        loader = \"st_read\"\n",
        "    elif 'geojson' in url_dataset: \n",
        "        loader = \"st_read\"\n",
        "    elif 'xml' in url_dataset: \n",
        "        loader = \"read_xml\"\n",
        "    elif 'html' in url_dataset: \n",
        "        loader = \"read_html\"\n",
        "    else: \n",
        "        raise ValueError(f\"Type de fichier non supporté pour {url_dataset}\")\n",
        "    \n",
        "    if options==\"\": \n",
        "        options = \"\" \n",
        "    if 'csv' in url_dataset and safe_mode==True: \n",
        "        options = \", all_varchar=1\" \n",
        "    if nom_table==\"\": \n",
        "        nom_table = \"loaded_dataset\"\n",
        "    \n",
        "    try:\n",
        "        status = ddb.sql(f\"\"\"\n",
        "            create or replace table {nom_table} as select *\n",
        "            from\n",
        "            {loader}(\"{url_dataset}\" {options})\n",
        "        \"\"\")\n",
        "        return status\n",
        "    except Exception as e:\n",
        "        return f\"Erreur au chargement du fichier : {str(e)}\"\n",
        "\n",
        "def run_query(sql):\n",
        "    return ddb.sql(sql.replace(\"`\",\" \")).to_df()\n",
        "\n",
        "# Chargement des données\n",
        "load_file_from_url_lite(\"https://huggingface.co/spaces/alihmaou/parolesparolesparoles/resolve/main/genius_top_50_fr_rap_pop_rock_analyzed.parquet\", safe_mode=True)\n",
        "print(\"✅ Données chargées avec succès\")"
      ]
    },
    {
      "cell_type": "markdown",
      "metadata": {},
      "source": [
        "## 🔍 Analyse SQL\n",
        "\n",
        "Cette requête utilise des techniques SQL pour extraire et transformer les données de manière efficace."
      ]
    },
    {
      "cell_type": "code",
      "execution_count": 2,
      "metadata": {},
      "outputs": [],
      "source": [
        "# Exécution de la requête\n",
        "df = run_query(\"\"\" WITH \n",
        "  -- Transformation des niveaux textuels en valeurs numériques\n",
        "  artiste_complexite AS (\n",
        "    SELECT \n",
        "      \"artiste\",\n",
        "      CASE \"complexite_lexicale\"\n",
        "        WHEN 'faible' THEN 1\n",
        "        WHEN 'moyen' THEN 2\n",
        "        WHEN 'élevé' THEN 3\n",
        "        ELSE NULL\n",
        "      END AS complexite_lexicale_num,\n",
        "      CASE \"message_politique\"\n",
        "        WHEN 'faible' THEN 1\n",
        "        WHEN 'moyen' THEN 2\n",
        "        WHEN 'élevé' THEN 3\n",
        "        ELSE NULL\n",
        "      END AS message_politique_num,\n",
        "      \"vulgarite\"\n",
        "    FROM loaded_dataset\n",
        "    WHERE \"style_musique\" = 'rap'\n",
        "  )\n",
        "\n",
        "SELECT \n",
        "  \"artiste\",\n",
        "  AVG(\"complexite_lexicale_num\") AS complexite_moyenne,\n",
        "  AVG(\"message_politique_num\") AS message_politique_moyen,\n",
        "  AVG(\"vulgarite\") AS vulgarite_moyenne\n",
        "FROM artiste_complexite\n",
        "GROUP BY \"artiste\"\n",
        "ORDER BY \"artiste\" \"\"\")\n",
        "print(f\"Résultats : {len(df)} lignes\")\n",
        "df.head()"
      ]
    },
    {
      "cell_type": "markdown",
      "metadata": {},
      "source": [
        "## 📈 Visualisation\n",
        "\n",
        "La bibliothèque principale utilisée pour cette visualisation de données est Plotly Express, qui permet de créer des graphiques interactifs en 3D. Cette technologie est adaptée pour représenter des données multidimensionnelles complexes de manière claire et engageante. Elle offre une grande flexibilité pour personnaliser l'apparence et le comportement de la visualisation."
      ]
    },
    {
      "cell_type": "code",
      "execution_count": 3,
      "metadata": {},
      "outputs": [],
      "source": [
        "import pandas as pd\n",
        "import duckdb as ddb\n",
        "import plotly.express as px\n",
        "\n",
        "dataviz = px.scatter_3d(\n",
        "    df.sort_values('vulgarite_moyenne', ascending=False),\n",
        "    x='complexite_moyenne',\n",
        "    y='message_politique_moyen',\n",
        "    z='vulgarite_moyenne',\n",
        "    color='vulgarite_moyenne',\n",
        "    color_continuous_scale='Reds',\n",
        "    hover_name='artiste',\n",
        "    size_max=30,\n",
        "    opacity=0.8,\n",
        "    labels={\n",
        "        'complexite_moyenne': 'Complexité lexicale',\n",
        "        'message_politique_moyen': 'Message politique',\n",
        "        'vulgarite_moyenne': 'Vulgarité'\n",
        "    }\n",
        ")\n",
        "\n",
        "dataviz.update_layout(\n",
        "    title='Analyse comparative des artistes de rap',\n",
        "    scene=dict(\n",
        "        xaxis=dict(title='Complexité lexicale', dtick=0.5),\n",
        "        yaxis=dict(title='Message politique', dtick=0.5),\n",
        "        zaxis=dict(title='Vulgarité', dtick=1)\n",
        "    ),\n",
        "    margin=dict(l=20, r=20, t=40, b=20),\n",
        "    font=dict(family=\"Arial\", size=12),\n",
        "    coloraxis_colorbar_title_text='Vulgarité'\n",
        ")\n",
        "dataviz"
      ]
    },
    {
      "cell_type": "markdown",
      "metadata": {},
      "source": [
        "---\n",
        "*Made with ❤️ and with [duckit.fr](https://duckit.fr) - [Ali Hmaou](https://www.linkedin.com/in/ali-hmaou-6b7b73146/)*"
      ]
    }
  ],
  "metadata": {
    "kernelspec": {
      "display_name": "Python 3",
      "language": "python",
      "name": "python3"
    },
    "language_info": {
      "codemirror_mode": {
        "name": "ipython",
        "version": 3
      },
      "file_extension": ".py",
      "mimetype": "text/x-python",
      "name": "python",
      "nbconvert_exporter": "python",
      "pygments_lexer": "ipython3",
      "version": "3.8.0"
    }
  },
  "nbformat": 4,
  "nbformat_minor": 4
}