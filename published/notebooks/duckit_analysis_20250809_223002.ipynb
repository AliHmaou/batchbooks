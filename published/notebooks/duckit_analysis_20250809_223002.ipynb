{
 "cells": [
  {
   "cell_type": "markdown",
   "metadata": {},
   "source": [
    "# Analyse de la Pyramide des Âges des Élus Conseillers Municipaux\n",
    "\n",
    "La présente analyse se concentre sur l'exploration du Répertoire National des Élus, en particulier sur les données relatives aux conseillers municipaux en France. Les données utilisées proviennent du fichier `elus-conseillers-municipaux-cm.csv` disponible sur [data.gouv.fr](https://static.data.gouv.fr/resources/repertoire-national-des-elus-1/20250613-142603/elus-conseillers-municipaux-cm.csv). Ce répertoire contient des informations détaillées sur les élus municipaux, notamment leur identité, fonction, date de naissance, catégorie socio-professionnelle, etc.\n",
    "\n",
    "L'objectif de cette analyse est de générer une pyramide des âges par tranche de 5 ans pour les hommes et les femmes, en excluant les personnes de plus de 100 ans et en fournissant un libellé de tranche explicite. Cette visualisation permettra d'appréhender la structure démographique des élus municipaux et d'identifier les tendances en termes de répartition par âge et par sexe.\n",
    "\n",
    "\n",
    "## Méthodologie\n",
    "\n",
    "La méthodologie employée pour cette analyse repose sur l'utilisation de requêtes SQL via DuckDB pour traiter les données et préparer le dataset nécessaire à la visualisation. Les principales étapes consistent à calculer l'âge des élus à partir de leur date de naissance, à répartir ces âges en tranches de 5 ans, puis à compter les effectifs d'hommes et de femmes dans chaque tranche d'âge. Les données sont ensuite traitées avec Pandas pour restructurer le dataset et préparer la visualisation. Enfin, la bibliothèque Altair est utilisée pour créer la pyramide des âges sous forme de graphique à barres."
   ]
  },
  {
   "cell_type": "markdown",
   "metadata": {},
   "source": [
    "## 🔧 Configuration"
   ]
  },
  {
   "cell_type": "code",
   "execution_count": 1,
   "metadata": {
    "execution": {
     "iopub.execute_input": "2025-08-10T06:50:00.075078Z",
     "iopub.status.busy": "2025-08-10T06:50:00.074776Z",
     "iopub.status.idle": "2025-08-10T06:50:00.276411Z",
     "shell.execute_reply": "2025-08-10T06:50:00.276167Z"
    }
   },
   "outputs": [],
   "source": [
    "# Installation et imports\n",
    "import duckdb as ddb\n",
    "import pandas as pd\n",
    "import plotly.express as px\n",
    "import plotly.graph_objects as go"
   ]
  },
  {
   "cell_type": "markdown",
   "metadata": {},
   "source": [
    "## 🦆 Chargement du dataset avec Duckdb"
   ]
  },
  {
   "cell_type": "code",
   "execution_count": 2,
   "metadata": {
    "execution": {
     "iopub.execute_input": "2025-08-10T06:50:00.277648Z",
     "iopub.status.busy": "2025-08-10T06:50:00.277572Z",
     "iopub.status.idle": "2025-08-10T06:50:02.438960Z",
     "shell.execute_reply": "2025-08-10T06:50:02.438707Z"
    }
   },
   "outputs": [
    {
     "name": "stdout",
     "output_type": "stream",
     "text": [
      "✅ Données chargées avec succès\n"
     ]
    }
   ],
   "source": [
    "# Fonction de chargement complète (basée sur load_file_from_url_lite)\n",
    "def load_file_from_url_lite(url_dataset=\"\", loader=\"read_csv_auto\", options=\"\", nom_table=\"loaded_dataset\", safe_mode=False):\n",
    "    ddb.execute(\"install spatial\")\n",
    "    ddb.execute(\"load spatial\")\n",
    "    ddb.execute(\"INSTALL h3 FROM community\")\n",
    "    ddb.execute(\"LOAD h3\")\n",
    "    ddb.execute(\"install webbed from community;\")\n",
    "    ddb.execute(\"load webbed\")\n",
    "    ddb.execute(\"set force_download=True\")\n",
    "    ddb.execute(f\"drop table if exists {nom_table}\")   \n",
    "    \n",
    "    # Détection automatique du type de fichier\n",
    "    if 'csv' in url_dataset: \n",
    "        loader = \"read_csv_auto\"\n",
    "    elif 'tsv' in url_dataset: \n",
    "        loader = \"read_csv_auto\"\n",
    "    elif 'txt' in url_dataset: \n",
    "        loader = \"read_csv_auto\"\n",
    "    elif 'parquet' in url_dataset: \n",
    "        loader = \"read_parquet\"\n",
    "    elif 'json' in url_dataset: \n",
    "        loader = \"read_json_auto\"\n",
    "    elif 'xls' in url_dataset or 'xlsx' in url_dataset: \n",
    "        loader = \"st_read\"\n",
    "    elif 'shp' in url_dataset: \n",
    "        loader = \"st_read\"\n",
    "    elif 'geojson' in url_dataset: \n",
    "        loader = \"st_read\"\n",
    "    elif 'xml' in url_dataset: \n",
    "        loader = \"read_xml\"\n",
    "    elif 'html' in url_dataset: \n",
    "        loader = \"read_html\"\n",
    "    else: \n",
    "        raise ValueError(f\"Type de fichier non supporté pour {url_dataset}\")\n",
    "    \n",
    "    if options==\"\": \n",
    "        options = \"\" \n",
    "    if 'csv' in url_dataset and safe_mode==True: \n",
    "        options = \", all_varchar=1\" \n",
    "    if nom_table==\"\": \n",
    "        nom_table = \"loaded_dataset\"\n",
    "    \n",
    "    try:\n",
    "        status = ddb.sql(f\"\"\"\n",
    "            create or replace table {nom_table} as select *\n",
    "            from\n",
    "            {loader}(\"{url_dataset}\" {options})\n",
    "        \"\"\")\n",
    "        return status\n",
    "    except Exception as e:\n",
    "        return f\"Erreur au chargement du fichier : {str(e)}\"\n",
    "\n",
    "def run_query(sql):\n",
    "    return ddb.sql(sql.replace(\"`\",\" \")).to_df()\n",
    "\n",
    "# Chargement des données\n",
    "load_file_from_url_lite(\"https://static.data.gouv.fr/resources/repertoire-national-des-elus-1/20250613-142603/elus-conseillers-municipaux-cm.csv\", safe_mode=True)\n",
    "print(\"✅ Données chargées avec succès\")"
   ]
  },
  {
   "cell_type": "markdown",
   "metadata": {},
   "source": [
    "## 🔍 Analyse SQL\n",
    "\n",
    "Cette requête utilise des techniques SQL pour extraire et transformer les données de manière efficace."
   ]
  },
  {
   "cell_type": "code",
   "execution_count": 3,
   "metadata": {
    "execution": {
     "iopub.execute_input": "2025-08-10T06:50:02.451307Z",
     "iopub.status.busy": "2025-08-10T06:50:02.451216Z",
     "iopub.status.idle": "2025-08-10T06:50:02.474078Z",
     "shell.execute_reply": "2025-08-10T06:50:02.473860Z"
    }
   },
   "outputs": [
    {
     "name": "stdout",
     "output_type": "stream",
     "text": [
      "Résultats : 17 lignes\n"
     ]
    },
    {
     "data": {
      "text/html": [
       "<div>\n",
       "<style scoped>\n",
       "    .dataframe tbody tr th:only-of-type {\n",
       "        vertical-align: middle;\n",
       "    }\n",
       "\n",
       "    .dataframe tbody tr th {\n",
       "        vertical-align: top;\n",
       "    }\n",
       "\n",
       "    .dataframe thead th {\n",
       "        text-align: right;\n",
       "    }\n",
       "</style>\n",
       "<table border=\"1\" class=\"dataframe\">\n",
       "  <thead>\n",
       "    <tr style=\"text-align: right;\">\n",
       "      <th></th>\n",
       "      <th>tranche_age</th>\n",
       "      <th>hommes</th>\n",
       "      <th>femmes</th>\n",
       "    </tr>\n",
       "  </thead>\n",
       "  <tbody>\n",
       "    <tr>\n",
       "      <th>0</th>\n",
       "      <td>15.0-19.0</td>\n",
       "      <td>14.0</td>\n",
       "      <td>6.0</td>\n",
       "    </tr>\n",
       "    <tr>\n",
       "      <th>1</th>\n",
       "      <td>20.0-24.0</td>\n",
       "      <td>947.0</td>\n",
       "      <td>608.0</td>\n",
       "    </tr>\n",
       "    <tr>\n",
       "      <th>2</th>\n",
       "      <td>25.0-29.0</td>\n",
       "      <td>3958.0</td>\n",
       "      <td>2313.0</td>\n",
       "    </tr>\n",
       "    <tr>\n",
       "      <th>3</th>\n",
       "      <td>30.0-34.0</td>\n",
       "      <td>8478.0</td>\n",
       "      <td>6017.0</td>\n",
       "    </tr>\n",
       "    <tr>\n",
       "      <th>4</th>\n",
       "      <td>35.0-39.0</td>\n",
       "      <td>16546.0</td>\n",
       "      <td>13735.0</td>\n",
       "    </tr>\n",
       "  </tbody>\n",
       "</table>\n",
       "</div>"
      ],
      "text/plain": [
       "  tranche_age   hommes   femmes\n",
       "0   15.0-19.0     14.0      6.0\n",
       "1   20.0-24.0    947.0    608.0\n",
       "2   25.0-29.0   3958.0   2313.0\n",
       "3   30.0-34.0   8478.0   6017.0\n",
       "4   35.0-39.0  16546.0  13735.0"
      ]
     },
     "execution_count": 3,
     "metadata": {},
     "output_type": "execute_result"
    }
   ],
   "source": [
    "# Exécution de la requête\n",
    "df = run_query(\"\"\" WITH age_calc AS (\n",
    "  SELECT \n",
    "    \"Code sexe\" AS sexe,\n",
    "    CAST(SUBSTRING(\"Date de naissance\", 7, 4) AS INTEGER) AS year_birth\n",
    "  FROM loaded_dataset\n",
    "),\n",
    "age_tranche AS (\n",
    "  SELECT \n",
    "    sexe,\n",
    "    FLOOR((2024 - year_birth) / 5) * 5 AS age_tranche\n",
    "  FROM age_calc\n",
    "  WHERE 2024 - year_birth BETWEEN 0 AND 100\n",
    "),\n",
    "tranche_label AS (\n",
    "  SELECT \n",
    "    sexe,\n",
    "    age_tranche,\n",
    "    CONCAT(CAST(age_tranche AS VARCHAR), '-', CAST(age_tranche + 4 AS VARCHAR)) AS label_tranche\n",
    "  FROM age_tranche\n",
    ")\n",
    "SELECT \n",
    "  label_tranche AS tranche_age,\n",
    "  SUM(CASE WHEN sexe = 'M' THEN 1 ELSE 0 END) AS hommes,\n",
    "  SUM(CASE WHEN sexe = 'F' THEN 1 ELSE 0 END) AS femmes\n",
    "FROM tranche_label\n",
    "GROUP BY label_tranche\n",
    "ORDER BY MIN(age_tranche) \"\"\")\n",
    "print(f\"Résultats : {len(df)} lignes\")\n",
    "df.head()"
   ]
  },
  {
   "cell_type": "markdown",
   "metadata": {},
   "source": [
    "## 📈 Visualisation\n",
    "\n",
    "La bibliothèque principale utilisée est Altair, qui est une bibliothèque de visualisation de données Python très performante. Altair est adaptée pour créer des visualisations interactives et personnalisables, comme cette pyramide des âges, qui nécessite une représentation graphique claire et lisible. Altair permet de créer des graphiques complexes de manière simple et intuitive."
   ]
  },
  {
   "cell_type": "code",
   "execution_count": 4,
   "metadata": {
    "execution": {
     "iopub.execute_input": "2025-08-10T06:50:02.475097Z",
     "iopub.status.busy": "2025-08-10T06:50:02.475039Z",
     "iopub.status.idle": "2025-08-10T06:50:02.911778Z",
     "shell.execute_reply": "2025-08-10T06:50:02.911588Z"
    }
   },
   "outputs": [
    {
     "data": {
      "text/html": [
       "\n",
       "<style>\n",
       "  #altair-viz-6568008d3c70454da81bcc228c26ae0e.vega-embed {\n",
       "    width: 100%;\n",
       "    display: flex;\n",
       "  }\n",
       "\n",
       "  #altair-viz-6568008d3c70454da81bcc228c26ae0e.vega-embed details,\n",
       "  #altair-viz-6568008d3c70454da81bcc228c26ae0e.vega-embed details summary {\n",
       "    position: relative;\n",
       "  }\n",
       "</style>\n",
       "<div id=\"altair-viz-6568008d3c70454da81bcc228c26ae0e\"></div>\n",
       "<script type=\"text/javascript\">\n",
       "  var VEGA_DEBUG = (typeof VEGA_DEBUG == \"undefined\") ? {} : VEGA_DEBUG;\n",
       "  (function(spec, embedOpt){\n",
       "    let outputDiv = document.currentScript.previousElementSibling;\n",
       "    if (outputDiv.id !== \"altair-viz-6568008d3c70454da81bcc228c26ae0e\") {\n",
       "      outputDiv = document.getElementById(\"altair-viz-6568008d3c70454da81bcc228c26ae0e\");\n",
       "    }\n",
       "\n",
       "    const paths = {\n",
       "      \"vega\": \"https://cdn.jsdelivr.net/npm/vega@5?noext\",\n",
       "      \"vega-lib\": \"https://cdn.jsdelivr.net/npm/vega-lib?noext\",\n",
       "      \"vega-lite\": \"https://cdn.jsdelivr.net/npm/vega-lite@5.20.1?noext\",\n",
       "      \"vega-embed\": \"https://cdn.jsdelivr.net/npm/vega-embed@6?noext\",\n",
       "    };\n",
       "\n",
       "    function maybeLoadScript(lib, version) {\n",
       "      var key = `${lib.replace(\"-\", \"\")}_version`;\n",
       "      return (VEGA_DEBUG[key] == version) ?\n",
       "        Promise.resolve(paths[lib]) :\n",
       "        new Promise(function(resolve, reject) {\n",
       "          var s = document.createElement('script');\n",
       "          document.getElementsByTagName(\"head\")[0].appendChild(s);\n",
       "          s.async = true;\n",
       "          s.onload = () => {\n",
       "            VEGA_DEBUG[key] = version;\n",
       "            return resolve(paths[lib]);\n",
       "          };\n",
       "          s.onerror = () => reject(`Error loading script: ${paths[lib]}`);\n",
       "          s.src = paths[lib];\n",
       "        });\n",
       "    }\n",
       "\n",
       "    function showError(err) {\n",
       "      outputDiv.innerHTML = `<div class=\"error\" style=\"color:red;\">${err}</div>`;\n",
       "      throw err;\n",
       "    }\n",
       "\n",
       "    function displayChart(vegaEmbed) {\n",
       "      vegaEmbed(outputDiv, spec, embedOpt)\n",
       "        .catch(err => showError(`Javascript Error: ${err.message}<br>This usually means there's a typo in your chart specification. See the javascript console for the full traceback.`));\n",
       "    }\n",
       "\n",
       "    if(typeof define === \"function\" && define.amd) {\n",
       "      requirejs.config({paths});\n",
       "      let deps = [\"vega-embed\"];\n",
       "      require(deps, displayChart, err => showError(`Error loading script: ${err.message}`));\n",
       "    } else {\n",
       "      maybeLoadScript(\"vega\", \"5\")\n",
       "        .then(() => maybeLoadScript(\"vega-lite\", \"5.20.1\"))\n",
       "        .then(() => maybeLoadScript(\"vega-embed\", \"6\"))\n",
       "        .catch(showError)\n",
       "        .then(() => displayChart(vegaEmbed));\n",
       "    }\n",
       "  })({\"config\": {\"view\": {\"continuousWidth\": 300, \"continuousHeight\": 300, \"stroke\": null}, \"axis\": {\"grid\": false, \"tickSize\": 0}, \"title\": {\"anchor\": \"start\", \"color\": \"#333\", \"fontSize\": 16}}, \"data\": {\"name\": \"data-fdccbf77cf743d5d0e72b05a65f50a25\"}, \"mark\": {\"type\": \"bar\", \"cornerRadiusEnd\": 2, \"stroke\": \"#f0f0f0\", \"strokeWidth\": 1}, \"encoding\": {\"color\": {\"field\": \"genre\", \"legend\": {\"title\": \"Genre\"}, \"scale\": {\"domain\": [\"hommes\", \"femmes\"], \"range\": [\"#1f77b4\", \"#d62728\"]}, \"type\": \"nominal\"}, \"tooltip\": [{\"field\": \"genre\", \"title\": \"Genre\", \"type\": \"nominal\"}, {\"field\": \"tranche_age\", \"title\": \"Tranche d'\\u00e2ge\", \"type\": \"nominal\"}, {\"field\": \"nombre\", \"format\": \",\", \"title\": \"Effectif\", \"type\": \"quantitative\"}], \"x\": {\"axis\": {\"format\": \"s\"}, \"field\": \"nombre_signe\", \"title\": \"Population\", \"type\": \"quantitative\"}, \"y\": {\"axis\": {\"labelFontSize\": 12}, \"field\": \"tranche_age\", \"sort\": {\"field\": \"order\", \"order\": \"descending\"}, \"title\": null, \"type\": \"nominal\"}}, \"height\": 350, \"title\": \"Pyramide des \\u00e2ges des \\u00e9lus conseillers municipaux\", \"width\": 500, \"$schema\": \"https://vega.github.io/schema/vega-lite/v5.20.1.json\", \"datasets\": {\"data-fdccbf77cf743d5d0e72b05a65f50a25\": [{\"tranche_age\": \"15.0-19.0\", \"order\": 15.0, \"genre\": \"hommes\", \"nombre\": 14.0, \"signe\": -1, \"nombre_signe\": -14.0}, {\"tranche_age\": \"20.0-24.0\", \"order\": 20.0, \"genre\": \"hommes\", \"nombre\": 947.0, \"signe\": -1, \"nombre_signe\": -947.0}, {\"tranche_age\": \"25.0-29.0\", \"order\": 25.0, \"genre\": \"hommes\", \"nombre\": 3958.0, \"signe\": -1, \"nombre_signe\": -3958.0}, {\"tranche_age\": \"30.0-34.0\", \"order\": 30.0, \"genre\": \"hommes\", \"nombre\": 8478.0, \"signe\": -1, \"nombre_signe\": -8478.0}, {\"tranche_age\": \"35.0-39.0\", \"order\": 35.0, \"genre\": \"hommes\", \"nombre\": 16546.0, \"signe\": -1, \"nombre_signe\": -16546.0}, {\"tranche_age\": \"40.0-44.0\", \"order\": 40.0, \"genre\": \"hommes\", \"nombre\": 24758.0, \"signe\": -1, \"nombre_signe\": -24758.0}, {\"tranche_age\": \"45.0-49.0\", \"order\": 45.0, \"genre\": \"hommes\", \"nombre\": 29262.0, \"signe\": -1, \"nombre_signe\": -29262.0}, {\"tranche_age\": \"50.0-54.0\", \"order\": 50.0, \"genre\": \"hommes\", \"nombre\": 35820.0, \"signe\": -1, \"nombre_signe\": -35820.0}, {\"tranche_age\": \"55.0-59.0\", \"order\": 55.0, \"genre\": \"hommes\", \"nombre\": 33873.0, \"signe\": -1, \"nombre_signe\": -33873.0}, {\"tranche_age\": \"60.0-64.0\", \"order\": 60.0, \"genre\": \"hommes\", \"nombre\": 36590.0, \"signe\": -1, \"nombre_signe\": -36590.0}, {\"tranche_age\": \"65.0-69.0\", \"order\": 65.0, \"genre\": \"hommes\", \"nombre\": 39433.0, \"signe\": -1, \"nombre_signe\": -39433.0}, {\"tranche_age\": \"70.0-74.0\", \"order\": 70.0, \"genre\": \"hommes\", \"nombre\": 31161.0, \"signe\": -1, \"nombre_signe\": -31161.0}, {\"tranche_age\": \"75.0-79.0\", \"order\": 75.0, \"genre\": \"hommes\", \"nombre\": 17418.0, \"signe\": -1, \"nombre_signe\": -17418.0}, {\"tranche_age\": \"80.0-84.0\", \"order\": 80.0, \"genre\": \"hommes\", \"nombre\": 3809.0, \"signe\": -1, \"nombre_signe\": -3809.0}, {\"tranche_age\": \"85.0-89.0\", \"order\": 85.0, \"genre\": \"hommes\", \"nombre\": 713.0, \"signe\": -1, \"nombre_signe\": -713.0}, {\"tranche_age\": \"90.0-94.0\", \"order\": 90.0, \"genre\": \"hommes\", \"nombre\": 83.0, \"signe\": -1, \"nombre_signe\": -83.0}, {\"tranche_age\": \"15.0-19.0\", \"order\": 15.0, \"genre\": \"femmes\", \"nombre\": 6.0, \"signe\": 1, \"nombre_signe\": 6.0}, {\"tranche_age\": \"20.0-24.0\", \"order\": 20.0, \"genre\": \"femmes\", \"nombre\": 608.0, \"signe\": 1, \"nombre_signe\": 608.0}, {\"tranche_age\": \"25.0-29.0\", \"order\": 25.0, \"genre\": \"femmes\", \"nombre\": 2313.0, \"signe\": 1, \"nombre_signe\": 2313.0}, {\"tranche_age\": \"30.0-34.0\", \"order\": 30.0, \"genre\": \"femmes\", \"nombre\": 6017.0, \"signe\": 1, \"nombre_signe\": 6017.0}, {\"tranche_age\": \"35.0-39.0\", \"order\": 35.0, \"genre\": \"femmes\", \"nombre\": 13735.0, \"signe\": 1, \"nombre_signe\": 13735.0}, {\"tranche_age\": \"40.0-44.0\", \"order\": 40.0, \"genre\": \"femmes\", \"nombre\": 22686.0, \"signe\": 1, \"nombre_signe\": 22686.0}, {\"tranche_age\": \"45.0-49.0\", \"order\": 45.0, \"genre\": \"femmes\", \"nombre\": 26538.0, \"signe\": 1, \"nombre_signe\": 26538.0}, {\"tranche_age\": \"50.0-54.0\", \"order\": 50.0, \"genre\": \"femmes\", \"nombre\": 29887.0, \"signe\": 1, \"nombre_signe\": 29887.0}, {\"tranche_age\": \"55.0-59.0\", \"order\": 55.0, \"genre\": \"femmes\", \"nombre\": 26428.0, \"signe\": 1, \"nombre_signe\": 26428.0}, {\"tranche_age\": \"60.0-64.0\", \"order\": 60.0, \"genre\": \"femmes\", \"nombre\": 24474.0, \"signe\": 1, \"nombre_signe\": 24474.0}, {\"tranche_age\": \"65.0-69.0\", \"order\": 65.0, \"genre\": \"femmes\", \"nombre\": 23911.0, \"signe\": 1, \"nombre_signe\": 23911.0}, {\"tranche_age\": \"70.0-74.0\", \"order\": 70.0, \"genre\": \"femmes\", \"nombre\": 17211.0, \"signe\": 1, \"nombre_signe\": 17211.0}, {\"tranche_age\": \"75.0-79.0\", \"order\": 75.0, \"genre\": \"femmes\", \"nombre\": 8898.0, \"signe\": 1, \"nombre_signe\": 8898.0}, {\"tranche_age\": \"80.0-84.0\", \"order\": 80.0, \"genre\": \"femmes\", \"nombre\": 1880.0, \"signe\": 1, \"nombre_signe\": 1880.0}, {\"tranche_age\": \"85.0-89.0\", \"order\": 85.0, \"genre\": \"femmes\", \"nombre\": 326.0, \"signe\": 1, \"nombre_signe\": 326.0}, {\"tranche_age\": \"90.0-94.0\", \"order\": 90.0, \"genre\": \"femmes\", \"nombre\": 35.0, \"signe\": 1, \"nombre_signe\": 35.0}]}}, {\"mode\": \"vega-lite\"});\n",
       "</script>"
      ],
      "text/plain": [
       "alt.Chart(...)"
      ]
     },
     "execution_count": 4,
     "metadata": {},
     "output_type": "execute_result"
    }
   ],
   "source": [
    "import pandas as pd\n",
    "import duckdb as ddb\n",
    "import altair as alt\n",
    "import pandas as pd\n",
    "\n",
    "df['tranche_age'] = df['tranche_age'].astype(str)\n",
    "df['order'] = df['tranche_age'].str.split('-').str[0].str.replace('.0', '').astype(float)\n",
    "\n",
    "df_filtered = df[df['tranche_age'] != '95.0-99.0'].copy()\n",
    "\n",
    "df_long = pd.melt(\n",
    "    df_filtered,\n",
    "    id_vars=['tranche_age', 'order'],\n",
    "    value_vars=['hommes', 'femmes'],\n",
    "    var_name='genre',\n",
    "    value_name='nombre'\n",
    ")\n",
    "\n",
    "df_long['signe'] = df_long['genre'].map({'hommes': -1, 'femmes': 1})\n",
    "df_long['nombre_signe'] = df_long['signe'] * df_long['nombre']\n",
    "\n",
    "dataviz = alt.Chart(df_long).mark_bar(\n",
    "    cornerRadiusEnd=2,\n",
    "    stroke='#f0f0f0',\n",
    "    strokeWidth=1\n",
    ").encode(\n",
    "    x=alt.X(\n",
    "        'nombre_signe:Q',\n",
    "        title='Population',\n",
    "        axis=alt.Axis(format='s')\n",
    "    ),\n",
    "    y=alt.Y(\n",
    "        'tranche_age:N',\n",
    "        sort=alt.EncodingSortField('order', order='descending'),\n",
    "        title=None,\n",
    "        axis=alt.Axis(labelFontSize=12)\n",
    "    ),\n",
    "    color=alt.Color(\n",
    "        'genre:N',\n",
    "        scale=alt.Scale(\n",
    "            domain=['hommes', 'femmes'],\n",
    "            range=['#1f77b4', '#d62728']\n",
    "        ),\n",
    "        legend=alt.Legend(title='Genre')\n",
    "    ),\n",
    "    tooltip=[\n",
    "        alt.Tooltip('genre:N', title='Genre'),\n",
    "        alt.Tooltip('tranche_age:N', title='Tranche d\\'âge'),\n",
    "        alt.Tooltip('nombre:Q', format=',', title='Effectif')\n",
    "    ]\n",
    ").properties(\n",
    "    title='Pyramide des âges des élus conseillers municipaux',\n",
    "    width=500,\n",
    "    height=350\n",
    ").configure_axis(\n",
    "    grid=False,\n",
    "    tickSize=0\n",
    ").configure_view(\n",
    "    stroke=None\n",
    ").configure_title(\n",
    "    fontSize=16,\n",
    "    anchor='start',\n",
    "    color='#333'\n",
    ")\n",
    "dataviz"
   ]
  },
  {
   "cell_type": "markdown",
   "metadata": {},
   "source": [
    "---\n",
    "*Made with ❤️ and with [duckit.fr](https://duckit.fr) - [Ali Hmaou](https://www.linkedin.com/in/ali-hmaou-6b7b73146/)*"
   ]
  },
  {
   "cell_type": "code",
   "execution_count": 5,
   "metadata": {
    "execution": {
     "iopub.execute_input": "2025-08-10T06:50:02.912832Z",
     "iopub.status.busy": "2025-08-10T06:50:02.912769Z",
     "iopub.status.idle": "2025-08-10T06:50:03.046168Z",
     "shell.execute_reply": "2025-08-10T06:50:03.045977Z"
    }
   },
   "outputs": [
    {
     "name": "stdout",
     "output_type": "stream",
     "text": [
      "INFO: Variable 'dataviz' trouvée. Tentative d'exportation...\n",
      "--> Détecté : Altair. Sauvegarde HTML dans : published/notebooks/duckit_analysis_20250809_223002.html\n"
     ]
    }
   ],
   "source": [
    "\n",
    "# --- Variables injectées par le script ---\n",
    "FINAL_OBJECT_VARIABLE_NAME = 'dataviz'\n",
    "OUTPUT_IMAGE_NAME = 'published/notebooks/duckit_analysis_20250809_223002.png'\n",
    "OUTPUT_HTML_NAME = 'published/notebooks/duckit_analysis_20250809_223002.html'\n",
    "\n",
    "# ===================================================================\n",
    "# CELLULE INJECTÉE AUTOMATIQUEMENT (VERSION ROBUSTE)\n",
    "# ===================================================================\n",
    "import sys\n",
    "import os\n",
    "# On importe les modules nécessaires pour l'export au cas où\n",
    "try:\n",
    "    from bokeh.io import save as bokeh_save\n",
    "except ImportError:\n",
    "    bokeh_save = None\n",
    "\n",
    "try:\n",
    "    # On s'assure que le dossier de sortie existe\n",
    "    output_dir = os.path.dirname(OUTPUT_IMAGE_NAME)\n",
    "    if output_dir:\n",
    "        os.makedirs(output_dir, exist_ok=True)\n",
    "\n",
    "    # On utilise globals().get() pour une récupération plus sûre\n",
    "    final_object = globals().get(FINAL_OBJECT_VARIABLE_NAME)\n",
    "\n",
    "    if final_object is None:\n",
    "        # On lève une NameError pour être cohérent avec le code original\n",
    "        raise NameError(f\"name '{FINAL_OBJECT_VARIABLE_NAME}' is not defined\")\n",
    "\n",
    "    print(f\"INFO: Variable '{FINAL_OBJECT_VARIABLE_NAME}' trouvée. Tentative d'exportation...\")\n",
    "\n",
    "    object_type = str(type(final_object))\n",
    "\n",
    "    if 'plotly.graph_objs._figure.Figure' in object_type:\n",
    "        print(f\"--> Détecté : Plotly. Sauvegarde HTML et PNG.\")\n",
    "        # 1. Sauvegarde HTML pour l'interactivité\n",
    "        print(f\"--> Sauvegarde HTML dans : {OUTPUT_HTML_NAME}\")\n",
    "        final_object.write_html(OUTPUT_HTML_NAME, include_plotlyjs='cdn')\n",
    "        # 2. Sauvegarde PNG pour l'aperçu statique\n",
    "        try:\n",
    "            print(f\"--> Tentative de sauvegarde PNG directe dans : {OUTPUT_IMAGE_NAME}\")\n",
    "            final_object.write_image(OUTPUT_IMAGE_NAME, scale=3, width=1200, height=800)\n",
    "            print(f\"--> Image Plotly sauvegardée avec succès.\")\n",
    "        except Exception as e:\n",
    "            print(f\"AVERTISSESEMENT: La sauvegarde directe en PNG a échoué (kaleido est-il installé?). L'image statique ne sera pas générée.\", file=sys.stderr)\n",
    "            print(f\"   Erreur: {e}\", file=sys.stderr)\n",
    "    elif 'folium.folium.Map' in object_type:\n",
    "        print(f\"--> Détecté : Folium. Sauvegarde HTML dans : {OUTPUT_HTML_NAME}\")\n",
    "        final_object.save(OUTPUT_HTML_NAME)\n",
    "        # On crée un fichier marqueur pour que le script de post-traitement sache qu'il s'agit de Folium\n",
    "        with open(f\"{OUTPUT_HTML_NAME}.is_folium\", \"w\") as f:\n",
    "            f.write(\"true\")\n",
    "    elif 'altair.vegalite' in object_type and hasattr(final_object, 'save'):\n",
    "        print(f\"--> Détecté : Altair. Sauvegarde HTML dans : {OUTPUT_HTML_NAME}\")\n",
    "        final_object.save(OUTPUT_HTML_NAME)\n",
    "    elif 'bokeh.plotting' in object_type and bokeh_save is not None:\n",
    "        print(f\"--> Détecté : Bokeh. Sauvegarde HTML dans : {OUTPUT_HTML_NAME}\")\n",
    "        bokeh_save(final_object, filename=OUTPUT_HTML_NAME, title=\"\")\n",
    "    elif 'matplotlib.figure.Figure' in object_type:\n",
    "        print(f\"--> Détecté : Matplotlib. Sauvegarde dans : {OUTPUT_IMAGE_NAME}\")\n",
    "        final_object.savefig(OUTPUT_IMAGE_NAME, dpi=300, bbox_inches='tight')\n",
    "    else:\n",
    "        print(f\"AVERTISSEMENT: Type non supporté : {object_type}\", file=sys.stderr)\n",
    "except NameError:\n",
    "    print(f\"AVERTISSEMENT: Aucune variable '{FINAL_OBJECT_VARIABLE_NAME}' trouvée.\", file=sys.stderr)\n",
    "except Exception as e:\n",
    "    print(f\"ERREUR lors de l'exportation : {e}\", file=sys.stderr)\n"
   ]
  }
 ],
 "metadata": {
  "kernelspec": {
   "display_name": "Python 3",
   "language": "python",
   "name": "python3"
  },
  "language_info": {
   "codemirror_mode": {
    "name": "ipython",
    "version": 3
   },
   "file_extension": ".py",
   "mimetype": "text/x-python",
   "name": "python",
   "nbconvert_exporter": "python",
   "pygments_lexer": "ipython3",
   "version": "3.13.0"
  }
 },
 "nbformat": 4,
 "nbformat_minor": 4
}
