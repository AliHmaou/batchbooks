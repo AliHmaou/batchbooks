{
 "cells": [
  {
   "cell_type": "markdown",
   "metadata": {},
   "source": [
    "# Analyse de la température maximale annuelle en France : Évolution et tendances\n",
    "\n",
    "L'analyse présentée dans ce notebook se concentre sur l'évolution des températures maximales annuelles en France, en examinant les données quotidiennes de température relevées dans diverses stations météorologiques entre 1950 et 2023. Les données utilisées proviennent du fichier `Q_64_previous-1950-2023_RR-T-Vent.csv.gz`, disponible à l'adresse https://object.files.data.gouv.fr/meteofrance/data/synchro_ftp/BASE/QUOT/Q_64_previous-1950-2023_RR-T-Vent.csv.gz. Ce fichier contient des informations météorologiques quotidiennes, notamment les températures minimales, maximales et moyennes, ainsi que les précipitations et la vitesse du vent.\n",
    "\n",
    "L'objectif principal de cette analyse est de calculer la moyenne des 10 plus hautes températures maximales par an et de tracer une courbe représentant cette moyenne sur la période étudiée. Cela permettra d'identifier les tendances et les variations dans les températures maximales annuelles en France. L'analyse inclut également un lissage sur 5 ans pour atténuer les fluctuations annuelles et une tendance linéaire pour visualiser l'évolution globale.\n",
    "\n",
    "## Méthodologie\n",
    "\n",
    "La méthodologie utilisée dans cette analyse implique plusieurs étapes clés. Tout d'abord, les données sont chargées et filtrées pour ne conserver que les enregistrements avec des valeurs de température maximale (`TX`) non nulles. Ensuite, une requête SQL utilisant DuckDB est exécutée pour calculer la moyenne des 10 plus hautes températures maximales par an. Cette requête implique une sélection des données quotidiennes avec des températures maximales non nulles, un classement de ces températures par ordre décroissant pour chaque année, et enfin, un calcul de la moyenne des 10 premières valeurs pour chaque année. Les résultats sont ensuite visualisés à l'aide de Plotly pour créer une courbe représentant la moyenne annuelle des 10 températures maximales, ainsi qu'une courbe de lissage sur 5 ans et une tendance linéaire."
   ]
  },
  {
   "cell_type": "markdown",
   "metadata": {},
   "source": [
    "## 🔧 Configuration"
   ]
  },
  {
   "cell_type": "code",
   "execution_count": 1,
   "metadata": {
    "execution": {
     "iopub.execute_input": "2025-08-17T10:42:40.918750Z",
     "iopub.status.busy": "2025-08-17T10:42:40.918750Z",
     "iopub.status.idle": "2025-08-17T10:42:43.048144Z",
     "shell.execute_reply": "2025-08-17T10:42:43.047179Z"
    }
   },
   "outputs": [],
   "source": [
    "# Installation et imports\n",
    "import duckdb as ddb\n",
    "import pandas as pd\n",
    "import plotly.express as px\n",
    "import plotly.graph_objects as go"
   ]
  },
  {
   "cell_type": "markdown",
   "metadata": {},
   "source": [
    "## 🦆 Chargement du dataset avec Duckdb"
   ]
  },
  {
   "cell_type": "code",
   "execution_count": 2,
   "metadata": {
    "execution": {
     "iopub.execute_input": "2025-08-17T10:42:43.052464Z",
     "iopub.status.busy": "2025-08-17T10:42:43.051464Z",
     "iopub.status.idle": "2025-08-17T10:43:02.077917Z",
     "shell.execute_reply": "2025-08-17T10:43:02.076228Z"
    }
   },
   "outputs": [
    {
     "data": {
      "application/vnd.jupyter.widget-view+json": {
       "model_id": "7c15bd6b1e11433c9554c6d456740736",
       "version_major": 2,
       "version_minor": 0
      },
      "text/plain": [
       "FloatProgress(value=0.0, layout=Layout(width='auto'), style=ProgressStyle(bar_color='black'))"
      ]
     },
     "metadata": {},
     "output_type": "display_data"
    },
    {
     "name": "stdout",
     "output_type": "stream",
     "text": [
      "✅ Données chargées avec succès\n"
     ]
    }
   ],
   "source": [
    "# Fonction de chargement complète (basée sur load_file_from_url_lite)\n",
    "def load_file_from_url_lite(url_dataset=\"\", loader=\"read_csv_auto\", options=\"\", nom_table=\"loaded_dataset\", safe_mode=False):\n",
    "    ddb.execute(\"install spatial\")\n",
    "    ddb.execute(\"load spatial\")\n",
    "    ddb.execute(\"INSTALL h3 FROM community\")\n",
    "    ddb.execute(\"LOAD h3\")\n",
    "    ddb.execute(\"install webbed from community;\")\n",
    "    ddb.execute(\"load webbed\")\n",
    "    ddb.execute(\"set force_download=True\")\n",
    "    ddb.execute(f\"drop table if exists {nom_table}\")   \n",
    "    \n",
    "    # Détection automatique du type de fichier\n",
    "    if 'csv' in url_dataset: \n",
    "        loader = \"read_csv_auto\"\n",
    "    elif 'tsv' in url_dataset: \n",
    "        loader = \"read_csv_auto\"\n",
    "    elif 'txt' in url_dataset: \n",
    "        loader = \"read_csv_auto\"\n",
    "    elif 'parquet' in url_dataset: \n",
    "        loader = \"read_parquet\"\n",
    "    elif 'json' in url_dataset: \n",
    "        loader = \"read_json_auto\"\n",
    "    elif 'xls' in url_dataset or 'xlsx' in url_dataset: \n",
    "        loader = \"st_read\"\n",
    "    elif 'shp' in url_dataset: \n",
    "        loader = \"st_read\"\n",
    "    elif 'geojson' in url_dataset: \n",
    "        loader = \"st_read\"\n",
    "    elif 'xml' in url_dataset: \n",
    "        loader = \"read_xml\"\n",
    "    elif 'html' in url_dataset: \n",
    "        loader = \"read_html\"\n",
    "    else: \n",
    "        raise ValueError(f\"Type de fichier non supporté pour {url_dataset}\")\n",
    "    \n",
    "    if options==\"\": \n",
    "        options = \"\" \n",
    "    if 'csv' in url_dataset and safe_mode==True: \n",
    "        options = \", all_varchar=1\" \n",
    "    if nom_table==\"\": \n",
    "        nom_table = \"loaded_dataset\"\n",
    "    \n",
    "    try:\n",
    "        status = ddb.sql(f\"\"\"\n",
    "            create or replace table {nom_table} as select *\n",
    "            from\n",
    "            {loader}(\"{url_dataset}\" {options})\n",
    "        \"\"\")\n",
    "        return status\n",
    "    except Exception as e:\n",
    "        return f\"Erreur au chargement du fichier : {str(e)}\"\n",
    "\n",
    "def run_query(sql):\n",
    "    return ddb.sql(sql.replace(\"`\",\" \")).to_df()\n",
    "\n",
    "# Chargement des données\n",
    "load_file_from_url_lite(\"https://object.files.data.gouv.fr/meteofrance/data/synchro_ftp/BASE/QUOT/Q_64_previous-1950-2023_RR-T-Vent.csv.gz\", safe_mode=True)\n",
    "print(\"✅ Données chargées avec succès\")"
   ]
  },
  {
   "cell_type": "markdown",
   "metadata": {},
   "source": [
    "## 🔍 Analyse SQL\n",
    "\n",
    "Cette requête utilise des techniques SQL pour extraire et transformer les données de manière efficace."
   ]
  },
  {
   "cell_type": "code",
   "execution_count": 3,
   "metadata": {
    "execution": {
     "iopub.execute_input": "2025-08-17T10:43:02.085080Z",
     "iopub.status.busy": "2025-08-17T10:43:02.084081Z",
     "iopub.status.idle": "2025-08-17T10:43:02.230877Z",
     "shell.execute_reply": "2025-08-17T10:43:02.228879Z"
    }
   },
   "outputs": [
    {
     "name": "stdout",
     "output_type": "stream",
     "text": [
      "Résultats : 74 lignes\n"
     ]
    },
    {
     "data": {
      "text/html": [
       "<div>\n",
       "<style scoped>\n",
       "    .dataframe tbody tr th:only-of-type {\n",
       "        vertical-align: middle;\n",
       "    }\n",
       "\n",
       "    .dataframe tbody tr th {\n",
       "        vertical-align: top;\n",
       "    }\n",
       "\n",
       "    .dataframe thead th {\n",
       "        text-align: right;\n",
       "    }\n",
       "</style>\n",
       "<table border=\"1\" class=\"dataframe\">\n",
       "  <thead>\n",
       "    <tr style=\"text-align: right;\">\n",
       "      <th></th>\n",
       "      <th>year</th>\n",
       "      <th>avg_top_10_tx</th>\n",
       "    </tr>\n",
       "  </thead>\n",
       "  <tbody>\n",
       "    <tr>\n",
       "      <th>0</th>\n",
       "      <td>1950</td>\n",
       "      <td>37.66</td>\n",
       "    </tr>\n",
       "    <tr>\n",
       "      <th>1</th>\n",
       "      <td>1951</td>\n",
       "      <td>35.99</td>\n",
       "    </tr>\n",
       "    <tr>\n",
       "      <th>2</th>\n",
       "      <td>1952</td>\n",
       "      <td>35.37</td>\n",
       "    </tr>\n",
       "    <tr>\n",
       "      <th>3</th>\n",
       "      <td>1953</td>\n",
       "      <td>35.90</td>\n",
       "    </tr>\n",
       "    <tr>\n",
       "      <th>4</th>\n",
       "      <td>1954</td>\n",
       "      <td>34.39</td>\n",
       "    </tr>\n",
       "  </tbody>\n",
       "</table>\n",
       "</div>"
      ],
      "text/plain": [
       "   year  avg_top_10_tx\n",
       "0  1950          37.66\n",
       "1  1951          35.99\n",
       "2  1952          35.37\n",
       "3  1953          35.90\n",
       "4  1954          34.39"
      ]
     },
     "execution_count": 3,
     "metadata": {},
     "output_type": "execute_result"
    }
   ],
   "source": [
    "# Exécution de la requête\n",
    "df = run_query(\"\"\" WITH daily_max_temp AS (\n",
    "  SELECT \n",
    "    CAST(SUBSTRING(\"AAAAMMJJ\", 1, 4) AS INTEGER) AS year,\n",
    "    CAST(\"TX\" AS DOUBLE) AS tx_double\n",
    "  FROM \n",
    "    loaded_dataset\n",
    "  WHERE \n",
    "    \"TX\" IS NOT NULL AND \"TX\" != ''\n",
    "),\n",
    "top_10_temp_per_year AS (\n",
    "  SELECT \n",
    "    year, \n",
    "    tx_double,\n",
    "    ROW_NUMBER() OVER (PARTITION BY year ORDER BY tx_double DESC) AS row_num\n",
    "  FROM \n",
    "    daily_max_temp\n",
    ")\n",
    "SELECT \n",
    "  year, \n",
    "  AVG(tx_double) AS avg_top_10_tx\n",
    "FROM \n",
    "  top_10_temp_per_year\n",
    "WHERE \n",
    "  row_num <= 10\n",
    "GROUP BY \n",
    "  year\n",
    "ORDER BY \n",
    "  year \"\"\")\n",
    "print(f\"Résultats : {len(df)} lignes\")\n",
    "df.head()"
   ]
  },
  {
   "cell_type": "markdown",
   "metadata": {},
   "source": [
    "## 📈 Visualisation\n",
    "\n",
    "La bibliothèque principale utilisée est Plotly, qui est adaptée pour créer des visualisations interactives de données. Plotly permet de représenter les données de manière claire et détaillée, avec des fonctionnalités telles que le survol des données pour afficher des informations supplémentaires. Cela rend la visualisation plus engageante et plus facile à comprendre."
   ]
  },
  {
   "cell_type": "code",
   "execution_count": 4,
   "metadata": {
    "execution": {
     "iopub.execute_input": "2025-08-17T10:43:02.236874Z",
     "iopub.status.busy": "2025-08-17T10:43:02.235873Z",
     "iopub.status.idle": "2025-08-17T10:43:06.502918Z",
     "shell.execute_reply": "2025-08-17T10:43:06.502918Z"
    }
   },
   "outputs": [
    {
     "data": {
      "application/vnd.plotly.v1+json": {
       "config": {
        "plotlyServerURL": "https://plot.ly"
       },
       "data": [
        {
         "hovertemplate": "%{y:.2f} °C<br>année : %{x}<br>",
         "line": {
          "color": "#d62728",
          "width": 2
         },
         "mode": "lines+markers",
         "name": "Moyenne des 10 plus hautes Tx",
         "type": "scatter",
         "x": {
          "bdata": "ngcAAJ8HAACgBwAAoQcAAKIHAACjBwAApAcAAKUHAACmBwAApwcAAKgHAACpBwAAqgcAAKsHAACsBwAArQcAAK4HAACvBwAAsAcAALEHAACyBwAAswcAALQHAAC1BwAAtgcAALcHAAC4BwAAuQcAALoHAAC7BwAAvAcAAL0HAAC+BwAAvwcAAMAHAADBBwAAwgcAAMMHAADEBwAAxQcAAMYHAADHBwAAyAcAAMkHAADKBwAAywcAAMwHAADNBwAAzgcAAM8HAADQBwAA0QcAANIHAADTBwAA1AcAANUHAADWBwAA1wcAANgHAADZBwAA2gcAANsHAADcBwAA3QcAAN4HAADfBwAA4AcAAOEHAADiBwAA4wcAAOQHAADlBwAA5gcAAOcHAAA=",
          "dtype": "i4"
         },
         "y": {
          "bdata": "Fa5H4XrUQkAehetRuP5BQI/C9Shcr0FAMzMzMzPzQUBSuB6F6zFBQGZmZmZmJkJAmpmZmZnZQEBmZmZmZuZCQD0K16NwvUFA9ihcj8K1QUDC9ShcjyJBQNijcD0Kt0JA7FG4HoXrQkBwPQrXozBCQClcj8L1yEJAmpmZmZlZQkDNzMzMzMxCQB6F61G4/kFA61G4HoVLQ0CkcD0K14NCQJqZmZmZuUJAcT0K16OwQUC4HoXrUVhBQFK4HoXr8UFAPQrXo3AdQ0B7FK5H4TpDQOxRuB6F60JApHA9CtcDQEBdj8L1KBxBQGZmZmZmJkFAPgrXo3C9QUCkcD0K18NBQLgehetR2ENAo3A9CtfDQkBSuB6F67FCQB+F61G4/kJAuB6F61F4QkBH4XoUrmdDQHE9Ctej0EFACtejcD3qQ0CuR+F6FE5DQD0K16NwHUNAwvUoXI8iQkA+CtejcN1BQMP1KFyPgkNAXI/C9SicQkBmZmZmZgZDQFyPwvUoPEFAUrgehesRQ0AehetRuD5CQM7MzMzMTEJAmpmZmZm5QkCE61G4HqVCQDMzMzMzE0VAzczMzMwsREBxPQrXo/BCQK5H4XoUjkNAexSuR+HaQkB7FK5H4TpCQLkehetR2ENAKVyPwvVIREBI4XoUridEQM3MzMzMDERAwvUoXI9CQ0D2KFyPwrVCQPYoXI/CtUNAUrgehevxQ0AK16NwPWpDQPYoXI/CNUJAcD0K16OwQ0C4HoXrUThEQI7C9Shcj0JAcT0K16MQRUDhehSuR4FEQA==",
          "dtype": "f8"
         }
        },
        {
         "hovertemplate": "%{y:.2f} °C<br>année : %{x}<br>",
         "line": {
          "color": "steelblue",
          "width": 3
         },
         "mode": "lines",
         "name": "Lissage 5 ans",
         "type": "scatter",
         "x": {
          "bdata": "ngcAAJ8HAACgBwAAoQcAAKIHAACjBwAApAcAAKUHAACmBwAApwcAAKgHAACpBwAAqgcAAKsHAACsBwAArQcAAK4HAACvBwAAsAcAALEHAACyBwAAswcAALQHAAC1BwAAtgcAALcHAAC4BwAAuQcAALoHAAC7BwAAvAcAAL0HAAC+BwAAvwcAAMAHAADBBwAAwgcAAMMHAADEBwAAxQcAAMYHAADHBwAAyAcAAMkHAADKBwAAywcAAMwHAADNBwAAzgcAAM8HAADQBwAA0QcAANIHAADTBwAA1AcAANUHAADWBwAA1wcAANgHAADZBwAA2gcAANsHAADcBwAA3QcAAN4HAADfBwAA4AcAAOEHAADiBwAA4wcAAOQHAADlBwAA5gcAAOcHAAA=",
          "dtype": "i4"
         },
         "y": {
          "bdata": "AAAAAAAA+H8AAAAAAAD4f3WTGARW7kFA61G4HoXLQUA3iUFg5ZBBQMl2vp8az0FAMgisHFrEQUAehetRuN5BQJhuEoPAqkFACtejcD0KQkAlBoGVQwtCQPup8dJNIkJA001iEFhZQkBlO99PjZdCQJZDi2znm0JABoGVQ4tsQkCG61G4HqVCQJ7vp8ZLl0JA0SLb+X6qQkCLbOf7qXFCQKrx0k1iUEJAJQaBlUMLQkBDi2zn+ylCQKRwPQrXQ0JAiUFg5dCCQkAfhetRuD5CQIcW2c73E0JAkML1KFyvQUBQjZduEmNBQA4tsp3vJ0FAeekmMQjsQUBU46WbxEBCQB1aZDvfj0JA46WbxCDQQkBOYhBYOfRCQARWDi2y3UJAkxgEVg6tQkDsUbgehetCQAisHFpk+0JAI9v5fmocQ0AIrBxaZNtCQMuhRbbz3UJA76fGSzfJQkASg8DKoaVCQBsv3SQGoUJAbef7qfFyQkBwPQrXo7BCQB1aZDvfb0JAAAAAAABgQkBxPQrXo1BCQEa28/3UmEJAc2iR7Xz/QkD8qfHSTWJDQFCNl24Sg0NAILByaJGtQ0C4HoXrUbhDQC6yne+nJkNA9ihcj8IVQ0C1yHa+n1pDQNNNYhBYeUNASgwCK4e2Q0AlBoGVQ+tDQP7UeOkmsUNAwcqhRbaTQ0ApXI/C9YhDQJvEILByaENAppvEILAyQ0C+nxov3WRDQObQItv5fkNA8dJNYhA4Q0AGgZVDi4xDQDVeukkMAkRAAAAAAAAA+H8AAAAAAAD4fw==",
          "dtype": "f8"
         }
        },
        {
         "hovertemplate": "%{y:.2f} °C<br>année : %{x}<br>",
         "line": {
          "color": "forestgreen",
          "dash": "dash",
          "width": 2
         },
         "mode": "lines",
         "name": "Tendance linéaire",
         "type": "scatter",
         "x": {
          "bdata": "ngcAAJ8HAACgBwAAoQcAAKIHAACjBwAApAcAAKUHAACmBwAApwcAAKgHAACpBwAAqgcAAKsHAACsBwAArQcAAK4HAACvBwAAsAcAALEHAACyBwAAswcAALQHAAC1BwAAtgcAALcHAAC4BwAAuQcAALoHAAC7BwAAvAcAAL0HAAC+BwAAvwcAAMAHAADBBwAAwgcAAMMHAADEBwAAxQcAAMYHAADHBwAAyAcAAMkHAADKBwAAywcAAMwHAADNBwAAzgcAAM8HAADQBwAA0QcAANIHAADTBwAA1AcAANUHAADWBwAA1wcAANgHAADZBwAA2gcAANsHAADcBwAA3QcAAN4HAADfBwAA4AcAAOEHAADiBwAA4wcAAOQHAADlBwAA5gcAAOcHAAA=",
          "dtype": "i4"
         },
         "y": {
          "bdata": "puUMp9a6QUD+Fwn/t8FBQFhKBVeZyEFAsnwBr3rPQUAMr/0GXNZBQGTh+V493UFAvhP2th7kQUAYRvIOAOtBQHJ47mbh8UFAyqrqvsL4QUAk3eYWpP9BQH4P426FBkJA1kHfxmYNQkAwdNseSBRCQIqm13YpG0JA5NjTzgoiQkA8C9Am7ChCQJY9zH7NL0JA8G/I1q42QkBKosQukD1CQKLUwIZxREJA/Aa93lJLQkBWObk2NFJCQLBrtY4VWUJACJ6x5vZfQkBi0K0+2GZCQLwCqpa5bUJAFjWm7pp0QkBuZ6JGfHtCQMiZnp5dgkJAIsya9j6JQkB8/pZOIJBCQNQwk6YBl0JALmOP/uKdQkCIlYtWxKRCQODHh66lq0JAOvqDBoeyQkCULIBeaLlCQO5efLZJwEJARpF4DivHQkCgw3RmDM5CQPr1cL7t1EJAVChtFs/bQkCsWmlusOJCQAaNZcaR6UJAYL9hHnPwQkC68V12VPdCQBIkWs41/kJAbFZWJhcFQ0DGiFJ++AtDQCC7TtbZEkNAeO1KLrsZQ0DSH0eGnCBDQCxSQ959J0NAhIQ/Nl8uQ0DetjuOQDVDQDjpN+YhPENAkhs0PgNDQ0DqTTCW5ElDQESALO7FUENAnrIoRqdXQ0D45CSeiF5DQFAXIfZpZUNAqkkdTktsQ0AEfBmmLHNDQF6uFf4NekNAtuARVu+AQ0AQEw6u0IdDQGpFCgayjkNAxHcGXpOVQ0AcqgK2dJxDQHbc/g1Wo0NA0A77ZTeqQ0AqQfe9GLFDQA==",
          "dtype": "f8"
         }
        }
       ],
       "layout": {
        "hovermode": "x unified",
        "legend": {
         "orientation": "h",
         "x": 0.5,
         "xanchor": "center",
         "y": -0.25,
         "yanchor": "bottom"
        },
        "margin": {
         "b": 40,
         "l": 40,
         "r": 40,
         "t": 80
        },
        "template": {
         "data": {
          "bar": [
           {
            "error_x": {
             "color": "#2a3f5f"
            },
            "error_y": {
             "color": "#2a3f5f"
            },
            "marker": {
             "line": {
              "color": "white",
              "width": 0.5
             },
             "pattern": {
              "fillmode": "overlay",
              "size": 10,
              "solidity": 0.2
             }
            },
            "type": "bar"
           }
          ],
          "barpolar": [
           {
            "marker": {
             "line": {
              "color": "white",
              "width": 0.5
             },
             "pattern": {
              "fillmode": "overlay",
              "size": 10,
              "solidity": 0.2
             }
            },
            "type": "barpolar"
           }
          ],
          "carpet": [
           {
            "aaxis": {
             "endlinecolor": "#2a3f5f",
             "gridcolor": "#C8D4E3",
             "linecolor": "#C8D4E3",
             "minorgridcolor": "#C8D4E3",
             "startlinecolor": "#2a3f5f"
            },
            "baxis": {
             "endlinecolor": "#2a3f5f",
             "gridcolor": "#C8D4E3",
             "linecolor": "#C8D4E3",
             "minorgridcolor": "#C8D4E3",
             "startlinecolor": "#2a3f5f"
            },
            "type": "carpet"
           }
          ],
          "choropleth": [
           {
            "colorbar": {
             "outlinewidth": 0,
             "ticks": ""
            },
            "type": "choropleth"
           }
          ],
          "contour": [
           {
            "colorbar": {
             "outlinewidth": 0,
             "ticks": ""
            },
            "colorscale": [
             [
              0.0,
              "#0d0887"
             ],
             [
              0.1111111111111111,
              "#46039f"
             ],
             [
              0.2222222222222222,
              "#7201a8"
             ],
             [
              0.3333333333333333,
              "#9c179e"
             ],
             [
              0.4444444444444444,
              "#bd3786"
             ],
             [
              0.5555555555555556,
              "#d8576b"
             ],
             [
              0.6666666666666666,
              "#ed7953"
             ],
             [
              0.7777777777777778,
              "#fb9f3a"
             ],
             [
              0.8888888888888888,
              "#fdca26"
             ],
             [
              1.0,
              "#f0f921"
             ]
            ],
            "type": "contour"
           }
          ],
          "contourcarpet": [
           {
            "colorbar": {
             "outlinewidth": 0,
             "ticks": ""
            },
            "type": "contourcarpet"
           }
          ],
          "heatmap": [
           {
            "colorbar": {
             "outlinewidth": 0,
             "ticks": ""
            },
            "colorscale": [
             [
              0.0,
              "#0d0887"
             ],
             [
              0.1111111111111111,
              "#46039f"
             ],
             [
              0.2222222222222222,
              "#7201a8"
             ],
             [
              0.3333333333333333,
              "#9c179e"
             ],
             [
              0.4444444444444444,
              "#bd3786"
             ],
             [
              0.5555555555555556,
              "#d8576b"
             ],
             [
              0.6666666666666666,
              "#ed7953"
             ],
             [
              0.7777777777777778,
              "#fb9f3a"
             ],
             [
              0.8888888888888888,
              "#fdca26"
             ],
             [
              1.0,
              "#f0f921"
             ]
            ],
            "type": "heatmap"
           }
          ],
          "histogram": [
           {
            "marker": {
             "pattern": {
              "fillmode": "overlay",
              "size": 10,
              "solidity": 0.2
             }
            },
            "type": "histogram"
           }
          ],
          "histogram2d": [
           {
            "colorbar": {
             "outlinewidth": 0,
             "ticks": ""
            },
            "colorscale": [
             [
              0.0,
              "#0d0887"
             ],
             [
              0.1111111111111111,
              "#46039f"
             ],
             [
              0.2222222222222222,
              "#7201a8"
             ],
             [
              0.3333333333333333,
              "#9c179e"
             ],
             [
              0.4444444444444444,
              "#bd3786"
             ],
             [
              0.5555555555555556,
              "#d8576b"
             ],
             [
              0.6666666666666666,
              "#ed7953"
             ],
             [
              0.7777777777777778,
              "#fb9f3a"
             ],
             [
              0.8888888888888888,
              "#fdca26"
             ],
             [
              1.0,
              "#f0f921"
             ]
            ],
            "type": "histogram2d"
           }
          ],
          "histogram2dcontour": [
           {
            "colorbar": {
             "outlinewidth": 0,
             "ticks": ""
            },
            "colorscale": [
             [
              0.0,
              "#0d0887"
             ],
             [
              0.1111111111111111,
              "#46039f"
             ],
             [
              0.2222222222222222,
              "#7201a8"
             ],
             [
              0.3333333333333333,
              "#9c179e"
             ],
             [
              0.4444444444444444,
              "#bd3786"
             ],
             [
              0.5555555555555556,
              "#d8576b"
             ],
             [
              0.6666666666666666,
              "#ed7953"
             ],
             [
              0.7777777777777778,
              "#fb9f3a"
             ],
             [
              0.8888888888888888,
              "#fdca26"
             ],
             [
              1.0,
              "#f0f921"
             ]
            ],
            "type": "histogram2dcontour"
           }
          ],
          "mesh3d": [
           {
            "colorbar": {
             "outlinewidth": 0,
             "ticks": ""
            },
            "type": "mesh3d"
           }
          ],
          "parcoords": [
           {
            "line": {
             "colorbar": {
              "outlinewidth": 0,
              "ticks": ""
             }
            },
            "type": "parcoords"
           }
          ],
          "pie": [
           {
            "automargin": true,
            "type": "pie"
           }
          ],
          "scatter": [
           {
            "fillpattern": {
             "fillmode": "overlay",
             "size": 10,
             "solidity": 0.2
            },
            "type": "scatter"
           }
          ],
          "scatter3d": [
           {
            "line": {
             "colorbar": {
              "outlinewidth": 0,
              "ticks": ""
             }
            },
            "marker": {
             "colorbar": {
              "outlinewidth": 0,
              "ticks": ""
             }
            },
            "type": "scatter3d"
           }
          ],
          "scattercarpet": [
           {
            "marker": {
             "colorbar": {
              "outlinewidth": 0,
              "ticks": ""
             }
            },
            "type": "scattercarpet"
           }
          ],
          "scattergeo": [
           {
            "marker": {
             "colorbar": {
              "outlinewidth": 0,
              "ticks": ""
             }
            },
            "type": "scattergeo"
           }
          ],
          "scattergl": [
           {
            "marker": {
             "colorbar": {
              "outlinewidth": 0,
              "ticks": ""
             }
            },
            "type": "scattergl"
           }
          ],
          "scattermap": [
           {
            "marker": {
             "colorbar": {
              "outlinewidth": 0,
              "ticks": ""
             }
            },
            "type": "scattermap"
           }
          ],
          "scattermapbox": [
           {
            "marker": {
             "colorbar": {
              "outlinewidth": 0,
              "ticks": ""
             }
            },
            "type": "scattermapbox"
           }
          ],
          "scatterpolar": [
           {
            "marker": {
             "colorbar": {
              "outlinewidth": 0,
              "ticks": ""
             }
            },
            "type": "scatterpolar"
           }
          ],
          "scatterpolargl": [
           {
            "marker": {
             "colorbar": {
              "outlinewidth": 0,
              "ticks": ""
             }
            },
            "type": "scatterpolargl"
           }
          ],
          "scatterternary": [
           {
            "marker": {
             "colorbar": {
              "outlinewidth": 0,
              "ticks": ""
             }
            },
            "type": "scatterternary"
           }
          ],
          "surface": [
           {
            "colorbar": {
             "outlinewidth": 0,
             "ticks": ""
            },
            "colorscale": [
             [
              0.0,
              "#0d0887"
             ],
             [
              0.1111111111111111,
              "#46039f"
             ],
             [
              0.2222222222222222,
              "#7201a8"
             ],
             [
              0.3333333333333333,
              "#9c179e"
             ],
             [
              0.4444444444444444,
              "#bd3786"
             ],
             [
              0.5555555555555556,
              "#d8576b"
             ],
             [
              0.6666666666666666,
              "#ed7953"
             ],
             [
              0.7777777777777778,
              "#fb9f3a"
             ],
             [
              0.8888888888888888,
              "#fdca26"
             ],
             [
              1.0,
              "#f0f921"
             ]
            ],
            "type": "surface"
           }
          ],
          "table": [
           {
            "cells": {
             "fill": {
              "color": "#EBF0F8"
             },
             "line": {
              "color": "white"
             }
            },
            "header": {
             "fill": {
              "color": "#C8D4E3"
             },
             "line": {
              "color": "white"
             }
            },
            "type": "table"
           }
          ]
         },
         "layout": {
          "annotationdefaults": {
           "arrowcolor": "#2a3f5f",
           "arrowhead": 0,
           "arrowwidth": 1
          },
          "autotypenumbers": "strict",
          "coloraxis": {
           "colorbar": {
            "outlinewidth": 0,
            "ticks": ""
           }
          },
          "colorscale": {
           "diverging": [
            [
             0,
             "#8e0152"
            ],
            [
             0.1,
             "#c51b7d"
            ],
            [
             0.2,
             "#de77ae"
            ],
            [
             0.3,
             "#f1b6da"
            ],
            [
             0.4,
             "#fde0ef"
            ],
            [
             0.5,
             "#f7f7f7"
            ],
            [
             0.6,
             "#e6f5d0"
            ],
            [
             0.7,
             "#b8e186"
            ],
            [
             0.8,
             "#7fbc41"
            ],
            [
             0.9,
             "#4d9221"
            ],
            [
             1,
             "#276419"
            ]
           ],
           "sequential": [
            [
             0.0,
             "#0d0887"
            ],
            [
             0.1111111111111111,
             "#46039f"
            ],
            [
             0.2222222222222222,
             "#7201a8"
            ],
            [
             0.3333333333333333,
             "#9c179e"
            ],
            [
             0.4444444444444444,
             "#bd3786"
            ],
            [
             0.5555555555555556,
             "#d8576b"
            ],
            [
             0.6666666666666666,
             "#ed7953"
            ],
            [
             0.7777777777777778,
             "#fb9f3a"
            ],
            [
             0.8888888888888888,
             "#fdca26"
            ],
            [
             1.0,
             "#f0f921"
            ]
           ],
           "sequentialminus": [
            [
             0.0,
             "#0d0887"
            ],
            [
             0.1111111111111111,
             "#46039f"
            ],
            [
             0.2222222222222222,
             "#7201a8"
            ],
            [
             0.3333333333333333,
             "#9c179e"
            ],
            [
             0.4444444444444444,
             "#bd3786"
            ],
            [
             0.5555555555555556,
             "#d8576b"
            ],
            [
             0.6666666666666666,
             "#ed7953"
            ],
            [
             0.7777777777777778,
             "#fb9f3a"
            ],
            [
             0.8888888888888888,
             "#fdca26"
            ],
            [
             1.0,
             "#f0f921"
            ]
           ]
          },
          "colorway": [
           "#636efa",
           "#EF553B",
           "#00cc96",
           "#ab63fa",
           "#FFA15A",
           "#19d3f3",
           "#FF6692",
           "#B6E880",
           "#FF97FF",
           "#FECB52"
          ],
          "font": {
           "color": "#2a3f5f"
          },
          "geo": {
           "bgcolor": "white",
           "lakecolor": "white",
           "landcolor": "white",
           "showlakes": true,
           "showland": true,
           "subunitcolor": "#C8D4E3"
          },
          "hoverlabel": {
           "align": "left"
          },
          "hovermode": "closest",
          "mapbox": {
           "style": "light"
          },
          "paper_bgcolor": "white",
          "plot_bgcolor": "white",
          "polar": {
           "angularaxis": {
            "gridcolor": "#EBF0F8",
            "linecolor": "#EBF0F8",
            "ticks": ""
           },
           "bgcolor": "white",
           "radialaxis": {
            "gridcolor": "#EBF0F8",
            "linecolor": "#EBF0F8",
            "ticks": ""
           }
          },
          "scene": {
           "xaxis": {
            "backgroundcolor": "white",
            "gridcolor": "#DFE8F3",
            "gridwidth": 2,
            "linecolor": "#EBF0F8",
            "showbackground": true,
            "ticks": "",
            "zerolinecolor": "#EBF0F8"
           },
           "yaxis": {
            "backgroundcolor": "white",
            "gridcolor": "#DFE8F3",
            "gridwidth": 2,
            "linecolor": "#EBF0F8",
            "showbackground": true,
            "ticks": "",
            "zerolinecolor": "#EBF0F8"
           },
           "zaxis": {
            "backgroundcolor": "white",
            "gridcolor": "#DFE8F3",
            "gridwidth": 2,
            "linecolor": "#EBF0F8",
            "showbackground": true,
            "ticks": "",
            "zerolinecolor": "#EBF0F8"
           }
          },
          "shapedefaults": {
           "line": {
            "color": "#2a3f5f"
           }
          },
          "ternary": {
           "aaxis": {
            "gridcolor": "#DFE8F3",
            "linecolor": "#A2B1C6",
            "ticks": ""
           },
           "baxis": {
            "gridcolor": "#DFE8F3",
            "linecolor": "#A2B1C6",
            "ticks": ""
           },
           "bgcolor": "white",
           "caxis": {
            "gridcolor": "#DFE8F3",
            "linecolor": "#A2B1C6",
            "ticks": ""
           }
          },
          "title": {
           "x": 0.05
          },
          "xaxis": {
           "automargin": true,
           "gridcolor": "#EBF0F8",
           "linecolor": "#EBF0F8",
           "ticks": "",
           "title": {
            "standoff": 15
           },
           "zerolinecolor": "#EBF0F8",
           "zerolinewidth": 2
          },
          "yaxis": {
           "automargin": true,
           "gridcolor": "#EBF0F8",
           "linecolor": "#EBF0F8",
           "ticks": "",
           "title": {
            "standoff": 15
           },
           "zerolinecolor": "#EBF0F8",
           "zerolinewidth": 2
          }
         }
        },
        "title": {
         "font": {
          "size": 16
         },
         "text": "Moyenne annuelle des 10 températures maximales<br>avec lissage sur 5 ans et tendance"
        },
        "xaxis": {
         "title": {
          "text": "Année"
         }
        },
        "yaxis": {
         "title": {
          "text": "Température (°C)"
         }
        }
       }
      }
     },
     "metadata": {},
     "output_type": "display_data"
    }
   ],
   "source": [
    "import pandas as pd\n",
    "import duckdb as ddb\n",
    "import plotly.graph_objects as go\n",
    "import pandas as pd\n",
    "import numpy as np\n",
    "\n",
    "df = df.sort_values('year')\n",
    "\n",
    "df['moyenne_mobile_5ans'] = df['avg_top_10_tx'].rolling(window=5, center=True).mean()\n",
    "\n",
    "z = np.polyfit(df['year'], df['avg_top_10_tx'], 1)\n",
    "p = np.poly1d(z)\n",
    "df['tendance'] = p(df['year'])\n",
    "\n",
    "dataviz = go.Figure()\n",
    "\n",
    "dataviz.add_trace(go.Scatter(\n",
    "    x=df['year'],\n",
    "    y=df['avg_top_10_tx'],\n",
    "    mode='lines+markers',\n",
    "    name='Moyenne des 10 plus hautes Tx',\n",
    "    line=dict(color='#d62728', width=2),\n",
    "    hovertemplate='%{y:.2f} °C<br>année : %{x}<br>'\n",
    "))\n",
    "\n",
    "dataviz.add_trace(go.Scatter(\n",
    "    x=df['year'],\n",
    "    y=df['moyenne_mobile_5ans'],\n",
    "    mode='lines',\n",
    "    name='Lissage 5 ans',\n",
    "    line=dict(color='steelblue', width=3),\n",
    "    hovertemplate='%{y:.2f} °C<br>année : %{x}<br>'\n",
    "))\n",
    "\n",
    "dataviz.add_trace(go.Scatter(\n",
    "    x=df['year'],\n",
    "    y=df['tendance'],\n",
    "    mode='lines',\n",
    "    name='Tendance linéaire',\n",
    "    line=dict(color='forestgreen', width=2, dash='dash'),\n",
    "    hovertemplate='%{y:.2f} °C<br>année : %{x}<br>'\n",
    "))\n",
    "\n",
    "dataviz.update_layout(\n",
    "    title=dict(\n",
    "        text=\"Moyenne annuelle des 10 températures maximales<br>avec lissage sur 5 ans et tendance\",\n",
    "        font=dict(size=16)\n",
    "    ),\n",
    "    xaxis_title='Année',\n",
    "    yaxis_title='Température (°C)',\n",
    "    hovermode='x unified',\n",
    "    template='plotly_white',\n",
    "    margin=dict(l=40, r=40, t=80, b=40),\n",
    "    legend=dict(\n",
    "        orientation='h',\n",
    "        yanchor='bottom',\n",
    "        y=-0.25,\n",
    "        xanchor='center',\n",
    "        x=0.5\n",
    "    )\n",
    ")\n",
    "dataviz"
   ]
  },
  {
   "cell_type": "markdown",
   "metadata": {},
   "source": [
    "---\n",
    "*Made with ❤️ and with [duckit.fr](https://duckit.fr) - [Ali Hmaou](https://www.linkedin.com/in/ali-hmaou-6b7b73146/)*"
   ]
  },
  {
   "cell_type": "code",
   "execution_count": 5,
   "metadata": {
    "execution": {
     "iopub.execute_input": "2025-08-17T10:43:06.509328Z",
     "iopub.status.busy": "2025-08-17T10:43:06.509328Z",
     "iopub.status.idle": "2025-08-17T10:43:11.710249Z",
     "shell.execute_reply": "2025-08-17T10:43:11.708238Z"
    }
   },
   "outputs": [
    {
     "name": "stdout",
     "output_type": "stream",
     "text": [
      "INFO: Variable 'dataviz' trouvée. Tentative d'exportation...\n",
      "--> Détecté : Plotly. Sauvegarde HTML et PNG.\n",
      "--> Sauvegarde HTML dans : published\\notebooks\\duckit_analysis_test.html\n",
      "--> Tentative de sauvegarde PNG directe dans : published\\notebooks\\duckit_analysis_test.png\n"
     ]
    },
    {
     "name": "stdout",
     "output_type": "stream",
     "text": [
      "--> Image Plotly sauvegardée avec succès.\n"
     ]
    }
   ],
   "source": [
    "\n",
    "# --- Variables injectées par le script ---\n",
    "FINAL_OBJECT_VARIABLE_NAME = 'dataviz'\n",
    "OUTPUT_IMAGE_NAME = 'published\\\\notebooks\\\\duckit_analysis_test.png'\n",
    "OUTPUT_HTML_NAME = 'published\\\\notebooks\\\\duckit_analysis_test.html'\n",
    "\n",
    "# ===================================================================\n",
    "# CELLULE INJECTÉE AUTOMATIQUEMENT (VERSION ROBUSTE)\n",
    "# ===================================================================\n",
    "import sys\n",
    "import os\n",
    "# On importe les modules nécessaires pour l'export au cas où\n",
    "try:\n",
    "    from bokeh.io import save as bokeh_save\n",
    "except ImportError:\n",
    "    bokeh_save = None\n",
    "\n",
    "try:\n",
    "    # On s'assure que le dossier de sortie existe\n",
    "    output_dir = os.path.dirname(OUTPUT_IMAGE_NAME)\n",
    "    if output_dir:\n",
    "        os.makedirs(output_dir, exist_ok=True)\n",
    "\n",
    "    # On utilise globals().get() pour une récupération plus sûre\n",
    "    final_object = globals().get(FINAL_OBJECT_VARIABLE_NAME)\n",
    "\n",
    "    if final_object is None:\n",
    "        # On lève une NameError pour être cohérent avec le code original\n",
    "        raise NameError(f\"name '{FINAL_OBJECT_VARIABLE_NAME}' is not defined\")\n",
    "\n",
    "    print(f\"INFO: Variable '{FINAL_OBJECT_VARIABLE_NAME}' trouvée. Tentative d'exportation...\")\n",
    "\n",
    "    object_type = str(type(final_object))\n",
    "\n",
    "    if 'plotly.graph_objs._figure.Figure' in object_type:\n",
    "        print(f\"--> Détecté : Plotly. Sauvegarde HTML et PNG.\")\n",
    "        # 1. Sauvegarde HTML pour l'interactivité\n",
    "        print(f\"--> Sauvegarde HTML dans : {OUTPUT_HTML_NAME}\")\n",
    "        final_object.write_html(OUTPUT_HTML_NAME, include_plotlyjs='cdn')\n",
    "        # 2. Sauvegarde PNG pour l'aperçu statique\n",
    "        try:\n",
    "            print(f\"--> Tentative de sauvegarde PNG directe dans : {OUTPUT_IMAGE_NAME}\")\n",
    "            final_object.write_image(OUTPUT_IMAGE_NAME, scale=3, width=1200, height=800)\n",
    "            print(f\"--> Image Plotly sauvegardée avec succès.\")\n",
    "        except Exception as e:\n",
    "            print(f\"AVERTISSESEMENT: La sauvegarde directe en PNG a échoué (kaleido est-il installé?). L'image statique ne sera pas générée.\", file=sys.stderr)\n",
    "            print(f\"   Erreur: {e}\", file=sys.stderr)\n",
    "    elif 'folium.folium.Map' in object_type:\n",
    "        print(f\"--> Détecté : Folium. Sauvegarde HTML dans : {OUTPUT_HTML_NAME}\")\n",
    "        final_object.save(OUTPUT_HTML_NAME)\n",
    "        # On crée un fichier marqueur pour que le script de post-traitement sache qu'il s'agit de Folium\n",
    "        with open(f\"{OUTPUT_HTML_NAME}.is_folium\", \"w\") as f:\n",
    "            f.write(\"true\")\n",
    "    elif 'altair.vegalite' in object_type and hasattr(final_object, 'save'):\n",
    "        print(f\"--> Détecté : Altair. Sauvegarde HTML dans : {OUTPUT_HTML_NAME}\")\n",
    "        final_object.save(OUTPUT_HTML_NAME)\n",
    "    elif 'bokeh.plotting' in object_type and bokeh_save is not None:\n",
    "        print(f\"--> Détecté : Bokeh. Sauvegarde HTML dans : {OUTPUT_HTML_NAME}\")\n",
    "        bokeh_save(final_object, filename=OUTPUT_HTML_NAME, title=\"\")\n",
    "    elif 'matplotlib.figure.Figure' in object_type:\n",
    "        print(f\"--> Détecté : Matplotlib. Sauvegarde dans : {OUTPUT_IMAGE_NAME}\")\n",
    "        final_object.savefig(OUTPUT_IMAGE_NAME, dpi=300, bbox_inches='tight')\n",
    "    else:\n",
    "        print(f\"AVERTISSEMENT: Type non supporté : {object_type}\", file=sys.stderr)\n",
    "except NameError:\n",
    "    print(f\"AVERTISSEMENT: Aucune variable '{FINAL_OBJECT_VARIABLE_NAME}' trouvée.\", file=sys.stderr)\n",
    "except Exception as e:\n",
    "    print(f\"ERREUR lors de l'exportation : {e}\", file=sys.stderr)\n"
   ]
  }
 ],
 "metadata": {
  "kernelspec": {
   "display_name": "Python 3",
   "language": "python",
   "name": "python3"
  },
  "language_info": {
   "codemirror_mode": {
    "name": "ipython",
    "version": 3
   },
   "file_extension": ".py",
   "mimetype": "text/x-python",
   "name": "python",
   "nbconvert_exporter": "python",
   "pygments_lexer": "ipython3",
   "version": "3.10.11"
  },
  "widgets": {
   "application/vnd.jupyter.widget-state+json": {
    "state": {
     "1440947a7d1f4fcca776e846b7e1a1ac": {
      "model_module": "@jupyter-widgets/base",
      "model_module_version": "2.0.0",
      "model_name": "LayoutModel",
      "state": {
       "_model_module": "@jupyter-widgets/base",
       "_model_module_version": "2.0.0",
       "_model_name": "LayoutModel",
       "_view_count": null,
       "_view_module": "@jupyter-widgets/base",
       "_view_module_version": "2.0.0",
       "_view_name": "LayoutView",
       "align_content": null,
       "align_items": null,
       "align_self": null,
       "border_bottom": null,
       "border_left": null,
       "border_right": null,
       "border_top": null,
       "bottom": null,
       "display": null,
       "flex": null,
       "flex_flow": null,
       "grid_area": null,
       "grid_auto_columns": null,
       "grid_auto_flow": null,
       "grid_auto_rows": null,
       "grid_column": null,
       "grid_gap": null,
       "grid_row": null,
       "grid_template_areas": null,
       "grid_template_columns": null,
       "grid_template_rows": null,
       "height": null,
       "justify_content": null,
       "justify_items": null,
       "left": null,
       "margin": null,
       "max_height": null,
       "max_width": null,
       "min_height": null,
       "min_width": null,
       "object_fit": null,
       "object_position": null,
       "order": null,
       "overflow": null,
       "padding": null,
       "right": null,
       "top": null,
       "visibility": null,
       "width": "auto"
      }
     },
     "6ad0edc74bfc458c8595712ed9ed6aee": {
      "model_module": "@jupyter-widgets/controls",
      "model_module_version": "2.0.0",
      "model_name": "ProgressStyleModel",
      "state": {
       "_model_module": "@jupyter-widgets/controls",
       "_model_module_version": "2.0.0",
       "_model_name": "ProgressStyleModel",
       "_view_count": null,
       "_view_module": "@jupyter-widgets/base",
       "_view_module_version": "2.0.0",
       "_view_name": "StyleView",
       "bar_color": "black",
       "description_width": ""
      }
     },
     "7c15bd6b1e11433c9554c6d456740736": {
      "model_module": "@jupyter-widgets/controls",
      "model_module_version": "2.0.0",
      "model_name": "FloatProgressModel",
      "state": {
       "_dom_classes": [],
       "_model_module": "@jupyter-widgets/controls",
       "_model_module_version": "2.0.0",
       "_model_name": "FloatProgressModel",
       "_view_count": null,
       "_view_module": "@jupyter-widgets/controls",
       "_view_module_version": "2.0.0",
       "_view_name": "ProgressView",
       "bar_style": "",
       "description": "",
       "description_allow_html": false,
       "layout": "IPY_MODEL_1440947a7d1f4fcca776e846b7e1a1ac",
       "max": 100.0,
       "min": 0.0,
       "orientation": "horizontal",
       "style": "IPY_MODEL_6ad0edc74bfc458c8595712ed9ed6aee",
       "tabbable": null,
       "tooltip": null,
       "value": 100.0
      }
     }
    },
    "version_major": 2,
    "version_minor": 0
   }
  }
 },
 "nbformat": 4,
 "nbformat_minor": 4
}
