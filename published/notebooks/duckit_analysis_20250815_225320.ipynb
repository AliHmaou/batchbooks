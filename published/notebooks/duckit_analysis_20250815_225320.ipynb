{
 "cells": [
  {
   "cell_type": "markdown",
   "metadata": {},
   "source": [
    "# Analyse Comparative des Artistes Musicaux : Une Exploration en Profondeur\n",
    "\n",
    "L'analyse présentée dans ce notebook s'appuie sur un jeu de données issues de la plateforme Hugging Face, contenant des informations détaillées sur les chansons de divers artistes, notamment leurs paroles, les artistes, les années de sortie, les styles musicaux, et d'autres métadonnées. Le fichier source, accessible à l'adresse https://huggingface.co/spaces/alihmaou/parolesparolesparoles/resolve/main/genius_top_50_fr_rap_pop_rock_analyzed.parquet, offre une mine de données pour explorer les tendances et caractéristiques des chansons dans le paysage musical contemporain. L'objectif de cette analyse est de préparer les données pour un diagramme radar permettant de comparer les artistes sur la base de plusieurs indicateurs.\n",
    "\n",
    "Ces indicateurs incluent la vulgarité, l'engagement, la complexité lexicale et le nombre de mots dans les chansons. En calculant les moyennes de ces indicateurs par artiste et en les normalisant sur une échelle commune, nous visons à dresser un portrait comparatif des artistes. Cela facilitera la compréhension de leurs styles et approches dans la création musicale. L'analyse s'inscrit dans une démarche d'exploration de données musicales, cherchant à mettre en lumière les caractéristiques qui définissent les différents artistes et leurs œuvres.\n",
    "\n",
    "\n",
    "## Méthodologie\n",
    "\n",
    "La méthodologie adoptée dans cette analyse repose sur plusieurs étapes clés. Premièrement, nous avons utilisé DuckDB pour traiter les données stockées dans le fichier Parquet. Une requête SQL a été élaborée pour calculer les valeurs initiales pour chaque chanson en termes de vulgarité, engagement, complexité lexicale et nombre de mots. Ces valeurs ont ensuite été normalisées sur une échelle de 1 à 5 pour permettre une comparaison équitable entre les différents indicateurs. Par la suite, nous avons calculé les moyennes de ces indicateurs par artiste. Les données résultantes ont été utilisées pour créer un diagramme radar interactif à l'aide de Plotly, permettant de visualiser les caractéristiques de chaque artiste de manière comparative. Cette approche nous a permis de sélectionner les artistes avec le plus d'observations et de les représenter sur le diagramme radar."
   ]
  },
  {
   "cell_type": "markdown",
   "metadata": {},
   "source": [
    "## 🔧 Configuration"
   ]
  },
  {
   "cell_type": "code",
   "execution_count": 1,
   "metadata": {
    "execution": {
     "iopub.execute_input": "2025-08-21T09:57:28.413933Z",
     "iopub.status.busy": "2025-08-21T09:57:28.413933Z",
     "iopub.status.idle": "2025-08-21T09:57:28.996991Z",
     "shell.execute_reply": "2025-08-21T09:57:28.996991Z"
    }
   },
   "outputs": [],
   "source": [
    "# Installation et imports\n",
    "import duckdb as ddb\n",
    "import pandas as pd\n",
    "import plotly.express as px\n",
    "import plotly.graph_objects as go"
   ]
  },
  {
   "cell_type": "markdown",
   "metadata": {},
   "source": [
    "## 🦆 Chargement du dataset avec Duckdb"
   ]
  },
  {
   "cell_type": "code",
   "execution_count": 2,
   "metadata": {
    "execution": {
     "iopub.execute_input": "2025-08-21T09:57:28.996991Z",
     "iopub.status.busy": "2025-08-21T09:57:28.996991Z",
     "iopub.status.idle": "2025-08-21T09:57:31.203355Z",
     "shell.execute_reply": "2025-08-21T09:57:31.203355Z"
    }
   },
   "outputs": [
    {
     "name": "stdout",
     "output_type": "stream",
     "text": [
      "✅ Données chargées avec succès\n"
     ]
    }
   ],
   "source": [
    "# Fonction de chargement complète (basée sur load_file_from_url_lite)\n",
    "def load_file_from_url_lite(url_dataset=\"\", loader=\"read_csv_auto\", options=\"\", nom_table=\"loaded_dataset\", safe_mode=False):\n",
    "    ddb.execute(\"install spatial\")\n",
    "    ddb.execute(\"load spatial\")\n",
    "    ddb.execute(\"INSTALL h3 FROM community\")\n",
    "    ddb.execute(\"LOAD h3\")\n",
    "    ddb.execute(\"install webbed from community;\")\n",
    "    ddb.execute(\"load webbed\")\n",
    "    ddb.execute(\"set force_download=True\")\n",
    "    ddb.execute(f\"drop table if exists {nom_table}\")   \n",
    "    \n",
    "    # Détection automatique du type de fichier\n",
    "    if 'csv' in url_dataset: \n",
    "        loader = \"read_csv_auto\"\n",
    "    elif 'tsv' in url_dataset: \n",
    "        loader = \"read_csv_auto\"\n",
    "    elif 'txt' in url_dataset: \n",
    "        loader = \"read_csv_auto\"\n",
    "    elif 'parquet' in url_dataset: \n",
    "        loader = \"read_parquet\"\n",
    "    elif 'json' in url_dataset: \n",
    "        loader = \"read_json_auto\"\n",
    "    elif 'xls' in url_dataset or 'xlsx' in url_dataset: \n",
    "        loader = \"st_read\"\n",
    "    elif 'shp' in url_dataset: \n",
    "        loader = \"st_read\"\n",
    "    elif 'geojson' in url_dataset: \n",
    "        loader = \"st_read\"\n",
    "    elif 'xml' in url_dataset: \n",
    "        loader = \"read_xml\"\n",
    "    elif 'html' in url_dataset: \n",
    "        loader = \"read_html\"\n",
    "    else: \n",
    "        raise ValueError(f\"Type de fichier non supporté pour {url_dataset}\")\n",
    "    \n",
    "    if options==\"\": \n",
    "        options = \"\" \n",
    "    if 'csv' in url_dataset and safe_mode==True: \n",
    "        options = \", all_varchar=1\" \n",
    "    if nom_table==\"\": \n",
    "        nom_table = \"loaded_dataset\"\n",
    "    \n",
    "    try:\n",
    "        status = ddb.sql(f\"\"\"\n",
    "            create or replace table {nom_table} as select *\n",
    "            from\n",
    "            {loader}(\"{url_dataset}\" {options})\n",
    "        \"\"\")\n",
    "        return status\n",
    "    except Exception as e:\n",
    "        return f\"Erreur au chargement du fichier : {str(e)}\"\n",
    "\n",
    "def run_query(sql):\n",
    "    return ddb.sql(sql.replace(\"`\",\" \")).to_df()\n",
    "\n",
    "# Chargement des données\n",
    "load_file_from_url_lite(\"https://huggingface.co/spaces/alihmaou/parolesparolesparoles/resolve/main/genius_top_50_fr_rap_pop_rock_analyzed.parquet\", safe_mode=True)\n",
    "print(\"✅ Données chargées avec succès\")"
   ]
  },
  {
   "cell_type": "markdown",
   "metadata": {},
   "source": [
    "## 🔍 Analyse SQL\n",
    "\n",
    "Cette requête utilise des techniques SQL pour extraire et transformer les données de manière efficace."
   ]
  },
  {
   "cell_type": "code",
   "execution_count": 3,
   "metadata": {
    "execution": {
     "iopub.execute_input": "2025-08-21T09:57:31.219272Z",
     "iopub.status.busy": "2025-08-21T09:57:31.219272Z",
     "iopub.status.idle": "2025-08-21T09:57:31.250822Z",
     "shell.execute_reply": "2025-08-21T09:57:31.250822Z"
    }
   },
   "outputs": [
    {
     "name": "stdout",
     "output_type": "stream",
     "text": [
      "Résultats : 1281 lignes\n"
     ]
    },
    {
     "data": {
      "text/html": [
       "<div>\n",
       "<style scoped>\n",
       "    .dataframe tbody tr th:only-of-type {\n",
       "        vertical-align: middle;\n",
       "    }\n",
       "\n",
       "    .dataframe tbody tr th {\n",
       "        vertical-align: top;\n",
       "    }\n",
       "\n",
       "    .dataframe thead th {\n",
       "        text-align: right;\n",
       "    }\n",
       "</style>\n",
       "<table border=\"1\" class=\"dataframe\">\n",
       "  <thead>\n",
       "    <tr style=\"text-align: right;\">\n",
       "      <th></th>\n",
       "      <th>artiste</th>\n",
       "      <th>vulgarite_moy</th>\n",
       "      <th>engagement_moy</th>\n",
       "      <th>complexite_lexicale_moy</th>\n",
       "      <th>nombre_mots_moy</th>\n",
       "    </tr>\n",
       "  </thead>\n",
       "  <tbody>\n",
       "    <tr>\n",
       "      <th>0</th>\n",
       "      <td>-M-</td>\n",
       "      <td>0.500000</td>\n",
       "      <td>1.000000</td>\n",
       "      <td>3.000000</td>\n",
       "      <td>3.05000</td>\n",
       "    </tr>\n",
       "    <tr>\n",
       "      <th>1</th>\n",
       "      <td>-M- (FRA)</td>\n",
       "      <td>0.666667</td>\n",
       "      <td>1.222222</td>\n",
       "      <td>2.777778</td>\n",
       "      <td>3.37963</td>\n",
       "    </tr>\n",
       "    <tr>\n",
       "      <th>2</th>\n",
       "      <td>113</td>\n",
       "      <td>2.200000</td>\n",
       "      <td>2.800000</td>\n",
       "      <td>3.000000</td>\n",
       "      <td>5.00000</td>\n",
       "    </tr>\n",
       "    <tr>\n",
       "      <th>3</th>\n",
       "      <td>13 Organis</td>\n",
       "      <td>3.500000</td>\n",
       "      <td>3.000000</td>\n",
       "      <td>3.000000</td>\n",
       "      <td>5.00000</td>\n",
       "    </tr>\n",
       "    <tr>\n",
       "      <th>4</th>\n",
       "      <td>1PLIK140</td>\n",
       "      <td>4.000000</td>\n",
       "      <td>2.000000</td>\n",
       "      <td>3.000000</td>\n",
       "      <td>5.00000</td>\n",
       "    </tr>\n",
       "  </tbody>\n",
       "</table>\n",
       "</div>"
      ],
      "text/plain": [
       "      artiste  vulgarite_moy  engagement_moy  complexite_lexicale_moy  \\\n",
       "0         -M-       0.500000        1.000000                 3.000000   \n",
       "1   -M- (FRA)       0.666667        1.222222                 2.777778   \n",
       "2         113       2.200000        2.800000                 3.000000   \n",
       "3  13 Organis       3.500000        3.000000                 3.000000   \n",
       "4    1PLIK140       4.000000        2.000000                 3.000000   \n",
       "\n",
       "   nombre_mots_moy  \n",
       "0          3.05000  \n",
       "1          3.37963  \n",
       "2          5.00000  \n",
       "3          5.00000  \n",
       "4          5.00000  "
      ]
     },
     "execution_count": 3,
     "metadata": {},
     "output_type": "execute_result"
    }
   ],
   "source": [
    "# Exécution de la requête\n",
    "df = run_query(\"\"\" WITH \n",
    "  -- Calculer les valeurs initiales pour chaque chanson\n",
    "  chanson AS (\n",
    "    SELECT \n",
    "      \"artiste\",\n",
    "      CAST(\"vulgarite\" AS DOUBLE) AS vulgarite,\n",
    "      CASE \n",
    "        WHEN \"message_politique\" = 'élevé' THEN 5\n",
    "        WHEN \"message_politique\" = 'fort' THEN 5\n",
    "        WHEN \"message_politique\" = 'moyen' THEN 3\n",
    "        WHEN \"message_politique\" = 'faible' THEN 1\n",
    "        ELSE 1\n",
    "      END AS engagement,\n",
    "      CASE \n",
    "        WHEN \"complexite_lexicale\" = 'élevé' THEN 5\n",
    "        WHEN \"complexite_lexicale\" = 'moyen' THEN 3\n",
    "        WHEN \"complexite_lexicale\" = 'faible' THEN 1\n",
    "        ELSE 1\n",
    "      END AS complexite_lexicale,\n",
    "      CAST(\"nombre_mots\" AS DOUBLE) AS nombre_mots\n",
    "    FROM loaded_dataset\n",
    "  ),\n",
    "  -- Normaliser les indicateurs sur une échelle de 1 à 5\n",
    "  indicateurs AS (\n",
    "    SELECT \n",
    "      \"artiste\",\n",
    "      -- Vulgarité est déjà sur une échelle de 0 à 10, on ajuste à 1-5\n",
    "      (vulgarite / 2) + 0.5 AS vulgarite,\n",
    "      engagement,\n",
    "      complexite_lexicale,\n",
    "      -- Normaliser nombre_mots  supposons que min=0 et max=300 (selon aperçu)\n",
    "      LEAST(5, GREATEST(1, (nombre_mots / 60) + 1)) AS nombre_mots\n",
    "    FROM chanson\n",
    "  ),\n",
    "  -- Calculer les moyennes par artiste\n",
    "  moyennes_artistes AS (\n",
    "    SELECT \n",
    "      \"artiste\",\n",
    "      AVG(vulgarite) AS vulgarite_moy,\n",
    "      AVG(engagement) AS engagement_moy,\n",
    "      AVG(complexite_lexicale) AS complexite_lexicale_moy,\n",
    "      AVG(nombre_mots) AS nombre_mots_moy\n",
    "    FROM indicateurs\n",
    "    GROUP BY \"artiste\"\n",
    "  )\n",
    "SELECT \n",
    "  \"artiste\",\n",
    "  vulgarite_moy,\n",
    "  engagement_moy,\n",
    "  complexite_lexicale_moy,\n",
    "  nombre_mots_moy\n",
    "FROM moyennes_artistes\n",
    "ORDER BY \"artiste\" \"\"\")\n",
    "print(f\"Résultats : {len(df)} lignes\")\n",
    "df.head()"
   ]
  },
  {
   "cell_type": "markdown",
   "metadata": {},
   "source": [
    "## 📈 Visualisation\n",
    "\n",
    "La bibliothèque principale utilisée est Plotly, qui est idéale pour créer des visualisations de données interactives et dynamiques. Le diagramme radar choisi permet de comparer les artistes sur plusieurs critères de style de manière claire et visuelle. Cela convient parfaitement pour une analyse comparative des caractéristiques des artistes musicaux."
   ]
  },
  {
   "cell_type": "code",
   "execution_count": 4,
   "metadata": {
    "execution": {
     "iopub.execute_input": "2025-08-21T09:57:31.250822Z",
     "iopub.status.busy": "2025-08-21T09:57:31.250822Z",
     "iopub.status.idle": "2025-08-21T09:57:33.038616Z",
     "shell.execute_reply": "2025-08-21T09:57:33.038616Z"
    }
   },
   "outputs": [
    {
     "data": {
      "application/vnd.plotly.v1+json": {
       "config": {
        "plotlyServerURL": "https://plot.ly"
       },
       "data": [
        {
         "fill": "toself",
         "fillcolor": "rgb(141,211,199)",
         "hovertemplate": "<b>%{fullData.name}</b><br>%{theta}: %{r:.2f}<br><extra></extra>",
         "line": {
          "color": "rgb(141,211,199)"
         },
         "name": "Zazie",
         "opacity": 0.6,
         "r": {
          "bdata": "IiIiIiIi8j+rqqqqqqr6PwAAAAAAAAhAAAAAAAAAEkA=",
          "dtype": "f8"
         },
         "theta": [
          "Vulgarité",
          "Engagement",
          "Complexité lexicale",
          "Nombre de mots"
         ],
         "type": "scatterpolar"
        },
        {
         "fill": "toself",
         "fillcolor": "rgb(255,255,179)",
         "hovertemplate": "<b>%{fullData.name}</b><br>%{theta}: %{r:.2f}<br><extra></extra>",
         "line": {
          "color": "rgb(255,255,179)"
         },
         "name": "Zbigniew Preisner",
         "opacity": 0.6,
         "r": {
          "bdata": "AAAAAAAA8D8AAAAAAADwPwAAAAAAABRA7iO4j+A+EkA=",
          "dtype": "f8"
         },
         "theta": [
          "Vulgarité",
          "Engagement",
          "Complexité lexicale",
          "Nombre de mots"
         ],
         "type": "scatterpolar"
        },
        {
         "fill": "toself",
         "fillcolor": "rgb(190,186,218)",
         "hovertemplate": "<b>%{fullData.name}</b><br>%{theta}: %{r:.2f}<br><extra></extra>",
         "line": {
          "color": "rgb(190,186,218)"
         },
         "name": "Zbulon",
         "opacity": 0.6,
         "r": {
          "bdata": "iYiIiIiI+D8AAAAAAADwPwAAAAAAAAhA0llMZzGdEUA=",
          "dtype": "f8"
         },
         "theta": [
          "Vulgarité",
          "Engagement",
          "Complexité lexicale",
          "Nombre de mots"
         ],
         "type": "scatterpolar"
        },
        {
         "fill": "toself",
         "fillcolor": "rgb(251,128,114)",
         "hovertemplate": "<b>%{fullData.name}</b><br>%{theta}: %{r:.2f}<br><extra></extra>",
         "line": {
          "color": "rgb(251,128,114)"
         },
         "name": "Zebda",
         "opacity": 0.6,
         "r": {
          "bdata": "mpmZmZmZ+T8AAAAAAAAIQAAAAAAAAAhAU1tJbSW1E0A=",
          "dtype": "f8"
         },
         "theta": [
          "Vulgarité",
          "Engagement",
          "Complexité lexicale",
          "Nombre de mots"
         ],
         "type": "scatterpolar"
        },
        {
         "fill": "toself",
         "fillcolor": "rgb(128,177,211)",
         "hovertemplate": "<b>%{fullData.name}</b><br>%{theta}: %{r:.2f}<br><extra></extra>",
         "line": {
          "color": "rgb(128,177,211)"
         },
         "name": "Zen Bamboo",
         "opacity": 0.6,
         "r": {
          "bdata": "mpmZmZmZ+T8AAAAAAADwPwAAAAAAABBAXkN5DeU1EkA=",
          "dtype": "f8"
         },
         "theta": [
          "Vulgarité",
          "Engagement",
          "Complexité lexicale",
          "Nombre de mots"
         ],
         "type": "scatterpolar"
        },
        {
         "fill": "toself",
         "fillcolor": "rgb(253,180,98)",
         "hovertemplate": "<b>%{fullData.name}</b><br>%{theta}: %{r:.2f}<br><extra></extra>",
         "line": {
          "color": "rgb(253,180,98)"
         },
         "name": "ZeratoR",
         "opacity": 0.6,
         "r": {
          "bdata": "AAAAAAAACEAAAAAAAADwPwAAAAAAAAhAy2sor6G8DkA=",
          "dtype": "f8"
         },
         "theta": [
          "Vulgarité",
          "Engagement",
          "Complexité lexicale",
          "Nombre de mots"
         ],
         "type": "scatterpolar"
        },
        {
         "fill": "toself",
         "fillcolor": "rgb(179,222,105)",
         "hovertemplate": "<b>%{fullData.name}</b><br>%{theta}: %{r:.2f}<br><extra></extra>",
         "line": {
          "color": "rgb(179,222,105)"
         },
         "name": "Ziak",
         "opacity": 0.6,
         "r": {
          "bdata": "ZmZmZmZmDkCrqqqqqqoCQFVVVVVVVQ1AAAAAAAAAFEA=",
          "dtype": "f8"
         },
         "theta": [
          "Vulgarité",
          "Engagement",
          "Complexité lexicale",
          "Nombre de mots"
         ],
         "type": "scatterpolar"
        },
        {
         "fill": "toself",
         "fillcolor": "rgb(252,205,229)",
         "hovertemplate": "<b>%{fullData.name}</b><br>%{theta}: %{r:.2f}<br><extra></extra>",
         "line": {
          "color": "rgb(252,205,229)"
         },
         "name": "Zola",
         "opacity": 0.6,
         "r": {
          "bdata": "ZmZmZmZmDkAAAAAAAADwPwAAAAAAAAhAAAAAAAAAFEA=",
          "dtype": "f8"
         },
         "theta": [
          "Vulgarité",
          "Engagement",
          "Complexité lexicale",
          "Nombre de mots"
         ],
         "type": "scatterpolar"
        },
        {
         "fill": "toself",
         "fillcolor": "rgb(217,217,217)",
         "hovertemplate": "<b>%{fullData.name}</b><br>%{theta}: %{r:.2f}<br><extra></extra>",
         "line": {
          "color": "rgb(217,217,217)"
         },
         "name": "Zoufris Maracas",
         "opacity": 0.6,
         "r": {
          "bdata": "zczMzMzM/D8AAAAAAAAAQAAAAAAAAABAEtxHcB/BE0A=",
          "dtype": "f8"
         },
         "theta": [
          "Vulgarité",
          "Engagement",
          "Complexité lexicale",
          "Nombre de mots"
         ],
         "type": "scatterpolar"
        },
        {
         "fill": "toself",
         "fillcolor": "rgb(188,128,189)",
         "hovertemplate": "<b>%{fullData.name}</b><br>%{theta}: %{r:.2f}<br><extra></extra>",
         "line": {
          "color": "rgb(188,128,189)"
         },
         "name": "Étienne Daho",
         "opacity": 0.6,
         "r": {
          "bdata": "AAAAAAAA8D8AAAAAAADwPwAAAAAAAARAFtNZTGcxEEA=",
          "dtype": "f8"
         },
         "theta": [
          "Vulgarité",
          "Engagement",
          "Complexité lexicale",
          "Nombre de mots"
         ],
         "type": "scatterpolar"
        }
       ],
       "layout": {
        "height": 600,
        "legend": {
         "font": {
          "size": 12
         },
         "x": 1.1,
         "y": 0.5
        },
        "margin": {
         "b": 50,
         "l": 50,
         "r": 150,
         "t": 100
        },
        "polar": {
         "angularaxis": {
          "tickfont": {
           "family": "Arial Black",
           "size": 14
          }
         },
         "radialaxis": {
          "range": [
           1,
           5
          ],
          "tickfont": {
           "size": 12
          },
          "visible": true
         }
        },
        "showlegend": true,
        "template": {
         "data": {
          "bar": [
           {
            "error_x": {
             "color": "#2a3f5f"
            },
            "error_y": {
             "color": "#2a3f5f"
            },
            "marker": {
             "line": {
              "color": "#E5ECF6",
              "width": 0.5
             },
             "pattern": {
              "fillmode": "overlay",
              "size": 10,
              "solidity": 0.2
             }
            },
            "type": "bar"
           }
          ],
          "barpolar": [
           {
            "marker": {
             "line": {
              "color": "#E5ECF6",
              "width": 0.5
             },
             "pattern": {
              "fillmode": "overlay",
              "size": 10,
              "solidity": 0.2
             }
            },
            "type": "barpolar"
           }
          ],
          "carpet": [
           {
            "aaxis": {
             "endlinecolor": "#2a3f5f",
             "gridcolor": "white",
             "linecolor": "white",
             "minorgridcolor": "white",
             "startlinecolor": "#2a3f5f"
            },
            "baxis": {
             "endlinecolor": "#2a3f5f",
             "gridcolor": "white",
             "linecolor": "white",
             "minorgridcolor": "white",
             "startlinecolor": "#2a3f5f"
            },
            "type": "carpet"
           }
          ],
          "choropleth": [
           {
            "colorbar": {
             "outlinewidth": 0,
             "ticks": ""
            },
            "type": "choropleth"
           }
          ],
          "contour": [
           {
            "colorbar": {
             "outlinewidth": 0,
             "ticks": ""
            },
            "colorscale": [
             [
              0.0,
              "#0d0887"
             ],
             [
              0.1111111111111111,
              "#46039f"
             ],
             [
              0.2222222222222222,
              "#7201a8"
             ],
             [
              0.3333333333333333,
              "#9c179e"
             ],
             [
              0.4444444444444444,
              "#bd3786"
             ],
             [
              0.5555555555555556,
              "#d8576b"
             ],
             [
              0.6666666666666666,
              "#ed7953"
             ],
             [
              0.7777777777777778,
              "#fb9f3a"
             ],
             [
              0.8888888888888888,
              "#fdca26"
             ],
             [
              1.0,
              "#f0f921"
             ]
            ],
            "type": "contour"
           }
          ],
          "contourcarpet": [
           {
            "colorbar": {
             "outlinewidth": 0,
             "ticks": ""
            },
            "type": "contourcarpet"
           }
          ],
          "heatmap": [
           {
            "colorbar": {
             "outlinewidth": 0,
             "ticks": ""
            },
            "colorscale": [
             [
              0.0,
              "#0d0887"
             ],
             [
              0.1111111111111111,
              "#46039f"
             ],
             [
              0.2222222222222222,
              "#7201a8"
             ],
             [
              0.3333333333333333,
              "#9c179e"
             ],
             [
              0.4444444444444444,
              "#bd3786"
             ],
             [
              0.5555555555555556,
              "#d8576b"
             ],
             [
              0.6666666666666666,
              "#ed7953"
             ],
             [
              0.7777777777777778,
              "#fb9f3a"
             ],
             [
              0.8888888888888888,
              "#fdca26"
             ],
             [
              1.0,
              "#f0f921"
             ]
            ],
            "type": "heatmap"
           }
          ],
          "histogram": [
           {
            "marker": {
             "pattern": {
              "fillmode": "overlay",
              "size": 10,
              "solidity": 0.2
             }
            },
            "type": "histogram"
           }
          ],
          "histogram2d": [
           {
            "colorbar": {
             "outlinewidth": 0,
             "ticks": ""
            },
            "colorscale": [
             [
              0.0,
              "#0d0887"
             ],
             [
              0.1111111111111111,
              "#46039f"
             ],
             [
              0.2222222222222222,
              "#7201a8"
             ],
             [
              0.3333333333333333,
              "#9c179e"
             ],
             [
              0.4444444444444444,
              "#bd3786"
             ],
             [
              0.5555555555555556,
              "#d8576b"
             ],
             [
              0.6666666666666666,
              "#ed7953"
             ],
             [
              0.7777777777777778,
              "#fb9f3a"
             ],
             [
              0.8888888888888888,
              "#fdca26"
             ],
             [
              1.0,
              "#f0f921"
             ]
            ],
            "type": "histogram2d"
           }
          ],
          "histogram2dcontour": [
           {
            "colorbar": {
             "outlinewidth": 0,
             "ticks": ""
            },
            "colorscale": [
             [
              0.0,
              "#0d0887"
             ],
             [
              0.1111111111111111,
              "#46039f"
             ],
             [
              0.2222222222222222,
              "#7201a8"
             ],
             [
              0.3333333333333333,
              "#9c179e"
             ],
             [
              0.4444444444444444,
              "#bd3786"
             ],
             [
              0.5555555555555556,
              "#d8576b"
             ],
             [
              0.6666666666666666,
              "#ed7953"
             ],
             [
              0.7777777777777778,
              "#fb9f3a"
             ],
             [
              0.8888888888888888,
              "#fdca26"
             ],
             [
              1.0,
              "#f0f921"
             ]
            ],
            "type": "histogram2dcontour"
           }
          ],
          "mesh3d": [
           {
            "colorbar": {
             "outlinewidth": 0,
             "ticks": ""
            },
            "type": "mesh3d"
           }
          ],
          "parcoords": [
           {
            "line": {
             "colorbar": {
              "outlinewidth": 0,
              "ticks": ""
             }
            },
            "type": "parcoords"
           }
          ],
          "pie": [
           {
            "automargin": true,
            "type": "pie"
           }
          ],
          "scatter": [
           {
            "fillpattern": {
             "fillmode": "overlay",
             "size": 10,
             "solidity": 0.2
            },
            "type": "scatter"
           }
          ],
          "scatter3d": [
           {
            "line": {
             "colorbar": {
              "outlinewidth": 0,
              "ticks": ""
             }
            },
            "marker": {
             "colorbar": {
              "outlinewidth": 0,
              "ticks": ""
             }
            },
            "type": "scatter3d"
           }
          ],
          "scattercarpet": [
           {
            "marker": {
             "colorbar": {
              "outlinewidth": 0,
              "ticks": ""
             }
            },
            "type": "scattercarpet"
           }
          ],
          "scattergeo": [
           {
            "marker": {
             "colorbar": {
              "outlinewidth": 0,
              "ticks": ""
             }
            },
            "type": "scattergeo"
           }
          ],
          "scattergl": [
           {
            "marker": {
             "colorbar": {
              "outlinewidth": 0,
              "ticks": ""
             }
            },
            "type": "scattergl"
           }
          ],
          "scattermap": [
           {
            "marker": {
             "colorbar": {
              "outlinewidth": 0,
              "ticks": ""
             }
            },
            "type": "scattermap"
           }
          ],
          "scattermapbox": [
           {
            "marker": {
             "colorbar": {
              "outlinewidth": 0,
              "ticks": ""
             }
            },
            "type": "scattermapbox"
           }
          ],
          "scatterpolar": [
           {
            "marker": {
             "colorbar": {
              "outlinewidth": 0,
              "ticks": ""
             }
            },
            "type": "scatterpolar"
           }
          ],
          "scatterpolargl": [
           {
            "marker": {
             "colorbar": {
              "outlinewidth": 0,
              "ticks": ""
             }
            },
            "type": "scatterpolargl"
           }
          ],
          "scatterternary": [
           {
            "marker": {
             "colorbar": {
              "outlinewidth": 0,
              "ticks": ""
             }
            },
            "type": "scatterternary"
           }
          ],
          "surface": [
           {
            "colorbar": {
             "outlinewidth": 0,
             "ticks": ""
            },
            "colorscale": [
             [
              0.0,
              "#0d0887"
             ],
             [
              0.1111111111111111,
              "#46039f"
             ],
             [
              0.2222222222222222,
              "#7201a8"
             ],
             [
              0.3333333333333333,
              "#9c179e"
             ],
             [
              0.4444444444444444,
              "#bd3786"
             ],
             [
              0.5555555555555556,
              "#d8576b"
             ],
             [
              0.6666666666666666,
              "#ed7953"
             ],
             [
              0.7777777777777778,
              "#fb9f3a"
             ],
             [
              0.8888888888888888,
              "#fdca26"
             ],
             [
              1.0,
              "#f0f921"
             ]
            ],
            "type": "surface"
           }
          ],
          "table": [
           {
            "cells": {
             "fill": {
              "color": "#EBF0F8"
             },
             "line": {
              "color": "white"
             }
            },
            "header": {
             "fill": {
              "color": "#C8D4E3"
             },
             "line": {
              "color": "white"
             }
            },
            "type": "table"
           }
          ]
         },
         "layout": {
          "annotationdefaults": {
           "arrowcolor": "#2a3f5f",
           "arrowhead": 0,
           "arrowwidth": 1
          },
          "autotypenumbers": "strict",
          "coloraxis": {
           "colorbar": {
            "outlinewidth": 0,
            "ticks": ""
           }
          },
          "colorscale": {
           "diverging": [
            [
             0,
             "#8e0152"
            ],
            [
             0.1,
             "#c51b7d"
            ],
            [
             0.2,
             "#de77ae"
            ],
            [
             0.3,
             "#f1b6da"
            ],
            [
             0.4,
             "#fde0ef"
            ],
            [
             0.5,
             "#f7f7f7"
            ],
            [
             0.6,
             "#e6f5d0"
            ],
            [
             0.7,
             "#b8e186"
            ],
            [
             0.8,
             "#7fbc41"
            ],
            [
             0.9,
             "#4d9221"
            ],
            [
             1,
             "#276419"
            ]
           ],
           "sequential": [
            [
             0.0,
             "#0d0887"
            ],
            [
             0.1111111111111111,
             "#46039f"
            ],
            [
             0.2222222222222222,
             "#7201a8"
            ],
            [
             0.3333333333333333,
             "#9c179e"
            ],
            [
             0.4444444444444444,
             "#bd3786"
            ],
            [
             0.5555555555555556,
             "#d8576b"
            ],
            [
             0.6666666666666666,
             "#ed7953"
            ],
            [
             0.7777777777777778,
             "#fb9f3a"
            ],
            [
             0.8888888888888888,
             "#fdca26"
            ],
            [
             1.0,
             "#f0f921"
            ]
           ],
           "sequentialminus": [
            [
             0.0,
             "#0d0887"
            ],
            [
             0.1111111111111111,
             "#46039f"
            ],
            [
             0.2222222222222222,
             "#7201a8"
            ],
            [
             0.3333333333333333,
             "#9c179e"
            ],
            [
             0.4444444444444444,
             "#bd3786"
            ],
            [
             0.5555555555555556,
             "#d8576b"
            ],
            [
             0.6666666666666666,
             "#ed7953"
            ],
            [
             0.7777777777777778,
             "#fb9f3a"
            ],
            [
             0.8888888888888888,
             "#fdca26"
            ],
            [
             1.0,
             "#f0f921"
            ]
           ]
          },
          "colorway": [
           "#636efa",
           "#EF553B",
           "#00cc96",
           "#ab63fa",
           "#FFA15A",
           "#19d3f3",
           "#FF6692",
           "#B6E880",
           "#FF97FF",
           "#FECB52"
          ],
          "font": {
           "color": "#2a3f5f"
          },
          "geo": {
           "bgcolor": "white",
           "lakecolor": "white",
           "landcolor": "#E5ECF6",
           "showlakes": true,
           "showland": true,
           "subunitcolor": "white"
          },
          "hoverlabel": {
           "align": "left"
          },
          "hovermode": "closest",
          "mapbox": {
           "style": "light"
          },
          "paper_bgcolor": "white",
          "plot_bgcolor": "#E5ECF6",
          "polar": {
           "angularaxis": {
            "gridcolor": "white",
            "linecolor": "white",
            "ticks": ""
           },
           "bgcolor": "#E5ECF6",
           "radialaxis": {
            "gridcolor": "white",
            "linecolor": "white",
            "ticks": ""
           }
          },
          "scene": {
           "xaxis": {
            "backgroundcolor": "#E5ECF6",
            "gridcolor": "white",
            "gridwidth": 2,
            "linecolor": "white",
            "showbackground": true,
            "ticks": "",
            "zerolinecolor": "white"
           },
           "yaxis": {
            "backgroundcolor": "#E5ECF6",
            "gridcolor": "white",
            "gridwidth": 2,
            "linecolor": "white",
            "showbackground": true,
            "ticks": "",
            "zerolinecolor": "white"
           },
           "zaxis": {
            "backgroundcolor": "#E5ECF6",
            "gridcolor": "white",
            "gridwidth": 2,
            "linecolor": "white",
            "showbackground": true,
            "ticks": "",
            "zerolinecolor": "white"
           }
          },
          "shapedefaults": {
           "line": {
            "color": "#2a3f5f"
           }
          },
          "ternary": {
           "aaxis": {
            "gridcolor": "white",
            "linecolor": "white",
            "ticks": ""
           },
           "baxis": {
            "gridcolor": "white",
            "linecolor": "white",
            "ticks": ""
           },
           "bgcolor": "#E5ECF6",
           "caxis": {
            "gridcolor": "white",
            "linecolor": "white",
            "ticks": ""
           }
          },
          "title": {
           "x": 0.05
          },
          "xaxis": {
           "automargin": true,
           "gridcolor": "white",
           "linecolor": "white",
           "ticks": "",
           "title": {
            "standoff": 15
           },
           "zerolinecolor": "white",
           "zerolinewidth": 2
          },
          "yaxis": {
           "automargin": true,
           "gridcolor": "white",
           "linecolor": "white",
           "ticks": "",
           "title": {
            "standoff": 15
           },
           "zerolinecolor": "white",
           "zerolinewidth": 2
          }
         }
        },
        "title": {
         "font": {
          "family": "Arial Black",
          "size": 20
         },
         "text": "Analyse comparative des artistes musicaux : Diagramme radar des indicateurs de style",
         "x": 0.5
        },
        "width": 800
       }
      }
     },
     "metadata": {},
     "output_type": "display_data"
    }
   ],
   "source": [
    "import pandas as pd\n",
    "import duckdb as ddb\n",
    "import pandas as pd\n",
    "import plotly.graph_objects as go\n",
    "import plotly.express as px\n",
    "from plotly.subplots import make_subplots\n",
    "\n",
    "# Préparation des données\n",
    "df_artiste = df.groupby('artiste')[['vulgarite_moy', 'engagement_moy', 'complexite_lexicale_moy', 'nombre_mots_moy']].mean().reset_index()\n",
    "\n",
    "# Normalisation des valeurs entre 1 et 5\n",
    "for col in ['vulgarite_moy', 'engagement_moy', 'complexite_lexicale_moy', 'nombre_mots_moy']:\n",
    "    df_artiste[col] = ((df_artiste[col] - df_artiste[col].min()) / (df_artiste[col].max() - df_artiste[col].min())) * 4 + 1\n",
    "\n",
    "categories = ['Vulgarité', 'Engagement', 'Complexité lexicale', 'Nombre de mots']\n",
    "max_artists = 10\n",
    "\n",
    "# Sélection des artistes avec les plus d'observations\n",
    "top_artists = df['artiste'].value_counts().nlargest(max_artists).index\n",
    "df_filtered = df_artiste[df_artiste['artiste'].isin(top_artists)]\n",
    "\n",
    "# Création du diagramme radar interactif\n",
    "colors = px.colors.qualitative.Set3\n",
    "\n",
    "dataviz = go.Figure()\n",
    "\n",
    "for idx, artiste in enumerate(df_filtered['artiste']):\n",
    "    values = df_filtered[df_filtered['artiste'] == artiste][['vulgarite_moy', 'engagement_moy', 'complexite_lexicale_moy', 'nombre_mots_moy']].values.flatten()\n",
    "    \n",
    "    dataviz.add_trace(go.Scatterpolar(\n",
    "        r=values,\n",
    "        theta=categories,\n",
    "        fill='toself',\n",
    "        name=artiste,\n",
    "        line_color=colors[idx % len(colors)],\n",
    "        fillcolor=colors[idx % len(colors)],\n",
    "        opacity=0.6,\n",
    "        hovertemplate='<b>%{fullData.name}</b><br>' +\n",
    "                      '%{theta}: %{r:.2f}<br>' +\n",
    "                      '<extra></extra>'\n",
    "    ))\n",
    "\n",
    "dataviz.update_layout(\n",
    "    title=dict(\n",
    "        text=\"Analyse comparative des artistes musicaux : Diagramme radar des indicateurs de style\",\n",
    "        x=0.5,\n",
    "        font=dict(size=20, family=\"Arial Black\")\n",
    "    ),\n",
    "    polar=dict(\n",
    "        radialaxis=dict(\n",
    "            visible=True,\n",
    "            range=[1, 5],\n",
    "            tickfont=dict(size=12)\n",
    "        ),\n",
    "        angularaxis=dict(\n",
    "            tickfont=dict(size=14, family=\"Arial Black\")\n",
    "        )\n",
    "    ),\n",
    "    showlegend=True,\n",
    "    legend=dict(\n",
    "        x=1.1,\n",
    "        y=0.5,\n",
    "        font=dict(size=12)\n",
    "    ),\n",
    "    margin=dict(l=50, r=150, t=100, b=50),\n",
    "    width=800,\n",
    "    height=600\n",
    ")\n",
    "\n",
    "# Ajout d'annotation interactive\n",
    "dataviz.update_annotations()\n",
    "dataviz"
   ]
  },
  {
   "cell_type": "markdown",
   "metadata": {},
   "source": [
    "---\n",
    "*Made with ❤️ and with [duckit.fr](https://duckit.fr) - [Ali Hmaou](https://www.linkedin.com/in/ali-hmaou-6b7b73146/)*"
   ]
  },
  {
   "cell_type": "code",
   "execution_count": 5,
   "metadata": {
    "execution": {
     "iopub.execute_input": "2025-08-21T09:57:33.038616Z",
     "iopub.status.busy": "2025-08-21T09:57:33.038616Z",
     "iopub.status.idle": "2025-08-21T09:57:36.610240Z",
     "shell.execute_reply": "2025-08-21T09:57:36.610240Z"
    }
   },
   "outputs": [
    {
     "name": "stdout",
     "output_type": "stream",
     "text": [
      "INFO: Variable 'dataviz' trouvée. Tentative d'exportation...\n",
      "--> Détecté : Plotly. Sauvegarde HTML et PNG.\n",
      "--> Sauvegarde HTML dans : published\\notebooks\\duckit_analysis_20250815_225320.html\n",
      "--> Tentative de sauvegarde PNG directe dans : published\\notebooks\\duckit_analysis_20250815_225320.png\n"
     ]
    },
    {
     "name": "stdout",
     "output_type": "stream",
     "text": [
      "--> Image Plotly sauvegardée avec succès.\n"
     ]
    }
   ],
   "source": [
    "\n",
    "# --- Variables injectées par le script ---\n",
    "FINAL_OBJECT_VARIABLE_NAME = 'dataviz'\n",
    "OUTPUT_IMAGE_NAME = 'published\\\\notebooks\\\\duckit_analysis_20250815_225320.png'\n",
    "OUTPUT_HTML_NAME = 'published\\\\notebooks\\\\duckit_analysis_20250815_225320.html'\n",
    "\n",
    "# ===================================================================\n",
    "# CELLULE INJECTÉE AUTOMATIQUEMENT (VERSION ROBUSTE)\n",
    "# ===================================================================\n",
    "import sys\n",
    "import os\n",
    "# On importe les modules nécessaires pour l'export au cas où\n",
    "try:\n",
    "    from bokeh.io import save as bokeh_save\n",
    "except ImportError:\n",
    "    bokeh_save = None\n",
    "\n",
    "try:\n",
    "    # On s'assure que le dossier de sortie existe\n",
    "    output_dir = os.path.dirname(OUTPUT_IMAGE_NAME)\n",
    "    if output_dir:\n",
    "        os.makedirs(output_dir, exist_ok=True)\n",
    "\n",
    "    # On utilise globals().get() pour une récupération plus sûre\n",
    "    final_object = globals().get(FINAL_OBJECT_VARIABLE_NAME)\n",
    "\n",
    "    if final_object is None:\n",
    "        # On lève une NameError pour être cohérent avec le code original\n",
    "        raise NameError(f\"name '{FINAL_OBJECT_VARIABLE_NAME}' is not defined\")\n",
    "\n",
    "    print(f\"INFO: Variable '{FINAL_OBJECT_VARIABLE_NAME}' trouvée. Tentative d'exportation...\")\n",
    "\n",
    "    object_type = str(type(final_object))\n",
    "\n",
    "    if 'plotly.graph_objs._figure.Figure' in object_type:\n",
    "        print(f\"--> Détecté : Plotly. Sauvegarde HTML et PNG.\")\n",
    "        # 1. Sauvegarde HTML pour l'interactivité\n",
    "        print(f\"--> Sauvegarde HTML dans : {OUTPUT_HTML_NAME}\")\n",
    "        final_object.write_html(OUTPUT_HTML_NAME, include_plotlyjs='cdn')\n",
    "        # 2. Sauvegarde PNG pour l'aperçu statique\n",
    "        try:\n",
    "            print(f\"--> Tentative de sauvegarde PNG directe dans : {OUTPUT_IMAGE_NAME}\")\n",
    "            final_object.write_image(OUTPUT_IMAGE_NAME, scale=3, width=1200, height=800)\n",
    "            print(f\"--> Image Plotly sauvegardée avec succès.\")\n",
    "        except Exception as e:\n",
    "            print(f\"AVERTISSEMENT: La sauvegarde directe en PNG a échoué (kaleido est-il installé?).\", file=sys.stderr)\n",
    "            print(f\"   Erreur: {e}\", file=sys.stderr)\n",
    "            print(f\"--> PLAN B: On va utiliser la capture d'écran du HTML à la place.\")\n",
    "            # On crée un fichier marqueur pour que le script de post-traitement prenne le relais\n",
    "            with open(f\"{OUTPUT_HTML_NAME}.needs_screenshot\", \"w\") as f:\n",
    "                f.write(\"plotly\")\n",
    "    elif 'folium.folium.Map' in object_type:\n",
    "        print(f\"--> Détecté : Folium. Sauvegarde HTML dans : {OUTPUT_HTML_NAME}\")\n",
    "        final_object.save(OUTPUT_HTML_NAME)\n",
    "        # On crée un fichier marqueur générique pour la capture d'écran\n",
    "        print(f\"--> Création du marqueur de capture d'écran.\")\n",
    "        with open(f\"{OUTPUT_HTML_NAME}.needs_screenshot\", \"w\") as f:\n",
    "            f.write(\"folium\")\n",
    "    elif 'altair.vegalite' in object_type and hasattr(final_object, 'save'):\n",
    "        print(f\"--> Détecté : Altair. Sauvegarde HTML dans : {OUTPUT_HTML_NAME}\")\n",
    "        final_object.save(OUTPUT_HTML_NAME)\n",
    "        # On crée un fichier marqueur générique pour la capture d'écran\n",
    "        print(f\"--> Création du marqueur de capture d'écran.\")\n",
    "        with open(f\"{OUTPUT_HTML_NAME}.needs_screenshot\", \"w\") as f:\n",
    "            f.write(\"altair\")\n",
    "    elif 'bokeh.plotting' in object_type and bokeh_save is not None:\n",
    "        print(f\"--> Détecté : Bokeh. Sauvegarde HTML dans : {OUTPUT_HTML_NAME}\")\n",
    "        bokeh_save(final_object, filename=OUTPUT_HTML_NAME, title=\"\")\n",
    "        # On crée un fichier marqueur générique pour la capture d'écran\n",
    "        print(f\"--> Création du marqueur de capture d'écran.\")\n",
    "        with open(f\"{OUTPUT_HTML_NAME}.needs_screenshot\", \"w\") as f:\n",
    "            f.write(\"bokeh\")\n",
    "    elif 'matplotlib.figure.Figure' in object_type:\n",
    "        print(f\"--> Détecté : Matplotlib. Sauvegarde dans : {OUTPUT_IMAGE_NAME}\")\n",
    "        final_object.savefig(OUTPUT_IMAGE_NAME, dpi=300, bbox_inches='tight')\n",
    "    else:\n",
    "        print(f\"AVERTISSEMENT: Type non supporté : {object_type}\", file=sys.stderr)\n",
    "except NameError:\n",
    "    print(f\"AVERTISSEMENT: Aucune variable '{FINAL_OBJECT_VARIABLE_NAME}' trouvée.\", file=sys.stderr)\n",
    "except Exception as e:\n",
    "    print(f\"ERREUR lors de l'exportation : {e}\", file=sys.stderr)\n"
   ]
  }
 ],
 "metadata": {
  "kernelspec": {
   "display_name": "Python 3",
   "language": "python",
   "name": "python3"
  },
  "language_info": {
   "codemirror_mode": {
    "name": "ipython",
    "version": 3
   },
   "file_extension": ".py",
   "mimetype": "text/x-python",
   "name": "python",
   "nbconvert_exporter": "python",
   "pygments_lexer": "ipython3",
   "version": "3.10.11"
  }
 },
 "nbformat": 4,
 "nbformat_minor": 4
}
