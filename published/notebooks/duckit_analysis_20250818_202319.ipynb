{
 "cells": [
  {
   "cell_type": "markdown",
   "metadata": {},
   "source": [
    "# Cartographie des Musées Parisiens à Travers les Décennies\n",
    "\n",
    "\n",
    "Le jeu de données utilisé pour cette analyse provient du site data.culture.gouv.fr et contient des informations sur les musées de France, notamment leur localisation, adresse, coordonnées géographiques, et autres détails administratifs. L'URL source est https://data.culture.gouv.fr/api/explore/v2.1/catalog/datasets/liste-et-localisation-des-musees-de-france/exports/parquet?lang=fr&timezone=Europe%2FBerlin. Ce jeu de données permet d'explorer la richesse culturelle française à travers la répartition géographique et l'évolution temporelle des musées.\n",
    "\n",
    "\n",
    "L'objectif de cette analyse est de générer une carte des musées parisiens avec une classification en décennies, permettant ainsi de visualiser l'évolution de l'implantation de ces institutions culturelles dans la capitale française. En nous concentrant sur les musées situés à Paris, nous visons à mettre en lumière les tendances et les caractéristiques de leur distribution géographique au fil des ans.\n",
    "\n",
    "\n",
    "## Méthodologie\n",
    "\n",
    "\n",
    "La méthodologie utilisée pour cette analyse implique plusieurs étapes clés. Tout d'abord, nous avons sélectionné les données pertinentes en utilisant une requête SQL sur le jeu de données chargé. Cette requête a permis de filtrer les musées situés à Paris et de calculer la décennie d'attribution de l'appellation \"musée de France\" pour chaque musée. Les résultats ont ensuite été traités avec les bibliothèques Pandas et GeoPandas pour convertir les données géographiques au format approprié. Enfin, nous avons utilisé Plotly Express pour créer une visualisation interactive sous forme de carte, représentant la distribution des musées parisiens classés par décennie."
   ]
  },
  {
   "cell_type": "markdown",
   "metadata": {},
   "source": [
    "## 🔧 Configuration"
   ]
  },
  {
   "cell_type": "code",
   "execution_count": 1,
   "metadata": {
    "execution": {
     "iopub.execute_input": "2025-08-18T20:24:15.620442Z",
     "iopub.status.busy": "2025-08-18T20:24:15.620442Z",
     "iopub.status.idle": "2025-08-18T20:24:17.172189Z",
     "shell.execute_reply": "2025-08-18T20:24:17.170158Z"
    }
   },
   "outputs": [],
   "source": [
    "# Installation et imports\n",
    "import duckdb as ddb\n",
    "import pandas as pd\n",
    "import plotly.express as px\n",
    "import plotly.graph_objects as go"
   ]
  },
  {
   "cell_type": "markdown",
   "metadata": {},
   "source": [
    "## 🦆 Chargement du dataset avec Duckdb"
   ]
  },
  {
   "cell_type": "code",
   "execution_count": 2,
   "metadata": {
    "execution": {
     "iopub.execute_input": "2025-08-18T20:24:17.179332Z",
     "iopub.status.busy": "2025-08-18T20:24:17.179332Z",
     "iopub.status.idle": "2025-08-18T20:24:20.178818Z",
     "shell.execute_reply": "2025-08-18T20:24:20.174521Z"
    }
   },
   "outputs": [
    {
     "name": "stdout",
     "output_type": "stream",
     "text": [
      "✅ Données chargées avec succès\n"
     ]
    }
   ],
   "source": [
    "# Fonction de chargement complète (basée sur load_file_from_url_lite)\n",
    "def load_file_from_url_lite(url_dataset=\"\", loader=\"read_csv_auto\", options=\"\", nom_table=\"loaded_dataset\", safe_mode=False):\n",
    "    ddb.execute(\"install spatial\")\n",
    "    ddb.execute(\"load spatial\")\n",
    "    ddb.execute(\"INSTALL h3 FROM community\")\n",
    "    ddb.execute(\"LOAD h3\")\n",
    "    ddb.execute(\"install webbed from community;\")\n",
    "    ddb.execute(\"load webbed\")\n",
    "    ddb.execute(\"set force_download=True\")\n",
    "    ddb.execute(f\"drop table if exists {nom_table}\")   \n",
    "    \n",
    "    # Détection automatique du type de fichier\n",
    "    if 'csv' in url_dataset: \n",
    "        loader = \"read_csv_auto\"\n",
    "    elif 'tsv' in url_dataset: \n",
    "        loader = \"read_csv_auto\"\n",
    "    elif 'txt' in url_dataset: \n",
    "        loader = \"read_csv_auto\"\n",
    "    elif 'parquet' in url_dataset: \n",
    "        loader = \"read_parquet\"\n",
    "    elif 'json' in url_dataset: \n",
    "        loader = \"read_json_auto\"\n",
    "    elif 'xls' in url_dataset or 'xlsx' in url_dataset: \n",
    "        loader = \"st_read\"\n",
    "    elif 'shp' in url_dataset: \n",
    "        loader = \"st_read\"\n",
    "    elif 'geojson' in url_dataset: \n",
    "        loader = \"st_read\"\n",
    "    elif 'xml' in url_dataset: \n",
    "        loader = \"read_xml\"\n",
    "    elif 'html' in url_dataset: \n",
    "        loader = \"read_html\"\n",
    "    else: \n",
    "        raise ValueError(f\"Type de fichier non supporté pour {url_dataset}\")\n",
    "    \n",
    "    if options==\"\": \n",
    "        options = \"\" \n",
    "    if 'csv' in url_dataset and safe_mode==True: \n",
    "        options = \", all_varchar=1\" \n",
    "    if nom_table==\"\": \n",
    "        nom_table = \"loaded_dataset\"\n",
    "    \n",
    "    try:\n",
    "        status = ddb.sql(f\"\"\"\n",
    "            create or replace table {nom_table} as select *\n",
    "            from\n",
    "            {loader}(\"{url_dataset}\" {options})\n",
    "        \"\"\")\n",
    "        return status\n",
    "    except Exception as e:\n",
    "        return f\"Erreur au chargement du fichier : {str(e)}\"\n",
    "\n",
    "def run_query(sql):\n",
    "    return ddb.sql(sql.replace(\"`\",\" \")).to_df()\n",
    "\n",
    "# Chargement des données\n",
    "load_file_from_url_lite(\"https://data.culture.gouv.fr/api/explore/v2.1/catalog/datasets/liste-et-localisation-des-musees-de-france/exports/parquet?lang=fr&timezone=Europe%2FBerlin\", safe_mode=True)\n",
    "print(\"✅ Données chargées avec succès\")"
   ]
  },
  {
   "cell_type": "markdown",
   "metadata": {},
   "source": [
    "## 🔍 Analyse SQL\n",
    "\n",
    "Cette requête utilise des techniques SQL pour extraire et transformer les données de manière efficace."
   ]
  },
  {
   "cell_type": "code",
   "execution_count": 3,
   "metadata": {
    "execution": {
     "iopub.execute_input": "2025-08-18T20:24:20.357518Z",
     "iopub.status.busy": "2025-08-18T20:24:20.355828Z",
     "iopub.status.idle": "2025-08-18T20:24:20.423781Z",
     "shell.execute_reply": "2025-08-18T20:24:20.421836Z"
    }
   },
   "outputs": [
    {
     "name": "stdout",
     "output_type": "stream",
     "text": [
      "Résultats : 50 lignes\n"
     ]
    },
    {
     "data": {
      "text/html": [
       "<div>\n",
       "<style scoped>\n",
       "    .dataframe tbody tr th:only-of-type {\n",
       "        vertical-align: middle;\n",
       "    }\n",
       "\n",
       "    .dataframe tbody tr th {\n",
       "        vertical-align: top;\n",
       "    }\n",
       "\n",
       "    .dataframe thead th {\n",
       "        text-align: right;\n",
       "    }\n",
       "</style>\n",
       "<table border=\"1\" class=\"dataframe\">\n",
       "  <thead>\n",
       "    <tr style=\"text-align: right;\">\n",
       "      <th></th>\n",
       "      <th>identifiant_museofile</th>\n",
       "      <th>decennie</th>\n",
       "      <th>geom_wkt</th>\n",
       "      <th>nom_officiel_du_musee</th>\n",
       "    </tr>\n",
       "  </thead>\n",
       "  <tbody>\n",
       "    <tr>\n",
       "      <th>0</th>\n",
       "      <td>M1102</td>\n",
       "      <td>2000</td>\n",
       "      <td>POINT (2.280805 48.855398)</td>\n",
       "      <td>maison de Balzac</td>\n",
       "    </tr>\n",
       "    <tr>\n",
       "      <th>1</th>\n",
       "      <td>M1104</td>\n",
       "      <td>2000</td>\n",
       "      <td>POINT (2.362856 48.85699)</td>\n",
       "      <td>musée Carnavalet - histoire de Paris</td>\n",
       "    </tr>\n",
       "    <tr>\n",
       "      <th>2</th>\n",
       "      <td>M1101</td>\n",
       "      <td>2000</td>\n",
       "      <td>POINT (2.29843234195393 48.864603220958784)</td>\n",
       "      <td>musée d'art moderne de la ville de Paris</td>\n",
       "    </tr>\n",
       "    <tr>\n",
       "      <th>3</th>\n",
       "      <td>M9024</td>\n",
       "      <td>2000</td>\n",
       "      <td>POINT (2.341091 48.840814)</td>\n",
       "      <td>musée du service de santé des armées du Val-de...</td>\n",
       "    </tr>\n",
       "    <tr>\n",
       "      <th>4</th>\n",
       "      <td>M1115</td>\n",
       "      <td>2000</td>\n",
       "      <td>POINT (2.333457 48.842793)</td>\n",
       "      <td>musée Zadkine</td>\n",
       "    </tr>\n",
       "  </tbody>\n",
       "</table>\n",
       "</div>"
      ],
      "text/plain": [
       "  identifiant_museofile  decennie  \\\n",
       "0                 M1102      2000   \n",
       "1                 M1104      2000   \n",
       "2                 M1101      2000   \n",
       "3                 M9024      2000   \n",
       "4                 M1115      2000   \n",
       "\n",
       "                                      geom_wkt  \\\n",
       "0                   POINT (2.280805 48.855398)   \n",
       "1                    POINT (2.362856 48.85699)   \n",
       "2  POINT (2.29843234195393 48.864603220958784)   \n",
       "3                   POINT (2.341091 48.840814)   \n",
       "4                   POINT (2.333457 48.842793)   \n",
       "\n",
       "                               nom_officiel_du_musee  \n",
       "0                                   maison de Balzac  \n",
       "1               musée Carnavalet - histoire de Paris  \n",
       "2           musée d'art moderne de la ville de Paris  \n",
       "3  musée du service de santé des armées du Val-de...  \n",
       "4                                      musée Zadkine  "
      ]
     },
     "execution_count": 3,
     "metadata": {},
     "output_type": "execute_result"
    }
   ],
   "source": [
    "# Exécution de la requête\n",
    "df = run_query(\"\"\" SELECT \n",
    "  \"identifiant_museofile\",\n",
    "  CAST(SUBSTRING(CAST(\"date_arrete_attribution_appellation\" AS VARCHAR), 1, 4) AS INTEGER) - (CAST(SUBSTRING(CAST(\"date_arrete_attribution_appellation\" AS VARCHAR), 1, 4) AS INTEGER) % 10) AS decennie,\n",
    "  ST_AsText(\"geolocalisation\") AS geom_wkt,\n",
    "  \"nom_officiel_du_musee\"\n",
    "FROM \n",
    "  loaded_dataset\n",
    "WHERE \n",
    "  \"commune\" = 'Paris'\n",
    "ORDER BY \n",
    "  decennie \"\"\")\n",
    "print(f\"Résultats : {len(df)} lignes\")\n",
    "df.head()"
   ]
  },
  {
   "cell_type": "markdown",
   "metadata": {},
   "source": [
    "## 📈 Visualisation\n",
    "\n",
    "La bibliothèque principale utilisée est Plotly Express, qui est particulièrement adaptée pour créer des visualisations interactives de données géospatiales. Elle permet de représenter les données sur une carte interactive, facilitant l'exploration et la compréhension des informations géographiques. Dans ce cas, elle est utilisée pour afficher la répartition des musées parisiens par décennie de création sur une carte."
   ]
  },
  {
   "cell_type": "code",
   "execution_count": 4,
   "metadata": {
    "execution": {
     "iopub.execute_input": "2025-08-18T20:24:20.427657Z",
     "iopub.status.busy": "2025-08-18T20:24:20.427657Z",
     "iopub.status.idle": "2025-08-18T20:24:31.853920Z",
     "shell.execute_reply": "2025-08-18T20:24:31.853920Z"
    }
   },
   "outputs": [
    {
     "name": "stderr",
     "output_type": "stream",
     "text": [
      "C:\\Users\\ami\\AppData\\Local\\Temp\\ipykernel_9120\\4262964118.py:20: DeprecationWarning: *scatter_mapbox* is deprecated! Use *scatter_map* instead. Learn more at: https://plotly.com/python/mapbox-to-maplibre/\n",
      "  dataviz = px.scatter_mapbox(\n"
     ]
    },
    {
     "data": {
      "application/vnd.plotly.v1+json": {
       "config": {
        "plotlyServerURL": "https://plot.ly"
       },
       "data": [
        {
         "customdata": [
          [
           "2000",
           2.280805,
           48.855398
          ],
          [
           "2000",
           2.362856,
           48.85699
          ],
          [
           "2000",
           2.29843234195393,
           48.864603220958784
          ],
          [
           "2000",
           2.341091,
           48.840814
          ],
          [
           "2000",
           2.333457,
           48.842793
          ],
          [
           "2000",
           2.297248499625773,
           48.866136805463356
          ],
          [
           "2000",
           2.340577,
           48.887709
          ],
          [
           "2000",
           2.3333,
           48.863218
          ],
          [
           "2000",
           2.337815659681778,
           48.86079459806906
          ],
          [
           "2000",
           2.359933,
           48.842168
          ],
          [
           "2000",
           2.322709,
           48.847429
          ],
          [
           "2000",
           2.323672,
           48.859157
          ],
          [
           "2000",
           2.31598,
           48.855868
          ],
          [
           "2000",
           2.366232,
           48.854808
          ],
          [
           "2000",
           2.390394,
           48.836753
          ],
          [
           "2000",
           2.293754,
           48.86425
          ],
          [
           "2000",
           2.326622,
           48.868053
          ],
          [
           "2000",
           2.357046,
           48.865357
          ],
          [
           "2000",
           2.338699,
           48.857003
          ],
          [
           "2000",
           2.312855,
           48.878849
          ],
          [
           "2000",
           2.334383,
           48.877878
          ],
          [
           "2000",
           2.361524,
           48.858257
          ],
          [
           "2000",
           2.319773,
           48.840614
          ],
          [
           "2000",
           2.333278,
           48.880899
          ],
          [
           "2000",
           2.29771,
           48.861511
          ],
          [
           "2000",
           2.355608,
           48.86095
          ],
          [
           "2000",
           2.344553,
           48.850437
          ],
          [
           "2000",
           2.335679,
           48.854434
          ],
          [
           "2000",
           2.324768,
           48.860294
          ],
          [
           "2000",
           2.31883,
           48.843017
          ],
          [
           "2000",
           2.281997,
           48.871845
          ],
          [
           "2000",
           2.293754,
           48.86425
          ],
          [
           "2000",
           2.307689,
           48.883045
          ],
          [
           "2000",
           2.393807,
           48.889306
          ],
          [
           "2000",
           2.352223540635518,
           48.86080432275963
          ],
          [
           "2000",
           2.356007,
           48.838805
          ],
          [
           "2000",
           2.312885,
           48.858219
          ],
          [
           "2000",
           2.312194,
           48.879693
          ],
          [
           "2000",
           2.281879,
           48.862323
          ],
          [
           "2000",
           2.312885,
           48.858219
          ],
          [
           "2000",
           2.313763,
           48.86609
          ],
          [
           "2000",
           2.317700895922452,
           48.84156094062689
          ],
          [
           "2000",
           2.358608,
           48.861491
          ],
          [
           "2000",
           2.362644,
           48.8597
          ],
          [
           "2000",
           2.343088,
           48.874991
          ]
         ],
         "hovertemplate": "<b>%{hovertext}</b><br><br>decennie=%{customdata[0]}<extra></extra>",
         "hovertext": [
          "maison de Balzac",
          "musée Carnavalet - histoire de Paris",
          "musée d'art moderne de la ville de Paris",
          "musée du service de santé des armées du Val-de-Grâce",
          "musée Zadkine",
          "Palais Galliera, musée de la mode et de la ville de Paris",
          "musée de Montmartre",
          "musée des arts décoratifs (Union centrale des arts décoratifs)",
          "musée du Louvre",
          "muséum national d'histoire naturelle",
          "musée Hébert",
          "musée d'Orsay",
          "musée Rodin",
          "maison de Victor Hugo",
          "musée national de l'histoire et des cultures de l'immigration",
          "musée national de la marine",
          "musée de l'Orangerie des Tuileries",
          "musée des arts et métiers",
          "musée des monnaies et médailles",
          "musée Nissim de Camondo (Union centrale des arts décoratifs)",
          "musée Gustave Moreau",
          "musée Cognacq-Jay, musée du XVIIIe siècle de la ville de Paris",
          "musée de la Libération de Paris - musée du général Leclerc - musée Jean Moulin",
          "musée de la vie romantique",
          "musée du Quai Branly - Jacques Chirac",
          "musée d'art et d'histoire du judaïsme",
          "musée du Moyen Âge - thermes et hôtel de Cluny",
          "musée Eugène Delacroix",
          "musée national de la Légion d'honneur et des ordres de chevalerie",
          "musée Bourdelle",
          "musée d'Ennery",
          "musée des arts asiatiques Guimet",
          "musée Jean-Jacques Henner",
          "musée de la musique",
          "musée national d'art moderne (centre national d'art et de culture Georges Pompidou)",
          "musée de l'assistance publique - hôpitaux de Paris",
          "musée de l'armée",
          "musée Cernuschi, musée des arts de l'Asie de la ville de Paris",
          "musée des monuments français",
          "musée des Plans-reliefs",
          "Petit Palais, musée des beaux-arts de la ville de Paris",
          "musée de la poste",
          "musée de la chasse et de la nature",
          "musée Picasso",
          "musée de la franc-maçonnerie"
         ],
         "lat": {
          "bdata": "K4iBrn1tSEDhfyvZsW1IQGIEf1GrbkhAbQIMy59rSEAcJhqk4GtIQNypIpLdbkhAtK7RcqBxSEDGqGvtfW5IQNqjc4QubkhAbt44KcxrSEBLV7CNeGxIQJOQSNv4bUhAstgmFY1tSED5LTpZam1IQDrq6Lgaa0hAtMh2vp9uSEDsGFdcHG9IQK4upwTEbkhAdck4RrJtSECoj8AffnBIQF/waU5ecEhAE0iJXdttSECmR1M9mWtIQCAKZkzBcEhAdxIR/kVuSEDgvg6cM25IQHgnnx7bbEhAlEvjF15tSED3eCEdHm5IQGx8Jvvna0hALxfxnZhvSEC0yHa+n25IQLvyWZ4HcUhAexFtx9RxSEAHQQfWLm5IQFNcVfZda0hAJefEHtptSECUwrzHmXBIQFjLnZlgbkhAJefEHtptSEBCsoAJ3G5IQLDK1kS4a0hAMGZLVkVuSECDL0ymCm5IQK2lgLT/b0hA",
          "dtype": "f8"
         },
         "legendgroup": "2000",
         "lon": {
          "bdata": "Hm0csRY/AkBOQukLIecCQCgW5n4wYwJA860P6426AkBq+uyA66oCQA9sRdLDYAJAiSgmb4C5AkDtDb4wmaoCQHtHU7LYswJAZAJ+jSThAkC5/8h06JQCQBwMdVjhlgJASYWxhSCHAkBI/fUKC+4CQN9vtOOGHwNAsI14sptZAkCfO8H+65wCQEdX6e462wJA1IBB0qe1AkDiHksfuoACQPq0iv7QrAJAusDlsWbkAkCFJokl5Y4CQHDP86eNqgJAi4nNx7VhAkBYkdEBSdgCQNXo1QClwQJAwqG3eHivAkBzTBb3H5kCQJTeN772jAJAl4+kpIdBAkCwjXiym1kCQCi2gqYldgJAqnzPSIQmA0B6SV+TWtECQDQtsTIa2QJAjUXT2cmAAkA0D2CRX38CQPhu88ZJQQJAjUXT2cmAAkAMj/0sloICQLYsb8SmigJA96sA323eAkCZucDlseYCQEwz3eukvgJA",
          "dtype": "f8"
         },
         "marker": {
          "color": "#8B4513",
          "opacity": 0.8,
          "size": 10
         },
         "mode": "markers",
         "name": "2000",
         "showlegend": true,
         "subplot": "mapbox",
         "type": "scattermapbox"
        },
        {
         "customdata": [
          [
           "2010",
           2.33167,
           48.845748
          ],
          [
           "2010",
           2.352176,
           48.843955
          ],
          [
           "2010",
           2.340376,
           48.830264
          ],
          [
           "2010",
           2.280339,
           48.873694
          ]
         ],
         "hovertemplate": "<b>%{hovertext}</b><br><br>decennie=%{customdata[0]}<extra></extra>",
         "hovertext": [
          "musée de l'Ecole nationale supérieure des beaux-arts",
          "musée de l'Institut du monde arabe",
          "musée d'art et d'histoire de l'hôpital Sainte-Anne",
          "musée Yves Saint Laurent Paris"
         ],
         "lat": {
          "bdata": "JlRweEFsSEDZJaq3BmxIQOiFOxdGakhAEFt6NNVvSEA=",
          "dtype": "f8"
         },
         "legendgroup": "2010",
         "lon": {
          "bdata": "uoPYmUKnAkAgfZOmQdECQBK/Yg0XuQJAxVimXyI+AkA=",
          "dtype": "f8"
         },
         "marker": {
          "color": "#D2691E",
          "opacity": 0.8,
          "size": 10
         },
         "mode": "markers",
         "name": "2010",
         "showlegend": true,
         "subplot": "mapbox",
         "type": "scattermapbox"
        },
        {
         "customdata": [
          [
           "2020",
           2.32192,
           48.8835
          ]
         ],
         "hovertemplate": "<b>%{hovertext}</b><br><br>decennie=%{customdata[0]}<extra></extra>",
         "hovertext": [
          "musée de la Grande Loge de France"
         ],
         "lat": {
          "bdata": "DAIrhxZxSEA=",
          "dtype": "f8"
         },
         "legendgroup": "2020",
         "lon": {
          "bdata": "M23/ykqTAkA=",
          "dtype": "f8"
         },
         "marker": {
          "color": "#F4A460",
          "opacity": 0.8,
          "size": 10
         },
         "mode": "markers",
         "name": "2020",
         "showlegend": true,
         "subplot": "mapbox",
         "type": "scattermapbox"
        }
       ],
       "layout": {
        "font": {
         "family": "Georgia",
         "size": 14
        },
        "legend": {
         "orientation": "h",
         "title": {
          "text": "Décennie"
         },
         "tracegroupgap": 0,
         "x": 0.5,
         "xanchor": "center",
         "y": -0.05
        },
        "mapbox": {
         "center": {
          "lat": 48.86,
          "lon": 2.35
         },
         "domain": {
          "x": [
           0.0,
           1.0
          ],
          "y": [
           0.0,
           1.0
          ]
         },
         "style": "carto-positron",
         "zoom": 11
        },
        "margin": {
         "b": 10,
         "l": 10,
         "r": 10,
         "t": 40
        },
        "paper_bgcolor": "#F5F5DC",
        "plot_bgcolor": "#F5F5DC",
        "template": {
         "data": {
          "bar": [
           {
            "error_x": {
             "color": "#2a3f5f"
            },
            "error_y": {
             "color": "#2a3f5f"
            },
            "marker": {
             "line": {
              "color": "#E5ECF6",
              "width": 0.5
             },
             "pattern": {
              "fillmode": "overlay",
              "size": 10,
              "solidity": 0.2
             }
            },
            "type": "bar"
           }
          ],
          "barpolar": [
           {
            "marker": {
             "line": {
              "color": "#E5ECF6",
              "width": 0.5
             },
             "pattern": {
              "fillmode": "overlay",
              "size": 10,
              "solidity": 0.2
             }
            },
            "type": "barpolar"
           }
          ],
          "carpet": [
           {
            "aaxis": {
             "endlinecolor": "#2a3f5f",
             "gridcolor": "white",
             "linecolor": "white",
             "minorgridcolor": "white",
             "startlinecolor": "#2a3f5f"
            },
            "baxis": {
             "endlinecolor": "#2a3f5f",
             "gridcolor": "white",
             "linecolor": "white",
             "minorgridcolor": "white",
             "startlinecolor": "#2a3f5f"
            },
            "type": "carpet"
           }
          ],
          "choropleth": [
           {
            "colorbar": {
             "outlinewidth": 0,
             "ticks": ""
            },
            "type": "choropleth"
           }
          ],
          "contour": [
           {
            "colorbar": {
             "outlinewidth": 0,
             "ticks": ""
            },
            "colorscale": [
             [
              0.0,
              "#0d0887"
             ],
             [
              0.1111111111111111,
              "#46039f"
             ],
             [
              0.2222222222222222,
              "#7201a8"
             ],
             [
              0.3333333333333333,
              "#9c179e"
             ],
             [
              0.4444444444444444,
              "#bd3786"
             ],
             [
              0.5555555555555556,
              "#d8576b"
             ],
             [
              0.6666666666666666,
              "#ed7953"
             ],
             [
              0.7777777777777778,
              "#fb9f3a"
             ],
             [
              0.8888888888888888,
              "#fdca26"
             ],
             [
              1.0,
              "#f0f921"
             ]
            ],
            "type": "contour"
           }
          ],
          "contourcarpet": [
           {
            "colorbar": {
             "outlinewidth": 0,
             "ticks": ""
            },
            "type": "contourcarpet"
           }
          ],
          "heatmap": [
           {
            "colorbar": {
             "outlinewidth": 0,
             "ticks": ""
            },
            "colorscale": [
             [
              0.0,
              "#0d0887"
             ],
             [
              0.1111111111111111,
              "#46039f"
             ],
             [
              0.2222222222222222,
              "#7201a8"
             ],
             [
              0.3333333333333333,
              "#9c179e"
             ],
             [
              0.4444444444444444,
              "#bd3786"
             ],
             [
              0.5555555555555556,
              "#d8576b"
             ],
             [
              0.6666666666666666,
              "#ed7953"
             ],
             [
              0.7777777777777778,
              "#fb9f3a"
             ],
             [
              0.8888888888888888,
              "#fdca26"
             ],
             [
              1.0,
              "#f0f921"
             ]
            ],
            "type": "heatmap"
           }
          ],
          "histogram": [
           {
            "marker": {
             "pattern": {
              "fillmode": "overlay",
              "size": 10,
              "solidity": 0.2
             }
            },
            "type": "histogram"
           }
          ],
          "histogram2d": [
           {
            "colorbar": {
             "outlinewidth": 0,
             "ticks": ""
            },
            "colorscale": [
             [
              0.0,
              "#0d0887"
             ],
             [
              0.1111111111111111,
              "#46039f"
             ],
             [
              0.2222222222222222,
              "#7201a8"
             ],
             [
              0.3333333333333333,
              "#9c179e"
             ],
             [
              0.4444444444444444,
              "#bd3786"
             ],
             [
              0.5555555555555556,
              "#d8576b"
             ],
             [
              0.6666666666666666,
              "#ed7953"
             ],
             [
              0.7777777777777778,
              "#fb9f3a"
             ],
             [
              0.8888888888888888,
              "#fdca26"
             ],
             [
              1.0,
              "#f0f921"
             ]
            ],
            "type": "histogram2d"
           }
          ],
          "histogram2dcontour": [
           {
            "colorbar": {
             "outlinewidth": 0,
             "ticks": ""
            },
            "colorscale": [
             [
              0.0,
              "#0d0887"
             ],
             [
              0.1111111111111111,
              "#46039f"
             ],
             [
              0.2222222222222222,
              "#7201a8"
             ],
             [
              0.3333333333333333,
              "#9c179e"
             ],
             [
              0.4444444444444444,
              "#bd3786"
             ],
             [
              0.5555555555555556,
              "#d8576b"
             ],
             [
              0.6666666666666666,
              "#ed7953"
             ],
             [
              0.7777777777777778,
              "#fb9f3a"
             ],
             [
              0.8888888888888888,
              "#fdca26"
             ],
             [
              1.0,
              "#f0f921"
             ]
            ],
            "type": "histogram2dcontour"
           }
          ],
          "mesh3d": [
           {
            "colorbar": {
             "outlinewidth": 0,
             "ticks": ""
            },
            "type": "mesh3d"
           }
          ],
          "parcoords": [
           {
            "line": {
             "colorbar": {
              "outlinewidth": 0,
              "ticks": ""
             }
            },
            "type": "parcoords"
           }
          ],
          "pie": [
           {
            "automargin": true,
            "type": "pie"
           }
          ],
          "scatter": [
           {
            "fillpattern": {
             "fillmode": "overlay",
             "size": 10,
             "solidity": 0.2
            },
            "type": "scatter"
           }
          ],
          "scatter3d": [
           {
            "line": {
             "colorbar": {
              "outlinewidth": 0,
              "ticks": ""
             }
            },
            "marker": {
             "colorbar": {
              "outlinewidth": 0,
              "ticks": ""
             }
            },
            "type": "scatter3d"
           }
          ],
          "scattercarpet": [
           {
            "marker": {
             "colorbar": {
              "outlinewidth": 0,
              "ticks": ""
             }
            },
            "type": "scattercarpet"
           }
          ],
          "scattergeo": [
           {
            "marker": {
             "colorbar": {
              "outlinewidth": 0,
              "ticks": ""
             }
            },
            "type": "scattergeo"
           }
          ],
          "scattergl": [
           {
            "marker": {
             "colorbar": {
              "outlinewidth": 0,
              "ticks": ""
             }
            },
            "type": "scattergl"
           }
          ],
          "scattermap": [
           {
            "marker": {
             "colorbar": {
              "outlinewidth": 0,
              "ticks": ""
             }
            },
            "type": "scattermap"
           }
          ],
          "scattermapbox": [
           {
            "marker": {
             "colorbar": {
              "outlinewidth": 0,
              "ticks": ""
             }
            },
            "type": "scattermapbox"
           }
          ],
          "scatterpolar": [
           {
            "marker": {
             "colorbar": {
              "outlinewidth": 0,
              "ticks": ""
             }
            },
            "type": "scatterpolar"
           }
          ],
          "scatterpolargl": [
           {
            "marker": {
             "colorbar": {
              "outlinewidth": 0,
              "ticks": ""
             }
            },
            "type": "scatterpolargl"
           }
          ],
          "scatterternary": [
           {
            "marker": {
             "colorbar": {
              "outlinewidth": 0,
              "ticks": ""
             }
            },
            "type": "scatterternary"
           }
          ],
          "surface": [
           {
            "colorbar": {
             "outlinewidth": 0,
             "ticks": ""
            },
            "colorscale": [
             [
              0.0,
              "#0d0887"
             ],
             [
              0.1111111111111111,
              "#46039f"
             ],
             [
              0.2222222222222222,
              "#7201a8"
             ],
             [
              0.3333333333333333,
              "#9c179e"
             ],
             [
              0.4444444444444444,
              "#bd3786"
             ],
             [
              0.5555555555555556,
              "#d8576b"
             ],
             [
              0.6666666666666666,
              "#ed7953"
             ],
             [
              0.7777777777777778,
              "#fb9f3a"
             ],
             [
              0.8888888888888888,
              "#fdca26"
             ],
             [
              1.0,
              "#f0f921"
             ]
            ],
            "type": "surface"
           }
          ],
          "table": [
           {
            "cells": {
             "fill": {
              "color": "#EBF0F8"
             },
             "line": {
              "color": "white"
             }
            },
            "header": {
             "fill": {
              "color": "#C8D4E3"
             },
             "line": {
              "color": "white"
             }
            },
            "type": "table"
           }
          ]
         },
         "layout": {
          "annotationdefaults": {
           "arrowcolor": "#2a3f5f",
           "arrowhead": 0,
           "arrowwidth": 1
          },
          "autotypenumbers": "strict",
          "coloraxis": {
           "colorbar": {
            "outlinewidth": 0,
            "ticks": ""
           }
          },
          "colorscale": {
           "diverging": [
            [
             0,
             "#8e0152"
            ],
            [
             0.1,
             "#c51b7d"
            ],
            [
             0.2,
             "#de77ae"
            ],
            [
             0.3,
             "#f1b6da"
            ],
            [
             0.4,
             "#fde0ef"
            ],
            [
             0.5,
             "#f7f7f7"
            ],
            [
             0.6,
             "#e6f5d0"
            ],
            [
             0.7,
             "#b8e186"
            ],
            [
             0.8,
             "#7fbc41"
            ],
            [
             0.9,
             "#4d9221"
            ],
            [
             1,
             "#276419"
            ]
           ],
           "sequential": [
            [
             0.0,
             "#0d0887"
            ],
            [
             0.1111111111111111,
             "#46039f"
            ],
            [
             0.2222222222222222,
             "#7201a8"
            ],
            [
             0.3333333333333333,
             "#9c179e"
            ],
            [
             0.4444444444444444,
             "#bd3786"
            ],
            [
             0.5555555555555556,
             "#d8576b"
            ],
            [
             0.6666666666666666,
             "#ed7953"
            ],
            [
             0.7777777777777778,
             "#fb9f3a"
            ],
            [
             0.8888888888888888,
             "#fdca26"
            ],
            [
             1.0,
             "#f0f921"
            ]
           ],
           "sequentialminus": [
            [
             0.0,
             "#0d0887"
            ],
            [
             0.1111111111111111,
             "#46039f"
            ],
            [
             0.2222222222222222,
             "#7201a8"
            ],
            [
             0.3333333333333333,
             "#9c179e"
            ],
            [
             0.4444444444444444,
             "#bd3786"
            ],
            [
             0.5555555555555556,
             "#d8576b"
            ],
            [
             0.6666666666666666,
             "#ed7953"
            ],
            [
             0.7777777777777778,
             "#fb9f3a"
            ],
            [
             0.8888888888888888,
             "#fdca26"
            ],
            [
             1.0,
             "#f0f921"
            ]
           ]
          },
          "colorway": [
           "#636efa",
           "#EF553B",
           "#00cc96",
           "#ab63fa",
           "#FFA15A",
           "#19d3f3",
           "#FF6692",
           "#B6E880",
           "#FF97FF",
           "#FECB52"
          ],
          "font": {
           "color": "#2a3f5f"
          },
          "geo": {
           "bgcolor": "white",
           "lakecolor": "white",
           "landcolor": "#E5ECF6",
           "showlakes": true,
           "showland": true,
           "subunitcolor": "white"
          },
          "hoverlabel": {
           "align": "left"
          },
          "hovermode": "closest",
          "mapbox": {
           "style": "light"
          },
          "paper_bgcolor": "white",
          "plot_bgcolor": "#E5ECF6",
          "polar": {
           "angularaxis": {
            "gridcolor": "white",
            "linecolor": "white",
            "ticks": ""
           },
           "bgcolor": "#E5ECF6",
           "radialaxis": {
            "gridcolor": "white",
            "linecolor": "white",
            "ticks": ""
           }
          },
          "scene": {
           "xaxis": {
            "backgroundcolor": "#E5ECF6",
            "gridcolor": "white",
            "gridwidth": 2,
            "linecolor": "white",
            "showbackground": true,
            "ticks": "",
            "zerolinecolor": "white"
           },
           "yaxis": {
            "backgroundcolor": "#E5ECF6",
            "gridcolor": "white",
            "gridwidth": 2,
            "linecolor": "white",
            "showbackground": true,
            "ticks": "",
            "zerolinecolor": "white"
           },
           "zaxis": {
            "backgroundcolor": "#E5ECF6",
            "gridcolor": "white",
            "gridwidth": 2,
            "linecolor": "white",
            "showbackground": true,
            "ticks": "",
            "zerolinecolor": "white"
           }
          },
          "shapedefaults": {
           "line": {
            "color": "#2a3f5f"
           }
          },
          "ternary": {
           "aaxis": {
            "gridcolor": "white",
            "linecolor": "white",
            "ticks": ""
           },
           "baxis": {
            "gridcolor": "white",
            "linecolor": "white",
            "ticks": ""
           },
           "bgcolor": "#E5ECF6",
           "caxis": {
            "gridcolor": "white",
            "linecolor": "white",
            "ticks": ""
           }
          },
          "title": {
           "x": 0.05
          },
          "xaxis": {
           "automargin": true,
           "gridcolor": "white",
           "linecolor": "white",
           "ticks": "",
           "title": {
            "standoff": 15
           },
           "zerolinecolor": "white",
           "zerolinewidth": 2
          },
          "yaxis": {
           "automargin": true,
           "gridcolor": "white",
           "linecolor": "white",
           "ticks": "",
           "title": {
            "standoff": 15
           },
           "zerolinecolor": "white",
           "zerolinewidth": 2
          }
         }
        },
        "title": {
         "text": "Musées parisiens par décennie de création (style feutré)"
        }
       }
      }
     },
     "metadata": {},
     "output_type": "display_data"
    }
   ],
   "source": [
    "import pandas as pd\n",
    "import duckdb as ddb\n",
    "import pandas as pd\n",
    "import geopandas as gpd\n",
    "from shapely import wkt\n",
    "import plotly.express as px\n",
    "\n",
    "df['geometry'] = gpd.GeoSeries.from_wkt(df['geom_wkt'])\n",
    "gdf = gpd.GeoDataFrame(df, geometry='geometry', crs='EPSG:4326')\n",
    "\n",
    "gdf['lon'] = gdf.geometry.x\n",
    "gdf['lat'] = gdf.geometry.y\n",
    "\n",
    "gdf['decennie'] = gdf['decennie'].astype(str)\n",
    "\n",
    "color_map = {'2000': '#8B4513',\n",
    "             '2010': '#D2691E',\n",
    "             '2020': '#F4A460'}\n",
    "\n",
    "dataviz = px.scatter_mapbox(\n",
    "    gdf,\n",
    "    lat='lat',\n",
    "    lon='lon',\n",
    "    color='decennie',\n",
    "    color_discrete_map=color_map,\n",
    "    hover_name='nom_officiel_du_musee',\n",
    "    hover_data={'decennie': True, 'lon': False, 'lat': False},\n",
    "    zoom=11,\n",
    "    center={'lat': 48.86, 'lon': 2.35},\n",
    "    mapbox_style='carto-positron',\n",
    "    title='Musées parisiens par décennie de création (style feutré)'\n",
    ")\n",
    "\n",
    "dataviz.update_layout(\n",
    "    margin=dict(l=10, r=10, t=40, b=10),\n",
    "    font=dict(family='Georgia', size=14),\n",
    "    plot_bgcolor='#F5F5DC',\n",
    "    paper_bgcolor='#F5F5DC',\n",
    "    legend=dict(\n",
    "        title='Décennie',\n",
    "        orientation='h',\n",
    "        y=-0.05,\n",
    "        xanchor='center',\n",
    "        x=0.5\n",
    "    )\n",
    ")\n",
    "\n",
    "dataviz.for_each_trace(lambda t: t.update(marker=dict(size=10, opacity=0.8)))\n",
    "dataviz"
   ]
  },
  {
   "cell_type": "markdown",
   "metadata": {},
   "source": [
    "---\n",
    "*Made with ❤️ and with [duckit.fr](https://duckit.fr) - [Ali Hmaou](https://www.linkedin.com/in/ali-hmaou-6b7b73146/)*"
   ]
  },
  {
   "cell_type": "code",
   "execution_count": 5,
   "metadata": {
    "execution": {
     "iopub.execute_input": "2025-08-18T20:24:31.865097Z",
     "iopub.status.busy": "2025-08-18T20:24:31.861911Z",
     "iopub.status.idle": "2025-08-18T20:24:53.713923Z",
     "shell.execute_reply": "2025-08-18T20:24:53.711907Z"
    }
   },
   "outputs": [
    {
     "name": "stdout",
     "output_type": "stream",
     "text": [
      "INFO: Variable 'dataviz' trouvée. Tentative d'exportation...\n",
      "--> Détecté : Plotly. Sauvegarde HTML et PNG.\n",
      "--> Sauvegarde HTML dans : published\\notebooks\\duckit_analysis_20250818_202319.html\n",
      "--> Tentative de sauvegarde PNG directe dans : published\\notebooks\\duckit_analysis_20250818_202319.png\n"
     ]
    },
    {
     "name": "stdout",
     "output_type": "stream",
     "text": [
      "--> Image Plotly sauvegardée avec succès.\n"
     ]
    }
   ],
   "source": [
    "\n",
    "# --- Variables injectées par le script ---\n",
    "FINAL_OBJECT_VARIABLE_NAME = 'dataviz'\n",
    "OUTPUT_IMAGE_NAME = 'published\\\\notebooks\\\\duckit_analysis_20250818_202319.png'\n",
    "OUTPUT_HTML_NAME = 'published\\\\notebooks\\\\duckit_analysis_20250818_202319.html'\n",
    "\n",
    "# ===================================================================\n",
    "# CELLULE INJECTÉE AUTOMATIQUEMENT (VERSION ROBUSTE)\n",
    "# ===================================================================\n",
    "import sys\n",
    "import os\n",
    "# On importe les modules nécessaires pour l'export au cas où\n",
    "try:\n",
    "    from bokeh.io import save as bokeh_save\n",
    "except ImportError:\n",
    "    bokeh_save = None\n",
    "\n",
    "try:\n",
    "    # On s'assure que le dossier de sortie existe\n",
    "    output_dir = os.path.dirname(OUTPUT_IMAGE_NAME)\n",
    "    if output_dir:\n",
    "        os.makedirs(output_dir, exist_ok=True)\n",
    "\n",
    "    # On utilise globals().get() pour une récupération plus sûre\n",
    "    final_object = globals().get(FINAL_OBJECT_VARIABLE_NAME)\n",
    "\n",
    "    if final_object is None:\n",
    "        # On lève une NameError pour être cohérent avec le code original\n",
    "        raise NameError(f\"name '{FINAL_OBJECT_VARIABLE_NAME}' is not defined\")\n",
    "\n",
    "    print(f\"INFO: Variable '{FINAL_OBJECT_VARIABLE_NAME}' trouvée. Tentative d'exportation...\")\n",
    "\n",
    "    object_type = str(type(final_object))\n",
    "\n",
    "    if 'plotly.graph_objs._figure.Figure' in object_type:\n",
    "        print(f\"--> Détecté : Plotly. Sauvegarde HTML et PNG.\")\n",
    "        # 1. Sauvegarde HTML pour l'interactivité\n",
    "        print(f\"--> Sauvegarde HTML dans : {OUTPUT_HTML_NAME}\")\n",
    "        final_object.write_html(OUTPUT_HTML_NAME, include_plotlyjs='cdn')\n",
    "        # 2. Sauvegarde PNG pour l'aperçu statique\n",
    "        try:\n",
    "            print(f\"--> Tentative de sauvegarde PNG directe dans : {OUTPUT_IMAGE_NAME}\")\n",
    "            final_object.write_image(OUTPUT_IMAGE_NAME, scale=3, width=1200, height=800)\n",
    "            print(f\"--> Image Plotly sauvegardée avec succès.\")\n",
    "        except Exception as e:\n",
    "            print(f\"AVERTISSESEMENT: La sauvegarde directe en PNG a échoué (kaleido est-il installé?). L'image statique ne sera pas générée.\", file=sys.stderr)\n",
    "            print(f\"   Erreur: {e}\", file=sys.stderr)\n",
    "    elif 'folium.folium.Map' in object_type:\n",
    "        print(f\"--> Détecté : Folium. Sauvegarde HTML dans : {OUTPUT_HTML_NAME}\")\n",
    "        final_object.save(OUTPUT_HTML_NAME)\n",
    "        # On crée un fichier marqueur pour que le script de post-traitement sache qu'il s'agit de Folium\n",
    "        with open(f\"{OUTPUT_HTML_NAME}.is_folium\", \"w\") as f:\n",
    "            f.write(\"true\")\n",
    "    elif 'altair.vegalite' in object_type and hasattr(final_object, 'save'):\n",
    "        print(f\"--> Détecté : Altair. Sauvegarde HTML dans : {OUTPUT_HTML_NAME}\")\n",
    "        final_object.save(OUTPUT_HTML_NAME)\n",
    "    elif 'bokeh.plotting' in object_type and bokeh_save is not None:\n",
    "        print(f\"--> Détecté : Bokeh. Sauvegarde HTML dans : {OUTPUT_HTML_NAME}\")\n",
    "        bokeh_save(final_object, filename=OUTPUT_HTML_NAME, title=\"\")\n",
    "    elif 'matplotlib.figure.Figure' in object_type:\n",
    "        print(f\"--> Détecté : Matplotlib. Sauvegarde dans : {OUTPUT_IMAGE_NAME}\")\n",
    "        final_object.savefig(OUTPUT_IMAGE_NAME, dpi=300, bbox_inches='tight')\n",
    "    else:\n",
    "        print(f\"AVERTISSEMENT: Type non supporté : {object_type}\", file=sys.stderr)\n",
    "except NameError:\n",
    "    print(f\"AVERTISSEMENT: Aucune variable '{FINAL_OBJECT_VARIABLE_NAME}' trouvée.\", file=sys.stderr)\n",
    "except Exception as e:\n",
    "    print(f\"ERREUR lors de l'exportation : {e}\", file=sys.stderr)\n"
   ]
  }
 ],
 "metadata": {
  "kernelspec": {
   "display_name": "Python 3",
   "language": "python",
   "name": "python3"
  },
  "language_info": {
   "codemirror_mode": {
    "name": "ipython",
    "version": 3
   },
   "file_extension": ".py",
   "mimetype": "text/x-python",
   "name": "python",
   "nbconvert_exporter": "python",
   "pygments_lexer": "ipython3",
   "version": "3.10.11"
  }
 },
 "nbformat": 4,
 "nbformat_minor": 4
}
